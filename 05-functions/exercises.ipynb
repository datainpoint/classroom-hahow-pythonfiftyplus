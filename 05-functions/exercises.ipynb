{
 "cells": [
  {
   "cell_type": "markdown",
   "metadata": {
    "deletable": false,
    "editable": false
   },
   "source": [
    "# Python 資料分析\n",
    "\n",
    "> 重要觀念複習：函數、類別與模組（套件）\n",
    "\n",
    "[數據交點](https://www.datainpoint.com/) | 郭耀仁 <yaojenkuo@datainpoint.com>"
   ]
  },
  {
   "cell_type": "markdown",
   "metadata": {
    "deletable": false,
    "editable": false
   },
   "source": [
    "## 練習題指引\n",
    "\n",
    "- 第一個程式碼儲存格會將可能用得到的模組（套件）以及單元測試 `unittest` 載入。\n",
    "- 如果練習題需要載入檔案，檔案與練習題存放在同個資料夾中，意即我們可以指定工作目錄來載入。\n",
    "- 練習題已經定義好函數或者類別的名稱以及參數名稱，我們只需要寫作主體。\n",
    "- 函數或者類別的 `\"\"\"docstring\"\"\"` 部分會描述測試如何進行。\n",
    "- 觀察 `\"\"\"docstring\"\"\"` 的部分能夠暸解輸入以及預期輸出之間的關係，能幫助我們更暸解題目。\n",
    "- 請在 `### BEGIN SOLUTION` 與 `### END SOLUTION` 這兩個單行註解之間寫作函數或者類別的主體。\n",
    "- 執行測試的方式為點選上方選單的 Kernel -> Restart Kernel And Run All Cells -> Restart。\n",
    "- 可以每寫一題就執行測試，也可以全部寫完再執行測試。\n",
    "- 練習題閒置超過 10 分鐘會自動斷線，這時只要重新點選練習題連結即可重新啟動。"
   ]
  },
  {
   "cell_type": "code",
   "execution_count": 1,
   "metadata": {
    "deletable": false,
    "editable": false
   },
   "outputs": [],
   "source": [
    "import os\n",
    "import json\n",
    "import unittest"
   ]
  },
  {
   "cell_type": "markdown",
   "metadata": {},
   "source": [
    "## 01. Define a function named `collect_divisors(x)` which returns the all positive divisors of x\n",
    "\n",
    "<https://en.wikipedia.org/wiki/Divisor>\n",
    "\n",
    "- Expected inputs：an integer `x`\n",
    "- Expected outputs：a list"
   ]
  },
  {
   "cell_type": "code",
   "execution_count": 2,
   "metadata": {},
   "outputs": [],
   "source": [
    "def collect_divisors(x):\n",
    "    \"\"\"\n",
    "    >>> collect_divisors(1)\n",
    "    [1]\n",
    "    >>> collect_divisors(2)\n",
    "    [1, 2]\n",
    "    >>> collect_divisors(3)\n",
    "    [1, 3]\n",
    "    >>> collect_divisors(4)\n",
    "    [1, 2, 4]\n",
    "    >>> collect_divisors(5)\n",
    "    [1, 5]\n",
    "    \"\"\"\n",
    "    ### BEGIN SOLUTION\n",
    "    \n",
    "    ### END SOLUTION"
   ]
  },
  {
   "cell_type": "markdown",
   "metadata": {},
   "source": [
    "## 02. Define a function named `is_prime(x)` which returns whether x is a prime number or not\n",
    "\n",
    "https://en.wikipedia.org/wiki/Prime_number\n",
    "\n",
    "- Expected inputs：an integer `x`\n",
    "- Expected outputs：a bool"
   ]
  },
  {
   "cell_type": "code",
   "execution_count": 3,
   "metadata": {},
   "outputs": [],
   "source": [
    "def is_prime(x):\n",
    "    \"\"\"\n",
    "    >>> is_prime(1)\n",
    "    False\n",
    "    >>> is_prime(2)\n",
    "    True\n",
    "    >>> is_prime(3)\n",
    "    True\n",
    "    >>> is_prime(4)\n",
    "    False\n",
    "    >>> is_prime(5)\n",
    "    True\n",
    "    \"\"\"\n",
    "    ### BEGIN SOLUTION\n",
    "    \n",
    "    ### END SOLUTION"
   ]
  },
  {
   "cell_type": "markdown",
   "metadata": {},
   "source": [
    "## 03. Define a function named `reverse_vowels(x)` converts the vowels in a word from upper-cased to lower-cased, and lower-cased to upper-cased.\n",
    "\n",
    "PS You may reach out to string's built-in function `x.swapcase()`.\n",
    "\n",
    "<https://docs.python.org/3/library/stdtypes.html#str.swapcase>\n",
    "\n",
    "- Expected inputs：a string `x`\n",
    "- Expected outputs：a string"
   ]
  },
  {
   "cell_type": "code",
   "execution_count": 4,
   "metadata": {},
   "outputs": [],
   "source": [
    "def reverse_vowels(x):\n",
    "    \"\"\"\n",
    "    >>> reverse_vowels('Luke Skywalker')\n",
    "    'LUkE SkywAlkEr'\n",
    "    >>> reverse_vowels('Darth Vadar')\n",
    "    'DArth VAdAr'\n",
    "    >>> reverse_vowels('The Avengers')\n",
    "    'ThE avEngErs'\n",
    "    \"\"\"\n",
    "    ### BEGIN SOLUTION\n",
    "    \n",
    "    ### END SOLUTION"
   ]
  },
  {
   "cell_type": "markdown",
   "metadata": {},
   "source": [
    "## 04. Define a function named `idxmax(x)` which returns the index of the max value of a given list\n",
    "\n",
    "- Expected inputs：a list `x`\n",
    "- Expected outputs：an integer or a list of integers"
   ]
  },
  {
   "cell_type": "code",
   "execution_count": 5,
   "metadata": {},
   "outputs": [],
   "source": [
    "def idxmax(x):\n",
    "    \"\"\"\n",
    "    >>> idxmax([2, 3, 5, 7, 11])\n",
    "    4\n",
    "    >>> idxmax([11, 7, 5, 3, 2])\n",
    "    0\n",
    "    >>> idxmax([5, 3, 2, 11, 7])\n",
    "    3\n",
    "    >>> idxmax([2, 3, 5, 7, 11, 11, 11])\n",
    "    [4, 5, 6]\n",
    "    >>> idxmax([11, 2, 3, 11, 5, 7, 11])\n",
    "    [0, 3, 6]\n",
    "    \"\"\"\n",
    "    ### BEGIN SOLUTION\n",
    "    \n",
    "    ### END SOLUTION"
   ]
  },
  {
   "cell_type": "markdown",
   "metadata": {},
   "source": [
    "## 05. Define a function named `mode(x)` which returns the mode of a given list\n",
    "\n",
    "<https://en.wikipedia.org/wiki/Mode_(statistics)>\n",
    "\n",
    "- Expected inputs：a list `x`\n",
    "- Expected outputs：an integer or a list of integers"
   ]
  },
  {
   "cell_type": "code",
   "execution_count": 6,
   "metadata": {},
   "outputs": [],
   "source": [
    "def mode(x):\n",
    "    \"\"\"\n",
    "    >>> mode([2, 2, 3, 5, 7, 11])\n",
    "    2\n",
    "    >>> mode([2, 3, 3, 5, 7, 11])\n",
    "    3\n",
    "    >>> mode([2, 2, 3, 3, 5, 7, 11])\n",
    "    [2, 3]\n",
    "    >>> mode([2, 2, 3, 3, 5, 7, 7, 7, 11, 11, 11])\n",
    "    [7, 11]\n",
    "    \"\"\"\n",
    "    ### BEGIN SOLUTION\n",
    "    \n",
    "    ### END SOLUTION"
   ]
  },
  {
   "cell_type": "markdown",
   "metadata": {},
   "source": [
    "## 06. Define a function named `filter_positives_from_args(*args)` which takes flexible integers and returns positive ones in a list.\n",
    "\n",
    "- Expected inputs：`*args`\n",
    "- Expected outputs：a list"
   ]
  },
  {
   "cell_type": "code",
   "execution_count": 7,
   "metadata": {},
   "outputs": [],
   "source": [
    "def filter_positives_from_args(*args):\n",
    "    \"\"\"\n",
    "    >>> filter_positives_from_args(-3, -2, -1, 0, 1, 2, 3)\n",
    "    [0, 1, 2, 3]\n",
    "    >>> filter_positives_from_args(-3, -2, -1, 0, 1, 2, 3, '4', '5')\n",
    "    [0, 1, 2, 3]\n",
    "    >>> filter_positives_from_args(-3, -2, -1, False, True, 2, 3, '4', '5')\n",
    "    [False, True, 2, 3]\n",
    "    \"\"\"\n",
    "    ### BEGIN SOLUTION\n",
    "    \n",
    "    ### END SOLUTION"
   ]
  },
  {
   "cell_type": "markdown",
   "metadata": {},
   "source": [
    "## 07. Define a function named `map_squared_on_args(*args)` which takes flexible integers and returns the a `map` object which is able to generate squared numbers among `*args`.\n",
    "\n",
    "- Expected inputs： `*args`\n",
    "- Expected outputs：a `map` object"
   ]
  },
  {
   "cell_type": "code",
   "execution_count": 8,
   "metadata": {},
   "outputs": [],
   "source": [
    "def map_squared_on_args(*args):\n",
    "    \"\"\"\n",
    "    >>> res = map_squared_on_args(0, 1, 2, 3)\n",
    "    >>> type(res)\n",
    "    map\n",
    "    >>> list(res)\n",
    "    [0, 1, 4, 9]\n",
    "    >>> res = map_squared_on_args(-3, -2, -1)\n",
    "    >>> type(res)\n",
    "    map\n",
    "    >>> tuple(res)\n",
    "    (9, 4, 1)\n",
    "    \"\"\"\n",
    "    ### BEGIN SOLUTION\n",
    "    \n",
    "    ### END SOLUTION"
   ]
  },
  {
   "cell_type": "markdown",
   "metadata": {},
   "source": [
    "## 08. Define a function named `filter_even_numbers_from_args(*args)` which takes flexible integers and returns the a `filter` object which is able to generate even numbers among `*args`.\n",
    "\n",
    "- Expected inputs： `*args`\n",
    "- Expected outputs：a `filter` object"
   ]
  },
  {
   "cell_type": "code",
   "execution_count": 9,
   "metadata": {},
   "outputs": [],
   "source": [
    "def filter_even_numbers_from_args(*args):\n",
    "    \"\"\"\n",
    "    >>> res = filter_even_numbers_from_args(0, 1, 2, 3)\n",
    "    >>> type(res)\n",
    "    filter\n",
    "    >>> list(res)\n",
    "    [0, 2]\n",
    "    res = filter_even_numbers_from_args(0, 1, 2, 3, 4, 5, 6)\n",
    "    >>> type(res)\n",
    "    filter\n",
    "    >>> tuple(res)\n",
    "    (0, 2, 4, 6)\n",
    "    \"\"\"\n",
    "    ### BEGIN SOLUTION\n",
    "    \n",
    "    ### END SOLUTION"
   ]
  },
  {
   "cell_type": "markdown",
   "metadata": {},
   "source": [
    "## 09. Define a class named `Aggregator` with a method `summation`.\n",
    "\n",
    "- Expected inputs: a list\n",
    "- Expected outputs：a class `Aggregator`"
   ]
  },
  {
   "cell_type": "code",
   "execution_count": 10,
   "metadata": {},
   "outputs": [],
   "source": [
    "class Aggregator:\n",
    "    \"\"\"\n",
    "    >>> aggregator = Aggregator()\n",
    "    >>> aggregator.summation([5, 5, 6, 6])\n",
    "    22\n",
    "    >>> aggregator.summation([7, 7, 8, 8])\n",
    "    30\n",
    "    \"\"\"\n",
    "    ### BEGIN SOLUTION\n",
    "    \n",
    "    ### END SOLUTION"
   ]
  },
  {
   "cell_type": "markdown",
   "metadata": {},
   "source": [
    "## 10. Define a class named `NewAggregator` inherited from `Aggregator` with two methods `summation` and `product`.\n",
    "\n",
    "- Expected inputs: a list\n",
    "- Expected outputs：a class `Aggregator`"
   ]
  },
  {
   "cell_type": "code",
   "execution_count": 11,
   "metadata": {},
   "outputs": [],
   "source": [
    "class NewAggregator(Aggregator):\n",
    "    \"\"\"\n",
    "    >>> new_aggregator = NewAggregator()\n",
    "    >>> new_aggregator.summation([5, 5, 6, 6])\n",
    "    22\n",
    "    >>> new_aggregator.summation([7, 7, 8, 8])\n",
    "    30\n",
    "    >>> new_aggregator.product([5, 5, 6, 6])\n",
    "    900\n",
    "    >>> new_aggregator.product([7, 7, 8, 8])\n",
    "    3136\n",
    "    \"\"\"\n",
    "    ### BEGIN SOLUTION\n",
    "    \n",
    "    ### END SOLUTION"
   ]
  },
  {
   "cell_type": "markdown",
   "metadata": {
    "deletable": false,
    "editable": false
   },
   "source": [
    "## 執行測試！\n",
    "\n",
    "Kernel -> Restart Kernel And Run All Cells -> Restart"
   ]
  },
  {
   "cell_type": "code",
   "execution_count": 12,
   "metadata": {
    "deletable": false
   },
   "outputs": [
    {
     "name": "stderr",
     "output_type": "stream",
     "text": [
      "test_01_collect_divisors (__main__.TestFunctionsClassesAndModules) ... FAIL\n",
      "test_02_is_prime (__main__.TestFunctionsClassesAndModules) ... FAIL\n",
      "test_03_reverse_vowels (__main__.TestFunctionsClassesAndModules) ... FAIL\n",
      "test_04_idxmax (__main__.TestFunctionsClassesAndModules) ... FAIL\n",
      "test_05_mode (__main__.TestFunctionsClassesAndModules) ... FAIL\n",
      "test_06_filter_positives_from_args (__main__.TestFunctionsClassesAndModules) ... FAIL\n",
      "test_07_map_squared_on_args (__main__.TestFunctionsClassesAndModules) ... FAIL\n",
      "test_08_filter_even_numbers_from_args (__main__.TestFunctionsClassesAndModules) ... FAIL\n",
      "test_09_aggregator (__main__.TestFunctionsClassesAndModules) ... ERROR\n",
      "test_10_new_aggregator (__main__.TestFunctionsClassesAndModules) ... ERROR\n",
      "\n",
      "======================================================================\n",
      "ERROR: test_09_aggregator (__main__.TestFunctionsClassesAndModules)\n",
      "----------------------------------------------------------------------\n",
      "Traceback (most recent call last):\n",
      "  File \"<ipython-input-12-1e15854f2016>\", line 55, in test_09_aggregator\n",
      "    self.assertEqual(aggregator.summation([5, 5, 6, 6]), 22)\n",
      "AttributeError: 'Aggregator' object has no attribute 'summation'\n",
      "\n",
      "======================================================================\n",
      "ERROR: test_10_new_aggregator (__main__.TestFunctionsClassesAndModules)\n",
      "----------------------------------------------------------------------\n",
      "Traceback (most recent call last):\n",
      "  File \"<ipython-input-12-1e15854f2016>\", line 62, in test_10_new_aggregator\n",
      "    self.assertEqual(new_aggregator.summation([5, 5, 6, 6]), 22)\n",
      "AttributeError: 'NewAggregator' object has no attribute 'summation'\n",
      "\n",
      "======================================================================\n",
      "FAIL: test_01_collect_divisors (__main__.TestFunctionsClassesAndModules)\n",
      "----------------------------------------------------------------------\n",
      "Traceback (most recent call last):\n",
      "  File \"<ipython-input-12-1e15854f2016>\", line 3, in test_01_collect_divisors\n",
      "    self.assertEqual(collect_divisors(1), [1])\n",
      "AssertionError: None != [1]\n",
      "\n",
      "======================================================================\n",
      "FAIL: test_02_is_prime (__main__.TestFunctionsClassesAndModules)\n",
      "----------------------------------------------------------------------\n",
      "Traceback (most recent call last):\n",
      "  File \"<ipython-input-12-1e15854f2016>\", line 10, in test_02_is_prime\n",
      "    self.assertTrue(is_prime(2))\n",
      "AssertionError: None is not true\n",
      "\n",
      "======================================================================\n",
      "FAIL: test_03_reverse_vowels (__main__.TestFunctionsClassesAndModules)\n",
      "----------------------------------------------------------------------\n",
      "Traceback (most recent call last):\n",
      "  File \"<ipython-input-12-1e15854f2016>\", line 15, in test_03_reverse_vowels\n",
      "    self.assertEqual(reverse_vowels('Luke Skywalker'), 'LUkE SkywAlkEr')\n",
      "AssertionError: None != 'LUkE SkywAlkEr'\n",
      "\n",
      "======================================================================\n",
      "FAIL: test_04_idxmax (__main__.TestFunctionsClassesAndModules)\n",
      "----------------------------------------------------------------------\n",
      "Traceback (most recent call last):\n",
      "  File \"<ipython-input-12-1e15854f2016>\", line 19, in test_04_idxmax\n",
      "    self.assertEqual(idxmax([2, 3, 5, 7, 11]), 4)\n",
      "AssertionError: None != 4\n",
      "\n",
      "======================================================================\n",
      "FAIL: test_05_mode (__main__.TestFunctionsClassesAndModules)\n",
      "----------------------------------------------------------------------\n",
      "Traceback (most recent call last):\n",
      "  File \"<ipython-input-12-1e15854f2016>\", line 25, in test_05_mode\n",
      "    self.assertEqual(mode([2, 2, 3, 5, 7, 11]), 2)\n",
      "AssertionError: None != 2\n",
      "\n",
      "======================================================================\n",
      "FAIL: test_06_filter_positives_from_args (__main__.TestFunctionsClassesAndModules)\n",
      "----------------------------------------------------------------------\n",
      "Traceback (most recent call last):\n",
      "  File \"<ipython-input-12-1e15854f2016>\", line 30, in test_06_filter_positives_from_args\n",
      "    self.assertEqual(filter_positives_from_args(-3, -2, -1, 0, 1, 2, 3), [0, 1, 2, 3])\n",
      "AssertionError: None != [0, 1, 2, 3]\n",
      "\n",
      "======================================================================\n",
      "FAIL: test_07_map_squared_on_args (__main__.TestFunctionsClassesAndModules)\n",
      "----------------------------------------------------------------------\n",
      "Traceback (most recent call last):\n",
      "  File \"<ipython-input-12-1e15854f2016>\", line 37, in test_07_map_squared_on_args\n",
      "    self.assertIsInstance(res, map)\n",
      "AssertionError: None is not an instance of <class 'map'>\n",
      "\n",
      "======================================================================\n",
      "FAIL: test_08_filter_even_numbers_from_args (__main__.TestFunctionsClassesAndModules)\n",
      "----------------------------------------------------------------------\n",
      "Traceback (most recent call last):\n",
      "  File \"<ipython-input-12-1e15854f2016>\", line 47, in test_08_filter_even_numbers_from_args\n",
      "    self.assertIsInstance(res, filter)\n",
      "AssertionError: None is not an instance of <class 'filter'>\n",
      "\n",
      "----------------------------------------------------------------------\n",
      "Ran 10 tests in 0.033s\n",
      "\n",
      "FAILED (failures=8, errors=2)\n"
     ]
    }
   ],
   "source": [
    "class TestFunctionsClassesAndModules(unittest.TestCase):\n",
    "    def test_01_collect_divisors(self):\n",
    "        self.assertEqual(collect_divisors(1), [1])\n",
    "        self.assertEqual(collect_divisors(2), [1, 2])\n",
    "        self.assertEqual(collect_divisors(3), [1, 3])\n",
    "        self.assertEqual(collect_divisors(4), [1, 2, 4])\n",
    "        self.assertEqual(collect_divisors(5), [1, 5])\n",
    "    def test_02_is_prime(self):\n",
    "        self.assertFalse(is_prime(1))\n",
    "        self.assertTrue(is_prime(2))\n",
    "        self.assertTrue(is_prime(3))\n",
    "        self.assertFalse(is_prime(4))\n",
    "        self.assertTrue(is_prime(5))\n",
    "    def test_03_reverse_vowels(self):\n",
    "        self.assertEqual(reverse_vowels('Luke Skywalker'), 'LUkE SkywAlkEr')\n",
    "        self.assertEqual(reverse_vowels('The Avengers'), 'ThE avEngErs')\n",
    "        self.assertEqual(reverse_vowels('Darth Vadar'), 'DArth VAdAr')\n",
    "    def test_04_idxmax(self):\n",
    "        self.assertEqual(idxmax([2, 3, 5, 7, 11]), 4)\n",
    "        self.assertEqual(idxmax([11, 7, 5, 3, 2]), 0)\n",
    "        self.assertEqual(idxmax([5, 3, 2, 11, 7]), 3)\n",
    "        self.assertEqual(idxmax([2, 3, 5, 7, 11, 11, 11]), [4, 5, 6])\n",
    "        self.assertEqual(idxmax([11, 2, 3, 11, 5, 7, 11]), [0, 3, 6])\n",
    "    def test_05_mode(self):\n",
    "        self.assertEqual(mode([2, 2, 3, 5, 7, 11]), 2)\n",
    "        self.assertEqual(mode([2, 3, 3, 5, 7, 11]), 3)\n",
    "        self.assertEqual(mode([2, 2, 3, 3, 5, 7, 11]), [2, 3])\n",
    "        self.assertEqual(mode([2, 2, 3, 3, 5, 7, 7, 7, 11, 11, 11]), [7, 11])\n",
    "    def test_06_filter_positives_from_args(self):\n",
    "        self.assertEqual(filter_positives_from_args(-3, -2, -1, 0, 1, 2, 3), [0, 1, 2, 3])\n",
    "        self.assertEqual(filter_positives_from_args(-3, -2, -1, 0, 1, 2, 3, '4', '5'), [0, 1, 2, 3])\n",
    "        self.assertEqual(filter_positives_from_args(-3, -2, -1, False, True, 2, 3, '4', '5'), [False, True, 2, 3])\n",
    "        self.assertEqual(filter_positives_from_args(-3, -2, -1, 'False', 'True', 2, 3, '4', '5'), [2, 3])\n",
    "        self.assertEqual(filter_positives_from_args(-3, -2, -1, 0, 1, False, True, 2, 3), [0, 1, False, True, 2, 3])\n",
    "    def test_07_map_squared_on_args(self):\n",
    "        res = map_squared_on_args(0, 1, 2, 3)\n",
    "        self.assertIsInstance(res, map)\n",
    "        self.assertEqual(list(res), [0, 1, 4, 9])\n",
    "        res = map_squared_on_args(-3, -2, -1)\n",
    "        self.assertIsInstance(res, map)\n",
    "        self.assertEqual(tuple(res), (9, 4, 1))\n",
    "        res = map_squared_on_args(-3, -2, -1, 0, 1, 2, 3)\n",
    "        self.assertIsInstance(res, map)\n",
    "        self.assertEqual(list(res), [9, 4, 1, 0, 1, 4, 9])\n",
    "    def test_08_filter_even_numbers_from_args(self):\n",
    "        res = filter_even_numbers_from_args(0, 1, 2, 3)\n",
    "        self.assertIsInstance(res, filter)\n",
    "        self.assertEqual(list(res), [0, 2])\n",
    "        res = filter_even_numbers_from_args(0, 1, 2, 3, 4, 5, 6)\n",
    "        self.assertIsInstance(res, filter)\n",
    "        self.assertEqual(tuple(res), (0, 2, 4, 6))\n",
    "    def test_09_aggregator(self):\n",
    "        aggregator = Aggregator()\n",
    "        self.assertIsInstance(aggregator, Aggregator)\n",
    "        self.assertEqual(aggregator.summation([5, 5, 6, 6]), 22)\n",
    "        self.assertEqual(aggregator.summation([7, 7, 8, 8]), 30)\n",
    "        self.assertEqual(aggregator.summation([-5, 5, -6, 6]), 0)\n",
    "        self.assertEqual(aggregator.summation([-7, 7, -8, 8]), 0)\n",
    "    def test_10_new_aggregator(self):\n",
    "        new_aggregator = NewAggregator()\n",
    "        self.assertIsInstance(new_aggregator, NewAggregator)\n",
    "        self.assertEqual(new_aggregator.summation([5, 5, 6, 6]), 22)\n",
    "        self.assertEqual(new_aggregator.summation([7, 7, 8, 8]), 30)\n",
    "        self.assertEqual(new_aggregator.summation([-5, 5, -6, 6]), 0)\n",
    "        self.assertEqual(new_aggregator.summation([-7, 7, -8, 8]), 0)\n",
    "        self.assertEqual(new_aggregator.product([5, 5, 6, 6]), 900)\n",
    "        self.assertEqual(new_aggregator.product([7, 7, 8, 8]), 3136)\n",
    "        self.assertEqual(new_aggregator.product([-5, 5, -6, 6]), 900)\n",
    "        self.assertEqual(new_aggregator.product([-7, 7, -8, 8]), 3136)\n",
    "\n",
    "suite = unittest.TestLoader().loadTestsFromTestCase(TestFunctionsClassesAndModules)\n",
    "runner = unittest.TextTestRunner(verbosity=2)\n",
    "test_results = runner.run(suite)\n",
    "number_of_failures = len(test_results.failures)\n",
    "number_of_errors = len(test_results.errors)\n",
    "number_of_test_runs = test_results.testsRun\n",
    "number_of_successes = number_of_test_runs - (number_of_failures + number_of_errors)\n",
    "cwd = os.getcwd()\n",
    "folder_name = cwd.split(\"/\")[-1]\n",
    "with open(\"../exercise_index.json\", \"r\") as content:\n",
    "    exercise_index = json.load(content)\n",
    "chapter_name = exercise_index[folder_name]"
   ]
  },
  {
   "cell_type": "code",
   "execution_count": 13,
   "metadata": {
    "deletable": false
   },
   "outputs": [
    {
     "name": "stdout",
     "output_type": "stream",
     "text": [
      "你在「重要觀念複習：函數、類別與模組（套件）」章節中的 10 道 Python 練習答對了 0 題。\n"
     ]
    }
   ],
   "source": [
    "print(\"你在「{}」章節中的 {} 道 Python 練習答對了 {} 題。\".format(chapter_name, number_of_test_runs, number_of_successes))"
   ]
  }
 ],
 "metadata": {
  "kernelspec": {
   "display_name": "Python 3",
   "language": "python",
   "name": "python3"
  },
  "language_info": {
   "codemirror_mode": {
    "name": "ipython",
    "version": 3
   },
   "file_extension": ".py",
   "mimetype": "text/x-python",
   "name": "python",
   "nbconvert_exporter": "python",
   "pygments_lexer": "ipython3",
   "version": "3.8.5"
  }
 },
 "nbformat": 4,
 "nbformat_minor": 4
}
