{
 "cells": [
  {
   "cell_type": "markdown",
   "id": "inappropriate-shock",
   "metadata": {
    "slideshow": {
     "slide_type": "slide"
    }
   },
   "source": [
    "# Python 的 50+ 練習：資料科學學習手冊\n",
    "\n",
    "> 使用函數組織程式碼\n",
    "\n",
    "[數據交點](https://www.datainpoint.com/) | 郭耀仁 <yaojenkuo@datainpoint.com>"
   ]
  },
  {
   "cell_type": "markdown",
   "id": "current-warner",
   "metadata": {
    "slideshow": {
     "slide_type": "subslide"
    }
   },
   "source": [
    "## 這個章節會登場的保留字\n",
    "\n",
    "- `def` 保留字。\n",
    "- `return` 保留字。\n",
    "- `from` 保留字。\n",
    "- `import` 保留字。"
   ]
  },
  {
   "cell_type": "markdown",
   "id": "supreme-county",
   "metadata": {
    "slideshow": {
     "slide_type": "slide"
    }
   },
   "source": [
    "## 組織程式碼的機制"
   ]
  },
  {
   "cell_type": "markdown",
   "id": "korean-fellow",
   "metadata": {
    "slideshow": {
     "slide_type": "subslide"
    }
   },
   "source": [
    "## 什麼是組織程式碼\n",
    "\n",
    "面對不同目的以及應用場景，我們會有組織程式碼的需求，簡單來說，是希望程式碼可以簡潔且有效率地完成任務。"
   ]
  },
  {
   "cell_type": "markdown",
   "id": "beginning-graph",
   "metadata": {
    "slideshow": {
     "slide_type": "subslide"
    }
   },
   "source": [
    "## 組織程式碼希望達到的目標最主要有兩個：\n",
    "\n",
    "1. 提高程式碼的「可利用性」。\n",
    "2. 減少程式碼的「重複性」。"
   ]
  },
  {
   "cell_type": "markdown",
   "id": "timely-thinking",
   "metadata": {
    "slideshow": {
     "slide_type": "subslide"
    }
   },
   "source": [
    "## Python 提供三種機制供使用者組織程式碼\n",
    "\n",
    "視應用範疇由小到大依序為：\n",
    "\n",
    "1. 函數（Function）。\n",
    "2. 類別（Class）。\n",
    "3. 模組（Module）。"
   ]
  },
  {
   "cell_type": "markdown",
   "id": "banner-frederick",
   "metadata": {
    "slideshow": {
     "slide_type": "subslide"
    }
   },
   "source": [
    "## 如何理解程式碼組織機制的層次\n",
    "\n",
    "- 數行程式碼可以組織為一個函數。\n",
    "- 數個函數可以組織為一個類別。\n",
    "- 數個函數或類別可以組織為一個模組。\n",
    "- 數個模組可以組織為一個功能更多的模組。"
   ]
  },
  {
   "cell_type": "markdown",
   "id": "expanded-roots",
   "metadata": {
    "slideshow": {
     "slide_type": "subslide"
    }
   },
   "source": [
    "## 程式碼，組織！\n",
    "\n",
    "![](https://media.giphy.com/media/LOFT5Jd31ON1b5kLtP/giphy.gif)\n",
    "\n",
    "來源：<https://gph.is/g/4bWWoxv>"
   ]
  },
  {
   "cell_type": "markdown",
   "id": "automatic-norman",
   "metadata": {
    "slideshow": {
     "slide_type": "slide"
    }
   },
   "source": [
    "## 自行定義函數"
   ]
  },
  {
   "cell_type": "markdown",
   "id": "concerned-jefferson",
   "metadata": {
    "slideshow": {
     "slide_type": "subslide"
    }
   },
   "source": [
    "## 什麼是函數\n",
    "\n",
    "一段被賦予名稱的程式碼，能夠完成某一個文字處理或者數值計算任務，在使用函數之前，必須先確定這個函數在執行的環境中已經被定義妥善。"
   ]
  },
  {
   "cell_type": "markdown",
   "id": "determined-level",
   "metadata": {
    "slideshow": {
     "slide_type": "subslide"
    }
   },
   "source": [
    "## 函數有四個來源\n",
    "\n",
    "1. 來自內建函數。\n",
    "2. 來自標準模組。\n",
    "3. 來自第三方模組。\n",
    "4. **來自使用者的定義**。"
   ]
  },
  {
   "cell_type": "markdown",
   "id": "therapeutic-toolbox",
   "metadata": {
    "slideshow": {
     "slide_type": "subslide"
    }
   },
   "source": [
    "## 目前還沒有載入標準/第三方模組函數的需求\n",
    "\n",
    "之後在「使用模組包裝函數與類別」章節會說明。"
   ]
  },
  {
   "cell_type": "markdown",
   "id": "micro-martial",
   "metadata": {
    "slideshow": {
     "slide_type": "subslide"
    }
   },
   "source": [
    "## 自行定義函數：來自使用者的定義"
   ]
  },
  {
   "cell_type": "code",
   "execution_count": 1,
   "id": "olive-poverty",
   "metadata": {},
   "outputs": [
    {
     "name": "stdout",
     "output_type": "stream",
     "text": [
      "125\n"
     ]
    }
   ],
   "source": [
    "def power(x, n):\n",
    "    out = x**n\n",
    "    return out\n",
    "\n",
    "try:\n",
    "    print(power(5, 3))\n",
    "except NameError as error_message:\n",
    "    print(error_message)"
   ]
  },
  {
   "cell_type": "markdown",
   "id": "disturbed-piano",
   "metadata": {
    "slideshow": {
     "slide_type": "subslide"
    }
   },
   "source": [
    "## 如何自行定義函數\n",
    "\n",
    "- `def` 保留字用來定義函數的名稱。\n",
    "- 縮排部分稱為程式區塊（Code block），是函數的主體，也是練習題要學員運用預期輸入與參數來完成的部分。\n",
    "- 不要忘記把函數的預期輸出寫在 `return` 保留字後。\n",
    "- 函數的類別提示（Typing）並不是必要的，但它能幫助學員更快理解練習題。"
   ]
  },
  {
   "cell_type": "markdown",
   "id": "cloudy-entry",
   "metadata": {
    "slideshow": {
     "slide_type": "subslide"
    }
   },
   "source": [
    "## 自行定義函數的結構\n",
    "\n",
    "```python\n",
    "def function_name(INPUTS: TYPE, ARGUMENTS: TYPE) -> TYPE:\n",
    "    ### BEGIN SOLUTION\n",
    "    OUTPUTS = INPUTS (+-*/...) ARGUMENTS\n",
    "    return OUTPUTS\n",
    "    ### END SOLUTION\n",
    "```"
   ]
  },
  {
   "cell_type": "markdown",
   "id": "abandoned-nevada",
   "metadata": {
    "slideshow": {
     "slide_type": "subslide"
    }
   },
   "source": [
    "## 利用練習題大量地自行定義函數，學會程序化程式設計（Procedural programming）\n",
    "\n",
    "把即將要執行的程式碼組織為函數，並依序使用這些函數來完成任務。\n",
    "\n",
    "```python\n",
    "def function_one():\n",
    "    ...\n",
    "    return ...\n",
    "    \n",
    "def function_two():\n",
    "    ...\n",
    "    return ...\n",
    "\n",
    "function_one()\n",
    "function_two()\n",
    "```"
   ]
  },
  {
   "cell_type": "markdown",
   "id": "clinical-strengthening",
   "metadata": {
    "slideshow": {
     "slide_type": "subslide"
    }
   },
   "source": [
    "## 定義與使用函數的差別\n",
    "\n",
    "- 完成定義函數以後，還需要使用函數才會將引數傳入運算。\n",
    "- 定義函數的當下只有與語法錯誤相似的錯誤（例如縮排錯誤）會發起例外。\n",
    "- 如果是執行錯誤，在使用函數時才會發起。"
   ]
  },
  {
   "cell_type": "markdown",
   "id": "golden-leonard",
   "metadata": {
    "slideshow": {
     "slide_type": "subslide"
    }
   },
   "source": [
    "## 透過 [pythontutor.com](https://pythontutor.com/visualize.html#code=def%20power%28x,%20n%29%3A%0A%20%20%20%20out%20%3D%20x**n%0A%20%20%20%20return%20out%0A%0Apower%285,%203%29&cumulative=false&curInstr=0&heapPrimitives=nevernest&mode=display&origin=opt-frontend.js&py=3&rawInputLstJSON=%5B%5D&textReferences=false) 觀察"
   ]
  },
  {
   "cell_type": "code",
   "execution_count": 2,
   "id": "jewish-damages",
   "metadata": {
    "slideshow": {
     "slide_type": "-"
    }
   },
   "outputs": [
    {
     "data": {
      "text/plain": [
       "125"
      ]
     },
     "execution_count": 2,
     "metadata": {},
     "output_type": "execute_result"
    }
   ],
   "source": [
    "def power(x, n):\n",
    "    out = x**n\n",
    "    return out\n",
    "\n",
    "power(5, 3)\n",
    "#power(\"5\", 3)"
   ]
  },
  {
   "cell_type": "markdown",
   "id": "boxed-mobility",
   "metadata": {
    "slideshow": {
     "slide_type": "slide"
    }
   },
   "source": [
    "## 區隔物件有效性的作用域"
   ]
  },
  {
   "cell_type": "markdown",
   "id": "resident-finland",
   "metadata": {
    "slideshow": {
     "slide_type": "subslide"
    }
   },
   "source": [
    "## 什麼是作用域\n",
    "\n",
    "> 作用域是物件名稱與物件實例參照保持有效的程式碼。\n",
    "\n",
    "來源：<https://en.wikipedia.org/wiki/Scope_(computer_science)>"
   ]
  },
  {
   "cell_type": "markdown",
   "id": "undefined-display",
   "metadata": {
    "slideshow": {
     "slide_type": "subslide"
    }
   },
   "source": [
    "## 當自行定義函數出現在程式中，物件的作用域就會一分為二\n",
    "\n",
    "1. 區域物件（Local objects）。\n",
    "2. 全域物件（Global objects）。"
   ]
  },
  {
   "cell_type": "markdown",
   "id": "usual-component",
   "metadata": {
    "slideshow": {
     "slide_type": "subslide"
    }
   },
   "source": [
    "## 區域物件僅在附屬於該函數的程式區塊中才有效\n",
    "\n",
    "- 函數的輸入與參數物件。\n",
    "- 在函數的程式區塊中建立的物件。"
   ]
  },
  {
   "cell_type": "code",
   "execution_count": 3,
   "id": "amateur-buyer",
   "metadata": {
    "slideshow": {
     "slide_type": "-"
    }
   },
   "outputs": [
    {
     "name": "stdout",
     "output_type": "stream",
     "text": [
      "-5\n",
      "3\n",
      "-125\n"
     ]
    }
   ],
   "source": [
    "def power(local_x, local_n):\n",
    "    local_out = local_x**local_n\n",
    "    print(local_x)   # effective\n",
    "    print(local_n)   # effective\n",
    "    print(local_out) # effective\n",
    "\n",
    "power(-5, 3)"
   ]
  },
  {
   "cell_type": "code",
   "execution_count": 4,
   "id": "spanish-heating",
   "metadata": {
    "slideshow": {
     "slide_type": "subslide"
    }
   },
   "outputs": [
    {
     "name": "stdout",
     "output_type": "stream",
     "text": [
      "name 'local_out' is not defined\n"
     ]
    }
   ],
   "source": [
    "try:\n",
    "    #print(local_x)   # non-effective\n",
    "    #print(local_n)   # non-effective\n",
    "    print(local_out) # non-effective\n",
    "except NameError as error_message:\n",
    "    print(error_message)"
   ]
  },
  {
   "cell_type": "markdown",
   "id": "expressed-province",
   "metadata": {
    "slideshow": {
     "slide_type": "subslide"
    }
   },
   "source": [
    "## 其他函數的區域物件也無效"
   ]
  },
  {
   "cell_type": "code",
   "execution_count": 5,
   "id": "contained-planning",
   "metadata": {
    "slideshow": {
     "slide_type": "-"
    }
   },
   "outputs": [
    {
     "name": "stdout",
     "output_type": "stream",
     "text": [
      "name 'local_x' is not defined\n"
     ]
    }
   ],
   "source": [
    "def absolute():\n",
    "    if local_x < 0: # non-effective\n",
    "        return -local_x\n",
    "    else:\n",
    "        return local_x\n",
    "\n",
    "try:\n",
    "    absolute()\n",
    "except NameError as error_message:\n",
    "    print(error_message)"
   ]
  },
  {
   "cell_type": "markdown",
   "id": "hydraulic-forestry",
   "metadata": {
    "slideshow": {
     "slide_type": "subslide"
    }
   },
   "source": [
    "## 不是在函數的程式區塊中建立的是全域物件，在任何地方都有效\n",
    "\n",
    "- 不附屬於函數的物件。\n",
    "- 定義妥善的函數。"
   ]
  },
  {
   "cell_type": "code",
   "execution_count": 6,
   "id": "champion-brave",
   "metadata": {
    "slideshow": {
     "slide_type": "subslide"
    }
   },
   "outputs": [
    {
     "name": "stdout",
     "output_type": "stream",
     "text": [
      "-125\n",
      "5\n"
     ]
    }
   ],
   "source": [
    "def power():\n",
    "    return global_out\n",
    "def absolute():\n",
    "    if global_x < 0:\n",
    "        return -global_x\n",
    "    else:\n",
    "        return global_x\n",
    "\n",
    "global_x = -5\n",
    "global_n = 3\n",
    "global_out = global_x**global_n\n",
    "print(power())\n",
    "print(absolute())"
   ]
  },
  {
   "cell_type": "markdown",
   "id": "pending-reviewer",
   "metadata": {
    "slideshow": {
     "slide_type": "subslide"
    }
   },
   "source": [
    "## 物件命名的參照區域物件優先於全域物件\n",
    "\n",
    "- 乍看之下在函數的程式區塊中使用全域物件很方便，但這樣的做法並不被推薦。\n",
    "- 好的做法是透過函數所設計的參數將全域物件傳入。"
   ]
  },
  {
   "cell_type": "markdown",
   "id": "verbal-mountain",
   "metadata": {
    "slideshow": {
     "slide_type": "subslide"
    }
   },
   "source": [
    "## 不推薦直接使用全域物件的原因\n",
    "\n",
    "- 如果區域以及全域存在相同的物件命名，函數會優先參照區域物件。\n",
    "- 避免物件命名的混淆。"
   ]
  },
  {
   "cell_type": "code",
   "execution_count": 7,
   "id": "encouraging-treasury",
   "metadata": {
    "slideshow": {
     "slide_type": "subslide"
    }
   },
   "outputs": [
    {
     "name": "stdout",
     "output_type": "stream",
     "text": [
      "2\n",
      "4\n",
      "16\n"
     ]
    }
   ],
   "source": [
    "def power(x, n):\n",
    "    out = x**n\n",
    "    print(x)\n",
    "    print(n)\n",
    "    print(out)\n",
    "\n",
    "x = 2\n",
    "n = 4\n",
    "out = x**n\n",
    "print(x)     # global x\n",
    "print(n)     # global n\n",
    "print(out)   # global out"
   ]
  },
  {
   "cell_type": "code",
   "execution_count": 8,
   "id": "happy-producer",
   "metadata": {
    "slideshow": {
     "slide_type": "-"
    }
   },
   "outputs": [
    {
     "name": "stdout",
     "output_type": "stream",
     "text": [
      "-5\n",
      "3\n",
      "-125\n"
     ]
    }
   ],
   "source": [
    "power(-5, 3) # local x, n, out"
   ]
  },
  {
   "cell_type": "markdown",
   "id": "digital-northwest",
   "metadata": {
    "slideshow": {
     "slide_type": "subslide"
    }
   },
   "source": [
    "## 定義妥善的函數對其他的函數而言就像一個全域的內建函數\n",
    "\n",
    "- 可以在自行定義函數的過程中使用其他定義妥善的函數。\n",
    "- 讓函數彼此分工，不需要把所有的運算都集中在一個函數中完成。\n",
    "- 減少重複的程式碼。\n",
    "\n",
    "```python\n",
    "def function_one():\n",
    "    ...\n",
    "    return ...\n",
    "    \n",
    "def function_two():\n",
    "    ...\n",
    "    function_one()\n",
    "    ...\n",
    "    return ...\n",
    "```"
   ]
  },
  {
   "cell_type": "markdown",
   "id": "pregnant-fusion",
   "metadata": {
    "slideshow": {
     "slide_type": "subslide"
    }
   },
   "source": [
    "## 例如定義「計算中位數」函數時可以使用「取出中位元素」函數"
   ]
  },
  {
   "cell_type": "code",
   "execution_count": 9,
   "id": "regular-promise",
   "metadata": {},
   "outputs": [
    {
     "name": "stdout",
     "output_type": "stream",
     "text": [
      "6\n",
      "4.5\n"
     ]
    }
   ],
   "source": [
    "def retrieve_middle_elements(x):\n",
    "    length = len(x)\n",
    "    middle_index = length // 2\n",
    "    if length % 2 == 1:\n",
    "        return x[middle_index]\n",
    "    else:\n",
    "        return x[middle_index - 1], x[middle_index]\n",
    "def calculate_median(x):\n",
    "    middle_elements = retrieve_middle_elements(x) # use retrieve_middle_elements() to get middle elements\n",
    "    if type(middle_elements) == tuple:\n",
    "        return sum(middle_elements) / 2\n",
    "    else:\n",
    "        return middle_elements\n",
    "\n",
    "print(calculate_median([9, 8, 3, 6, 7, 3, 1]))\n",
    "print(calculate_median([1, 3, 2, 5, 4, 9, 8, 6]))"
   ]
  },
  {
   "cell_type": "markdown",
   "id": "infinite-ranch",
   "metadata": {
    "slideshow": {
     "slide_type": "subslide"
    }
   },
   "source": [
    "## 例如定義「前 100 個 Fizz buzz」函數時可以使用「Fizz buzz」函數"
   ]
  },
  {
   "cell_type": "code",
   "execution_count": 10,
   "id": "sapphire-figure",
   "metadata": {},
   "outputs": [
    {
     "name": "stdout",
     "output_type": "stream",
     "text": [
      "[1, 2, 'Fizz', 4, 'Buzz', 'Fizz', 7, 8, 'Fizz', 'Buzz', 11, 'Fizz', 13, 14, 'Fizz Buzz', 16, 17, 'Fizz', 19, 'Buzz', 'Fizz', 22, 23, 'Fizz', 'Buzz', 26, 'Fizz', 28, 29, 'Fizz Buzz', 31, 32, 'Fizz', 34, 'Buzz', 'Fizz', 37, 38, 'Fizz', 'Buzz', 41, 'Fizz', 43, 44, 'Fizz Buzz', 46, 47, 'Fizz', 49, 'Buzz', 'Fizz', 52, 53, 'Fizz', 'Buzz', 56, 'Fizz', 58, 59, 'Fizz Buzz', 61, 62, 'Fizz', 64, 'Buzz', 'Fizz', 67, 68, 'Fizz', 'Buzz', 71, 'Fizz', 73, 74, 'Fizz Buzz', 76, 77, 'Fizz', 79, 'Buzz', 'Fizz', 82, 83, 'Fizz', 'Buzz', 86, 'Fizz', 88, 89, 'Fizz Buzz', 91, 92, 'Fizz', 94, 'Buzz', 'Fizz', 97, 98, 'Fizz', 'Buzz']\n"
     ]
    }
   ],
   "source": [
    "def fizz_buzz(x):\n",
    "    if x % 15 == 0:\n",
    "        return \"Fizz Buzz\"\n",
    "    elif x % 3 == 0:\n",
    "        return \"Fizz\"\n",
    "    elif x % 5 == 0:\n",
    "        return \"Buzz\"\n",
    "    else:\n",
    "        return x\n",
    "def create_first_100_fizz_buzz():\n",
    "    fizz_buzz_list = list()\n",
    "    for integer in range(1, 101):\n",
    "        fizz_buzz_list.append(fizz_buzz(integer)) # use fizz_buzz() to get fizz buzz element\n",
    "    return fizz_buzz_list\n",
    "\n",
    "print(create_first_100_fizz_buzz())"
   ]
  },
  {
   "cell_type": "markdown",
   "id": "featured-fisher",
   "metadata": {
    "slideshow": {
     "slide_type": "slide"
    }
   },
   "source": [
    "## 輸入與輸出的對應關係"
   ]
  },
  {
   "cell_type": "markdown",
   "id": "amended-duplicate",
   "metadata": {
    "slideshow": {
     "slide_type": "subslide"
    }
   },
   "source": [
    "## 自行定義函數很重要的任務是釐清「預期輸入」與「預期輸出」的對應關係\n",
    "\n",
    "1. 一個輸入 vs. 一個輸出。\n",
    "2. 一個輸入 vs. 多個輸出。\n",
    "3. 多個輸入 vs. 一個輸出。\n",
    "4. 多個輸入 vs. 多個輸出。"
   ]
  },
  {
   "cell_type": "markdown",
   "id": "loaded-elder",
   "metadata": {
    "slideshow": {
     "slide_type": "subslide"
    }
   },
   "source": [
    "## 「一個輸入」或者「一個輸出」的對應關係單純且容易理解\n",
    "\n",
    "- 多個輸出。\n",
    "- 多個輸入。"
   ]
  },
  {
   "cell_type": "markdown",
   "id": "realistic-manor",
   "metadata": {
    "slideshow": {
     "slide_type": "subslide"
    }
   },
   "source": [
    "## 以資料結構類別處理函數的「多個輸出」\n",
    "\n",
    "- 預設以 `tuple` 資料結構類別應對多個輸出。\n",
    "- 可以自行調整偏好的資料結構類別。"
   ]
  },
  {
   "cell_type": "code",
   "execution_count": 11,
   "id": "viral-determination",
   "metadata": {
    "slideshow": {
     "slide_type": "subslide"
    }
   },
   "outputs": [
    {
     "name": "stdout",
     "output_type": "stream",
     "text": [
      "('P', 'n')\n",
      "<class 'tuple'>\n"
     ]
    }
   ],
   "source": [
    "def get_first_and_last_characters(x):\n",
    "    first_character = x[0]\n",
    "    last_character = x[-1]\n",
    "    return first_character, last_character # did not specify a tuple with ()\n",
    "\n",
    "print(get_first_and_last_characters(\"Python\"))\n",
    "print(type(get_first_and_last_characters(\"Python\")))"
   ]
  },
  {
   "cell_type": "markdown",
   "id": "muslim-magazine",
   "metadata": {
    "slideshow": {
     "slide_type": "subslide"
    }
   },
   "source": [
    "## 指定用 `list` 輸出"
   ]
  },
  {
   "cell_type": "code",
   "execution_count": 12,
   "id": "competitive-coordinator",
   "metadata": {
    "slideshow": {
     "slide_type": "-"
    }
   },
   "outputs": [
    {
     "name": "stdout",
     "output_type": "stream",
     "text": [
      "['P', 'n']\n",
      "<class 'list'>\n"
     ]
    }
   ],
   "source": [
    "def get_first_and_last_characters(x):\n",
    "    first_character = x[0]\n",
    "    last_character = x[-1]\n",
    "    return [first_character, last_character] # specify a list with []\n",
    "\n",
    "print(get_first_and_last_characters(\"Python\"))\n",
    "print(type(get_first_and_last_characters(\"Python\")))"
   ]
  },
  {
   "cell_type": "markdown",
   "id": "vocational-discount",
   "metadata": {
    "slideshow": {
     "slide_type": "subslide"
    }
   },
   "source": [
    "## 指定用 `dict` 輸出"
   ]
  },
  {
   "cell_type": "code",
   "execution_count": 13,
   "id": "alpine-blackjack",
   "metadata": {
    "slideshow": {
     "slide_type": "-"
    }
   },
   "outputs": [
    {
     "name": "stdout",
     "output_type": "stream",
     "text": [
      "{'first': 'P', 'last': 'n'}\n",
      "<class 'dict'>\n"
     ]
    }
   ],
   "source": [
    "def get_first_and_last_characters(x):\n",
    "    first_character = x[0]\n",
    "    last_character = x[-1]\n",
    "    output = {\n",
    "        \"first\": first_character,\n",
    "        \"last\": last_character\n",
    "    }\n",
    "    return output # specify a dict\n",
    "\n",
    "print(get_first_and_last_characters(\"Python\"))\n",
    "print(type(get_first_and_last_characters(\"Python\")))"
   ]
  },
  {
   "cell_type": "markdown",
   "id": "intense-license",
   "metadata": {
    "slideshow": {
     "slide_type": "subslide"
    }
   },
   "source": [
    "## 以資料結構類別或彈性參數處理函數的「多個輸入」\n",
    "\n",
    "- 運用資料結構類別作為一個輸入物件名稱。\n",
    "- 運用彈性參數。"
   ]
  },
  {
   "cell_type": "markdown",
   "id": "hollywood-looking",
   "metadata": {
    "slideshow": {
     "slide_type": "subslide"
    }
   },
   "source": [
    "## 運用資料結構類別作為一個輸入物件名稱"
   ]
  },
  {
   "cell_type": "code",
   "execution_count": 14,
   "id": "bottom-indiana",
   "metadata": {
    "slideshow": {
     "slide_type": "-"
    }
   },
   "outputs": [
    {
     "name": "stdout",
     "output_type": "stream",
     "text": [
      "100\n",
      "289\n"
     ]
    }
   ],
   "source": [
    "def sum_and_square(x):\n",
    "    summation = sum(x)\n",
    "    output = summation**2\n",
    "    return output\n",
    "\n",
    "print(sum_and_square([2, 3, 5]))    # [2, 3, 5] as input\n",
    "print(sum_and_square((2, 3, 5, 7))) # (2, 3, 5, 7) as input"
   ]
  },
  {
   "cell_type": "markdown",
   "id": "adjacent-winner",
   "metadata": {
    "slideshow": {
     "slide_type": "subslide"
    }
   },
   "source": [
    "## 利用 `*` 標註彈性參數\n",
    "\n",
    "- `args` 可以在函數程式區塊中作為一個 `tuple` 供運用。\n",
    "- `args` 可以任意使用偏愛的命名。"
   ]
  },
  {
   "cell_type": "code",
   "execution_count": 15,
   "id": "anonymous-archive",
   "metadata": {
    "slideshow": {
     "slide_type": "-"
    }
   },
   "outputs": [
    {
     "name": "stdout",
     "output_type": "stream",
     "text": [
      "<class 'tuple'>\n",
      "100\n",
      "<class 'tuple'>\n",
      "289\n"
     ]
    }
   ],
   "source": [
    "def sum_and_square(*args):\n",
    "    print(type(args))\n",
    "    summation = sum(args)\n",
    "    output = pow(summation, 2)\n",
    "    return output\n",
    "\n",
    "print(sum_and_square(2, 3, 5))    # 2, 3, 5 as input\n",
    "print(sum_and_square(2, 3, 5, 7)) # 2, 3, 5, 7 as input"
   ]
  },
  {
   "cell_type": "code",
   "execution_count": 16,
   "id": "cutting-mumbai",
   "metadata": {
    "slideshow": {
     "slide_type": "subslide"
    }
   },
   "outputs": [
    {
     "name": "stdout",
     "output_type": "stream",
     "text": [
      "100\n",
      "289\n"
     ]
    }
   ],
   "source": [
    "def sum_and_square(*arguments):\n",
    "    summation = sum(arguments)\n",
    "    output = pow(summation, 2)\n",
    "    return output\n",
    "\n",
    "print(sum_and_square(2, 3, 5))\n",
    "print(sum_and_square(2, 3, 5, 7))"
   ]
  },
  {
   "cell_type": "markdown",
   "id": "gothic-richards",
   "metadata": {
    "slideshow": {
     "slide_type": "subslide"
    }
   },
   "source": [
    "## 利用 `**` 標註具有「鍵」與「值」的彈性參數\n",
    "\n",
    "- `kwargs` 可以在函數程式區塊中作為一個 `dict` 供運用。\n",
    "- `kwargs` 可以任意使用偏愛的命名。"
   ]
  },
  {
   "cell_type": "code",
   "execution_count": 17,
   "id": "relevant-affiliation",
   "metadata": {},
   "outputs": [
    {
     "name": "stdout",
     "output_type": "stream",
     "text": [
      "<class 'dict'>\n",
      "Country: JPN Capital: Tokyo\n",
      "Country: USA Capital: Washington D.C.\n",
      "Country: TWN Capital: Taipei\n"
     ]
    }
   ],
   "source": [
    "def print_country_capital(**kwargs):\n",
    "    print(type(kwargs)) # dict\n",
    "    for key, value in kwargs.items():\n",
    "        print(f\"Country: {key} Capital: {value}\")\n",
    "\n",
    "print_country_capital(JPN=\"Tokyo\", USA=\"Washington D.C.\", TWN=\"Taipei\")"
   ]
  },
  {
   "cell_type": "code",
   "execution_count": 18,
   "id": "equivalent-affairs",
   "metadata": {
    "slideshow": {
     "slide_type": "subslide"
    }
   },
   "outputs": [
    {
     "name": "stdout",
     "output_type": "stream",
     "text": [
      "Country: JPN Capital: Tokyo\n",
      "Country: USA Capital: Washington D.C.\n",
      "Country: TWN Capital: Taipei\n"
     ]
    }
   ],
   "source": [
    "def print_country_capital(**dictionary):\n",
    "    for key, value in dictionary.items():\n",
    "        print(f\"Country: {key} Capital: {value}\")\n",
    "\n",
    "print_country_capital(JPN=\"Tokyo\", USA=\"Washington D.C.\", TWN=\"Taipei\")"
   ]
  },
  {
   "cell_type": "markdown",
   "id": "accessible-atlantic",
   "metadata": {
    "slideshow": {
     "slide_type": "slide"
    }
   },
   "source": [
    "## `return` 保留字的作用"
   ]
  },
  {
   "cell_type": "markdown",
   "id": "joined-brass",
   "metadata": {
    "slideshow": {
     "slide_type": "subslide"
    }
   },
   "source": [
    "## `return` 保留字的兩個作用\n",
    "\n",
    "1. 回傳函數的預期輸出。\n",
    "2. 為函數的程式區塊畫下終止符。"
   ]
  },
  {
   "cell_type": "markdown",
   "id": "corrected-senior",
   "metadata": {
    "slideshow": {
     "slide_type": "subslide"
    }
   },
   "source": [
    "## 回傳函數的預期輸出\n",
    "\n",
    "- 沒有 `return` 的函數事實上的輸出是 `None`\n",
    "- 這也是練習題如果沒有將預期輸出寫在 `return` 保留字後，無法通過批改測試的原因。"
   ]
  },
  {
   "cell_type": "code",
   "execution_count": 19,
   "id": "further-david",
   "metadata": {
    "slideshow": {
     "slide_type": "-"
    }
   },
   "outputs": [
    {
     "data": {
      "text/plain": [
       "NoneType"
      ]
     },
     "execution_count": 19,
     "metadata": {},
     "output_type": "execute_result"
    }
   ],
   "source": [
    "def power(x, n):\n",
    "    \"\"\"\n",
    "    Equivalent to x raised to the power of n.\n",
    "    \"\"\"\n",
    "    output = x**n\n",
    "\n",
    "type(power(5, 3))"
   ]
  },
  {
   "cell_type": "markdown",
   "id": "fewer-official",
   "metadata": {
    "slideshow": {
     "slide_type": "subslide"
    }
   },
   "source": [
    "## 為函數的程式區塊畫下終止符\n",
    "\n",
    "即便寫在縮排的函數程式區塊之中，`return` 後所寫的程式並沒有作用。"
   ]
  },
  {
   "cell_type": "code",
   "execution_count": 20,
   "id": "british-filter",
   "metadata": {},
   "outputs": [
    {
     "data": {
      "text/plain": [
       "125"
      ]
     },
     "execution_count": 20,
     "metadata": {},
     "output_type": "execute_result"
    }
   ],
   "source": [
    "def power(x, n):\n",
    "    \"\"\"\n",
    "    Equivalent to x raised to the power of n.\n",
    "    \"\"\"\n",
    "    out = x**n\n",
    "    return out\n",
    "    print(x)\n",
    "    print(n)\n",
    "\n",
    "power(5, 3)"
   ]
  },
  {
   "cell_type": "markdown",
   "id": "sublime-government",
   "metadata": {
    "slideshow": {
     "slide_type": "slide"
    }
   },
   "source": [
    "## 類別提示"
   ]
  },
  {
   "cell_type": "markdown",
   "id": "varying-equivalent",
   "metadata": {
    "slideshow": {
     "slide_type": "subslide"
    }
   },
   "source": [
    "## Python 屬於動態類別程式語言\n",
    "\n",
    "- 簡單來說，動態類別程式語言指的是物件「不」帶類別的資訊。\n",
    "- 因此程式碼中相同命名的物件參照可以彈性地更動。\n",
    "- 例如，相同的物件命名在一段程式碼中的某個段落參照資料類別 `int`，在其他段落參照資料結構類別 `list`"
   ]
  },
  {
   "cell_type": "code",
   "execution_count": 21,
   "id": "quantitative-yeast",
   "metadata": {},
   "outputs": [
    {
     "name": "stdout",
     "output_type": "stream",
     "text": [
      "<class 'int'>\n",
      "<class 'list'>\n"
     ]
    }
   ],
   "source": [
    "my_favorite = 5566\n",
    "print(type(my_favorite))\n",
    "my_favorite = [5, 5, 6, 6]\n",
    "print(type(my_favorite))"
   ]
  },
  {
   "cell_type": "markdown",
   "id": "bigger-morris",
   "metadata": {
    "slideshow": {
     "slide_type": "subslide"
    }
   },
   "source": [
    "## 帶有類別提示的自行定義函數"
   ]
  },
  {
   "cell_type": "code",
   "execution_count": 22,
   "id": "paperback-exchange",
   "metadata": {},
   "outputs": [],
   "source": [
    "def power(x: int, n: int) -> int:\n",
    "    out: int = x**n\n",
    "    return out"
   ]
  },
  {
   "cell_type": "markdown",
   "id": "pharmaceutical-vietnam",
   "metadata": {
    "slideshow": {
     "slide_type": "subslide"
    }
   },
   "source": [
    "## 類別提示並不具有強制性\n",
    "\n",
    "- 函數的使用者仍可以輸入與類別提示相異的資料。\n",
    "- 函數也會如預期產生錯誤。"
   ]
  },
  {
   "cell_type": "code",
   "execution_count": 23,
   "id": "flexible-expense",
   "metadata": {
    "slideshow": {
     "slide_type": "-"
    }
   },
   "outputs": [
    {
     "name": "stdout",
     "output_type": "stream",
     "text": [
      "unsupported operand type(s) for ** or pow(): 'str' and 'int'\n"
     ]
    }
   ],
   "source": [
    "try: \n",
    "    power(\"Luke Skywalker\", 2)\n",
    "except TypeError as error_message:\n",
    "    print(error_message)"
   ]
  },
  {
   "cell_type": "markdown",
   "id": "animated-nature",
   "metadata": {
    "slideshow": {
     "slide_type": "subslide"
    }
   },
   "source": [
    "## 加入類別提示有什麼作用\n",
    "\n",
    "- 增加程式碼的可讀性。\n",
    "- 迫使設計者開發更簡潔易用的函數。\n",
    "- 讓外部工具（例如 `mypy`、整合開發環境）能夠有更明確的提示、警告或自動完成功能。"
   ]
  },
  {
   "cell_type": "markdown",
   "id": "numerous-graphic",
   "metadata": {
    "slideshow": {
     "slide_type": "subslide"
    }
   },
   "source": [
    "## 單純的情境運用類別名稱標註即可"
   ]
  },
  {
   "cell_type": "code",
   "execution_count": 24,
   "id": "inclusive-framework",
   "metadata": {
    "slideshow": {
     "slide_type": "-"
    }
   },
   "outputs": [],
   "source": [
    "def power(x: int, n: int) -> int:\n",
    "    out: int = x**n\n",
    "    return out"
   ]
  },
  {
   "cell_type": "markdown",
   "id": "organic-clarity",
   "metadata": {
    "slideshow": {
     "slide_type": "subslide"
    }
   },
   "source": [
    "## 較為複雜的情境可以運用標準模組 `typing`\n",
    "\n",
    "- 預期輸入或者預期輸出有多種可能。\n",
    "- 之後在「使用模組包裝函數與類別」章節會說明關於 `from` 與 `import` 保留字的使用方式。"
   ]
  },
  {
   "cell_type": "code",
   "execution_count": 25,
   "id": "guilty-recording",
   "metadata": {
    "slideshow": {
     "slide_type": "-"
    }
   },
   "outputs": [],
   "source": [
    "from typing import Union\n",
    "\n",
    "def power(x: Union[bool, int, float], n: Union[int, float]) -> Union[int, float]:\n",
    "    out: Union[int, float] = x**n\n",
    "    return out"
   ]
  },
  {
   "cell_type": "code",
   "execution_count": 26,
   "id": "rough-broad",
   "metadata": {
    "slideshow": {
     "slide_type": "subslide"
    }
   },
   "outputs": [],
   "source": [
    "from typing import Union\n",
    "from typing import List\n",
    "\n",
    "def sum_a_list(x: List[Union[bool, int, float]]) -> Union[int, float]:\n",
    "    out: Union[int, float] = sum(x)\n",
    "    return out"
   ]
  },
  {
   "cell_type": "markdown",
   "id": "related-happiness",
   "metadata": {
    "slideshow": {
     "slide_type": "subslide"
    }
   },
   "source": [
    "## 利用練習題大量地自行定義函數熟悉類別提示的讀法以及寫法"
   ]
  },
  {
   "cell_type": "markdown",
   "id": "individual-consistency",
   "metadata": {
    "slideshow": {
     "slide_type": "slide"
    }
   },
   "source": [
    "## 重點統整\n",
    "\n",
    "- Python 提供三種機制供使用者組織程式碼：函數（Function）、類別（Class）與模組（Module）。\n",
    "- 程式碼組織機制的層次：\n",
    "    - 數行程式碼可以組織為一個函數。\n",
    "    - 數個函數可以組織為一個類別。\n",
    "    - 數個函數或類別可以組織為一個模組。\n",
    "    - 數個模組可以組織為一個功能更多的模組。"
   ]
  },
  {
   "cell_type": "markdown",
   "id": "mounted-workstation",
   "metadata": {
    "slideshow": {
     "slide_type": "subslide"
    }
   },
   "source": [
    "## 重點統整（續）\n",
    "\n",
    "- 自行定義函數出現在程式中，物件的作用域就會一分為二：區域 vs. 全域。\n",
    "- 以資料結構處理函數的「多個輸出」；以資料結構或彈性參數處理「多個輸入」。\n",
    "- `return` 保留字的兩個作用：回傳函數的預期輸出、為函數的程式區塊畫下終止符。\n",
    "- 利用練習題熟悉函數的類別提示讀法以及寫法。"
   ]
  }
 ],
 "metadata": {
  "celltoolbar": "Slideshow",
  "kernelspec": {
   "display_name": "Python 3 (ipykernel)",
   "language": "python",
   "name": "python3"
  },
  "language_info": {
   "codemirror_mode": {
    "name": "ipython",
    "version": 3
   },
   "file_extension": ".py",
   "mimetype": "text/x-python",
   "name": "python",
   "nbconvert_exporter": "python",
   "pygments_lexer": "ipython3",
   "version": "3.9.5"
  }
 },
 "nbformat": 4,
 "nbformat_minor": 5
}
