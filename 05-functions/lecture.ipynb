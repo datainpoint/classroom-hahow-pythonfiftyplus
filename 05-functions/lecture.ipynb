{
 "cells": [
  {
   "cell_type": "markdown",
   "id": "inappropriate-shock",
   "metadata": {
    "slideshow": {
     "slide_type": "slide"
    }
   },
   "source": [
    "# Python 的 50+ 練習：資料科學學習手冊\n",
    "\n",
    "> 使用函數組織程式碼\n",
    "\n",
    "[數據交點](https://www.datainpoint.com/) | 郭耀仁 <yaojenkuo@datainpoint.com>"
   ]
  },
  {
   "cell_type": "markdown",
   "id": "current-warner",
   "metadata": {
    "slideshow": {
     "slide_type": "subslide"
    }
   },
   "source": [
    "## 這個章節會登場的保留字與函數\n",
    "\n",
    "- `def` 保留字。\n",
    "- `return` 保留字。"
   ]
  },
  {
   "cell_type": "markdown",
   "id": "supreme-county",
   "metadata": {
    "slideshow": {
     "slide_type": "slide"
    }
   },
   "source": [
    "## 組織程式碼的機制"
   ]
  },
  {
   "cell_type": "markdown",
   "id": "korean-fellow",
   "metadata": {
    "slideshow": {
     "slide_type": "subslide"
    }
   },
   "source": [
    "## 什麼是組織程式碼？\n",
    "\n",
    "面對不同目的以及應用場景，我們會有組織程式碼的需求，簡單來說，是希望程式碼可以簡潔且有效率地完成任務。"
   ]
  },
  {
   "cell_type": "markdown",
   "id": "beginning-graph",
   "metadata": {
    "slideshow": {
     "slide_type": "subslide"
    }
   },
   "source": [
    "## 組織程式碼希望達到的目標最主要有兩個：\n",
    "\n",
    "1. 提升程式碼的「可利用性」。\n",
    "2. 減少程式碼的「重複」。"
   ]
  },
  {
   "cell_type": "markdown",
   "id": "timely-thinking",
   "metadata": {
    "slideshow": {
     "slide_type": "subslide"
    }
   },
   "source": [
    "## Python 提供三種機制供使用者組織程式碼\n",
    "\n",
    "視應用範疇由小到大依序為：\n",
    "\n",
    "- 函數（Function）\n",
    "- 類別（Class）\n",
    "- 模組/套件（Module/Library）"
   ]
  },
  {
   "cell_type": "markdown",
   "id": "banner-frederick",
   "metadata": {
    "slideshow": {
     "slide_type": "subslide"
    }
   },
   "source": [
    "## 如何理解程式碼組織機制\n",
    "\n",
    "- 數行程式碼可以組織為一個函數。\n",
    "- 數個函數可以組織為一個類別。\n",
    "- 數個類別可以組織為一個模組。\n",
    "- 數個模組可以組織為一個功能更多的模組。"
   ]
  },
  {
   "cell_type": "markdown",
   "id": "expanded-roots",
   "metadata": {
    "slideshow": {
     "slide_type": "subslide"
    }
   },
   "source": [
    "## 程式碼，組織！\n",
    "\n",
    "![](https://media.giphy.com/media/LOFT5Jd31ON1b5kLtP/giphy.gif)\n",
    "\n",
    "來源：<https://gph.is/g/4bWWoxv>"
   ]
  },
  {
   "cell_type": "markdown",
   "id": "automatic-norman",
   "metadata": {
    "slideshow": {
     "slide_type": "slide"
    }
   },
   "source": [
    "## 自行定義函數"
   ]
  },
  {
   "cell_type": "markdown",
   "id": "concerned-jefferson",
   "metadata": {
    "slideshow": {
     "slide_type": "subslide"
    }
   },
   "source": [
    "## 什麼是函數\n",
    "\n",
    "一段被賦予名稱的程式碼，能夠完成某一個文字處理或者數值計算任務，使用（呼叫）某個函數之前，必須先確定這個函數在執行的範疇中已經被定義妥善。"
   ]
  },
  {
   "cell_type": "markdown",
   "id": "neural-botswana",
   "metadata": {
    "slideshow": {
     "slide_type": "subslide"
    }
   },
   "source": [
    "## 「哈囉世界」Hello, World!"
   ]
  },
  {
   "cell_type": "code",
   "execution_count": 1,
   "id": "certain-design",
   "metadata": {},
   "outputs": [
    {
     "name": "stdout",
     "output_type": "stream",
     "text": [
      "Hello, World!\n"
     ]
    }
   ],
   "source": [
    "print(\"Hello, World!\")"
   ]
  },
  {
   "cell_type": "markdown",
   "id": "constitutional-metro",
   "metadata": {
    "slideshow": {
     "slide_type": "subslide"
    }
   },
   "source": [
    "## 「哈囉世界」中所使用的 `print` 是什麼？\n",
    "\n",
    "- `print` 是 Python 的「內建函數」。\n",
    "- 「內建」所指的意思是不需要先行「定義」就可以使用的函數。\n",
    "- Python 的內建函數：<https://docs.python.org/3/library/functions.html>"
   ]
  },
  {
   "cell_type": "markdown",
   "id": "monthly-administrator",
   "metadata": {
    "slideshow": {
     "slide_type": "subslide"
    }
   },
   "source": [
    "## 一個函數由四個元件組成\n",
    "\n",
    "1. 函數名稱\n",
    "2. 輸入、參數\n",
    "3. 函數主體\n",
    "4. 輸出"
   ]
  },
  {
   "cell_type": "markdown",
   "id": "demanding-tonight",
   "metadata": {
    "slideshow": {
     "slide_type": "subslide"
    }
   },
   "source": [
    "## 函數運作的過程就像買一杯珍珠奶茶\n",
    "\n",
    "![Imgur](https://i.imgur.com/6gpJebm.jpg?1)\n",
    "\n",
    "來源: Google 圖片"
   ]
  },
  {
   "cell_type": "markdown",
   "id": "determined-level",
   "metadata": {
    "slideshow": {
     "slide_type": "subslide"
    }
   },
   "source": [
    "## 函數有四個來源\n",
    "\n",
    "- 來自「內建函數」：<https://docs.python.org/3/library/functions.html>\n",
    "- 來自標準模組（套件）：<https://docs.python.org/3/library>\n",
    "- 來自第三方模組（套件）。\n",
    "- 來自使用者的定義。"
   ]
  },
  {
   "cell_type": "markdown",
   "id": "limiting-moses",
   "metadata": {
    "slideshow": {
     "slide_type": "subslide"
    }
   },
   "source": [
    "## 來自內建函數可以直接使用\n",
    "\n",
    "<https://docs.python.org/3/library/functions.html>"
   ]
  },
  {
   "cell_type": "code",
   "execution_count": 2,
   "id": "architectural-albania",
   "metadata": {},
   "outputs": [
    {
     "name": "stdout",
     "output_type": "stream",
     "text": [
      "125\n"
     ]
    }
   ],
   "source": [
    "print(pow(5, 3))"
   ]
  },
  {
   "cell_type": "markdown",
   "id": "alike-apartment",
   "metadata": {
    "slideshow": {
     "slide_type": "subslide"
    }
   },
   "source": [
    "## 來自標準模組必須先載入再使用\n",
    "\n",
    "<https://docs.python.org/3/library>\n",
    "\n",
    "```python\n",
    "import standard_module\n",
    "from standard_module import modules_function\n",
    "\n",
    "standard_module.modules_function()\n",
    "modules_function()\n",
    "```"
   ]
  },
  {
   "cell_type": "code",
   "execution_count": 3,
   "id": "hollow-insured",
   "metadata": {
    "slideshow": {
     "slide_type": "subslide"
    }
   },
   "outputs": [
    {
     "name": "stdout",
     "output_type": "stream",
     "text": [
      "11\n"
     ]
    }
   ],
   "source": [
    "from random import randint\n",
    "\n",
    "print(randint(1, 11))"
   ]
  },
  {
   "cell_type": "markdown",
   "id": "iraqi-redhead",
   "metadata": {
    "slideshow": {
     "slide_type": "subslide"
    }
   },
   "source": [
    "## 來自第三方模組必須確認安裝妥當才載入使用\n",
    "\n",
    "```bash\n",
    "pip install third_party_module\n",
    "```"
   ]
  },
  {
   "cell_type": "code",
   "execution_count": 4,
   "id": "sticky-catalog",
   "metadata": {},
   "outputs": [
    {
     "name": "stdout",
     "output_type": "stream",
     "text": [
      "[7 5 2 3 2]\n"
     ]
    }
   ],
   "source": [
    "from numpy.random import randint\n",
    "\n",
    "print(randint(1, 10, size=5))"
   ]
  },
  {
   "cell_type": "markdown",
   "id": "micro-martial",
   "metadata": {
    "slideshow": {
     "slide_type": "subslide"
    }
   },
   "source": [
    "## 來自使用者的定義"
   ]
  },
  {
   "cell_type": "code",
   "execution_count": 5,
   "id": "olive-poverty",
   "metadata": {},
   "outputs": [
    {
     "name": "stdout",
     "output_type": "stream",
     "text": [
      "125\n"
     ]
    }
   ],
   "source": [
    "def power(x, n):\n",
    "    out = x**n\n",
    "    return out\n",
    "\n",
    "print(power(5, 3))"
   ]
  },
  {
   "cell_type": "markdown",
   "id": "given-carnival",
   "metadata": {
    "slideshow": {
     "slide_type": "subslide"
    }
   },
   "source": [
    "## 輸入與參數在函數定義與使用（呼叫）時的差別\n",
    "\n",
    "- 定義時稱為輸入（Inputs）或參數（Parameters）。\n",
    "- 使用（呼叫）函數時稱為引數（Arguments）。"
   ]
  },
  {
   "cell_type": "code",
   "execution_count": 6,
   "id": "executive-baptist",
   "metadata": {
    "slideshow": {
     "slide_type": "subslide"
    }
   },
   "outputs": [
    {
     "name": "stdout",
     "output_type": "stream",
     "text": [
      "125\n"
     ]
    }
   ],
   "source": [
    "def power(x, n):\n",
    "    out = x**n # Parameters\n",
    "    return out\n",
    "\n",
    "a = 5 # Argument\n",
    "b = 3 # Argument\n",
    "print(power(a, b)) # Arguments"
   ]
  },
  {
   "cell_type": "markdown",
   "id": "capital-gateway",
   "metadata": {
    "slideshow": {
     "slide_type": "subslide"
    }
   },
   "source": [
    "## 參數與引數的差別\n",
    "\n",
    "- 在自行定義的函數 `power(x, n)` 中 `x` 與 `n` 稱為輸入（Inputs）或參數（Parameters）。\n",
    "- 在呼叫自行定義的函數 `power(a, b)` 中 `a` 與 `b` 稱為引數（Arguments）。"
   ]
  },
  {
   "cell_type": "markdown",
   "id": "disturbed-piano",
   "metadata": {
    "slideshow": {
     "slide_type": "subslide"
    }
   },
   "source": [
    "## 如何自行定義函數\n",
    "\n",
    "- `def` 用來定義函數的名稱。\n",
    "- `return` 用來標註函數的輸出。\n",
    "- 縮排用來標註函數的主體。"
   ]
  },
  {
   "cell_type": "markdown",
   "id": "cloudy-entry",
   "metadata": {
    "slideshow": {
     "slide_type": "subslide"
    }
   },
   "source": [
    "## 自行定義函數的結構\n",
    "\n",
    "\n",
    "```python\n",
    "def function_name(INPUTS, PARAMETERS, ...):\n",
    "    # body of function_name\n",
    "    \"\"\"\n",
    "    docstring: print documentation when help is called\n",
    "    \"\"\"\n",
    "    # sequence of statements\n",
    "    return OUTPUTS\n",
    "```"
   ]
  },
  {
   "cell_type": "markdown",
   "id": "joined-brass",
   "metadata": {
    "slideshow": {
     "slide_type": "subslide"
    }
   },
   "source": [
    "## `return` 的作用\n",
    "\n",
    "- 回傳函數的預期輸出。\n",
    "- 為函數的主體畫下終止符。"
   ]
  },
  {
   "cell_type": "markdown",
   "id": "corrected-senior",
   "metadata": {
    "slideshow": {
     "slide_type": "subslide"
    }
   },
   "source": [
    "## 回傳函數的預期輸出"
   ]
  },
  {
   "cell_type": "code",
   "execution_count": 7,
   "id": "further-david",
   "metadata": {},
   "outputs": [
    {
     "name": "stdout",
     "output_type": "stream",
     "text": [
      "None\n"
     ]
    }
   ],
   "source": [
    "def power(x, n):\n",
    "    \"\"\"\n",
    "    Equivalent to x raised to the power of n.\n",
    "    \"\"\"\n",
    "    out = x**n\n",
    "\n",
    "print(power(5, 3))"
   ]
  },
  {
   "cell_type": "markdown",
   "id": "induced-while",
   "metadata": {
    "slideshow": {
     "slide_type": "subslide"
    }
   },
   "source": [
    "## 為函數的主體畫下終止符"
   ]
  },
  {
   "cell_type": "code",
   "execution_count": 8,
   "id": "everyday-journey",
   "metadata": {},
   "outputs": [
    {
     "name": "stdout",
     "output_type": "stream",
     "text": [
      "5\n",
      "3\n",
      "125\n"
     ]
    }
   ],
   "source": [
    "def power(x, n):\n",
    "    \"\"\"\n",
    "    Equivalent to x raised to the power of n.\n",
    "    \"\"\"\n",
    "    print(x)\n",
    "    print(n)\n",
    "    out = x**n\n",
    "    return out\n",
    "\n",
    "print(power(5, 3))"
   ]
  },
  {
   "cell_type": "markdown",
   "id": "fewer-official",
   "metadata": {
    "slideshow": {
     "slide_type": "subslide"
    }
   },
   "source": [
    "## 即便寫在縮排的函數主體中，在 `return` 後所寫的程式並沒有作用"
   ]
  },
  {
   "cell_type": "code",
   "execution_count": 9,
   "id": "british-filter",
   "metadata": {},
   "outputs": [
    {
     "name": "stdout",
     "output_type": "stream",
     "text": [
      "125\n"
     ]
    }
   ],
   "source": [
    "def power(x, n):\n",
    "    \"\"\"\n",
    "    Equivalent to x raised to the power of n.\n",
    "    \"\"\"\n",
    "    out = x**n\n",
    "    return out\n",
    "    print(x)\n",
    "    print(n)\n",
    "\n",
    "print(power(5, 3))"
   ]
  },
  {
   "cell_type": "markdown",
   "id": "abandoned-nevada",
   "metadata": {
    "slideshow": {
     "slide_type": "subslide"
    }
   },
   "source": [
    "## 利用練習題大量地自行定義函數，學會程序化程式設計（Procedural programming）\n",
    "\n",
    "把即將要執行的程式碼組織為函數，並依序呼叫這些函數來完成任務。\n",
    "\n",
    "```python\n",
    "def function_one():\n",
    "    ...\n",
    "    return ...\n",
    "def function_two():\n",
    "    ...\n",
    "    return ...\n",
    "\n",
    "function_one()\n",
    "function_two()\n",
    "```"
   ]
  },
  {
   "cell_type": "markdown",
   "id": "boxed-mobility",
   "metadata": {
    "slideshow": {
     "slide_type": "slide"
    }
   },
   "source": [
    "## 作用域（Scope）"
   ]
  },
  {
   "cell_type": "markdown",
   "id": "resident-finland",
   "metadata": {
    "slideshow": {
     "slide_type": "subslide"
    }
   },
   "source": [
    "## 什麼是作用域\n",
    "\n",
    "> 在電腦程式設計中，作用域是名字與實體的繫結保持有效的那部分電腦程式。\n",
    "\n",
    "來源：<https://en.wikipedia.org/wiki/Scope_(computer_science)>"
   ]
  },
  {
   "cell_type": "markdown",
   "id": "undefined-display",
   "metadata": {
    "slideshow": {
     "slide_type": "subslide"
    }
   },
   "source": [
    "## 簡而言之，存在有自行定義函數的狀態下，變數具有兩種類型\n",
    "\n",
    "1. 區域（local）\n",
    "2. 全域（global）"
   ]
  },
  {
   "cell_type": "markdown",
   "id": "usual-component",
   "metadata": {
    "slideshow": {
     "slide_type": "subslide"
    }
   },
   "source": [
    "## 在函數的縮排中被宣告的是區域變數，僅有在縮排中才有效"
   ]
  },
  {
   "cell_type": "code",
   "execution_count": 10,
   "id": "amateur-buyer",
   "metadata": {
    "slideshow": {
     "slide_type": "-"
    }
   },
   "outputs": [
    {
     "name": "stdout",
     "output_type": "stream",
     "text": [
      "5\n",
      "3\n",
      "125\n",
      "125\n"
     ]
    }
   ],
   "source": [
    "def power(x, n):\n",
    "    out = x**n\n",
    "    print(x)\n",
    "    print(n)\n",
    "    print(out)\n",
    "    return out\n",
    "\n",
    "print(power(5, 3))"
   ]
  },
  {
   "cell_type": "markdown",
   "id": "hydraulic-forestry",
   "metadata": {
    "slideshow": {
     "slide_type": "subslide"
    }
   },
   "source": [
    "## 不是在函數縮排中被宣告的是全域變數，在任何地方都有效"
   ]
  },
  {
   "cell_type": "code",
   "execution_count": 11,
   "id": "hollow-chase",
   "metadata": {},
   "outputs": [
    {
     "name": "stdout",
     "output_type": "stream",
     "text": [
      "4\n",
      "2\n",
      "16\n",
      "16\n"
     ]
    }
   ],
   "source": [
    "x = 4\n",
    "n = 2\n",
    "out = x**n\n",
    "def power():\n",
    "    return out\n",
    "\n",
    "print(x)\n",
    "print(n)\n",
    "print(out)\n",
    "print(power())"
   ]
  },
  {
   "cell_type": "markdown",
   "id": "featured-fisher",
   "metadata": {
    "slideshow": {
     "slide_type": "slide"
    }
   },
   "source": [
    "## 輸入與輸出的對應關係"
   ]
  },
  {
   "cell_type": "markdown",
   "id": "amended-duplicate",
   "metadata": {
    "slideshow": {
     "slide_type": "subslide"
    }
   },
   "source": [
    "- 多個輸出\n",
    "- 多個輸入"
   ]
  },
  {
   "cell_type": "markdown",
   "id": "loaded-elder",
   "metadata": {
    "slideshow": {
     "slide_type": "subslide"
    }
   },
   "source": [
    "## 「多個輸出」對應關係以資料結構處理\n",
    "\n",
    "- 預設以 `tuple` 資料結構應對多個輸出。\n",
    "- 可以自行調整偏好的資料結構。"
   ]
  },
  {
   "cell_type": "code",
   "execution_count": 12,
   "id": "viral-determination",
   "metadata": {
    "slideshow": {
     "slide_type": "subslide"
    }
   },
   "outputs": [
    {
     "name": "stdout",
     "output_type": "stream",
     "text": [
      "('P', 'y', 't')\n",
      "<class 'tuple'>\n"
     ]
    }
   ],
   "source": [
    "def first_three_characters(x):\n",
    "    if len(x) < 3:\n",
    "        return \"Cannot extract the first three characters from input string.\"\n",
    "    first_char, second_char, third_char = x[0], x[1], x[2]\n",
    "    return first_char, second_char, third_char\n",
    "\n",
    "print(first_three_characters(\"Python\"))\n",
    "print(type(first_three_characters(\"Python\")))"
   ]
  },
  {
   "cell_type": "code",
   "execution_count": 13,
   "id": "competitive-coordinator",
   "metadata": {
    "slideshow": {
     "slide_type": "subslide"
    }
   },
   "outputs": [
    {
     "name": "stdout",
     "output_type": "stream",
     "text": [
      "['P', 'y', 't']\n",
      "<class 'list'>\n"
     ]
    }
   ],
   "source": [
    "def first_three_characters(x):\n",
    "    if len(x) < 3:\n",
    "        return \"Cannot extract the first three characters from input string.\"\n",
    "    first_char, second_char, third_char = x[0], x[1], x[2]\n",
    "    out = [first_char, second_char, third_char]\n",
    "    return out\n",
    "\n",
    "print(first_three_characters(\"Python\"))\n",
    "print(type(first_three_characters(\"Python\")))"
   ]
  },
  {
   "cell_type": "code",
   "execution_count": 14,
   "id": "alpine-blackjack",
   "metadata": {
    "slideshow": {
     "slide_type": "subslide"
    }
   },
   "outputs": [
    {
     "name": "stdout",
     "output_type": "stream",
     "text": [
      "{'1st': 'P', '2nd': 'y', '3rd': 't'}\n",
      "<class 'dict'>\n"
     ]
    }
   ],
   "source": [
    "def first_three_characters(x):\n",
    "    if len(x) < 3:\n",
    "        return \"Cannot extract the first three characters from input string.\"\n",
    "    first_char, second_char, third_char = x[0], x[1], x[2]\n",
    "    out = {\"1st\": first_char,\n",
    "           \"2nd\": second_char,\n",
    "           \"3rd\": third_char}\n",
    "    return out\n",
    "\n",
    "print(first_three_characters(\"Python\"))\n",
    "print(type(first_three_characters(\"Python\")))"
   ]
  },
  {
   "cell_type": "markdown",
   "id": "intense-license",
   "metadata": {
    "slideshow": {
     "slide_type": "subslide"
    }
   },
   "source": [
    "## 「多個輸入」對應關係以資料結構或彈性參數處理\n",
    "\n",
    "- 使用資料結構作為一個輸入名稱。\n",
    "- 使用彈性參數：\n",
    "    - `*args`\n",
    "    - `**kwargs`"
   ]
  },
  {
   "cell_type": "code",
   "execution_count": 15,
   "id": "bottom-indiana",
   "metadata": {
    "slideshow": {
     "slide_type": "subslide"
    }
   },
   "outputs": [
    {
     "name": "stdout",
     "output_type": "stream",
     "text": [
      "100\n",
      "289\n"
     ]
    }
   ],
   "source": [
    "def sum_and_square(x):\n",
    "    summation = sum(x)\n",
    "    out = summation**2\n",
    "    return out\n",
    "\n",
    "print(sum_and_square([2, 3, 5]))\n",
    "print(sum_and_square((2, 3, 5, 7)))"
   ]
  },
  {
   "cell_type": "markdown",
   "id": "adjacent-winner",
   "metadata": {
    "slideshow": {
     "slide_type": "subslide"
    }
   },
   "source": [
    "## 彈性參數 `args` 可以在函數主體中以 `tuple` 形式運用"
   ]
  },
  {
   "cell_type": "code",
   "execution_count": 16,
   "id": "anonymous-archive",
   "metadata": {
    "slideshow": {
     "slide_type": "-"
    }
   },
   "outputs": [
    {
     "name": "stdout",
     "output_type": "stream",
     "text": [
      "<class 'tuple'>\n",
      "100\n",
      "<class 'tuple'>\n",
      "289\n"
     ]
    }
   ],
   "source": [
    "def sum_and_square(*args):\n",
    "    print(type(args)) # tuple\n",
    "    summation = sum(args)\n",
    "    out = summation**2\n",
    "    return out\n",
    "\n",
    "print(sum_and_square(2, 3, 5))\n",
    "print(sum_and_square(2, 3, 5, 7))"
   ]
  },
  {
   "cell_type": "markdown",
   "id": "gothic-richards",
   "metadata": {
    "slideshow": {
     "slide_type": "subslide"
    }
   },
   "source": [
    "## 彈性參數 `kwargs` 可以在函數主體中以 `dict` 形式運用"
   ]
  },
  {
   "cell_type": "code",
   "execution_count": 17,
   "id": "relevant-affiliation",
   "metadata": {},
   "outputs": [
    {
     "name": "stdout",
     "output_type": "stream",
     "text": [
      "<class 'dict'>\n",
      "Country: Japan   Capital: Tokyo\n",
      "Country: USA     Capital: Washington D.C.\n",
      "Country: Taiwan  Capital: Taipei\n"
     ]
    }
   ],
   "source": [
    "def print_country_capital(**kwargs):\n",
    "    print(type(kwargs)) # dict\n",
    "    for key, value in kwargs.items():\n",
    "        print(\"Country: {:<7} Capital: {}\".format(key, value))\n",
    "\n",
    "print_country_capital(Japan=\"Tokyo\", USA=\"Washington D.C.\", Taiwan=\"Taipei\")"
   ]
  }
 ],
 "metadata": {
  "celltoolbar": "Slideshow",
  "kernelspec": {
   "display_name": "Python Data Science",
   "language": "python",
   "name": "pyds"
  },
  "language_info": {
   "codemirror_mode": {
    "name": "ipython",
    "version": 3
   },
   "file_extension": ".py",
   "mimetype": "text/x-python",
   "name": "python",
   "nbconvert_exporter": "python",
   "pygments_lexer": "ipython3",
   "version": "3.8.10"
  }
 },
 "nbformat": 4,
 "nbformat_minor": 5
}
