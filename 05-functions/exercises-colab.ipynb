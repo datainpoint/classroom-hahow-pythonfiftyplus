{
 "cells": [
  {
   "cell_type": "markdown",
   "metadata": {
    "deletable": false
   },
   "source": [
    "# Python 的 50+ 練習：資料科學學習手冊\n",
    "\n",
    "> 使用函數組織程式碼\n",
    "\n",
    "[數據交點](https://www.datainpoint.com) | 郭耀仁 <yaojenkuo@datainpoint.com>"
   ]
  },
  {
   "cell_type": "markdown",
   "metadata": {
    "deletable": false
   },
   "source": [
    "## 練習題指引\n",
    "\n",
    "- 由於近期 mybinder.org 的服務不穩定，新增 Google Colab 作為另一個寫作練習題的平台。\n",
    "- 開始寫作之前，可以先按上方「Copy to Drive」按鈕將筆記本複製到自己的 Google 雲端硬碟。\n",
    "- 練習題閒置超過 10 分鐘會自動斷線，只要重新點選練習題連結即可重新啟動。\n",
    "- 第一個程式碼儲存格會將可能用得到的模組載入。\n",
    "- 如果練習題需要載入檔案，檔案存放絕對路徑為 `/content`\n",
    "- 練習題已經給定函數、類別、預期輸入或參數名稱，我們只需要寫作程式區塊。同時也給定函數的類別提示，說明預期輸入以及預期輸出的類別。\n",
    "- 說明（Docstring）會描述測試如何進行，閱讀說明能夠暸解預期輸入以及預期輸出之間的關係，幫助我們更快解題。\n",
    "- 請在 `### BEGIN SOLUTION` 與 `### END SOLUTION` 這兩個註解之間寫作函數或者類別的程式區塊。\n",
    "- 將預期輸出放置在 `return` 保留字之後，若只是用 `print()` 函數將預期輸出印出無法通過測試。\n",
    "- 語法錯誤（`SyntaxError`）或縮排錯誤（`IndentationError`）等將會導致測試失效，測試之前應該先在筆記本使用函數觀察是否與說明（Docstring）描述的功能相符。\n",
    "- 如果卡關，可以先看練習題詳解或者複習課程單元影片之後再繼續寫作。\n",
    "- 執行測試的步驟：\n",
    "    1. 點選右上角 Connect\n",
    "    2. 點選上方選單的 Runtime -> Restart and run all -> Yes -> Run anyway\n",
    "    3. 移動到 Google Colab 的最後一個儲存格看批改測試結果。"
   ]
  },
  {
   "cell_type": "markdown",
   "metadata": {},
   "source": [
    "## 036. 計算圓面積\n",
    "\n",
    "定義函數 `calculate_circle_area()` 能夠對輸入的半徑計算圓面積，我們使用圓周率 $\\pi = 3.14$\n",
    "\n",
    "\\begin{equation}\n",
    "\\text{Circle area} = \\pi r^2\n",
    "\\end{equation}\n",
    "\n",
    "\n",
    "- 運用數值運算符。\n",
    "- 將預期輸出寫在 `return` 之後。"
   ]
  },
  {
   "cell_type": "code",
   "execution_count": null,
   "metadata": {},
   "outputs": [],
   "source": [
    "def calculate_circle_area(r: int) -> float:\n",
    "    \"\"\"\n",
    "    >>> calculate_circle_area(5)\n",
    "    78.5\n",
    "    >>> calculate_circle_area(6)\n",
    "    113.04\n",
    "    >>> calculate_circle_area(7)\n",
    "    153.86\n",
    "    \"\"\"\n",
    "    ### BEGIN SOLUTION\n",
    "    \n",
    "    ### END SOLUTION"
   ]
  },
  {
   "cell_type": "markdown",
   "metadata": {},
   "source": [
    "## 037. 計算圓柱體積\n",
    "\n",
    "定義函數 `calculate_cylinder_volume()` 能夠對輸入的半徑、高度計算圓柱體積，我們使用圓周率 $\\pi = 3.14$\n",
    "\n",
    "\\begin{equation}\n",
    "\\text{Cylinder volume} = \\pi r^2 h\n",
    "\\end{equation}\n",
    "\n",
    "\n",
    "- 運用數值運算符。\n",
    "- 使用 `calculate_circle_area()` 函數。\n",
    "- 將預期輸出寫在 `return` 之後。"
   ]
  },
  {
   "cell_type": "code",
   "execution_count": null,
   "metadata": {},
   "outputs": [],
   "source": [
    "def calculate_cylinder_volume(r: int, h: int) -> float:\n",
    "    \"\"\"\n",
    "    >>> calculate_cylinder_volume(5, 6)\n",
    "    471.0\n",
    "    >>> calculate_cylinder_volume(6, 5)\n",
    "    565.2\n",
    "    >>> calculate_cylinder_volume(7, 8)\n",
    "    1230.88\n",
    "    \"\"\"\n",
    "    ### BEGIN SOLUTION\n",
    "    \n",
    "    ### END SOLUTION"
   ]
  },
  {
   "cell_type": "markdown",
   "metadata": {},
   "source": [
    "## 038. 因數個數\n",
    "\n",
    "定義函數 `count_number_of_divisors()` 能夠回傳輸入整數的因數個數。\n",
    "\n",
    "- 運用迴圈走訪所有可能因數。\n",
    "- 運用條件敘述是否為因數來計數。\n",
    "- 將預期輸出寫在 `return` 之後。"
   ]
  },
  {
   "cell_type": "code",
   "execution_count": null,
   "metadata": {},
   "outputs": [],
   "source": [
    "def count_number_of_divisors(x: int) -> int:\n",
    "    \"\"\"\n",
    "    >>> count_number_of_divisors(1)\n",
    "    1\n",
    "    >>> count_number_of_divisors(2)\n",
    "    2\n",
    "    >>> count_number_of_divisors(3)\n",
    "    2\n",
    "    >>> count_number_of_divisors(4)\n",
    "    3\n",
    "    >>> count_number_of_divisors(5)\n",
    "    2\n",
    "    >>> count_number_of_divisors(6)\n",
    "    4\n",
    "    \"\"\"\n",
    "    ### BEGIN SOLUTION\n",
    "    \n",
    "    ### END SOLUTION"
   ]
  },
  {
   "cell_type": "markdown",
   "metadata": {},
   "source": [
    "## 039. 是否為質數\n",
    "\n",
    "定義函數 `is_prime()` 能夠回傳輸入正整數是否為質數的判斷。\n",
    "\n",
    "來源：<https://en.wikipedia.org/wiki/Prime_number>\n",
    "\n",
    "- 使用 `count_number_of_divisors()` 函數。\n",
    "- 運用條件敘述依據因數個數是否為 2 判斷。\n",
    "- 將預期輸出寫在 `return` 之後。"
   ]
  },
  {
   "cell_type": "code",
   "execution_count": null,
   "metadata": {},
   "outputs": [],
   "source": [
    "def is_prime(x: int) -> bool:\n",
    "    \"\"\"\n",
    "    >>> is_prime(1)\n",
    "    False\n",
    "    >>> is_prime(2)\n",
    "    True\n",
    "    >>> is_prime(3)\n",
    "    True\n",
    "    >>> is_prime(4)\n",
    "    False\n",
    "    >>> is_prime(5)\n",
    "    True\n",
    "    >>> is_prime(6)\n",
    "    False\n",
    "    \"\"\"\n",
    "    ### BEGIN SOLUTION\n",
    "    \n",
    "    ### END SOLUTION"
   ]
  },
  {
   "cell_type": "markdown",
   "metadata": {},
   "source": [
    "## 040. 彈性參數是否為質數\n",
    "\n",
    "定義函數 `is_args_prime()` 能夠回傳輸入的彈性參數是否為質數的判斷。\n",
    "\n",
    "- 運用彈性參數 `*args`\n",
    "- 使用 `is_prime()` 函數。\n",
    "- 將預期輸出寫在 `return` 之後。"
   ]
  },
  {
   "cell_type": "code",
   "execution_count": null,
   "metadata": {},
   "outputs": [],
   "source": [
    "from typing import List\n",
    "\n",
    "def is_args_prime(*args) -> List[bool]:\n",
    "    \"\"\"\n",
    "    >>> is_args_prime(1, 2, 3)\n",
    "    [False, True, True]\n",
    "    >>> is_args_prime(4, 5, 6)\n",
    "    [False, True, False]\n",
    "    >>> is_args_prime(7, 11, 13, 17, 19)\n",
    "    [True, True, True, True, True]\n",
    "    >>> is_args_prime(20, 21, 22, 24, 25, 26, 27)\n",
    "    [False, False, False, False, False, False, False]\n",
    "    \"\"\"\n",
    "    ### BEGIN SOLUTION\n",
    "    \n",
    "    ### END SOLUTION"
   ]
  },
  {
   "cell_type": "markdown",
   "metadata": {},
   "source": [
    "## 041. 範圍內的質數\n",
    "\n",
    "定義函數 `find_primes_in_range()` 能夠回傳輸入正整數範圍內的質數。\n",
    "\n",
    "- 使用 `is_prime()` 函數。\n",
    "- 使用 `range()` 函數。\n",
    "- 將預期輸出寫在 `return` 之後。"
   ]
  },
  {
   "cell_type": "code",
   "execution_count": null,
   "metadata": {},
   "outputs": [],
   "source": [
    "def find_primes_in_range(x: int, y: int) -> list:\n",
    "    \"\"\"\n",
    "    >>> find_primes_in_range(1, 5)\n",
    "    [2, 3, 5]\n",
    "    >>> find_primes_in_range(6, 10)\n",
    "    [7]\n",
    "    >>> find_primes_in_range(11, 15)\n",
    "    [11, 13]\n",
    "    \"\"\"\n",
    "    ### BEGIN SOLUTION\n",
    "    \n",
    "    ### END SOLUTION"
   ]
  },
  {
   "cell_type": "markdown",
   "metadata": {},
   "source": [
    "## 042. 小於 100 的質數\n",
    "\n",
    "定義函數 `find_primes_below_100()` 能夠回傳小於 100 的所有質數。\n",
    "\n",
    "- 使用 `find_primes_in_range()` 函數。\n",
    "- 將預期輸出寫在 `return` 之後。"
   ]
  },
  {
   "cell_type": "code",
   "execution_count": null,
   "metadata": {},
   "outputs": [],
   "source": [
    "def find_primes_below_100() -> list:\n",
    "    \"\"\"\n",
    "    >>> primes_below_100 = find_primes_below_100()\n",
    "    >>> len(primes_below_100)\n",
    "    25\n",
    "    >>> print(primes_below_100)\n",
    "    [2, 3, 5, 7, 11, 13, 17, 19, 23, 29, 31, 37, 41, 43, 47, 53, 59, 61, 67, 71, 73, 79, 83, 89, 97]\n",
    "    \"\"\"\n",
    "    ### BEGIN SOLUTION\n",
    "    \n",
    "    ### END SOLUTION"
   ]
  },
  {
   "cell_type": "markdown",
   "metadata": {},
   "source": [
    "## 043. 前 `n` 個質數\n",
    "\n",
    "定義函數 `find_the_first_n_primes()` 能夠回傳前 `n` 個質數。\n",
    "\n",
    "- 運用 `while` 迴圈。\n",
    "- 使用 `is_prime()` 函數。\n",
    "- 將預期輸出寫在 `return` 之後。"
   ]
  },
  {
   "cell_type": "code",
   "execution_count": null,
   "metadata": {},
   "outputs": [],
   "source": [
    "def find_the_first_n_primes(n: int) -> list:\n",
    "    \"\"\"\n",
    "    >>> print(find_the_first_n_primes(5))\n",
    "    [2, 3, 5, 7, 11]\n",
    "    >>> print(find_the_first_n_primes(10))\n",
    "    [2, 3, 5, 7, 11, 13, 17, 19, 23, 29]\n",
    "    >>> print(find_the_first_n_primes(30))\n",
    "    [2, 3, 5, 7, 11, 13, 17, 19, 23, 29, 31, 37, 41, 43, 47, 53, 59, 61, 67, 71, 73, 79, 83, 89, 97, 101, 103, 107, 109, 113]\n",
    "    \"\"\"\n",
    "    ### BEGIN SOLUTION\n",
    "    \n",
    "    ### END SOLUTION"
   ]
  },
  {
   "cell_type": "markdown",
   "metadata": {},
   "source": [
    "## 044. 挑出負的彈性參數並且平方\n",
    "\n",
    "定義函數 `square_negatives_from_args()` 能夠從彈性參數中挑出負數再平方。\n",
    "\n",
    "- 運用彈性參數 `*args`\n",
    "- 運用迴圈。\n",
    "- 運用條件敘述判斷負數。\n",
    "- 運用數值運算符。\n",
    "- 將預期輸出寫在 `return` 之後。"
   ]
  },
  {
   "cell_type": "code",
   "execution_count": null,
   "metadata": {},
   "outputs": [],
   "source": [
    "def square_negatives_from_args(*args) -> list:\n",
    "    \"\"\"\n",
    "    >>> square_negatives_from_args(-3, -2, -1, 0, 1, 2, 3)\n",
    "    [9, 4, 1]\n",
    "    >>> square_negatives_from_args(-3, 0, 1, 2, 3, -2, -1)\n",
    "    [9, 4, 1]\n",
    "    >>> square_negatives_from_args(0, 1, 2, 3, -1, -2, -3)\n",
    "    [1, 4, 9]\n",
    "    \"\"\"\n",
    "    ### BEGIN SOLUTION\n",
    "    \n",
    "    ### END SOLUTION"
   ]
  },
  {
   "cell_type": "markdown",
   "metadata": {},
   "source": [
    "## 045. 轉換彈性參數的鍵、值為大寫\n",
    "\n",
    "定義函數 `uppercase_keys_values_from_kwargs()` 能夠從彈性參數中把鍵與值都轉換為大寫英文。\n",
    "\n",
    "- 運用彈性參數 `**kwargs`\n",
    "- 使用 `dict.items()`\n",
    "- 運用迴圈。\n",
    "- 使用 `str.upper()`\n",
    "- 將預期輸出寫在 `return` 之後。"
   ]
  },
  {
   "cell_type": "code",
   "execution_count": null,
   "metadata": {},
   "outputs": [],
   "source": [
    "def uppercase_keys_values_from_kwargs(**kwargs) -> dict:\n",
    "    \"\"\"\n",
    "    >>> uppercase_keys_values_from_kwargs(tw=\"twn\")\n",
    "    {'TW': 'TWN'}\n",
    "    >>> uppercase_keys_values_from_kwargs(tw=\"twn\", jp=\"jpn\")\n",
    "    {'TW': 'TWN', 'JP': 'JPN'}\n",
    "    >>> uppercase_keys_values_from_kwargs(tw=\"twn\", jp=\"jpn\", lt=\"ltu\")\n",
    "    {'TW': 'TWN', 'JP': 'JPN', 'LT': 'LTU'}\n",
    "    \"\"\"\n",
    "    ### BEGIN SOLUTION\n",
    "    \n",
    "    ### END SOLUTION"
   ]
  },
  {
   "cell_type": "markdown",
   "metadata": {},
   "source": [
    "## 練習題到此結束，以下的儲存格可以忽略"
   ]
  },
  {
   "cell_type": "code",
   "execution_count": null,
   "metadata": {},
   "outputs": [],
   "source": [
    "!wget -N https://raw.githubusercontent.com/datainpoint/classroom-hahow-pythonfiftyplus/main/exercise_index.json"
   ]
  },
  {
   "cell_type": "code",
   "execution_count": null,
   "metadata": {},
   "outputs": [],
   "source": [
    "import unittest\n",
    "import json\n",
    "\n",
    "def run_suite(test_class, chapter_index):\n",
    "    suite = unittest.TestLoader().loadTestsFromTestCase(test_class)\n",
    "    runner = unittest.TextTestRunner(verbosity=2)\n",
    "    test_results = runner.run(suite)\n",
    "    number_of_failures = len(test_results.failures)\n",
    "    number_of_errors = len(test_results.errors)\n",
    "    number_of_test_runs = test_results.testsRun\n",
    "    number_of_successes = number_of_test_runs - (number_of_failures + number_of_errors)\n",
    "    with open(\"exercise_index.json\", \"r\") as f:\n",
    "        exercise_index = json.load(f)\n",
    "    chapter_name = exercise_index[chapter_index][\"chapter_name\"]\n",
    "    number_of_total_questions = 0\n",
    "    number_of_completed_questions = 0\n",
    "    for i in range(len(exercise_index)):\n",
    "        number_of_total_questions += exercise_index[i][\"number_of_exercises\"]\n",
    "        if i < chapter_index:\n",
    "            number_of_completed_questions += exercise_index[i][\"number_of_exercises\"]\n",
    "    number_of_completed_questions += number_of_successes\n",
    "    chapter_percentage = number_of_successes * 100 / number_of_test_runs\n",
    "    overall_percentage = number_of_completed_questions * 100 / number_of_total_questions\n",
    "    print(\"你在「{}」章節的練習題完成率為 ... {:.2f}% ({}/{})\".format(chapter_name, chapter_percentage, number_of_successes, number_of_test_runs))\n",
    "    print(\"整體課程練習題的累計完成率為 ... {:.2f}% ({}/{})\".format(overall_percentage, number_of_completed_questions, number_of_total_questions))\n",
    "    if chapter_percentage == 100 and chapter_index < 19:\n",
    "        print(\"表現得很好，你已經完成「{}」所有習題，我們繼續往下個章節：「{}」前進！\".format(exercise_index[chapter_index][\"chapter_name\"], exercise_index[chapter_index + 1][\"chapter_name\"]))\n",
    "        if chapter_index == 4:\n",
    "            print(\"太棒了，你已經完成「Python 的 50+ 練習」的第一部分：Python 程式設計的基礎觀念，接下來還有三個部分等你來挑戰！\")\n",
    "        elif chapter_index == 8:\n",
    "            print(\"表現得非常好，你已經完成「Python 的 50+ 練習」的第二部分：Python 程式設計的進階觀念，接著讓我們邁向資料科學！\")\n",
    "        elif chapter_index == 12:\n",
    "            print(\"太令人佩服，你已經完成「Python 的 50+ 練習」的第三部分：Python 資料科學的基礎，距離完課只剩下最後一哩路！\")\n",
    "    elif chapter_percentage == 100 and chapter_index == 19:\n",
    "        print(\"恭喜完課，你已經完成「Python 的 50+ 練習」所有習題，能夠堅持到底完成所有的教學影片與練習題真是非常了不起！後面已經沒有練習題了，你現在是一位擅長寫程式處理資料的分析師！\")\n",
    "    elif chapter_percentage >= 50:\n",
    "        print(\"你已經完成「{}」章節一半以上的練習，繼續加油！\".format(chapter_name))\n",
    "\n",
    "class TestFunctions(unittest.TestCase):\n",
    "    def test_036_calculate_circle_area(self):\n",
    "        self.assertGreater(calculate_circle_area(5), 78)\n",
    "        self.assertGreater(calculate_circle_area(6), 113)\n",
    "        self.assertGreater(calculate_circle_area(7), 153)\n",
    "    def test_037_calculate_cylinder_volume(self):\n",
    "        self.assertGreater(calculate_cylinder_volume(5, 6), 470)\n",
    "        self.assertGreater(calculate_cylinder_volume(6, 5), 565)\n",
    "        self.assertGreater(calculate_cylinder_volume(7, 8), 1230)\n",
    "    def test_038_count_number_of_divisors(self):\n",
    "        self.assertEqual(count_number_of_divisors(1), 1)\n",
    "        self.assertEqual(count_number_of_divisors(2), 2)\n",
    "        self.assertEqual(count_number_of_divisors(3), 2)\n",
    "        self.assertEqual(count_number_of_divisors(4), 3)\n",
    "        self.assertEqual(count_number_of_divisors(5), 2)\n",
    "        self.assertEqual(count_number_of_divisors(6), 4)\n",
    "    def test_039_is_prime(self):\n",
    "        self.assertFalse(is_prime(1))\n",
    "        self.assertTrue(is_prime(2))\n",
    "        self.assertTrue(is_prime(3))\n",
    "        self.assertFalse(is_prime(4))\n",
    "        self.assertTrue(is_prime(5))\n",
    "    def test_040_is_args_prime(self):\n",
    "        self.assertEqual(is_args_prime(1, 2, 3), [False, True, True])\n",
    "        self.assertEqual(is_args_prime(4, 5, 6), [False, True, False])\n",
    "        self.assertEqual(is_args_prime(7, 11, 13, 17, 19), [True, True, True, True, True])\n",
    "        self.assertEqual(is_args_prime(20, 21, 22, 24, 25, 26, 27), [False, False, False, False, False, False, False])\n",
    "    def test_041_find_primes_in_range(self):\n",
    "        self.assertEqual(find_primes_in_range(1, 5), [2, 3, 5])\n",
    "        self.assertEqual(find_primes_in_range(6, 10), [7])\n",
    "        self.assertEqual(find_primes_in_range(11, 15), [11, 13])\n",
    "    def test_042_find_primes_below_100(self):\n",
    "        primes_below_100 = find_primes_below_100()\n",
    "        self.assertEqual(len(primes_below_100), 25)\n",
    "        self.assertEqual(primes_below_100, [2, 3, 5, 7, 11, 13, 17, 19, 23, 29, 31, 37, 41, 43, 47, 53, 59, 61, 67, 71, 73, 79, 83, 89, 97])\n",
    "    def test_043_find_the_first_n_primes(self):\n",
    "        self.assertEqual(find_the_first_n_primes(5), [2, 3, 5, 7, 11])\n",
    "        self.assertEqual(find_the_first_n_primes(10), [2, 3, 5, 7, 11, 13, 17, 19, 23, 29])\n",
    "        self.assertEqual(find_the_first_n_primes(30), [2, 3, 5, 7, 11, 13, 17, 19, 23, 29, 31, 37, 41, 43, 47, 53, 59, 61, 67, 71, 73, 79, 83, 89, 97, 101, 103, 107, 109, 113])\n",
    "    def test_044_square_negatives_from_args(self):\n",
    "        self.assertEqual(square_negatives_from_args(-3, -2, -1, 0, 1, 2, 3), [9, 4, 1])\n",
    "        self.assertEqual(square_negatives_from_args(-3, 0, 1, 2, 3, -2, -1), [9, 4, 1])\n",
    "        self.assertEqual(square_negatives_from_args(0, 1, 2, 3, -1, -2, -3), [1, 4, 9])\n",
    "    def test_045_uppercase_keys_values_from_kwargs(self):\n",
    "        self.assertEqual(uppercase_keys_values_from_kwargs(tw=\"twn\"), {'TW': 'TWN'})\n",
    "        self.assertEqual(uppercase_keys_values_from_kwargs(tw=\"twn\", jp=\"jpn\"), {'TW': 'TWN', 'JP': 'JPN'})\n",
    "        self.assertEqual(uppercase_keys_values_from_kwargs(tw=\"twn\", jp=\"jpn\", lt=\"ltu\"), {'TW': 'TWN', 'JP': 'JPN', 'LT': 'LTU'})\n",
    "\n",
    "run_suite(TestFunctions, 4)"
   ]
  }
 ],
 "metadata": {
  "kernelspec": {
   "display_name": "Python 3 (ipykernel)",
   "language": "python",
   "name": "python3"
  },
  "language_info": {
   "codemirror_mode": {
    "name": "ipython",
    "version": 3
   },
   "file_extension": ".py",
   "mimetype": "text/x-python",
   "name": "python",
   "nbconvert_exporter": "python",
   "pygments_lexer": "ipython3",
   "version": "3.9.5"
  }
 },
 "nbformat": 4,
 "nbformat_minor": 4
}
