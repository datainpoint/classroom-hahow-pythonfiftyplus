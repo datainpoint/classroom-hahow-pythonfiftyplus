{
 "cells": [
  {
   "cell_type": "markdown",
   "metadata": {
    "deletable": false,
    "slideshow": {
     "slide_type": "slide"
    }
   },
   "source": [
    "# Python 的 50+ 練習：資料科學學習手冊\n",
    "\n",
    "> 使用資料類別運算顯示與判斷\n",
    "\n",
    "[數據交點](https://www.datainpoint.com) | 郭耀仁 <yaojenkuo@datainpoint.com>"
   ]
  },
  {
   "cell_type": "markdown",
   "metadata": {
    "slideshow": {
     "slide_type": "subslide"
    }
   },
   "source": [
    "## 這個章節會登場的保留字與函數\n",
    "\n",
    "- `def` 保留字。\n",
    "- `return` 保留字。\n",
    "- `False` 保留字。\n",
    "- `True` 保留字。\n",
    "- `in` 保留字。\n",
    "- `not` 保留字。\n",
    "- `and` 保留字。\n",
    "- `or` 保留字。"
   ]
  },
  {
   "cell_type": "markdown",
   "metadata": {
    "slideshow": {
     "slide_type": "subslide"
    }
   },
   "source": [
    "## 這個章節會登場的保留字與函數（續）\n",
    "\n",
    "- `abs()` 函數。\n",
    "- `pow()` 函數。\n",
    "- `type()` 函數。\n",
    "- `help()` 函數。\n",
    "- `isinstance()` 函數。"
   ]
  },
  {
   "cell_type": "markdown",
   "metadata": {
    "slideshow": {
     "slide_type": "subslide"
    }
   },
   "source": [
    "## 這個章節會登場的保留字與函數（續）\n",
    "\n",
    "- `bool()` 函數。\n",
    "- `int()` 函數。\n",
    "- `float()` 函數。\n",
    "- `str()` 函數。"
   ]
  },
  {
   "cell_type": "markdown",
   "metadata": {
    "slideshow": {
     "slide_type": "slide"
    }
   },
   "source": [
    "## 解析哈囉世界"
   ]
  },
  {
   "cell_type": "markdown",
   "metadata": {
    "slideshow": {
     "slide_type": "subslide"
    }
   },
   "source": [
    "## 哈囉世界\n",
    "\n",
    "- 哈囉世界中的 `print()` 是什麼？\n",
    "- 哈囉世界中的 `\"Hello, world!\"` 是什麼？"
   ]
  },
  {
   "cell_type": "code",
   "execution_count": 1,
   "metadata": {},
   "outputs": [
    {
     "name": "stdout",
     "output_type": "stream",
     "text": [
      "Hello, world!\n"
     ]
    }
   ],
   "source": [
    "print(\"Hello, world!\")"
   ]
  },
  {
   "cell_type": "markdown",
   "metadata": {
    "slideshow": {
     "slide_type": "subslide"
    }
   },
   "source": [
    "## 哈囉世界中的 `print()` 是什麼\n",
    "\n",
    "- `print()` 是 Python 的內建函數。\n",
    "- 內建函數是不需要先行「定義」就可以使用的函數。"
   ]
  },
  {
   "cell_type": "markdown",
   "metadata": {
    "slideshow": {
     "slide_type": "subslide"
    }
   },
   "source": [
    "## 函數的組成有四個要件\n",
    "\n",
    "1. 函數名稱。\n",
    "2. 輸入、參數。\n",
    "3. 函數主體。\n",
    "4. 輸出。"
   ]
  },
  {
   "cell_type": "markdown",
   "metadata": {
    "slideshow": {
     "slide_type": "subslide"
    }
   },
   "source": [
    "## 函數運作的過程就像買一杯珍珠奶茶\n",
    "\n",
    "![Imgur](https://i.imgur.com/6gpJebm.jpg?1)\n",
    "\n",
    "來源：Google 圖片"
   ]
  },
  {
   "cell_type": "markdown",
   "metadata": {
    "slideshow": {
     "slide_type": "subslide"
    }
   },
   "source": [
    "## 函數有四個來源\n",
    "\n",
    "1. 來自內建函數。\n",
    "2. 來自標準模組。\n",
    "3. 來自第三方模組。\n",
    "4. 來自使用者的定義。"
   ]
  },
  {
   "cell_type": "markdown",
   "metadata": {
    "slideshow": {
     "slide_type": "subslide"
    }
   },
   "source": [
    "## 來自內建函數可以直接使用\n",
    "\n",
    "- 哪些內建函數可以直接使用：<https://docs.python.org/3/library/functions.html>\n",
    "- 使用方式為輸入資料或引數（Parameters）到函數名稱後的小括號。"
   ]
  },
  {
   "cell_type": "code",
   "execution_count": 2,
   "metadata": {
    "slideshow": {
     "slide_type": "subslide"
    }
   },
   "outputs": [
    {
     "data": {
      "text/plain": [
       "55"
      ]
     },
     "execution_count": 2,
     "metadata": {},
     "output_type": "execute_result"
    }
   ],
   "source": [
    "abs(-55) # -55 as data"
   ]
  },
  {
   "cell_type": "code",
   "execution_count": 3,
   "metadata": {},
   "outputs": [
    {
     "data": {
      "text/plain": [
       "25"
      ]
     },
     "execution_count": 3,
     "metadata": {},
     "output_type": "execute_result"
    }
   ],
   "source": [
    "pow(5, 2) # 5 as data, 2 as parameter "
   ]
  },
  {
   "cell_type": "markdown",
   "metadata": {
    "slideshow": {
     "slide_type": "subslide"
    }
   },
   "source": [
    "## 目前還沒有載入標準/第三方模組函數的需求\n",
    "\n",
    "之後在「使用模組包裝函數與類別」章節會說明。"
   ]
  },
  {
   "cell_type": "markdown",
   "metadata": {
    "slideshow": {
     "slide_type": "subslide"
    }
   },
   "source": [
    "## 練習題就是來自使用者定義的函數\n",
    "\n",
    "```python\n",
    "def function_name(INPUTS: TYPE, ARGUMENTS: TYPE) -> TYPE:\n",
    "    ### BEGIN SOLUTION\n",
    "    OUTPUTS = INPUTS (+-*/...) ARGUMENTS\n",
    "    return OUTPUTS\n",
    "    ### END SOLUTION\n",
    "```"
   ]
  },
  {
   "cell_type": "markdown",
   "metadata": {
    "slideshow": {
     "slide_type": "subslide"
    }
   },
   "source": [
    "## 現階段我們先瞭解一些關於自行定義函數的組成\n",
    "\n",
    "- `def` 保留字用來定義函數的名稱。\n",
    "- 縮排部分稱為程式區塊（Code block），是函數的主體，也是練習題要學員運用預期輸入與參數來完成的部分。\n",
    "- 不要忘記把函數的預期輸出寫在 `return` 保留字後。\n",
    "- 函數的類別提示（Typing）並不是必要的，但它能幫助學員更快理解練習題。"
   ]
  },
  {
   "cell_type": "markdown",
   "metadata": {
    "slideshow": {
     "slide_type": "subslide"
    }
   },
   "source": [
    "## 哈囉世界中的 `\"Hello, world!\"` 是什麼\n",
    "\n",
    "- `\"Hello, world!\"` 是 `str` 類別的字面值（Literal value）。\n",
    "- 除了 `str` 類別，字面值也可以是其他的資料或資料結構類別。\n",
    "- 單純的字面值不太實用，更好的做法是以一個物件名稱去參照字面值！"
   ]
  },
  {
   "cell_type": "code",
   "execution_count": 4,
   "metadata": {
    "slideshow": {
     "slide_type": "-"
    }
   },
   "outputs": [
    {
     "data": {
      "text/plain": [
       "'Hello, world!'"
      ]
     },
     "execution_count": 4,
     "metadata": {},
     "output_type": "execute_result"
    }
   ],
   "source": [
    "hello_world = \"Hello, world!\"\n",
    "hello_world"
   ]
  },
  {
   "cell_type": "markdown",
   "metadata": {
    "slideshow": {
     "slide_type": "subslide"
    }
   },
   "source": [
    "## 如何說明 `hello_world = \"Hello, world!\"`\n",
    "\n",
    "- `hello_world` 物件是 `str` 類別的實例（Instance）。\n",
    "- 我們可以使用 `=` 符號讓 `object_name` 成為 `literal_value` 類別的實例，供後續的程式使用。\n",
    "\n",
    "```python\n",
    "object_name = literal_value\n",
    "```"
   ]
  },
  {
   "cell_type": "markdown",
   "metadata": {
    "slideshow": {
     "slide_type": "subslide"
    }
   },
   "source": [
    "## 筆記本的顯示規則\n",
    "\n",
    "- 會將 Code cell 最後一列的字面值、物件或函數輸出。\n",
    "- 如果想要有多個輸出，必須明確地使用 `print()` 函數。"
   ]
  },
  {
   "cell_type": "markdown",
   "metadata": {
    "slideshow": {
     "slide_type": "subslide"
    }
   },
   "source": [
    "## 常見的筆記本使用習慣\n",
    "\n",
    "- 如果 Code cell 只需要一個輸出，直接參照字面值、物件或函數。\n",
    "- 如果 Code cell 需要多個輸出，全部都使用 `print()` 函數。"
   ]
  },
  {
   "cell_type": "code",
   "execution_count": 5,
   "metadata": {
    "slideshow": {
     "slide_type": "subslide"
    }
   },
   "outputs": [
    {
     "data": {
      "text/plain": [
       "'Hello, world!'"
      ]
     },
     "execution_count": 5,
     "metadata": {},
     "output_type": "execute_result"
    }
   ],
   "source": [
    "# 如果 Code cell 只需要一個輸出\n",
    "hello_world = \"Hello, world!\"\n",
    "hello_world"
   ]
  },
  {
   "cell_type": "code",
   "execution_count": 6,
   "metadata": {
    "slideshow": {
     "slide_type": "-"
    }
   },
   "outputs": [
    {
     "name": "stdout",
     "output_type": "stream",
     "text": [
      "Hello, world!\n",
      "Hello, world!\n",
      "Hello, world!\n"
     ]
    }
   ],
   "source": [
    "# 如果 Code cell 需要多個輸出\n",
    "print(hello_world)\n",
    "print(hello_world)\n",
    "print(hello_world)"
   ]
  },
  {
   "cell_type": "markdown",
   "metadata": {
    "slideshow": {
     "slide_type": "subslide"
    }
   },
   "source": [
    "## 物件與函數的命名規則\n",
    "\n",
    "- 使用全小寫英文，採用蛇形命名法（Snake case），不同單字之間以底線 `_` 相隔。\n",
    "- 不能使用保留字作命名。\n",
    "- 使用單數名詞為資料類別的物件命名、使用複數名詞為資料結構類別的物件命名、使用動詞為函數或方法命名，盡量讓名稱簡潔且具有意義。\n",
    "- 不要使用內建函數作物件的命名，避免覆蓋內建函數的功能。\n",
    "\n",
    "來源：[PEP 8 -- Style Guide for Python Code](https://www.python.org/dev/peps/pep-0008)"
   ]
  },
  {
   "cell_type": "markdown",
   "metadata": {
    "slideshow": {
     "slide_type": "subslide"
    }
   },
   "source": [
    "## 什麼是保留字\n",
    "\n",
    "- 保留字是具有特殊作用的指令。\n",
    "- 目前有看過的 `import`、`def` 與 `return` 等都是 Python 的保留字。\n",
    "- Python 的保留字一覽：<https://docs.python.org/3/reference/lexical_analysis.html#keywords>"
   ]
  },
  {
   "cell_type": "markdown",
   "metadata": {
    "slideshow": {
     "slide_type": "subslide"
    }
   },
   "source": [
    "## 有時候我們在程式碼之中會看到用來解釋的說明文字\n",
    "\n",
    "- 註解（Comments）是口語化的文字敘述，並不能夠被翻譯成電腦語言。\n",
    "- 註解可以細分為單行註解、行末註解。"
   ]
  },
  {
   "cell_type": "code",
   "execution_count": 7,
   "metadata": {
    "slideshow": {
     "slide_type": "-"
    }
   },
   "outputs": [
    {
     "data": {
      "text/plain": [
       "'Hello, world!'"
      ]
     },
     "execution_count": 7,
     "metadata": {},
     "output_type": "execute_result"
    }
   ],
   "source": [
    "# A hello world example\n",
    "hello_world = \"Hello, world!\" # hello_world is an instance of str class\n",
    "hello_world                   # show hello_world object"
   ]
  },
  {
   "cell_type": "markdown",
   "metadata": {
    "slideshow": {
     "slide_type": "slide"
    }
   },
   "source": [
    "## 各司其職的資料類別"
   ]
  },
  {
   "cell_type": "markdown",
   "metadata": {
    "slideshow": {
     "slide_type": "subslide"
    }
   },
   "source": [
    "## 五種基礎資料類別\n",
    "\n",
    "- `int`(integer)\n",
    "- `float`\n",
    "- `str`(string)\n",
    "- `bool`(boolean)\n",
    "- `NoneType`"
   ]
  },
  {
   "cell_type": "markdown",
   "metadata": {
    "slideshow": {
     "slide_type": "subslide"
    }
   },
   "source": [
    "## 「簡介」章節提過什麼是程式設計\n",
    "\n",
    "以程式語言來指定電腦來解決特定問題的過程，基礎資料類別的存在就是為了讓電腦能夠：\n",
    "\n",
    "- 以 `int` 與 `float` 進行數值計算。\n",
    "- 以 `str` 表達與進行文字操作處理。\n",
    "- 以 `bool` 進行流程控制。"
   ]
  },
  {
   "cell_type": "markdown",
   "metadata": {
    "slideshow": {
     "slide_type": "subslide"
    }
   },
   "source": [
    "## 使用內建函數 `type()` 確認物件所參照的資料類別\n",
    "\n",
    "我們通常都會用一個物件去參照字面值，而物件名稱或 `print()` 函數並不能反映資料類別。"
   ]
  },
  {
   "cell_type": "code",
   "execution_count": 8,
   "metadata": {
    "slideshow": {
     "slide_type": "-"
    }
   },
   "outputs": [
    {
     "name": "stdout",
     "output_type": "stream",
     "text": [
      "5566\n",
      "5566\n"
     ]
    }
   ],
   "source": [
    "favorite = \"5566\" # favorite boy group?\n",
    "print(favorite)\n",
    "favorite = 5566   # favorite number?\n",
    "print(favorite)"
   ]
  },
  {
   "cell_type": "code",
   "execution_count": 9,
   "metadata": {
    "slideshow": {
     "slide_type": "subslide"
    }
   },
   "outputs": [
    {
     "name": "stdout",
     "output_type": "stream",
     "text": [
      "<class 'int'>\n",
      "<class 'float'>\n",
      "<class 'str'>\n"
     ]
    }
   ],
   "source": [
    "my_lucky_number = 5566\n",
    "full_marathon_distance_in_km = 42.195\n",
    "my_favorite_boy_group = \"5566\"\n",
    "print(type(my_lucky_number))\n",
    "print(type(full_marathon_distance_in_km))\n",
    "print(type(my_favorite_boy_group))"
   ]
  },
  {
   "cell_type": "markdown",
   "metadata": {
    "slideshow": {
     "slide_type": "slide"
    }
   },
   "source": [
    "## 數值與數值運算符"
   ]
  },
  {
   "cell_type": "markdown",
   "metadata": {
    "slideshow": {
     "slide_type": "subslide"
    }
   },
   "source": [
    "## 數值\n",
    "\n",
    "- `int`(integer)\n",
    "- `float`"
   ]
  },
  {
   "cell_type": "code",
   "execution_count": 10,
   "metadata": {},
   "outputs": [
    {
     "name": "stdout",
     "output_type": "stream",
     "text": [
      "<class 'int'>\n",
      "<class 'float'>\n"
     ]
    }
   ],
   "source": [
    "my_lucky_number = 5566\n",
    "full_marathon_distance_in_km = 42.195\n",
    "print(type(my_lucky_number))\n",
    "print(type(full_marathon_distance_in_km))"
   ]
  },
  {
   "cell_type": "markdown",
   "metadata": {
    "slideshow": {
     "slide_type": "subslide"
    }
   },
   "source": [
    "## 數值運算符\n",
    "\n",
    "- 直觀的加減乘除 `+`, `-`, `*`, `/`\n",
    "- 次方 `**`\n",
    "- 計算餘數 `%`\n",
    "- 計算商數 `//`\n",
    "- 優先運算 `()`"
   ]
  },
  {
   "cell_type": "markdown",
   "metadata": {
    "slideshow": {
     "slide_type": "subslide"
    }
   },
   "source": [
    "## 數值運算符的順位\n",
    "\n",
    "1. 最高順位是優先運算 `()`\n",
    "2. 第二順位是次方 `**`\n",
    "3. 第三順位是計算餘數 `%` 計算商數 `//` 乘 `*` 以及除 `/`\n",
    "4. 第四順位是加 `+` 減 `-`"
   ]
  },
  {
   "cell_type": "markdown",
   "metadata": {
    "slideshow": {
     "slide_type": "subslide"
    }
   },
   "source": [
    "## 次方運算的範例：與內建函數 `pow()` 相同作用的自行定義函數 `power()`"
   ]
  },
  {
   "cell_type": "code",
   "execution_count": 11,
   "metadata": {},
   "outputs": [
    {
     "name": "stdout",
     "output_type": "stream",
     "text": [
      "125\n",
      "125\n"
     ]
    }
   ],
   "source": [
    "def power(x, n):\n",
    "    return x**n\n",
    "\n",
    "print(power(5, 3))\n",
    "print(pow(5, 3))"
   ]
  },
  {
   "cell_type": "markdown",
   "metadata": {
    "slideshow": {
     "slide_type": "subslide"
    }
   },
   "source": [
    "## 優先運算的範例：將華氏溫度轉換為攝氏溫度的自行定義函數 `convert_fahrenheit_to_celsius()`\n",
    "\n",
    "\\begin{equation}\n",
    "Celsius(^{\\circ} C) = (Fahrenheit(^{\\circ} F) - 32) \\times \\frac{5}{9}\n",
    "\\end{equation}"
   ]
  },
  {
   "cell_type": "code",
   "execution_count": 12,
   "metadata": {
    "slideshow": {
     "slide_type": "-"
    }
   },
   "outputs": [
    {
     "name": "stdout",
     "output_type": "stream",
     "text": [
      "0.0\n",
      "100.0\n"
     ]
    }
   ],
   "source": [
    "def convert_fahrenheit_to_celsius(fahrenheit):\n",
    "    celsius = (fahrenheit - 32) * 5/9  # The formula to convert fahrenheit to celsius.\n",
    "    return celsius\n",
    "\n",
    "print(convert_fahrenheit_to_celsius(32))\n",
    "print(convert_fahrenheit_to_celsius(212))"
   ]
  },
  {
   "cell_type": "markdown",
   "metadata": {
    "slideshow": {
     "slide_type": "slide"
    }
   },
   "source": [
    "## 文字與文字運算符"
   ]
  },
  {
   "cell_type": "markdown",
   "metadata": {
    "slideshow": {
     "slide_type": "subslide"
    }
   },
   "source": [
    "## 使用成對的單引號 `'`、雙引號 `\"` 或三個雙引號 `\"\"\"` 形成 `str`"
   ]
  },
  {
   "cell_type": "code",
   "execution_count": 13,
   "metadata": {},
   "outputs": [
    {
     "name": "stdout",
     "output_type": "stream",
     "text": [
      "<class 'str'>\n",
      "<class 'str'>\n",
      "<class 'str'>\n"
     ]
    }
   ],
   "source": [
    "str_with_single_quotes = 'Hello, world!'\n",
    "str_with_double_quotes = \"Hello, world!\"\n",
    "str_with_triple_double_quotes = \"\"\"Hello, world!\"\"\"\n",
    "print(type(str_with_single_quotes))\n",
    "print(type(str_with_double_quotes))\n",
    "print(type(str_with_triple_double_quotes))"
   ]
  },
  {
   "cell_type": "markdown",
   "metadata": {
    "slideshow": {
     "slide_type": "subslide"
    }
   },
   "source": [
    "## `str` 中可能會包含單引號或雙引號，有兩種解決方式\n",
    "\n",
    "1. 以反斜線 `\\`（又稱跳脫符號）作為標註。\n",
    "2. 以不同樣式的引號來形成 `str` 藉此區隔。"
   ]
  },
  {
   "cell_type": "code",
   "execution_count": 14,
   "metadata": {},
   "outputs": [],
   "source": [
    "mcd = 'I\\'m lovin\\' it!'   # escape with \\\n",
    "mcd = \"I'm lovin' it!\"     # use different quotation marks\n",
    "mcd = \"\"\"I'm lovin' it!\"\"\" # use different quotation marks"
   ]
  },
  {
   "cell_type": "markdown",
   "metadata": {
    "slideshow": {
     "slide_type": "subslide"
    }
   },
   "source": [
    "## 善用成對的三個雙引號 `\"\"\"` 形成 `str`\n",
    "\n",
    "- 常用來形成有換行、段落、有單引號以及有雙引號的文章或其他語言的程式碼。\n",
    "- 放置在自行定義函數的主體第一列可以作為說明（Docstring）。\n",
    "- 利用反斜線 `\\` 讓程式碼在顯示換行但作用連續。"
   ]
  },
  {
   "cell_type": "code",
   "execution_count": 15,
   "metadata": {
    "slideshow": {
     "slide_type": "subslide"
    }
   },
   "outputs": [
    {
     "data": {
      "text/plain": [
       "str"
      ]
     },
     "execution_count": 15,
     "metadata": {},
     "output_type": "execute_result"
    }
   ],
   "source": [
    "# Use \\ for implicit continuation\n",
    "shawshank_redemption_storyline = \"\"\"Chronicles the experiences of a formerly successful \\\n",
    "banker as a prisoner in the gloomy jailhouse of Shawshank after being found guilty \\\n",
    "of a crime he did not commit. The film portrays the man's unique way of dealing \\\n",
    "with his new, torturous life; along the way he befriends a number of fellow prisoners, \\\n",
    "most notably a wise long-term inmate named Red.\"\"\"\n",
    "type(shawshank_redemption_storyline)"
   ]
  },
  {
   "cell_type": "code",
   "execution_count": 16,
   "metadata": {
    "slideshow": {
     "slide_type": "subslide"
    }
   },
   "outputs": [
    {
     "data": {
      "text/plain": [
       "str"
      ]
     },
     "execution_count": 16,
     "metadata": {},
     "output_type": "execute_result"
    }
   ],
   "source": [
    "# Use \\ for implicit continuation\n",
    "sql_query =\\\n",
    "\"\"\"\n",
    "SELECT *\n",
    "  FROM world\n",
    " WHERE country = 'Taiwan';\n",
    "\"\"\"\n",
    "type(sql_query)"
   ]
  },
  {
   "cell_type": "markdown",
   "metadata": {
    "slideshow": {
     "slide_type": "subslide"
    }
   },
   "source": [
    "## 使用內建函數 `help()` 查詢函數的使用方法"
   ]
  },
  {
   "cell_type": "code",
   "execution_count": 17,
   "metadata": {},
   "outputs": [
    {
     "name": "stdout",
     "output_type": "stream",
     "text": [
      "Help on built-in function abs in module builtins:\n",
      "\n",
      "abs(x, /)\n",
      "    Return the absolute value of the argument.\n",
      "\n"
     ]
    }
   ],
   "source": [
    "help(abs)"
   ]
  },
  {
   "cell_type": "markdown",
   "metadata": {
    "slideshow": {
     "slide_type": "subslide"
    }
   },
   "source": [
    "## 使用筆記本寫程式可以在函數的小括號中按 `Shift - Tab` 查詢使用方法"
   ]
  },
  {
   "cell_type": "code",
   "execution_count": 18,
   "metadata": {},
   "outputs": [],
   "source": [
    "#abs()\n",
    "#pow()"
   ]
  },
  {
   "cell_type": "markdown",
   "metadata": {
    "slideshow": {
     "slide_type": "subslide"
    }
   },
   "source": [
    "## 將 `str` 放置在自行定義函數主體第一列可以作為說明（Docstring）"
   ]
  },
  {
   "cell_type": "code",
   "execution_count": 19,
   "metadata": {},
   "outputs": [
    {
     "name": "stdout",
     "output_type": "stream",
     "text": [
      "Help on function power in module __main__:\n",
      "\n",
      "power(x, n)\n",
      "\n"
     ]
    }
   ],
   "source": [
    "def power(x, n):\n",
    "    return x**n\n",
    "\n",
    "help(power)"
   ]
  },
  {
   "cell_type": "code",
   "execution_count": 20,
   "metadata": {
    "slideshow": {
     "slide_type": "subslide"
    }
   },
   "outputs": [
    {
     "name": "stdout",
     "output_type": "stream",
     "text": [
      "Help on function power in module __main__:\n",
      "\n",
      "power(x, n)\n",
      "    Equivalent to x**n.\n",
      "\n"
     ]
    }
   ],
   "source": [
    "def power(x, n):\n",
    "    \"\"\"\n",
    "    Equivalent to x**n.\n",
    "    \"\"\"\n",
    "    return x**n\n",
    "\n",
    "help(power)"
   ]
  },
  {
   "cell_type": "markdown",
   "metadata": {
    "slideshow": {
     "slide_type": "subslide"
    }
   },
   "source": [
    "## 能對 `str` 使用的運算符\n",
    "\n",
    "- 加號 `+` 能夠連結 `str`\n",
    "- 乘號 `*` 能夠複製 `str` 出現次數。"
   ]
  },
  {
   "cell_type": "code",
   "execution_count": 21,
   "metadata": {
    "slideshow": {
     "slide_type": "subslide"
    }
   },
   "outputs": [
    {
     "name": "stdout",
     "output_type": "stream",
     "text": [
      "I'm lovin' it!\n"
     ]
    }
   ],
   "source": [
    "m = \"\"\"I'm\"\"\"\n",
    "c = \"\"\" lovin'\"\"\"\n",
    "d = \"\"\" it!\"\"\"\n",
    "print(m + c + d)"
   ]
  },
  {
   "cell_type": "code",
   "execution_count": 22,
   "metadata": {
    "slideshow": {
     "slide_type": "subslide"
    }
   },
   "outputs": [
    {
     "name": "stdout",
     "output_type": "stream",
     "text": [
      "I'm lovin' it!I'm lovin' it!I'm lovin' it!\n"
     ]
    }
   ],
   "source": [
    "mcd = \"\"\"I'm lovin' it!\"\"\"\n",
    "print(mcd*3)"
   ]
  },
  {
   "cell_type": "markdown",
   "metadata": {
    "slideshow": {
     "slide_type": "subslide"
    }
   },
   "source": [
    "## 另一個 `str` 常用的技巧是特定顯示格式\n",
    "\n",
    "- 具體來說是在 `str` 中嵌入宣告好的物件，如此顯示的內容將隨著物件中所儲存的值而變動。\n",
    "- 可以透過加號來操作，但是這個做法可讀性較低且無法指定顯示格式。"
   ]
  },
  {
   "cell_type": "code",
   "execution_count": 23,
   "metadata": {},
   "outputs": [
    {
     "name": "stdout",
     "output_type": "stream",
     "text": [
      "Hello, world!\n",
      "Hello, Python!\n"
     ]
    }
   ],
   "source": [
    "def say_hello_to_anyone(anyone):\n",
    "    return \"Hello, \" + anyone + \"!\"\n",
    "\n",
    "print(say_hello_to_anyone(\"world\"))\n",
    "print(say_hello_to_anyone(\"Python\"))"
   ]
  },
  {
   "cell_type": "markdown",
   "metadata": {
    "slideshow": {
     "slide_type": "subslide"
    }
   },
   "source": [
    "## 透過 `str` 的 `.format()` 方法以及 f-string 語法搭配大括號 `{}` 指定顯示格式\n",
    "\n",
    "- `.format()` 方法：`\"{}\".format(object_name)`\n",
    "- f-string 語法：`f\"{object_name}\"`"
   ]
  },
  {
   "cell_type": "markdown",
   "metadata": {
    "slideshow": {
     "slide_type": "subslide"
    }
   },
   "source": [
    "## 以特定格式印出的範例：`say_hello_to_anyone()` 函數"
   ]
  },
  {
   "cell_type": "code",
   "execution_count": 24,
   "metadata": {},
   "outputs": [
    {
     "name": "stdout",
     "output_type": "stream",
     "text": [
      "Hello, world!\n",
      "Hello, Python!\n"
     ]
    }
   ],
   "source": [
    "def say_hello_to_anyone(anyone):\n",
    "    return \"Hello, {}!\".format(anyone) # str's format method\n",
    "\n",
    "print(say_hello_to_anyone(\"world\"))\n",
    "print(say_hello_to_anyone(\"Python\"))"
   ]
  },
  {
   "cell_type": "code",
   "execution_count": 25,
   "metadata": {
    "slideshow": {
     "slide_type": "subslide"
    }
   },
   "outputs": [
    {
     "name": "stdout",
     "output_type": "stream",
     "text": [
      "Hello, world!\n",
      "Hello, Python!\n"
     ]
    }
   ],
   "source": [
    "def say_hello_to_anyone(anyone):\n",
    "    return f\"Hello, {anyone}!\" # f-string syntax\n",
    "\n",
    "print(say_hello_to_anyone(\"world\"))\n",
    "print(say_hello_to_anyone(\"Python\"))"
   ]
  },
  {
   "cell_type": "markdown",
   "metadata": {
    "slideshow": {
     "slide_type": "subslide"
    }
   },
   "source": [
    "## 我常用的特定格式\n",
    "\n",
    "- 指定小數點 `n` 位的浮點數格式 `:.nf`。\n",
    "- 具有千分位逗號的金額格式 `:,`。"
   ]
  },
  {
   "cell_type": "code",
   "execution_count": 26,
   "metadata": {
    "slideshow": {
     "slide_type": "subslide"
    }
   },
   "outputs": [
    {
     "name": "stdout",
     "output_type": "stream",
     "text": [
      "32.0 degrees fahrenheit is equal to 0.0 degrees celsius.\n",
      "212.0 degrees fahrenheit is equal to 100.0 degrees celsius.\n"
     ]
    }
   ],
   "source": [
    "def fahrenheit_to_celsius(fahrenheit):\n",
    "    celsius = (fahrenheit - 32) * 5/9\n",
    "    msg = \"{:.1f} degrees fahrenheit is equal to {:.1f} degrees celsius.\".format(fahrenheit, celsius)\n",
    "    return msg\n",
    "\n",
    "print(fahrenheit_to_celsius(32))\n",
    "print(fahrenheit_to_celsius(212))"
   ]
  },
  {
   "cell_type": "code",
   "execution_count": 27,
   "metadata": {
    "slideshow": {
     "slide_type": "subslide"
    }
   },
   "outputs": [
    {
     "name": "stdout",
     "output_type": "stream",
     "text": [
      "A Big Mac costs 72.00 TWD in Taiwan.\n",
      "A Big Mac costs 5.65 USD in US.\n",
      "A Big Mac costs 6,520.00 Won in South Korea.\n"
     ]
    }
   ],
   "source": [
    "def big_mac_index(country, currency, price):\n",
    "    msg = f\"A Big Mac costs {price:,.2f} {currency} in {country}.\"\n",
    "    return msg\n",
    "\n",
    "print(big_mac_index(\"Taiwan\", \"TWD\", 72))\n",
    "print(big_mac_index(\"US\", \"USD\", 5.65))\n",
    "print(big_mac_index(\"South Korea\", \"Won\", 6520))"
   ]
  },
  {
   "cell_type": "markdown",
   "metadata": {
    "slideshow": {
     "slide_type": "subslide"
    }
   },
   "source": [
    "## 其他更多特定格式\n",
    "\n",
    "<https://www.w3schools.com/python/ref_string_format.asp>"
   ]
  },
  {
   "cell_type": "markdown",
   "metadata": {
    "slideshow": {
     "slide_type": "slide"
    }
   },
   "source": [
    "## 布林、關係運算符與邏輯運算符"
   ]
  },
  {
   "cell_type": "markdown",
   "metadata": {
    "slideshow": {
     "slide_type": "subslide"
    }
   },
   "source": [
    "## 什麼是 `bool`\n",
    "\n",
    "布林（Boolean）是程式設計中用來表示邏輯的資料類別，以發明布林代數的數學家 George Boole 為名，它只有兩種值：真（`True`）和假（`False`），在程式設計與資料科學可以進行流程控制以及資料篩選。\n",
    "\n",
    "來源：<https://en.wikipedia.org/wiki/Boolean_data_type>"
   ]
  },
  {
   "cell_type": "markdown",
   "metadata": {
    "slideshow": {
     "slide_type": "subslide"
    }
   },
   "source": [
    "## 如何形成 `bool`\n",
    "\n",
    "- 直接使用保留字 `False` 或 `True`\n",
    "- 使用關係運算符。\n",
    "- 使用邏輯運算符。"
   ]
  },
  {
   "cell_type": "markdown",
   "metadata": {
    "slideshow": {
     "slide_type": "subslide"
    }
   },
   "source": [
    "## 直接使用保留字 `False` 或 `True`"
   ]
  },
  {
   "cell_type": "code",
   "execution_count": 28,
   "metadata": {},
   "outputs": [
    {
     "name": "stdout",
     "output_type": "stream",
     "text": [
      "False\n",
      "True\n",
      "<class 'bool'>\n",
      "<class 'bool'>\n"
     ]
    }
   ],
   "source": [
    "bool_false = False\n",
    "bool_true = True\n",
    "\n",
    "print(bool_false)\n",
    "print(bool_true)\n",
    "print(type(bool_false))\n",
    "print(type(bool_true))"
   ]
  },
  {
   "cell_type": "markdown",
   "metadata": {
    "slideshow": {
     "slide_type": "subslide"
    }
   },
   "source": [
    "## 使用關係運算符形成 `bool`\n",
    "\n",
    "- 等於 `==`\n",
    "- 不等於 `!=`\n",
    "- 大於 `>` 小於 `<`\n",
    "- 大於等於 `>=` 小於等於 `<=`\n",
    "- 包含於`in` 不包含於 `not in`"
   ]
  },
  {
   "cell_type": "markdown",
   "metadata": {
    "slideshow": {
     "slide_type": "subslide"
    }
   },
   "source": [
    "## 在關係運算符兩側放置物件或字面值形成 `bool` 稱為條件運算式（Conditional expression）"
   ]
  },
  {
   "cell_type": "code",
   "execution_count": 29,
   "metadata": {
    "slideshow": {
     "slide_type": "-"
    }
   },
   "outputs": [
    {
     "name": "stdout",
     "output_type": "stream",
     "text": [
      "True\n",
      "False\n",
      "False\n",
      "True\n",
      "True\n",
      "True\n"
     ]
    }
   ],
   "source": [
    "my_lucky_number = 5566\n",
    "my_favorite_boy_group = \"5566\"\n",
    "\n",
    "print(my_lucky_number == 5566)\n",
    "print(my_lucky_number != 5566)\n",
    "print(my_lucky_number > 5566)\n",
    "print(my_lucky_number >= 5566)\n",
    "print('56' in my_favorite_boy_group)\n",
    "print('78' not in my_favorite_boy_group)"
   ]
  },
  {
   "cell_type": "markdown",
   "metadata": {
    "slideshow": {
     "slide_type": "subslide"
    }
   },
   "source": [
    "## 要將 `==` 以及 `=` 明確地區分出來\n",
    "\n",
    "- `==` 是關係運算符，用來判斷符號兩側是否相等。\n",
    "- `=` 是賦值運算符，用來讓左側的物件名稱成為右側類別的實例。"
   ]
  },
  {
   "cell_type": "code",
   "execution_count": 30,
   "metadata": {},
   "outputs": [
    {
     "data": {
      "text/plain": [
       "False"
      ]
     },
     "execution_count": 30,
     "metadata": {},
     "output_type": "execute_result"
    }
   ],
   "source": [
    "my_favorite_boy_group = \"5566\"\n",
    "my_favorite_boy_group == 5566"
   ]
  },
  {
   "cell_type": "markdown",
   "metadata": {
    "slideshow": {
     "slide_type": "subslide"
    }
   },
   "source": [
    "## 使用邏輯運算符形成 `bool`\n",
    "\n",
    "- 交集 `and`\n",
    "- 聯集`or`\n",
    "- 非 `not`"
   ]
  },
  {
   "cell_type": "markdown",
   "metadata": {
    "slideshow": {
     "slide_type": "subslide"
    }
   },
   "source": [
    "## 非 `not` 運算符將 `bool` 反轉"
   ]
  },
  {
   "cell_type": "code",
   "execution_count": 31,
   "metadata": {},
   "outputs": [
    {
     "name": "stdout",
     "output_type": "stream",
     "text": [
      "True\n",
      "False\n"
     ]
    }
   ],
   "source": [
    "bool_false = False\n",
    "bool_true = True\n",
    "print(not bool_false)\n",
    "print(not bool_true)"
   ]
  },
  {
   "cell_type": "markdown",
   "metadata": {
    "slideshow": {
     "slide_type": "subslide"
    }
   },
   "source": [
    "## 邏輯運算符針對已經是 `bool` 的資料進行集合運算\n",
    "\n",
    "- 在交集 `and` 運算符兩側必須都是 `True` 判斷結果才會是 `True`\n",
    "- 在聯集 `or` 運算符兩側必須都是 `False` 判斷結果才會是 `False`"
   ]
  },
  {
   "cell_type": "markdown",
   "metadata": {
    "slideshow": {
     "slide_type": "subslide"
    }
   },
   "source": [
    "## 在交集 `and` 運算符兩側必須都是 `True` 判斷結果才會是 `True`"
   ]
  },
  {
   "cell_type": "code",
   "execution_count": 32,
   "metadata": {},
   "outputs": [
    {
     "name": "stdout",
     "output_type": "stream",
     "text": [
      "True\n",
      "False\n",
      "False\n",
      "False\n"
     ]
    }
   ],
   "source": [
    "bool_false = False\n",
    "bool_true = True\n",
    "print(bool_true and bool_true)\n",
    "print(bool_true and bool_false)\n",
    "print(bool_false and bool_true)\n",
    "print(bool_false and bool_false)"
   ]
  },
  {
   "cell_type": "markdown",
   "metadata": {
    "slideshow": {
     "slide_type": "subslide"
    }
   },
   "source": [
    "## 在聯集 `or` 運算符兩側必須都是 `False` 判斷結果才會是 `False`"
   ]
  },
  {
   "cell_type": "code",
   "execution_count": 33,
   "metadata": {
    "slideshow": {
     "slide_type": "-"
    }
   },
   "outputs": [
    {
     "name": "stdout",
     "output_type": "stream",
     "text": [
      "False\n",
      "True\n",
      "True\n",
      "True\n"
     ]
    }
   ],
   "source": [
    "bool_false = False\n",
    "bool_true = True\n",
    "print(bool_false or bool_false)\n",
    "print(bool_true or bool_true)\n",
    "print(bool_true or bool_false)\n",
    "print(bool_false or bool_true)"
   ]
  },
  {
   "cell_type": "markdown",
   "metadata": {
    "slideshow": {
     "slide_type": "subslide"
    }
   },
   "source": [
    "## 交集 `and` 運算符的範例：`is_a_good_marathon_weather()` 函數\n",
    "\n",
    "如果一個適合跑馬拉松的天氣定義是「乾」**並且**「冷」，假設比賽日乾燥與低溫的機率均為 50%，適合跑馬拉松的機率為 25%。"
   ]
  },
  {
   "cell_type": "code",
   "execution_count": 34,
   "metadata": {},
   "outputs": [
    {
     "name": "stdout",
     "output_type": "stream",
     "text": [
      "True\n",
      "False\n",
      "False\n",
      "False\n"
     ]
    }
   ],
   "source": [
    "def is_a_good_marathon_weather(is_dry, is_cold):\n",
    "    return is_dry and is_cold\n",
    "\n",
    "print(is_a_good_marathon_weather(True, True))\n",
    "print(is_a_good_marathon_weather(True, False))\n",
    "print(is_a_good_marathon_weather(False, True))\n",
    "print(is_a_good_marathon_weather(False, False))"
   ]
  },
  {
   "cell_type": "markdown",
   "metadata": {
    "slideshow": {
     "slide_type": "subslide"
    }
   },
   "source": [
    "## 聯集 `or` 運算符的範例：`is_a_good_marathon_weather()` 函數\n",
    "\n",
    "如果一個適合跑馬拉松的天氣定義是「乾」**或者**「冷」，假設比賽日乾燥與低溫的機率均為 50%，適合跑馬拉松的機率為 75%。"
   ]
  },
  {
   "cell_type": "code",
   "execution_count": 35,
   "metadata": {},
   "outputs": [
    {
     "name": "stdout",
     "output_type": "stream",
     "text": [
      "False\n",
      "True\n",
      "True\n",
      "True\n"
     ]
    }
   ],
   "source": [
    "def is_a_good_marathon_weather(is_dry, is_cold):\n",
    "    return is_dry or is_cold\n",
    "\n",
    "print(is_a_good_marathon_weather(False, False))\n",
    "print(is_a_good_marathon_weather(True, True))\n",
    "print(is_a_good_marathon_weather(True, False))\n",
    "print(is_a_good_marathon_weather(False, True))"
   ]
  },
  {
   "cell_type": "markdown",
   "metadata": {
    "slideshow": {
     "slide_type": "slide"
    }
   },
   "source": [
    "## 未定義值 `NoneType`"
   ]
  },
  {
   "cell_type": "markdown",
   "metadata": {
    "slideshow": {
     "slide_type": "subslide"
    }
   },
   "source": [
    "## 什麼是 `NoneType`\n",
    "\n",
    "- Python 表示未定義值、空值或者虛無值的特殊資料類別，只有一種值：`None`。\n",
    "- `NoneType` 既不是 `False`。\n",
    "- `NoneType` 也不是空文字 `''`。\n",
    "- `NoneType` 也不是 `0`。"
   ]
  },
  {
   "cell_type": "code",
   "execution_count": 36,
   "metadata": {
    "slideshow": {
     "slide_type": "subslide"
    }
   },
   "outputs": [
    {
     "name": "stdout",
     "output_type": "stream",
     "text": [
      "<class 'NoneType'>\n",
      "True\n",
      "False\n",
      "False\n",
      "False\n"
     ]
    }
   ],
   "source": [
    "a_none_type = None\n",
    "print(type(a_none_type))\n",
    "print(a_none_type == None)\n",
    "print(a_none_type == False)\n",
    "print(a_none_type == '')\n",
    "print(a_none_type == 0)"
   ]
  },
  {
   "cell_type": "markdown",
   "metadata": {
    "slideshow": {
     "slide_type": "subslide"
    }
   },
   "source": [
    "## 如果在自行定義函數時沒有使用 `return`，函數將輸出 `NoneType`\n",
    "\n",
    "這也是「練習題指引」中寫到若只是用 `print()` 函數將預期輸出印出，並無法通過測試的根本原因，輸出 `NoneType` 無法通過和預期輸出比對的測試資料。"
   ]
  },
  {
   "cell_type": "code",
   "execution_count": 37,
   "metadata": {
    "slideshow": {
     "slide_type": "subslide"
    }
   },
   "outputs": [
    {
     "name": "stdout",
     "output_type": "stream",
     "text": [
      "100.0\n",
      "None\n",
      "<class 'NoneType'>\n"
     ]
    }
   ],
   "source": [
    "def convert_fahrenheit_to_celsius(fahrenheit):\n",
    "    celsius = (fahrenheit - 32) * 5/9\n",
    "    print(celsius) # Instead of return celsius, we just print celsius.\n",
    "    \n",
    "function_output = convert_fahrenheit_to_celsius(212)\n",
    "print(function_output)\n",
    "print(type(function_output))"
   ]
  },
  {
   "cell_type": "markdown",
   "metadata": {
    "slideshow": {
     "slide_type": "slide"
    }
   },
   "source": [
    "## 資料類別的判斷與轉換"
   ]
  },
  {
   "cell_type": "markdown",
   "metadata": {
    "slideshow": {
     "slide_type": "subslide"
    }
   },
   "source": [
    "## 資料類別可以透過內建函數 `type()` 判斷\n",
    "\n",
    "將 `type()` 函數的輸出與資料類別名稱比較。"
   ]
  },
  {
   "cell_type": "code",
   "execution_count": 38,
   "metadata": {
    "slideshow": {
     "slide_type": "subslide"
    }
   },
   "outputs": [
    {
     "name": "stdout",
     "output_type": "stream",
     "text": [
      "True\n",
      "False\n"
     ]
    }
   ],
   "source": [
    "a_bool_false = False\n",
    "a_str_false = \"False\"\n",
    "print(type(a_bool_false) == bool)\n",
    "print(type(a_str_false) == bool)"
   ]
  },
  {
   "cell_type": "code",
   "execution_count": 39,
   "metadata": {
    "slideshow": {
     "slide_type": "subslide"
    }
   },
   "outputs": [
    {
     "name": "stdout",
     "output_type": "stream",
     "text": [
      "True\n",
      "False\n"
     ]
    }
   ],
   "source": [
    "an_integer_5566 = 5566\n",
    "a_str_5566 = \"5566\"\n",
    "print(type(an_integer_5566) == int)\n",
    "print(type(a_str_5566) == int)"
   ]
  },
  {
   "cell_type": "code",
   "execution_count": 40,
   "metadata": {
    "slideshow": {
     "slide_type": "subslide"
    }
   },
   "outputs": [
    {
     "name": "stdout",
     "output_type": "stream",
     "text": [
      "True\n",
      "False\n"
     ]
    }
   ],
   "source": [
    "a_none_type = None\n",
    "a_none_str = \"None\"\n",
    "print(type(a_none_type) == type(None))\n",
    "print(type(a_none_str) == type(None))"
   ]
  },
  {
   "cell_type": "markdown",
   "metadata": {
    "slideshow": {
     "slide_type": "subslide"
    }
   },
   "source": [
    "## 資料類別可以透過內建函數 `isinstance()` 判斷\n",
    "\n",
    "`isinstance(x, classinfo)` 函數判斷輸入物件 `x` 是否為某個資料類別的實例，其中 `classinfo` 參數輸入欲判斷的資料類別名稱。"
   ]
  },
  {
   "cell_type": "code",
   "execution_count": 41,
   "metadata": {
    "slideshow": {
     "slide_type": "subslide"
    }
   },
   "outputs": [
    {
     "name": "stdout",
     "output_type": "stream",
     "text": [
      "True\n",
      "False\n"
     ]
    }
   ],
   "source": [
    "# Use bool as classinfo\n",
    "a_bool_false = False\n",
    "a_str_false = \"False\"\n",
    "print(isinstance(a_bool_false, bool))\n",
    "print(isinstance(a_str_false, bool))"
   ]
  },
  {
   "cell_type": "code",
   "execution_count": 42,
   "metadata": {
    "slideshow": {
     "slide_type": "subslide"
    }
   },
   "outputs": [
    {
     "name": "stdout",
     "output_type": "stream",
     "text": [
      "True\n",
      "False\n"
     ]
    }
   ],
   "source": [
    "# Use int as classinfo\n",
    "an_integer_5566 = 5566\n",
    "a_str_5566 = \"5566\"\n",
    "print(isinstance(an_integer_5566, int))\n",
    "print(isinstance(a_str_5566, int))"
   ]
  },
  {
   "cell_type": "code",
   "execution_count": 43,
   "metadata": {
    "slideshow": {
     "slide_type": "subslide"
    }
   },
   "outputs": [
    {
     "name": "stdout",
     "output_type": "stream",
     "text": [
      "True\n",
      "False\n"
     ]
    }
   ],
   "source": [
    "# Use type(None) as classinfo\n",
    "a_none_type = None\n",
    "a_none_str = \"None\"\n",
    "print(isinstance(a_none_type, type(None)))\n",
    "print(isinstance(a_none_str, type(None)))"
   ]
  },
  {
   "cell_type": "markdown",
   "metadata": {
    "slideshow": {
     "slide_type": "subslide"
    }
   },
   "source": [
    "## 資料類別可以透過與其同名的內建函數轉換\n",
    "\n",
    "- `bool()` 可以將輸入資料轉換為 `bool`\n",
    "- `int()` 可以將輸入資料轉換為 `int`\n",
    "- `float()` 可以將輸入資料轉換為 `float`\n",
    "- `str()` 可以將輸入資料轉換為 `str`"
   ]
  },
  {
   "cell_type": "markdown",
   "metadata": {
    "slideshow": {
     "slide_type": "subslide"
    }
   },
   "source": [
    "## 資料類別轉換的包容性\n",
    "\n",
    "由資料類別的子集合往的資料類別的母集合轉換可以確保不會出錯。\n",
    "\n",
    "\\begin{equation}\n",
    "\\text{bool} \\in \\text{int} \\in \\text{float} \\in \\text{str}\n",
    "\\end{equation}"
   ]
  },
  {
   "cell_type": "code",
   "execution_count": 44,
   "metadata": {
    "slideshow": {
     "slide_type": "subslide"
    }
   },
   "outputs": [
    {
     "name": "stdout",
     "output_type": "stream",
     "text": [
      "False\n",
      "0\n",
      "0.0\n",
      "0.0\n"
     ]
    }
   ],
   "source": [
    "# Upcasting is always allowed.\n",
    "print(bool(None))\n",
    "print(int(False))\n",
    "print(float(0))\n",
    "print(str(0.0))"
   ]
  },
  {
   "cell_type": "markdown",
   "metadata": {
    "slideshow": {
     "slide_type": "subslide"
    }
   },
   "source": [
    "## 資料類別轉換的包容性（續）\n",
    "\n",
    "由資料類別的母集合往資料類別的子集合轉換需要注意是否符合邏輯、是否正確。\n",
    "\n",
    "\\begin{equation}\n",
    "\\text{bool} \\in \\text{int} \\in \\text{float} \\in \\text{str}\n",
    "\\end{equation}"
   ]
  },
  {
   "cell_type": "code",
   "execution_count": 45,
   "metadata": {
    "slideshow": {
     "slide_type": "subslide"
    }
   },
   "outputs": [
    {
     "name": "stdout",
     "output_type": "stream",
     "text": [
      "True\n",
      "True\n",
      "0.0\n"
     ]
    }
   ],
   "source": [
    "print(bool('None'))\n",
    "print(bool('False'))\n",
    "print(float('0.0'))"
   ]
  },
  {
   "cell_type": "markdown",
   "metadata": {
    "slideshow": {
     "slide_type": "subslide"
    }
   },
   "source": [
    "## `str` 無法被轉換為 `float`\n",
    "\n",
    "`try...except...` 是例外處理的語法，之後在「使用流程控制管理程式區塊的執行」章節會說明。"
   ]
  },
  {
   "cell_type": "code",
   "execution_count": 46,
   "metadata": {
    "slideshow": {
     "slide_type": "-"
    }
   },
   "outputs": [
    {
     "name": "stdout",
     "output_type": "stream",
     "text": [
      "could not convert string to float: 'Hello world!'\n"
     ]
    }
   ],
   "source": [
    "try:\n",
    "    print(float('Hello world!'))\n",
    "except ValueError as error_message:\n",
    "    print(error_message)"
   ]
  },
  {
   "cell_type": "markdown",
   "metadata": {
    "slideshow": {
     "slide_type": "slide"
    }
   },
   "source": [
    "## 重點統整\n",
    "\n",
    "- Python 的內建函數：<https://docs.python.org/3/library/functions.html>\n",
    "- Python 的保留字：<https://docs.python.org/3/reference/lexical_analysis.html#keywords>\n",
    "- Python 風格指南：<https://www.python.org/dev/peps/pep-0008>"
   ]
  },
  {
   "cell_type": "markdown",
   "metadata": {
    "slideshow": {
     "slide_type": "subslide"
    }
   },
   "source": [
    "## 重點統整（續）\n",
    "\n",
    "- 各司其職的資料類別：\n",
    "    - 以 `int` 與 `float` 進行數值計算。\n",
    "    - 以 `str` 表達與進行文字操作處理。\n",
    "    - 以 `bool` 進行流程控制。\n",
    "- 以 `type()` 與 `isinstance()` 函數判斷物件屬於哪一個資料類別。\n",
    "- 以透過與資料類別同名的內建函數轉換。"
   ]
  }
 ],
 "metadata": {
  "celltoolbar": "Slideshow",
  "kernelspec": {
   "display_name": "Python 3",
   "language": "python",
   "name": "python3"
  },
  "language_info": {
   "codemirror_mode": {
    "name": "ipython",
    "version": 3
   },
   "file_extension": ".py",
   "mimetype": "text/x-python",
   "name": "python",
   "nbconvert_exporter": "python",
   "pygments_lexer": "ipython3",
   "version": "3.8.5"
  }
 },
 "nbformat": 4,
 "nbformat_minor": 2
}
