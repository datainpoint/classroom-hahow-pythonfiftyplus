{
 "cells": [
  {
   "cell_type": "markdown",
   "id": "heated-welding",
   "metadata": {
    "deletable": false
   },
   "source": [
    "# Python 的 50+ 練習：資料科學學習手冊\n",
    "\n",
    "> 使用類別組織資料與函數\n",
    "\n",
    "[數據交點](https://www.datainpoint.com) | 郭耀仁 <yaojenkuo@datainpoint.com>"
   ]
  },
  {
   "cell_type": "markdown",
   "id": "fleet-tokyo",
   "metadata": {
    "deletable": false
   },
   "source": [
    "## 練習題指引\n",
    "\n",
    "- 練習題閒置超過 10 分鐘會自動斷線，只要重新點選練習題連結即可重新啟動。\n",
    "- 第一個程式碼儲存格會將可能用得到的模組載入。\n",
    "- 如果練習題需要載入檔案，檔案會與練習題存放在同個資料夾中，直接指定檔案名稱即可作為路徑。\n",
    "- 練習題已經給定函數、類別、預期輸入或參數名稱，我們只需要寫作程式區塊。\n",
    "- 說明（Docstring）會描述測試如何進行，閱讀說明能夠暸解預期輸入以及預期輸出之間的關係，幫助我們更快解題。\n",
    "- 請在 `### BEGIN SOLUTION` 與 `### END SOLUTION` 這兩個註解之間寫作函數或者類別的程式區塊。\n",
    "- 將預期輸出放置在 `return` 保留字之後，若只是用 `print()` 函數將預期輸出印出無法通過測試。\n",
    "- 語法錯誤（`SyntaxError`）或縮排錯誤（`IndentationError`）等將會導致測試失效，測試之前應該先在筆記本使用函數觀察是否與說明（Docstring）描述的功能相符。\n",
    "- 執行測試的步驟：\n",
    "    1. 點選上方選單的 File -> Save Notebook 儲存 exercises.ipynb。\n",
    "    2. 點選上方選單的 File -> New -> Terminal 開啟終端機。\n",
    "    3. 在終端機輸入 `python 06-classes/test_runner.py` 後按下 Enter 執行測試。"
   ]
  },
  {
   "cell_type": "markdown",
   "id": "typical-impact",
   "metadata": {},
   "source": [
    "## 046. 自行定義類別 `Palindrome` 能夠建立有兩個屬性 `original_text`、`reversed_text`、一個方法 `is_palindrome()` 的物件。\n",
    "\n",
    "- 預期輸入：`str`\n",
    "- 預期輸出：`str` | `bool`"
   ]
  },
  {
   "cell_type": "code",
   "execution_count": null,
   "id": "economic-blast",
   "metadata": {},
   "outputs": [],
   "source": [
    "class Palindrome:\n",
    "    \"\"\"\n",
    "    >>> palindrome = Palindrome('eye')\n",
    "    >>> palindrome.original_text\n",
    "    'eye'\n",
    "    >>> palindrome.reversed_text\n",
    "    'eye'\n",
    "    >>> palindrome.is_palindrome()\n",
    "    True\n",
    "    >>> palindrome = Palindrome('dye')\n",
    "    >>> palindrome.original_text\n",
    "    'dye'\n",
    "    >>> palindrome.reversed_text\n",
    "    'eyd'\n",
    "    >>> palindrome.is_palindrome()\n",
    "    False\n",
    "    \"\"\"\n",
    "    ### BEGIN SOLUTION\n",
    "    def __init__(self, x):\n",
    "        self.original_text = x\n",
    "        self.reversed_text = ''.join(list(reversed(x)))\n",
    "    def is_palindrome(self):\n",
    "        return self.original_text == self.reversed_text\n",
    "    ### END SOLUTION"
   ]
  },
  {
   "cell_type": "markdown",
   "id": "latin-township",
   "metadata": {},
   "source": [
    "## 047. 自行定義類別 `CommonDivisors` 能夠建立有兩個屬性 `x_divisors`、`y_divisors`、一個方法 `get_common_divisors()` 的物件。\n",
    "\n",
    "- 預期輸入：`int`\n",
    "- 預期輸出：`set`"
   ]
  },
  {
   "cell_type": "code",
   "execution_count": null,
   "id": "satisfied-success",
   "metadata": {},
   "outputs": [],
   "source": [
    "class CommonDivisors:\n",
    "    \"\"\"\n",
    "    >>> cd = CommonDivisors(3, 6)\n",
    "    >>> cd.x_divisors\n",
    "    {1, 3}\n",
    "    >>> cd.y_divisors\n",
    "    {1, 2, 3, 6}\n",
    "    >>> cd.get_common_divisors()\n",
    "    {1, 3}\n",
    "    >>> cd = CommonDivisors(4, 8)\n",
    "    >>> cd.x_divisors\n",
    "    {1, 2, 4}\n",
    "    >>> cd.y_divisors\n",
    "    {1, 2, 4, 8}\n",
    "    >>> cd.get_common_divisors()\n",
    "    {1, 2, 4}\n",
    "    \"\"\"\n",
    "    ### BEGIN SOLUTION\n",
    "    def __init__(self, x, y):\n",
    "        self.x_divisors = {i for i in range(1, x + 1) if x % i == 0}\n",
    "        self.y_divisors = {i for i in range(1, y + 1) if y % i == 0}\n",
    "    def get_common_divisors(self):\n",
    "        return (self.x_divisors).intersection(self.y_divisors)\n",
    "    ### END SOLUTION"
   ]
  },
  {
   "cell_type": "markdown",
   "id": "backed-transport",
   "metadata": {},
   "source": [
    "## 048. 自行定義類別 `PrimeJudger` 能夠建立有兩個方法 `get_divisors()`、`is_prime()` 的物件。\n",
    "\n",
    "- 預期輸入：`int`\n",
    "- 預期輸出：`set` | `bool`"
   ]
  },
  {
   "cell_type": "code",
   "execution_count": null,
   "id": "sealed-beatles",
   "metadata": {},
   "outputs": [],
   "source": [
    "class PrimeJudger:\n",
    "    \"\"\"\n",
    "    >>> pj = PrimeJudger(1)\n",
    "    >>> pj.get_divisors()\n",
    "    {1}\n",
    "    >>> pj.is_prime()\n",
    "    False\n",
    "    >>> pj = PrimeJudger(2)\n",
    "    >>> pj.get_divisors()\n",
    "    {1, 2}\n",
    "    >>> pj.is_prime()\n",
    "    True\n",
    "    >>> pj = PrimeJudger(4)\n",
    "    >>> pj.get_divisors()\n",
    "    {1, 2, 4}\n",
    "    >>> pj.is_prime()\n",
    "    False\n",
    "    \"\"\"\n",
    "    ### BEGIN SOLUTION\n",
    "    def __init__(self, x):\n",
    "        self._x = x\n",
    "    def get_divisors(self):\n",
    "        return {i for i in range(1, self._x + 1) if self._x % i == 0}\n",
    "    def is_prime(self):\n",
    "        divisors = self.get_divisors()\n",
    "        return len(divisors) == 2\n",
    "    ### END SOLUTION"
   ]
  },
  {
   "cell_type": "markdown",
   "id": "academic-shift",
   "metadata": {},
   "source": [
    "## 049. 自行定義類別 `RangePrime` 能夠建立有一個屬性 `range_list`、一個方法`filter_primes()` 的物件。\n",
    "\n",
    "- 預期輸入：`int`\n",
    "- 預期輸出：`list`"
   ]
  },
  {
   "cell_type": "code",
   "execution_count": null,
   "id": "light-giant",
   "metadata": {},
   "outputs": [],
   "source": [
    "class RangePrime:\n",
    "    \"\"\"\n",
    "    >>> range_prime = RangePrime(1, 5)\n",
    "    >>> range_prime.range_list\n",
    "    [1, 2, 3, 4, 5]\n",
    "    >>> range_prime.filter_primes()\n",
    "    [2, 3, 5]\n",
    "    >>> range_prime = RangePrime(6, 15)\n",
    "    >>> range_prime.range_list\n",
    "    [6, 7, 8, 9, 10, 11, 12, 13, 14, 15]\n",
    "    >>> range_prime.filter_primes()\n",
    "    [7, 11, 13]\n",
    "    \"\"\"\n",
    "    ### BEGIN SOLUTION\n",
    "    def __init__(self, start, stop):\n",
    "        self.range_list = list(range(start, stop + 1))\n",
    "    def filter_primes(self):\n",
    "        out = []\n",
    "        for e in self.range_list:\n",
    "            n_divisors = 0\n",
    "            for i in range(1, e + 1):\n",
    "                if e % i == 0:\n",
    "                    n_divisors += 1\n",
    "            if n_divisors == 2:\n",
    "                out.append(e)\n",
    "        return out\n",
    "    ### END SOLUTION"
   ]
  },
  {
   "cell_type": "markdown",
   "id": "comprehensive-shannon",
   "metadata": {},
   "source": [
    "## 050. 自行定義類別 `MinMaxFinder` 能夠建立有四個方法 `get_min()`、`get_max()`、`get_idxmin()`、`get_idxmax()` 的物件，回傳輸入中的最小值、最大值、最小值索引位置與最大值索引位置。\n",
    "\n",
    "- 預期輸入：`list`\n",
    "- 預期輸出：`int` | `list`"
   ]
  },
  {
   "cell_type": "code",
   "execution_count": null,
   "id": "recorded-hormone",
   "metadata": {},
   "outputs": [],
   "source": [
    "class MinMaxFinder:\n",
    "    \"\"\"\n",
    "    >>> min_max_finder = MinMaxFinder([2, 3, 5, 7, 11])\n",
    "    >>> min_max_finder.get_min()\n",
    "    2\n",
    "    >>> min_max_finder.get_max()\n",
    "    11\n",
    "    >>> min_max_finder.get_idxmin()\n",
    "    [0]\n",
    "    >>> min_max_finder.get_idxmax()\n",
    "    [4]\n",
    "    >>> min_max_finder = MinMaxFinder([2, 2, 3, 5, 7, 11, 11])\n",
    "    >>> min_max_finder.get_min()\n",
    "    2\n",
    "    >>> min_max_finder.get_max()\n",
    "    11\n",
    "    >>> min_max_finder.get_idxmin()\n",
    "    [0, 1]\n",
    "    >>> min_max_finder.get_idxmax()\n",
    "    [5, 6]\n",
    "    \"\"\"\n",
    "    ### BEGIN SOLUTION\n",
    "    def __init__(self, x):\n",
    "        self.x = x\n",
    "    def get_min(self):\n",
    "        return min(self.x)\n",
    "    def get_max(self):\n",
    "        return max(self.x)\n",
    "    def get_idxmin(self):\n",
    "        min_val = self.get_min()\n",
    "        out = []\n",
    "        for idx, val in enumerate(self.x):\n",
    "            if val == min_val:\n",
    "                out.append(idx)\n",
    "        return out\n",
    "    def get_idxmax(self):\n",
    "        max_val = self.get_max()\n",
    "        out = []\n",
    "        for idx, val in enumerate(self.x):\n",
    "            if val == max_val:\n",
    "                out.append(idx)\n",
    "        return out\n",
    "    ### END SOLUTION"
   ]
  }
 ],
 "metadata": {
  "kernelspec": {
   "display_name": "Python 3",
   "language": "python",
   "name": "python3"
  },
  "language_info": {
   "codemirror_mode": {
    "name": "ipython",
    "version": 3
   },
   "file_extension": ".py",
   "mimetype": "text/x-python",
   "name": "python",
   "nbconvert_exporter": "python",
   "pygments_lexer": "ipython3",
   "version": "3.8.5"
  }
 },
 "nbformat": 4,
 "nbformat_minor": 5
}
