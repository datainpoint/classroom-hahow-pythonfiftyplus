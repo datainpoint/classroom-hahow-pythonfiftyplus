{
 "cells": [
  {
   "cell_type": "markdown",
   "id": "heated-welding",
   "metadata": {
    "deletable": false
   },
   "source": [
    "# Python 的 50+ 練習：資料科學學習手冊\n",
    "\n",
    "> 使用類別組織資料與函數\n",
    "\n",
    "[數據交點](https://www.datainpoint.com) | 郭耀仁 <yaojenkuo@datainpoint.com>"
   ]
  },
  {
   "cell_type": "markdown",
   "id": "fleet-tokyo",
   "metadata": {
    "deletable": false
   },
   "source": [
    "## 練習題指引\n",
    "\n",
    "- 練習題閒置超過 10 分鐘會自動斷線，只要重新點選練習題連結即可重新啟動。\n",
    "- 第一個程式碼儲存格會將可能用得到的模組載入。\n",
    "- 如果練習題需要載入檔案，檔案會存放在 `data` 資料夾中。\n",
    "- 練習題已經給定函數、類別、預期輸入或參數名稱，我們只需要寫作程式區塊。同時也給定函數的類別提示，說明預期輸入以及預期輸出的類別。\n",
    "- 說明（Docstring）會描述測試如何進行，閱讀說明能夠暸解預期輸入以及預期輸出之間的關係，幫助我們更快解題。\n",
    "- 請在 `### BEGIN SOLUTION` 與 `### END SOLUTION` 這兩個註解之間寫作函數或者類別的程式區塊。\n",
    "- 將預期輸出放置在 `return` 保留字之後，若只是用 `print()` 函數將預期輸出印出無法通過測試。\n",
    "- 語法錯誤（`SyntaxError`）或縮排錯誤（`IndentationError`）等將會導致測試失效，測試之前應該先在筆記本使用函數觀察是否與說明（Docstring）描述的功能相符。\n",
    "- 如果卡關，可以先看練習題詳解或者複習課程單元影片之後再繼續寫作。\n",
    "- 執行測試的步驟：\n",
    "    1. 點選上方選單的 File -> Save Notebook 儲存 exercises.ipynb。\n",
    "    2. 點選上方選單的 File -> New -> Terminal 開啟終端機。\n",
    "    3. 在終端機輸入 `python 06-classes/test_runner.py` 後按下 Enter 執行測試。"
   ]
  },
  {
   "cell_type": "markdown",
   "id": "typical-impact",
   "metadata": {},
   "source": [
    "## 046. 從右讀到左\n",
    "\n",
    "定義函數 `reverse_str()` 能夠將輸入的文字順序倒轉後回傳。\n",
    "\n",
    "- 運用特殊 Slicing `[::-1]`\n",
    "- 將預期輸出寫在 `return` 之後。"
   ]
  },
  {
   "cell_type": "code",
   "execution_count": 1,
   "id": "wound-statement",
   "metadata": {},
   "outputs": [],
   "source": [
    "def reverse_str(x: str) -> str:\n",
    "    \"\"\"\n",
    "    >>> reverse_str(\"eye\")\n",
    "    'eye'\n",
    "    >>> reverse_str(\"dad\")\n",
    "    'dad'\n",
    "    >>> reverse_str(\"dye\")\n",
    "    'eyd'\n",
    "    >>> reverse_str(\"mad\")\n",
    "    'dam'\n",
    "    \"\"\"\n",
    "    ### BEGIN SOLUTION\n",
    "    return x[::-1]\n",
    "    ### END SOLUTION"
   ]
  },
  {
   "cell_type": "markdown",
   "id": "reserved-tribute",
   "metadata": {},
   "source": [
    "## 047. 是否為迴文（Palindrome）\n",
    "\n",
    "定義函數 `is_palindrome()` 能夠判斷輸入的英文單字是否符合迴文定義。\n",
    "\n",
    "來源：<https://en.wikipedia.org/wiki/Palindrome>\n",
    "\n",
    "- 使用 `reverse_str()` 函數。\n",
    "- 運用關係運算符。\n",
    "- 將預期輸出寫在 `return` 之後。"
   ]
  },
  {
   "cell_type": "code",
   "execution_count": 2,
   "id": "grave-revelation",
   "metadata": {},
   "outputs": [],
   "source": [
    "def is_palindrome(x: str) -> bool:\n",
    "    \"\"\"\n",
    "    >>> is_palindrome(\"eye\")\n",
    "    True\n",
    "    >>> is_palindrome(\"dad\")\n",
    "    True\n",
    "    >>> is_palindrome(\"dye\")\n",
    "    False\n",
    "    >>> is_palindrome(\"mad\")\n",
    "    False\n",
    "    \"\"\"\n",
    "    ### BEGIN SOLUTION\n",
    "    reversed_x = reverse_str(x)\n",
    "    return x == reversed_x\n",
    "    ### END SOLUTION"
   ]
  },
  {
   "cell_type": "markdown",
   "id": "regulation-joint",
   "metadata": {},
   "source": [
    "## 048. 具備方法的迴文類別\n",
    "\n",
    "定義類別 `PalindromeMethods` 能夠用來建立具有兩個方法 `reverse_str()`、`is_palindrome()` 的物件。\n",
    "\n",
    "- 以類別組織 `reverse_str()` 與 `is_palindrome()`\n",
    "- 使用 `self`\n",
    "- 以 `self.method()` 在類別程式區塊中使用方法。"
   ]
  },
  {
   "cell_type": "code",
   "execution_count": 3,
   "id": "economic-blast",
   "metadata": {},
   "outputs": [],
   "source": [
    "class PalindromeMethods:\n",
    "    \"\"\"\n",
    "    >>> palindrome_methods = PalindromeMethods()\n",
    "    >>> palindrome_methods.reverse_str(\"eye\")\n",
    "    'eye'\n",
    "    >>> palindrome_methods.is_palindrome(\"dad\")\n",
    "    True\n",
    "    >>> palindrome_methods.reverse_str(\"dye\")\n",
    "    'eyd'\n",
    "    >>> palindrome_methods.is_palindrome(\"mad\")\n",
    "    False\n",
    "    \"\"\"\n",
    "    ### BEGIN SOLUTION\n",
    "    def reverse_str(self, x: str) -> str:\n",
    "        return x[::-1]\n",
    "    def is_palindrome(self, x: str) -> bool:\n",
    "        reversed_x = self.reverse_str(x)\n",
    "        return x == reversed_x\n",
    "    ### END SOLUTION"
   ]
  },
  {
   "cell_type": "markdown",
   "id": "precise-creature",
   "metadata": {},
   "source": [
    "## 049. 具備屬性與方法的迴文類別\n",
    "\n",
    "定義類別 `Palindrome` 能夠用來建立具有兩個屬性 `original_str`、`reversed_str` 以及兩個方法 `reverse_str()`、`is_palindrome()` 的物件。\n",
    "\n",
    "- 以類別組織 `reverse_str()` 與 `is_palindrome()`\n",
    "- 使用 `self`\n",
    "- 使用 `__init__()`\n",
    "- 以 `self.attribute` 在類別程式區塊中使用屬性。\n",
    "- 以 `self.method()` 在類別程式區塊中使用方法。"
   ]
  },
  {
   "cell_type": "code",
   "execution_count": 4,
   "id": "local-czech",
   "metadata": {},
   "outputs": [],
   "source": [
    "class Palindrome:\n",
    "    \"\"\"\n",
    "    >>> palindrome = Palindrome(\"eye\")\n",
    "    >>> palindrome.original_str\n",
    "    'eye'\n",
    "    >>> palindrome.reversed_str\n",
    "    'eye'\n",
    "    >>> palindrome.is_palindrome()\n",
    "    True\n",
    "    >>> palindrome = Palindrome(\"dye\")\n",
    "    >>> palindrome.original_str\n",
    "    'dye'\n",
    "    >>> palindrome.reversed_str\n",
    "    'eyd'\n",
    "    >>> palindrome.is_palindrome()\n",
    "    False\n",
    "    \"\"\"\n",
    "    ### BEGIN SOLUTION\n",
    "    def __init__(self, x: str):\n",
    "        self.original_str = x\n",
    "        self.reversed_str = self.reverse_str(x)\n",
    "    def reverse_str(self, x: str) -> str:\n",
    "        return x[::-1]\n",
    "    def is_palindrome(self) -> bool:\n",
    "        return self.original_str == self.reversed_str\n",
    "    ### END SOLUTION"
   ]
  },
  {
   "cell_type": "markdown",
   "id": "eight-honolulu",
   "metadata": {},
   "source": [
    "## 050. 因數分解為 `set`\n",
    "\n",
    "定義函數 `collect_divisors_as_set()` 能夠將輸入正整數的所有因數以 `set` 回傳。\n",
    "\n",
    "- 使用 `range()` 函數。\n",
    "- 運用迴圈分別走訪正整數。\n",
    "- 運用條件敘述判斷因數並合併。\n",
    "- 使用 `set()` 函數。\n",
    "- 將預期輸出寫在 `return` 之後。"
   ]
  },
  {
   "cell_type": "code",
   "execution_count": 5,
   "id": "stainless-astrology",
   "metadata": {},
   "outputs": [],
   "source": [
    "def collect_divisors_as_set(x: int) -> set:\n",
    "    \"\"\"\n",
    "    >>> collect_divisors_as_set(3)\n",
    "    {1, 3}\n",
    "    >>> collect_divisors_as_set(6)\n",
    "    {1, 2, 3, 6}\n",
    "    >>> collect_divisors_as_set(4)\n",
    "    {1, 2, 4}\n",
    "    >>> collect_divisors_as_set(8)\n",
    "    {1, 2, 4, 8}\n",
    "    \"\"\"\n",
    "    ### BEGIN SOLUTION\n",
    "    divisors = list()\n",
    "    for integer in range(1, x + 1):\n",
    "        if x % integer == 0:\n",
    "            divisors.append(integer)\n",
    "    return set(divisors)\n",
    "    ### END SOLUTION"
   ]
  },
  {
   "cell_type": "markdown",
   "id": "superior-academy",
   "metadata": {},
   "source": [
    "## 051. 公因數\n",
    "\n",
    "定義函數 `find_common_divisors()` 能夠將輸入兩個正整數的公因數回傳。\n",
    "\n",
    "- 使用 `collect_divisors_as_set()` 函數。\n",
    "- 運用 `set` 的集合運算特性。\n",
    "- 將預期輸出寫在 `return` 之後。"
   ]
  },
  {
   "cell_type": "code",
   "execution_count": 6,
   "id": "superb-cloud",
   "metadata": {},
   "outputs": [],
   "source": [
    "def find_common_divisors(x: int, y: int) -> set:\n",
    "    \"\"\"\n",
    "    >>> find_common_divisors(3, 6)\n",
    "    {1, 3}\n",
    "    >>> find_common_divisors(4, 8)\n",
    "    {1, 2, 4}\n",
    "    \"\"\"\n",
    "    ### BEGIN SOLUTION\n",
    "    x_divisors = collect_divisors_as_set(x)\n",
    "    y_divisors = collect_divisors_as_set(y)\n",
    "    return x_divisors.intersection(y_divisors)\n",
    "    ### END SOLUTION"
   ]
  },
  {
   "cell_type": "markdown",
   "id": "hispanic-success",
   "metadata": {},
   "source": [
    "## 052. 最大公因數\n",
    "\n",
    "定義函數 `find_the_max_common_divisor()` 能夠將輸入兩個正整數的最大公因數回傳。\n",
    "\n",
    "- 使用 `find_common_divisors()` 函數。\n",
    "- 使用 `max()` 函數。\n",
    "- 將預期輸出寫在 `return` 之後。"
   ]
  },
  {
   "cell_type": "code",
   "execution_count": 7,
   "id": "contemporary-invitation",
   "metadata": {},
   "outputs": [],
   "source": [
    "def find_the_max_common_divisor(x: int, y: int) -> int:\n",
    "    \"\"\"\n",
    "    >>> find_the_max_common_divisor(3, 6)\n",
    "    3\n",
    "    >>> find_the_max_common_divisor(4, 8)\n",
    "    4\n",
    "    >>> find_the_max_common_divisor(6, 8)\n",
    "    2\n",
    "    \"\"\"\n",
    "    ### BEGIN SOLUTION\n",
    "    return max(find_common_divisors(x, y))\n",
    "    ### END SOLUTION"
   ]
  },
  {
   "cell_type": "markdown",
   "id": "bottom-replication",
   "metadata": {},
   "source": [
    "## 053. 具備方法的公因數類別\n",
    "\n",
    "定義類別 `CommonDivisorMethods` 能夠用來建立具有三個方法 `collect_divisors_as_set()`、`find_common_divisors()`、`find_the_max_common_divisor()` 的物件。\n",
    "\n",
    "- 以類別組織 `collect_divisors_as_set()`、`find_common_divisors()`、`find_the_max_common_divisor()`\n",
    "- 使用 `self`\n",
    "- 以 `self.method()` 在類別程式區塊中使用方法。"
   ]
  },
  {
   "cell_type": "code",
   "execution_count": 8,
   "id": "polar-selling",
   "metadata": {},
   "outputs": [],
   "source": [
    "class CommonDivisorMethods:\n",
    "    \"\"\"\n",
    "    >>> common_divisor_methods = CommonDivisorMethods()\n",
    "    >>> common_divisor_methods.collect_divisors_as_set(3)\n",
    "    {1, 3}\n",
    "    >>> common_divisor_methods.collect_divisors_as_set(6)\n",
    "    {1, 2, 3, 6}\n",
    "    >>> common_divisor_methods.find_common_divisors(3, 6)\n",
    "    {1, 3}\n",
    "    >>> common_divisor_methods.find_the_max_common_divisor(6, 8)\n",
    "    2\n",
    "    \"\"\"\n",
    "    ### BEGIN SOLUTION\n",
    "    def collect_divisors_as_set(self, x: int) -> set:\n",
    "        divisors = list()\n",
    "        for integer in range(1, x + 1):\n",
    "            if x % integer == 0:\n",
    "                divisors.append(integer)\n",
    "        return set(divisors)\n",
    "    def find_common_divisors(self, x: int, y: int) -> set:\n",
    "        x_divisors = self.collect_divisors_as_set(x)\n",
    "        y_divisors = self.collect_divisors_as_set(y)\n",
    "        return x_divisors.intersection(y_divisors)\n",
    "    def find_the_max_common_divisor(self, x: int, y: int) -> int:\n",
    "        common_divisors = self.find_common_divisors(x, y)\n",
    "        return max(common_divisors)\n",
    "    ### END SOLUTION"
   ]
  },
  {
   "cell_type": "markdown",
   "id": "according-treasurer",
   "metadata": {},
   "source": [
    "## 054. 具備屬性與方法的公因數類別\n",
    "\n",
    "定義類別 `CommonDivisors` 能夠用來建立具有兩個屬性 `x_divisors`、`y_divisors` 與三個方法 `collect_divisors_as_set()`、`find_common_divisors()`、`find_the_max_common_divisor()` 的物件。\n",
    "\n",
    "- 以類別組織 `collect_divisors_as_set()`、`find_common_divisors()`、`find_the_max_common_divisor()`\n",
    "- 使用 `self`\n",
    "- 使用 `__init__()`\n",
    "- 以 `self.attribute` 在類別程式區塊中使用屬性。\n",
    "- 以 `self.method()` 在類別程式區塊中使用方法。"
   ]
  },
  {
   "cell_type": "code",
   "execution_count": 9,
   "id": "documented-platinum",
   "metadata": {},
   "outputs": [],
   "source": [
    "class CommonDivisors:\n",
    "    \"\"\"\n",
    "    >>> common_divisors = CommonDivisors(3, 6)\n",
    "    >>> common_divisors.x_divisors\n",
    "    {1, 3}\n",
    "    >>> common_divisors.y_divisors\n",
    "    {1, 2, 3, 6}\n",
    "    >>> common_divisors.find_common_divisors()\n",
    "    {1, 3}\n",
    "    >>> common_divisors.find_the_max_common_divisor()\n",
    "    3\n",
    "    >>> common_divisors = CommonDivisors(4, 8)\n",
    "    >>> common_divisors.x_divisors\n",
    "    {1, 2, 4}\n",
    "    >>> common_divisors.y_divisors\n",
    "    {1, 2, 4, 8}\n",
    "    >>> common_divisors.find_common_divisors()\n",
    "    {1, 2, 4}\n",
    "    >>> common_divisors.find_the_max_common_divisor()\n",
    "    4\n",
    "    \"\"\"\n",
    "    ### BEGIN SOLUTION\n",
    "    def __init__(self, x: int, y: int):\n",
    "        self.x_divisors = self.collect_divisors_as_set(x)\n",
    "        self.y_divisors = self.collect_divisors_as_set(y)\n",
    "    def collect_divisors_as_set(self, x: int) -> set:\n",
    "        divisors = list()\n",
    "        for integer in range(1, x + 1):\n",
    "            if x % integer == 0:\n",
    "                divisors.append(integer)\n",
    "        return set(divisors)\n",
    "    def find_common_divisors(self) -> set:\n",
    "        return (self.x_divisors).intersection(self.y_divisors)\n",
    "    def find_the_max_common_divisor(self) -> set:\n",
    "        common_divisors = self.find_common_divisors()\n",
    "        return max(common_divisors)\n",
    "    ### END SOLUTION"
   ]
  },
  {
   "cell_type": "markdown",
   "id": "backed-transport",
   "metadata": {},
   "source": [
    "## 055. 具備屬性與方法的質數判斷類別\n",
    "\n",
    "定義類別 `PrimeJudger` 能夠用來建立有一個屬性 `x` 與兩個方法 `count_number_of_divisors()`、`is_prime()` 的物件。\n",
    "\n",
    "- 以類別組織 `count_number_of_divisors()`、`is_prime()`\n",
    "- 使用 `self`\n",
    "- 使用 `__init__()`\n",
    "- 以 `self.attribute` 在類別程式區塊中使用屬性。\n",
    "- 以 `self.method()` 在類別程式區塊中使用方法。"
   ]
  },
  {
   "cell_type": "code",
   "execution_count": 10,
   "id": "sealed-beatles",
   "metadata": {},
   "outputs": [],
   "source": [
    "class PrimeJudger:\n",
    "    \"\"\"\n",
    "    >>> prime_judger = PrimeJudger(1)\n",
    "    >>> prime_judger.x\n",
    "    1\n",
    "    >>> prime_judger.count_number_of_divisors()\n",
    "    1\n",
    "    >>> prime_judger.is_prime()\n",
    "    False\n",
    "    >>> prime_judger = PrimeJudger(2)\n",
    "    >>> prime_judger.x\n",
    "    2\n",
    "    >>> prime_judger.count_number_of_divisors()\n",
    "    2\n",
    "    >>> prime_judger.is_prime()\n",
    "    True\n",
    "    >>> prime_judger = PrimeJudger(4)\n",
    "    >>> prime_judger.x\n",
    "    4\n",
    "    >>> prime_judger.count_number_of_divisors()\n",
    "    3\n",
    "    >>> prime_judger.is_prime()\n",
    "    False\n",
    "    \"\"\"\n",
    "    ### BEGIN SOLUTION\n",
    "    def __init__(self, x: int):\n",
    "        self.x = x\n",
    "    def count_number_of_divisors(self) -> int:\n",
    "        count = 0\n",
    "        for integer in range(1, self.x + 1):\n",
    "            if self.x % integer == 0:\n",
    "                count += 1\n",
    "        return count\n",
    "    def is_prime(self) -> int:\n",
    "        return self.count_number_of_divisors() == 2\n",
    "    ### END SOLUTION"
   ]
  }
 ],
 "metadata": {
  "kernelspec": {
   "display_name": "Python 3 (ipykernel)",
   "language": "python",
   "name": "python3"
  },
  "language_info": {
   "codemirror_mode": {
    "name": "ipython",
    "version": 3
   },
   "file_extension": ".py",
   "mimetype": "text/x-python",
   "name": "python",
   "nbconvert_exporter": "python",
   "pygments_lexer": "ipython3",
   "version": "3.9.5"
  }
 },
 "nbformat": 4,
 "nbformat_minor": 5
}
