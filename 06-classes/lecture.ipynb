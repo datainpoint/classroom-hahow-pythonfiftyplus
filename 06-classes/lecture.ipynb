{
 "cells": [
  {
   "cell_type": "markdown",
   "id": "inappropriate-shock",
   "metadata": {
    "slideshow": {
     "slide_type": "slide"
    }
   },
   "source": [
    "# Python 的 50+ 練習：資料科學學習手冊\n",
    "\n",
    "> 使用類別組織函數與資料\n",
    "\n",
    "[數據交點](https://www.datainpoint.com/) | 郭耀仁 <yaojenkuo@datainpoint.com>"
   ]
  },
  {
   "cell_type": "markdown",
   "id": "understanding-dominican",
   "metadata": {
    "slideshow": {
     "slide_type": "subslide"
    }
   },
   "source": [
    "## 這個章節會登場的保留字與函數\n",
    "\n",
    "- `class` 保留字。\n",
    "- `pass` 保留字。\n",
    "- `__init__()` 函數。\n",
    "- `__repr__()` 函數。"
   ]
  },
  {
   "cell_type": "markdown",
   "id": "timely-thinking",
   "metadata": {
    "slideshow": {
     "slide_type": "subslide"
    }
   },
   "source": [
    "## 複習：Python 提供三種機制供使用者組織程式碼\n",
    "\n",
    "視應用範疇由小到大依序為：\n",
    "\n",
    "1. 函數（Function）。\n",
    "2. **類別（Class）**。\n",
    "3. 模組（Module）。"
   ]
  },
  {
   "cell_type": "markdown",
   "id": "banner-frederick",
   "metadata": {
    "slideshow": {
     "slide_type": "subslide"
    }
   },
   "source": [
    "## 複習：如何理解程式碼組織機制的層次\n",
    "\n",
    "- 數行程式碼可以組織為一個函數。\n",
    "- 數個函數可以組織為一個**類別**。\n",
    "- 數個函數或類別可以組織為一個模組。\n",
    "- 數個模組可以組織為一個功能更多的模組。"
   ]
  },
  {
   "cell_type": "markdown",
   "id": "greenhouse-university",
   "metadata": {
    "slideshow": {
     "slide_type": "slide"
    }
   },
   "source": [
    "## 關於類別"
   ]
  },
  {
   "cell_type": "markdown",
   "id": "average-wrestling",
   "metadata": {
    "slideshow": {
     "slide_type": "subslide"
    }
   },
   "source": [
    "## 什麼是類別\n",
    "\n",
    "自行設計資料類別或者資料結構的機制，能夠將多個函數與資料組織起來使用，定義「類別」也是入門物件導向程式設計的第一步。"
   ]
  },
  {
   "cell_type": "markdown",
   "id": "local-criminal",
   "metadata": {
    "slideshow": {
     "slide_type": "subslide"
    }
   },
   "source": [
    "## 兩種不同的程式設計\n",
    "\n",
    "1. 程序型程式設計（Procedural programming）。\n",
    "2. 物件導向程式設計（Object-oriented programming, OOP）。"
   ]
  },
  {
   "cell_type": "markdown",
   "id": "spatial-cancer",
   "metadata": {
    "slideshow": {
     "slide_type": "subslide"
    }
   },
   "source": [
    "## 程序型程式設計\n",
    "\n",
    "以函數為主體的撰寫程式方法稱為「程序型程式設計（Procedural programming）」，把即將要執行的程式碼組織為函數，並依序呼叫這些函數來完成任務。\n",
    "\n",
    "```python\n",
    "def function_one():\n",
    "    ...\n",
    "    return ...\n",
    "    \n",
    "def function_two():\n",
    "    ...\n",
    "    return ...\n",
    "\n",
    "function_one()\n",
    "function_two()\n",
    "```"
   ]
  },
  {
   "cell_type": "markdown",
   "id": "nonprofit-pierce",
   "metadata": {
    "slideshow": {
     "slide_type": "subslide"
    }
   },
   "source": [
    "## 物件導向程式設計\n",
    "\n",
    "除了程序化程式設計，另外一種在軟體開發中被採用的撰寫程式方法稱為「物件導向程式設計（Object-oriented programming, OOP）」。\n",
    "\n",
    "```python\n",
    "class class_one:\n",
    "    def method_one(self):\n",
    "        ...\n",
    "        return ...\n",
    "\n",
    "object_one = class_one()\n",
    "object_one.method_one()\n",
    "```"
   ]
  },
  {
   "cell_type": "markdown",
   "id": "durable-brain",
   "metadata": {
    "slideshow": {
     "slide_type": "subslide"
    }
   },
   "source": [
    "## 程序化程式設計 vs. 物件導向程式設計\n",
    "\n",
    "- 線性 vs. 非線性。\n",
    "- 點餐 vs. 自助餐。"
   ]
  },
  {
   "cell_type": "markdown",
   "id": "color-venezuela",
   "metadata": {
    "slideshow": {
     "slide_type": "slide"
    }
   },
   "source": [
    "## 類別、實例與物件"
   ]
  },
  {
   "cell_type": "markdown",
   "id": "posted-toner",
   "metadata": {
    "slideshow": {
     "slide_type": "subslide"
    }
   },
   "source": [
    "## 定義類別是一種讓使用者自行設計資料類別或資料結構的機制。\n",
    "\n",
    "- `type()` 內建函數所顯示的 `class` 就是「類別」。\n",
    "- 物件（Object）是類別（Class）的實例（Instance），因此建立物件的程式碼常被稱為實例化（Instantiation）。"
   ]
  },
  {
   "cell_type": "markdown",
   "id": "lesbian-aruba",
   "metadata": {
    "slideshow": {
     "slide_type": "subslide"
    }
   },
   "source": [
    "## `luke` 物件是 `str` 類別的實例"
   ]
  },
  {
   "cell_type": "code",
   "execution_count": 1,
   "id": "artistic-package",
   "metadata": {
    "slideshow": {
     "slide_type": "-"
    }
   },
   "outputs": [
    {
     "data": {
      "text/plain": [
       "str"
      ]
     },
     "execution_count": 1,
     "metadata": {},
     "output_type": "execute_result"
    }
   ],
   "source": [
    "luke = \"Luke Skywalker\" \n",
    "type(luke)"
   ]
  },
  {
   "cell_type": "markdown",
   "id": "brave-water",
   "metadata": {
    "slideshow": {
     "slide_type": "subslide"
    }
   },
   "source": [
    "## `skywalkers` 物件是 `list` 類別的實例"
   ]
  },
  {
   "cell_type": "code",
   "execution_count": 2,
   "id": "protective-community",
   "metadata": {
    "slideshow": {
     "slide_type": "-"
    }
   },
   "outputs": [
    {
     "data": {
      "text/plain": [
       "list"
      ]
     },
     "execution_count": 2,
     "metadata": {},
     "output_type": "execute_result"
    }
   ],
   "source": [
    "skywalkers = [\"Luke Skywalker\", \"Anakin Skywalker\", \"Darth Vadar\"]\n",
    "type(skywalkers)"
   ]
  },
  {
   "cell_type": "markdown",
   "id": "wound-billy",
   "metadata": {
    "slideshow": {
     "slide_type": "subslide"
    }
   },
   "source": [
    "## 類別之於物件的關係\n",
    "\n",
    "- 類別如同藍圖一般的存在。\n",
    "- 物件如同依照藍圖所創造的產品。"
   ]
  },
  {
   "cell_type": "markdown",
   "id": "modular-clark",
   "metadata": {
    "slideshow": {
     "slide_type": "subslide"
    }
   },
   "source": [
    "## 為什麼我們需要定義類別\n",
    "\n",
    "- 當內建類別或模組所提供的類別無法滿足需求時，我們定義類別。\n",
    "- 定義「類別」是物件導向程式設計的第一步。"
   ]
  },
  {
   "cell_type": "markdown",
   "id": "polar-lesbian",
   "metadata": {
    "slideshow": {
     "slide_type": "subslide"
    }
   },
   "source": [
    "## 常用的內建類別\n",
    "\n",
    "- 資料\n",
    "    - `int`\n",
    "    - `float`\n",
    "    - `str`\n",
    "    - `bool`\n",
    "    - `NoneType`"
   ]
  },
  {
   "cell_type": "markdown",
   "id": "therapeutic-poker",
   "metadata": {
    "slideshow": {
     "slide_type": "subslide"
    }
   },
   "source": [
    "## 常用的內建類別（續）\n",
    "\n",
    "- 資料結構\n",
    "    - `list`\n",
    "    - `tuple`\n",
    "    - `dict`\n",
    "    - `set`"
   ]
  },
  {
   "cell_type": "markdown",
   "id": "large-barcelona",
   "metadata": {
    "slideshow": {
     "slide_type": "subslide"
    }
   },
   "source": [
    "## 資料科學模組主要提供的類別\n",
    "\n",
    "- 資料結構：\n",
    "    - `ndarray`\n",
    "    - `Index`\n",
    "    - `Series`\n",
    "    - `DataFrame`"
   ]
  },
  {
   "cell_type": "markdown",
   "id": "imposed-arnold",
   "metadata": {
    "slideshow": {
     "slide_type": "subslide"
    }
   },
   "source": [
    "## 資料科學模組主要提供的類別（續）\n",
    "\n",
    "- 視覺化類別：\n",
    "    - `Figure`\n",
    "    - `AxesSubplot`\n",
    "- 機器學習估計器類別：\n",
    "    - 轉換器類別\n",
    "    - 預測器類別"
   ]
  },
  {
   "cell_type": "markdown",
   "id": "dedicated-webmaster",
   "metadata": {
    "slideshow": {
     "slide_type": "subslide"
    }
   },
   "source": [
    "## 設計類別時可以定義函數與資料\n",
    "\n",
    "- 在類別程式區塊中定義的函數，實例化後稱為物件的方法（Methods）。\n",
    "- 在類別程式區塊中定義的資料，實例化後稱為物件的屬性（Attributes）。"
   ]
  },
  {
   "cell_type": "markdown",
   "id": "suspended-scratch",
   "metadata": {
    "slideshow": {
     "slide_type": "subslide"
    }
   },
   "source": [
    "## 使用內建函數 `dir()` 檢視物件的方法與屬性\n",
    "\n",
    "- 前後有兩個底線 `__` 命名的方法或屬性是所謂的特殊方法、特殊屬性。\n",
    "- 特殊方法或屬性具有 Python 指定好的功能，例如接下來會用到的 `__doc__`、`__init__()` 方法與 `__repr__()` 方法。"
   ]
  },
  {
   "cell_type": "code",
   "execution_count": 3,
   "id": "constant-classic",
   "metadata": {
    "slideshow": {
     "slide_type": "subslide"
    }
   },
   "outputs": [
    {
     "name": "stdout",
     "output_type": "stream",
     "text": [
      "['__add__', '__class__', '__contains__', '__delattr__', '__dir__', '__doc__', '__eq__', '__format__', '__ge__', '__getattribute__', '__getitem__', '__getnewargs__', '__gt__', '__hash__', '__init__', '__init_subclass__', '__iter__', '__le__', '__len__', '__lt__', '__mod__', '__mul__', '__ne__', '__new__', '__reduce__', '__reduce_ex__', '__repr__', '__rmod__', '__rmul__', '__setattr__', '__sizeof__', '__str__', '__subclasshook__', 'capitalize', 'casefold', 'center', 'count', 'encode', 'endswith', 'expandtabs', 'find', 'format', 'format_map', 'index', 'isalnum', 'isalpha', 'isascii', 'isdecimal', 'isdigit', 'isidentifier', 'islower', 'isnumeric', 'isprintable', 'isspace', 'istitle', 'isupper', 'join', 'ljust', 'lower', 'lstrip', 'maketrans', 'partition', 'replace', 'rfind', 'rindex', 'rjust', 'rpartition', 'rsplit', 'rstrip', 'split', 'splitlines', 'startswith', 'strip', 'swapcase', 'title', 'translate', 'upper', 'zfill']\n"
     ]
    }
   ],
   "source": [
    "# object luke is an instance of str class\n",
    "luke = \"Luke Skywalker\"\n",
    "print(dir(luke))"
   ]
  },
  {
   "cell_type": "code",
   "execution_count": 4,
   "id": "threaded-british",
   "metadata": {
    "slideshow": {
     "slide_type": "subslide"
    }
   },
   "outputs": [
    {
     "name": "stdout",
     "output_type": "stream",
     "text": [
      "['__add__', '__class__', '__contains__', '__delattr__', '__delitem__', '__dir__', '__doc__', '__eq__', '__format__', '__ge__', '__getattribute__', '__getitem__', '__gt__', '__hash__', '__iadd__', '__imul__', '__init__', '__init_subclass__', '__iter__', '__le__', '__len__', '__lt__', '__mul__', '__ne__', '__new__', '__reduce__', '__reduce_ex__', '__repr__', '__reversed__', '__rmul__', '__setattr__', '__setitem__', '__sizeof__', '__str__', '__subclasshook__', 'append', 'clear', 'copy', 'count', 'extend', 'index', 'insert', 'pop', 'remove', 'reverse', 'sort']\n"
     ]
    }
   ],
   "source": [
    "# object skywalkers is an instance of list class\n",
    "skywalkers = [\"Luke Skywalker\", \"Anakin Skywalker\", \"Darth Vadar\"]\n",
    "print(dir(skywalkers))"
   ]
  },
  {
   "cell_type": "markdown",
   "id": "impaired-puppy",
   "metadata": {
    "slideshow": {
     "slide_type": "slide"
    }
   },
   "source": [
    "## 函數與方法"
   ]
  },
  {
   "cell_type": "markdown",
   "id": "attractive-intelligence",
   "metadata": {
    "slideshow": {
     "slide_type": "subslide"
    }
   },
   "source": [
    "## 使用 `class` 保留字定義類別\n",
    "\n",
    "類別的命名習慣與物件、函數不同，非採用蛇形命名法，而是採用首字大寫的 CapWords 命名法。\n",
    "\n",
    "來源：<https://www.python.org/dev/peps/pep-0008/#class-names>"
   ]
  },
  {
   "cell_type": "markdown",
   "id": "impaired-douglas",
   "metadata": {
    "slideshow": {
     "slide_type": "subslide"
    }
   },
   "source": [
    "## `pass` 保留字的作用\n",
    "\n",
    "類似在「使用流程控制管理程式區塊的執行」章節介紹過的 `continue`，完成程式區塊但沒有作用。"
   ]
  },
  {
   "cell_type": "code",
   "execution_count": 5,
   "id": "sharp-ridge",
   "metadata": {
    "slideshow": {
     "slide_type": "-"
    }
   },
   "outputs": [
    {
     "name": "stdout",
     "output_type": "stream",
     "text": [
      "<class '__main__.SimpleCalculator'>\n",
      "['__class__', '__delattr__', '__dict__', '__dir__', '__doc__', '__eq__', '__format__', '__ge__', '__getattribute__', '__gt__', '__hash__', '__init__', '__init_subclass__', '__le__', '__lt__', '__module__', '__ne__', '__new__', '__reduce__', '__reduce_ex__', '__repr__', '__setattr__', '__sizeof__', '__str__', '__subclasshook__', '__weakref__']\n"
     ]
    }
   ],
   "source": [
    "class SimpleCalculator:\n",
    "    pass\n",
    "\n",
    "simple_calculator = SimpleCalculator() # instantiation\n",
    "print(type(simple_calculator))\n",
    "print(dir(simple_calculator))"
   ]
  },
  {
   "cell_type": "markdown",
   "id": "speaking-brisbane",
   "metadata": {
    "slideshow": {
     "slide_type": "subslide"
    }
   },
   "source": [
    "## 在類別程式區塊中使用 `def` 保留字定義函數\n",
    "\n",
    "在類別程式區塊中定義的函數，實例化後稱為物件的**方法**。\n",
    "\n",
    "```python\n",
    "class ClassName:\n",
    "    def method_name(self):\n",
    "        ...\n",
    "        return ...\n",
    "\n",
    "object_name = ClassName()\n",
    "object_name.method_name()\n",
    "```"
   ]
  },
  {
   "cell_type": "markdown",
   "id": "induced-ordinance",
   "metadata": {
    "slideshow": {
     "slide_type": "subslide"
    }
   },
   "source": [
    "## 如何理解 `self`\n",
    "\n",
    "- 在使用時物件的方法必須要指定物件名稱：`object_name.method_name()`\n",
    "- 可是設計類別的人不會知道物件名稱為何，因為實例化的物件名稱是由使用者所決定的。\n",
    "- 若是要在定義類別的時候描述方法，就必須先給物件一個代稱：`self` 作為第一個參數名稱。"
   ]
  },
  {
   "cell_type": "code",
   "execution_count": 6,
   "id": "collect-aggregate",
   "metadata": {
    "slideshow": {
     "slide_type": "subslide"
    }
   },
   "outputs": [
    {
     "data": {
      "text/plain": [
       "11"
      ]
     },
     "execution_count": 6,
     "metadata": {},
     "output_type": "execute_result"
    }
   ],
   "source": [
    "class SimpleCalculator:\n",
    "    def add(self, a, b):\n",
    "        return a + b\n",
    "\n",
    "simple_calculator = SimpleCalculator()\n",
    "simple_calculator.add(5, 6)"
   ]
  },
  {
   "cell_type": "markdown",
   "id": "brutal-nashville",
   "metadata": {
    "slideshow": {
     "slide_type": "subslide"
    }
   },
   "source": [
    "## 如何理解 `self`（續）\n",
    "\n",
    "- 事實上，也不一定要用 `self` 作為第一個參數的名稱，可以用偏好的命名。\n",
    "- 但是 Python 的使用者都習慣 `self`\n",
    "\n",
    "來源：<https://www.python.org/dev/peps/pep-0008/#function-and-method-arguments>"
   ]
  },
  {
   "cell_type": "code",
   "execution_count": 7,
   "id": "practical-distribution",
   "metadata": {
    "slideshow": {
     "slide_type": "subslide"
    }
   },
   "outputs": [
    {
     "data": {
      "text/plain": [
       "121"
      ]
     },
     "execution_count": 7,
     "metadata": {},
     "output_type": "execute_result"
    }
   ],
   "source": [
    "class SimpleCalculator:\n",
    "    def add(this, a, b): # use this instead of self\n",
    "        return a + b\n",
    "\n",
    "simple_calculator = SimpleCalculator()\n",
    "simple_calculator.add(55, 66)"
   ]
  },
  {
   "cell_type": "markdown",
   "id": "integrated-inside",
   "metadata": {
    "slideshow": {
     "slide_type": "slide"
    }
   },
   "source": [
    "## 資料與屬性"
   ]
  },
  {
   "cell_type": "markdown",
   "id": "plastic-formation",
   "metadata": {
    "slideshow": {
     "slide_type": "subslide"
    }
   },
   "source": [
    "## 在類別程式區塊加入 `str` 作為說明\n",
    "\n",
    "- 我們可以加入 `str` 描述自行定義的類別，與函數的說明（docstring）相似。\n",
    "- 實例化後使用 `object.__doc__` 屬性閱讀說明。"
   ]
  },
  {
   "cell_type": "code",
   "execution_count": 8,
   "id": "swiss-advocacy",
   "metadata": {
    "slideshow": {
     "slide_type": "subslide"
    }
   },
   "outputs": [
    {
     "name": "stdout",
     "output_type": "stream",
     "text": [
      "\n",
      "    This class creates an instance with default attributes.\n",
      "    \n"
     ]
    }
   ],
   "source": [
    "class SimpleCalculator:\n",
    "    \"\"\"\n",
    "    This class creates an instance with default attributes.\n",
    "    \"\"\"\n",
    "    pass\n",
    "\n",
    "simple_calculator = SimpleCalculator()\n",
    "print(simple_calculator.__doc__)"
   ]
  },
  {
   "cell_type": "markdown",
   "id": "obvious-latter",
   "metadata": {
    "slideshow": {
     "slide_type": "subslide"
    }
   },
   "source": [
    "## 在類別程式區塊中定義函數 `__init__()` 定義資料\n",
    "\n",
    "- 在類別程式區塊中定義的資料，實例化後稱為物件的屬性。\n",
    "- `__init__()` 函數顧名思義就是在實例化當下就會起作用的函數。"
   ]
  },
  {
   "cell_type": "code",
   "execution_count": 9,
   "id": "primary-panama",
   "metadata": {
    "slideshow": {
     "slide_type": "subslide"
    }
   },
   "outputs": [
    {
     "name": "stdout",
     "output_type": "stream",
     "text": [
      "55\n",
      "66\n"
     ]
    }
   ],
   "source": [
    "class SimpleCalculator:\n",
    "    \"\"\"\n",
    "    This class creates an instance with 2 custom attributes.\n",
    "    \"\"\"\n",
    "    def __init__(self, a, b):\n",
    "        self.a = a\n",
    "        self.b = b\n",
    "\n",
    "simple_calculator = SimpleCalculator(55, 66)\n",
    "print(simple_calculator.a)\n",
    "print(simple_calculator.b)"
   ]
  },
  {
   "cell_type": "markdown",
   "id": "unable-innocent",
   "metadata": {
    "slideshow": {
     "slide_type": "subslide"
    }
   },
   "source": [
    "## 如何理解 `self`（續）\n",
    "\n",
    "- 在使用物件的屬性時必須要指定物件名稱：`object_name.attribute_name`\n",
    "- 可是設計類別的人不會知道物件名稱為何，因為實例化的物件名稱是由使用者所決定的。\n",
    "- 若是要在定義類別的時候描述屬性，就必須先給物件一個代稱：`self` 作為第一個參數名稱。"
   ]
  },
  {
   "cell_type": "markdown",
   "id": "cooperative-oxford",
   "metadata": {
    "slideshow": {
     "slide_type": "subslide"
    }
   },
   "source": [
    "## 以 `self.attribute_name` 在類別程式區塊中使用物件屬性"
   ]
  },
  {
   "cell_type": "code",
   "execution_count": 10,
   "id": "potential-middle",
   "metadata": {
    "slideshow": {
     "slide_type": "-"
    }
   },
   "outputs": [
    {
     "data": {
      "text/plain": [
       "121"
      ]
     },
     "execution_count": 10,
     "metadata": {},
     "output_type": "execute_result"
    }
   ],
   "source": [
    "class SimpleCalculator:\n",
    "    \"\"\"\n",
    "    This class creates an instance with 2 custom attributes and 1 custom method.\n",
    "    \"\"\"\n",
    "    def __init__(self, a, b):\n",
    "        self.a = a\n",
    "        self.b = b\n",
    "    def add(self):\n",
    "        return self.a + self.b # retrieve via self.a, self.b\n",
    "\n",
    "simple_calculator = SimpleCalculator(55, 66) # self proxies object sc\n",
    "simple_calculator.add()"
   ]
  },
  {
   "cell_type": "markdown",
   "id": "industrial-jaguar",
   "metadata": {
    "slideshow": {
     "slide_type": "subslide"
    }
   },
   "source": [
    "## 以 `self.method_name()` 在類別程式區塊中使用物件方法"
   ]
  },
  {
   "cell_type": "code",
   "execution_count": 11,
   "id": "japanese-dairy",
   "metadata": {
    "slideshow": {
     "slide_type": "-"
    }
   },
   "outputs": [
    {
     "name": "stdout",
     "output_type": "stream",
     "text": [
      "14641\n"
     ]
    }
   ],
   "source": [
    "class SimpleCalculator:\n",
    "    \"\"\"\n",
    "    This class creates an instance with 2 custom attributes and 2 custom methods.\n",
    "    \"\"\"\n",
    "    def __init__(self, a, b):\n",
    "        self.a = a\n",
    "        self.b = b\n",
    "    def add(self):\n",
    "        return self.a + self.b # retrieve via self.a, self.b\n",
    "    def add_then_square(self):\n",
    "        return (self.add())**2 # use via self.add()\n",
    "\n",
    "simple_calculator = SimpleCalculator(55, 66)\n",
    "print(simple_calculator.add_then_square())"
   ]
  },
  {
   "cell_type": "markdown",
   "id": "functional-liberia",
   "metadata": {
    "slideshow": {
     "slide_type": "subslide"
    }
   },
   "source": [
    "## 自行定義的類別實例化後沒有顯示外觀"
   ]
  },
  {
   "cell_type": "code",
   "execution_count": 12,
   "id": "several-matrix",
   "metadata": {},
   "outputs": [
    {
     "data": {
      "text/plain": [
       "<__main__.SimpleCalculator at 0x7fa8d779c790>"
      ]
     },
     "execution_count": 12,
     "metadata": {},
     "output_type": "execute_result"
    }
   ],
   "source": [
    "simple_calculator"
   ]
  },
  {
   "cell_type": "markdown",
   "id": "broadband-pride",
   "metadata": {
    "slideshow": {
     "slide_type": "subslide"
    }
   },
   "source": [
    "## 在類別程式區塊中定義函數 `__repr__()` 描述顯示外觀"
   ]
  },
  {
   "cell_type": "code",
   "execution_count": 13,
   "id": "moving-haiti",
   "metadata": {
    "slideshow": {
     "slide_type": "-"
    }
   },
   "outputs": [
    {
     "name": "stdout",
     "output_type": "stream",
     "text": [
      "a: 55, b: 66\n"
     ]
    }
   ],
   "source": [
    "class SimpleCalculator:\n",
    "    \"\"\"\n",
    "    This class creates an instance with 2 custom attributes and 2 custom methods.\n",
    "    \"\"\"\n",
    "    def __init__(self, a, b):\n",
    "        self.a = a\n",
    "        self.b = b\n",
    "    def add(self):\n",
    "        return self.a + self.b # retrieve via self.a, self.b\n",
    "    def add_then_square(self):\n",
    "        return (self.add())**2 # use via self.add()\n",
    "    def __repr__(self):\n",
    "        return f\"a: {self.a}, b: {self.b}\" # retrieve via self.a, self.b\n",
    "\n",
    "simple_calculator = SimpleCalculator(55, 66)\n",
    "print(simple_calculator)"
   ]
  },
  {
   "cell_type": "markdown",
   "id": "refined-ceiling",
   "metadata": {
    "slideshow": {
     "slide_type": "subslide"
    }
   },
   "source": [
    "## 物件導向程式設計的四個特性\n",
    "\n",
    "1. **封裝**。\n",
    "2. 繼承。\n",
    "3. 抽象。\n",
    "4. 多型。"
   ]
  },
  {
   "cell_type": "markdown",
   "id": "sophisticated-pastor",
   "metadata": {
    "slideshow": {
     "slide_type": "subslide"
    }
   },
   "source": [
    "## 資料分析師「必須」暸解的物件導向程式設計特性\n",
    "\n",
    "- **封裝**，將函數與資料整合為物件的方法與屬性。\n",
    "- 類別程式區塊中定義的函數實例化後稱為物件的「方法」。\n",
    "- 類別程式區塊中定義的資料實例化後稱為物件的「屬性」。"
   ]
  },
  {
   "cell_type": "markdown",
   "id": "consolidated-nothing",
   "metadata": {
    "slideshow": {
     "slide_type": "slide"
    }
   },
   "source": [
    "## 重點統整\n",
    "\n",
    "- 類別是自行定義資料類別或者資料結構的機制，能夠將多個函數與資料組織起來使用，也是入門物件導向程式設計的第一步。\n",
    "- 兩種不同的程式設計：\n",
    "    - 程序型程式設計（Procedural programming）。\n",
    "    - 物件導向程式設計（Object-oriented programming, OOP）。\n",
    "- 類別是一種讓使用者自行設計資料類別或資料結構的機制。"
   ]
  },
  {
   "cell_type": "markdown",
   "id": "honest-concrete",
   "metadata": {
    "slideshow": {
     "slide_type": "subslide"
    }
   },
   "source": [
    "## 重點統整（續）\n",
    "\n",
    "- 物件（Object）是類別（Class）的實例（Instance），因此建立物件的程式碼常被稱為實例化（Instantiation）。\n",
    "- 物件導向程式設計特性：封裝，指的是將函數與資料整合為物件的方法與屬性。\n",
    "- 類別程式區塊中定義的函數實例化後稱為物件的「方法」。\n",
    "- 類別程式區塊中定義的資料實例化後稱為物件的「屬性」。"
   ]
  }
 ],
 "metadata": {
  "celltoolbar": "Slideshow",
  "kernelspec": {
   "display_name": "Python Data Science",
   "language": "python",
   "name": "pyds"
  },
  "language_info": {
   "codemirror_mode": {
    "name": "ipython",
    "version": 3
   },
   "file_extension": ".py",
   "mimetype": "text/x-python",
   "name": "python",
   "nbconvert_exporter": "python",
   "pygments_lexer": "ipython3",
   "version": "3.8.10"
  }
 },
 "nbformat": 4,
 "nbformat_minor": 5
}
