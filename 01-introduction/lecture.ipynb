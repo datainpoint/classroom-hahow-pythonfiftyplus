{
 "cells": [
  {
   "cell_type": "markdown",
   "metadata": {
    "deletable": false,
    "slideshow": {
     "slide_type": "slide"
    }
   },
   "source": [
    "# Python 的 50+ 練習：資料科學學習手冊\n",
    "\n",
    "> 簡介\n",
    "\n",
    "[數據交點](https://www.datainpoint.com) | 郭耀仁 <yaojenkuo@datainpoint.com>"
   ]
  },
  {
   "cell_type": "markdown",
   "metadata": {
    "slideshow": {
     "slide_type": "subslide"
    }
   },
   "source": [
    "## 這個章節會登場的保留字、函數與模組\n",
    "\n",
    "- `import` 保留字。\n",
    "- `print()` 函數。\n",
    "- `this` 模組。"
   ]
  },
  {
   "cell_type": "markdown",
   "metadata": {
    "slideshow": {
     "slide_type": "slide"
    }
   },
   "source": [
    "## 程式設計與資料科學"
   ]
  },
  {
   "cell_type": "markdown",
   "metadata": {
    "slideshow": {
     "slide_type": "subslide"
    }
   },
   "source": [
    "## 「Python 的 50+ 練習」課程的兩個核心\n",
    "\n",
    "1. 程式設計。\n",
    "2. 資料科學。"
   ]
  },
  {
   "cell_type": "markdown",
   "metadata": {
    "slideshow": {
     "slide_type": "subslide"
    }
   },
   "source": [
    "## 什麼是程式設計\n",
    "\n",
    "以程式語言來指定電腦來解決特定問題的過程，常見的問題包含數值計算、文字搜尋取代、圖像或音訊處理等，程式設計過程包含分析、設計、寫作、測試與除錯等軟體開發的重要步驟。"
   ]
  },
  {
   "cell_type": "markdown",
   "metadata": {
    "slideshow": {
     "slide_type": "subslide"
    }
   },
   "source": [
    "## 什麼是資料科學\n",
    "\n",
    "資料科學是一門將資料（Data）提煉為資訊（Information）的學科，提煉過程中可能包含資料載入、資料操作、探索性分析以及監督式學習等。"
   ]
  },
  {
   "cell_type": "markdown",
   "metadata": {
    "slideshow": {
     "slide_type": "subslide"
    }
   },
   "source": [
    "## 現代資料科學：以程式設計做資料科學的應用\n",
    "\n",
    "![](r-for-data-science.png)\n",
    "\n",
    "來源：[R for Data Science](https://r4ds.had.co.nz)"
   ]
  },
  {
   "cell_type": "markdown",
   "metadata": {
    "slideshow": {
     "slide_type": "subslide"
    }
   },
   "source": [
    "## 有很多程式語言可以做到前述六項的資料科學應用，為什麼選 Python\n",
    "\n",
    "- R\n",
    "- Matlab\n",
    "- Julia\n",
    "- SAS\n",
    "- Scala\n",
    "- ...etc."
   ]
  },
  {
   "cell_type": "markdown",
   "metadata": {
    "slideshow": {
     "slide_type": "subslide"
    }
   },
   "source": [
    "## 選擇最多人使用、推薦與使用人數上升的程式語言\n",
    "\n",
    "- [2021 Kaggle ML & DS Survey](https://www.kaggle.com/c/kaggle-survey-2021)\n",
    "- [Stack Overflow Trends](https://insights.stackoverflow.com/trends?tags=python%2Cr%2Cmatlab%2Cjulia%2Csas%2Cscala)"
   ]
  },
  {
   "cell_type": "markdown",
   "metadata": {
    "slideshow": {
     "slide_type": "subslide"
    }
   },
   "source": [
    "## [2021 Kaggle ML & DS Survey](https://www.kaggle.com/c/kaggle-survey-2021) 中的兩個問題\n",
    "\n",
    "- Q7: What programming languages do you use on a regular basis? (Select all that apply)\n",
    "- Q8: What programming language would you recommend an aspiring data scientist to learn first?"
   ]
  },
  {
   "cell_type": "code",
   "execution_count": 1,
   "metadata": {
    "slideshow": {
     "slide_type": "skip"
    }
   },
   "outputs": [
    {
     "data": {
      "text/html": [
       "<div>\n",
       "<style scoped>\n",
       "    .dataframe tbody tr th:only-of-type {\n",
       "        vertical-align: middle;\n",
       "    }\n",
       "\n",
       "    .dataframe tbody tr th {\n",
       "        vertical-align: top;\n",
       "    }\n",
       "\n",
       "    .dataframe thead th {\n",
       "        text-align: right;\n",
       "    }\n",
       "</style>\n",
       "<table border=\"1\" class=\"dataframe\">\n",
       "  <thead>\n",
       "    <tr style=\"text-align: right;\">\n",
       "      <th></th>\n",
       "      <th>question_index</th>\n",
       "      <th>question_description</th>\n",
       "      <th>question_type</th>\n",
       "    </tr>\n",
       "  </thead>\n",
       "  <tbody>\n",
       "    <tr>\n",
       "      <th>0</th>\n",
       "      <td>Q1</td>\n",
       "      <td>What is your age (# years)?</td>\n",
       "      <td>multiple choice</td>\n",
       "    </tr>\n",
       "    <tr>\n",
       "      <th>1</th>\n",
       "      <td>Q2</td>\n",
       "      <td>What is your gender?</td>\n",
       "      <td>multiple choice</td>\n",
       "    </tr>\n",
       "    <tr>\n",
       "      <th>2</th>\n",
       "      <td>Q3</td>\n",
       "      <td>In which country do you currently reside?</td>\n",
       "      <td>multiple choice</td>\n",
       "    </tr>\n",
       "    <tr>\n",
       "      <th>3</th>\n",
       "      <td>Q4</td>\n",
       "      <td>What is the highest level of formal education ...</td>\n",
       "      <td>multiple choice</td>\n",
       "    </tr>\n",
       "    <tr>\n",
       "      <th>4</th>\n",
       "      <td>Q5</td>\n",
       "      <td>Select the title most similar to your current ...</td>\n",
       "      <td>multiple choice</td>\n",
       "    </tr>\n",
       "    <tr>\n",
       "      <th>5</th>\n",
       "      <td>Q6</td>\n",
       "      <td>For how many years have you been writing code ...</td>\n",
       "      <td>multiple choice</td>\n",
       "    </tr>\n",
       "    <tr>\n",
       "      <th>6</th>\n",
       "      <td>Q7</td>\n",
       "      <td>What programming languages do you use on a reg...</td>\n",
       "      <td>multiple selection</td>\n",
       "    </tr>\n",
       "    <tr>\n",
       "      <th>7</th>\n",
       "      <td>Q8</td>\n",
       "      <td>What programming language would you recommend ...</td>\n",
       "      <td>multiple choice</td>\n",
       "    </tr>\n",
       "    <tr>\n",
       "      <th>8</th>\n",
       "      <td>Q9</td>\n",
       "      <td>Which of the following integrated development ...</td>\n",
       "      <td>multiple selection</td>\n",
       "    </tr>\n",
       "    <tr>\n",
       "      <th>9</th>\n",
       "      <td>Q10</td>\n",
       "      <td>Which of the following hosted notebook product...</td>\n",
       "      <td>multiple selection</td>\n",
       "    </tr>\n",
       "    <tr>\n",
       "      <th>10</th>\n",
       "      <td>Q11</td>\n",
       "      <td>What type of computing platform do you use mos...</td>\n",
       "      <td>multiple choice</td>\n",
       "    </tr>\n",
       "    <tr>\n",
       "      <th>11</th>\n",
       "      <td>Q12</td>\n",
       "      <td>Which types of specialized hardware do you use...</td>\n",
       "      <td>multiple selection</td>\n",
       "    </tr>\n",
       "    <tr>\n",
       "      <th>12</th>\n",
       "      <td>Q13</td>\n",
       "      <td>Approximately how many times have you used a T...</td>\n",
       "      <td>multiple choice</td>\n",
       "    </tr>\n",
       "    <tr>\n",
       "      <th>13</th>\n",
       "      <td>Q14</td>\n",
       "      <td>What data visualization libraries or tools do ...</td>\n",
       "      <td>multiple selection</td>\n",
       "    </tr>\n",
       "    <tr>\n",
       "      <th>14</th>\n",
       "      <td>Q15</td>\n",
       "      <td>For how many years have you used machine learn...</td>\n",
       "      <td>multiple choice</td>\n",
       "    </tr>\n",
       "    <tr>\n",
       "      <th>15</th>\n",
       "      <td>Q16</td>\n",
       "      <td>Which of the following machine learning framew...</td>\n",
       "      <td>multiple selection</td>\n",
       "    </tr>\n",
       "    <tr>\n",
       "      <th>16</th>\n",
       "      <td>Q17</td>\n",
       "      <td>Which of the following ML algorithms do you us...</td>\n",
       "      <td>multiple selection</td>\n",
       "    </tr>\n",
       "    <tr>\n",
       "      <th>17</th>\n",
       "      <td>Q18</td>\n",
       "      <td>Which categories of computer vision methods do...</td>\n",
       "      <td>multiple selection</td>\n",
       "    </tr>\n",
       "    <tr>\n",
       "      <th>18</th>\n",
       "      <td>Q19</td>\n",
       "      <td>Which of the following natural language proces...</td>\n",
       "      <td>multiple selection</td>\n",
       "    </tr>\n",
       "    <tr>\n",
       "      <th>19</th>\n",
       "      <td>Q20</td>\n",
       "      <td>In what industry is your current employer/cont...</td>\n",
       "      <td>multiple choice</td>\n",
       "    </tr>\n",
       "    <tr>\n",
       "      <th>20</th>\n",
       "      <td>Q21</td>\n",
       "      <td>What is the size of the company where you are ...</td>\n",
       "      <td>multiple choice</td>\n",
       "    </tr>\n",
       "    <tr>\n",
       "      <th>21</th>\n",
       "      <td>Q22</td>\n",
       "      <td>Approximately how many individuals are respons...</td>\n",
       "      <td>multiple choice</td>\n",
       "    </tr>\n",
       "    <tr>\n",
       "      <th>22</th>\n",
       "      <td>Q23</td>\n",
       "      <td>Does your current employer incorporate machine...</td>\n",
       "      <td>multiple choice</td>\n",
       "    </tr>\n",
       "    <tr>\n",
       "      <th>23</th>\n",
       "      <td>Q24</td>\n",
       "      <td>Select any activities that make up an importan...</td>\n",
       "      <td>multiple selection</td>\n",
       "    </tr>\n",
       "    <tr>\n",
       "      <th>24</th>\n",
       "      <td>Q25</td>\n",
       "      <td>What is your current yearly compensation (appr...</td>\n",
       "      <td>multiple choice</td>\n",
       "    </tr>\n",
       "    <tr>\n",
       "      <th>25</th>\n",
       "      <td>Q26</td>\n",
       "      <td>Approximately how much money have you (or your...</td>\n",
       "      <td>multiple choice</td>\n",
       "    </tr>\n",
       "    <tr>\n",
       "      <th>26</th>\n",
       "      <td>Q27A</td>\n",
       "      <td>Which of the following cloud computing platfor...</td>\n",
       "      <td>multiple selection</td>\n",
       "    </tr>\n",
       "    <tr>\n",
       "      <th>27</th>\n",
       "      <td>Q28</td>\n",
       "      <td>Of the cloud platforms that you are familiar w...</td>\n",
       "      <td>multiple choice</td>\n",
       "    </tr>\n",
       "    <tr>\n",
       "      <th>28</th>\n",
       "      <td>Q29A</td>\n",
       "      <td>Do you use any of the following cloud computin...</td>\n",
       "      <td>multiple selection</td>\n",
       "    </tr>\n",
       "    <tr>\n",
       "      <th>29</th>\n",
       "      <td>Q30A</td>\n",
       "      <td>Do you use any of the following data storage p...</td>\n",
       "      <td>multiple selection</td>\n",
       "    </tr>\n",
       "    <tr>\n",
       "      <th>30</th>\n",
       "      <td>Q31A</td>\n",
       "      <td>Do you use any of the following managed machin...</td>\n",
       "      <td>multiple selection</td>\n",
       "    </tr>\n",
       "    <tr>\n",
       "      <th>31</th>\n",
       "      <td>Q32A</td>\n",
       "      <td>Which of the following big data products (rela...</td>\n",
       "      <td>multiple selection</td>\n",
       "    </tr>\n",
       "    <tr>\n",
       "      <th>32</th>\n",
       "      <td>Q33</td>\n",
       "      <td>Which of the following big data products (rela...</td>\n",
       "      <td>multiple choice</td>\n",
       "    </tr>\n",
       "    <tr>\n",
       "      <th>33</th>\n",
       "      <td>Q34A</td>\n",
       "      <td>Which of the following business intelligence t...</td>\n",
       "      <td>multiple selection</td>\n",
       "    </tr>\n",
       "    <tr>\n",
       "      <th>34</th>\n",
       "      <td>Q35</td>\n",
       "      <td>Which of the following business intelligence t...</td>\n",
       "      <td>multiple choice</td>\n",
       "    </tr>\n",
       "    <tr>\n",
       "      <th>35</th>\n",
       "      <td>Q36A</td>\n",
       "      <td>Do you use any automated machine learning tool...</td>\n",
       "      <td>multiple selection</td>\n",
       "    </tr>\n",
       "    <tr>\n",
       "      <th>36</th>\n",
       "      <td>Q37A</td>\n",
       "      <td>Which of the following automated machine learn...</td>\n",
       "      <td>multiple selection</td>\n",
       "    </tr>\n",
       "    <tr>\n",
       "      <th>37</th>\n",
       "      <td>Q38A</td>\n",
       "      <td>Do you use any tools to help manage machine le...</td>\n",
       "      <td>multiple selection</td>\n",
       "    </tr>\n",
       "    <tr>\n",
       "      <th>38</th>\n",
       "      <td>Q39</td>\n",
       "      <td>Where do you publicly share your data analysis...</td>\n",
       "      <td>multiple selection</td>\n",
       "    </tr>\n",
       "    <tr>\n",
       "      <th>39</th>\n",
       "      <td>Q40</td>\n",
       "      <td>On which platforms have you begun or completed...</td>\n",
       "      <td>multiple selection</td>\n",
       "    </tr>\n",
       "    <tr>\n",
       "      <th>40</th>\n",
       "      <td>Q41</td>\n",
       "      <td>What is the primary tool that you use at work ...</td>\n",
       "      <td>multiple choice</td>\n",
       "    </tr>\n",
       "    <tr>\n",
       "      <th>41</th>\n",
       "      <td>Q42</td>\n",
       "      <td>Who/what are your favorite media sources that ...</td>\n",
       "      <td>multiple selection</td>\n",
       "    </tr>\n",
       "    <tr>\n",
       "      <th>42</th>\n",
       "      <td>Q27B</td>\n",
       "      <td>Which of the following cloud computing platfor...</td>\n",
       "      <td>multiple selection</td>\n",
       "    </tr>\n",
       "    <tr>\n",
       "      <th>43</th>\n",
       "      <td>Q29B</td>\n",
       "      <td>In the next 2 years, do you hope to become mor...</td>\n",
       "      <td>multiple selection</td>\n",
       "    </tr>\n",
       "    <tr>\n",
       "      <th>44</th>\n",
       "      <td>Q30B</td>\n",
       "      <td>In the next 2 years, do you hope to become mor...</td>\n",
       "      <td>multiple selection</td>\n",
       "    </tr>\n",
       "    <tr>\n",
       "      <th>45</th>\n",
       "      <td>Q31B</td>\n",
       "      <td>In the next 2 years, do you hope to become mor...</td>\n",
       "      <td>multiple selection</td>\n",
       "    </tr>\n",
       "    <tr>\n",
       "      <th>46</th>\n",
       "      <td>Q32B</td>\n",
       "      <td>Which of the following big data products (rela...</td>\n",
       "      <td>multiple selection</td>\n",
       "    </tr>\n",
       "    <tr>\n",
       "      <th>47</th>\n",
       "      <td>Q34B</td>\n",
       "      <td>Which of the following business intelligence t...</td>\n",
       "      <td>multiple selection</td>\n",
       "    </tr>\n",
       "    <tr>\n",
       "      <th>48</th>\n",
       "      <td>Q36B</td>\n",
       "      <td>Which categories of automated machine learning...</td>\n",
       "      <td>multiple selection</td>\n",
       "    </tr>\n",
       "    <tr>\n",
       "      <th>49</th>\n",
       "      <td>Q37B</td>\n",
       "      <td>Which specific automated machine learning tool...</td>\n",
       "      <td>multiple selection</td>\n",
       "    </tr>\n",
       "    <tr>\n",
       "      <th>50</th>\n",
       "      <td>Q38B</td>\n",
       "      <td>In the next 2 years, do you hope to become mor...</td>\n",
       "      <td>multiple selection</td>\n",
       "    </tr>\n",
       "  </tbody>\n",
       "</table>\n",
       "</div>"
      ],
      "text/plain": [
       "   question_index                               question_description  \\\n",
       "0              Q1                        What is your age (# years)?   \n",
       "1              Q2                               What is your gender?   \n",
       "2              Q3          In which country do you currently reside?   \n",
       "3              Q4  What is the highest level of formal education ...   \n",
       "4              Q5  Select the title most similar to your current ...   \n",
       "5              Q6  For how many years have you been writing code ...   \n",
       "6              Q7  What programming languages do you use on a reg...   \n",
       "7              Q8  What programming language would you recommend ...   \n",
       "8              Q9  Which of the following integrated development ...   \n",
       "9             Q10  Which of the following hosted notebook product...   \n",
       "10            Q11  What type of computing platform do you use mos...   \n",
       "11            Q12  Which types of specialized hardware do you use...   \n",
       "12            Q13  Approximately how many times have you used a T...   \n",
       "13            Q14  What data visualization libraries or tools do ...   \n",
       "14            Q15  For how many years have you used machine learn...   \n",
       "15            Q16  Which of the following machine learning framew...   \n",
       "16            Q17  Which of the following ML algorithms do you us...   \n",
       "17            Q18  Which categories of computer vision methods do...   \n",
       "18            Q19  Which of the following natural language proces...   \n",
       "19            Q20  In what industry is your current employer/cont...   \n",
       "20            Q21  What is the size of the company where you are ...   \n",
       "21            Q22  Approximately how many individuals are respons...   \n",
       "22            Q23  Does your current employer incorporate machine...   \n",
       "23            Q24  Select any activities that make up an importan...   \n",
       "24            Q25  What is your current yearly compensation (appr...   \n",
       "25            Q26  Approximately how much money have you (or your...   \n",
       "26           Q27A  Which of the following cloud computing platfor...   \n",
       "27            Q28  Of the cloud platforms that you are familiar w...   \n",
       "28           Q29A  Do you use any of the following cloud computin...   \n",
       "29           Q30A  Do you use any of the following data storage p...   \n",
       "30           Q31A  Do you use any of the following managed machin...   \n",
       "31           Q32A  Which of the following big data products (rela...   \n",
       "32            Q33  Which of the following big data products (rela...   \n",
       "33           Q34A  Which of the following business intelligence t...   \n",
       "34            Q35  Which of the following business intelligence t...   \n",
       "35           Q36A  Do you use any automated machine learning tool...   \n",
       "36           Q37A  Which of the following automated machine learn...   \n",
       "37           Q38A  Do you use any tools to help manage machine le...   \n",
       "38            Q39  Where do you publicly share your data analysis...   \n",
       "39            Q40  On which platforms have you begun or completed...   \n",
       "40            Q41  What is the primary tool that you use at work ...   \n",
       "41            Q42  Who/what are your favorite media sources that ...   \n",
       "42           Q27B  Which of the following cloud computing platfor...   \n",
       "43           Q29B  In the next 2 years, do you hope to become mor...   \n",
       "44           Q30B  In the next 2 years, do you hope to become mor...   \n",
       "45           Q31B  In the next 2 years, do you hope to become mor...   \n",
       "46           Q32B  Which of the following big data products (rela...   \n",
       "47           Q34B  Which of the following business intelligence t...   \n",
       "48           Q36B  Which categories of automated machine learning...   \n",
       "49           Q37B  Which specific automated machine learning tool...   \n",
       "50           Q38B  In the next 2 years, do you hope to become mor...   \n",
       "\n",
       "         question_type  \n",
       "0      multiple choice  \n",
       "1      multiple choice  \n",
       "2      multiple choice  \n",
       "3      multiple choice  \n",
       "4      multiple choice  \n",
       "5      multiple choice  \n",
       "6   multiple selection  \n",
       "7      multiple choice  \n",
       "8   multiple selection  \n",
       "9   multiple selection  \n",
       "10     multiple choice  \n",
       "11  multiple selection  \n",
       "12     multiple choice  \n",
       "13  multiple selection  \n",
       "14     multiple choice  \n",
       "15  multiple selection  \n",
       "16  multiple selection  \n",
       "17  multiple selection  \n",
       "18  multiple selection  \n",
       "19     multiple choice  \n",
       "20     multiple choice  \n",
       "21     multiple choice  \n",
       "22     multiple choice  \n",
       "23  multiple selection  \n",
       "24     multiple choice  \n",
       "25     multiple choice  \n",
       "26  multiple selection  \n",
       "27     multiple choice  \n",
       "28  multiple selection  \n",
       "29  multiple selection  \n",
       "30  multiple selection  \n",
       "31  multiple selection  \n",
       "32     multiple choice  \n",
       "33  multiple selection  \n",
       "34     multiple choice  \n",
       "35  multiple selection  \n",
       "36  multiple selection  \n",
       "37  multiple selection  \n",
       "38  multiple selection  \n",
       "39  multiple selection  \n",
       "40     multiple choice  \n",
       "41  multiple selection  \n",
       "42  multiple selection  \n",
       "43  multiple selection  \n",
       "44  multiple selection  \n",
       "45  multiple selection  \n",
       "46  multiple selection  \n",
       "47  multiple selection  \n",
       "48  multiple selection  \n",
       "49  multiple selection  \n",
       "50  multiple selection  "
      ]
     },
     "execution_count": 1,
     "metadata": {},
     "output_type": "execute_result"
    }
   ],
   "source": [
    "from ks2021 import KaggleSurvey2021\n",
    "\n",
    "csv_file = \"https://kaggle-ml-ds-survey.s3.ap-northeast-1.amazonaws.com/kaggle-survey-2021/kaggle_survey_2021_responses.csv\"\n",
    "ks = KaggleSurvey2021(csv_file)\n",
    "ks.generate_question_table()"
   ]
  },
  {
   "cell_type": "code",
   "execution_count": 2,
   "metadata": {
    "slideshow": {
     "slide_type": "subslide"
    }
   },
   "outputs": [
    {
     "data": {
      "image/png": "[encoded data removed]",
      "text/plain": [
       "<Figure size 432x288 with 1 Axes>"
      ]
     },
     "metadata": {
      "needs_background": "light"
     },
     "output_type": "display_data"
    }
   ],
   "source": [
    "ks.plot_survey_summary(question_index=\"Q7\", n=1)"
   ]
  },
  {
   "cell_type": "code",
   "execution_count": 3,
   "metadata": {
    "slideshow": {
     "slide_type": "subslide"
    }
   },
   "outputs": [
    {
     "data": {
      "image/png": "[encoded data removed]",
      "text/plain": [
       "<Figure size 432x288 with 1 Axes>"
      ]
     },
     "metadata": {
      "needs_background": "light"
     },
     "output_type": "display_data"
    }
   ],
   "source": [
    "ks.plot_survey_summary(question_index=\"Q8\", n=1)"
   ]
  },
  {
   "cell_type": "markdown",
   "metadata": {
    "slideshow": {
     "slide_type": "subslide"
    }
   },
   "source": [
    "## Stack Overflow Trends\n",
    "\n",
    "<https://insights.stackoverflow.com/trends?tags=python%2Cr%2Cmatlab%2Cjulia%2Csas%2Cscala>"
   ]
  },
  {
   "cell_type": "markdown",
   "metadata": {
    "slideshow": {
     "slide_type": "subslide"
    }
   },
   "source": [
    "## 關於 Python 的二三事\n",
    "\n",
    "1. Python 的作者是荷蘭電腦科學家 Guido van Rossum\n",
    "2. Python 的命名源於 Guido van Rossum 非常喜歡電視喜劇 Monty Python's Flying Circus\n",
    "3. Python 的第一版釋出於 1991 年。"
   ]
  },
  {
   "cell_type": "markdown",
   "metadata": {
    "slideshow": {
     "slide_type": "slide"
    }
   },
   "source": [
    "## 如何寫作與執行 Python 程式"
   ]
  },
  {
   "cell_type": "markdown",
   "metadata": {
    "slideshow": {
     "slide_type": "subslide"
    }
   },
   "source": [
    "## 寫作與執行 Python 程式需要三種類型的軟體\n",
    "\n",
    "1. 純文字編輯器：寫作程式的軟體，例如記事本、Visual Studio Code 或 Notepad++。\n",
    "2. 終端機：執行程式的軟體，例如 Windows 的命令提示字元、macOS 的 Terminal。\n",
    "3. Python 直譯器：將 Python 程式翻譯為電腦語言的軟體。"
   ]
  },
  {
   "cell_type": "markdown",
   "metadata": {
    "slideshow": {
     "slide_type": "subslide"
    }
   },
   "source": [
    "## 將這三種類型的軟體整合在一起的軟體叫做整合開發環境（Integrated Development Environment, IDE）\n",
    "\n",
    "受歡迎的 Python 整合開發環境有：\n",
    "\n",
    "- **JupyterLab**/Jupyter Notebook\n",
    "- PyCharm\n",
    "- Spyder\n",
    "- ...etc."
   ]
  },
  {
   "cell_type": "markdown",
   "metadata": {
    "slideshow": {
     "slide_type": "subslide"
    }
   },
   "source": [
    "## 先從已經設定妥善的環境起步，之後會在「使用 conda 管理環境」章節介紹如何在自己的電腦建立 Python 資料科學環境\n",
    "\n",
    "- 不需登入、不能儲存變更的 [JupyterLab](https://mybinder.org/v2/gh/datainpoint/classroom-hahow-pythonfiftyplus/HEAD)\n",
    "- 需要使用 Google 帳號登入、能夠儲存變更的 [Google Colab](https://colab.research.google.com/)"
   ]
  },
  {
   "cell_type": "markdown",
   "metadata": {
    "slideshow": {
     "slide_type": "subslide"
    }
   },
   "source": [
    "## 初登場的兩個 Python 程式\n",
    "\n",
    "1. 哈囉世界。\n",
    "2. Python 禪學（The Zen of Python）。"
   ]
  },
  {
   "cell_type": "markdown",
   "metadata": {
    "slideshow": {
     "slide_type": "subslide"
    }
   },
   "source": [
    "## 哈囉世界\n",
    "\n",
    "- `print()` 是 Python 的內建函數，可以將小括號中的輸入印出。\n",
    "- `\"Hello, world!\"` 是屬於 `str` 類別的字面值（Literal value）。"
   ]
  },
  {
   "cell_type": "code",
   "execution_count": 4,
   "metadata": {},
   "outputs": [
    {
     "name": "stdout",
     "output_type": "stream",
     "text": [
      "Hello, world!\n"
     ]
    }
   ],
   "source": [
    "print(\"Hello, world!\")"
   ]
  },
  {
   "cell_type": "markdown",
   "metadata": {
    "slideshow": {
     "slide_type": "subslide"
    }
   },
   "source": [
    "## Python 禪學（The Zen of Python）\n",
    "\n",
    "- `import` 是 Python 的保留字（Keywords），可以載入模組。\n",
    "- `this` 是 Python 的一個標準模組，可以印出 Python 禪學。"
   ]
  },
  {
   "cell_type": "code",
   "execution_count": 5,
   "metadata": {},
   "outputs": [
    {
     "name": "stdout",
     "output_type": "stream",
     "text": [
      "The Zen of Python, by Tim Peters\n",
      "\n",
      "Beautiful is better than ugly.\n",
      "Explicit is better than implicit.\n",
      "Simple is better than complex.\n",
      "Complex is better than complicated.\n",
      "Flat is better than nested.\n",
      "Sparse is better than dense.\n",
      "Readability counts.\n",
      "Special cases aren't special enough to break the rules.\n",
      "Although practicality beats purity.\n",
      "Errors should never pass silently.\n",
      "Unless explicitly silenced.\n",
      "In the face of ambiguity, refuse the temptation to guess.\n",
      "There should be one-- and preferably only one --obvious way to do it.\n",
      "Although that way may not be obvious at first unless you're Dutch.\n",
      "Now is better than never.\n",
      "Although never is often better than *right* now.\n",
      "If the implementation is hard to explain, it's a bad idea.\n",
      "If the implementation is easy to explain, it may be a good idea.\n",
      "Namespaces are one honking great idea -- let's do more of those!\n"
     ]
    }
   ],
   "source": [
    "import this"
   ]
  },
  {
   "cell_type": "markdown",
   "metadata": {
    "slideshow": {
     "slide_type": "subslide"
    }
   },
   "source": [
    "## （沒什麼用的冷知識）Python 禪學在 `this` 模組中的內容是經過 ROT13 加密的文字\n",
    "\n",
    "```\n",
    "Gur Mra bs Clguba, ol Gvz Crgref\n",
    "\n",
    "Ornhgvshy vf orggre guna htyl.\n",
    "Rkcyvpvg vf orggre guna vzcyvpvg.\n",
    "Fvzcyr vf orggre guna pbzcyrk.\n",
    "Pbzcyrk vf orggre guna pbzcyvpngrq.\n",
    "Syng vf orggre guna arfgrq.\n",
    "Fcnefr vf orggre guna qrafr.\n",
    "Ernqnovyvgl pbhagf.\n",
    "Fcrpvny pnfrf nera'g fcrpvny rabhtu gb oernx gur ehyrf.\n",
    "Nygubhtu cenpgvpnyvgl orngf chevgl.\n",
    "Reebef fubhyq arire cnff fvyragyl.\n",
    "Hayrff rkcyvpvgyl fvyraprq.\n",
    "Va gur snpr bs nzovthvgl, ershfr gur grzcgngvba gb thrff.\n",
    "Gurer fubhyq or bar-- naq cersrenoyl bayl bar --boivbhf jnl gb qb vg.\n",
    "Nygubhtu gung jnl znl abg or boivbhf ng svefg hayrff lbh'er Qhgpu.\n",
    "Abj vf orggre guna arire.\n",
    "Nygubhtu arire vf bsgra orggre guna *evtug* abj.\n",
    "Vs gur vzcyrzragngvba vf uneq gb rkcynva, vg'f n onq vqrn.\n",
    "Vs gur vzcyrzragngvba vf rnfl gb rkcynva, vg znl or n tbbq vqrn.\n",
    "Anzrfcnprf ner bar ubaxvat terng vqrn -- yrg'f qb zber bs gubfr!\n",
    "```"
   ]
  },
  {
   "cell_type": "markdown",
   "metadata": {
    "slideshow": {
     "slide_type": "subslide"
    }
   },
   "source": [
    "## 在 [JupyterLab](https://mybinder.org/v2/gh/datainpoint/classroom-hahow-pythonfiftyplus/HEAD) 寫作與執行 Python 程式的兩種方式\n",
    "\n",
    "1. 透過即時互動的筆記本介面寫作與執行。\n",
    "2. 透過腳本（Script）寫作程式再以終端機執行。"
   ]
  },
  {
   "cell_type": "markdown",
   "metadata": {
    "slideshow": {
     "slide_type": "subslide"
    }
   },
   "source": [
    "## 兩種方式都很好，各有知名資料科學家支持\n",
    "\n",
    "- [fast.ai](https://www.fast.ai/) 的創辦人、[Deep Learning for Coders with Fastai and PyTorch](https://www.amazon.com/Deep-Learning-Coders-fastai-PyTorch/dp/1492045527) 的作者 [Jeremy Howard](https://twitter.com/jeremyphoward) 喜歡筆記本：<https://youtu.be/9Q6sLbz37gk>\n",
    "- [Data Science from Scratch](https://www.amazon.com/Data-Science-Scratch-Principles-Python/dp/1492041130) 的作者 [Joel Grus](https://joelgrus.com/) 不喜歡筆記本：<https://youtu.be/7jiPeIFXb6U>"
   ]
  },
  {
   "cell_type": "markdown",
   "metadata": {
    "slideshow": {
     "slide_type": "subslide"
    }
   },
   "source": [
    "## 課程中我們將透過寫作練習題在 JupyterLab 熟悉寫作與執行 Python 程式的兩種方式\n",
    "\n",
    "1. 透過即時互動的筆記本介面寫作函數或類別。\n",
    "2. 透過腳本（Script）在終端機批改測試。"
   ]
  },
  {
   "cell_type": "markdown",
   "metadata": {
    "slideshow": {
     "slide_type": "subslide"
    }
   },
   "source": [
    "## 在 Google Colab 寫作與執行 Python 程式\n",
    "\n",
    "透過即時互動的筆記本介面寫作與執行：<https://colab.research.google.com>"
   ]
  },
  {
   "cell_type": "markdown",
   "metadata": {
    "slideshow": {
     "slide_type": "slide"
    }
   },
   "source": [
    "## 如何寫作練習題並執行測試"
   ]
  },
  {
   "cell_type": "markdown",
   "metadata": {
    "slideshow": {
     "slide_type": "subslide"
    }
   },
   "source": [
    "## 練習題是「Python 的 50+ 練習」的課程重點\n",
    "\n",
    "- 課程以 Exercise Based Learning 為主體。\n",
    "- 練習題會利用類別提示（`typing`）來描述預期輸入以及預期輸出。\n",
    "- LPAA 四步驟教學模型：透過 Learn（講師觀念講解）、Practice（講師範例操作）、Apply（同學寫作練習題）與 Assess（批改測試並觀看練習題詳解）循環強化學習效果。"
   ]
  },
  {
   "cell_type": "markdown",
   "metadata": {
    "slideshow": {
     "slide_type": "subslide"
    }
   },
   "source": [
    "## 如何寫作練習題\n",
    "\n",
    "- 在前幾個章節還不熟悉的時候仔細閱讀練習題指引並適時觀看練習題詳解。\n",
    "- 在 `### BEGIN SOLUTION` 與 `### END SOLUTION` 之間運用預期輸入與參數寫出答案，並將答案寫在 `return` 保留字之後，若只是用 `print()` 印出預期輸出無法通過測試。\n",
    "- 寫作完成之後點選 File -> Save Notebook 儲存 exercises.ipynb。"
   ]
  },
  {
   "cell_type": "markdown",
   "metadata": {
    "slideshow": {
     "slide_type": "subslide"
    }
   },
   "source": [
    "## 如何批改測試\n",
    "\n",
    "- 點選上方選單的 File -> New -> Terminal 開啟終端機。\n",
    "- 在 Terminal 輸入 `python 章節名稱/test_runner.py` 後按下 Enter 批改測試。\n",
    "- 批改測試指令會在練習題指引中打好，複製在終端機貼上即可。"
   ]
  },
  {
   "cell_type": "markdown",
   "metadata": {
    "slideshow": {
     "slide_type": "subslide"
    }
   },
   "source": [
    "## File -> New -> Terminal 開啟終端機\n",
    "\n",
    "![](new_terminal.png)"
   ]
  },
  {
   "cell_type": "markdown",
   "metadata": {
    "slideshow": {
     "slide_type": "subslide"
    }
   },
   "source": [
    "## 批改測試指令會在練習題指引中打好，複製在終端機貼上並按下 Enter 即可\n",
    "\n",
    "以第一章的練習題測試為例：\n",
    "\n",
    "```bash\n",
    "python 01-introduction/test_runner.py\n",
    "```"
   ]
  },
  {
   "cell_type": "markdown",
   "metadata": {
    "slideshow": {
     "slide_type": "subslide"
    }
   },
   "source": [
    "## 如果沒有足夠時間一次完成所有練習題，可以先將已完成部分的 exercises.ipynb 下載\n",
    "\n",
    "![](download_notebook.png)"
   ]
  },
  {
   "cell_type": "markdown",
   "metadata": {
    "slideshow": {
     "slide_type": "subslide"
    }
   },
   "source": [
    "## 下次再上傳 exercises.ipynb 繼續寫\n",
    "\n",
    "![](upload_notebook.png)"
   ]
  },
  {
   "cell_type": "markdown",
   "metadata": {
    "slideshow": {
     "slide_type": "subslide"
    }
   },
   "source": [
    "## 點選 Overwrite 覆蓋原本空白的 exercises.ipynb\n",
    "\n",
    "![](overwrite_notebook.png)"
   ]
  },
  {
   "cell_type": "markdown",
   "metadata": {
    "slideshow": {
     "slide_type": "slide"
    }
   },
   "source": [
    "## 重點統整\n",
    "\n",
    "- 「Python 的 50+ 練習」課程的兩個核心為程式設計與資料科學。\n",
    "- 選擇 Python 作為資料科學應用的程式語言，因為這是目前最多人使用、推薦與使用人數上升的程式語言。\n",
    "- 初登場的兩個 Python 程式為哈囉世界與 Python 禪學（The Zen of Python）。"
   ]
  }
 ],
 "metadata": {
  "celltoolbar": "Slideshow",
  "kernelspec": {
   "display_name": "Python Fifty Plus",
   "language": "python",
   "name": "pythonfiftyplus"
  },
  "language_info": {
   "codemirror_mode": {
    "name": "ipython",
    "version": 3
   },
   "file_extension": ".py",
   "mimetype": "text/x-python",
   "name": "python",
   "nbconvert_exporter": "python",
   "pygments_lexer": "ipython3",
   "version": "3.9.7"
  }
 },
 "nbformat": 4,
 "nbformat_minor": 2
}
