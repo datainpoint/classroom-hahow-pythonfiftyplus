{
 "cells": [
  {
   "cell_type": "markdown",
   "id": "heated-welding",
   "metadata": {
    "deletable": false
   },
   "source": [
    "# Python 的 50+ 練習：資料科學學習手冊\n",
    "\n",
    "> 使用資料結構類別管理資料\n",
    "\n",
    "[數據交點](https://www.datainpoint.com) | 郭耀仁 <yaojenkuo@datainpoint.com>"
   ]
  },
  {
   "cell_type": "markdown",
   "id": "fleet-tokyo",
   "metadata": {
    "deletable": false
   },
   "source": [
    "## 練習題指引\n",
    "\n",
    "- 練習題閒置超過 10 分鐘會自動斷線，只要重新點選練習題連結即可重新啟動。\n",
    "- 第一個程式碼儲存格會將可能用得到的模組載入。\n",
    "- 如果練習題需要載入檔案，檔案會存放在 `data` 資料夾中。\n",
    "- 練習題已經給定函數、類別、預期輸入或參數名稱，我們只需要寫作程式區塊。同時也給定函數的類別提示，說明預期輸入以及預期輸出的類別。\n",
    "- 說明（Docstring）會描述測試如何進行，閱讀說明能夠暸解預期輸入以及預期輸出之間的關係，幫助我們更快解題。\n",
    "- 請在 `### BEGIN SOLUTION` 與 `### END SOLUTION` 這兩個註解之間寫作函數或者類別的程式區塊。\n",
    "- 將預期輸出放置在 `return` 保留字之後，若只是用 `print()` 函數將預期輸出印出無法通過測試。\n",
    "- 語法錯誤（`SyntaxError`）或縮排錯誤（`IndentationError`）等將會導致測試失效，測試之前應該先在筆記本使用函數觀察是否與說明（Docstring）描述的功能相符。\n",
    "- 如果卡關，可以先看練習題詳解或者複習課程單元影片之後再繼續寫作。\n",
    "- 執行測試的步驟：\n",
    "    1. 點選上方選單的 File -> Save Notebook 儲存 exercises.ipynb。\n",
    "    2. 點選上方選單的 File -> New -> Terminal 開啟終端機。\n",
    "    3. 在 Terminal 輸入 `python 03-data-structures/test_runner.py` 後按下 Enter 執行測試。"
   ]
  },
  {
   "cell_type": "markdown",
   "id": "typical-impact",
   "metadata": {},
   "source": [
    "## 016. 取出第一個與最後一個元素\n",
    "\n",
    "定義函數 `retrieve_the_first_and_last_element()` 能夠將輸入 `list` 的第一個資料與最後一個資料取出，並且用 `dict` 的 keys 標註。\n",
    "\n",
    "- 運用 Indexing\n",
    "- 建立 `dict`\n",
    "- 將預期輸出寫在 `return` 之後。"
   ]
  },
  {
   "cell_type": "code",
   "execution_count": null,
   "id": "economic-blast",
   "metadata": {},
   "outputs": [],
   "source": [
    "def retrieve_the_first_and_last_element(x: list) -> dict:\n",
    "    \"\"\"\n",
    "    >>> retrieve_the_first_and_last_element([2, 3, 5, 7, 11])\n",
    "    {'first': 2, 'last': 11}\n",
    "    >>> retrieve_the_first_and_last_element([\"Python\", \"Reticulate\", \"Anaconda\"])\n",
    "    {'first': 'Python', 'last': 'Anaconda'}\n",
    "    \"\"\"\n",
    "    ### BEGIN SOLUTION\n",
    "    return {\"first\": x[0],\n",
    "            \"last\": x[-1]}\n",
    "    ### END SOLUTION"
   ]
  },
  {
   "cell_type": "markdown",
   "id": "north-undergraduate",
   "metadata": {},
   "source": [
    "## 017. 取出前三個字元\n",
    "\n",
    "定義函數 `retrieve_the_first_three_characters()` 能夠將輸入 `str` 的前三個字元取出。\n",
    "\n",
    "- 運用 Slicing\n",
    "- 將預期輸出寫在 `return` 之後。"
   ]
  },
  {
   "cell_type": "code",
   "execution_count": null,
   "id": "authorized-algorithm",
   "metadata": {},
   "outputs": [],
   "source": [
    "def retrieve_the_first_three_characters(x: str) -> str:\n",
    "    \"\"\"\n",
    "    >>> retrieve_the_first_three_characters(\"Python\")\n",
    "    \"Pyt\"\n",
    "    >>> retrieve_the_first_three_characters(\"Reticulate\")\n",
    "    \"Ret\"\n",
    "    >>> retrieve_the_first_three_characters(\"Anaconda\")\n",
    "    \"Ana\"\n",
    "    \"\"\"\n",
    "    ### BEGIN SOLUTION\n",
    "    return x[:3]\n",
    "    ### END SOLUTION"
   ]
  },
  {
   "cell_type": "markdown",
   "id": "essential-server",
   "metadata": {},
   "source": [
    "## 018. 移除第一個與最後一個元素\n",
    "\n",
    "定義函數 `remove_the_first_and_last_element()` 能夠將輸入 `list` 的第一個資料與最後一個資料移除後再回傳。\n",
    "\n",
    "- 運用 Slicing\n",
    "- 將預期輸出寫在 `return` 之後。"
   ]
  },
  {
   "cell_type": "code",
   "execution_count": null,
   "id": "expired-resort",
   "metadata": {},
   "outputs": [],
   "source": [
    "def remove_the_first_and_last_element(x: list) -> list:\n",
    "    \"\"\"\n",
    "    >>> remove_the_first_and_last_element([2, 3, 5, 7, 11])\n",
    "    [3, 5, 7]\n",
    "    >>> remove_the_first_and_last_element([\"Python\", \"Reticulate\", \"Anaconda\"])\n",
    "    [\"Reticulate\"]\n",
    "    \"\"\"\n",
    "    ### BEGIN SOLUTION\n",
    "    return x[1:-1]\n",
    "    ### END SOLUTION"
   ]
  },
  {
   "cell_type": "markdown",
   "id": "comprehensive-shannon",
   "metadata": {},
   "source": [
    "## 019. 取出中間的元素\n",
    "\n",
    "定義函數 `retrieve_the_middle_element()` 能夠將長度為奇數 `list` 的「中位」整數取出。\n",
    "\n",
    "- 使用 `len()` 函數得知 `list` 長度。\n",
    "- 對長度求其除以 2 的商數（floor divide）。\n",
    "- 運用 Indexing\n",
    "- 將預期輸出寫在 `return` 之後。"
   ]
  },
  {
   "cell_type": "code",
   "execution_count": null,
   "id": "prospective-brown",
   "metadata": {},
   "outputs": [],
   "source": [
    "def retrieve_the_middle_element(x: list) -> int:\n",
    "    \"\"\"\n",
    "    >>> retrieve_the_middle_element([2, 3, 5])\n",
    "    3\n",
    "    >>> retrieve_the_middle_element([2, 3, 5, 7, 11])\n",
    "    5\n",
    "    >>> retrieve_the_middle_element([2, 3, 5, 7, 11, 13, 17])\n",
    "    7\n",
    "    \"\"\"\n",
    "    ### BEGIN SOLUTION\n",
    "    middle_index = len(x) // 2\n",
    "    return x[middle_index]\n",
    "    ### END SOLUTION"
   ]
  },
  {
   "cell_type": "markdown",
   "id": "false-somerset",
   "metadata": {},
   "source": [
    "## 020. 取出中間的三個字元\n",
    "\n",
    "定義函數 `retrieve_the_middle_three_characters()` 能夠將字元個數為奇數 `str` 的中間三個字元取出。\n",
    "\n",
    "- 使用 `len()` 函數得知 `str` 長度。\n",
    "- 對長度求其除以 2 的商數（floor divide）。\n",
    "- 運用 Slicing\n",
    "- 將預期輸出寫在 `return` 之後。"
   ]
  },
  {
   "cell_type": "code",
   "execution_count": null,
   "id": "organic-alliance",
   "metadata": {},
   "outputs": [],
   "source": [
    "def retrieve_the_middle_three_characters(x: str) -> str:\n",
    "    \"\"\"\n",
    "    >>> retrieve_the_middle_three_characters(\"Steve\")\n",
    "    \"tev\"\n",
    "    >>> retrieve_the_middle_three_characters(\"Stark\")\n",
    "    \"tar\"\n",
    "    >>> retrieve_the_middle_three_characters(\"Natasha\")\n",
    "    \"tas\"\n",
    "    \"\"\"\n",
    "    ### BEGIN SOLUTION\n",
    "    middle_index = len(x) // 2\n",
    "    return x[(middle_index - 1):(middle_index + 2)]\n",
    "    ### END SOLUTION"
   ]
  },
  {
   "cell_type": "markdown",
   "id": "lightweight-aberdeen",
   "metadata": {},
   "source": [
    "## 021. 台北市行政區郵遞區號\n",
    "\n",
    "定義函數 `find_taipei_citys_zip_code()` 能輸入台北市的行政區名稱，回傳三碼的郵遞區號。\n",
    "\n",
    "來源：[臺北市行政區劃](https://zh.wikipedia.org/wiki/%E8%87%BA%E5%8C%97%E5%B8%82%E8%A1%8C%E6%94%BF%E5%8D%80%E5%8A%83)\n",
    "\n",
    "- 建立 `dict`\n",
    "- 將預期輸出寫在 `return` 之後。"
   ]
  },
  {
   "cell_type": "code",
   "execution_count": null,
   "id": "latter-control",
   "metadata": {},
   "outputs": [],
   "source": [
    "def find_taipei_citys_zip_code(area_name: str) -> int:\n",
    "    \"\"\"\n",
    "    >>> find_taipei_citys_zip_code(\"中正區\")\n",
    "    100\n",
    "    >>> find_taipei_citys_zip_code(\"大同區\")\n",
    "    103\n",
    "    >>> find_taipei_citys_zip_code(\"中山區\")\n",
    "    104\n",
    "    \"\"\"\n",
    "    ### BEGIN SOLUTION\n",
    "    zip_code = {\n",
    "        \"中正區\": 100,\n",
    "        \"大同區\": 103,\n",
    "        \"中山區\": 104,\n",
    "        \"松山區\": 105,\n",
    "        \"大安區\": 106,\n",
    "        \"萬華區\": 108,\n",
    "        \"信義區\": 110,\n",
    "        \"士林區\": 111,\n",
    "        \"北投區\": 112,\n",
    "        \"內湖區\": 114,\n",
    "        \"南港區\": 115,\n",
    "        \"文山區\": 116\n",
    "    }\n",
    "    return zip_code[area_name]\n",
    "    ### END SOLUTION"
   ]
  },
  {
   "cell_type": "markdown",
   "id": "mysterious-purple",
   "metadata": {},
   "source": [
    "## 022. 國家 ISO 代碼\n",
    "\n",
    "定義函數 `find_country_iso_codes()` 能輸入國家名稱，回傳 ISO 國家二位字母代碼、三位字母代碼。\n",
    "\n",
    "備註：本題**不需要**完成所有國家的名稱與 ISO 國家字母代碼之對應關係，只需要能完成測試範例即可。\n",
    "\n",
    "- 建立 `dict`\n",
    "- 將預期輸出寫在 `return` 之後。"
   ]
  },
  {
   "cell_type": "code",
   "execution_count": null,
   "id": "prime-stranger",
   "metadata": {},
   "outputs": [],
   "source": [
    "def find_country_iso_codes(country_name: str) -> dict:\n",
    "    \"\"\"\n",
    "    >>> find_country_iso_codes(\"Taiwan\")\n",
    "    {'alpha2': 'TW', 'alpha3': 'TWN'}\n",
    "    >>> find_country_iso_codes(\"Japan\")\n",
    "    {'alpha2': 'JP', 'alpha3': 'JPN'}\n",
    "    >>> find_country_iso_codes(\"United States\")\n",
    "    {'alpha2': 'US', 'alpha3': 'USA'}\n",
    "    >>> find_country_iso_codes(\"Czech Republic\")\n",
    "    {'alpha2': 'CZ', 'alpha3': 'CZE'}\n",
    "    >>> find_country_iso_codes(\"Lithuania\")\n",
    "    {'alpha2': 'LT', 'alpha3': 'LTU'}\n",
    "    >>> find_country_iso_codes(\"Slovakia\")\n",
    "    {'alpha2': 'SK', 'alpha3': 'SVK'}\n",
    "    >>> find_country_iso_codes(\"Poland\")\n",
    "    {'alpha2': 'PL', 'alpha3': 'POL'}\n",
    "    \"\"\"\n",
    "    ### BEGIN SOLUTION\n",
    "    country_code = {\n",
    "        \"Taiwan\": {\"alpha2\": \"TW\", \"alpha3\": \"TWN\"},\n",
    "        \"Japan\": {\"alpha2\": \"JP\", \"alpha3\": \"JPN\"},\n",
    "        \"United States\": {\"alpha2\": \"US\", \"alpha3\": \"USA\"},\n",
    "        \"Czech Republic\": {\"alpha2\": \"CZ\", \"alpha3\": \"CZE\"},\n",
    "        \"Lithuania\": {\"alpha2\": \"LT\", \"alpha3\": \"LTU\"},\n",
    "        \"Slovakia\": {\"alpha2\": \"SK\", \"alpha3\": \"SVK\"},\n",
    "        \"Poland\": {\"alpha2\": \"PL\", \"alpha3\": \"POL\"}\n",
    "    }\n",
    "    return country_code[country_name]\n",
    "    ### END SOLUTION"
   ]
  },
  {
   "cell_type": "markdown",
   "id": "silver-mechanism",
   "metadata": {},
   "source": [
    "## 023. 剔除重複值\n",
    "\n",
    "定義函數 `remove_duplicates()` 能夠將輸入 `list` 中重複的元素剔除後遞增排序回傳。\n",
    "\n",
    "- 運用 `set` 的特性。\n",
    "- 使用 `set()`、`list()` 函數轉換資料結構類別。\n",
    "- 使用 `sorted()` 函數或 `list.sort()`\n",
    "- 留意物件更新的兩種方式。\n",
    "- 將預期輸出寫在 `return` 之後。"
   ]
  },
  {
   "cell_type": "code",
   "execution_count": null,
   "id": "former-clinton",
   "metadata": {},
   "outputs": [],
   "source": [
    "def remove_duplicates(x: list) -> list:\n",
    "    \"\"\"\n",
    "    >>> remove_duplicates([5, 5, 6, 6])\n",
    "    [5, 6]\n",
    "    >>> remove_duplicates([2, 2, 6, 6])\n",
    "    [2, 6]\n",
    "    >>> remove_duplicates([9, 9, 8, 1])\n",
    "    [1, 8, 9]\n",
    "    \"\"\"\n",
    "    ### BEGIN SOLUTION\n",
    "    set_x = set(x)\n",
    "    list_set_x = list(set_x)\n",
    "    return sorted(list_set_x)\n",
    "    ### END SOLUTION"
   ]
  },
  {
   "cell_type": "markdown",
   "id": "endangered-dimension",
   "metadata": {},
   "source": [
    "## 024. 相同個數\n",
    "\n",
    "定義函數 `find_number_of_intersections()` 能夠回傳兩份資料之間的相同個數。\n",
    "\n",
    "- 運用 `set` 的集合運算方法。\n",
    "- 使用 `len()` 函數得知長度。\n",
    "- 將預期輸出寫在 `return` 之後。"
   ]
  },
  {
   "cell_type": "code",
   "execution_count": null,
   "id": "extraordinary-facility",
   "metadata": {},
   "outputs": [],
   "source": [
    "def find_number_of_intersections(x: set, y: set) -> int:\n",
    "    \"\"\"\n",
    "    >>> find_number_of_intersections({5, 5, 6, 6}, {5, 6, 7, 8})\n",
    "    2\n",
    "    >>> find_number_of_intersections({1, 3, 5, 7, 9}, {2, 3, 5, 7})\n",
    "    3\n",
    "    >>> find_number_of_intersections({1, 3, 5, 7, 9}, {1, 3, 5, 7, 9})\n",
    "    5\n",
    "    >>> find_number_of_intersections({1, 3, 5, 7, 9}, {2, 4, 6, 8, 10})\n",
    "    0\n",
    "    \"\"\"\n",
    "    ### BEGIN SOLUTION\n",
    "    return len(x.intersection(y))\n",
    "    ### END SOLUTION"
   ]
  },
  {
   "cell_type": "markdown",
   "id": "initial-melissa",
   "metadata": {},
   "source": [
    "## 025. 相異個數\n",
    "\n",
    "定義函數 `find_number_of_differences()` 能夠回傳兩份資料之間的相異個數。\n",
    "\n",
    "- 運用 `set` 的集合運算方法。\n",
    "- 使用 `len()` 函數得知長度。\n",
    "- 將預期輸出寫在 `return` 之後。"
   ]
  },
  {
   "cell_type": "code",
   "execution_count": null,
   "id": "latest-connectivity",
   "metadata": {},
   "outputs": [],
   "source": [
    "def find_number_of_differences(x: set, y: set) -> int:\n",
    "    \"\"\"\n",
    "    >>> find_number_of_differences({5, 5, 6, 6}, {5, 6, 7, 8})\n",
    "    2\n",
    "    >>> find_number_of_differences({1, 3, 5, 7, 9}, {2, 3, 5, 7})\n",
    "    3\n",
    "    >>> find_number_of_differences({1, 3, 5, 7, 9}, {1, 3, 5, 7, 9})\n",
    "    0\n",
    "    >>> find_number_of_differences({1, 3, 5, 7, 9}, {2, 4, 6, 8, 10})\n",
    "    10\n",
    "    \"\"\"\n",
    "    ### BEGIN SOLUTION\n",
    "    return len(x.symmetric_difference(y))\n",
    "    ### END SOLUTION"
   ]
  }
 ],
 "metadata": {
  "kernelspec": {
   "display_name": "Python 3",
   "language": "python",
   "name": "python3"
  },
  "language_info": {
   "codemirror_mode": {
    "name": "ipython",
    "version": 3
   },
   "file_extension": ".py",
   "mimetype": "text/x-python",
   "name": "python",
   "nbconvert_exporter": "python",
   "pygments_lexer": "ipython3",
   "version": "3.8.5"
  }
 },
 "nbformat": 4,
 "nbformat_minor": 5
}
