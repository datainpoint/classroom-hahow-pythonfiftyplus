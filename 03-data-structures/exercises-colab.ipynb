{
 "cells": [
  {
   "cell_type": "markdown",
   "id": "heated-welding",
   "metadata": {
    "deletable": false
   },
   "source": [
    "# Python 的 50+ 練習：資料科學學習手冊\n",
    "\n",
    "> 使用資料結構類別管理資料\n",
    "\n",
    "[數據交點](https://www.datainpoint.com) | 郭耀仁 <yaojenkuo@datainpoint.com>"
   ]
  },
  {
   "cell_type": "markdown",
   "id": "fleet-tokyo",
   "metadata": {
    "deletable": false
   },
   "source": [
    "## 練習題指引\n",
    "\n",
    "- 由於近期 mybinder.org 的服務不穩定，新增 Google Colab 作為另一個寫作練習題的平台。\n",
    "- 開始寫作之前，可以先按上方「Copy to Drive」按鈕將筆記本複製到自己的 Google 雲端硬碟。\n",
    "- 練習題閒置超過 10 分鐘會自動斷線，只要重新點選練習題連結即可重新啟動。\n",
    "- 第一個程式碼儲存格會將可能用得到的模組載入。\n",
    "- 如果練習題需要載入檔案，檔案存放絕對路徑為 `/content`\n",
    "- 練習題已經給定函數、類別、預期輸入或參數名稱，我們只需要寫作程式區塊。同時也給定函數的類別提示，說明預期輸入以及預期輸出的類別。\n",
    "- 說明（Docstring）會描述測試如何進行，閱讀說明能夠暸解預期輸入以及預期輸出之間的關係，幫助我們更快解題。\n",
    "- 請在 `### BEGIN SOLUTION` 與 `### END SOLUTION` 這兩個註解之間寫作函數或者類別的程式區塊。\n",
    "- 將預期輸出放置在 `return` 保留字之後，若只是用 `print()` 函數將預期輸出印出無法通過測試。\n",
    "- 語法錯誤（`SyntaxError`）或縮排錯誤（`IndentationError`）等將會導致測試失效，測試之前應該先在筆記本使用函數觀察是否與說明（Docstring）描述的功能相符。\n",
    "- 如果卡關，可以先看練習題詳解或者複習課程單元影片之後再繼續寫作。\n",
    "- 執行測試的步驟：\n",
    "    1. 點選右上角 Connect\n",
    "    2. 點選上方選單的 Runtime -> Restart and run all -> Yes -> Run anyway\n",
    "    3. 移動到 Google Colab 的最後一個儲存格看批改測試結果。"
   ]
  },
  {
   "cell_type": "markdown",
   "id": "typical-impact",
   "metadata": {},
   "source": [
    "## 016. 取出第一個與最後一個元素\n",
    "\n",
    "定義函數 `retrieve_the_first_and_last_element()` 能夠將輸入 `list` 的第一個資料與最後一個資料取出，並且用 `dict` 的 keys 標註。\n",
    "\n",
    "- 運用 Indexing\n",
    "- 建立 `dict`\n",
    "- 將預期輸出寫在 `return` 之後。"
   ]
  },
  {
   "cell_type": "code",
   "execution_count": null,
   "id": "economic-blast",
   "metadata": {},
   "outputs": [],
   "source": [
    "def retrieve_the_first_and_last_element(x: list) -> dict:\n",
    "    \"\"\"\n",
    "    >>> retrieve_the_first_and_last_element([2, 3, 5, 7, 11])\n",
    "    {'first': 2, 'last': 11}\n",
    "    >>> retrieve_the_first_and_last_element([\"Python\", \"Reticulate\", \"Anaconda\"])\n",
    "    {'first': 'Python', 'last': 'Anaconda'}\n",
    "    \"\"\"\n",
    "    ### BEGIN SOLUTION\n",
    "    \n",
    "    ### END SOLUTION"
   ]
  },
  {
   "cell_type": "markdown",
   "id": "north-undergraduate",
   "metadata": {},
   "source": [
    "## 017. 取出前三個字元\n",
    "\n",
    "定義函數 `retrieve_the_first_three_characters()` 能夠將輸入 `str` 的前三個字元取出。\n",
    "\n",
    "- 運用 Slicing\n",
    "- 將預期輸出寫在 `return` 之後。"
   ]
  },
  {
   "cell_type": "code",
   "execution_count": null,
   "id": "authorized-algorithm",
   "metadata": {},
   "outputs": [],
   "source": [
    "def retrieve_the_first_three_characters(x: str) -> str:\n",
    "    \"\"\"\n",
    "    >>> retrieve_the_first_three_characters(\"Python\")\n",
    "    \"Pyt\"\n",
    "    >>> retrieve_the_first_three_characters(\"Reticulate\")\n",
    "    \"Ret\"\n",
    "    >>> retrieve_the_first_three_characters(\"Anaconda\")\n",
    "    \"Ana\"\n",
    "    \"\"\"\n",
    "    ### BEGIN SOLUTION\n",
    "    \n",
    "    ### END SOLUTION"
   ]
  },
  {
   "cell_type": "markdown",
   "id": "essential-server",
   "metadata": {},
   "source": [
    "## 018. 移除第一個與最後一個元素\n",
    "\n",
    "定義函數 `remove_the_first_and_last_element()` 能夠將輸入 `list` 的第一個資料與最後一個資料移除後再回傳。\n",
    "\n",
    "- 運用 Slicing\n",
    "- 將預期輸出寫在 `return` 之後。"
   ]
  },
  {
   "cell_type": "code",
   "execution_count": null,
   "id": "expired-resort",
   "metadata": {},
   "outputs": [],
   "source": [
    "def remove_the_first_and_last_element(x: list) -> list:\n",
    "    \"\"\"\n",
    "    >>> remove_the_first_and_last_element([2, 3, 5, 7, 11])\n",
    "    [3, 5, 7]\n",
    "    >>> remove_the_first_and_last_element([\"Python\", \"Reticulate\", \"Anaconda\"])\n",
    "    [\"Reticulate\"]\n",
    "    \"\"\"\n",
    "    ### BEGIN SOLUTION\n",
    "    \n",
    "    ### END SOLUTION"
   ]
  },
  {
   "cell_type": "markdown",
   "id": "comprehensive-shannon",
   "metadata": {},
   "source": [
    "## 019. 取出中間的元素\n",
    "\n",
    "定義函數 `retrieve_the_middle_element()` 能夠將長度為奇數 `list` 的「中位」整數取出。\n",
    "\n",
    "- 使用 `len()` 函數得知 `list` 長度。\n",
    "- 對長度求其除以 2 的商數（floor divide）。\n",
    "- 運用 Indexing\n",
    "- 將預期輸出寫在 `return` 之後。"
   ]
  },
  {
   "cell_type": "code",
   "execution_count": null,
   "id": "prospective-brown",
   "metadata": {},
   "outputs": [],
   "source": [
    "def retrieve_the_middle_element(x: list) -> int:\n",
    "    \"\"\"\n",
    "    >>> retrieve_the_middle_element([2, 3, 5])\n",
    "    3\n",
    "    >>> retrieve_the_middle_element([2, 3, 5, 7, 11])\n",
    "    5\n",
    "    >>> retrieve_the_middle_element([2, 3, 5, 7, 11, 13, 17])\n",
    "    7\n",
    "    \"\"\"\n",
    "    ### BEGIN SOLUTION\n",
    "    \n",
    "    ### END SOLUTION"
   ]
  },
  {
   "cell_type": "markdown",
   "id": "false-somerset",
   "metadata": {},
   "source": [
    "## 020. 取出中間的三個字元\n",
    "\n",
    "定義函數 `retrieve_the_middle_three_characters()` 能夠將字元個數為奇數 `str` 的中間三個字元取出。\n",
    "\n",
    "- 使用 `len()` 函數得知 `str` 長度。\n",
    "- 對長度求其除以 2 的商數（floor divide）。\n",
    "- 運用 Slicing\n",
    "- 將預期輸出寫在 `return` 之後。"
   ]
  },
  {
   "cell_type": "code",
   "execution_count": null,
   "id": "organic-alliance",
   "metadata": {},
   "outputs": [],
   "source": [
    "def retrieve_the_middle_three_characters(x: str) -> str:\n",
    "    \"\"\"\n",
    "    >>> retrieve_the_middle_three_characters(\"Steve\")\n",
    "    \"tev\"\n",
    "    >>> retrieve_the_middle_three_characters(\"Stark\")\n",
    "    \"tar\"\n",
    "    >>> retrieve_the_middle_three_characters(\"Natasha\")\n",
    "    \"tas\"\n",
    "    \"\"\"\n",
    "    ### BEGIN SOLUTION\n",
    "    \n",
    "    ### END SOLUTION"
   ]
  },
  {
   "cell_type": "markdown",
   "id": "lightweight-aberdeen",
   "metadata": {},
   "source": [
    "## 021. 台北市行政區郵遞區號\n",
    "\n",
    "定義函數 `find_taipei_citys_zip_code()` 能輸入台北市的行政區名稱，回傳三碼的郵遞區號。\n",
    "\n",
    "來源：[臺北市行政區劃](https://zh.wikipedia.org/wiki/%E8%87%BA%E5%8C%97%E5%B8%82%E8%A1%8C%E6%94%BF%E5%8D%80%E5%8A%83)\n",
    "\n",
    "- 建立 `dict`\n",
    "- 將預期輸出寫在 `return` 之後。"
   ]
  },
  {
   "cell_type": "code",
   "execution_count": null,
   "id": "latter-control",
   "metadata": {},
   "outputs": [],
   "source": [
    "def find_taipei_citys_zip_code(area_name: str) -> int:\n",
    "    \"\"\"\n",
    "    >>> find_taipei_citys_zip_code(\"中正區\")\n",
    "    100\n",
    "    >>> find_taipei_citys_zip_code(\"大同區\")\n",
    "    103\n",
    "    >>> find_taipei_citys_zip_code(\"中山區\")\n",
    "    104\n",
    "    \"\"\"\n",
    "    ### BEGIN SOLUTION\n",
    "    \n",
    "    ### END SOLUTION"
   ]
  },
  {
   "cell_type": "markdown",
   "id": "mysterious-purple",
   "metadata": {},
   "source": [
    "## 022. 國家 ISO 代碼\n",
    "\n",
    "定義函數 `find_country_iso_codes()` 能輸入國家名稱，回傳 ISO 國家二位字母代碼、三位字母代碼。\n",
    "\n",
    "備註：本題**不需要**完成所有國家的名稱與 ISO 國家字母代碼之對應關係，只需要能完成測試範例即可。\n",
    "\n",
    "- 建立 `dict`\n",
    "- 將預期輸出寫在 `return` 之後。"
   ]
  },
  {
   "cell_type": "code",
   "execution_count": null,
   "id": "prime-stranger",
   "metadata": {},
   "outputs": [],
   "source": [
    "def find_country_iso_codes(country_name: str) -> dict:\n",
    "    \"\"\"\n",
    "    >>> find_country_iso_codes(\"Taiwan\")\n",
    "    {'alpha2': 'TW', 'alpha3': 'TWN'}\n",
    "    >>> find_country_iso_codes(\"Japan\")\n",
    "    {'alpha2': 'JP', 'alpha3': 'JPN'}\n",
    "    >>> find_country_iso_codes(\"United States\")\n",
    "    {'alpha2': 'US', 'alpha3': 'USA'}\n",
    "    >>> find_country_iso_codes(\"Czech Republic\")\n",
    "    {'alpha2': 'CZ', 'alpha3': 'CZE'}\n",
    "    >>> find_country_iso_codes(\"Lithuania\")\n",
    "    {'alpha2': 'LT', 'alpha3': 'LTU'}\n",
    "    >>> find_country_iso_codes(\"Slovakia\")\n",
    "    {'alpha2': 'SK', 'alpha3': 'SVK'}\n",
    "    >>> find_country_iso_codes(\"Poland\")\n",
    "    {'alpha2': 'PL', 'alpha3': 'POL'}\n",
    "    \"\"\"\n",
    "    ### BEGIN SOLUTION\n",
    "    \n",
    "    ### END SOLUTION"
   ]
  },
  {
   "cell_type": "markdown",
   "id": "silver-mechanism",
   "metadata": {},
   "source": [
    "## 023. 剔除重複值\n",
    "\n",
    "定義函數 `remove_duplicates()` 能夠將輸入 `list` 中重複的元素剔除後遞增排序回傳。\n",
    "\n",
    "- 運用 `set` 的特性。\n",
    "- 使用 `set()`、`list()` 函數轉換資料結構類別。\n",
    "- 使用 `sorted()` 函數或 `list.sort()`\n",
    "- 留意物件更新的兩種方式。\n",
    "- 將預期輸出寫在 `return` 之後。"
   ]
  },
  {
   "cell_type": "code",
   "execution_count": null,
   "id": "former-clinton",
   "metadata": {},
   "outputs": [],
   "source": [
    "def remove_duplicates(x: list) -> list:\n",
    "    \"\"\"\n",
    "    >>> remove_duplicates([5, 5, 6, 6])\n",
    "    [5, 6]\n",
    "    >>> remove_duplicates([2, 2, 6, 6])\n",
    "    [2, 6]\n",
    "    >>> remove_duplicates([9, 9, 8, 1])\n",
    "    [1, 8, 9]\n",
    "    \"\"\"\n",
    "    ### BEGIN SOLUTION\n",
    "    \n",
    "    ### END SOLUTION"
   ]
  },
  {
   "cell_type": "markdown",
   "id": "endangered-dimension",
   "metadata": {},
   "source": [
    "## 024. 相同個數\n",
    "\n",
    "定義函數 `find_number_of_intersections()` 能夠回傳兩份資料之間的相同個數。\n",
    "\n",
    "- 運用 `set` 的集合運算方法。\n",
    "- 使用 `len()` 函數得知長度。\n",
    "- 將預期輸出寫在 `return` 之後。"
   ]
  },
  {
   "cell_type": "code",
   "execution_count": null,
   "id": "extraordinary-facility",
   "metadata": {},
   "outputs": [],
   "source": [
    "def find_number_of_intersections(x: set, y: set) -> int:\n",
    "    \"\"\"\n",
    "    >>> find_number_of_intersections({5, 5, 6, 6}, {5, 6, 7, 8})\n",
    "    2\n",
    "    >>> find_number_of_intersections({1, 3, 5, 7, 9}, {2, 3, 5, 7})\n",
    "    3\n",
    "    >>> find_number_of_intersections({1, 3, 5, 7, 9}, {1, 3, 5, 7, 9})\n",
    "    5\n",
    "    >>> find_number_of_intersections({1, 3, 5, 7, 9}, {2, 4, 6, 8, 10})\n",
    "    0\n",
    "    \"\"\"\n",
    "    ### BEGIN SOLUTION\n",
    "    \n",
    "    ### END SOLUTION"
   ]
  },
  {
   "cell_type": "markdown",
   "id": "initial-melissa",
   "metadata": {},
   "source": [
    "## 025. 相異個數\n",
    "\n",
    "定義函數 `find_number_of_differences()` 能夠回傳兩份資料之間的相異個數。\n",
    "\n",
    "- 運用 `set` 的集合運算方法。\n",
    "- 使用 `len()` 函數得知長度。\n",
    "- 將預期輸出寫在 `return` 之後。"
   ]
  },
  {
   "cell_type": "code",
   "execution_count": null,
   "id": "latest-connectivity",
   "metadata": {},
   "outputs": [],
   "source": [
    "def find_number_of_differences(x: set, y: set) -> int:\n",
    "    \"\"\"\n",
    "    >>> find_number_of_differences({5, 5, 6, 6}, {5, 6, 7, 8})\n",
    "    2\n",
    "    >>> find_number_of_differences({1, 3, 5, 7, 9}, {2, 3, 5, 7})\n",
    "    3\n",
    "    >>> find_number_of_differences({1, 3, 5, 7, 9}, {1, 3, 5, 7, 9})\n",
    "    0\n",
    "    >>> find_number_of_differences({1, 3, 5, 7, 9}, {2, 4, 6, 8, 10})\n",
    "    10\n",
    "    \"\"\"\n",
    "    ### BEGIN SOLUTION\n",
    "    \n",
    "    ### END SOLUTION"
   ]
  },
  {
   "cell_type": "markdown",
   "id": "8643e8f3",
   "metadata": {},
   "source": [
    "## 練習題到此結束，以下的儲存格可以忽略"
   ]
  },
  {
   "cell_type": "code",
   "execution_count": null,
   "id": "4134f960",
   "metadata": {},
   "outputs": [],
   "source": [
    "!wget -N https://raw.githubusercontent.com/datainpoint/classroom-hahow-pythonfiftyplus/main/exercise_index.json"
   ]
  },
  {
   "cell_type": "code",
   "execution_count": null,
   "id": "7ff34df7",
   "metadata": {},
   "outputs": [],
   "source": [
    "import unittest\n",
    "import json\n",
    "\n",
    "def run_suite(test_class, chapter_index):\n",
    "    suite = unittest.TestLoader().loadTestsFromTestCase(test_class)\n",
    "    runner = unittest.TextTestRunner(verbosity=2)\n",
    "    test_results = runner.run(suite)\n",
    "    number_of_failures = len(test_results.failures)\n",
    "    number_of_errors = len(test_results.errors)\n",
    "    number_of_test_runs = test_results.testsRun\n",
    "    number_of_successes = number_of_test_runs - (number_of_failures + number_of_errors)\n",
    "    with open(\"exercise_index.json\", \"r\") as f:\n",
    "        exercise_index = json.load(f)\n",
    "    chapter_name = exercise_index[chapter_index][\"chapter_name\"]\n",
    "    number_of_total_questions = 0\n",
    "    number_of_completed_questions = 0\n",
    "    for i in range(len(exercise_index)):\n",
    "        number_of_total_questions += exercise_index[i][\"number_of_exercises\"]\n",
    "        if i < chapter_index:\n",
    "            number_of_completed_questions += exercise_index[i][\"number_of_exercises\"]\n",
    "    number_of_completed_questions += number_of_successes\n",
    "    chapter_percentage = number_of_successes * 100 / number_of_test_runs\n",
    "    overall_percentage = number_of_completed_questions * 100 / number_of_total_questions\n",
    "    print(\"你在「{}」章節的練習題完成率為 ... {:.2f}% ({}/{})\".format(chapter_name, chapter_percentage, number_of_successes, number_of_test_runs))\n",
    "    print(\"整體課程練習題的累計完成率為 ... {:.2f}% ({}/{})\".format(overall_percentage, number_of_completed_questions, number_of_total_questions))\n",
    "    if chapter_percentage == 100 and chapter_index < 19:\n",
    "        print(\"表現得很好，你已經完成「{}」所有習題，我們繼續往下個章節：「{}」前進！\".format(exercise_index[chapter_index][\"chapter_name\"], exercise_index[chapter_index + 1][\"chapter_name\"]))\n",
    "        if chapter_index == 4:\n",
    "            print(\"太棒了，你已經完成「Python 的 50+ 練習」的第一部分：Python 程式設計的基礎觀念，接下來還有三個部分等你來挑戰！\")\n",
    "        elif chapter_index == 8:\n",
    "            print(\"表現得非常好，你已經完成「Python 的 50+ 練習」的第二部分：Python 程式設計的進階觀念，接著讓我們邁向資料科學！\")\n",
    "        elif chapter_index == 12:\n",
    "            print(\"太令人佩服，你已經完成「Python 的 50+ 練習」的第三部分：Python 資料科學的基礎，距離完課只剩下最後一哩路！\")\n",
    "    elif chapter_percentage == 100 and chapter_index == 19:\n",
    "        print(\"恭喜完課，你已經完成「Python 的 50+ 練習」所有習題，能夠堅持到底完成所有的教學影片與練習題真是非常了不起！後面已經沒有練習題了，你現在是一位擅長寫程式處理資料的分析師！\")\n",
    "    elif chapter_percentage >= 50:\n",
    "        print(\"你已經完成「{}」章節一半以上的練習，繼續加油！\".format(chapter_name))\n",
    "\n",
    "class TestDataStructures(unittest.TestCase):\n",
    "    def test_016_retrieve_the_first_and_last_element(self):\n",
    "        the_first_and_last_element = retrieve_the_first_and_last_element([2, 3, 5, 7, 11])\n",
    "        self.assertEqual(the_first_and_last_element[\"first\"], 2)\n",
    "        self.assertEqual(the_first_and_last_element[\"last\"], 11)\n",
    "        the_first_and_last_element = retrieve_the_first_and_last_element([2, 3, 5])\n",
    "        self.assertEqual(the_first_and_last_element[\"first\"], 2)\n",
    "        self.assertEqual(the_first_and_last_element[\"last\"], 5)\n",
    "        the_first_and_last_element = retrieve_the_first_and_last_element([\"Python\", \"Reticulate\", \"Anaconda\"])\n",
    "        self.assertEqual(the_first_and_last_element[\"first\"], \"Python\")\n",
    "        self.assertEqual(the_first_and_last_element[\"last\"], \"Anaconda\")\n",
    "        the_first_and_last_element = retrieve_the_first_and_last_element([\"Python\", \"Reticulate\", \"Anaconda\", \"Skywalker\"])\n",
    "        self.assertEqual(the_first_and_last_element[\"first\"], \"Python\")\n",
    "        self.assertEqual(the_first_and_last_element[\"last\"], \"Skywalker\")\n",
    "    def test_017_retrieve_the_first_three_characters(self):\n",
    "        self.assertEqual(retrieve_the_first_three_characters(\"Python\"), \"Pyt\")\n",
    "        self.assertEqual(retrieve_the_first_three_characters(\"Reticulate\"), \"Ret\")\n",
    "        self.assertEqual(retrieve_the_first_three_characters(\"Anaconda\"), \"Ana\")\n",
    "        self.assertEqual(retrieve_the_first_three_characters(\"Skywalker\"), \"Sky\")\n",
    "        self.assertEqual(retrieve_the_first_three_characters(\"Anakin\"), \"Ana\")\n",
    "    def test_018_remove_the_first_and_last_element(self):\n",
    "        self.assertEqual(remove_the_first_and_last_element([2, 3, 5, 7, 11]), [3, 5, 7])\n",
    "        self.assertEqual(remove_the_first_and_last_element([\"Python\", \"Reticulate\", \"Anaconda\"]), [\"Reticulate\"])\n",
    "    def test_019_retrieve_the_middle_element(self):\n",
    "        self.assertEqual(retrieve_the_middle_element([2, 3, 5]), 3)\n",
    "        self.assertEqual(retrieve_the_middle_element([2, 3, 5, 7, 11]), 5)\n",
    "        self.assertEqual(retrieve_the_middle_element([2, 3, 5, 7, 11, 13, 17]), 7)\n",
    "        self.assertEqual(retrieve_the_middle_element([1, 2, 3]), 2)\n",
    "        self.assertEqual(retrieve_the_middle_element([-1, 0, 1]), 0)\n",
    "    def test_020_retrieve_the_middle_three_characters(self):\n",
    "        self.assertEqual(retrieve_the_middle_three_characters(\"Steve\"), \"tev\")\n",
    "        self.assertEqual(retrieve_the_middle_three_characters(\"Stark\"), \"tar\")\n",
    "        self.assertEqual(retrieve_the_middle_three_characters(\"Natasha\"), \"tas\")\n",
    "        self.assertEqual(retrieve_the_middle_three_characters(\"Skywalker\"), \"wal\")\n",
    "        self.assertEqual(retrieve_the_middle_three_characters(\"Hawkeye\"), \"wke\")\n",
    "    def test_021_find_taipei_citys_zip_code(self):\n",
    "        self.assertEqual(find_taipei_citys_zip_code(\"中正區\"), 100)\n",
    "        self.assertEqual(find_taipei_citys_zip_code(\"大同區\"), 103)\n",
    "        self.assertEqual(find_taipei_citys_zip_code(\"中山區\"), 104)\n",
    "        self.assertEqual(find_taipei_citys_zip_code(\"松山區\"), 105)\n",
    "        self.assertEqual(find_taipei_citys_zip_code(\"大安區\"), 106)\n",
    "    def test_022_find_country_iso_codes(self):\n",
    "        self.assertEqual(find_country_iso_codes(\"Taiwan\"), {'alpha2': 'TW', 'alpha3': 'TWN'})\n",
    "        self.assertEqual(find_country_iso_codes(\"Japan\"), {'alpha2': 'JP', 'alpha3': 'JPN'})\n",
    "        self.assertEqual(find_country_iso_codes(\"United States\"), {'alpha2': 'US', 'alpha3': 'USA'})\n",
    "        self.assertEqual(find_country_iso_codes(\"Czech Republic\"), {'alpha2': 'CZ', 'alpha3': 'CZE'})\n",
    "        self.assertEqual(find_country_iso_codes(\"Lithuania\"), {'alpha2': 'LT', 'alpha3': 'LTU'})\n",
    "        self.assertEqual(find_country_iso_codes(\"Slovakia\"), {'alpha2': 'SK', 'alpha3': 'SVK'})\n",
    "        self.assertEqual(find_country_iso_codes(\"Poland\"), {'alpha2': 'PL', 'alpha3': 'POL'})\n",
    "    def test_023_remove_duplicates(self):\n",
    "        self.assertEqual(remove_duplicates([5, 5, 6, 6]), [5, 6])\n",
    "        self.assertEqual(remove_duplicates([2, 2, 6, 6]), [2, 6])\n",
    "        self.assertEqual(remove_duplicates([9, 9, 8, 1]), [1, 8, 9])\n",
    "    def test_024_find_number_of_intersections(self):\n",
    "        self.assertEqual(find_number_of_intersections({5, 5, 6, 6}, {5, 6, 7, 8}), 2)\n",
    "        self.assertEqual(find_number_of_intersections({1, 3, 5, 7, 9}, {2, 3, 5, 7}), 3)\n",
    "        self.assertEqual(find_number_of_intersections({1, 3, 5, 7, 9}, {1, 3, 5, 7, 9}), 5)\n",
    "        self.assertEqual(find_number_of_intersections({1, 3, 5, 7, 9}, {2, 4, 6, 8, 10}), 0)\n",
    "    def test_025_find_number_of_differences(self):\n",
    "        self.assertEqual(find_number_of_differences({5, 5, 6, 6}, {5, 6, 7, 8}), 2)\n",
    "        self.assertEqual(find_number_of_differences({1, 3, 5, 7, 9}, {2, 3, 5, 7}), 3)\n",
    "        self.assertEqual(find_number_of_differences({1, 3, 5, 7, 9}, {1, 3, 5, 7, 9}), 0)\n",
    "        self.assertEqual(find_number_of_differences({1, 3, 5, 7, 9}, {2, 4, 6, 8, 10}), 10)\n",
    "        \n",
    "run_suite(TestDataStructures, 2)"
   ]
  }
 ],
 "metadata": {
  "kernelspec": {
   "display_name": "Python 3 (ipykernel)",
   "language": "python",
   "name": "python3"
  },
  "language_info": {
   "codemirror_mode": {
    "name": "ipython",
    "version": 3
   },
   "file_extension": ".py",
   "mimetype": "text/x-python",
   "name": "python",
   "nbconvert_exporter": "python",
   "pygments_lexer": "ipython3",
   "version": "3.9.5"
  }
 },
 "nbformat": 4,
 "nbformat_minor": 5
}
