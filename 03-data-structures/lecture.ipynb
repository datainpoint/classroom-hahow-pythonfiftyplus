{
 "cells": [
  {
   "cell_type": "markdown",
   "id": "headed-garden",
   "metadata": {
    "slideshow": {
     "slide_type": "slide"
    }
   },
   "source": [
    "# Python 的 50+ 練習：資料科學學習手冊\n",
    "\n",
    "> 使用資料結構類別管理資料\n",
    "\n",
    "[數據交點](https://www.datainpoint.com) | 郭耀仁 <yaojenkuo@datainpoint.com>"
   ]
  },
  {
   "cell_type": "markdown",
   "id": "altered-endorsement",
   "metadata": {
    "slideshow": {
     "slide_type": "subslide"
    }
   },
   "source": [
    "## 這個章節會登場的保留字與函數\n",
    "\n",
    "- `del` 保留字。\n",
    "- `len()` 函數。\n",
    "- `list()` 函數。\n",
    "- `tuple()` 函數。\n",
    "- `dict()` 函數。\n",
    "- `set()` 函數。"
   ]
  },
  {
   "cell_type": "markdown",
   "id": "adjusted-fashion",
   "metadata": {
    "slideshow": {
     "slide_type": "slide"
    }
   },
   "source": [
    "## 關於資料結構"
   ]
  },
  {
   "cell_type": "markdown",
   "id": "frozen-plane",
   "metadata": {
    "slideshow": {
     "slide_type": "subslide"
    }
   },
   "source": [
    "## 什麼是資料結構\n",
    "\n",
    "> 資料結構是電腦儲存、組織以及取得資料的機制，可以透過程式語言所提供的類別與自行定義類別實現，一個設計良好的資料結構，會在盡可能使用較少的時間與空間資源下，支援各種程式執行。\n",
    "\n",
    "來源：<https://en.wikipedia.org/wiki/Data_structure>"
   ]
  },
  {
   "cell_type": "markdown",
   "id": "eligible-distinction",
   "metadata": {
    "slideshow": {
     "slide_type": "subslide"
    }
   },
   "source": [
    "## 為什麼需要資料結構\n",
    "\n",
    "- 在資料科學家日常的工作任務中，資料處理佔有相當高的比例。\n",
    "- 需要有一個機制能夠協助他們輸入、處理最後輸出資料。\n",
    "- 這個「機制」就是**資料結構**。\n",
    "- 適當地選擇資料結構，讓資料科學家能夠有效率地儲存與取得資料。\n",
    "- 就像是將食物放置在冰箱、衣服放置在衣櫥、鞋子放置在鞋櫃。"
   ]
  },
  {
   "cell_type": "markdown",
   "id": "heard-classics",
   "metadata": {
    "slideshow": {
     "slide_type": "subslide"
    }
   },
   "source": [
    "## Python 內建的四個資料結構類別\n",
    "\n",
    "1. `list`\n",
    "2. `tuple`\n",
    "3. `dict`(dictionary)\n",
    "4. `set`"
   ]
  },
  {
   "cell_type": "markdown",
   "id": "provincial-compatibility",
   "metadata": {
    "slideshow": {
     "slide_type": "slide"
    }
   },
   "source": [
    "## 基礎的 `list` 類別"
   ]
  },
  {
   "cell_type": "markdown",
   "id": "demographic-heating",
   "metadata": {
    "slideshow": {
     "slide_type": "subslide"
    }
   },
   "source": [
    "## `list`\n",
    "\n",
    "- `list` 是一種「有序」且能夠「更新」的資料結構。\n",
    "- `list` 可以透過「逗號」`,` 分隔值與「中括號」`[]` 形成。"
   ]
  },
  {
   "cell_type": "markdown",
   "id": "mounted-correlation",
   "metadata": {
    "slideshow": {
     "slide_type": "subslide"
    }
   },
   "source": [
    "## 命名物件作為 `list` 類別的實例"
   ]
  },
  {
   "cell_type": "code",
   "execution_count": 1,
   "id": "collective-convenience",
   "metadata": {},
   "outputs": [
    {
     "data": {
      "text/plain": [
       "list"
      ]
     },
     "execution_count": 1,
     "metadata": {},
     "output_type": "execute_result"
    }
   ],
   "source": [
    "primes = [2, 3, 5, 7, 11]\n",
    "type(primes)"
   ]
  },
  {
   "cell_type": "markdown",
   "id": "addressed-province",
   "metadata": {
    "slideshow": {
     "slide_type": "subslide"
    }
   },
   "source": [
    "## 使用內建函數 `len()`  得知一個 `list` 中有幾個資料值"
   ]
  },
  {
   "cell_type": "code",
   "execution_count": 2,
   "id": "universal-diving",
   "metadata": {},
   "outputs": [
    {
     "data": {
      "text/plain": [
       "5"
      ]
     },
     "execution_count": 2,
     "metadata": {},
     "output_type": "execute_result"
    }
   ],
   "source": [
    "len(primes)"
   ]
  },
  {
   "cell_type": "markdown",
   "id": "lasting-scanning",
   "metadata": {
    "slideshow": {
     "slide_type": "subslide"
    }
   },
   "source": [
    "## 從一個 `list` 中取出資料的方式有兩種\n",
    "\n",
    "1. **indexing** 指的是從一個 `list` 中取出特定位置的單個資料值。\n",
    "2. **slicing** 指的是從一個 `list` 中擷取特定片段。"
   ]
  },
  {
   "cell_type": "markdown",
   "id": "familiar-intermediate",
   "metadata": {
    "slideshow": {
     "slide_type": "subslide"
    }
   },
   "source": [
    "## indexing `[index]`\n",
    "\n",
    "`list` 採用兩個方向的索引機制：\n",
    "\n",
    "1. 由左至右：「從 0 開始」的索引機制。\n",
    "2. 由右至左：「從 -1 開始」的索引機制。"
   ]
  },
  {
   "cell_type": "code",
   "execution_count": 3,
   "id": "manual-hammer",
   "metadata": {
    "slideshow": {
     "slide_type": "subslide"
    }
   },
   "outputs": [
    {
     "name": "stdout",
     "output_type": "stream",
     "text": [
      "2\n",
      "3\n",
      "11\n",
      "7\n"
     ]
    }
   ],
   "source": [
    "print(primes[0])  # the first element\n",
    "print(primes[1])  # the second element\n",
    "print(primes[-1]) # the last element\n",
    "print(primes[-2]) # the second last element"
   ]
  },
  {
   "cell_type": "markdown",
   "id": "quality-applicant",
   "metadata": {
    "slideshow": {
     "slide_type": "subslide"
    }
   },
   "source": [
    "## slicing `[start:stop:step]`\n",
    "\n",
    "除了可以取出特定位置的單個資料值，`list` 也支援擷取特定片段，藉此獲得一個較短長度 `list` 的語法。\n",
    "\n",
    "- `start` 起始位置（包含）。\n",
    "- `stop` 終止位置（排除）。\n",
    "- `step` 間隔。"
   ]
  },
  {
   "cell_type": "code",
   "execution_count": 4,
   "id": "advanced-burning",
   "metadata": {
    "slideshow": {
     "slide_type": "subslide"
    }
   },
   "outputs": [
    {
     "name": "stdout",
     "output_type": "stream",
     "text": [
      "[2, 3, 5]\n",
      "[5, 7, 11]\n",
      "[2, 5, 11]\n"
     ]
    }
   ],
   "source": [
    "print(primes[0:3:1])            # slicing the first 3 elements\n",
    "print(primes[-3:len(primes):1]) # slicing the last 3 elements \n",
    "print(primes[0:len(primes):2])  # slicing every second element"
   ]
  },
  {
   "cell_type": "markdown",
   "id": "endangered-transformation",
   "metadata": {
    "slideshow": {
     "slide_type": "subslide"
    }
   },
   "source": [
    "## slicing 如果沒有指定 `start:stop:step` 就採用預設值\n",
    "\n",
    "- `start` 起始位置（包含）預設為 `0`。\n",
    "- `stop` 終止位置（排除）預設為 `list` 的長度。\n",
    "- `step` 間隔預設為 `1`。"
   ]
  },
  {
   "cell_type": "code",
   "execution_count": 5,
   "id": "mineral-wrist",
   "metadata": {
    "slideshow": {
     "slide_type": "subslide"
    }
   },
   "outputs": [
    {
     "name": "stdout",
     "output_type": "stream",
     "text": [
      "[2, 3, 5]\n",
      "[5, 7, 11]\n",
      "[2, 5, 11]\n"
     ]
    }
   ],
   "source": [
    "print(primes[:3])  # slicing the first 3 elements\n",
    "print(primes[-3:]) # slicing the last 3 elements \n",
    "print(primes[::2]) # slicing every second element"
   ]
  },
  {
   "cell_type": "markdown",
   "id": "offensive-transparency",
   "metadata": {
    "slideshow": {
     "slide_type": "subslide"
    }
   },
   "source": [
    "## `str` 也適用 indexing 與 slicing"
   ]
  },
  {
   "cell_type": "code",
   "execution_count": 6,
   "id": "advanced-garlic",
   "metadata": {},
   "outputs": [
    {
     "name": "stdout",
     "output_type": "stream",
     "text": [
      "L\n",
      "r\n",
      "Luke\n",
      "Skywalker\n"
     ]
    }
   ],
   "source": [
    "luke_skywalker = \"Luke Skywalker\"\n",
    "print(luke_skywalker[0])\n",
    "print(luke_skywalker[-1])\n",
    "print(luke_skywalker[:4])\n",
    "print(luke_skywalker[5:])"
   ]
  },
  {
   "cell_type": "markdown",
   "id": "portable-argument",
   "metadata": {
    "slideshow": {
     "slide_type": "subslide"
    }
   },
   "source": [
    "## 更新 `list` 中的資料值"
   ]
  },
  {
   "cell_type": "code",
   "execution_count": 7,
   "id": "scheduled-nashville",
   "metadata": {},
   "outputs": [
    {
     "name": "stdout",
     "output_type": "stream",
     "text": [
      "[2, 3, 5, 7, 11]\n",
      "[2, 3, 5, 7, 13]\n"
     ]
    }
   ],
   "source": [
    "print(primes)   # before update\n",
    "primes[-1] = 13 # update\n",
    "print(primes)   # after update"
   ]
  },
  {
   "cell_type": "markdown",
   "id": "quality-finance",
   "metadata": {
    "slideshow": {
     "slide_type": "subslide"
    }
   },
   "source": [
    "## 也可以透過 `list` 的多種方法更新\n",
    "\n",
    "- `list.append()`\n",
    "- `list.pop()`\n",
    "- `list.remove()`\n",
    "- `list.insert()`\n",
    "- `list.sort()`\n",
    "- ...等。"
   ]
  },
  {
   "cell_type": "markdown",
   "id": "revolutionary-territory",
   "metadata": {
    "slideshow": {
     "slide_type": "subslide"
    }
   },
   "source": [
    "## 使用 `help()` 函數查詢 `list` 方法的說明"
   ]
  },
  {
   "cell_type": "code",
   "execution_count": 8,
   "id": "above-accounting",
   "metadata": {},
   "outputs": [
    {
     "name": "stdout",
     "output_type": "stream",
     "text": [
      "Help on built-in function append:\n",
      "\n",
      "append(object, /) method of builtins.list instance\n",
      "    Append object to the end of the list.\n",
      "\n"
     ]
    }
   ],
   "source": [
    "help(primes.append)"
   ]
  },
  {
   "cell_type": "markdown",
   "id": "excessive-surname",
   "metadata": {
    "slideshow": {
     "slide_type": "subslide"
    }
   },
   "source": [
    "## 在小括號中按 `Shift - Tab` 查詢方法的說明"
   ]
  },
  {
   "cell_type": "code",
   "execution_count": 9,
   "id": "matched-cooper",
   "metadata": {},
   "outputs": [],
   "source": [
    "#primes.append()"
   ]
  },
  {
   "cell_type": "markdown",
   "id": "streaming-analysis",
   "metadata": {
    "slideshow": {
     "slide_type": "subslide"
    }
   },
   "source": [
    "## `list` 支援的運算符\n",
    "\n",
    "- `+` 運算符：連接 lists\n",
    "- `*` 運算符：複製 `list` 中的元素。"
   ]
  },
  {
   "cell_type": "code",
   "execution_count": 10,
   "id": "alpine-locator",
   "metadata": {
    "slideshow": {
     "slide_type": "subslide"
    }
   },
   "outputs": [
    {
     "data": {
      "text/plain": [
       "[2, 3, 5, 7, 11, 13, 17, 19, 23, 29]"
      ]
     },
     "execution_count": 10,
     "metadata": {},
     "output_type": "execute_result"
    }
   ],
   "source": [
    "primes = [2, 3, 5, 7, 11]\n",
    "primes_to_concatenate = [13, 17, 19, 23, 29]\n",
    "primes + primes_to_concatenate"
   ]
  },
  {
   "cell_type": "code",
   "execution_count": 11,
   "id": "outstanding-usage",
   "metadata": {
    "slideshow": {
     "slide_type": "-"
    }
   },
   "outputs": [
    {
     "name": "stdout",
     "output_type": "stream",
     "text": [
      "[2, 3, 5, 7, 11, 2, 3, 5, 7, 11]\n",
      "[13, 17, 19, 23, 29, 13, 17, 19, 23, 29, 13, 17, 19, 23, 29]\n"
     ]
    }
   ],
   "source": [
    "print(primes * 2)\n",
    "print(primes_to_concatenate * 3)"
   ]
  },
  {
   "cell_type": "markdown",
   "id": "external-virginia",
   "metadata": {
    "slideshow": {
     "slide_type": "slide"
    }
   },
   "source": [
    "## 兩種函數的使用形式"
   ]
  },
  {
   "cell_type": "markdown",
   "id": "adjacent-chambers",
   "metadata": {
    "slideshow": {
     "slide_type": "subslide"
    }
   },
   "source": [
    "## 在應用 `list` 的多種方法之前，先注意函數的兩種使用形式\n",
    "\n",
    "1. 對物件應用函數，語法為 `function(object)`\n",
    "2. 使用附屬於物件的函數，稱為使用物件的方法，語法為 `object.method()`"
   ]
  },
  {
   "cell_type": "markdown",
   "id": "funny-treatment",
   "metadata": {
    "slideshow": {
     "slide_type": "subslide"
    }
   },
   "source": [
    "## 除了使用函數與方法的差異，也要留意物件更新的兩種方式\n",
    "\n",
    "1. 將更新的結果回傳（Return），物件本身維持不變。\n",
    "2. 更新物件本身並回傳 `None`"
   ]
  },
  {
   "cell_type": "markdown",
   "id": "modular-channels",
   "metadata": {
    "slideshow": {
     "slide_type": "subslide"
    }
   },
   "source": [
    "## 兩種更新方式的範例：排序一個 `list`\n",
    "\n",
    "1. 使用內建函數 `sorted()` 採取將更新的結果回傳（Return），物件本身維持不變的更新方式。\n",
    "2. 使用 `list.sort()` 採取更新物件本身並回傳 `None` 的更新方式。"
   ]
  },
  {
   "cell_type": "code",
   "execution_count": 12,
   "id": "boxed-convenience",
   "metadata": {
    "slideshow": {
     "slide_type": "subslide"
    }
   },
   "outputs": [
    {
     "name": "stdout",
     "output_type": "stream",
     "text": [
      "[11, 5, 7, 2, 3]\n",
      "[2, 3, 5, 7, 11]\n"
     ]
    }
   ],
   "source": [
    "unsorted_primes = [11, 5, 7, 2, 3]\n",
    "sorted_primes = sorted(unsorted_primes)\n",
    "print(unsorted_primes)\n",
    "print(sorted_primes)"
   ]
  },
  {
   "cell_type": "code",
   "execution_count": 13,
   "id": "juvenile-staff",
   "metadata": {
    "slideshow": {
     "slide_type": "subslide"
    }
   },
   "outputs": [
    {
     "name": "stdout",
     "output_type": "stream",
     "text": [
      "[2, 3, 5, 7, 11]\n",
      "None\n"
     ]
    }
   ],
   "source": [
    "unsorted_primes = [11, 5, 7, 2, 3]\n",
    "sorted_primes = unsorted_primes.sort()\n",
    "print(unsorted_primes)\n",
    "print(sorted_primes)"
   ]
  },
  {
   "cell_type": "markdown",
   "id": "automatic-battlefield",
   "metadata": {
    "slideshow": {
     "slide_type": "subslide"
    }
   },
   "source": [
    "## 如何判斷兩種更新方式\n",
    "\n",
    "- 詳細閱讀函數與方法的文件。\n",
    "- 注意函數與方法使用後儲存格是否有 Out 顯示。"
   ]
  },
  {
   "cell_type": "markdown",
   "id": "molecular-sunrise",
   "metadata": {
    "slideshow": {
     "slide_type": "subslide"
    }
   },
   "source": [
    "## 詳細閱讀函數與方法的說明\n",
    "\n",
    "內建函數 `sorted()`：**Return** a new list containing all items from the iterable in ascending order."
   ]
  },
  {
   "cell_type": "code",
   "execution_count": 14,
   "id": "apart-medication",
   "metadata": {
    "slideshow": {
     "slide_type": "-"
    }
   },
   "outputs": [
    {
     "name": "stdout",
     "output_type": "stream",
     "text": [
      "Help on built-in function sorted in module builtins:\n",
      "\n",
      "sorted(iterable, /, *, key=None, reverse=False)\n",
      "    Return a new list containing all items from the iterable in ascending order.\n",
      "    \n",
      "    A custom key function can be supplied to customize the sort order, and the\n",
      "    reverse flag can be set to request the result in descending order.\n",
      "\n"
     ]
    }
   ],
   "source": [
    "help(sorted)"
   ]
  },
  {
   "cell_type": "markdown",
   "id": "increased-judge",
   "metadata": {
    "slideshow": {
     "slide_type": "subslide"
    }
   },
   "source": [
    "## 詳細閱讀函數與方法的說明（續）\n",
    "\n",
    "`list.sort()`：Sort the list in ascending order and **return None**."
   ]
  },
  {
   "cell_type": "code",
   "execution_count": 15,
   "id": "coordinate-shooting",
   "metadata": {
    "slideshow": {
     "slide_type": "-"
    }
   },
   "outputs": [
    {
     "name": "stdout",
     "output_type": "stream",
     "text": [
      "Help on built-in function sort:\n",
      "\n",
      "sort(*, key=None, reverse=False) method of builtins.list instance\n",
      "    Sort the list in ascending order and return None.\n",
      "    \n",
      "    The sort is in-place (i.e. the list itself is modified) and stable (i.e. the\n",
      "    order of two equal elements is maintained).\n",
      "    \n",
      "    If a key function is given, apply it once to each list item and sort them,\n",
      "    ascending or descending, according to their function values.\n",
      "    \n",
      "    The reverse flag can be set to sort in descending order.\n",
      "\n"
     ]
    }
   ],
   "source": [
    "help(unsorted_primes.sort)"
   ]
  },
  {
   "cell_type": "markdown",
   "id": "starting-gibraltar",
   "metadata": {
    "slideshow": {
     "slide_type": "subslide"
    }
   },
   "source": [
    "## 注意函數與方法使用後儲存格是否有 Out 顯示"
   ]
  },
  {
   "cell_type": "code",
   "execution_count": 16,
   "id": "permanent-galaxy",
   "metadata": {},
   "outputs": [
    {
     "data": {
      "text/plain": [
       "[2, 3, 5, 7, 11]"
      ]
     },
     "execution_count": 16,
     "metadata": {},
     "output_type": "execute_result"
    }
   ],
   "source": [
    "unsorted_primes = [11, 5, 7, 2, 3]\n",
    "sorted(unsorted_primes)"
   ]
  },
  {
   "cell_type": "code",
   "execution_count": 17,
   "id": "violent-bulgarian",
   "metadata": {},
   "outputs": [],
   "source": [
    "unsorted_primes.sort()"
   ]
  },
  {
   "cell_type": "markdown",
   "id": "nervous-falls",
   "metadata": {
    "slideshow": {
     "slide_type": "subslide"
    }
   },
   "source": [
    "## 兩種更新方式並不一定是「擇一」也可能都有"
   ]
  },
  {
   "cell_type": "code",
   "execution_count": 18,
   "id": "directed-third",
   "metadata": {
    "slideshow": {
     "slide_type": "-"
    }
   },
   "outputs": [
    {
     "name": "stdout",
     "output_type": "stream",
     "text": [
      "[2, 3, 5, 7]\n",
      "11\n"
     ]
    }
   ],
   "source": [
    "primes = [2, 3, 5, 7, 11]\n",
    "the_last_element = primes.pop()\n",
    "print(primes)\n",
    "print(the_last_element)"
   ]
  },
  {
   "cell_type": "markdown",
   "id": "democratic-franchise",
   "metadata": {
    "slideshow": {
     "slide_type": "subslide"
    }
   },
   "source": [
    "## 釐清兩種更新方式是至關重要的\n",
    "\n",
    "- 雖然是利用 `list` 作為範例，但不管任何的資料或者資料結構都適用。\n",
    "- 多數的函數更新機制都是回傳（Return），但並不是絕對。\n",
    "- 不論函數或者方法，都要詳細閱讀文件或注意使用後儲存格是否有 Out 顯示。"
   ]
  },
  {
   "cell_type": "markdown",
   "id": "legislative-audio",
   "metadata": {
    "slideshow": {
     "slide_type": "slide"
    }
   },
   "source": [
    "## 不能更新資料的 `tuple` 類別"
   ]
  },
  {
   "cell_type": "markdown",
   "id": "catholic-vessel",
   "metadata": {
    "slideshow": {
     "slide_type": "subslide"
    }
   },
   "source": [
    "## `tuple`\n",
    "\n",
    "- `tuple` 是一種「有序」且「不能夠更新」的資料結構。\n",
    "- `tuple` 可以透過「逗號」`,` 分隔值與「小括號」`()` 形成。"
   ]
  },
  {
   "cell_type": "markdown",
   "id": "plain-spyware",
   "metadata": {
    "slideshow": {
     "slide_type": "subslide"
    }
   },
   "source": [
    "## 命名物件作為 `tuple` 類別的實例"
   ]
  },
  {
   "cell_type": "code",
   "execution_count": 19,
   "id": "paperback-project",
   "metadata": {},
   "outputs": [
    {
     "data": {
      "text/plain": [
       "tuple"
      ]
     },
     "execution_count": 19,
     "metadata": {},
     "output_type": "execute_result"
    }
   ],
   "source": [
    "primes = (2, 3, 5, 7, 11)\n",
    "type(primes)"
   ]
  },
  {
   "cell_type": "markdown",
   "id": "cardiac-divorce",
   "metadata": {
    "slideshow": {
     "slide_type": "subslide"
    }
   },
   "source": [
    "## 使用內建函數 `len()`  得知一個 `tuple` 中有幾個資料值"
   ]
  },
  {
   "cell_type": "code",
   "execution_count": 20,
   "id": "incredible-company",
   "metadata": {},
   "outputs": [
    {
     "data": {
      "text/plain": [
       "5"
      ]
     },
     "execution_count": 20,
     "metadata": {},
     "output_type": "execute_result"
    }
   ],
   "source": [
    "len(primes)"
   ]
  },
  {
   "cell_type": "markdown",
   "id": "adapted-habitat",
   "metadata": {
    "slideshow": {
     "slide_type": "subslide"
    }
   },
   "source": [
    "## `tuple` 在許多地方的表現與 `list` 相同，像是 indexing 以及 slicing"
   ]
  },
  {
   "cell_type": "code",
   "execution_count": 21,
   "id": "yellow-puzzle",
   "metadata": {},
   "outputs": [
    {
     "name": "stdout",
     "output_type": "stream",
     "text": [
      "2\n",
      "(2, 3, 5)\n"
     ]
    }
   ],
   "source": [
    "print(primes[0])   # the first element\n",
    "print(primes[:3])  # slicing the first 3 elements"
   ]
  },
  {
   "cell_type": "markdown",
   "id": "subtle-intranet",
   "metadata": {
    "slideshow": {
     "slide_type": "subslide"
    }
   },
   "source": [
    "## `tuple` 與 `list` 最大的不同點，在於 `tuple`「不能夠更新」的特性\n",
    "\n",
    "- 以更新 `list` 的語法更新 `tuple` 會產生錯誤。\n",
    "- `try…except…` 是例外處理的語法，之後在「使用流程控制管理程式區塊的執行」章節會說明。"
   ]
  },
  {
   "cell_type": "code",
   "execution_count": 22,
   "id": "dedicated-reproduction",
   "metadata": {},
   "outputs": [
    {
     "name": "stdout",
     "output_type": "stream",
     "text": [
      "'tuple' object does not support item assignment\n"
     ]
    }
   ],
   "source": [
    "try:\n",
    "    primes[-1] = 13\n",
    "except TypeError as error_message:\n",
    "    print(error_message)"
   ]
  },
  {
   "cell_type": "markdown",
   "id": "cardiac-nirvana",
   "metadata": {
    "slideshow": {
     "slide_type": "subslide"
    }
   },
   "source": [
    "## 在 Python 中有眾多的應用場景會遭遇到 `tuple`\n",
    "\n",
    "- 自行定義函數預設「多個輸出」的資料結構。\n",
    "- `dict.items()` 輸出。\n",
    "- 函數的彈性參數 `*args`\n",
    "- ...等。"
   ]
  },
  {
   "cell_type": "markdown",
   "id": "daily-button",
   "metadata": {
    "slideshow": {
     "slide_type": "subslide"
    }
   },
   "source": [
    "## 自行定義函數預設「多個輸出」的資料結構"
   ]
  },
  {
   "cell_type": "code",
   "execution_count": 23,
   "id": "appreciated-tenant",
   "metadata": {},
   "outputs": [
    {
     "name": "stdout",
     "output_type": "stream",
     "text": [
      "(2, 11)\n",
      "<class 'tuple'>\n"
     ]
    }
   ],
   "source": [
    "def retrieve_the_first_and_last_element(x):\n",
    "    first_element = x[0]\n",
    "    last_element = x[-1]\n",
    "    return first_element, last_element # did not specify returning a tuple\n",
    "\n",
    "primes = [2, 3, 5, 7, 11]\n",
    "print(retrieve_the_first_and_last_element(primes))\n",
    "print(type(retrieve_the_first_and_last_element(primes)))"
   ]
  },
  {
   "cell_type": "markdown",
   "id": "consecutive-straight",
   "metadata": {
    "slideshow": {
     "slide_type": "subslide"
    }
   },
   "source": [
    "## 命名兩個物件作為自行定義函數的多個輸出"
   ]
  },
  {
   "cell_type": "code",
   "execution_count": 24,
   "id": "reliable-thickness",
   "metadata": {
    "slideshow": {
     "slide_type": "-"
    }
   },
   "outputs": [
    {
     "name": "stdout",
     "output_type": "stream",
     "text": [
      "2\n",
      "11\n"
     ]
    }
   ],
   "source": [
    "first, last = retrieve_the_first_and_last_element(primes)\n",
    "print(first)\n",
    "print(last)"
   ]
  },
  {
   "cell_type": "markdown",
   "id": "peripheral-encoding",
   "metadata": {
    "slideshow": {
     "slide_type": "subslide"
    }
   },
   "source": [
    "## 前述寫法比下列寫法來得精簡"
   ]
  },
  {
   "cell_type": "code",
   "execution_count": 25,
   "id": "extensive-destiny",
   "metadata": {
    "slideshow": {
     "slide_type": "-"
    }
   },
   "outputs": [
    {
     "name": "stdout",
     "output_type": "stream",
     "text": [
      "2\n",
      "11\n"
     ]
    }
   ],
   "source": [
    "two_outputs = retrieve_the_first_and_last_element(primes)\n",
    "first = two_outputs[0]\n",
    "last = two_outputs[1]\n",
    "print(first)\n",
    "print(last)"
   ]
  },
  {
   "cell_type": "markdown",
   "id": "documented-cocktail",
   "metadata": {
    "slideshow": {
     "slide_type": "slide"
    }
   },
   "source": [
    "## 以「鍵」查找「值」的 `dict` 類別"
   ]
  },
  {
   "cell_type": "markdown",
   "id": "common-guatemala",
   "metadata": {
    "slideshow": {
     "slide_type": "subslide"
    }
   },
   "source": [
    "## `dict`\n",
    "\n",
    "- `dict` 是一種使用「鍵值對應」關係的資料結構。\n",
    "- `dict` 可以透過「逗號」`,`、「鍵值對應」`key: value` 與「大括號」`{}` 形成。"
   ]
  },
  {
   "cell_type": "code",
   "execution_count": 26,
   "id": "eight-destination",
   "metadata": {
    "slideshow": {
     "slide_type": "subslide"
    }
   },
   "outputs": [
    {
     "data": {
      "text/plain": [
       "dict"
      ]
     },
     "execution_count": 26,
     "metadata": {},
     "output_type": "execute_result"
    }
   ],
   "source": [
    "the_shawshank_redemption = {\n",
    "    \"title\": \"The Shawshank Redemption\",\n",
    "    \"year\": 1995,\n",
    "    \"rating\": 9.3,\n",
    "    \"director\": \"Frank Darabont\"\n",
    "}\n",
    "type(the_shawshank_redemption)"
   ]
  },
  {
   "cell_type": "markdown",
   "id": "unnecessary-alberta",
   "metadata": {
    "slideshow": {
     "slide_type": "subslide"
    }
   },
   "source": [
    "## 使用內建函數 `len()`  得知一個 `dict` 中有幾組鍵值對應"
   ]
  },
  {
   "cell_type": "code",
   "execution_count": 27,
   "id": "annual-citation",
   "metadata": {
    "slideshow": {
     "slide_type": "-"
    }
   },
   "outputs": [
    {
     "data": {
      "text/plain": [
       "4"
      ]
     },
     "execution_count": 27,
     "metadata": {},
     "output_type": "execute_result"
    }
   ],
   "source": [
    "len(the_shawshank_redemption)"
   ]
  },
  {
   "cell_type": "markdown",
   "id": "excess-admission",
   "metadata": {
    "slideshow": {
     "slide_type": "subslide"
    }
   },
   "source": [
    "## `dict` 採用以「鍵」取「值」的索引機制\n",
    "\n",
    "```python\n",
    "dict[\"key\"]\n",
    "```"
   ]
  },
  {
   "cell_type": "code",
   "execution_count": 28,
   "id": "competent-arbor",
   "metadata": {},
   "outputs": [
    {
     "name": "stdout",
     "output_type": "stream",
     "text": [
      "The Shawshank Redemption\n",
      "1995\n",
      "9.3\n",
      "Frank Darabont\n"
     ]
    }
   ],
   "source": [
    "print(the_shawshank_redemption[\"title\"])\n",
    "print(the_shawshank_redemption[\"year\"])\n",
    "print(the_shawshank_redemption[\"rating\"])\n",
    "print(the_shawshank_redemption[\"director\"])"
   ]
  },
  {
   "cell_type": "markdown",
   "id": "numerical-table",
   "metadata": {
    "slideshow": {
     "slide_type": "subslide"
    }
   },
   "source": [
    "## 用來檢視 `dict` 的三個方法\n",
    "\n",
    "1. `dict.keys()` 檢視鍵。\n",
    "2. `dict.values()` 檢視值。\n",
    "3. `dict.items()` 檢視鍵值對應。"
   ]
  },
  {
   "cell_type": "code",
   "execution_count": 29,
   "id": "figured-textbook",
   "metadata": {
    "slideshow": {
     "slide_type": "-"
    }
   },
   "outputs": [
    {
     "name": "stdout",
     "output_type": "stream",
     "text": [
      "dict_keys(['title', 'year', 'rating', 'director'])\n",
      "dict_values(['The Shawshank Redemption', 1995, 9.3, 'Frank Darabont'])\n",
      "dict_items([('title', 'The Shawshank Redemption'), ('year', 1995), ('rating', 9.3), ('director', 'Frank Darabont')])\n"
     ]
    }
   ],
   "source": [
    "print(the_shawshank_redemption.keys())\n",
    "print(the_shawshank_redemption.values())\n",
    "print(the_shawshank_redemption.items())  # (key, value) as a tuple"
   ]
  },
  {
   "cell_type": "markdown",
   "id": "cloudy-tampa",
   "metadata": {
    "slideshow": {
     "slide_type": "subslide"
    }
   },
   "source": [
    "## 新增 `dict` 中的鍵值對應"
   ]
  },
  {
   "cell_type": "code",
   "execution_count": 30,
   "id": "bottom-irish",
   "metadata": {},
   "outputs": [
    {
     "data": {
      "text/plain": [
       "{'title': 'The Shawshank Redemption',\n",
       " 'year': 1995,\n",
       " 'rating': 9.3,\n",
       " 'director': 'Frank Darabont',\n",
       " 'lead_actors': ['Tim Robbins', 'Morgan Freeman']}"
      ]
     },
     "execution_count": 30,
     "metadata": {},
     "output_type": "execute_result"
    }
   ],
   "source": [
    "the_shawshank_redemption['lead_actors'] = ['Tim Robbins', 'Morgan Freeman']\n",
    "the_shawshank_redemption"
   ]
  },
  {
   "cell_type": "markdown",
   "id": "heated-choice",
   "metadata": {
    "slideshow": {
     "slide_type": "subslide"
    }
   },
   "source": [
    "## 使用 `del` 保留字刪除 `dict` 中的鍵值對應"
   ]
  },
  {
   "cell_type": "code",
   "execution_count": 31,
   "id": "cleared-identity",
   "metadata": {},
   "outputs": [
    {
     "data": {
      "text/plain": [
       "{'title': 'The Shawshank Redemption',\n",
       " 'year': 1995,\n",
       " 'rating': 9.3,\n",
       " 'director': 'Frank Darabont'}"
      ]
     },
     "execution_count": 31,
     "metadata": {},
     "output_type": "execute_result"
    }
   ],
   "source": [
    "del the_shawshank_redemption['lead_actors']\n",
    "the_shawshank_redemption"
   ]
  },
  {
   "cell_type": "markdown",
   "id": "loose-corps",
   "metadata": {
    "slideshow": {
     "slide_type": "subslide"
    }
   },
   "source": [
    "## 使用 `dict.pop(key)` 方法指定「鍵」將「值」拋出"
   ]
  },
  {
   "cell_type": "code",
   "execution_count": 32,
   "id": "dying-apache",
   "metadata": {},
   "outputs": [
    {
     "data": {
      "text/plain": [
       "'Frank Darabont'"
      ]
     },
     "execution_count": 32,
     "metadata": {},
     "output_type": "execute_result"
    }
   ],
   "source": [
    "the_shawshank_redemption.pop(\"director\")"
   ]
  },
  {
   "cell_type": "markdown",
   "id": "treated-receptor",
   "metadata": {
    "slideshow": {
     "slide_type": "subslide"
    }
   },
   "source": [
    "## 指定 `dict` 的「鍵」更新「值」"
   ]
  },
  {
   "cell_type": "code",
   "execution_count": 33,
   "id": "desperate-importance",
   "metadata": {},
   "outputs": [
    {
     "data": {
      "text/plain": [
       "{'title': 'The Shawshank Redemption', 'year': 1994, 'rating': 9.3}"
      ]
     },
     "execution_count": 33,
     "metadata": {},
     "output_type": "execute_result"
    }
   ],
   "source": [
    "the_shawshank_redemption[\"year\"] = 1994\n",
    "the_shawshank_redemption"
   ]
  },
  {
   "cell_type": "markdown",
   "id": "ranking-point",
   "metadata": {
    "slideshow": {
     "slide_type": "slide"
    }
   },
   "source": [
    "## 能做集合運算的 `set` 類別"
   ]
  },
  {
   "cell_type": "markdown",
   "id": "hidden-revelation",
   "metadata": {
    "slideshow": {
     "slide_type": "subslide"
    }
   },
   "source": [
    "## `set`\n",
    "\n",
    "- `set` 是一種「無序」、儲存「獨一值」並且能夠進行「集合運算」的資料結構。\n",
    "- `set` 可以透過「逗號」`,` 分隔值與「大括號」`{}` 形成。"
   ]
  },
  {
   "cell_type": "code",
   "execution_count": 34,
   "id": "realistic-auction",
   "metadata": {
    "slideshow": {
     "slide_type": "-"
    }
   },
   "outputs": [
    {
     "name": "stdout",
     "output_type": "stream",
     "text": [
      "<class 'set'>\n",
      "<class 'set'>\n"
     ]
    }
   ],
   "source": [
    "primes = {2, 3, 5, 7, 7}  # 7 is duplicated\n",
    "odds = {1, 3, 5, 7, 9, 9} # 9 is duplicated\n",
    "print(type(primes))\n",
    "print(type(odds))"
   ]
  },
  {
   "cell_type": "markdown",
   "id": "sorted-eight",
   "metadata": {
    "slideshow": {
     "slide_type": "subslide"
    }
   },
   "source": [
    "## 使用內建函數 `len()`  得知一個 `set` 中有幾個獨一值"
   ]
  },
  {
   "cell_type": "code",
   "execution_count": 35,
   "id": "living-cattle",
   "metadata": {},
   "outputs": [
    {
     "name": "stdout",
     "output_type": "stream",
     "text": [
      "4\n",
      "{2, 3, 5, 7}\n",
      "5\n",
      "{1, 3, 5, 7, 9}\n"
     ]
    }
   ],
   "source": [
    "print(len(primes))\n",
    "print(primes)\n",
    "print(len(odds))\n",
    "print(odds)"
   ]
  },
  {
   "cell_type": "markdown",
   "id": "afraid-hampton",
   "metadata": {
    "slideshow": {
     "slide_type": "subslide"
    }
   },
   "source": [
    "## `set` 重要的兩個特性\n",
    "\n",
    "1. 不支援 indexing\n",
    "2. 支援集合運算（Set operations）。"
   ]
  },
  {
   "cell_type": "markdown",
   "id": "attended-administration",
   "metadata": {
    "slideshow": {
     "slide_type": "subslide"
    }
   },
   "source": [
    "## `set` 不支援 indexing"
   ]
  },
  {
   "cell_type": "code",
   "execution_count": 36,
   "id": "controlling-cathedral",
   "metadata": {
    "slideshow": {
     "slide_type": "-"
    }
   },
   "outputs": [
    {
     "name": "stdout",
     "output_type": "stream",
     "text": [
      "'set' object is not subscriptable\n"
     ]
    }
   ],
   "source": [
    "try:\n",
    "    primes[0]\n",
    "except TypeError as error_message:\n",
    "    print(error_message)"
   ]
  },
  {
   "cell_type": "markdown",
   "id": "extreme-nursery",
   "metadata": {
    "slideshow": {
     "slide_type": "subslide"
    }
   },
   "source": [
    "## `set` 支援集合運算\n",
    "\n",
    "- 使用集合運算符（Set operators）。\n",
    "- 使用 `set` 類別的方法。"
   ]
  },
  {
   "cell_type": "markdown",
   "id": "meaningful-texas",
   "metadata": {
    "slideshow": {
     "slide_type": "subslide"
    }
   },
   "source": [
    "## 常用的集合運算\n",
    "\n",
    "- 交集。\n",
    "- 聯集。\n",
    "- 差集。\n",
    "- 對稱差集。"
   ]
  },
  {
   "cell_type": "markdown",
   "id": "forty-delta",
   "metadata": {
    "slideshow": {
     "slide_type": "subslide"
    }
   },
   "source": [
    "## 使用 `&` 交集運算符或者 `set.intersection()` 方法"
   ]
  },
  {
   "cell_type": "code",
   "execution_count": 37,
   "id": "crucial-uzbekistan",
   "metadata": {},
   "outputs": [
    {
     "name": "stdout",
     "output_type": "stream",
     "text": [
      "{3, 5, 7}\n",
      "{3, 5, 7}\n"
     ]
    }
   ],
   "source": [
    "print(primes & odds)             # with an operator\n",
    "print(primes.intersection(odds)) # equivalently with a method"
   ]
  },
  {
   "cell_type": "markdown",
   "id": "subjective-divide",
   "metadata": {
    "slideshow": {
     "slide_type": "subslide"
    }
   },
   "source": [
    "## 使用 `|` 聯集運算符或者 `set.union()` 方法"
   ]
  },
  {
   "cell_type": "code",
   "execution_count": 38,
   "id": "plastic-frame",
   "metadata": {},
   "outputs": [
    {
     "name": "stdout",
     "output_type": "stream",
     "text": [
      "{1, 2, 3, 5, 7, 9}\n",
      "{1, 2, 3, 5, 7, 9}\n"
     ]
    }
   ],
   "source": [
    "print(primes | odds)      # with an operator\n",
    "print(primes.union(odds)) # equivalently with a method"
   ]
  },
  {
   "cell_type": "markdown",
   "id": "sharing-chair",
   "metadata": {
    "slideshow": {
     "slide_type": "subslide"
    }
   },
   "source": [
    "## 使用 `-` 差集運算符或者 `set.difference()` 方法"
   ]
  },
  {
   "cell_type": "code",
   "execution_count": 39,
   "id": "buried-florida",
   "metadata": {},
   "outputs": [
    {
     "name": "stdout",
     "output_type": "stream",
     "text": [
      "{2}\n",
      "{2}\n",
      "{1, 9}\n",
      "{1, 9}\n"
     ]
    }
   ],
   "source": [
    "print(primes - odds)           # with an operator\n",
    "print(primes.difference(odds)) # equivalently with a method\n",
    "print(odds - primes)           # with an operator\n",
    "print(odds.difference(primes)) # equivalently with a method"
   ]
  },
  {
   "cell_type": "markdown",
   "id": "graphic-montreal",
   "metadata": {
    "slideshow": {
     "slide_type": "subslide"
    }
   },
   "source": [
    "## 使用 `^` 對稱差集運算符或者 `set.symmetric_difference()` 方法"
   ]
  },
  {
   "cell_type": "code",
   "execution_count": 40,
   "id": "compressed-vector",
   "metadata": {},
   "outputs": [
    {
     "name": "stdout",
     "output_type": "stream",
     "text": [
      "{1, 2, 9}\n",
      "{1, 2, 9}\n"
     ]
    }
   ],
   "source": [
    "print(primes ^ odds)                      # with an operator\n",
    "print(primes.symmetric_difference(odds))  # equivalently with a method"
   ]
  },
  {
   "cell_type": "markdown",
   "id": "italian-replication",
   "metadata": {
    "slideshow": {
     "slide_type": "slide"
    }
   },
   "source": [
    "## 資料結構的判斷與轉換"
   ]
  },
  {
   "cell_type": "markdown",
   "id": "external-potato",
   "metadata": {
    "slideshow": {
     "slide_type": "subslide"
    }
   },
   "source": [
    "## 資料結構類別判斷的兩種方式\n",
    "\n",
    "1. 將 `type()` 函數的輸出與資料結構類別名稱比較。\n",
    "2. 透過內建函數 `isinstance()` 判斷。"
   ]
  },
  {
   "cell_type": "markdown",
   "id": "catholic-county",
   "metadata": {
    "slideshow": {
     "slide_type": "subslide"
    }
   },
   "source": [
    "## 資料結構類別可以透過內建函數 `type()` 判斷\n",
    "\n",
    "將 `type()` 函數的輸出與資料結構類別名稱比較。"
   ]
  },
  {
   "cell_type": "code",
   "execution_count": 41,
   "id": "headed-qualification",
   "metadata": {
    "slideshow": {
     "slide_type": "subslide"
    }
   },
   "outputs": [
    {
     "name": "stdout",
     "output_type": "stream",
     "text": [
      "True\n",
      "False\n"
     ]
    }
   ],
   "source": [
    "primes_list = [2, 3, 5, 7, 11]\n",
    "primes_tuple = (2, 3, 5, 7, 11)\n",
    "print(type(primes_list) == list)\n",
    "print(type(primes_tuple) == list)"
   ]
  },
  {
   "cell_type": "code",
   "execution_count": 42,
   "id": "bulgarian-description",
   "metadata": {
    "slideshow": {
     "slide_type": "-"
    }
   },
   "outputs": [
    {
     "name": "stdout",
     "output_type": "stream",
     "text": [
      "True\n",
      "False\n"
     ]
    }
   ],
   "source": [
    "primes_tuple = (2, 3, 5, 7, 11)\n",
    "primes_set = {2, 3, 5, 7, 11}\n",
    "print(type(primes_tuple) == tuple)\n",
    "print(type(primes_set) == tuple)"
   ]
  },
  {
   "cell_type": "markdown",
   "id": "august-reverse",
   "metadata": {
    "slideshow": {
     "slide_type": "subslide"
    }
   },
   "source": [
    "## 資料結構類別可以透過內建函數 `isinstance()` 判斷\n",
    "\n",
    "`isinstance(x, classinfo)` 函數判斷輸入物件 `x` 是否為某個資料結構類別的實例，其中 `classinfo` 參數輸入欲判斷的資料結構類別名稱。"
   ]
  },
  {
   "cell_type": "code",
   "execution_count": 43,
   "id": "legitimate-bloom",
   "metadata": {
    "slideshow": {
     "slide_type": "subslide"
    }
   },
   "outputs": [
    {
     "name": "stdout",
     "output_type": "stream",
     "text": [
      "True\n",
      "False\n"
     ]
    }
   ],
   "source": [
    "primes_list = [2, 3, 5, 7, 11]\n",
    "primes_tuple = (2, 3, 5, 7, 11)\n",
    "print(isinstance(primes_list, list))\n",
    "print(isinstance(primes_tuple, list))"
   ]
  },
  {
   "cell_type": "code",
   "execution_count": 44,
   "id": "demonstrated-credits",
   "metadata": {
    "slideshow": {
     "slide_type": "-"
    }
   },
   "outputs": [
    {
     "name": "stdout",
     "output_type": "stream",
     "text": [
      "True\n",
      "False\n"
     ]
    }
   ],
   "source": [
    "primes_tuple = (2, 3, 5, 7, 11)\n",
    "primes_set = {2, 3, 5, 7, 11}\n",
    "print(isinstance(primes_tuple, tuple))\n",
    "print(isinstance(primes_set, tuple))"
   ]
  },
  {
   "cell_type": "markdown",
   "id": "temporal-jersey",
   "metadata": {
    "slideshow": {
     "slide_type": "subslide"
    }
   },
   "source": [
    "## 資料結構類別可以透過與其同名的內建函數轉換\n",
    "\n",
    "- `list()` 可以將輸入資料結構轉換為 `list`。\n",
    "- `tuple()` 可以將輸入資料結構轉換為 `tuple`。\n",
    "- `dict()` 可以將輸入資料結構轉換為 `dict`。\n",
    "- `set()` 可以將輸入資料結構轉換為 `set`。"
   ]
  },
  {
   "cell_type": "markdown",
   "id": "unavailable-extra",
   "metadata": {
    "slideshow": {
     "slide_type": "slide"
    }
   },
   "source": [
    "## 總結三種括號的應用場景"
   ]
  },
  {
   "cell_type": "markdown",
   "id": "stunning-antarctica",
   "metadata": {
    "slideshow": {
     "slide_type": "subslide"
    }
   },
   "source": [
    "## 截至目前為止，我們已經看過了三種括號的應用場景\n",
    "\n",
    "1. 小括號 `()`\n",
    "2. 中括號 `[]`\n",
    "3. 大括號 `{}`"
   ]
  },
  {
   "cell_type": "markdown",
   "id": "crucial-experience",
   "metadata": {
    "slideshow": {
     "slide_type": "subslide"
    }
   },
   "source": [
    "## 小括號 `()` 的應用場景\n",
    "\n",
    "- 對物件應用函數：`function(object)`\n",
    "- 運算的優先順序。\n",
    "- 使用物件的方法：`object.method()`\n",
    "- 形成 `tuple` 資料結構類別。"
   ]
  },
  {
   "cell_type": "markdown",
   "id": "coordinate-update",
   "metadata": {
    "slideshow": {
     "slide_type": "subslide"
    }
   },
   "source": [
    "## 中括號 `[]` 的應用場景\n",
    "\n",
    "- 形成 `list` 資料結構類別。\n",
    "- 從不同資料結構類別 indexing/slicing 資料。"
   ]
  },
  {
   "cell_type": "markdown",
   "id": "clear-casting",
   "metadata": {
    "slideshow": {
     "slide_type": "subslide"
    }
   },
   "source": [
    "## 大括號 `{}` 的應用場景\n",
    "\n",
    "- 與 `str.format()` 以及 f-string 語法搭配。\n",
    "- 形成 `dict` 資料結構類別。\n",
    "- 形成 `set` 資料結構類別。"
   ]
  },
  {
   "cell_type": "markdown",
   "id": "higher-latvia",
   "metadata": {
    "slideshow": {
     "slide_type": "subslide"
    }
   },
   "source": [
    "## Python 資料結構類別具備有威力的「複合性」\n",
    "\n",
    "複合性指的是資料結構類別中能夠包含異質的資料類別以及不同的資料結構類別，在資料處理上相當有優勢。\n",
    "\n",
    "- 資料類別：`int`/`float`/`str`/`bool`/`NoneType`\n",
    "- 資料結構類別：`list`/`tuple`/`dict`/`set` "
   ]
  },
  {
   "cell_type": "markdown",
   "id": "forward-prescription",
   "metadata": {
    "slideshow": {
     "slide_type": "slide"
    }
   },
   "source": [
    "## 重點統整\n",
    "\n",
    "- 適當地選擇資料結構，讓資料科學家能夠有效率地儲存與取得資料。\n",
    "- Python 內建的四個資料結構類別\n",
    "    - `list`\n",
    "    - `tuple`\n",
    "    - `dict`(dictionary)\n",
    "    - `set`"
   ]
  },
  {
   "cell_type": "markdown",
   "id": "needed-reverse",
   "metadata": {
    "slideshow": {
     "slide_type": "subslide"
    }
   },
   "source": [
    "## 重點統整（續）\n",
    "\n",
    "- `list`/`tuple` 採用兩個方向的索引機制：\n",
    "    - 由左至右：「從 0 開始」的索引機制。\n",
    "    - 由右至左：「從 -1 開始」的索引機制。\n",
    "- `tuple` 是一種不能更新資料的的資料結構。\n",
    "- `dict` 是一種使用「鍵值對應」關係的資料結構。\n",
    "- `set` 是一種支援集合運算的資料結構。\n",
    "- 總結三種括號的應用場景。"
   ]
  }
 ],
 "metadata": {
  "celltoolbar": "Slideshow",
  "kernelspec": {
   "display_name": "Python 3",
   "language": "python",
   "name": "python3"
  },
  "language_info": {
   "codemirror_mode": {
    "name": "ipython",
    "version": 3
   },
   "file_extension": ".py",
   "mimetype": "text/x-python",
   "name": "python",
   "nbconvert_exporter": "python",
   "pygments_lexer": "ipython3",
   "version": "3.8.5"
  }
 },
 "nbformat": 4,
 "nbformat_minor": 5
}
