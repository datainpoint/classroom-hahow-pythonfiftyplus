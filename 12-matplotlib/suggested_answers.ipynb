{
 "cells": [
  {
   "cell_type": "markdown",
   "metadata": {
    "deletable": false
   },
   "source": [
    "# Python 的 50+ 練習：資料科學學習手冊\n",
    "\n",
    "> 資料科學模組 Matplotlib 入門\n",
    "\n",
    "[數據交點](https://www.datainpoint.com) | 郭耀仁 <yaojenkuo@datainpoint.com>"
   ]
  },
  {
   "cell_type": "markdown",
   "metadata": {
    "deletable": false
   },
   "source": [
    "## 練習題指引\n",
    "\n",
    "- 練習題閒置超過 10 分鐘會自動斷線，只要重新點選練習題連結即可重新啟動。\n",
    "- 第一個程式碼儲存格會將可能用得到的模組載入。\n",
    "- 如果練習題需要載入檔案，檔案會存放在 `data` 資料夾中。\n",
    "- 練習題已經給定函數、類別、預期輸入或參數名稱，我們只需要寫作程式區塊。同時也給定函數的類別提示，說明預期輸入以及預期輸出的類別。\n",
    "- 說明（Docstring）會描述測試如何進行，閱讀說明能夠暸解預期輸入以及預期輸出之間的關係，幫助我們更快解題。\n",
    "- 請在 `### BEGIN SOLUTION` 與 `### END SOLUTION` 這兩個註解之間寫作函數或者類別的程式區塊。\n",
    "- 將預期輸出放置在 `return` 保留字之後，若只是用 `print()` 函數將預期輸出印出無法通過測試。\n",
    "- 語法錯誤（`SyntaxError`）或縮排錯誤（`IndentationError`）等將會導致測試失效，測試之前應該先在筆記本使用函數觀察是否與說明（Docstring）描述的功能相符。\n",
    "- 如果卡關，可以先看練習題詳解或者複習課程單元影片之後再繼續寫作。\n",
    "- 執行測試的步驟：\n",
    "    1. 點選上方選單的 File -> Save Notebook 儲存 exercises.ipynb。\n",
    "    2. 點選上方選單的 File -> New -> Terminal 開啟終端機。\n",
    "    3. 在終端機輸入 `python 12-matplotlib/test_runner.py` 後按下 Enter 執行測試。"
   ]
  },
  {
   "cell_type": "code",
   "execution_count": null,
   "metadata": {},
   "outputs": [],
   "source": [
    "import numpy as np\n",
    "import matplotlib.pyplot as plt\n",
    "from PIL import Image"
   ]
  },
  {
   "cell_type": "markdown",
   "metadata": {},
   "source": [
    "## 91. 建立 $x$ 與 $cos(x)$\n",
    "\n",
    "定義函數 `create_x_cosx_ndarray()` 能夠回傳長度 100、介於 $0.5\\pi$ 與 $2.5\\pi$ 的 $x$ 與其對應的 $cos(x)$\n",
    "\n",
    "- 使用 `np.pi` 常數。\n",
    "- 使用 `np.linspace()` 函數。\n",
    "- 使用 `np.cos()` 函數。\n",
    "- 將預期輸出寫在 `return` 之後。"
   ]
  },
  {
   "cell_type": "code",
   "execution_count": null,
   "metadata": {},
   "outputs": [],
   "source": [
    "def create_x_cosx_ndarray() -> tuple:\n",
    "    \"\"\"\n",
    "    >>> x, cosx = create_x_cosx_ndarray()\n",
    "    >>> type(x)\n",
    "    numpy.ndarray\n",
    "    >>> type(cosx)\n",
    "    numpy.ndarray\n",
    "    >>> x.size\n",
    "    100\n",
    "    >>> cosx.size\n",
    "    100\n",
    "    \"\"\"\n",
    "    ### BEGIN SOLUTION\n",
    "    x = np.linspace(0.5*np.pi, 2.5*np.pi, 100)\n",
    "    cosx = np.cos(x)\n",
    "    return x, cosx\n",
    "    ### END SOLUTION"
   ]
  },
  {
   "cell_type": "markdown",
   "metadata": {},
   "source": [
    "## 92. 建立畫布與軸\n",
    "\n",
    "定義函數 `create_figure_and_axes_subplot()` 能夠回傳 `Figure` 與 `AxesSubplot`\n",
    "\n",
    "- 使用 `plt.subplots()` 函數。\n",
    "- 將預期輸出寫在 `return` 之後。"
   ]
  },
  {
   "cell_type": "code",
   "execution_count": null,
   "metadata": {},
   "outputs": [],
   "source": [
    "def create_figure_and_axes_subplot() -> tuple:\n",
    "    \"\"\"\n",
    "    >>> fig, ax = create_figure_and_axes_subplot()\n",
    "    >>> type(fig)\n",
    "    matplotlib.figure.Figure\n",
    "    \"\"\"\n",
    "    ### BEGIN SOLUTION\n",
    "    return plt.subplots()\n",
    "    ### END SOLUTION"
   ]
  },
  {
   "cell_type": "markdown",
   "metadata": {},
   "source": [
    "## 93. 輸出 $x$ 與 $cos(x)$ 線圖 `xcosx.png`\n",
    "\n",
    "定義函數 `export_x_cosx_png()` 能夠輸出介於 $0.5\\pi$ 與 $2.5\\pi$ 的 $x$ 與其對應的 $cos(x)$，圖檔名為 `xcosx.png`\n",
    "\n",
    "![](../test_images/xcosx.jpg)\n",
    "\n",
    "- 使用 `create_x_cosx_ndarray()` 函數\n",
    "- 使用 `plt.subplots()` 函數。\n",
    "- 使用 `AxesSubplot.plot()`\n",
    "- 使用 `fig.savefig()`"
   ]
  },
  {
   "cell_type": "code",
   "execution_count": null,
   "metadata": {},
   "outputs": [],
   "source": [
    "def export_x_cosx_png() -> None:\n",
    "    \"\"\"\n",
    "    >>> export_x_cosx_png()\n",
    "    >>> im = Image.open(\"xcosx.png\")\n",
    "    >>> im.format\n",
    "    'PNG'\n",
    "    \"\"\"\n",
    "    ### BEGIN SOLUTION\n",
    "    x, cosx = create_x_cosx_ndarray()\n",
    "    fig, ax = plt.subplots()\n",
    "    ax.plot(x, cosx)\n",
    "    fig.savefig(\"xcosx.png\")\n",
    "    ### END SOLUTION"
   ]
  },
  {
   "cell_type": "markdown",
   "metadata": {},
   "source": [
    "## 94. 輸出 $x$ 與 $cos(x)$ 線圖 `xcosx.jpg`\n",
    "\n",
    "定義函數 `export_x_cosx_jpg()` 能夠輸出介於 $0.5\\pi$ 與 $2.5\\pi$ 的 $x$ 與其對應的 $cos(x)$，圖檔名為 `xcosx.jpg`\n",
    "\n",
    "![](../test_images/xcosx.jpg)\n",
    "\n",
    "- 使用 `create_x_cosx_ndarray()` 函數\n",
    "- 使用 `plt.subplots()` 函數。\n",
    "- 使用 `AxesSubplot.plot()`\n",
    "- 使用 `fig.savefig()`"
   ]
  },
  {
   "cell_type": "code",
   "execution_count": null,
   "metadata": {},
   "outputs": [],
   "source": [
    "def export_x_cosx_jpg() -> None:\n",
    "    \"\"\"\n",
    "    >>> export_x_cosx_jpg()\n",
    "    >>> im = Image.open(\"xcosx.jpg\")\n",
    "    >>> im.format\n",
    "    'JPEG'\n",
    "    \"\"\"\n",
    "    ### BEGIN SOLUTION\n",
    "    x, cosx = create_x_cosx_ndarray()\n",
    "    fig, ax = plt.subplots()\n",
    "    ax.plot(x, cosx)\n",
    "    fig.savefig(\"xcosx.jpg\")\n",
    "    ### END SOLUTION"
   ]
  },
  {
   "cell_type": "markdown",
   "metadata": {},
   "source": [
    "## 95. 建立 $x$ 與 $tan(x)$\n",
    "\n",
    "定義函數 `create_x_tanx_ndarray()` 能夠回傳長度 10000、介於 $0.5\\pi$ 與 $1.5\\pi$ 的 $x$ 與其對應的 $tan(x)$\n",
    "\n",
    "- 使用 `np.pi` 常數。\n",
    "- 使用 `np.linspace()` 函數。\n",
    "- 使用 `np.tan()` 函數。\n",
    "- 將預期輸出寫在 `return` 之後。"
   ]
  },
  {
   "cell_type": "code",
   "execution_count": null,
   "metadata": {},
   "outputs": [],
   "source": [
    "def create_x_tanx_ndarray() -> tuple:\n",
    "    \"\"\"\n",
    "    >>> x, tanx = create_x_tanx_ndarray()\n",
    "    >>> type(x)\n",
    "    numpy.ndarray\n",
    "    >>> type(tanx)\n",
    "    numpy.ndarray\n",
    "    >>> x.size\n",
    "    10000\n",
    "    >>> tanx.size\n",
    "    10000\n",
    "    \"\"\"\n",
    "    ### BEGIN SOLUTION\n",
    "    x = np.linspace(0.5*np.pi, 1.5*np.pi, 10000)\n",
    "    tanx = np.tan(x)\n",
    "    return x, tanx\n",
    "    ### END SOLUTION"
   ]
  },
  {
   "cell_type": "markdown",
   "metadata": {},
   "source": [
    "## 96. 加減微小值調整 $x$ 與 $tan(x)$\n",
    "\n",
    "定義函數 `create_adjusted_x_tanx_ndarray()` 能夠回傳長度 10000、介於 $0.5\\pi + epsilon$ 與 $1.5\\pi - epsilon$ 的 $x$ 與其對應的 $tan(x)$，其中 $epsilon=10^{-6}$\n",
    "\n",
    "- 使用 `np.pi` 常數。\n",
    "- 使用 `np.linspace()` 函數。\n",
    "- 使用 `np.tan()` 函數。\n",
    "- 將預期輸出寫在 `return` 之後。"
   ]
  },
  {
   "cell_type": "code",
   "execution_count": null,
   "metadata": {},
   "outputs": [],
   "source": [
    "def create_adjusted_x_tanx_ndarray() -> tuple:\n",
    "    \"\"\"\n",
    "    >>> adjusted_x, adjusted_tanx = create_adjusted_x_tanx_ndarray()\n",
    "    >>> type(adjusted_x)\n",
    "    numpy.ndarray\n",
    "    >>> type(adjusted_tanx)\n",
    "    numpy.ndarray\n",
    "    >>> adjusted_x.size\n",
    "    10000\n",
    "    >>> adjusted_tanx.size\n",
    "    10000\n",
    "    >>> adjusted_x[0] > 0.5 * np.pi\n",
    "    True\n",
    "    >>> adjusted_x[-1] < 1.5 * np.pi\n",
    "    True\n",
    "    \"\"\"\n",
    "    ### BEGIN SOLUTION\n",
    "    epsilon=1e-6\n",
    "    x = np.linspace(0.5*np.pi + epsilon, 1.5*np.pi - epsilon, 10000)\n",
    "    tanx = np.tan(x)\n",
    "    return x, tanx\n",
    "    ### END SOLUTION"
   ]
  },
  {
   "cell_type": "markdown",
   "metadata": {},
   "source": [
    "## 97. 輸出 $x$ 與 $tan(x)$ 線圖 `xtanx.png`\n",
    "\n",
    "定義函數 `export_x_tanx_png()` 能夠輸出介於 $0.5\\pi + epsilon$ 與 $1.5\\pi - epsilon$ 的 $x$ 與其對應的 $tan(x)$，其中 $epsilon=10^{-6}$，圖檔名為 `xtanx.png`\n",
    "\n",
    "![](../test_images/xtanx.jpg)\n",
    "\n",
    "- 使用 `create_adjusted_x_tanx_ndarray()` 函數\n",
    "- 使用 `plt.subplots()` 函數。\n",
    "- 使用 `AxesSubplot.plot()`\n",
    "- 使用 `fig.savefig()`"
   ]
  },
  {
   "cell_type": "code",
   "execution_count": null,
   "metadata": {},
   "outputs": [],
   "source": [
    "def export_x_tanx_png() -> None:\n",
    "    \"\"\"\n",
    "    >>> export_x_tanx_png()\n",
    "    >>> im = Image.open(\"xtanx.png\")\n",
    "    >>> im.format\n",
    "    'PNG'\n",
    "    \"\"\"\n",
    "    ### BEGIN SOLUTION\n",
    "    x, tanx = create_adjusted_x_tanx_ndarray()\n",
    "    fig, ax = plt.subplots()\n",
    "    ax.plot(x, tanx)\n",
    "    fig.savefig(\"xtanx.png\")\n",
    "    ### END SOLUTION"
   ]
  },
  {
   "cell_type": "markdown",
   "metadata": {},
   "source": [
    "## 98. 輸出 $x$ 與 $tan(x)$ 線圖 `xtanx.jpg`\n",
    "\n",
    "定義函數 `export_x_tanx_png()` 能夠輸出介於 $0.5\\pi + epsilon$ 與 $1.5\\pi - epsilon$ 的 $x$ 與其對應的 $tan(x)$，其中 $epsilon=10^{-6}$，圖檔名為 `xtanx.jpg`\n",
    "\n",
    "![](../test_images/xtanx.jpg)\n",
    "\n",
    "- 使用 `create_adjusted_x_tanx_ndarray()` 函數\n",
    "- 使用 `plt.subplots()` 函數。\n",
    "- 使用 `AxesSubplot.plot()`\n",
    "- 使用 `fig.savefig()`"
   ]
  },
  {
   "cell_type": "code",
   "execution_count": null,
   "metadata": {},
   "outputs": [],
   "source": [
    "def export_x_tanx_jpg() -> None:\n",
    "    \"\"\"\n",
    "    >>> export_x_tanx_jpg()\n",
    "    >>> im = Image.open(\"xtanx.jpg\")\n",
    "    >>> im.format\n",
    "    'JPEG'\n",
    "    \"\"\"\n",
    "    ### BEGIN SOLUTION\n",
    "    x, tanx = create_adjusted_x_tanx_ndarray()\n",
    "    fig, ax = plt.subplots()\n",
    "    ax.plot(x, tanx)\n",
    "    fig.savefig(\"xtanx.jpg\")\n",
    "    ### END SOLUTION"
   ]
  },
  {
   "cell_type": "markdown",
   "metadata": {},
   "source": [
    "## 99. 加入標題\n",
    "\n",
    "定義函數 `export_x_tanx_png_with_title()` 能夠輸出介於 $0.5\\pi + epsilon$ 與 $1.5\\pi - epsilon$ 的 $x$ 與其對應的 $tan(x)$，其中 $epsilon=10^{-6}$，並且加上圖表標題，圖檔名為 `xtanx_with_title.png`\n",
    "\n",
    "![](../test_images/xtanx_with_title.png)\n",
    "\n",
    "- 使用 `create_adjusted_x_tanx_ndarray()` 函數\n",
    "- 使用 `plt.subplots()` 函數。\n",
    "- 使用 `AxesSubplot.plot()` 函數。\n",
    "- 使用 `AxesSubplot.set_title()`\n",
    "- 使用 `fig.savefig()`"
   ]
  },
  {
   "cell_type": "code",
   "execution_count": null,
   "metadata": {},
   "outputs": [],
   "source": [
    "def export_x_tanx_png_with_title() -> None:\n",
    "    \"\"\"\n",
    "    >>> export_x_tanx_png_with_title()\n",
    "    >>> im = Image.open(\"xtanx_with_title.png\")\n",
    "    >>> im.format\n",
    "    'PNG'\n",
    "    \"\"\"\n",
    "    ### BEGIN SOLUTION\n",
    "    x, tanx = create_adjusted_x_tanx_ndarray()\n",
    "    fig, ax = plt.subplots()\n",
    "    ax.plot(x, tanx)\n",
    "    ax.set_title(\"tan(x)\")\n",
    "    fig.savefig(\"xtanx_with_title.png\")\n",
    "    ### END SOLUTION"
   ]
  },
  {
   "cell_type": "markdown",
   "metadata": {},
   "source": [
    "## 100. 調整 y 軸上下界\n",
    "\n",
    "定義函數 `export_x_tanx_png_final()` 能夠輸出介於 $0.5\\pi + epsilon$ 與 $1.5\\pi - epsilon$ 的 $x$ 與其對應的 $tan(x)$，其中 $epsilon=10^{-6}$，並且加上圖表標題、調整 y 軸上下限為 $[-5, 5]$，圖檔名為 `xtanx_final.png`\n",
    "\n",
    "![](../test_images/xtanx_final.png)\n",
    "\n",
    "- 使用 `create_adjusted_x_tanx_ndarray()` 函數\n",
    "- 使用 `plt.subplots()` 函數。\n",
    "- 使用 `AxesSubplot.plot()`\n",
    "- 使用 `AxesSubplot.set_title()`\n",
    "- 使用 `AxesSubplot.set_ylim()`\n",
    "- 使用 `fig.savefig()`"
   ]
  },
  {
   "cell_type": "code",
   "execution_count": null,
   "metadata": {},
   "outputs": [],
   "source": [
    "def export_x_tanx_png_final() -> None:\n",
    "    \"\"\"\n",
    "    >>> export_x_tanx_png_final()\n",
    "    >>> im = Image.open(\"xtanx_final.png\")\n",
    "    >>> im.format\n",
    "    'PNG'\n",
    "    \"\"\"\n",
    "    ### BEGIN SOLUTION\n",
    "    x, tanx = create_adjusted_x_tanx_ndarray()\n",
    "    fig, ax = plt.subplots()\n",
    "    ax.plot(x, tanx)\n",
    "    ax.set_title(\"tan(x)\")\n",
    "    ax.set_ylim(-5, 5)\n",
    "    fig.savefig(\"xtanx_final.png\")\n",
    "    ### END SOLUTION"
   ]
  }
 ],
 "metadata": {
  "kernelspec": {
   "display_name": "Python Fifty Plus",
   "language": "python",
   "name": "pythonfiftyplus"
  },
  "language_info": {
   "codemirror_mode": {
    "name": "ipython",
    "version": 3
   },
   "file_extension": ".py",
   "mimetype": "text/x-python",
   "name": "python",
   "nbconvert_exporter": "python",
   "pygments_lexer": "ipython3",
   "version": "3.9.7"
  }
 },
 "nbformat": 4,
 "nbformat_minor": 4
}
