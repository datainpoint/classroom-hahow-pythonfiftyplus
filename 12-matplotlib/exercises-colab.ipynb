{
 "cells": [
  {
   "cell_type": "markdown",
   "metadata": {
    "deletable": false
   },
   "source": [
    "# Python 的 50+ 練習：資料科學學習手冊\n",
    "\n",
    "> 資料科學模組 Matplotlib 入門\n",
    "\n",
    "[數據交點](https://www.datainpoint.com) | 郭耀仁 <yaojenkuo@datainpoint.com>"
   ]
  },
  {
   "cell_type": "markdown",
   "metadata": {
    "deletable": false
   },
   "source": [
    "## 練習題指引\n",
    "\n",
    "- 由於近期 mybinder.org 的服務不穩定，新增 Google Colab 作為另一個寫作練習題的平台。\n",
    "- 開始寫作之前，可以先按上方「Copy to Drive」按鈕將筆記本複製到自己的 Google 雲端硬碟。\n",
    "- 練習題閒置超過 10 分鐘會自動斷線，只要重新點選練習題連結即可重新啟動。\n",
    "- 第一個程式碼儲存格會將可能用得到的模組載入。\n",
    "- 如果練習題需要載入檔案，檔案存放絕對路徑為 `/content`\n",
    "- 練習題已經給定函數、類別、預期輸入或參數名稱，我們只需要寫作程式區塊。同時也給定函數的類別提示，說明預期輸入以及預期輸出的類別。\n",
    "- 說明（Docstring）會描述測試如何進行，閱讀說明能夠暸解預期輸入以及預期輸出之間的關係，幫助我們更快解題。\n",
    "- 請在 `### BEGIN SOLUTION` 與 `### END SOLUTION` 這兩個註解之間寫作函數或者類別的程式區塊。\n",
    "- 將預期輸出放置在 `return` 保留字之後，若只是用 `print()` 函數將預期輸出印出無法通過測試。\n",
    "- 語法錯誤（`SyntaxError`）或縮排錯誤（`IndentationError`）等將會導致測試失效，測試之前應該先在筆記本使用函數觀察是否與說明（Docstring）描述的功能相符。\n",
    "- 如果卡關，可以先看練習題詳解或者複習課程單元影片之後再繼續寫作。\n",
    "- 執行測試的步驟：\n",
    "    1. 點選右上角 Connect\n",
    "    2. 點選上方選單的 Runtime -> Restart and run all -> Yes -> Run anyway\n",
    "    3. 移動到 Google Colab 的最後一個儲存格看批改測試結果。"
   ]
  },
  {
   "cell_type": "code",
   "execution_count": null,
   "metadata": {},
   "outputs": [],
   "source": [
    "import numpy as np\n",
    "import matplotlib as mpl\n",
    "import matplotlib.pyplot as plt\n",
    "from PIL import Image"
   ]
  },
  {
   "cell_type": "markdown",
   "metadata": {},
   "source": [
    "## 091. 建立 $x$ 與 $cos(x)$\n",
    "\n",
    "定義函數 `create_x_cosx_ndarray()` 能夠回傳長度 100、介於 $0.5\\pi$ 與 $2.5\\pi$ 的 $x$ 與其對應的 $cos(x)$\n",
    "\n",
    "- 使用 `np.pi` 常數。\n",
    "- 使用 `np.linspace()` 函數。\n",
    "- 使用 `np.cos()` 函數。\n",
    "- 將預期輸出寫在 `return` 之後。"
   ]
  },
  {
   "cell_type": "code",
   "execution_count": null,
   "metadata": {},
   "outputs": [],
   "source": [
    "def create_x_cosx_ndarray() -> tuple:\n",
    "    \"\"\"\n",
    "    >>> x, cosx = create_x_cosx_ndarray()\n",
    "    >>> type(x)\n",
    "    numpy.ndarray\n",
    "    >>> type(cosx)\n",
    "    numpy.ndarray\n",
    "    >>> x.size\n",
    "    100\n",
    "    >>> cosx.size\n",
    "    100\n",
    "    \"\"\"\n",
    "    ### BEGIN SOLUTION\n",
    "    \n",
    "    ### END SOLUTION"
   ]
  },
  {
   "cell_type": "markdown",
   "metadata": {},
   "source": [
    "## 092. 建立畫布與軸\n",
    "\n",
    "定義函數 `create_figure_and_axes_subplot()` 能夠回傳 `Figure` 與 `AxesSubplot`\n",
    "\n",
    "- 使用 `plt.subplots()` 函數。\n",
    "- 將預期輸出寫在 `return` 之後。"
   ]
  },
  {
   "cell_type": "code",
   "execution_count": null,
   "metadata": {},
   "outputs": [],
   "source": [
    "def create_figure_and_axes_subplot() -> tuple:\n",
    "    \"\"\"\n",
    "    >>> fig, ax = create_figure_and_axes_subplot()\n",
    "    >>> type(fig)\n",
    "    matplotlib.figure.Figure\n",
    "    \"\"\"\n",
    "    ### BEGIN SOLUTION\n",
    "    \n",
    "    ### END SOLUTION"
   ]
  },
  {
   "cell_type": "markdown",
   "metadata": {},
   "source": [
    "## 093. 輸出 $x$ 與 $cos(x)$ 線圖 `xcosx.png`\n",
    "\n",
    "定義函數 `export_x_cosx_png()` 能夠輸出介於 $0.5\\pi$ 與 $2.5\\pi$ 的 $x$ 與其對應的 $cos(x)$，圖檔名為 `xcosx.png`\n",
    "\n",
    "![](https://raw.githubusercontent.com/datainpoint/classroom-hahow-pythonfiftyplus/main/test-images/xcosx.jpg)\n",
    "\n",
    "- 使用 `create_x_cosx_ndarray()` 函數\n",
    "- 使用 `plt.subplots()` 函數。\n",
    "- 使用 `AxesSubplot.plot()`\n",
    "- 使用 `fig.savefig()`"
   ]
  },
  {
   "cell_type": "code",
   "execution_count": null,
   "metadata": {},
   "outputs": [],
   "source": [
    "def export_x_cosx_png() -> None:\n",
    "    \"\"\"\n",
    "    >>> export_x_cosx_png()\n",
    "    >>> im = Image.open(\"xcosx.png\")\n",
    "    >>> im.format\n",
    "    'PNG'\n",
    "    \"\"\"\n",
    "    ### BEGIN SOLUTION\n",
    "    \n",
    "    ### END SOLUTION"
   ]
  },
  {
   "cell_type": "markdown",
   "metadata": {},
   "source": [
    "## 094. 輸出 $x$ 與 $cos(x)$ 線圖 `xcosx.jpg`\n",
    "\n",
    "定義函數 `export_x_cosx_jpg()` 能夠輸出介於 $0.5\\pi$ 與 $2.5\\pi$ 的 $x$ 與其對應的 $cos(x)$，圖檔名為 `xcosx.jpg`\n",
    "\n",
    "![](https://raw.githubusercontent.com/datainpoint/classroom-hahow-pythonfiftyplus/main/test-images/xcosx.jpg)\n",
    "\n",
    "- 使用 `create_x_cosx_ndarray()` 函數\n",
    "- 使用 `plt.subplots()` 函數。\n",
    "- 使用 `AxesSubplot.plot()`\n",
    "- 使用 `fig.savefig()`"
   ]
  },
  {
   "cell_type": "code",
   "execution_count": null,
   "metadata": {},
   "outputs": [],
   "source": [
    "def export_x_cosx_jpg() -> None:\n",
    "    \"\"\"\n",
    "    >>> export_x_cosx_jpg()\n",
    "    >>> im = Image.open(\"xcosx.jpg\")\n",
    "    >>> im.format\n",
    "    'JPEG'\n",
    "    \"\"\"\n",
    "    ### BEGIN SOLUTION\n",
    "    \n",
    "    ### END SOLUTION"
   ]
  },
  {
   "cell_type": "markdown",
   "metadata": {},
   "source": [
    "## 095. 建立 $x$ 與 $tan(x)$\n",
    "\n",
    "定義函數 `create_x_tanx_ndarray()` 能夠回傳長度 10000、介於 $0.5\\pi$ 與 $1.5\\pi$ 的 $x$ 與其對應的 $tan(x)$\n",
    "\n",
    "- 使用 `np.pi` 常數。\n",
    "- 使用 `np.linspace()` 函數。\n",
    "- 使用 `np.tan()` 函數。\n",
    "- 將預期輸出寫在 `return` 之後。"
   ]
  },
  {
   "cell_type": "code",
   "execution_count": null,
   "metadata": {},
   "outputs": [],
   "source": [
    "def create_x_tanx_ndarray() -> tuple:\n",
    "    \"\"\"\n",
    "    >>> x, tanx = create_x_tanx_ndarray()\n",
    "    >>> type(x)\n",
    "    numpy.ndarray\n",
    "    >>> type(tanx)\n",
    "    numpy.ndarray\n",
    "    >>> x.size\n",
    "    10000\n",
    "    >>> tanx.size\n",
    "    10000\n",
    "    \"\"\"\n",
    "    ### BEGIN SOLUTION\n",
    "    \n",
    "    ### END SOLUTION"
   ]
  },
  {
   "cell_type": "markdown",
   "metadata": {},
   "source": [
    "## 096. 加減微小值調整 $x$ 與 $tan(x)$\n",
    "\n",
    "定義函數 `create_adjusted_x_tanx_ndarray()` 能夠回傳長度 10000、介於 $0.5\\pi + epsilon$ 與 $1.5\\pi - epsilon$ 的 $x$ 與其對應的 $tan(x)$，其中 $epsilon=10^{-6}$\n",
    "\n",
    "- 使用 `np.pi` 常數。\n",
    "- 使用 `np.linspace()` 函數。\n",
    "- 使用 `np.tan()` 函數。\n",
    "- 將預期輸出寫在 `return` 之後。"
   ]
  },
  {
   "cell_type": "code",
   "execution_count": null,
   "metadata": {},
   "outputs": [],
   "source": [
    "def create_adjusted_x_tanx_ndarray() -> tuple:\n",
    "    \"\"\"\n",
    "    >>> adjusted_x, adjusted_tanx = create_adjusted_x_tanx_ndarray()\n",
    "    >>> type(adjusted_x)\n",
    "    numpy.ndarray\n",
    "    >>> type(adjusted_tanx)\n",
    "    numpy.ndarray\n",
    "    >>> adjusted_x.size\n",
    "    10000\n",
    "    >>> adjusted_tanx.size\n",
    "    10000\n",
    "    >>> adjusted_x[0] > 0.5 * np.pi\n",
    "    True\n",
    "    >>> adjusted_x[-1] < 1.5 * np.pi\n",
    "    True\n",
    "    \"\"\"\n",
    "    ### BEGIN SOLUTION\n",
    "    \n",
    "    ### END SOLUTION"
   ]
  },
  {
   "cell_type": "markdown",
   "metadata": {},
   "source": [
    "## 097. 輸出 $x$ 與 $tan(x)$ 線圖 `xtanx.png`\n",
    "\n",
    "定義函數 `export_x_tanx_png()` 能夠輸出介於 $0.5\\pi + epsilon$ 與 $1.5\\pi - epsilon$ 的 $x$ 與其對應的 $tan(x)$，其中 $epsilon=10^{-6}$，圖檔名為 `xtanx.png`\n",
    "\n",
    "![](https://raw.githubusercontent.com/datainpoint/classroom-hahow-pythonfiftyplus/main/test-images/xtanx.jpg)\n",
    "\n",
    "- 使用 `create_adjusted_x_tanx_ndarray()` 函數\n",
    "- 使用 `plt.subplots()` 函數。\n",
    "- 使用 `AxesSubplot.plot()`\n",
    "- 使用 `fig.savefig()`"
   ]
  },
  {
   "cell_type": "code",
   "execution_count": null,
   "metadata": {},
   "outputs": [],
   "source": [
    "def export_x_tanx_png() -> None:\n",
    "    \"\"\"\n",
    "    >>> export_x_tanx_png()\n",
    "    >>> im = Image.open(\"xtanx.png\")\n",
    "    >>> im.format\n",
    "    'PNG'\n",
    "    \"\"\"\n",
    "    ### BEGIN SOLUTION\n",
    "    \n",
    "    ### END SOLUTION"
   ]
  },
  {
   "cell_type": "markdown",
   "metadata": {},
   "source": [
    "## 098. 輸出 $x$ 與 $tan(x)$ 線圖 `xtanx.jpg`\n",
    "\n",
    "定義函數 `export_x_tanx_png()` 能夠輸出介於 $0.5\\pi + epsilon$ 與 $1.5\\pi - epsilon$ 的 $x$ 與其對應的 $tan(x)$，其中 $epsilon=10^{-6}$，圖檔名為 `xtanx.jpg`\n",
    "\n",
    "![](https://raw.githubusercontent.com/datainpoint/classroom-hahow-pythonfiftyplus/main/test-images/xtanx.jpg)\n",
    "\n",
    "- 使用 `create_adjusted_x_tanx_ndarray()` 函數\n",
    "- 使用 `plt.subplots()` 函數。\n",
    "- 使用 `AxesSubplot.plot()`\n",
    "- 使用 `fig.savefig()`"
   ]
  },
  {
   "cell_type": "code",
   "execution_count": null,
   "metadata": {},
   "outputs": [],
   "source": [
    "def export_x_tanx_jpg() -> None:\n",
    "    \"\"\"\n",
    "    >>> export_x_tanx_jpg()\n",
    "    >>> im = Image.open(\"xtanx.jpg\")\n",
    "    >>> im.format\n",
    "    'JPEG'\n",
    "    \"\"\"\n",
    "    ### BEGIN SOLUTION\n",
    "    \n",
    "    ### END SOLUTION"
   ]
  },
  {
   "cell_type": "markdown",
   "metadata": {},
   "source": [
    "## 099. 加入標題\n",
    "\n",
    "定義函數 `export_x_tanx_png_with_title()` 能夠輸出介於 $0.5\\pi + epsilon$ 與 $1.5\\pi - epsilon$ 的 $x$ 與其對應的 $tan(x)$，其中 $epsilon=10^{-6}$，並且加上圖表標題，圖檔名為 `xtanx_with_title.png`\n",
    "\n",
    "![](https://raw.githubusercontent.com/datainpoint/classroom-hahow-pythonfiftyplus/main/test-images/xtanx_with_title.png)\n",
    "\n",
    "- 使用 `create_adjusted_x_tanx_ndarray()` 函數\n",
    "- 使用 `plt.subplots()` 函數。\n",
    "- 使用 `AxesSubplot.plot()` 函數。\n",
    "- 使用 `AxesSubplot.set_title()`\n",
    "- 使用 `fig.savefig()`"
   ]
  },
  {
   "cell_type": "code",
   "execution_count": null,
   "metadata": {},
   "outputs": [],
   "source": [
    "def export_x_tanx_png_with_title() -> None:\n",
    "    \"\"\"\n",
    "    >>> export_x_tanx_png_with_title()\n",
    "    >>> im = Image.open(\"xtanx_with_title.png\")\n",
    "    >>> im.format\n",
    "    'PNG'\n",
    "    \"\"\"\n",
    "    ### BEGIN SOLUTION\n",
    "    \n",
    "    ### END SOLUTION"
   ]
  },
  {
   "cell_type": "markdown",
   "metadata": {},
   "source": [
    "## 100. 調整 y 軸上下限\n",
    "\n",
    "定義函數 `export_x_tanx_png_final()` 能夠輸出介於 $0.5\\pi + epsilon$ 與 $1.5\\pi - epsilon$ 的 $x$ 與其對應的 $tan(x)$，其中 $epsilon=10^{-6}$，並且加上圖表標題、調整 y 軸上下限為 $[-5, 5]$，圖檔名為 `xtanx_final.png`\n",
    "\n",
    "![](https://raw.githubusercontent.com/datainpoint/classroom-hahow-pythonfiftyplus/main/test-images/xtanx_final.png)\n",
    "\n",
    "- 使用 `create_adjusted_x_tanx_ndarray()` 函數\n",
    "- 使用 `plt.subplots()` 函數。\n",
    "- 使用 `AxesSubplot.plot()`\n",
    "- 使用 `AxesSubplot.set_title()`\n",
    "- 使用 `AxesSubplot.set_ylim()`\n",
    "- 使用 `fig.savefig()`"
   ]
  },
  {
   "cell_type": "code",
   "execution_count": null,
   "metadata": {},
   "outputs": [],
   "source": [
    "def export_x_tanx_png_final() -> None:\n",
    "    \"\"\"\n",
    "    >>> export_x_tanx_png_final()\n",
    "    >>> im = Image.open(\"xtanx_final.png\")\n",
    "    >>> im.format\n",
    "    'PNG'\n",
    "    \"\"\"\n",
    "    ### BEGIN SOLUTION\n",
    "    \n",
    "    ### END SOLUTION"
   ]
  },
  {
   "cell_type": "markdown",
   "metadata": {},
   "source": [
    "## 練習題到此結束，以下的儲存格可以忽略"
   ]
  },
  {
   "cell_type": "code",
   "execution_count": null,
   "metadata": {},
   "outputs": [],
   "source": [
    "!wget -N https://raw.githubusercontent.com/datainpoint/classroom-hahow-pythonfiftyplus/main/exercise_index.json"
   ]
  },
  {
   "cell_type": "code",
   "execution_count": null,
   "metadata": {},
   "outputs": [],
   "source": [
    "import unittest\n",
    "import json\n",
    "\n",
    "def run_suite(test_class, chapter_index):\n",
    "    suite = unittest.TestLoader().loadTestsFromTestCase(test_class)\n",
    "    runner = unittest.TextTestRunner(verbosity=2)\n",
    "    test_results = runner.run(suite)\n",
    "    number_of_failures = len(test_results.failures)\n",
    "    number_of_errors = len(test_results.errors)\n",
    "    number_of_test_runs = test_results.testsRun\n",
    "    number_of_successes = number_of_test_runs - (number_of_failures + number_of_errors)\n",
    "    with open(\"exercise_index.json\", \"r\") as f:\n",
    "        exercise_index = json.load(f)\n",
    "    chapter_name = exercise_index[chapter_index][\"chapter_name\"]\n",
    "    number_of_total_questions = 0\n",
    "    number_of_completed_questions = 0\n",
    "    for i in range(len(exercise_index)):\n",
    "        number_of_total_questions += exercise_index[i][\"number_of_exercises\"]\n",
    "        if i < chapter_index:\n",
    "            number_of_completed_questions += exercise_index[i][\"number_of_exercises\"]\n",
    "    number_of_completed_questions += number_of_successes\n",
    "    chapter_percentage = number_of_successes * 100 / number_of_test_runs\n",
    "    overall_percentage = number_of_completed_questions * 100 / number_of_total_questions\n",
    "    print(\"你在「{}」章節的練習題完成率為 ... {:.2f}% ({}/{})\".format(chapter_name, chapter_percentage, number_of_successes, number_of_test_runs))\n",
    "    print(\"整體課程練習題的累計完成率為 ... {:.2f}% ({}/{})\".format(overall_percentage, number_of_completed_questions, number_of_total_questions))\n",
    "    if chapter_percentage == 100 and chapter_index < 19:\n",
    "        print(\"表現得很好，你已經完成「{}」所有習題，我們繼續往下個章節：「{}」前進！\".format(exercise_index[chapter_index][\"chapter_name\"], exercise_index[chapter_index + 1][\"chapter_name\"]))\n",
    "        if chapter_index == 4:\n",
    "            print(\"太棒了，你已經完成「Python 的 50+ 練習」的第一部分：Python 程式設計的基礎觀念，接下來還有三個部分等你來挑戰！\")\n",
    "        elif chapter_index == 8:\n",
    "            print(\"表現得非常好，你已經完成「Python 的 50+ 練習」的第二部分：Python 程式設計的進階觀念，接著讓我們邁向資料科學！\")\n",
    "        elif chapter_index == 12:\n",
    "            print(\"太令人佩服，你已經完成「Python 的 50+ 練習」的第三部分：Python 資料科學的基礎，距離完課只剩下最後一哩路！\")\n",
    "    elif chapter_percentage == 100 and chapter_index == 19:\n",
    "        print(\"恭喜完課，你已經完成「Python 的 50+ 練習」所有習題，能夠堅持到底完成所有的教學影片與練習題真是非常了不起！後面已經沒有練習題了，你現在是一位擅長寫程式處理資料的分析師！\")\n",
    "    elif chapter_percentage >= 50:\n",
    "        print(\"你已經完成「{}」章節一半以上的練習，繼續加油！\".format(chapter_name))\n",
    "\n",
    "class TestMatplotlib(unittest.TestCase):\n",
    "    def test_091_create_x_cosx_ndarray(self):\n",
    "        x, cosx = create_x_cosx_ndarray()\n",
    "        self.assertIsInstance(x, np.ndarray)\n",
    "        self.assertIsInstance(cosx, np.ndarray)\n",
    "        self.assertEqual(x.size, 100)\n",
    "        self.assertEqual(cosx.size, 100)\n",
    "    def test_092_create_figure_and_axes_subplot(self):\n",
    "        fig, ax = create_figure_and_axes_subplot()\n",
    "        self.assertIsInstance(fig, mpl.figure.Figure)\n",
    "    def test_093_export_x_cosx_png(self):\n",
    "        export_x_cosx_png()\n",
    "        im = Image.open(\"xcosx.png\")\n",
    "        self.assertEqual(im.format, 'PNG')\n",
    "        #im_test = Image.open(\"/home/jovyan/test-images/xcosx.png\")\n",
    "        #diff_sum = (np.array(im) - np.array(im_test)).sum()\n",
    "        #self.assertEqual(diff_sum, 0)\n",
    "    def test_094_export_x_cosx_jpg(self):\n",
    "        export_x_cosx_jpg()\n",
    "        im = Image.open(\"xcosx.jpg\")\n",
    "        self.assertEqual(im.format, 'JPEG')\n",
    "        #im_test = Image.open(\"/home/jovyan/test-images/xcosx.jpg\")\n",
    "        #diff_sum = (np.array(im) - np.array(im_test)).sum()\n",
    "        #self.assertEqual(diff_sum, 0)\n",
    "    def test_095_create_x_tanx_ndarray(self):\n",
    "        x, tanx = create_x_tanx_ndarray()\n",
    "        self.assertIsInstance(x, np.ndarray)\n",
    "        self.assertIsInstance(tanx, np.ndarray)\n",
    "        self.assertEqual(x.size, 10000)\n",
    "        self.assertEqual(tanx.size, 10000)\n",
    "    def test_096_create_adjusted_x_tanx_ndarray(self):\n",
    "        adjusted_x, adjusted_tanx = create_adjusted_x_tanx_ndarray()\n",
    "        self.assertIsInstance(adjusted_x, np.ndarray)\n",
    "        self.assertIsInstance(adjusted_tanx, np.ndarray)\n",
    "        self.assertEqual(adjusted_x.size, 10000)\n",
    "        self.assertEqual(adjusted_tanx.size, 10000)\n",
    "        self.assertTrue(adjusted_x[0] > 0.5 * np.pi)\n",
    "        self.assertTrue(adjusted_x[-1] < 1.5 * np.pi)\n",
    "    def test_097_export_x_tanx_png(self):\n",
    "        export_x_tanx_png()\n",
    "        im = Image.open(\"xtanx.png\")\n",
    "        self.assertEqual(im.format, 'PNG')\n",
    "        #im_test = Image.open(\"/home/jovyan/test-images/xtanx.png\")\n",
    "        #diff_sum = (np.array(im) - np.array(im_test)).sum()\n",
    "        #self.assertEqual(diff_sum, 0)\n",
    "    def test_098_export_x_tanx_jpg(self):\n",
    "        export_x_tanx_jpg()\n",
    "        im = Image.open(\"xtanx.jpg\")\n",
    "        self.assertEqual(im.format, 'JPEG')\n",
    "        #im_test = Image.open(\"/home/jovyan/test-images/xtanx.jpg\")\n",
    "        #diff_sum = (np.array(im) - np.array(im_test)).sum()\n",
    "        #self.assertEqual(diff_sum, 0)\n",
    "    def test_099_export_x_tanx_png_with_title(self):\n",
    "        export_x_tanx_png_with_title()\n",
    "        im = Image.open(\"xtanx_with_title.png\")\n",
    "        self.assertEqual(im.format, 'PNG')\n",
    "        #im_test = Image.open(\"/home/jovyan/test-images/xtanx_with_title.png\")\n",
    "        #diff_sum = (np.array(im) - np.array(im_test)).sum()\n",
    "        #self.assertEqual(diff_sum, 0)\n",
    "    def test_100_export_x_tanx_png_final(self):\n",
    "        export_x_tanx_png_final()\n",
    "        im = Image.open(\"xtanx_final.png\")\n",
    "        self.assertEqual(im.format, 'PNG')\n",
    "        #im_test = Image.open(\"/home/jovyan/test-images/xtanx_final.png\")\n",
    "        #diff_sum = (np.array(im) - np.array(im_test)).sum()\n",
    "        #self.assertEqual(diff_sum, 0)\n",
    "\n",
    "run_suite(TestMatplotlib, 11)"
   ]
  }
 ],
 "metadata": {
  "kernelspec": {
   "display_name": "Python Fifty Plus",
   "language": "python",
   "name": "pythonfiftyplus"
  },
  "language_info": {
   "codemirror_mode": {
    "name": "ipython",
    "version": 3
   },
   "file_extension": ".py",
   "mimetype": "text/x-python",
   "name": "python",
   "nbconvert_exporter": "python",
   "pygments_lexer": "ipython3",
   "version": "3.9.7"
  }
 },
 "nbformat": 4,
 "nbformat_minor": 4
}
