{
 "cells": [
  {
   "cell_type": "markdown",
   "id": "heated-welding",
   "metadata": {
    "deletable": false
   },
   "source": [
    "# Python 的 50+ 練習：資料科學學習手冊\n",
    "\n",
    "> 使用流程控制管理程式區塊的執行\n",
    "\n",
    "[數據交點](https://www.datainpoint.com) | 郭耀仁 <yaojenkuo@datainpoint.com>"
   ]
  },
  {
   "cell_type": "markdown",
   "id": "fleet-tokyo",
   "metadata": {
    "deletable": false
   },
   "source": [
    "## 練習題指引\n",
    "\n",
    "- 練習題閒置超過 10 分鐘會自動斷線，只要重新點選練習題連結即可重新啟動。\n",
    "- 第一個程式碼儲存格會將可能用得到的模組載入。\n",
    "- 如果練習題需要載入檔案，檔案存放絕對路徑為 `/home/jovyan/data`，相對路徑為 `../data`\n",
    "- 練習題已經給定函數、類別、預期輸入或參數名稱，我們只需要寫作程式區塊。同時也給定函數的類別提示，說明預期輸入以及預期輸出的類別。\n",
    "- 說明（Docstring）會描述測試如何進行，閱讀說明能夠暸解預期輸入以及預期輸出之間的關係，幫助我們更快解題。\n",
    "- 請在 `### BEGIN SOLUTION` 與 `### END SOLUTION` 這兩個註解之間寫作函數或者類別的程式區塊。\n",
    "- 將預期輸出放置在 `return` 保留字之後，若只是用 `print()` 函數將預期輸出印出無法通過測試。\n",
    "- 語法錯誤（`SyntaxError`）或縮排錯誤（`IndentationError`）等將會導致測試失效，測試之前應該先在筆記本使用函數觀察是否與說明（Docstring）描述的功能相符。\n",
    "- 如果卡關，可以先看練習題詳解或者複習課程單元影片之後再繼續寫作。\n",
    "- 執行測試的步驟：\n",
    "    1. 點選上方選單的 File -> Save Notebook 儲存 exercises.ipynb。\n",
    "    2. 點選上方選單的 File -> New -> Terminal 開啟終端機。\n",
    "    3. 在 Terminal 輸入 `python 04-control-flows/test_runner.py` 後按下 Enter 執行測試。"
   ]
  },
  {
   "cell_type": "markdown",
   "id": "typical-impact",
   "metadata": {},
   "source": [
    "## 026. 判斷 BMI 分類\n",
    "\n",
    "定義函數 `find_bmi_category()` 能夠將輸入 BMI 值所對應的分類以文字輸出。\n",
    "\n",
    "|BMI|Category|\n",
    "|---|--------|\n",
    "|BMI < 18.5|Underweight|\n",
    "|18.5 <= BMI < 25|Normal weight|\n",
    "|25 <= BMI  < 30|Overweight|\n",
    "|BMI >= 30|Obese|\n",
    "\n",
    "來源：<https://en.wikipedia.org/wiki/Body_mass_index>\n",
    "\n",
    "- 運用條件敘述。\n",
    "- 將預期輸出寫在 `return` 之後。"
   ]
  },
  {
   "cell_type": "code",
   "execution_count": null,
   "id": "economic-blast",
   "metadata": {},
   "outputs": [],
   "source": [
    "def find_bmi_category(bmi: float) -> str:\n",
    "    \"\"\"\n",
    "    >>> find_bmi_category(32.90) # Zion Williamson, professional basketball player\n",
    "    'Obese'\n",
    "    >>> find_bmi_category(26.63) # LeBron James, professional basketball player\n",
    "    'Overweight'\n",
    "    >>> find_bmi_category(24.83) # Roger Federer, professional tennis player\n",
    "    'Normal weight'\n",
    "    >>> find_bmi_category(17.58) # Suguru Osako, professional marathon runner \n",
    "    'Underweight'\n",
    "    \"\"\"\n",
    "    ### BEGIN SOLUTION\n",
    "    \n",
    "    ### END SOLUTION"
   ]
  },
  {
   "cell_type": "markdown",
   "id": "north-undergraduate",
   "metadata": {},
   "source": [
    "## 027. 判斷資料類別\n",
    "\n",
    "定義函數 `check_data_type()` 能夠將輸入的資料類別以 `str` 輸出。\n",
    "\n",
    "- 運用 `type()` 函數判斷資料類別。\n",
    "- 運用條件敘述。\n",
    "- 將預期輸出寫在 `return` 之後。"
   ]
  },
  {
   "cell_type": "code",
   "execution_count": null,
   "id": "authorized-algorithm",
   "metadata": {},
   "outputs": [],
   "source": [
    "def check_data_type(x) -> str:\n",
    "    \"\"\"\n",
    "    >>> check_data_type(0)\n",
    "    'int'\n",
    "    >>> check_data_type(1.0)\n",
    "    'float'\n",
    "    >>> check_data_type(False)\n",
    "    'bool'\n",
    "    >>> check_data_type(True)\n",
    "    'bool'\n",
    "    >>> check_data_type('5566')\n",
    "    'str'\n",
    "    >>> check_data_type(None)\n",
    "    'NoneType'\n",
    "    \"\"\"\n",
    "    ### BEGIN SOLUTION\n",
    "    \n",
    "    ### END SOLUTION"
   ]
  },
  {
   "cell_type": "markdown",
   "id": "essential-server",
   "metadata": {},
   "source": [
    "## 028. 判斷資料結構類別\n",
    "\n",
    "定義函數 `check_data_structure_type()` 能夠將輸入的資料類別以 `str` 輸出。\n",
    "\n",
    "- 運用 `type()` 函數判斷資料結構類別。\n",
    "- 運用條件敘述。\n",
    "- 將預期輸出寫在 `return` 之後。"
   ]
  },
  {
   "cell_type": "code",
   "execution_count": null,
   "id": "expired-resort",
   "metadata": {},
   "outputs": [],
   "source": [
    "def check_data_structure_type(x) -> str:\n",
    "    \"\"\"\n",
    "    >>> check_data_structure_type([5, 5, 6, 6])\n",
    "    'list'\n",
    "    >>> check_data_structure_type((5, 5, 6, 6))\n",
    "    'tuple'\n",
    "    >>> check_data_structure_type({5, 6})\n",
    "    'set'\n",
    "    >>> check_data_structure_type({'title': 'The Shawshank Redemption', 'year': 1994})\n",
    "    'dict'\n",
    "    \"\"\"\n",
    "    ### BEGIN SOLUTION\n",
    "    \n",
    "    ### END SOLUTION"
   ]
  },
  {
   "cell_type": "markdown",
   "id": "comprehensive-shannon",
   "metadata": {},
   "source": [
    "## 029. 取出中位元素\n",
    "\n",
    "定義函數 `retrieve_middle_elements()` 能夠將輸入 `list` 的中位元素取出（奇數長度取出中間元素、偶數長度取出中間的兩個元素）。\n",
    "\n",
    "- 使用 `len()` 函數得知 `list` 長度。\n",
    "- 運用條件敘述判斷長度為奇數或者偶數。\n",
    "- 運用 Indexing/Slicing\n",
    "- 將預期輸出寫在 `return` 之後。"
   ]
  },
  {
   "cell_type": "code",
   "execution_count": null,
   "id": "wrapped-plymouth",
   "metadata": {},
   "outputs": [],
   "source": [
    "from typing import Union\n",
    "\n",
    "def retrieve_middle_elements(x: list) -> Union[int, tuple]:\n",
    "    \"\"\"\n",
    "    >>> retrieve_middle_elements([2, 3, 5])\n",
    "    3\n",
    "    >>> retrieve_middle_elements([2, 3, 5, 7])\n",
    "    (3, 5)\n",
    "    >>> retrieve_middle_elements([2, 3, 5, 7, 11])\n",
    "    5\n",
    "    >>> retrieve_middle_elements([2, 3, 5, 7, 11, 13])\n",
    "    (5, 7)\n",
    "    \"\"\"\n",
    "    ### BEGIN SOLUTION\n",
    "    \n",
    "    ### END SOLUTION"
   ]
  },
  {
   "cell_type": "markdown",
   "id": "false-somerset",
   "metadata": {},
   "source": [
    "## 030. 計算中位數\n",
    "\n",
    "定義函數 `calculate_median()` 能夠計算輸入 `list` 的中位數。\n",
    "\n",
    "\\begin{equation}\n",
    "Median(x) =\n",
    "  \\begin{cases}\n",
    "    x[\\frac{n-1}{2}]       & \\quad \\text{if } n \\text{ is odd}\\\\\n",
    "    \\frac{x[\\frac{n-2}{2}] + x[\\frac{n}{2}]}{2}  & \\quad \\text{if } n \\text{ is even}\n",
    "  \\end{cases} \\\\\n",
    "\\text{where} \\, x= \\, \\text{ordered list of values in data set} \\\\\n",
    "\\text{where} \\, n= \\, \\text{number of values in data set}\n",
    "\\end{equation}\n",
    "\n",
    "來源：<https://en.wikipedia.org/wiki/Median>\n",
    "\n",
    "- 遞增排序 `list`\n",
    "- 使用 `len()` 函數得知 `list` 長度。\n",
    "- 運用條件敘述判斷長度為奇數或者偶數。\n",
    "- 運用 Indexing/Slicing 計算中位數。\n",
    "- 將預期輸出寫在 `return` 之後。"
   ]
  },
  {
   "cell_type": "code",
   "execution_count": null,
   "id": "prospective-brown",
   "metadata": {},
   "outputs": [],
   "source": [
    "from typing import Union\n",
    "\n",
    "def calculate_median(x: list) -> Union[int, float]:\n",
    "    \"\"\"\n",
    "    >>> calculate_median([9, 8, 3, 6, 7, 3, 1])\n",
    "    6\n",
    "    >>> calculate_median([1, 3, 2, 5, 4, 9, 8, 6])\n",
    "    4.5\n",
    "    \"\"\"\n",
    "    ### BEGIN SOLUTION\n",
    "    \n",
    "    ### END SOLUTION"
   ]
  },
  {
   "cell_type": "markdown",
   "id": "increased-partition",
   "metadata": {},
   "source": [
    "## 031. 計算平均數\n",
    "\n",
    "定義函數 `calculate_mean()` 能夠計算輸入 `list` 的算數平均數。\n",
    "\n",
    "\\begin{equation}\n",
    "Mean(x) = \\frac{\\sum_{i=0}^{n - 1} x_i}{n} \\\\\n",
    "\\text{where} \\, x= \\, \\text{list of values in data set} \\\\\n",
    "\\text{where} \\, n= \\, \\text{number of values in data set}\n",
    "\\end{equation}\n",
    "\n",
    "來源：<https://en.wikipedia.org/wiki/Mean>\n",
    "\n",
    "- 取得 `list` 中的元素個數。\n",
    "- 取得 `list` 中的元素加總。\n",
    "- 將預期輸出寫在 `return` 之後。"
   ]
  },
  {
   "cell_type": "code",
   "execution_count": null,
   "id": "compact-publisher",
   "metadata": {},
   "outputs": [],
   "source": [
    "def calculate_mean(x: list) -> float:\n",
    "    \"\"\"\n",
    "    >>> calculate_mean([5, 5, 6, 6])\n",
    "    5.5\n",
    "    >>> calculate_mean([5, 3, 4])\n",
    "    4.0\n",
    "    >>> calculate_mean([4, 3])\n",
    "    3.5\n",
    "    \"\"\"\n",
    "    ### BEGIN SOLUTION\n",
    "    \n",
    "    ### END SOLUTION"
   ]
  },
  {
   "cell_type": "markdown",
   "id": "thermal-infrared",
   "metadata": {},
   "source": [
    "## 032. 前 100 個 Fizz buzz\n",
    "\n",
    "定義函數 `create_first_100_fizz_buzz()` 能夠回傳一個 `list` 包含前 100 個符合 Fizz buzz 規則的元素。\n",
    "\n",
    "來源：<https://en.wikipedia.org/wiki/Fizz_buzz>\n",
    "\n",
    "- 運用迴圈讓物件的值能從 1 走到 100\n",
    "- 運用條件敘述依據 Fizz Buzz 規則合併建立一個 `list`。\n",
    "- 將預期輸出寫在 `return` 之後。"
   ]
  },
  {
   "cell_type": "code",
   "execution_count": null,
   "id": "remarkable-analyst",
   "metadata": {},
   "outputs": [],
   "source": [
    "def create_first_100_fizz_buzz() -> list:\n",
    "    \"\"\"\n",
    "    >>> len(create_first_100_fizz_buzz())\n",
    "    100\n",
    "    >>> create_first_100_fizz_buzz()[0]\n",
    "    1\n",
    "    >>> create_first_100_fizz_buzz()[1]\n",
    "    2\n",
    "    >>> create_first_100_fizz_buzz()[2]\n",
    "    'Fizz'\n",
    "    >>> create_first_100_fizz_buzz()[3]\n",
    "    4\n",
    "    >>> create_first_100_fizz_buzz()[4]\n",
    "    'Buzz'\n",
    "    >>> create_first_100_fizz_buzz()[13]\n",
    "    14\n",
    "    >>> create_first_100_fizz_buzz()[14]\n",
    "    'Fizz Buzz'\n",
    "    \"\"\"\n",
    "    ### BEGIN SOLUTION\n",
    "    \n",
    "    ### END SOLUTION"
   ]
  },
  {
   "cell_type": "markdown",
   "id": "correct-uzbekistan",
   "metadata": {},
   "source": [
    "## 033. Fizz buzz 片段\n",
    "\n",
    "定義函數 `create_fizz_buzz_slice()` 能夠回傳一個 `list` 包含符合 Fizz buzz 規則元素的片段。\n",
    "\n",
    "來源：<https://en.wikipedia.org/wiki/Fizz_buzz>\n",
    "\n",
    "- 運用迴圈讓物件的值能從 `start` 走到 `stop`\n",
    "- 運用條件敘述依據 Fizz Buzz 規則添加元素到 `list` 之中。\n",
    "- 將預期輸出寫在 `return` 之後。"
   ]
  },
  {
   "cell_type": "code",
   "execution_count": null,
   "id": "acceptable-estonia",
   "metadata": {},
   "outputs": [],
   "source": [
    "def create_fizz_buzz_slice(start: int, stop: int) -> list:\n",
    "    \"\"\"\n",
    "    >>> create_fizz_buzz_slice(1, 5)\n",
    "    [1, 2, 'Fizz', 4, 'Buzz']\n",
    "    >>> create_fizz_buzz_slice(11, 15)\n",
    "    [11, 'Fizz', 13, 14, 'Fizz Buzz']\n",
    "    >>> create_fizz_buzz_slice(25, 30)\n",
    "    ['Buzz', 26, 'Fizz', 28, 29, 'Fizz Buzz']\n",
    "    \"\"\"\n",
    "    ### BEGIN SOLUTION\n",
    "    \n",
    "    ### END SOLUTION"
   ]
  },
  {
   "cell_type": "markdown",
   "id": "cleared-rover",
   "metadata": {},
   "source": [
    "## 034. 因數分解\n",
    "\n",
    "定義函數 `collect_divisors()` 能夠將輸入整數的所有因數回傳為一個 `list`。\n",
    "\n",
    "- 運用迴圈從 1 走到 `x`\n",
    "- 運用條件敘述是否為因數添加元素到 `list` 之中。\n",
    "- 將預期輸出寫在 `return` 之後。"
   ]
  },
  {
   "cell_type": "code",
   "execution_count": null,
   "id": "former-seattle",
   "metadata": {},
   "outputs": [],
   "source": [
    "def collect_divisors(x: int) -> list:\n",
    "    \"\"\"\n",
    "    >>> collect_divisors(2)\n",
    "    [1, 2]\n",
    "    >>> collect_divisors(3)\n",
    "    [1, 3]\n",
    "    >>> collect_divisors(4)\n",
    "    [1, 2, 4]\n",
    "    >>> collect_divisors(8)\n",
    "    [1, 2, 4, 8]\n",
    "    \"\"\"\n",
    "    ### BEGIN SOLUTION\n",
    "    \n",
    "    ### END SOLUTION"
   ]
  },
  {
   "cell_type": "markdown",
   "id": "earned-volunteer",
   "metadata": {},
   "source": [
    "## 035. 安全的兩數相除\n",
    "\n",
    "定義函數 `safe_divide()` 能夠對執行錯誤中的分母為零錯誤（`ZeroDivisionError`）進行例外處理，不要發起例外，而是將錯誤訊息以 `str` 回傳。\n",
    "\n",
    "- 運用 `try...except...`\n",
    "- 將預期輸出寫在 `return` 之後。"
   ]
  },
  {
   "cell_type": "code",
   "execution_count": null,
   "id": "ceramic-harvest",
   "metadata": {},
   "outputs": [],
   "source": [
    "from typing import Union\n",
    "\n",
    "def safe_divide(x: int, y: int) -> Union[float, str]:\n",
    "    \"\"\"\n",
    "    >>> safe_divide(10, 2)\n",
    "    5.0\n",
    "    >>> safe_divide(0, 2)\n",
    "    0.0\n",
    "    >>> safe_divide(10, 0)\n",
    "    'division by zero'\n",
    "    \"\"\"\n",
    "    ### BEGIN SOLUTION\n",
    "    \n",
    "    ### END SOLUTION"
   ]
  }
 ],
 "metadata": {
  "kernelspec": {
   "display_name": "Python 3 (ipykernel)",
   "language": "python",
   "name": "python3"
  },
  "language_info": {
   "codemirror_mode": {
    "name": "ipython",
    "version": 3
   },
   "file_extension": ".py",
   "mimetype": "text/x-python",
   "name": "python",
   "nbconvert_exporter": "python",
   "pygments_lexer": "ipython3",
   "version": "3.9.5"
  }
 },
 "nbformat": 4,
 "nbformat_minor": 5
}
