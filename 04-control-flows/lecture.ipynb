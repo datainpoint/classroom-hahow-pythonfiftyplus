{
 "cells": [
  {
   "cell_type": "markdown",
   "id": "headed-garden",
   "metadata": {
    "slideshow": {
     "slide_type": "slide"
    }
   },
   "source": [
    "# Python 的 50+ 練習：資料科學學習手冊\n",
    "\n",
    "> 使用流程控制管理程式區塊的執行\n",
    "\n",
    "[數據交點](https://www.datainpoint.com) | 郭耀仁 <yaojenkuo@datainpoint.com>"
   ]
  },
  {
   "cell_type": "markdown",
   "id": "cooked-investigation",
   "metadata": {
    "slideshow": {
     "slide_type": "subslide"
    }
   },
   "source": [
    "## 這個章節會登場的保留字與函數\n",
    "\n",
    "- `if` 保留字。\n",
    "- `else` 保留字。\n",
    "- `elif` 保留字。\n",
    "- `for` 保留字。\n",
    "- `while` 保留字。"
   ]
  },
  {
   "cell_type": "markdown",
   "id": "every-belief",
   "metadata": {
    "slideshow": {
     "slide_type": "subslide"
    }
   },
   "source": [
    "## 這個章節會登場的保留字與函數（續）\n",
    "\n",
    "- `break` 保留字。\n",
    "- `continue` 保留字。\n",
    "- `try` 保留字。\n",
    "- `except` 保留字。\n",
    "- `as` 保留字。\n",
    "- `range()` 函數。"
   ]
  },
  {
   "cell_type": "markdown",
   "id": "excellent-prairie",
   "metadata": {
    "slideshow": {
     "slide_type": "slide"
    }
   },
   "source": [
    "## 關於流程控制"
   ]
  },
  {
   "cell_type": "markdown",
   "id": "heard-minute",
   "metadata": {
    "slideshow": {
     "slide_type": "subslide"
    }
   },
   "source": [
    "## 什麼是流程控制\n",
    "\n",
    "> 依據特定的條件來決定程式區塊的執行與否、重複次數以及錯誤發生時該如何應對的敘述結構。\n",
    "\n",
    "來源：<https://en.wikipedia.org/wiki/Control_flow>"
   ]
  },
  {
   "cell_type": "markdown",
   "id": "interim-certificate",
   "metadata": {
    "slideshow": {
     "slide_type": "subslide"
    }
   },
   "source": [
    "## 我們將要學習的流程控制\n",
    "\n",
    "- 條件敘述。\n",
    "- 迴圈。\n",
    "- 例外處理。"
   ]
  },
  {
   "cell_type": "markdown",
   "id": "appreciated-intensity",
   "metadata": {
    "slideshow": {
     "slide_type": "slide"
    }
   },
   "source": [
    "## 認識程式區塊（Code blocks）"
   ]
  },
  {
   "cell_type": "markdown",
   "id": "alternate-interim",
   "metadata": {
    "slideshow": {
     "slide_type": "subslide"
    }
   },
   "source": [
    "## Python 使用縮排（Indentation）標註程式區塊\n",
    "\n",
    "- 多數程式語言使用大括號 `{}` 來標註程式碼所依附的保留字。\n",
    "- 一段程式碼的依附關係從縮排開始直到第一個未縮排的結束。\n",
    "- 縮排必須隨著依附保留字的數量而增加。"
   ]
  },
  {
   "cell_type": "markdown",
   "id": "legal-cooperative",
   "metadata": {
    "slideshow": {
     "slide_type": "subslide"
    }
   },
   "source": [
    "## 什麼時候需要用到程式區塊\n",
    "\n",
    "- 流程控制。\n",
    "- 定義函數與類別。"
   ]
  },
  {
   "cell_type": "markdown",
   "id": "humanitarian-aaron",
   "metadata": {
    "slideshow": {
     "slide_type": "slide"
    }
   },
   "source": [
    "## 決定程式區塊是否被執行的條件敘述"
   ]
  },
  {
   "cell_type": "markdown",
   "id": "average-criminal",
   "metadata": {
    "slideshow": {
     "slide_type": "subslide"
    }
   },
   "source": [
    "## 什麼是條件敘述\n",
    "\n",
    "> 條件敘述是依指定運算的結果為 `False` 或 `True`，來決定是否執行一段程式區塊。\n",
    "\n",
    "來源：https://en.wikipedia.org/wiki/Conditional_(computer_programming)"
   ]
  },
  {
   "cell_type": "markdown",
   "id": "complex-exemption",
   "metadata": {
    "slideshow": {
     "slide_type": "subslide"
    }
   },
   "source": [
    "## 使用條件與縮排建立條件敘述\n",
    "\n",
    "- 條件指的是一段能夠被解讀為 `bool` 的敘述。\n",
    "- 縮排是 Python 用來辨識程式碼依附區塊的結構，要特別留意。"
   ]
  },
  {
   "cell_type": "markdown",
   "id": "entitled-retreat",
   "metadata": {
    "slideshow": {
     "slide_type": "subslide"
    }
   },
   "source": [
    "## 使用 `if` 依據條件決定是否執行程式區塊\n",
    "\n",
    "```python\n",
    "if CONDITION:\n",
    "    # 依附 if 敘述的程式區塊。\n",
    "    # 當 CONDITION 為 True 的時候程式區塊才會被執行。\n",
    "```"
   ]
  },
  {
   "cell_type": "markdown",
   "id": "committed-mills",
   "metadata": {
    "slideshow": {
     "slide_type": "subslide"
    }
   },
   "source": [
    "## 使用關係運算符或者邏輯運算符描述條件\n",
    "\n",
    "- 關係運算符：`==`, `!=`, `>`, `<`, `>=`, `<=`, `in`, `not in`\n",
    "- 邏輯運算符：`and`, `or`, `not`"
   ]
  },
  {
   "cell_type": "code",
   "execution_count": 1,
   "id": "toxic-breed",
   "metadata": {
    "slideshow": {
     "slide_type": "subslide"
    }
   },
   "outputs": [
    {
     "name": "stdout",
     "output_type": "stream",
     "text": [
      "5566 is positive.\n",
      "None\n"
     ]
    }
   ],
   "source": [
    "def return_msg_if_positive(x):\n",
    "    if x > 0:\n",
    "        return f\"{x} is positive.\"\n",
    "\n",
    "print(return_msg_if_positive(5566))\n",
    "print(return_msg_if_positive(-5566))"
   ]
  },
  {
   "cell_type": "markdown",
   "id": "fourth-aside",
   "metadata": {
    "slideshow": {
     "slide_type": "subslide"
    }
   },
   "source": [
    "## 使用 `if...else` 依據條件決定執行哪一個程式區塊\n",
    "\n",
    "```python\n",
    "if CONDITION:\n",
    "    # 依附 if 敘述的程式區塊。\n",
    "    # 當 CONDITION 為 True 的時候會被執行。\n",
    "else:\n",
    "    # 依附 else 敘述的程式區塊。\n",
    "    # 當 CONDITION 為 False 的時候會被執行。\n",
    "```"
   ]
  },
  {
   "cell_type": "code",
   "execution_count": 2,
   "id": "broke-somalia",
   "metadata": {
    "slideshow": {
     "slide_type": "subslide"
    }
   },
   "outputs": [
    {
     "name": "stdout",
     "output_type": "stream",
     "text": [
      "5566 is positive.\n",
      "-5566 is not positive.\n"
     ]
    }
   ],
   "source": [
    "def return_message_whether_positive_or_not(x):\n",
    "    if x > 0:\n",
    "        message = f\"{x} is positive.\"\n",
    "    else:\n",
    "        message = f\"{x} is not positive.\"\n",
    "    return message\n",
    "\n",
    "print(return_message_whether_positive_or_not(5566))\n",
    "print(return_message_whether_positive_or_not(-5566))"
   ]
  },
  {
   "cell_type": "markdown",
   "id": "relevant-domestic",
   "metadata": {
    "slideshow": {
     "slide_type": "subslide"
    }
   },
   "source": [
    "## 使用 `if...elif...else` 依據條件決定執行哪一個程式區塊\n",
    "\n",
    "```python\n",
    "if CONDITION_A:\n",
    "    # 依附 if 敘述的程式區塊。\n",
    "    # 當 CONDITION_A 為 True 的時候會被執行。\n",
    "elif CONDITION_B:\n",
    "    # 依附 elif 敘述的程式區塊。\n",
    "    # 當 CONDITION_A 為 False 、CONDITION_B 為 True 的時候會被執行。\n",
    "else:\n",
    "    # 依附 else 敘述的程式區塊。\n",
    "    # 當 CONDITION_A、CONDITION_B 為 False 的時候會被執行。\n",
    "```"
   ]
  },
  {
   "cell_type": "code",
   "execution_count": 3,
   "id": "fiscal-tissue",
   "metadata": {
    "slideshow": {
     "slide_type": "subslide"
    }
   },
   "outputs": [
    {
     "name": "stdout",
     "output_type": "stream",
     "text": [
      "56 is positive.\n",
      "-56 is negative.\n",
      "0 is neutral.\n"
     ]
    }
   ],
   "source": [
    "def return_message_whether_positive_negative_or_neutral(x):\n",
    "    if x > 0:\n",
    "        message = f\"{x} is positive.\"\n",
    "    elif x < 0:\n",
    "        message = f\"{x} is negative.\"\n",
    "    else:\n",
    "        message = f\"{x} is neutral.\"\n",
    "    return message\n",
    "\n",
    "print(return_message_whether_positive_negative_or_neutral(56))\n",
    "print(return_message_whether_positive_negative_or_neutral(-56))\n",
    "print(return_message_whether_positive_negative_or_neutral(0))"
   ]
  },
  {
   "cell_type": "markdown",
   "id": "blocked-engineer",
   "metadata": {
    "slideshow": {
     "slide_type": "subslide"
    }
   },
   "source": [
    "## 使用 `if...elif` 把所有的條件都寫清楚\n",
    "\n",
    "不一定非要加入 `else`"
   ]
  },
  {
   "cell_type": "code",
   "execution_count": 4,
   "id": "honey-gothic",
   "metadata": {
    "slideshow": {
     "slide_type": "-"
    }
   },
   "outputs": [
    {
     "name": "stdout",
     "output_type": "stream",
     "text": [
      "56 is positive.\n",
      "-56 is negative.\n",
      "0 is neutral.\n"
     ]
    }
   ],
   "source": [
    "def return_message_whether_positive_negative_or_neutral(x):\n",
    "    if x > 0:\n",
    "        message = f\"{x} is positive.\"\n",
    "    elif x < 0:\n",
    "        message = f\"{x} is negative.\"\n",
    "    elif x == 0:\n",
    "        message = f\"{x} is neutral.\"\n",
    "    return message\n",
    "\n",
    "print(return_message_whether_positive_negative_or_neutral(56))\n",
    "print(return_message_whether_positive_negative_or_neutral(-56))\n",
    "print(return_message_whether_positive_negative_or_neutral(0))"
   ]
  },
  {
   "cell_type": "markdown",
   "id": "fancy-illness",
   "metadata": {
    "slideshow": {
     "slide_type": "subslide"
    }
   },
   "source": [
    "## 一組條件敘述的結構僅會執行「其中一個」程式區塊\n",
    "\n",
    "- 如果條件彼此之間互斥，寫作條件的先後順序**沒有**影響。\n",
    "- 如果條件彼此之間**非**互斥，寫作條件的先後順序**有**影響。"
   ]
  },
  {
   "cell_type": "markdown",
   "id": "middle-essay",
   "metadata": {
    "slideshow": {
     "slide_type": "subslide"
    }
   },
   "source": [
    "## 以「Fizz buzz」為例\n",
    "\n",
    "> 從 1 數到 100，碰到 3 的倍數改為 Fizz、碰到 5 的倍數改為 Buzz，碰到 15 的倍數改為 Fizz Buzz，其餘情況不改動。\n",
    "\n",
    "來源：<https://en.wikipedia.org/wiki/Fizz_buzz>"
   ]
  },
  {
   "cell_type": "markdown",
   "id": "wicked-kidney",
   "metadata": {
    "slideshow": {
     "slide_type": "subslide"
    }
   },
   "source": [
    "## 只使用 `if`\n",
    "\n",
    "條件彼此之間**非**互斥（15 是 3 與 5 的公倍數），寫作條件的先後順序**有**影響。"
   ]
  },
  {
   "cell_type": "code",
   "execution_count": 5,
   "id": "suspended-relief",
   "metadata": {
    "slideshow": {
     "slide_type": "-"
    }
   },
   "outputs": [
    {
     "name": "stdout",
     "output_type": "stream",
     "text": [
      "2\n",
      "Fizz\n",
      "Buzz\n",
      "Fizz Buzz\n"
     ]
    }
   ],
   "source": [
    "def fizz_buzz(x):\n",
    "    if x % 3 != 0 and x % 5 != 0 and x % 15 != 0:\n",
    "        return x\n",
    "    if x % 3 == 0:\n",
    "        message = \"Fizz\"\n",
    "    if x % 5 == 0:\n",
    "        message = \"Buzz\"\n",
    "    if x % 15 == 0:\n",
    "        message = \"Fizz Buzz\"\n",
    "    return message\n",
    "\n",
    "print(fizz_buzz(2))\n",
    "print(fizz_buzz(3))\n",
    "print(fizz_buzz(5))\n",
    "print(fizz_buzz(15))"
   ]
  },
  {
   "cell_type": "markdown",
   "id": "acquired-fetish",
   "metadata": {
    "slideshow": {
     "slide_type": "subslide"
    }
   },
   "source": [
    "## 使用 `if...elif...else`\n",
    "\n",
    "條件彼此之間**非**互斥（15 是 3 與 5 的公倍數），寫作條件的先後順序**有**影響。"
   ]
  },
  {
   "cell_type": "code",
   "execution_count": 6,
   "id": "amino-calcium",
   "metadata": {},
   "outputs": [
    {
     "name": "stdout",
     "output_type": "stream",
     "text": [
      "2\n",
      "Fizz\n",
      "Buzz\n",
      "Fizz Buzz\n"
     ]
    }
   ],
   "source": [
    "def fizz_buzz(x):\n",
    "    if x % 15 == 0:\n",
    "        message = \"Fizz Buzz\"\n",
    "    elif x % 3 == 0:\n",
    "        message = \"Fizz\"\n",
    "    elif x % 5 == 0:\n",
    "        message = \"Buzz\"\n",
    "    else:\n",
    "        message = x\n",
    "    return message\n",
    "\n",
    "print(fizz_buzz(2))\n",
    "print(fizz_buzz(3))\n",
    "print(fizz_buzz(5))\n",
    "print(fizz_buzz(15))"
   ]
  },
  {
   "cell_type": "markdown",
   "id": "textile-calvin",
   "metadata": {
    "slideshow": {
     "slide_type": "slide"
    }
   },
   "source": [
    "## 讓程式區塊被重複執行的迴圈"
   ]
  },
  {
   "cell_type": "markdown",
   "id": "furnished-brooklyn",
   "metadata": {
    "slideshow": {
     "slide_type": "subslide"
    }
   },
   "source": [
    "## 什麼是迴圈\n",
    "\n",
    "> 迴圈是流程控制的其中一種技巧，可以讓寫作一次的程式區塊被重複執行，常見的應用是重複執行直到條件不成立時或走訪可迭代類別中的所有元素。\n",
    "\n",
    "來源：<https://en.wikipedia.org/wiki/Control_flow#Loops>"
   ]
  },
  {
   "cell_type": "markdown",
   "id": "western-footage",
   "metadata": {
    "slideshow": {
     "slide_type": "subslide"
    }
   },
   "source": [
    "## 迴圈的三個要素\n",
    "\n",
    "- 起始。\n",
    "- 終止。\n",
    "- 如何從起始到終止。"
   ]
  },
  {
   "cell_type": "markdown",
   "id": "prompt-knock",
   "metadata": {
    "slideshow": {
     "slide_type": "subslide"
    }
   },
   "source": [
    "## 兩種常見的迴圈\n",
    "\n",
    "1. `while` 迴圈：重複執行直到條件不成立時。\n",
    "2. `for` 迴圈：走訪可迭代類別中的所有元素。"
   ]
  },
  {
   "cell_type": "markdown",
   "id": "advised-screw",
   "metadata": {
    "slideshow": {
     "slide_type": "subslide"
    }
   },
   "source": [
    "## 使用 `while` 依據條件決定是否重複執行程式區塊\n",
    "\n",
    "```python\n",
    "while CONDITION:\n",
    "    # 依附 while 敘述的程式區塊。\n",
    "    # 當 CONDITION 為 True 的時候程式區塊會被重複執行。\n",
    "    # 當 CONDITION 為 False 的時候停止執行程式區塊。\n",
    "```"
   ]
  },
  {
   "cell_type": "markdown",
   "id": "scheduled-consciousness",
   "metadata": {
    "slideshow": {
     "slide_type": "subslide"
    }
   },
   "source": [
    "## 使用關係運算符或者邏輯運算符描述條件\n",
    "\n",
    "- 關係運算符：`==`, `!=`, `>`, `<`, `>=`, `<=`, `in`, `not in`\n",
    "- 邏輯運算符：`and`, `or`, `not`"
   ]
  },
  {
   "cell_type": "markdown",
   "id": "pleased-universal",
   "metadata": {
    "slideshow": {
     "slide_type": "subslide"
    }
   },
   "source": [
    "## 如何寫作一個 `while` 迴圈\n",
    "\n",
    "- 在迴圈程式區塊之前定義一個物件設定起始值。\n",
    "- 設計條件讓程式區塊重複執行的次數符合我們的需求。\n",
    "- 記得在程式區塊中更新物件的值。"
   ]
  },
  {
   "cell_type": "markdown",
   "id": "boring-background",
   "metadata": {
    "slideshow": {
     "slide_type": "subslide"
    }
   },
   "source": [
    "## 如何寫作一個 `while` 迴圈：印出 5 次 `\"Hello, world!\"`"
   ]
  },
  {
   "cell_type": "code",
   "execution_count": 7,
   "id": "dated-fighter",
   "metadata": {},
   "outputs": [
    {
     "name": "stdout",
     "output_type": "stream",
     "text": [
      "Hello, world!\n",
      "Hello, world!\n",
      "Hello, world!\n",
      "Hello, world!\n",
      "Hello, world!\n"
     ]
    }
   ],
   "source": [
    "number_of_prints = 0\n",
    "while number_of_prints < 5:\n",
    "    print(\"Hello, world!\")\n",
    "    number_of_prints = number_of_prints + 1"
   ]
  },
  {
   "cell_type": "markdown",
   "id": "academic-foundation",
   "metadata": {
    "slideshow": {
     "slide_type": "subslide"
    }
   },
   "source": [
    "## 在程式區塊中更新迭代物件的值更常會使用複合運算符（Compound operators）\n",
    "\n",
    "- `i += 1` 等同於 `i = i + 1` \n",
    "- `i -= 1` 等同於 `i = i - 1` \n",
    "- `i *= 1` 等同於 `i = i * 1` \n",
    "- `i /= 1` 等同於 `i = i / 1` \n",
    "- ...等。"
   ]
  },
  {
   "cell_type": "markdown",
   "id": "hungry-violation",
   "metadata": {
    "slideshow": {
     "slide_type": "subslide"
    }
   },
   "source": [
    "## 如何寫作一個 `while` 迴圈：印出小於 10 的奇數"
   ]
  },
  {
   "cell_type": "code",
   "execution_count": 8,
   "id": "moved-elizabeth",
   "metadata": {},
   "outputs": [
    {
     "name": "stdout",
     "output_type": "stream",
     "text": [
      "Hello, world!\n",
      "Hello, world!\n",
      "Hello, world!\n",
      "Hello, world!\n",
      "Hello, world!\n"
     ]
    }
   ],
   "source": [
    "odd = 1\n",
    "while odd < 10:\n",
    "    print(\"Hello, world!\")\n",
    "    odd += 2 # odd = odd + 2"
   ]
  },
  {
   "cell_type": "markdown",
   "id": "upset-millennium",
   "metadata": {
    "slideshow": {
     "slide_type": "subslide"
    }
   },
   "source": [
    "## 如何寫作一個 `while` 迴圈：從週一印到週五"
   ]
  },
  {
   "cell_type": "code",
   "execution_count": 9,
   "id": "raised-somerset",
   "metadata": {},
   "outputs": [
    {
     "name": "stdout",
     "output_type": "stream",
     "text": [
      "Monday\n",
      "Tuesday\n",
      "Wednesday\n",
      "Thursday\n",
      "Friday\n"
     ]
    }
   ],
   "source": [
    "weekdays = [\"Monday\", \"Tuesday\", \"Wednesday\", \"Thursday\", \"Friday\"]\n",
    "index = 0\n",
    "while index < len(weekdays):\n",
    "    print(weekdays[index])\n",
    "    index += 1"
   ]
  },
  {
   "cell_type": "markdown",
   "id": "affiliated-exhaust",
   "metadata": {
    "slideshow": {
     "slide_type": "subslide"
    }
   },
   "source": [
    "## 使用 `for` 走訪可迭代類別中的所有元素\n",
    "\n",
    "```python\n",
    "for ELEMENT in ITERABLE:\n",
    "    # 依附 for 敘述的程式區塊。\n",
    "    # 當 ITERABLE 還沒有走訪完的時候程式區塊會被重複執行。\n",
    "    # 當 ITERABLE 走訪完的時候停止執行程式區塊。\n",
    "```"
   ]
  },
  {
   "cell_type": "markdown",
   "id": "documented-cooperative",
   "metadata": {
    "slideshow": {
     "slide_type": "subslide"
    }
   },
   "source": [
    "## 什麼是可迭代類別\n",
    "\n",
    "具有一次回傳其中一個資料值特性的類別，輸入到內建函數 `iter()` 不會產生錯誤的類別，都屬於可迭代類別（Iterables）。常見的包含文字與資料結構。\n",
    "\n",
    "- 資料類型：`str`\n",
    "- 資料結構：`list`、`tuple`、`dict`、`set`"
   ]
  },
  {
   "cell_type": "code",
   "execution_count": 10,
   "id": "portuguese-arena",
   "metadata": {
    "slideshow": {
     "slide_type": "subslide"
    }
   },
   "outputs": [
    {
     "data": {
      "text/plain": [
       "<list_iterator at 0x7fb32f65ae50>"
      ]
     },
     "execution_count": 10,
     "metadata": {},
     "output_type": "execute_result"
    }
   ],
   "source": [
    "luke = \"Luke Skywalker\"\n",
    "primes = [2, 3, 5, 7, 11]\n",
    "iter(luke)\n",
    "iter(primes)"
   ]
  },
  {
   "cell_type": "markdown",
   "id": "periodic-double",
   "metadata": {
    "slideshow": {
     "slide_type": "subslide"
    }
   },
   "source": [
    "## `str` 也適用和 `list` 相同的 indexing 與 slicing 語法"
   ]
  },
  {
   "cell_type": "code",
   "execution_count": 11,
   "id": "inappropriate-lancaster",
   "metadata": {},
   "outputs": [
    {
     "name": "stdout",
     "output_type": "stream",
     "text": [
      "L\n",
      "r\n",
      "Luke\n",
      "Skywalker\n"
     ]
    }
   ],
   "source": [
    "print(luke[0])  # indexing\n",
    "print(luke[-1]) # indexing\n",
    "print(luke[:4]) # slicing\n",
    "print(luke[5:]) # slicing"
   ]
  },
  {
   "cell_type": "markdown",
   "id": "conventional-complexity",
   "metadata": {
    "slideshow": {
     "slide_type": "subslide"
    }
   },
   "source": [
    "## 什麼是不可迭代的類別\n",
    "\n",
    "任何輸入到內建函數 `iter()` 會產生錯誤的類別都是不可迭代類別（Iterables），常見的有 `int`、`float` 與 `bool` 等。"
   ]
  },
  {
   "cell_type": "code",
   "execution_count": 12,
   "id": "corporate-wheat",
   "metadata": {
    "slideshow": {
     "slide_type": "-"
    }
   },
   "outputs": [],
   "source": [
    "i_am_int = 5566\n",
    "i_am_float = 5566.0\n",
    "i_am_bool = False\n",
    "# iter(i_am_int)\n",
    "# iter(i_am_float)\n",
    "# iter(i_am_bool)"
   ]
  },
  {
   "cell_type": "markdown",
   "id": "academic-cattle",
   "metadata": {
    "slideshow": {
     "slide_type": "subslide"
    }
   },
   "source": [
    "## 如何寫作一個 `for` 迴圈\n",
    "\n",
    "- 建立一個可迭代類別。\n",
    "- 可迭代類別如果是數列，可透過內建函數 `range()` 建立。"
   ]
  },
  {
   "cell_type": "markdown",
   "id": "minimal-import",
   "metadata": {
    "slideshow": {
     "slide_type": "subslide"
    }
   },
   "source": [
    "## `range()` 函數有三個參數可以設定數列內容\n",
    "\n",
    "1. `start` 數列的起始整數，即第 0 個整數（包含），預設值為 0。\n",
    "2. `stop` 數列的終止整數，即第 -1 個整數（不包含）。\n",
    "3. `step` 數列的公差，預設值為 1。"
   ]
  },
  {
   "cell_type": "code",
   "execution_count": 13,
   "id": "northern-southeast",
   "metadata": {
    "slideshow": {
     "slide_type": "subslide"
    }
   },
   "outputs": [
    {
     "name": "stdout",
     "output_type": "stream",
     "text": [
      "Help on class range in module builtins:\n",
      "\n",
      "class range(object)\n",
      " |  range(stop) -> range object\n",
      " |  range(start, stop[, step]) -> range object\n",
      " |  \n",
      " |  Return an object that produces a sequence of integers from start (inclusive)\n",
      " |  to stop (exclusive) by step.  range(i, j) produces i, i+1, i+2, ..., j-1.\n",
      " |  start defaults to 0, and stop is omitted!  range(4) produces 0, 1, 2, 3.\n",
      " |  These are exactly the valid indices for a list of 4 elements.\n",
      " |  When step is given, it specifies the increment (or decrement).\n",
      " |  \n",
      " |  Methods defined here:\n",
      " |  \n",
      " |  __bool__(self, /)\n",
      " |      self != 0\n",
      " |  \n",
      " |  __contains__(self, key, /)\n",
      " |      Return key in self.\n",
      " |  \n",
      " |  __eq__(self, value, /)\n",
      " |      Return self==value.\n",
      " |  \n",
      " |  __ge__(self, value, /)\n",
      " |      Return self>=value.\n",
      " |  \n",
      " |  __getattribute__(self, name, /)\n",
      " |      Return getattr(self, name).\n",
      " |  \n",
      " |  __getitem__(self, key, /)\n",
      " |      Return self[key].\n",
      " |  \n",
      " |  __gt__(self, value, /)\n",
      " |      Return self>value.\n",
      " |  \n",
      " |  __hash__(self, /)\n",
      " |      Return hash(self).\n",
      " |  \n",
      " |  __iter__(self, /)\n",
      " |      Implement iter(self).\n",
      " |  \n",
      " |  __le__(self, value, /)\n",
      " |      Return self<=value.\n",
      " |  \n",
      " |  __len__(self, /)\n",
      " |      Return len(self).\n",
      " |  \n",
      " |  __lt__(self, value, /)\n",
      " |      Return self<value.\n",
      " |  \n",
      " |  __ne__(self, value, /)\n",
      " |      Return self!=value.\n",
      " |  \n",
      " |  __reduce__(...)\n",
      " |      Helper for pickle.\n",
      " |  \n",
      " |  __repr__(self, /)\n",
      " |      Return repr(self).\n",
      " |  \n",
      " |  __reversed__(...)\n",
      " |      Return a reverse iterator.\n",
      " |  \n",
      " |  count(...)\n",
      " |      rangeobject.count(value) -> integer -- return number of occurrences of value\n",
      " |  \n",
      " |  index(...)\n",
      " |      rangeobject.index(value) -> integer -- return index of value.\n",
      " |      Raise ValueError if the value is not present.\n",
      " |  \n",
      " |  ----------------------------------------------------------------------\n",
      " |  Static methods defined here:\n",
      " |  \n",
      " |  __new__(*args, **kwargs) from builtins.type\n",
      " |      Create and return a new object.  See help(type) for accurate signature.\n",
      " |  \n",
      " |  ----------------------------------------------------------------------\n",
      " |  Data descriptors defined here:\n",
      " |  \n",
      " |  start\n",
      " |  \n",
      " |  step\n",
      " |  \n",
      " |  stop\n",
      "\n"
     ]
    }
   ],
   "source": [
    "help(range)"
   ]
  },
  {
   "cell_type": "markdown",
   "id": "quantitative-correspondence",
   "metadata": {
    "slideshow": {
     "slide_type": "subslide"
    }
   },
   "source": [
    "## 如何寫作一個 `for` 迴圈：印出 5 次 `\"Hello, world!\"`"
   ]
  },
  {
   "cell_type": "code",
   "execution_count": 14,
   "id": "derived-fraud",
   "metadata": {
    "slideshow": {
     "slide_type": "-"
    }
   },
   "outputs": [
    {
     "name": "stdout",
     "output_type": "stream",
     "text": [
      "Hello, world!\n",
      "Hello, world!\n",
      "Hello, world!\n",
      "Hello, world!\n",
      "Hello, world!\n"
     ]
    }
   ],
   "source": [
    "for element in range(0, 5, 1):\n",
    "    print(\"Hello, world!\")"
   ]
  },
  {
   "cell_type": "markdown",
   "id": "elect-child",
   "metadata": {
    "slideshow": {
     "slide_type": "subslide"
    }
   },
   "source": [
    "## 如果程式區塊中並沒有用到可迭代類別中的元素\n",
    "\n",
    "可以將元素命名為 `_` 特別說明該情況。"
   ]
  },
  {
   "cell_type": "code",
   "execution_count": 15,
   "id": "confirmed-mission",
   "metadata": {
    "slideshow": {
     "slide_type": "-"
    }
   },
   "outputs": [
    {
     "name": "stdout",
     "output_type": "stream",
     "text": [
      "Hello, world!\n",
      "Hello, world!\n",
      "Hello, world!\n",
      "Hello, world!\n",
      "Hello, world!\n"
     ]
    }
   ],
   "source": [
    "for _ in range(0, 5, 1):\n",
    "    print(\"Hello, world!\")"
   ]
  },
  {
   "cell_type": "markdown",
   "id": "breathing-stuff",
   "metadata": {
    "slideshow": {
     "slide_type": "subslide"
    }
   },
   "source": [
    "## 如何寫作一個 `for` 迴圈：印出小於 10 的奇數"
   ]
  },
  {
   "cell_type": "code",
   "execution_count": 16,
   "id": "english-marsh",
   "metadata": {},
   "outputs": [
    {
     "name": "stdout",
     "output_type": "stream",
     "text": [
      "1\n",
      "3\n",
      "5\n",
      "7\n",
      "9\n"
     ]
    }
   ],
   "source": [
    "for odd in range(1, 10, 2):\n",
    "    print(odd)"
   ]
  },
  {
   "cell_type": "markdown",
   "id": "executive-willow",
   "metadata": {
    "slideshow": {
     "slide_type": "subslide"
    }
   },
   "source": [
    "## 如何寫作一個 `for` 迴圈：從週一印到週五"
   ]
  },
  {
   "cell_type": "code",
   "execution_count": 17,
   "id": "occupied-connecticut",
   "metadata": {},
   "outputs": [
    {
     "name": "stdout",
     "output_type": "stream",
     "text": [
      "Monday\n",
      "Tuesday\n",
      "Wednesday\n",
      "Thursday\n",
      "Friday\n"
     ]
    }
   ],
   "source": [
    "weekdays = [\"Monday\", \"Tuesday\", \"Wednesday\", \"Thursday\", \"Friday\"]\n",
    "for weekday in weekdays:\n",
    "    print(weekday)"
   ]
  },
  {
   "cell_type": "markdown",
   "id": "backed-subscription",
   "metadata": {
    "slideshow": {
     "slide_type": "subslide"
    }
   },
   "source": [
    "## 常見的迴圈應用\n",
    "\n",
    "- 走訪 `str` 或資料結構。\n",
    "- 可迭代類別的加總、乘積與計數。\n",
    "- 合併資料成為 `str`、`list` 或者 `dict`。"
   ]
  },
  {
   "cell_type": "markdown",
   "id": "preceding-boards",
   "metadata": {
    "slideshow": {
     "slide_type": "subslide"
    }
   },
   "source": [
    "## 走訪 `str` 或資料結構\n",
    "\n",
    "- 走訪 `str`、`list`、`tuple`、`set`\n",
    "- 走訪 `dict`"
   ]
  },
  {
   "cell_type": "markdown",
   "id": "german-lighter",
   "metadata": {
    "slideshow": {
     "slide_type": "subslide"
    }
   },
   "source": [
    "## 如何走訪 `str`、`list`、`tuple`、`set`"
   ]
  },
  {
   "cell_type": "code",
   "execution_count": 18,
   "id": "explicit-vacuum",
   "metadata": {
    "slideshow": {
     "slide_type": "-"
    }
   },
   "outputs": [],
   "source": [
    "def iterate_str_list_tuple_set(an_iterable):\n",
    "    for element in an_iterable:\n",
    "        print(element)\n",
    "        \n",
    "luke = \"Luke Skywalker\"\n",
    "weekdays_list = [\"Monday\", \"Tuesday\", \"Wednesday\", \"Thursday\", \"Friday\"]\n",
    "weekdays_tuple = tuple(weekdays_list)\n",
    "weekdays_set = set(weekdays_list)"
   ]
  },
  {
   "cell_type": "code",
   "execution_count": 19,
   "id": "sweet-sperm",
   "metadata": {
    "slideshow": {
     "slide_type": "subslide"
    }
   },
   "outputs": [
    {
     "name": "stdout",
     "output_type": "stream",
     "text": [
      "L\n",
      "u\n",
      "k\n",
      "e\n",
      " \n",
      "S\n",
      "k\n",
      "y\n",
      "w\n",
      "a\n",
      "l\n",
      "k\n",
      "e\n",
      "r\n"
     ]
    }
   ],
   "source": [
    "iterate_str_list_tuple_set(luke) # iterate over a str"
   ]
  },
  {
   "cell_type": "code",
   "execution_count": 20,
   "id": "technical-curve",
   "metadata": {
    "slideshow": {
     "slide_type": "subslide"
    }
   },
   "outputs": [
    {
     "name": "stdout",
     "output_type": "stream",
     "text": [
      "Monday\n",
      "Tuesday\n",
      "Wednesday\n",
      "Thursday\n",
      "Friday\n",
      "Monday\n",
      "Tuesday\n",
      "Wednesday\n",
      "Thursday\n",
      "Friday\n",
      "Friday\n",
      "Tuesday\n",
      "Thursday\n",
      "Monday\n",
      "Wednesday\n"
     ]
    }
   ],
   "source": [
    "iterate_str_list_tuple_set(weekdays_list)  # iterate over a list\n",
    "iterate_str_list_tuple_set(weekdays_tuple) # iterate over a tuple\n",
    "iterate_str_list_tuple_set(weekdays_set)   # iterate over a set"
   ]
  },
  {
   "cell_type": "markdown",
   "id": "blank-worker",
   "metadata": {
    "slideshow": {
     "slide_type": "subslide"
    }
   },
   "source": [
    "## 如何走訪 `dict`\n",
    "\n",
    "善用三個 `dict` 方法：\n",
    "\n",
    "1. `.keys()`\n",
    "2. `.values()`\n",
    "3. `.items()`"
   ]
  },
  {
   "cell_type": "code",
   "execution_count": 21,
   "id": "friendly-extreme",
   "metadata": {
    "slideshow": {
     "slide_type": "subslide"
    }
   },
   "outputs": [],
   "source": [
    "the_shawshank_redemption = {\n",
    "    'title': 'The Shawshank Redemption',\n",
    "    'year': 1994,\n",
    "    'rating': 9.3,\n",
    "    'director': 'Frank Darabont'\n",
    "}"
   ]
  },
  {
   "cell_type": "markdown",
   "id": "premium-process",
   "metadata": {
    "slideshow": {
     "slide_type": "subslide"
    }
   },
   "source": [
    "## 預設走訪 `dict` 的「鍵」"
   ]
  },
  {
   "cell_type": "code",
   "execution_count": 22,
   "id": "contrary-beginning",
   "metadata": {},
   "outputs": [
    {
     "name": "stdout",
     "output_type": "stream",
     "text": [
      "title\n",
      "year\n",
      "rating\n",
      "director\n"
     ]
    }
   ],
   "source": [
    "for key in the_shawshank_redemption:\n",
    "    print(key)"
   ]
  },
  {
   "cell_type": "code",
   "execution_count": 23,
   "id": "sweet-praise",
   "metadata": {
    "slideshow": {
     "slide_type": "-"
    }
   },
   "outputs": [
    {
     "name": "stdout",
     "output_type": "stream",
     "text": [
      "title\n",
      "year\n",
      "rating\n",
      "director\n"
     ]
    }
   ],
   "source": [
    "for k in the_shawshank_redemption.keys():\n",
    "    print(k)"
   ]
  },
  {
   "cell_type": "markdown",
   "id": "pretty-sensitivity",
   "metadata": {
    "slideshow": {
     "slide_type": "subslide"
    }
   },
   "source": [
    "## 指定走訪 `dict` 的「值」"
   ]
  },
  {
   "cell_type": "code",
   "execution_count": 24,
   "id": "professional-machine",
   "metadata": {
    "slideshow": {
     "slide_type": "subslide"
    }
   },
   "outputs": [
    {
     "name": "stdout",
     "output_type": "stream",
     "text": [
      "The Shawshank Redemption\n",
      "1994\n",
      "9.3\n",
      "Frank Darabont\n"
     ]
    }
   ],
   "source": [
    "for value in the_shawshank_redemption.values():\n",
    "    print(value)"
   ]
  },
  {
   "cell_type": "markdown",
   "id": "moved-gauge",
   "metadata": {
    "slideshow": {
     "slide_type": "subslide"
    }
   },
   "source": [
    "## 同時走訪 `dict` 的「鍵」與「值」"
   ]
  },
  {
   "cell_type": "code",
   "execution_count": 25,
   "id": "developing-disposition",
   "metadata": {
    "slideshow": {
     "slide_type": "-"
    }
   },
   "outputs": [
    {
     "name": "stdout",
     "output_type": "stream",
     "text": [
      "dict_items([('title', 'The Shawshank Redemption'), ('year', 1994), ('rating', 9.3), ('director', 'Frank Darabont')])\n",
      "title: The Shawshank Redemption\n",
      "year: 1994\n",
      "rating: 9.3\n",
      "director: Frank Darabont\n"
     ]
    }
   ],
   "source": [
    "dict_items = the_shawshank_redemption.items()\n",
    "print(dict_items)\n",
    "for key, value in dict_items:\n",
    "    print(f\"{key}: {value}\")"
   ]
  },
  {
   "cell_type": "markdown",
   "id": "dental-march",
   "metadata": {
    "slideshow": {
     "slide_type": "subslide"
    }
   },
   "source": [
    "## 可迭代類別的加總、乘積與計數\n",
    "\n",
    "1. 在迴圈程式區塊之前定義一個物件設定起始值。\n",
    "2. 在程式區塊中更新物件的值。"
   ]
  },
  {
   "cell_type": "code",
   "execution_count": 26,
   "id": "ready-potential",
   "metadata": {
    "slideshow": {
     "slide_type": "subslide"
    }
   },
   "outputs": [
    {
     "name": "stdout",
     "output_type": "stream",
     "text": [
      "28\n",
      "2310\n",
      "5\n"
     ]
    }
   ],
   "source": [
    "summation = 0\n",
    "product = 1\n",
    "count = 0\n",
    "primes = [2, 3, 5, 7, 11]\n",
    "for prime in primes:\n",
    "    summation += prime\n",
    "    product *= prime\n",
    "    count += 1\n",
    "print(summation)\n",
    "print(product)\n",
    "print(count)"
   ]
  },
  {
   "cell_type": "markdown",
   "id": "median-nickel",
   "metadata": {
    "slideshow": {
     "slide_type": "subslide"
    }
   },
   "source": [
    "## 合併資料成為 `str`、`list` 或者 `dict`\n",
    "\n",
    "- 運用 `+` 運算符合併元素成為 `str`\n",
    "- 運用 `+` 運算符合併 lists\n",
    "- 運用 `list.append()` 方法合併元素成為 `list`\n",
    "- 運用 `dict[key]=value` 合併元素成為 `dict`"
   ]
  },
  {
   "cell_type": "markdown",
   "id": "signal-steam",
   "metadata": {
    "slideshow": {
     "slide_type": "subslide"
    }
   },
   "source": [
    "## 運用 `+` 運算符合併元素成為 `str`"
   ]
  },
  {
   "cell_type": "code",
   "execution_count": 27,
   "id": "sharing-shape",
   "metadata": {},
   "outputs": [
    {
     "name": "stdout",
     "output_type": "stream",
     "text": [
      "aeiouAEIOU\n"
     ]
    }
   ],
   "source": [
    "vowels = [\"a\", \"e\", \"i\", \"o\", \"u\", \"A\", \"E\", \"I\", \"O\", \"U\"]\n",
    "vowels_str = str() # an empty str\n",
    "for vowel in vowels:\n",
    "    vowels_str += vowel\n",
    "print(vowels_str)"
   ]
  },
  {
   "cell_type": "markdown",
   "id": "metropolitan-uruguay",
   "metadata": {
    "slideshow": {
     "slide_type": "subslide"
    }
   },
   "source": [
    "## 運用 `+` 運算符合併 lists"
   ]
  },
  {
   "cell_type": "code",
   "execution_count": 28,
   "id": "legal-liquid",
   "metadata": {},
   "outputs": [
    {
     "data": {
      "text/plain": [
       "['a', 'e', 'i', 'o', 'u', 'A', 'E', 'I', 'O', 'U']"
      ]
     },
     "execution_count": 28,
     "metadata": {},
     "output_type": "execute_result"
    }
   ],
   "source": [
    "vowels = [[\"a\", \"e\", \"i\", \"o\", \"u\"], [\"A\", \"E\", \"I\", \"O\", \"U\"]]\n",
    "flat_vowels = list()\n",
    "for vowel in vowels:\n",
    "    flat_vowels += vowel\n",
    "flat_vowels"
   ]
  },
  {
   "cell_type": "markdown",
   "id": "valued-daisy",
   "metadata": {
    "slideshow": {
     "slide_type": "subslide"
    }
   },
   "source": [
    "## 運用 `list.append()` 方法合併元素成為 `list`"
   ]
  },
  {
   "cell_type": "code",
   "execution_count": 29,
   "id": "reduced-fleece",
   "metadata": {},
   "outputs": [
    {
     "data": {
      "text/plain": [
       "['a', 'e', 'i', 'o', 'u', 'A', 'E', 'I', 'O', 'U']"
      ]
     },
     "execution_count": 29,
     "metadata": {},
     "output_type": "execute_result"
    }
   ],
   "source": [
    "vowels = [[\"a\", \"e\", \"i\", \"o\", \"u\"], [\"A\", \"E\", \"I\", \"O\", \"U\"]]\n",
    "flat_vowels = list()\n",
    "for v_list in vowels:\n",
    "    for v in v_list:\n",
    "        flat_vowels.append(v)\n",
    "flat_vowels"
   ]
  },
  {
   "cell_type": "markdown",
   "id": "electoral-warning",
   "metadata": {
    "slideshow": {
     "slide_type": "subslide"
    }
   },
   "source": [
    "## 運用 `dict[key]=value` 合併元素成為 `dict`"
   ]
  },
  {
   "cell_type": "code",
   "execution_count": 30,
   "id": "demographic-activity",
   "metadata": {},
   "outputs": [
    {
     "data": {
      "text/plain": [
       "{'SUN': 'Sunday',\n",
       " 'MON': 'Monday',\n",
       " 'TUE': 'Tuesday',\n",
       " 'WED': 'Wednesday',\n",
       " 'THU': 'Thursday',\n",
       " 'FRI': 'Friday',\n",
       " 'SAT': 'Saturday'}"
      ]
     },
     "execution_count": 30,
     "metadata": {},
     "output_type": "execute_result"
    }
   ],
   "source": [
    "days_of_week = [\"Sunday\", \"Monday\", \"Tuesday\", \"Wednesday\", \"Thursday\", \"Friday\", \"Saturday\"]\n",
    "days_of_week_dict = dict()\n",
    "for day in days_of_week:\n",
    "    day_upper = day.upper() # upper-case\n",
    "    day_abbreviation = day_upper[:3] # abbreviation\n",
    "    days_of_week_dict[day_abbreviation] = day\n",
    "days_of_week_dict"
   ]
  },
  {
   "cell_type": "markdown",
   "id": "cultural-taiwan",
   "metadata": {
    "slideshow": {
     "slide_type": "subslide"
    }
   },
   "source": [
    "## 以保留字調整迴圈的重複執行次數\n",
    "\n",
    "- `break` 保留字可以提早結束。\n",
    "- `continue` 保留字可以略過某些執行次數。"
   ]
  },
  {
   "cell_type": "markdown",
   "id": "union-couple",
   "metadata": {
    "slideshow": {
     "slide_type": "subslide"
    }
   },
   "source": [
    "## 遇到星期四提早結束"
   ]
  },
  {
   "cell_type": "code",
   "execution_count": 31,
   "id": "meaning-development",
   "metadata": {
    "slideshow": {
     "slide_type": "-"
    }
   },
   "outputs": [
    {
     "name": "stdout",
     "output_type": "stream",
     "text": [
      "Sunday\n",
      "Monday\n",
      "Tuesday\n",
      "Wednesday\n"
     ]
    }
   ],
   "source": [
    "days_of_week = [\"Sunday\", \"Monday\", \"Tuesday\", \"Wednesday\", \"Thursday\", \"Friday\", \"Saturday\"]\n",
    "for day in days_of_week:\n",
    "    if day == \"Thursday\":\n",
    "        break\n",
    "    print(day)"
   ]
  },
  {
   "cell_type": "markdown",
   "id": "assisted-expense",
   "metadata": {
    "slideshow": {
     "slide_type": "subslide"
    }
   },
   "source": [
    "## 略過週末"
   ]
  },
  {
   "cell_type": "code",
   "execution_count": 32,
   "id": "painted-sister",
   "metadata": {},
   "outputs": [
    {
     "name": "stdout",
     "output_type": "stream",
     "text": [
      "Monday\n",
      "Tuesday\n",
      "Wednesday\n",
      "Thursday\n",
      "Friday\n"
     ]
    }
   ],
   "source": [
    "days_of_week = [\"Sunday\", \"Monday\", \"Tuesday\", \"Wednesday\", \"Thursday\", \"Friday\", \"Saturday\"]\n",
    "for day in days_of_week:\n",
    "    if day in {\"Sunday\", \"Saturday\"}:\n",
    "        continue\n",
    "    print(day)"
   ]
  },
  {
   "cell_type": "markdown",
   "id": "geological-hungarian",
   "metadata": {
    "slideshow": {
     "slide_type": "slide"
    }
   },
   "source": [
    "## 決定程式區塊出錯時如何應對的例外處理"
   ]
  },
  {
   "cell_type": "markdown",
   "id": "waiting-proof",
   "metadata": {
    "slideshow": {
     "slide_type": "subslide"
    }
   },
   "source": [
    "## 什麼是例外處理\n",
    "\n",
    "> 程式出現錯誤是極為常見的情況，一般碰到錯誤發生時，Python 會發起例外（Raise exception）並且中斷程式的執行，假如我們希望在錯誤發生的情況下「不要」中斷程式的執行，這樣的技巧就稱為例外處理（Exception handling）。\n",
    "\n",
    "來源：<https://docs.python.org/3/tutorial/errors.html>"
   ]
  },
  {
   "cell_type": "markdown",
   "id": "analyzed-progressive",
   "metadata": {
    "slideshow": {
     "slide_type": "subslide"
    }
   },
   "source": [
    "## 常見的錯誤種類有三種\n",
    "\n",
    "1. 語法錯誤（Syntax errors）。\n",
    "2. 語意錯誤（Semantic errors）。\n",
    "3. 執行錯誤（Runtime errors）。"
   ]
  },
  {
   "cell_type": "markdown",
   "id": "adapted-cooperative",
   "metadata": {
    "slideshow": {
     "slide_type": "subslide"
    }
   },
   "source": [
    "## 語法錯誤：對 Python 而言無效的敘述\n",
    "\n",
    "例如不使用大括號來標註程式區塊。"
   ]
  },
  {
   "cell_type": "code",
   "execution_count": 33,
   "id": "caroline-collectible",
   "metadata": {},
   "outputs": [],
   "source": [
    "#def add(x, y){\n",
    "#    return x + y\n",
    "#}"
   ]
  },
  {
   "cell_type": "markdown",
   "id": "flexible-words",
   "metadata": {
    "slideshow": {
     "slide_type": "subslide"
    }
   },
   "source": [
    "## 語法錯誤：對 Python 而言無效的敘述（續）\n",
    "\n",
    "例如 `for` 迴圈沒有冒號 `:`"
   ]
  },
  {
   "cell_type": "code",
   "execution_count": 34,
   "id": "terminal-belly",
   "metadata": {},
   "outputs": [],
   "source": [
    "#for i in range(10)\n",
    "#    print(i)"
   ]
  },
  {
   "cell_type": "markdown",
   "id": "expired-mechanism",
   "metadata": {
    "slideshow": {
     "slide_type": "subslide"
    }
   },
   "source": [
    "## 語意錯誤\n",
    "\n",
    "- 程式能夠順利執行但是輸出的結果與預期不相符。\n",
    "- 例外處理無用武之地，只能慢慢找出邏輯的錯誤所在。"
   ]
  },
  {
   "cell_type": "markdown",
   "id": "integral-trust",
   "metadata": {
    "slideshow": {
     "slide_type": "subslide"
    }
   },
   "source": [
    "## 執行錯誤：例外處理主要應對的錯誤種類\n",
    "\n",
    "- 命名錯誤（`NameError`）。\n",
    "- 類別錯誤（`TypeError`）。\n",
    "- 分母為零錯誤（`ZeroDivisionError`）。\n",
    "- 索引值錯誤（`IndexError`）。\n",
    "- ...等。"
   ]
  },
  {
   "cell_type": "markdown",
   "id": "addressed-poverty",
   "metadata": {
    "slideshow": {
     "slide_type": "subslide"
    }
   },
   "source": [
    "## 命名錯誤（`NameError`）\n",
    "\n",
    "例如使用沒有定義的函數。"
   ]
  },
  {
   "cell_type": "code",
   "execution_count": 35,
   "id": "answering-remove",
   "metadata": {},
   "outputs": [],
   "source": [
    "#function_which_is_not_defined(5566)"
   ]
  },
  {
   "cell_type": "markdown",
   "id": "skilled-board",
   "metadata": {
    "slideshow": {
     "slide_type": "subslide"
    }
   },
   "source": [
    "## 類別錯誤（`TypeError`）\n",
    "\n",
    "例如對文字應用減號。"
   ]
  },
  {
   "cell_type": "code",
   "execution_count": 36,
   "id": "changed-hormone",
   "metadata": {},
   "outputs": [],
   "source": [
    "#\"Luke Skywalker\" - \"Luke\""
   ]
  },
  {
   "cell_type": "markdown",
   "id": "alternate-given",
   "metadata": {
    "slideshow": {
     "slide_type": "subslide"
    }
   },
   "source": [
    "## 分母為零錯誤（`ZeroDivisionError`）"
   ]
  },
  {
   "cell_type": "code",
   "execution_count": 37,
   "id": "painted-liverpool",
   "metadata": {},
   "outputs": [],
   "source": [
    "#5566/0"
   ]
  },
  {
   "cell_type": "markdown",
   "id": "retired-cassette",
   "metadata": {
    "slideshow": {
     "slide_type": "subslide"
    }
   },
   "source": [
    "## 索引值錯誤（`IndexError`）\n",
    "\n",
    "例如 `list` 的長度不如預期。"
   ]
  },
  {
   "cell_type": "code",
   "execution_count": 38,
   "id": "attempted-barbados",
   "metadata": {},
   "outputs": [],
   "source": [
    "primes=[2, 3, 5, 7, 11]\n",
    "#primes[5]"
   ]
  },
  {
   "cell_type": "markdown",
   "id": "innovative-wrestling",
   "metadata": {
    "slideshow": {
     "slide_type": "subslide"
    }
   },
   "source": [
    "## 如何進行例外處理\n",
    "\n",
    "利用 `try...except` 敘述把可能會產生錯誤的程式放在附屬於 `try` 保留字的程式區塊，錯誤發生時的應對程式碼放在附屬於 `except` 保留字的程式區塊。\n",
    "\n",
    "```python\n",
    "try:\n",
    "    # 可能產生錯誤的程式區塊。\n",
    "except SPECIFIC RUNTIME ERROR:\n",
    "    # 指定的執行錯誤產生時的應對程式區塊。\n",
    "except:\n",
    "    # 執行錯誤產生時的應對程式區塊。\n",
    "```"
   ]
  },
  {
   "cell_type": "markdown",
   "id": "peaceful-header",
   "metadata": {
    "slideshow": {
     "slide_type": "subslide"
    }
   },
   "source": [
    "## 利用 `as` 保留字將錯誤訊息記錄起來\n",
    "\n",
    "```python\n",
    "try:\n",
    "    # 可能產生錯誤的程式區塊。\n",
    "except SPECIFIC RUNTIME ERROR as error_message:\n",
    "    # 指定的執行錯誤產生時的應對程式區塊。\n",
    "    # 錯誤訊息可用物件 error_message 參照。\n",
    "except:\n",
    "    # 執行錯誤產生時的應對程式區塊。\n",
    "```"
   ]
  },
  {
   "cell_type": "markdown",
   "id": "generous-democrat",
   "metadata": {
    "slideshow": {
     "slide_type": "subslide"
    }
   },
   "source": [
    "## 命名錯誤（`NameError`）：例外處理\n",
    "\n",
    "例如使用沒有定義的函數。"
   ]
  },
  {
   "cell_type": "code",
   "execution_count": 39,
   "id": "diagnostic-times",
   "metadata": {},
   "outputs": [
    {
     "name": "stdout",
     "output_type": "stream",
     "text": [
      "NameError occurred and the error message is: name 'function_which_is_not_defined' is not defined\n"
     ]
    }
   ],
   "source": [
    "try:\n",
    "    function_which_is_not_defined(5566)\n",
    "except NameError as error_message:\n",
    "    print(f\"NameError occurred and the error message is: {error_message}\")"
   ]
  },
  {
   "cell_type": "markdown",
   "id": "relative-maryland",
   "metadata": {
    "slideshow": {
     "slide_type": "subslide"
    }
   },
   "source": [
    "## 類別錯誤（`TypeError`）：例外處理\n",
    "\n",
    "例如對文字應用減號。"
   ]
  },
  {
   "cell_type": "code",
   "execution_count": 40,
   "id": "bacterial-allah",
   "metadata": {},
   "outputs": [
    {
     "name": "stdout",
     "output_type": "stream",
     "text": [
      "TypeError occurred and the error message is: unsupported operand type(s) for -: 'str' and 'str'\n"
     ]
    }
   ],
   "source": [
    "try:\n",
    "    \"Luke Skywalker\" - \"Luke\"\n",
    "except TypeError as error_message:\n",
    "    print(f\"TypeError occurred and the error message is: {error_message}\")"
   ]
  },
  {
   "cell_type": "markdown",
   "id": "genuine-guitar",
   "metadata": {
    "slideshow": {
     "slide_type": "subslide"
    }
   },
   "source": [
    "## 分母為零錯誤（`ZeroDivisionError`）"
   ]
  },
  {
   "cell_type": "code",
   "execution_count": 41,
   "id": "graphic-biodiversity",
   "metadata": {},
   "outputs": [
    {
     "name": "stdout",
     "output_type": "stream",
     "text": [
      "ZeroDivisionError occurred and the error message is: division by zero\n"
     ]
    }
   ],
   "source": [
    "try:\n",
    "    5566/0\n",
    "except ZeroDivisionError as error_message:\n",
    "    print(f\"ZeroDivisionError occurred and the error message is: {error_message}\")"
   ]
  },
  {
   "cell_type": "markdown",
   "id": "mental-shame",
   "metadata": {
    "slideshow": {
     "slide_type": "subslide"
    }
   },
   "source": [
    "## 索引值錯誤（`IndexError`）\n",
    "\n",
    "例如 `list` 的長度不如預期。"
   ]
  },
  {
   "cell_type": "code",
   "execution_count": 42,
   "id": "hidden-stick",
   "metadata": {},
   "outputs": [
    {
     "name": "stdout",
     "output_type": "stream",
     "text": [
      "IndexError occurred and the error message is: list index out of range\n"
     ]
    }
   ],
   "source": [
    "primes=[2, 3, 5, 7, 11]\n",
    "try:\n",
    "    primes[5]\n",
    "except IndexError as error_message:\n",
    "    print(f\"IndexError occurred and the error message is: {error_message}\")"
   ]
  },
  {
   "cell_type": "markdown",
   "id": "according-monkey",
   "metadata": {
    "slideshow": {
     "slide_type": "subslide"
    }
   },
   "source": [
    "## 如何輔助學習流程控制\n",
    "\n",
    "- 觀察 JupyterLab 的物件清單。\n",
    "- 將流程控制的程式碼貼至程式碼視覺化工具網站協助理解 <https://www.pythontutor.com/visualize.html#mode=edit>"
   ]
  },
  {
   "cell_type": "markdown",
   "id": "aerial-carter",
   "metadata": {
    "slideshow": {
     "slide_type": "slide"
    }
   },
   "source": [
    "## 重點統整\n",
    "\n",
    "- 流程控制包含：條件敘述、迴圈與例外處理。\n",
    "- 條件敘述中，如果條件彼此之間互斥，寫作條件的先後順序沒有影響；如果條件彼此之間非互斥，寫作條件的先後順序有影響。\n",
    "- 兩種常見的迴圈：`while` 迴圈與 `for` 迴圈。"
   ]
  },
  {
   "cell_type": "markdown",
   "id": "specific-plant",
   "metadata": {
    "slideshow": {
     "slide_type": "subslide"
    }
   },
   "source": [
    "## 重點統整（續）\n",
    "\n",
    "- 常見的迴圈應用：走訪 str 或資料結構、可迭代類別的加總乘積與計數以及合併資料。\n",
    "- 運用例外處理應對執行錯誤。"
   ]
  }
 ],
 "metadata": {
  "celltoolbar": "Slideshow",
  "kernelspec": {
   "display_name": "Python 3",
   "language": "python",
   "name": "python3"
  },
  "language_info": {
   "codemirror_mode": {
    "name": "ipython",
    "version": 3
   },
   "file_extension": ".py",
   "mimetype": "text/x-python",
   "name": "python",
   "nbconvert_exporter": "python",
   "pygments_lexer": "ipython3",
   "version": "3.8.5"
  }
 },
 "nbformat": 4,
 "nbformat_minor": 5
}
