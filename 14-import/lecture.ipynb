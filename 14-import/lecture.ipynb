{
 "cells": [
  {
   "cell_type": "markdown",
   "metadata": {
    "slideshow": {
     "slide_type": "slide"
    }
   },
   "source": [
    "# Python 的 50+ 練習\n",
    "\n",
    "> 資料的載入\n",
    "\n",
    "[數據交點](https://www.datainpoint.com/) | 郭耀仁 <yaojenkuo@datainpoint.com>"
   ]
  },
  {
   "cell_type": "markdown",
   "metadata": {
    "slideshow": {
     "slide_type": "subslide"
    }
   },
   "source": [
    "## 這個章節會登場的函數、保留字與模組\n",
    "\n",
    "- `open()` 函數。\n",
    "- `with` 保留字。\n",
    "- `json` 模組。\n",
    "- `sqlite3` 模組。"
   ]
  },
  {
   "cell_type": "markdown",
   "metadata": {
    "slideshow": {
     "slide_type": "slide"
    }
   },
   "source": [
    "## 關於資料科學的應用場景"
   ]
  },
  {
   "cell_type": "markdown",
   "metadata": {
    "slideshow": {
     "slide_type": "subslide"
    }
   },
   "source": [
    "## （複習）什麼是資料科學\n",
    "\n",
    "資料科學是一門將資料（Data）提煉為資訊（Information）的學科，提煉過程中可能包含資料載入、資料操作、探索性分析以及監督式學習等。"
   ]
  },
  {
   "cell_type": "markdown",
   "metadata": {
    "slideshow": {
     "slide_type": "subslide"
    }
   },
   "source": [
    "## （複習）現代資料科學：以程式設計做資料科學的應用\n",
    "\n",
    "![](r-for-data-science.png)\n",
    "\n",
    "來源：[R for Data Science](https://r4ds.had.co.nz)"
   ]
  },
  {
   "cell_type": "markdown",
   "metadata": {
    "slideshow": {
     "slide_type": "subslide"
    }
   },
   "source": [
    "## 什麼是資料科學的應用場景\n",
    "\n",
    "- **Import 資料的載入**。\n",
    "- Tidy 資料清理。\n",
    "- Transform 資料外型與類別的轉換。\n",
    "- Visualise 探索性分析。\n",
    "- Model 分析與預測模型。\n",
    "- Communicate 溝通分享。"
   ]
  },
  {
   "cell_type": "markdown",
   "metadata": {
    "slideshow": {
     "slide_type": "subslide"
    }
   },
   "source": [
    "## 資料科學非技術性的工作內容\n",
    "\n",
    "- 與使用者共同進行需求發想。\n",
    "- 收斂需求並且擬定假說與敘事邏輯。\n",
    "- 透過測試資料驗證假說。\n",
    "- 透過溝通分享驗證敘事邏輯。"
   ]
  },
  {
   "cell_type": "markdown",
   "metadata": {
    "slideshow": {
     "slide_type": "subslide"
    }
   },
   "source": [
    "## 常見的來源資料格式\n",
    "\n",
    "1. 純文字檔案。\n",
    "2. 試算表。\n",
    "3. 關聯式資料庫中的資料表。"
   ]
  },
  {
   "cell_type": "markdown",
   "metadata": {
    "slideshow": {
     "slide_type": "slide"
    }
   },
   "source": [
    "## 純文字檔案"
   ]
  },
  {
   "cell_type": "markdown",
   "metadata": {
    "slideshow": {
     "slide_type": "subslide"
    }
   },
   "source": [
    "## 什麼是純文字檔案\n",
    "\n",
    "只有文字所構成的電腦檔案，不包含字型的樣式或者段落標記，能夠使用最簡單的文字編輯器（例如 Windows 的「記事本」、macOS 的 TextEdit）直接開啟檢視。"
   ]
  },
  {
   "cell_type": "markdown",
   "metadata": {
    "slideshow": {
     "slide_type": "subslide"
    }
   },
   "source": [
    "## 更適合程式設計與資料科學的文字編輯器\n",
    "\n",
    "- [Visual Studio Code](https://code.visualstudio.com/)\n",
    "- [Atom](https://atom.io/)\n",
    "- [Sublime Text](https://www.sublimetext.com/)\n",
    "- [Notepad ++(for Windows only)](https://notepad-plus-plus.org/) "
   ]
  },
  {
   "cell_type": "markdown",
   "metadata": {
    "slideshow": {
     "slide_type": "subslide"
    }
   },
   "source": [
    "## 不同格式的純文字檔案\n",
    "\n",
    "- 非結構化的純文字檔案。\n",
    "- JSON(JavaScript Object Notation)\n",
    "- 特定符號分隔的純文字檔案。"
   ]
  },
  {
   "cell_type": "markdown",
   "metadata": {
    "slideshow": {
     "slide_type": "subslide"
    }
   },
   "source": [
    "## （複習）兩種路徑的標註方式\n",
    "\n",
    "1. 絕對路徑：從根目錄開始標註\n",
    "2. 相對路徑：從工作目錄（Current working directory）開始標註"
   ]
  },
  {
   "cell_type": "markdown",
   "metadata": {
    "slideshow": {
     "slide_type": "subslide"
    }
   },
   "source": [
    "## 課程所使用的 [JupyterLab](https://mybinder.org/v2/gh/datainpoint/classroom-hahow-pythonfiftyplus/HEAD) 範例資料夾 `data` 的絕對路徑\n",
    "\n",
    "絕對路徑 `/home/jovyan/data`"
   ]
  },
  {
   "cell_type": "markdown",
   "metadata": {
    "slideshow": {
     "slide_type": "subslide"
    }
   },
   "source": [
    "## 非結構化的純文字檔案\n",
    "\n",
    "例如 `/home/jovyan/data/internet-movie-database/the_shawshank_redemption_summaries.txt`"
   ]
  },
  {
   "cell_type": "markdown",
   "metadata": {
    "slideshow": {
     "slide_type": "subslide"
    }
   },
   "source": [
    "## 使用內建的 `open()` 函數開啟檔案\n",
    "\n",
    "- 以 `open()` 函數開啟 `/home/jovyan/data/internet-movie-database/the_shawshank_redemption_summaries.txt`\n",
    "- `file` 物件是 `TextIOWrapper` 類別的實例\n",
    "- 使用 `TextIOWrapper.readlines()` 將檔案內容一列一列載入 `list`\n",
    "- 使用 `TextIOWrapper.close()` 關閉檔案。\n",
    "\n",
    "```python\n",
    "file = open(\"PATH/TO/FILE\")\n",
    "list = file.readlines()\n",
    "file.close()\n",
    "```"
   ]
  },
  {
   "cell_type": "code",
   "execution_count": 1,
   "metadata": {
    "slideshow": {
     "slide_type": "subslide"
    }
   },
   "outputs": [
    {
     "name": "stdout",
     "output_type": "stream",
     "text": [
      "<class '_io.TextIOWrapper'>\n",
      "['Two imprisoned men bond over a number of years, finding solace and eventual redemption through acts of common decency.\\n', \"Chronicles the experiences of a formerly successful banker as a prisoner in the gloomy jailhouse of Shawshank after being found guilty of a crime he did not commit. The film portrays the man's unique way of dealing with his new, torturous life; along the way he befriends a number of fellow prisoners, most notably a wise long-term inmate named Red.\\n\", 'After the murder of his wife, hotshot banker Andrew Dufresne is sent to Shawshank Prison, where the usual unpleasantness occurs. Over the years, he retains hope and eventually gains the respect of his fellow inmates, especially longtime convict \"Red\" Redding, a black marketeer, and becomes influential within the prison. Eventually, Andrew achieves his ends on his own terms.\\n', \"Andy Dufresne is sent to Shawshank Prison for the murder of his wife and her secret lover. He is very isolated and lonely at first, but realizes there is something deep inside your body that people can't touch or get to....'HOPE'. Andy becomes friends with prison 'fixer' Red, and Andy epitomizes why it is crucial to have dreams. His spirit and determination lead us into a world full of imagination, one filled with courage and desire. Will Andy ever realize his dreams?\\n\", 'Bank Merchant Andy Dufresne is convicted of the murder of his wife and her lover, and sentenced to life imprisonment at Shawshank prison. Life seems to have taken a turn for the worse, but fortunately Andy befriends some of the other inmates, in particular a character known only as Red. Over time Andy finds ways to live out life with relative ease as one can in a prison, leaving a message for all that while the body may be locked away in a cell, the spirit can never be truly imprisoned.']\n"
     ]
    }
   ],
   "source": [
    "text_file_path = \"/home/jovyan/data/internet-movie-database/the_shawshank_redemption_summaries.txt\"\n",
    "file = open(text_file_path)\n",
    "the_shawshank_redemption_summaries = file.readlines()\n",
    "file.close()\n",
    "print(type(file))\n",
    "print(the_shawshank_redemption_summaries)"
   ]
  },
  {
   "cell_type": "markdown",
   "metadata": {
    "slideshow": {
     "slide_type": "subslide"
    }
   },
   "source": [
    "## 容易因為忘記 `file.close()` 而造成錯誤\n",
    "\n",
    "- 透過 `with` 敘述建立資源管理器的程式區塊。\n",
    "- 可以省略 `TextIOWrapper.close()`\n",
    "\n",
    "```python\n",
    "with open(\"PATH/TO/FILE\") as file:\n",
    "    list = file.readlines()\n",
    "```"
   ]
  },
  {
   "cell_type": "code",
   "execution_count": 2,
   "metadata": {
    "slideshow": {
     "slide_type": "subslide"
    }
   },
   "outputs": [
    {
     "name": "stdout",
     "output_type": "stream",
     "text": [
      "['Two imprisoned men bond over a number of years, finding solace and eventual redemption through acts of common decency.\\n', \"Chronicles the experiences of a formerly successful banker as a prisoner in the gloomy jailhouse of Shawshank after being found guilty of a crime he did not commit. The film portrays the man's unique way of dealing with his new, torturous life; along the way he befriends a number of fellow prisoners, most notably a wise long-term inmate named Red.\\n\", 'After the murder of his wife, hotshot banker Andrew Dufresne is sent to Shawshank Prison, where the usual unpleasantness occurs. Over the years, he retains hope and eventually gains the respect of his fellow inmates, especially longtime convict \"Red\" Redding, a black marketeer, and becomes influential within the prison. Eventually, Andrew achieves his ends on his own terms.\\n', \"Andy Dufresne is sent to Shawshank Prison for the murder of his wife and her secret lover. He is very isolated and lonely at first, but realizes there is something deep inside your body that people can't touch or get to....'HOPE'. Andy becomes friends with prison 'fixer' Red, and Andy epitomizes why it is crucial to have dreams. His spirit and determination lead us into a world full of imagination, one filled with courage and desire. Will Andy ever realize his dreams?\\n\", 'Bank Merchant Andy Dufresne is convicted of the murder of his wife and her lover, and sentenced to life imprisonment at Shawshank prison. Life seems to have taken a turn for the worse, but fortunately Andy befriends some of the other inmates, in particular a character known only as Red. Over time Andy finds ways to live out life with relative ease as one can in a prison, leaving a message for all that while the body may be locked away in a cell, the spirit can never be truly imprisoned.']\n"
     ]
    }
   ],
   "source": [
    "with open(text_file_path) as file:\n",
    "    the_shawshank_redemption_summaries = file.readlines()\n",
    "print(the_shawshank_redemption_summaries)"
   ]
  },
  {
   "cell_type": "markdown",
   "metadata": {
    "slideshow": {
     "slide_type": "subslide"
    }
   },
   "source": [
    "## 什麼是 JSON\n",
    "\n",
    "> JSON(JavaScript Object Notation) 是一種輕量的資料交換格式，對於人類而言是容易閱讀和寫作的格式，對於電腦而言是容易解析和建立的格式，簡言之，是一種對人類與電腦都友善的純文字格式，JSON 雖然源於 JavaScript，但卻是獨立於該程式語言之外，能夠被眾多程式語言輕鬆解析和建立的一種理想資料交換格式。JSON 可能由兩種資料結構組成：鍵值對應關係與有序列表，可以用 Python 的 `dict` 與 `list` 來理解。\n",
    "\n",
    "來源：<https://www.json.org/json-en.html>"
   ]
  },
  {
   "cell_type": "markdown",
   "metadata": {
    "slideshow": {
     "slide_type": "subslide"
    }
   },
   "source": [
    "## 使用標準模組 `json` 的 `load()` 函數載入\n",
    "\n",
    "- 以 `open()` 函數搭配 `with` 敘述開啟 `/home/jovyan/data/nba/teams_rowbased.json`\n",
    "- 使用 `json.load()` 函數將檔案內容載入。\n",
    "- 因為 JSON 可能由兩種資料結構組成，輸出物件可能是 `dict` 或 `list` 類別的實例。\n",
    "\n",
    "```python\n",
    "import json\n",
    "\n",
    "with open(\"PATH/TO/FILE\") as file:\n",
    "    dict|list = json.load(file)\n",
    "```"
   ]
  },
  {
   "cell_type": "markdown",
   "metadata": {
    "slideshow": {
     "slide_type": "subslide"
    }
   },
   "source": [
    "## `teams_rowbased.json` 由兩種資料結構組成\n",
    "\n",
    "`list` 中包含 34 個有 12 組鍵值對應關係的 `dict`"
   ]
  },
  {
   "cell_type": "code",
   "execution_count": 3,
   "metadata": {
    "slideshow": {
     "slide_type": "-"
    }
   },
   "outputs": [
    {
     "name": "stdout",
     "output_type": "stream",
     "text": [
      "<class 'list'>\n",
      "34\n",
      "<class 'dict'>\n",
      "12\n"
     ]
    }
   ],
   "source": [
    "import json\n",
    "\n",
    "json_file_path = \"/home/jovyan/data/nba/teams_rowbased.json\"\n",
    "with open(json_file_path) as file:\n",
    "    teams_json = json.load(file)\n",
    "print(type(teams_json))\n",
    "print(len(teams_json))\n",
    "print(type(teams_json[0]))\n",
    "print(len(teams_json[0]))"
   ]
  },
  {
   "cell_type": "markdown",
   "metadata": {
    "slideshow": {
     "slide_type": "subslide"
    }
   },
   "source": [
    "## 假如 JSON 中的每一組鍵值長度相同表示為表格式資料\n",
    "\n",
    "使用 `pd.read_json()` 載入為 `DataFrame`"
   ]
  },
  {
   "cell_type": "markdown",
   "metadata": {
    "slideshow": {
     "slide_type": "subslide"
    }
   },
   "source": [
    "## 表格式資料常見有兩種 JSON 格式\n",
    "\n",
    "1. 基於列的 JSON(Row-based JSON)\n",
    "2. 基於欄的 JSON(Column-based JSON)"
   ]
  },
  {
   "cell_type": "markdown",
   "metadata": {
    "slideshow": {
     "slide_type": "subslide"
    }
   },
   "source": [
    "## 基於列的 JSON(Row-based JSON)\n",
    "\n",
    "例如 `teams_rowbased.json`\n",
    "\n",
    "```\n",
    "[{\"column_1\": value_1, \"column_2\": value_2, ...},\n",
    " {\"column_1\": value_1, \"column_2\": value_2, ...},\n",
    " ...]\n",
    "```"
   ]
  },
  {
   "cell_type": "code",
   "execution_count": 4,
   "metadata": {},
   "outputs": [
    {
     "data": {
      "text/html": [
       "<div>\n",
       "<style scoped>\n",
       "    .dataframe tbody tr th:only-of-type {\n",
       "        vertical-align: middle;\n",
       "    }\n",
       "\n",
       "    .dataframe tbody tr th {\n",
       "        vertical-align: top;\n",
       "    }\n",
       "\n",
       "    .dataframe thead th {\n",
       "        text-align: right;\n",
       "    }\n",
       "</style>\n",
       "<table border=\"1\" class=\"dataframe\">\n",
       "  <thead>\n",
       "    <tr style=\"text-align: right;\">\n",
       "      <th></th>\n",
       "      <th>city</th>\n",
       "      <th>fullName</th>\n",
       "      <th>isNBAFranchise</th>\n",
       "      <th>confName</th>\n",
       "      <th>tricode</th>\n",
       "      <th>teamShortName</th>\n",
       "      <th>divName</th>\n",
       "      <th>isAllStar</th>\n",
       "      <th>nickname</th>\n",
       "      <th>urlName</th>\n",
       "      <th>teamId</th>\n",
       "      <th>altCityName</th>\n",
       "    </tr>\n",
       "  </thead>\n",
       "  <tbody>\n",
       "    <tr>\n",
       "      <th>0</th>\n",
       "      <td>Atlanta</td>\n",
       "      <td>Atlanta Hawks</td>\n",
       "      <td>True</td>\n",
       "      <td>East</td>\n",
       "      <td>ATL</td>\n",
       "      <td>Atlanta</td>\n",
       "      <td>Southeast</td>\n",
       "      <td>False</td>\n",
       "      <td>Hawks</td>\n",
       "      <td>hawks</td>\n",
       "      <td>1610612737</td>\n",
       "      <td>Atlanta</td>\n",
       "    </tr>\n",
       "    <tr>\n",
       "      <th>1</th>\n",
       "      <td>Boston</td>\n",
       "      <td>Boston Celtics</td>\n",
       "      <td>True</td>\n",
       "      <td>East</td>\n",
       "      <td>BOS</td>\n",
       "      <td>Boston</td>\n",
       "      <td>Atlantic</td>\n",
       "      <td>False</td>\n",
       "      <td>Celtics</td>\n",
       "      <td>celtics</td>\n",
       "      <td>1610612738</td>\n",
       "      <td>Boston</td>\n",
       "    </tr>\n",
       "    <tr>\n",
       "      <th>2</th>\n",
       "      <td>Brooklyn</td>\n",
       "      <td>Brooklyn Nets</td>\n",
       "      <td>True</td>\n",
       "      <td>East</td>\n",
       "      <td>BKN</td>\n",
       "      <td>Brooklyn</td>\n",
       "      <td>Atlantic</td>\n",
       "      <td>False</td>\n",
       "      <td>Nets</td>\n",
       "      <td>nets</td>\n",
       "      <td>1610612751</td>\n",
       "      <td>Brooklyn</td>\n",
       "    </tr>\n",
       "    <tr>\n",
       "      <th>3</th>\n",
       "      <td>Charlotte</td>\n",
       "      <td>Charlotte Hornets</td>\n",
       "      <td>True</td>\n",
       "      <td>East</td>\n",
       "      <td>CHA</td>\n",
       "      <td>Charlotte</td>\n",
       "      <td>Southeast</td>\n",
       "      <td>False</td>\n",
       "      <td>Hornets</td>\n",
       "      <td>hornets</td>\n",
       "      <td>1610612766</td>\n",
       "      <td>Charlotte</td>\n",
       "    </tr>\n",
       "    <tr>\n",
       "      <th>4</th>\n",
       "      <td>Chicago</td>\n",
       "      <td>Chicago Bulls</td>\n",
       "      <td>True</td>\n",
       "      <td>East</td>\n",
       "      <td>CHI</td>\n",
       "      <td>Chicago</td>\n",
       "      <td>Central</td>\n",
       "      <td>False</td>\n",
       "      <td>Bulls</td>\n",
       "      <td>bulls</td>\n",
       "      <td>1610612741</td>\n",
       "      <td>Chicago</td>\n",
       "    </tr>\n",
       "  </tbody>\n",
       "</table>\n",
       "</div>"
      ],
      "text/plain": [
       "        city           fullName  isNBAFranchise confName tricode  \\\n",
       "0    Atlanta      Atlanta Hawks            True     East     ATL   \n",
       "1     Boston     Boston Celtics            True     East     BOS   \n",
       "2   Brooklyn      Brooklyn Nets            True     East     BKN   \n",
       "3  Charlotte  Charlotte Hornets            True     East     CHA   \n",
       "4    Chicago      Chicago Bulls            True     East     CHI   \n",
       "\n",
       "  teamShortName    divName  isAllStar nickname  urlName      teamId  \\\n",
       "0       Atlanta  Southeast      False    Hawks    hawks  1610612737   \n",
       "1        Boston   Atlantic      False  Celtics  celtics  1610612738   \n",
       "2      Brooklyn   Atlantic      False     Nets     nets  1610612751   \n",
       "3     Charlotte  Southeast      False  Hornets  hornets  1610612766   \n",
       "4       Chicago    Central      False    Bulls    bulls  1610612741   \n",
       "\n",
       "  altCityName  \n",
       "0     Atlanta  \n",
       "1      Boston  \n",
       "2    Brooklyn  \n",
       "3   Charlotte  \n",
       "4     Chicago  "
      ]
     },
     "execution_count": 4,
     "metadata": {},
     "output_type": "execute_result"
    }
   ],
   "source": [
    "import pandas as pd\n",
    "\n",
    "teams_dataframe = pd.read_json(json_file_path)\n",
    "teams_dataframe.head() # just show the first 5 rows"
   ]
  },
  {
   "cell_type": "markdown",
   "metadata": {
    "slideshow": {
     "slide_type": "subslide"
    }
   },
   "source": [
    "## 基於欄的 JSON(Column-based JSON)\n",
    "\n",
    "例如 `teams_columnbased.json`\n",
    "\n",
    "```\n",
    "{\"column_1\": [value_1, value_2, ...],\n",
    " \"column_2\": [value_1, value_2, ...],\n",
    " ...}\n",
    "```"
   ]
  },
  {
   "cell_type": "code",
   "execution_count": 5,
   "metadata": {},
   "outputs": [
    {
     "data": {
      "text/html": [
       "<div>\n",
       "<style scoped>\n",
       "    .dataframe tbody tr th:only-of-type {\n",
       "        vertical-align: middle;\n",
       "    }\n",
       "\n",
       "    .dataframe tbody tr th {\n",
       "        vertical-align: top;\n",
       "    }\n",
       "\n",
       "    .dataframe thead th {\n",
       "        text-align: right;\n",
       "    }\n",
       "</style>\n",
       "<table border=\"1\" class=\"dataframe\">\n",
       "  <thead>\n",
       "    <tr style=\"text-align: right;\">\n",
       "      <th></th>\n",
       "      <th>city</th>\n",
       "      <th>fullName</th>\n",
       "      <th>isNBAFranchise</th>\n",
       "      <th>confName</th>\n",
       "      <th>tricode</th>\n",
       "      <th>teamShortName</th>\n",
       "      <th>divName</th>\n",
       "      <th>isAllStar</th>\n",
       "      <th>nickname</th>\n",
       "      <th>urlName</th>\n",
       "      <th>teamId</th>\n",
       "      <th>altCityName</th>\n",
       "    </tr>\n",
       "  </thead>\n",
       "  <tbody>\n",
       "    <tr>\n",
       "      <th>0</th>\n",
       "      <td>Atlanta</td>\n",
       "      <td>Atlanta Hawks</td>\n",
       "      <td>True</td>\n",
       "      <td>East</td>\n",
       "      <td>ATL</td>\n",
       "      <td>Atlanta</td>\n",
       "      <td>Southeast</td>\n",
       "      <td>False</td>\n",
       "      <td>Hawks</td>\n",
       "      <td>hawks</td>\n",
       "      <td>1610612737</td>\n",
       "      <td>Atlanta</td>\n",
       "    </tr>\n",
       "    <tr>\n",
       "      <th>1</th>\n",
       "      <td>Boston</td>\n",
       "      <td>Boston Celtics</td>\n",
       "      <td>True</td>\n",
       "      <td>East</td>\n",
       "      <td>BOS</td>\n",
       "      <td>Boston</td>\n",
       "      <td>Atlantic</td>\n",
       "      <td>False</td>\n",
       "      <td>Celtics</td>\n",
       "      <td>celtics</td>\n",
       "      <td>1610612738</td>\n",
       "      <td>Boston</td>\n",
       "    </tr>\n",
       "    <tr>\n",
       "      <th>2</th>\n",
       "      <td>Brooklyn</td>\n",
       "      <td>Brooklyn Nets</td>\n",
       "      <td>True</td>\n",
       "      <td>East</td>\n",
       "      <td>BKN</td>\n",
       "      <td>Brooklyn</td>\n",
       "      <td>Atlantic</td>\n",
       "      <td>False</td>\n",
       "      <td>Nets</td>\n",
       "      <td>nets</td>\n",
       "      <td>1610612751</td>\n",
       "      <td>Brooklyn</td>\n",
       "    </tr>\n",
       "    <tr>\n",
       "      <th>3</th>\n",
       "      <td>Charlotte</td>\n",
       "      <td>Charlotte Hornets</td>\n",
       "      <td>True</td>\n",
       "      <td>East</td>\n",
       "      <td>CHA</td>\n",
       "      <td>Charlotte</td>\n",
       "      <td>Southeast</td>\n",
       "      <td>False</td>\n",
       "      <td>Hornets</td>\n",
       "      <td>hornets</td>\n",
       "      <td>1610612766</td>\n",
       "      <td>Charlotte</td>\n",
       "    </tr>\n",
       "    <tr>\n",
       "      <th>4</th>\n",
       "      <td>Chicago</td>\n",
       "      <td>Chicago Bulls</td>\n",
       "      <td>True</td>\n",
       "      <td>East</td>\n",
       "      <td>CHI</td>\n",
       "      <td>Chicago</td>\n",
       "      <td>Central</td>\n",
       "      <td>False</td>\n",
       "      <td>Bulls</td>\n",
       "      <td>bulls</td>\n",
       "      <td>1610612741</td>\n",
       "      <td>Chicago</td>\n",
       "    </tr>\n",
       "  </tbody>\n",
       "</table>\n",
       "</div>"
      ],
      "text/plain": [
       "        city           fullName  isNBAFranchise confName tricode  \\\n",
       "0    Atlanta      Atlanta Hawks            True     East     ATL   \n",
       "1     Boston     Boston Celtics            True     East     BOS   \n",
       "2   Brooklyn      Brooklyn Nets            True     East     BKN   \n",
       "3  Charlotte  Charlotte Hornets            True     East     CHA   \n",
       "4    Chicago      Chicago Bulls            True     East     CHI   \n",
       "\n",
       "  teamShortName    divName  isAllStar nickname  urlName      teamId  \\\n",
       "0       Atlanta  Southeast      False    Hawks    hawks  1610612737   \n",
       "1        Boston   Atlantic      False  Celtics  celtics  1610612738   \n",
       "2      Brooklyn   Atlantic      False     Nets     nets  1610612751   \n",
       "3     Charlotte  Southeast      False  Hornets  hornets  1610612766   \n",
       "4       Chicago    Central      False    Bulls    bulls  1610612741   \n",
       "\n",
       "  altCityName  \n",
       "0     Atlanta  \n",
       "1      Boston  \n",
       "2    Brooklyn  \n",
       "3   Charlotte  \n",
       "4     Chicago  "
      ]
     },
     "execution_count": 5,
     "metadata": {},
     "output_type": "execute_result"
    }
   ],
   "source": [
    "teams_dataframe = pd.read_json(json_file_path)\n",
    "teams_dataframe.head() # just show the first 5 rows"
   ]
  },
  {
   "cell_type": "markdown",
   "metadata": {
    "slideshow": {
     "slide_type": "subslide"
    }
   },
   "source": [
    "## 原則上 `pd.read_json()` 函數會自行判斷基於列或者基於欄\n",
    "\n",
    "如果沒有判斷正確，可以指定參數 `orient=\"records\"|\"columns\"`\n",
    "\n",
    "來源：<https://pandas.pydata.org/docs/reference/api/pandas.read_json.html>"
   ]
  },
  {
   "cell_type": "markdown",
   "metadata": {
    "slideshow": {
     "slide_type": "subslide"
    }
   },
   "source": [
    "## 特定符號分隔的純文字檔案\n",
    "\n",
    "- 透過特定符號分隔欄位的結構化資料。\n",
    "- 常見的有逗號（`,`）、分號（`;`）、Tab 鍵（`\\t`）等。\n",
    "- 最廣泛使用的是逗號，因此有特定的副檔名 `.csv` 意指逗號分隔值（Comma-separated values）。"
   ]
  },
  {
   "cell_type": "markdown",
   "metadata": {
    "slideshow": {
     "slide_type": "subslide"
    }
   },
   "source": [
    "## 使用 `pd.read_csv()` 函數載入"
   ]
  },
  {
   "cell_type": "code",
   "execution_count": 6,
   "metadata": {},
   "outputs": [
    {
     "data": {
      "text/html": [
       "<div>\n",
       "<style scoped>\n",
       "    .dataframe tbody tr th:only-of-type {\n",
       "        vertical-align: middle;\n",
       "    }\n",
       "\n",
       "    .dataframe tbody tr th {\n",
       "        vertical-align: top;\n",
       "    }\n",
       "\n",
       "    .dataframe thead th {\n",
       "        text-align: right;\n",
       "    }\n",
       "</style>\n",
       "<table border=\"1\" class=\"dataframe\">\n",
       "  <thead>\n",
       "    <tr style=\"text-align: right;\">\n",
       "      <th></th>\n",
       "      <th>id</th>\n",
       "      <th>title</th>\n",
       "      <th>release_year</th>\n",
       "      <th>rating</th>\n",
       "      <th>director</th>\n",
       "      <th>runtime</th>\n",
       "    </tr>\n",
       "  </thead>\n",
       "  <tbody>\n",
       "    <tr>\n",
       "      <th>0</th>\n",
       "      <td>1</td>\n",
       "      <td>The Shawshank Redemption</td>\n",
       "      <td>1994</td>\n",
       "      <td>9.3</td>\n",
       "      <td>Frank Darabont</td>\n",
       "      <td>142</td>\n",
       "    </tr>\n",
       "    <tr>\n",
       "      <th>1</th>\n",
       "      <td>2</td>\n",
       "      <td>The Godfather</td>\n",
       "      <td>1972</td>\n",
       "      <td>9.2</td>\n",
       "      <td>Francis Ford Coppola</td>\n",
       "      <td>175</td>\n",
       "    </tr>\n",
       "    <tr>\n",
       "      <th>2</th>\n",
       "      <td>3</td>\n",
       "      <td>The Godfather: Part II</td>\n",
       "      <td>1974</td>\n",
       "      <td>9.0</td>\n",
       "      <td>Francis Ford Coppola</td>\n",
       "      <td>202</td>\n",
       "    </tr>\n",
       "    <tr>\n",
       "      <th>3</th>\n",
       "      <td>4</td>\n",
       "      <td>The Dark Knight</td>\n",
       "      <td>2008</td>\n",
       "      <td>9.0</td>\n",
       "      <td>Christopher Nolan</td>\n",
       "      <td>152</td>\n",
       "    </tr>\n",
       "    <tr>\n",
       "      <th>4</th>\n",
       "      <td>5</td>\n",
       "      <td>12 Angry Men</td>\n",
       "      <td>1957</td>\n",
       "      <td>9.0</td>\n",
       "      <td>Sidney Lumet</td>\n",
       "      <td>96</td>\n",
       "    </tr>\n",
       "  </tbody>\n",
       "</table>\n",
       "</div>"
      ],
      "text/plain": [
       "   id                     title  release_year  rating              director  \\\n",
       "0   1  The Shawshank Redemption          1994     9.3        Frank Darabont   \n",
       "1   2             The Godfather          1972     9.2  Francis Ford Coppola   \n",
       "2   3    The Godfather: Part II          1974     9.0  Francis Ford Coppola   \n",
       "3   4           The Dark Knight          2008     9.0     Christopher Nolan   \n",
       "4   5              12 Angry Men          1957     9.0          Sidney Lumet   \n",
       "\n",
       "   runtime  \n",
       "0      142  \n",
       "1      175  \n",
       "2      202  \n",
       "3      152  \n",
       "4       96  "
      ]
     },
     "execution_count": 6,
     "metadata": {},
     "output_type": "execute_result"
    }
   ],
   "source": [
    "movies_csv = pd.read_csv(\"/home/jovyan/data/internet-movie-database/movies.csv\")\n",
    "movies_csv.head() # just show the first 5 rows"
   ]
  },
  {
   "cell_type": "markdown",
   "metadata": {
    "slideshow": {
     "slide_type": "subslide"
    }
   },
   "source": [
    "## 其他特定符號分隔的純文字檔依然可以使用 `pd.read_csv()` 函數\n",
    "\n",
    "指定參數 `sep=\";\"|\"\\t\"`\n",
    "\n",
    "來源：<https://pandas.pydata.org/docs/reference/api/pandas.read_csv.html>"
   ]
  },
  {
   "cell_type": "markdown",
   "metadata": {
    "slideshow": {
     "slide_type": "slide"
    }
   },
   "source": [
    "## 試算表"
   ]
  },
  {
   "cell_type": "markdown",
   "metadata": {
    "slideshow": {
     "slide_type": "subslide"
    }
   },
   "source": [
    "## 什麼是試算表\n",
    "\n",
    "> 試算表是類比紙本計算表格的電腦軟體，由許多列與欄所構成的儲存格，其中可以存放數值、算式或文字。常見的試算表軟體有 Microsoft Excel、macOS Numbers 與 Google Sheets\n",
    "\n",
    "來源：<https://en.wikipedia.org/wiki/Spreadsheet>"
   ]
  },
  {
   "cell_type": "markdown",
   "metadata": {
    "slideshow": {
     "slide_type": "subslide"
    }
   },
   "source": [
    "## 使用 `pd.read_excel()` 函數載入"
   ]
  },
  {
   "cell_type": "code",
   "execution_count": 7,
   "metadata": {},
   "outputs": [
    {
     "data": {
      "text/html": [
       "<div>\n",
       "<style scoped>\n",
       "    .dataframe tbody tr th:only-of-type {\n",
       "        vertical-align: middle;\n",
       "    }\n",
       "\n",
       "    .dataframe tbody tr th {\n",
       "        vertical-align: top;\n",
       "    }\n",
       "\n",
       "    .dataframe thead th {\n",
       "        text-align: right;\n",
       "    }\n",
       "</style>\n",
       "<table border=\"1\" class=\"dataframe\">\n",
       "  <thead>\n",
       "    <tr style=\"text-align: right;\">\n",
       "      <th></th>\n",
       "      <th>id</th>\n",
       "      <th>title</th>\n",
       "      <th>release_year</th>\n",
       "      <th>rating</th>\n",
       "      <th>director</th>\n",
       "      <th>runtime</th>\n",
       "    </tr>\n",
       "  </thead>\n",
       "  <tbody>\n",
       "    <tr>\n",
       "      <th>0</th>\n",
       "      <td>1.0</td>\n",
       "      <td>The Shawshank Redemption</td>\n",
       "      <td>1994.0</td>\n",
       "      <td>9.3</td>\n",
       "      <td>Frank Darabont</td>\n",
       "      <td>142.0</td>\n",
       "    </tr>\n",
       "    <tr>\n",
       "      <th>1</th>\n",
       "      <td>2.0</td>\n",
       "      <td>The Godfather</td>\n",
       "      <td>1972.0</td>\n",
       "      <td>9.2</td>\n",
       "      <td>Francis Ford Coppola</td>\n",
       "      <td>175.0</td>\n",
       "    </tr>\n",
       "    <tr>\n",
       "      <th>2</th>\n",
       "      <td>3.0</td>\n",
       "      <td>The Godfather: Part II</td>\n",
       "      <td>1974.0</td>\n",
       "      <td>9.0</td>\n",
       "      <td>Francis Ford Coppola</td>\n",
       "      <td>202.0</td>\n",
       "    </tr>\n",
       "    <tr>\n",
       "      <th>3</th>\n",
       "      <td>4.0</td>\n",
       "      <td>The Dark Knight</td>\n",
       "      <td>2008.0</td>\n",
       "      <td>9.0</td>\n",
       "      <td>Christopher Nolan</td>\n",
       "      <td>152.0</td>\n",
       "    </tr>\n",
       "    <tr>\n",
       "      <th>4</th>\n",
       "      <td>5.0</td>\n",
       "      <td>12 Angry Men</td>\n",
       "      <td>1957.0</td>\n",
       "      <td>9.0</td>\n",
       "      <td>Sidney Lumet</td>\n",
       "      <td>96.0</td>\n",
       "    </tr>\n",
       "  </tbody>\n",
       "</table>\n",
       "</div>"
      ],
      "text/plain": [
       "    id                     title  release_year  rating              director  \\\n",
       "0  1.0  The Shawshank Redemption        1994.0     9.3        Frank Darabont   \n",
       "1  2.0             The Godfather        1972.0     9.2  Francis Ford Coppola   \n",
       "2  3.0    The Godfather: Part II        1974.0     9.0  Francis Ford Coppola   \n",
       "3  4.0           The Dark Knight        2008.0     9.0     Christopher Nolan   \n",
       "4  5.0              12 Angry Men        1957.0     9.0          Sidney Lumet   \n",
       "\n",
       "   runtime  \n",
       "0    142.0  \n",
       "1    175.0  \n",
       "2    202.0  \n",
       "3    152.0  \n",
       "4     96.0  "
      ]
     },
     "execution_count": 7,
     "metadata": {},
     "output_type": "execute_result"
    }
   ],
   "source": [
    "excel_file_path = \"/home/jovyan/data/internet-movie-database/imdb.xlsx\"\n",
    "movies_xlsx = pd.read_excel(excel_file_path)\n",
    "movies_xlsx.head() # just show the first 5 rows"
   ]
  },
  {
   "cell_type": "markdown",
   "metadata": {
    "slideshow": {
     "slide_type": "subslide"
    }
   },
   "source": [
    "## 試算表檔案的組成\n",
    "\n",
    "- 試算表的檔案為一個活頁簿（Workbook）、活頁簿中可以有多個試算表（Spreadsheets）\n",
    "- `pd.read_excel()` 函數預設讀取第零張試算表（左邊數來第一張）。\n",
    "- 可以透過 `pd.ExcelFile.sheet_names` 屬性檢視活頁簿中有幾個試算表。"
   ]
  },
  {
   "cell_type": "code",
   "execution_count": 8,
   "metadata": {},
   "outputs": [
    {
     "data": {
      "text/plain": [
       "['movies', 'casting', 'actors']"
      ]
     },
     "execution_count": 8,
     "metadata": {},
     "output_type": "execute_result"
    }
   ],
   "source": [
    "excel_file = pd.ExcelFile(excel_file_path)\n",
    "excel_file.sheet_names"
   ]
  },
  {
   "cell_type": "markdown",
   "metadata": {
    "slideshow": {
     "slide_type": "subslide"
    }
   },
   "source": [
    "## 指定參數 `sheet_name` 載入特定試算表"
   ]
  },
  {
   "cell_type": "code",
   "execution_count": 9,
   "metadata": {},
   "outputs": [
    {
     "name": "stdout",
     "output_type": "stream",
     "text": [
      "(250, 6)\n",
      "(3584, 3)\n",
      "(3108, 2)\n"
     ]
    }
   ],
   "source": [
    "movies_xlsx = pd.read_excel(excel_file_path)\n",
    "casting_xlsx = pd.read_excel(excel_file_path, sheet_name=\"casting\")\n",
    "actors_xlsx = pd.read_excel(excel_file_path, sheet_name=\"actors\")\n",
    "print(movies_xlsx.shape)\n",
    "print(casting_xlsx.shape)\n",
    "print(actors_xlsx.shape)"
   ]
  },
  {
   "cell_type": "markdown",
   "metadata": {
    "slideshow": {
     "slide_type": "subslide"
    }
   },
   "source": [
    "## 指定參數 `sheet_name` 亦能夠接受整數輸入，左邊數來第幾張試算表（由零開始）"
   ]
  },
  {
   "cell_type": "code",
   "execution_count": 10,
   "metadata": {},
   "outputs": [
    {
     "name": "stdout",
     "output_type": "stream",
     "text": [
      "(250, 6)\n",
      "(3584, 3)\n",
      "(3108, 2)\n"
     ]
    }
   ],
   "source": [
    "movies_xlsx = pd.read_excel(excel_file_path)\n",
    "casting_xlsx = pd.read_excel(excel_file_path, sheet_name=1)\n",
    "actors_xlsx = pd.read_excel(excel_file_path, sheet_name=2)\n",
    "print(movies_xlsx.shape)\n",
    "print(casting_xlsx.shape)\n",
    "print(actors_xlsx.shape)"
   ]
  },
  {
   "cell_type": "markdown",
   "metadata": {
    "slideshow": {
     "slide_type": "slide"
    }
   },
   "source": [
    "## 關聯式資料庫中的資料表"
   ]
  },
  {
   "cell_type": "markdown",
   "metadata": {
    "slideshow": {
     "slide_type": "subslide"
    }
   },
   "source": [
    "## 什麼是關聯式資料庫中的資料表\n",
    "\n",
    "> 關聯式資料庫（Relational database）是基於關聯模型所建構的資料庫，是儲存在電腦中的資料集合。一個資料庫中通常會有多個資料表（Table）能夠藉助集合運算（Set operation）等數學方法來處理資料表之間的操作和關聯，也能夠用來表示現實世界中的商業邏輯，並能夠接受結構化查詢語言 SQL 來進行檢索和操作。\n",
    "\n",
    "來源：<https://en.wikipedia.org/wiki/Relational_database>"
   ]
  },
  {
   "cell_type": "markdown",
   "metadata": {
    "slideshow": {
     "slide_type": "subslide"
    }
   },
   "source": [
    "## 如何載入關聯式資料庫中的資料表\n",
    "\n",
    "- 使用 `sqlite3.connect()` 函數建立與資料庫的連線。\n",
    "- 運用 `str` 儲存結構化查詢語言 SQL\n",
    "- 使用 `pd.read_sql()` 函數載入。\n",
    "- 使用 `Connection.close()` 關閉資料庫連線。\n",
    "\n",
    "```python\n",
    "import sqlite3\n",
    "import pandas as pd\n",
    "\n",
    "connection = sqlite3.connect(\"PATH/TO/SQLITE/DATABASE\")\n",
    "query = \"\"\"SQL QUERY\"\"\"\n",
    "pd.read_sql(query, connection)\n",
    "connection.close()\n",
    "```"
   ]
  },
  {
   "cell_type": "markdown",
   "metadata": {
    "slideshow": {
     "slide_type": "subslide"
    }
   },
   "source": [
    "## 關聯式資料庫 `/home/jovyan/data/internet-movie-database/imdb.db` 的資料表\n",
    "\n",
    "- `movies`\n",
    "- `casting`\n",
    "- `actors`"
   ]
  },
  {
   "cell_type": "markdown",
   "metadata": {
    "slideshow": {
     "slide_type": "subslide"
    }
   },
   "source": [
    "## 建立與資料庫的連線"
   ]
  },
  {
   "cell_type": "code",
   "execution_count": 11,
   "metadata": {},
   "outputs": [
    {
     "data": {
      "text/plain": [
       "sqlite3.Connection"
      ]
     },
     "execution_count": 11,
     "metadata": {},
     "output_type": "execute_result"
    }
   ],
   "source": [
    "import sqlite3\n",
    "\n",
    "connection = sqlite3.connect(\"/home/jovyan/data/internet-movie-database/imdb.db\")\n",
    "type(connection)"
   ]
  },
  {
   "cell_type": "markdown",
   "metadata": {
    "slideshow": {
     "slide_type": "subslide"
    }
   },
   "source": [
    "## 載入 `movies` 資料表"
   ]
  },
  {
   "cell_type": "code",
   "execution_count": 12,
   "metadata": {},
   "outputs": [
    {
     "name": "stdout",
     "output_type": "stream",
     "text": [
      "(250, 6)\n"
     ]
    },
    {
     "data": {
      "text/html": [
       "<div>\n",
       "<style scoped>\n",
       "    .dataframe tbody tr th:only-of-type {\n",
       "        vertical-align: middle;\n",
       "    }\n",
       "\n",
       "    .dataframe tbody tr th {\n",
       "        vertical-align: top;\n",
       "    }\n",
       "\n",
       "    .dataframe thead th {\n",
       "        text-align: right;\n",
       "    }\n",
       "</style>\n",
       "<table border=\"1\" class=\"dataframe\">\n",
       "  <thead>\n",
       "    <tr style=\"text-align: right;\">\n",
       "      <th></th>\n",
       "      <th>id</th>\n",
       "      <th>title</th>\n",
       "      <th>release_year</th>\n",
       "      <th>rating</th>\n",
       "      <th>director</th>\n",
       "      <th>runtime</th>\n",
       "    </tr>\n",
       "  </thead>\n",
       "  <tbody>\n",
       "    <tr>\n",
       "      <th>0</th>\n",
       "      <td>1</td>\n",
       "      <td>The Shawshank Redemption</td>\n",
       "      <td>1994</td>\n",
       "      <td>9.3</td>\n",
       "      <td>Frank Darabont</td>\n",
       "      <td>142</td>\n",
       "    </tr>\n",
       "    <tr>\n",
       "      <th>1</th>\n",
       "      <td>2</td>\n",
       "      <td>The Godfather</td>\n",
       "      <td>1972</td>\n",
       "      <td>9.2</td>\n",
       "      <td>Francis Ford Coppola</td>\n",
       "      <td>175</td>\n",
       "    </tr>\n",
       "    <tr>\n",
       "      <th>2</th>\n",
       "      <td>3</td>\n",
       "      <td>The Godfather: Part II</td>\n",
       "      <td>1974</td>\n",
       "      <td>9.0</td>\n",
       "      <td>Francis Ford Coppola</td>\n",
       "      <td>202</td>\n",
       "    </tr>\n",
       "    <tr>\n",
       "      <th>3</th>\n",
       "      <td>4</td>\n",
       "      <td>The Dark Knight</td>\n",
       "      <td>2008</td>\n",
       "      <td>9.0</td>\n",
       "      <td>Christopher Nolan</td>\n",
       "      <td>152</td>\n",
       "    </tr>\n",
       "    <tr>\n",
       "      <th>4</th>\n",
       "      <td>5</td>\n",
       "      <td>12 Angry Men</td>\n",
       "      <td>1957</td>\n",
       "      <td>9.0</td>\n",
       "      <td>Sidney Lumet</td>\n",
       "      <td>96</td>\n",
       "    </tr>\n",
       "  </tbody>\n",
       "</table>\n",
       "</div>"
      ],
      "text/plain": [
       "   id                     title  release_year  rating              director  \\\n",
       "0   1  The Shawshank Redemption          1994     9.3        Frank Darabont   \n",
       "1   2             The Godfather          1972     9.2  Francis Ford Coppola   \n",
       "2   3    The Godfather: Part II          1974     9.0  Francis Ford Coppola   \n",
       "3   4           The Dark Knight          2008     9.0     Christopher Nolan   \n",
       "4   5              12 Angry Men          1957     9.0          Sidney Lumet   \n",
       "\n",
       "   runtime  \n",
       "0      142  \n",
       "1      175  \n",
       "2      202  \n",
       "3      152  \n",
       "4       96  "
      ]
     },
     "execution_count": 12,
     "metadata": {},
     "output_type": "execute_result"
    }
   ],
   "source": [
    "query = \"\"\"\n",
    "SELECT *\n",
    "  FROM movies;\n",
    "\"\"\"\n",
    "movies_db = pd.read_sql(query, connection)\n",
    "print(movies_db.shape)\n",
    "movies_db.head() # just show the first 5 rows"
   ]
  },
  {
   "cell_type": "markdown",
   "metadata": {
    "slideshow": {
     "slide_type": "subslide"
    }
   },
   "source": [
    "## 載入 `casting` 資料表"
   ]
  },
  {
   "cell_type": "code",
   "execution_count": 13,
   "metadata": {},
   "outputs": [
    {
     "name": "stdout",
     "output_type": "stream",
     "text": [
      "(3584, 3)\n"
     ]
    },
    {
     "data": {
      "text/html": [
       "<div>\n",
       "<style scoped>\n",
       "    .dataframe tbody tr th:only-of-type {\n",
       "        vertical-align: middle;\n",
       "    }\n",
       "\n",
       "    .dataframe tbody tr th {\n",
       "        vertical-align: top;\n",
       "    }\n",
       "\n",
       "    .dataframe thead th {\n",
       "        text-align: right;\n",
       "    }\n",
       "</style>\n",
       "<table border=\"1\" class=\"dataframe\">\n",
       "  <thead>\n",
       "    <tr style=\"text-align: right;\">\n",
       "      <th></th>\n",
       "      <th>movie_id</th>\n",
       "      <th>actor_id</th>\n",
       "      <th>ord</th>\n",
       "    </tr>\n",
       "  </thead>\n",
       "  <tbody>\n",
       "    <tr>\n",
       "      <th>0</th>\n",
       "      <td>1</td>\n",
       "      <td>2853</td>\n",
       "      <td>1</td>\n",
       "    </tr>\n",
       "    <tr>\n",
       "      <th>1</th>\n",
       "      <td>1</td>\n",
       "      <td>2097</td>\n",
       "      <td>2</td>\n",
       "    </tr>\n",
       "    <tr>\n",
       "      <th>2</th>\n",
       "      <td>1</td>\n",
       "      <td>333</td>\n",
       "      <td>3</td>\n",
       "    </tr>\n",
       "    <tr>\n",
       "      <th>3</th>\n",
       "      <td>1</td>\n",
       "      <td>3029</td>\n",
       "      <td>4</td>\n",
       "    </tr>\n",
       "    <tr>\n",
       "      <th>4</th>\n",
       "      <td>1</td>\n",
       "      <td>533</td>\n",
       "      <td>5</td>\n",
       "    </tr>\n",
       "  </tbody>\n",
       "</table>\n",
       "</div>"
      ],
      "text/plain": [
       "   movie_id  actor_id  ord\n",
       "0         1      2853    1\n",
       "1         1      2097    2\n",
       "2         1       333    3\n",
       "3         1      3029    4\n",
       "4         1       533    5"
      ]
     },
     "execution_count": 13,
     "metadata": {},
     "output_type": "execute_result"
    }
   ],
   "source": [
    "query = \"\"\"\n",
    "SELECT *\n",
    "  FROM casting;\n",
    "\"\"\"\n",
    "casting_db = pd.read_sql(query, connection)\n",
    "print(casting_db.shape)\n",
    "casting_db.head() # just show the first 5 rows"
   ]
  },
  {
   "cell_type": "markdown",
   "metadata": {
    "slideshow": {
     "slide_type": "subslide"
    }
   },
   "source": [
    "## 載入 `actors` 資料表"
   ]
  },
  {
   "cell_type": "code",
   "execution_count": 14,
   "metadata": {},
   "outputs": [
    {
     "name": "stdout",
     "output_type": "stream",
     "text": [
      "(3108, 2)\n"
     ]
    },
    {
     "data": {
      "text/html": [
       "<div>\n",
       "<style scoped>\n",
       "    .dataframe tbody tr th:only-of-type {\n",
       "        vertical-align: middle;\n",
       "    }\n",
       "\n",
       "    .dataframe tbody tr th {\n",
       "        vertical-align: top;\n",
       "    }\n",
       "\n",
       "    .dataframe thead th {\n",
       "        text-align: right;\n",
       "    }\n",
       "</style>\n",
       "<table border=\"1\" class=\"dataframe\">\n",
       "  <thead>\n",
       "    <tr style=\"text-align: right;\">\n",
       "      <th></th>\n",
       "      <th>id</th>\n",
       "      <th>name</th>\n",
       "    </tr>\n",
       "  </thead>\n",
       "  <tbody>\n",
       "    <tr>\n",
       "      <th>0</th>\n",
       "      <td>1</td>\n",
       "      <td>Aamir Khan</td>\n",
       "    </tr>\n",
       "    <tr>\n",
       "      <th>1</th>\n",
       "      <td>2</td>\n",
       "      <td>Aaron Eckhart</td>\n",
       "    </tr>\n",
       "    <tr>\n",
       "      <th>2</th>\n",
       "      <td>3</td>\n",
       "      <td>Abbas-Ali Roomandi</td>\n",
       "    </tr>\n",
       "    <tr>\n",
       "      <th>3</th>\n",
       "      <td>4</td>\n",
       "      <td>Abbey Lee</td>\n",
       "    </tr>\n",
       "    <tr>\n",
       "      <th>4</th>\n",
       "      <td>5</td>\n",
       "      <td>Abbie Cornish</td>\n",
       "    </tr>\n",
       "  </tbody>\n",
       "</table>\n",
       "</div>"
      ],
      "text/plain": [
       "   id                name\n",
       "0   1          Aamir Khan\n",
       "1   2       Aaron Eckhart\n",
       "2   3  Abbas-Ali Roomandi\n",
       "3   4           Abbey Lee\n",
       "4   5       Abbie Cornish"
      ]
     },
     "execution_count": 14,
     "metadata": {},
     "output_type": "execute_result"
    }
   ],
   "source": [
    "query = \"\"\"\n",
    "SELECT *\n",
    "  FROM actors;\n",
    "\"\"\"\n",
    "actors_db = pd.read_sql(query, connection)\n",
    "print(actors_db.shape)\n",
    "actors_db.head() # just show the first 5 rows"
   ]
  },
  {
   "cell_type": "markdown",
   "metadata": {
    "slideshow": {
     "slide_type": "subslide"
    }
   },
   "source": [
    "## 關閉資料庫連線"
   ]
  },
  {
   "cell_type": "code",
   "execution_count": 15,
   "metadata": {},
   "outputs": [],
   "source": [
    "connection.close()"
   ]
  },
  {
   "cell_type": "markdown",
   "metadata": {
    "slideshow": {
     "slide_type": "slide"
    }
   },
   "source": [
    "## 重點統整\n",
    "\n",
    "- 資料科學非技術性的工作內容：\n",
    "    - 與使用者共同進行需求發想。\n",
    "    - 收斂需求並且擬定假說與敘事邏輯。\n",
    "    - 透過測試資料驗證假說。\n",
    "    - 透過溝通分享驗證敘事邏輯。"
   ]
  },
  {
   "cell_type": "markdown",
   "metadata": {
    "slideshow": {
     "slide_type": "subslide"
    }
   },
   "source": [
    "## 重點統整（續）\n",
    "\n",
    "- 常見的來源資料格式：\n",
    "    - 純文字檔案。\n",
    "    - 試算表。\n",
    "    - 關聯式資料庫中的資料表。"
   ]
  },
  {
   "cell_type": "markdown",
   "metadata": {
    "slideshow": {
     "slide_type": "subslide"
    }
   },
   "source": [
    "## 重點統整（續）\n",
    "\n",
    "- 使用 `TextIOWrapper.readlines()` 載入非結構化的純文字檔案。\n",
    "- 使用 `json.load()` 函數載入 JSON。\n",
    "- 使用 `pd.read_csv()` 函數載入特定符號分隔的結構化純文字檔案。\n",
    "- 使用 `pd.read_json()` 函數載入每組鍵值長度相同的 JSON。\n",
    "- 使用 `pd.read_excel()` 函數載入試算表。\n",
    "- 使用 `pd.read_sql()` 函數載入關聯式資料庫的資料表。"
   ]
  }
 ],
 "metadata": {
  "celltoolbar": "Slideshow",
  "kernelspec": {
   "display_name": "Python Fifty Plus",
   "language": "python",
   "name": "pythonfiftyplus"
  },
  "language_info": {
   "codemirror_mode": {
    "name": "ipython",
    "version": 3
   },
   "file_extension": ".py",
   "mimetype": "text/x-python",
   "name": "python",
   "nbconvert_exporter": "python",
   "pygments_lexer": "ipython3",
   "version": "3.9.7"
  }
 },
 "nbformat": 4,
 "nbformat_minor": 4
}
