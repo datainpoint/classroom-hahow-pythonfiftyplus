{
 "cells": [
  {
   "cell_type": "markdown",
   "id": "heated-welding",
   "metadata": {
    "deletable": false
   },
   "source": [
    "# Python 的 50+ 練習：資料科學學習手冊\n",
    "\n",
    "> 資料的載入\n",
    "\n",
    "[數據交點](https://www.datainpoint.com) | 郭耀仁 <yaojenkuo@datainpoint.com>"
   ]
  },
  {
   "cell_type": "markdown",
   "id": "fleet-tokyo",
   "metadata": {
    "deletable": false
   },
   "source": [
    "## 練習題指引\n",
    "\n",
    "- 由於近期 mybinder.org 的服務不穩定，新增 Google Colab 作為另一個寫作練習題的平台。\n",
    "- 開始寫作之前，可以先按上方「Copy to Drive」按鈕將筆記本複製到自己的 Google 雲端硬碟。\n",
    "- 練習題閒置超過 10 分鐘會自動斷線，只要重新點選練習題連結即可重新啟動。\n",
    "- 第一個程式碼儲存格會將可能用得到的模組載入。\n",
    "- 如果練習題需要載入檔案，檔案存放絕對路徑為 `/content`\n",
    "- 練習題已經給定函數、類別、預期輸入或參數名稱，我們只需要寫作程式區塊。同時也給定函數的類別提示，說明預期輸入以及預期輸出的類別。\n",
    "- 說明（Docstring）會描述測試如何進行，閱讀說明能夠暸解預期輸入以及預期輸出之間的關係，幫助我們更快解題。\n",
    "- 請在 `### BEGIN SOLUTION` 與 `### END SOLUTION` 這兩個註解之間寫作函數或者類別的程式區塊。\n",
    "- 將預期輸出放置在 `return` 保留字之後，若只是用 `print()` 函數將預期輸出印出無法通過測試。\n",
    "- 語法錯誤（`SyntaxError`）或縮排錯誤（`IndentationError`）等將會導致測試失效，測試之前應該先在筆記本使用函數觀察是否與說明（Docstring）描述的功能相符。\n",
    "- 如果卡關，可以先看練習題詳解或者複習課程單元影片之後再繼續寫作。\n",
    "- 執行測試的步驟：\n",
    "    1. 點選右上角 Connect\n",
    "    2. 點選上方選單的 Runtime -> Restart and run all -> Yes -> Run anyway\n",
    "    3. 移動到 Google Colab 的最後一個儲存格看批改測試結果。\n",
    "- 先執行下列兩個程式碼儲存格載入需要的模組與下載檔案至 `/content`"
   ]
  },
  {
   "cell_type": "code",
   "execution_count": null,
   "id": "collected-norwegian",
   "metadata": {},
   "outputs": [],
   "source": [
    "import json\n",
    "import sqlite3\n",
    "import pandas as pd"
   ]
  },
  {
   "cell_type": "code",
   "execution_count": null,
   "id": "4104e4bc",
   "metadata": {},
   "outputs": [],
   "source": [
    "!wget -N https://raw.githubusercontent.com/datainpoint/classroom-hahow-pythonfiftyplus/main/exercise_index.json\n",
    "!wget -N https://raw.githubusercontent.com/datainpoint/classroom-hahow-pythonfiftyplus/main/data/internet-movie-database/the_shawshank_redemption_summaries.txt\n",
    "!wget -N https://raw.githubusercontent.com/datainpoint/classroom-hahow-pythonfiftyplus/main/data/nba/teams_rowbased.json\n",
    "!wget -N https://raw.githubusercontent.com/datainpoint/classroom-hahow-pythonfiftyplus/main/data/nba/teams_columnbased.json\n",
    "!wget -N https://raw.githubusercontent.com/datainpoint/classroom-hahow-pythonfiftyplus/main/data/internet-movie-database/movies.csv\n",
    "!wget -N https://raw.githubusercontent.com/datainpoint/classroom-hahow-pythonfiftyplus/main/data/internet-movie-database/imdb.xlsx\n",
    "!wget -N https://raw.githubusercontent.com/datainpoint/classroom-hahow-pythonfiftyplus/main/data/internet-movie-database/imdb.db"
   ]
  },
  {
   "cell_type": "markdown",
   "id": "typical-impact",
   "metadata": {},
   "source": [
    "## 111. 載入 `the_shawshank_redemption_summaries.txt`\n",
    "\n",
    "定義函數 `import_txt_file()` 將位於 `/content` 路徑的 `the_shawshank_redemption_summaries.txt` 載入為一個 `list`。\n",
    "\n",
    "- 指定絕對路徑。\n",
    "- 運用 `with` 敘述。\n",
    "- 使用 `open()` 函數。\n",
    "- 使用 `TextIOWrapper.readlines()`\n",
    "- 將預期輸出寫在 `return` 之後。"
   ]
  },
  {
   "cell_type": "code",
   "execution_count": null,
   "id": "economic-blast",
   "metadata": {},
   "outputs": [],
   "source": [
    "def import_txt_file() -> list:\n",
    "    \"\"\"\n",
    "    >>> txt_file = import_txt_file()\n",
    "    >>> type(txt_file)\n",
    "    list\n",
    "    >>> len(txt_file)\n",
    "    5\n",
    "    \"\"\"\n",
    "    ### BEGIN SOLUTION\n",
    "    \n",
    "    ### END SOLUTION"
   ]
  },
  {
   "cell_type": "markdown",
   "id": "latin-township",
   "metadata": {},
   "source": [
    "## 112. 載入 `teams_rowbased.json`\n",
    "\n",
    "定義函數 `import_json_file_as_list()` 將位於 `/content` 路徑的 `teams_rowbased.json` 載入為一個 `list`。\n",
    "\n",
    "- 指定絕對路徑。\n",
    "- 運用 `with` 敘述。\n",
    "- 使用 `open()` 函數。\n",
    "- 使用 `json.load()` 函數。\n",
    "- 將預期輸出寫在 `return` 之後。"
   ]
  },
  {
   "cell_type": "code",
   "execution_count": null,
   "id": "satisfied-success",
   "metadata": {},
   "outputs": [],
   "source": [
    "def import_json_file_as_list() -> list:\n",
    "    \"\"\"\n",
    "    >>> json_file_as_list = import_json_file_as_list()\n",
    "    >>> type(json_file_as_list)\n",
    "    list\n",
    "    >>> len(json_file_as_list)\n",
    "    34\n",
    "    \"\"\"\n",
    "    ### BEGIN SOLUTION\n",
    "    \n",
    "    ### END SOLUTION"
   ]
  },
  {
   "cell_type": "markdown",
   "id": "8c0b8bd9",
   "metadata": {},
   "source": [
    "## 113. 載入 `teams_columnbased.json`\n",
    "\n",
    "定義函數 `import_json_file_as_dataframe()` 將位於 `/content` 路徑的 `teams_columnbased.json` 載入為一個 `DataFrame`。\n",
    "\n",
    "- 指定絕對路徑。\n",
    "- 使用 `pd.read_json()` 函數。\n",
    "- 將預期輸出寫在 `return` 之後。"
   ]
  },
  {
   "cell_type": "code",
   "execution_count": null,
   "id": "97d22f0d",
   "metadata": {},
   "outputs": [],
   "source": [
    "def import_json_file_as_dataframe() -> pd.core.frame.DataFrame:\n",
    "    \"\"\"\n",
    "    >>> json_file_as_dataframe = import_json_file_as_dataframe()\n",
    "    >>> type(json_file_as_dataframe)\n",
    "    pandas.core.frame.DataFrame\n",
    "    >>> json_file_as_dataframe.shape\n",
    "    (34, 12)\n",
    "    \"\"\"\n",
    "    ### BEGIN SOLUTION\n",
    "    \n",
    "    ### END SOLUTION"
   ]
  },
  {
   "cell_type": "markdown",
   "id": "touched-discharge",
   "metadata": {},
   "source": [
    "## 114. 載入 `movies.csv`\n",
    "\n",
    "定義函數 `import_csv_file()` 將位於 `/content` 路徑的 `movies.csv` 載入為一個 `DataFrame`\n",
    "\n",
    "- 指定絕對路徑。\n",
    "- 使用 `pd.read_csv()` 函數。\n",
    "- 將預期輸出寫在 `return` 之後。"
   ]
  },
  {
   "cell_type": "code",
   "execution_count": null,
   "id": "extra-uncertainty",
   "metadata": {},
   "outputs": [],
   "source": [
    "def import_csv_file() -> pd.core.frame.DataFrame:\n",
    "    \"\"\"\n",
    "    >>> csv_file = import_csv_file()\n",
    "    >>> type(csv_file)\n",
    "    pandas.core.frame.DataFrame\n",
    "    >>> csv_file.shape\n",
    "    (250, 6)\n",
    "    \"\"\"\n",
    "    ### BEGIN SOLUTION\n",
    "    \n",
    "    ### END SOLUTION"
   ]
  },
  {
   "cell_type": "markdown",
   "id": "backed-transport",
   "metadata": {},
   "source": [
    "## 115. 載入 `imdb.xlsx` 中的 `movies` 試算表\n",
    "\n",
    "自行定義函數 `import_xlsx_file_movies()` 將位於 `/content` 路徑的 `imdb.xlsx` 中的 `movies` 試算表載入。\n",
    "\n",
    "- 指定絕對路徑。\n",
    "- 使用 `pd.read_excel()` 函數。\n",
    "- 將預期輸出寫在 `return` 之後。"
   ]
  },
  {
   "cell_type": "code",
   "execution_count": null,
   "id": "sealed-beatles",
   "metadata": {},
   "outputs": [],
   "source": [
    "def import_xlsx_file_movies() -> pd.core.frame.DataFrame:\n",
    "    \"\"\"\n",
    "    >>> xlsx_file_movies = import_xlsx_file_movies()\n",
    "    >>> type(xlsx_file_movies)\n",
    "    pandas.core.frame.DataFrame\n",
    "    >>> xlsx_file_movies.shape\n",
    "    (250, 6)\n",
    "    \"\"\"\n",
    "    ### BEGIN SOLUTION\n",
    "    \n",
    "    ### END SOLUTION"
   ]
  },
  {
   "cell_type": "markdown",
   "id": "94135dfc",
   "metadata": {},
   "source": [
    "## 116. 載入 `imdb.xlsx` 中的 `casting` 試算表\n",
    "\n",
    "自行定義函數 `import_xlsx_file_casting()` 將位於 `/content` 路徑的 `imdb.xlsx` 中的 `casting` 試算表載入。\n",
    "\n",
    "- 指定絕對路徑。\n",
    "- 使用 `pd.read_excel()` 函數。\n",
    "- 指定 `sheet_name` 參數。\n",
    "- 將預期輸出寫在 `return` 之後。"
   ]
  },
  {
   "cell_type": "code",
   "execution_count": null,
   "id": "286dc9b3",
   "metadata": {},
   "outputs": [],
   "source": [
    "def import_xlsx_file_casting() -> pd.core.frame.DataFrame:\n",
    "    \"\"\"\n",
    "    >>> xlsx_file_casting = import_xlsx_file_casting()\n",
    "    >>> type(xlsx_file_casting)\n",
    "    pandas.core.frame.DataFrame\n",
    "    >>> xlsx_file_casting.shape\n",
    "    (3584, 3)\n",
    "    \"\"\"\n",
    "    ### BEGIN SOLUTION\n",
    "    \n",
    "    ### END SOLUTION"
   ]
  },
  {
   "cell_type": "markdown",
   "id": "2510c283",
   "metadata": {},
   "source": [
    "## 117. 載入 `imdb.xlsx` 中的 `actors` 試算表\n",
    "\n",
    "自行定義函數 `import_xlsx_file_actors()` 將位於 `/content` 路徑的 `imdb.xlsx` 中的 `actors` 試算表載入。\n",
    "\n",
    "- 指定絕對路徑。\n",
    "- 使用 `pd.read_excel()` 函數。\n",
    "- 指定 `sheet_name` 參數。\n",
    "- 將預期輸出寫在 `return` 之後。"
   ]
  },
  {
   "cell_type": "code",
   "execution_count": null,
   "id": "08456209",
   "metadata": {},
   "outputs": [],
   "source": [
    "def import_xlsx_file_actors() -> pd.core.frame.DataFrame:\n",
    "    \"\"\"\n",
    "    >>> xlsx_file_actors = import_xlsx_file_actors()\n",
    "    >>> type(xlsx_file_actors)\n",
    "    pandas.core.frame.DataFrame\n",
    "    >>> xlsx_file_actors.shape\n",
    "    (3108, 2)\n",
    "    \"\"\"\n",
    "    ### BEGIN SOLUTION\n",
    "    \n",
    "    ### END SOLUTION"
   ]
  },
  {
   "cell_type": "markdown",
   "id": "b1600ef0",
   "metadata": {},
   "source": [
    "## 118. 載入 `imdb.db` 中的 `movies` 資料表\n",
    "\n",
    "自行定義函數 `import_database_table_movies()` 將位於 `/content` 路徑的 `imdb.db` 中的 `movies` 資料表載入。\n",
    "\n",
    "```sql\n",
    "SELECT *\n",
    "  FROM movies;\n",
    "```\n",
    "\n",
    "- 指定絕對路徑。\n",
    "- 使用 `sqlite3.connect()` 函數。\n",
    "- 運用給定的 SQL 查詢。\n",
    "- 使用 `pd.read_sql()` 函數。\n",
    "- 將預期輸出寫在 `return` 之後。"
   ]
  },
  {
   "cell_type": "code",
   "execution_count": null,
   "id": "6d80f8cb",
   "metadata": {},
   "outputs": [],
   "source": [
    "def import_database_table_movies() -> pd.core.frame.DataFrame:\n",
    "    \"\"\"\n",
    "    >>> database_table_movies = import_database_table_movies()\n",
    "    >>> type(database_table_movies)\n",
    "    pandas.core.frame.DataFrame\n",
    "    >>> database_table_movies.shape\n",
    "    (250, 6)\n",
    "    \"\"\"\n",
    "    ### BEGIN SOLUTION\n",
    "    \n",
    "    ### END SOLUTION"
   ]
  },
  {
   "cell_type": "markdown",
   "id": "ffed7874",
   "metadata": {},
   "source": [
    "## 119. 載入 `imdb.db` 中的 `casting` 資料表\n",
    "\n",
    "自行定義函數 `import_database_table_casting()` 將位於 `/content` 路徑的 `imdb.db` 中的 `casting` 資料表載入。\n",
    "\n",
    "```sql\n",
    "SELECT *\n",
    "  FROM casting;\n",
    "```\n",
    "\n",
    "- 使用絕對路徑。\n",
    "- 使用 `sqlite3.connect()` 函數。\n",
    "- 運用給定的 SQL 查詢。\n",
    "- 使用 `pd.read_sql()` 函數。\n",
    "- 將預期輸出寫在 `return` 之後。"
   ]
  },
  {
   "cell_type": "code",
   "execution_count": null,
   "id": "e91c0e0d",
   "metadata": {},
   "outputs": [],
   "source": [
    "def import_database_table_casting() -> pd.core.frame.DataFrame:\n",
    "    \"\"\"\n",
    "    >>> database_table_casting = import_database_table_casting()\n",
    "    >>> type(database_table_casting)\n",
    "    pandas.core.frame.DataFrame\n",
    "    >>> database_table_casting.shape\n",
    "    (3584, 3)\n",
    "    \"\"\"\n",
    "    ### BEGIN SOLUTION\n",
    "    \n",
    "    ### END SOLUTION"
   ]
  },
  {
   "cell_type": "markdown",
   "id": "4e911ca8",
   "metadata": {},
   "source": [
    "## 120. 載入 `imdb.db` 中的 `actors` 資料表\n",
    "\n",
    "自行定義函數 `import_database_table_actors()` 將位於 `/content` 路徑的 `imdb.db` 中的 `actors` 資料表載入。\n",
    "\n",
    "```sql\n",
    "SELECT *\n",
    "  FROM actors;\n",
    "```\n",
    "\n",
    "- 指定絕對路徑。\n",
    "- 使用 `sqlite3.connect()` 函數。\n",
    "- 運用給定的 SQL 查詢。\n",
    "- 使用 `pd.read_sql()` 函數。\n",
    "- 將預期輸出寫在 `return` 之後。"
   ]
  },
  {
   "cell_type": "code",
   "execution_count": null,
   "id": "a7047584",
   "metadata": {},
   "outputs": [],
   "source": [
    "def import_database_table_actors() -> pd.core.frame.DataFrame:\n",
    "    \"\"\"\n",
    "    >>> database_table_actors = import_database_table_actors()\n",
    "    >>> type(database_table_actors)\n",
    "    pandas.core.frame.DataFrame\n",
    "    >>> database_table_actors.shape\n",
    "    (3108, 2)\n",
    "    \"\"\"\n",
    "    ### BEGIN SOLUTION\n",
    "    \n",
    "    ### END SOLUTION"
   ]
  },
  {
   "cell_type": "markdown",
   "id": "266c3572",
   "metadata": {},
   "source": [
    "## 練習題到此結束，以下的儲存格可以忽略"
   ]
  },
  {
   "cell_type": "code",
   "execution_count": null,
   "id": "7f0bd259",
   "metadata": {},
   "outputs": [],
   "source": [
    "import unittest\n",
    "import json\n",
    "\n",
    "def run_suite(test_class, chapter_index):\n",
    "    suite = unittest.TestLoader().loadTestsFromTestCase(test_class)\n",
    "    runner = unittest.TextTestRunner(verbosity=2)\n",
    "    test_results = runner.run(suite)\n",
    "    number_of_failures = len(test_results.failures)\n",
    "    number_of_errors = len(test_results.errors)\n",
    "    number_of_test_runs = test_results.testsRun\n",
    "    number_of_successes = number_of_test_runs - (number_of_failures + number_of_errors)\n",
    "    with open(\"exercise_index.json\", \"r\") as f:\n",
    "        exercise_index = json.load(f)\n",
    "    chapter_name = exercise_index[chapter_index][\"chapter_name\"]\n",
    "    number_of_total_questions = 0\n",
    "    number_of_completed_questions = 0\n",
    "    for i in range(len(exercise_index)):\n",
    "        number_of_total_questions += exercise_index[i][\"number_of_exercises\"]\n",
    "        if i < chapter_index:\n",
    "            number_of_completed_questions += exercise_index[i][\"number_of_exercises\"]\n",
    "    number_of_completed_questions += number_of_successes\n",
    "    chapter_percentage = number_of_successes * 100 / number_of_test_runs\n",
    "    overall_percentage = number_of_completed_questions * 100 / number_of_total_questions\n",
    "    print(\"你在「{}」章節的練習題完成率為 ... {:.2f}% ({}/{})\".format(chapter_name, chapter_percentage, number_of_successes, number_of_test_runs))\n",
    "    print(\"整體課程練習題的累計完成率為 ... {:.2f}% ({}/{})\".format(overall_percentage, number_of_completed_questions, number_of_total_questions))\n",
    "    if chapter_percentage == 100 and chapter_index < 19:\n",
    "        print(\"表現得很好，你已經完成「{}」所有習題，我們繼續往下個章節：「{}」前進！\".format(exercise_index[chapter_index][\"chapter_name\"], exercise_index[chapter_index + 1][\"chapter_name\"]))\n",
    "        if chapter_index == 4:\n",
    "            print(\"太棒了，你已經完成「Python 的 50+ 練習」的第一部分：Python 程式設計的基礎觀念，接下來還有三個部分等你來挑戰！\")\n",
    "        elif chapter_index == 8:\n",
    "            print(\"表現得非常好，你已經完成「Python 的 50+ 練習」的第二部分：Python 程式設計的進階觀念，接著讓我們邁向資料科學！\")\n",
    "        elif chapter_index == 12:\n",
    "            print(\"太令人佩服，你已經完成「Python 的 50+ 練習」的第三部分：Python 資料科學的基礎，距離完課只剩下最後一哩路！\")\n",
    "    elif chapter_percentage == 100 and chapter_index == 19:\n",
    "        print(\"恭喜完課，你已經完成「Python 的 50+ 練習」所有習題，能夠堅持到底完成所有的教學影片與練習題真是非常了不起！後面已經沒有練習題了，你現在是一位擅長寫程式處理資料的分析師！\")\n",
    "    elif chapter_percentage >= 50:\n",
    "        print(\"你已經完成「{}」章節一半以上的練習，繼續加油！\".format(chapter_name))\n",
    "\n",
    "class TestImport(unittest.TestCase):\n",
    "    def test_111_import_txt_file(self):\n",
    "        txt_file = import_txt_file()\n",
    "        self.assertIsInstance(txt_file, list)\n",
    "        self.assertEqual(len(txt_file), 5)\n",
    "    def test_112_import_json_file_as_list(self):\n",
    "        json_file_as_list = import_json_file_as_list()\n",
    "        self.assertIsInstance(json_file_as_list, list)\n",
    "        self.assertEqual(len(json_file_as_list), 34)\n",
    "    def test_113_import_json_file_as_dataframe(self):\n",
    "        json_file_as_dataframe = import_json_file_as_dataframe()\n",
    "        self.assertIsInstance(json_file_as_dataframe, pd.core.frame.DataFrame)\n",
    "        self.assertEqual(json_file_as_dataframe.shape, (34, 12))\n",
    "    def test_114_import_csv_file(self):\n",
    "        csv_file = import_csv_file()\n",
    "        self.assertIsInstance(csv_file, pd.core.frame.DataFrame)\n",
    "        self.assertEqual(csv_file.shape, (250, 6))\n",
    "    def test_115_import_xlsx_file_movies(self):\n",
    "        xlsx_file_movies = import_xlsx_file_movies()\n",
    "        self.assertIsInstance(xlsx_file_movies, pd.core.frame.DataFrame)\n",
    "        self.assertEqual(xlsx_file_movies.shape, (250, 6))\n",
    "    def test_116_import_xlsx_file_casting(self):\n",
    "        xlsx_file_casting = import_xlsx_file_casting()\n",
    "        self.assertIsInstance(xlsx_file_casting, pd.core.frame.DataFrame)\n",
    "        self.assertEqual(xlsx_file_casting.shape, (3584, 3))\n",
    "    def test_117_import_xlsx_file_actors(self):\n",
    "        xlsx_file_actors = import_xlsx_file_actors()\n",
    "        self.assertIsInstance(xlsx_file_actors, pd.core.frame.DataFrame)\n",
    "        self.assertEqual(xlsx_file_actors.shape, (3108, 2))\n",
    "    def test_118_import_database_table_movies(self):\n",
    "        database_table_movies = import_database_table_movies()\n",
    "        self.assertIsInstance(database_table_movies, pd.core.frame.DataFrame)\n",
    "        self.assertEqual(database_table_movies.shape, (250, 6))\n",
    "    def test_119_import_database_table_casting(self):\n",
    "        database_table_casting = import_database_table_casting()\n",
    "        self.assertIsInstance(database_table_casting, pd.core.frame.DataFrame)\n",
    "        self.assertEqual(database_table_casting.shape, (3584, 3))\n",
    "    def test_120_import_database_table_actors(self):\n",
    "        database_table_actors = import_database_table_actors()\n",
    "        self.assertIsInstance(database_table_actors, pd.core.frame.DataFrame)\n",
    "        self.assertEqual(database_table_actors.shape, (3108, 2))\n",
    "\n",
    "run_suite(TestImport, 13)"
   ]
  }
 ],
 "metadata": {
  "kernelspec": {
   "display_name": "Python Fifty Plus",
   "language": "python",
   "name": "pythonfiftyplus"
  },
  "language_info": {
   "codemirror_mode": {
    "name": "ipython",
    "version": 3
   },
   "file_extension": ".py",
   "mimetype": "text/x-python",
   "name": "python",
   "nbconvert_exporter": "python",
   "pygments_lexer": "ipython3",
   "version": "3.9.7"
  }
 },
 "nbformat": 4,
 "nbformat_minor": 5
}
