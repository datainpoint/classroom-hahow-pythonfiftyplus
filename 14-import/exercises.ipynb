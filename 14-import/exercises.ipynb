{
 "cells": [
  {
   "cell_type": "markdown",
   "id": "heated-welding",
   "metadata": {
    "deletable": false
   },
   "source": [
    "# Python 的 50+ 練習：資料科學學習手冊\n",
    "\n",
    "> 資料的載入\n",
    "\n",
    "[數據交點](https://www.datainpoint.com) | 郭耀仁 <yaojenkuo@datainpoint.com>"
   ]
  },
  {
   "cell_type": "markdown",
   "id": "fleet-tokyo",
   "metadata": {
    "deletable": false
   },
   "source": [
    "## 練習題指引\n",
    "\n",
    "- 練習題閒置超過 10 分鐘會自動斷線，只要重新點選練習題連結即可重新啟動。\n",
    "- 第一個程式碼儲存格會將可能用得到的模組載入。\n",
    "- 如果練習題需要載入檔案，請指定絕對路徑 `/home/jovyan/data/{file_path}`\n",
    "- 練習題已經給定函數、類別、預期輸入或參數名稱，我們只需要寫作程式區塊。同時也給定函數的類別提示，說明預期輸入以及預期輸出的類別。\n",
    "- 說明（Docstring）會描述測試如何進行，閱讀說明能夠暸解預期輸入以及預期輸出之間的關係，幫助我們更快解題。\n",
    "- 請在 `### BEGIN SOLUTION` 與 `### END SOLUTION` 這兩個註解之間寫作函數或者類別的程式區塊。\n",
    "- 將預期輸出放置在 `return` 保留字之後，若只是用 `print()` 函數將預期輸出印出無法通過測試。\n",
    "- 語法錯誤（`SyntaxError`）或縮排錯誤（`IndentationError`）等將會導致測試失效，測試之前應該先在筆記本使用函數觀察是否與說明（Docstring）描述的功能相符。\n",
    "- 如果卡關，可以先看練習題詳解或者複習課程單元影片之後再繼續寫作。\n",
    "- 執行測試的步驟：\n",
    "    1. 點選上方選單的 File -> Save Notebook 儲存 exercises.ipynb。\n",
    "    2. 點選上方選單的 File -> New -> Terminal 開啟終端機。\n",
    "    3. 在終端機輸入 `python 14-import/test_runner.py` 後按下 Enter 執行測試。"
   ]
  },
  {
   "cell_type": "code",
   "execution_count": null,
   "id": "collected-norwegian",
   "metadata": {},
   "outputs": [],
   "source": [
    "import json\n",
    "import sqlite3\n",
    "import pandas as pd"
   ]
  },
  {
   "cell_type": "markdown",
   "id": "typical-impact",
   "metadata": {},
   "source": [
    "## 111. 載入 `the_shawshank_redemption_summaries.txt`\n",
    "\n",
    "定義函數 `import_txt_file()` 將位於 `/home/jovyan/data/internet-movie-database` 路徑的 `the_shawshank_redemption_summaries.txt` 載入為一個 `list`。\n",
    "\n",
    "- 指定絕對路徑。\n",
    "- 運用 `with` 敘述。\n",
    "- 使用 `open()` 函數。\n",
    "- 使用 `TextIOWrapper.readlines()`\n",
    "- 將預期輸出寫在 `return` 之後。"
   ]
  },
  {
   "cell_type": "code",
   "execution_count": null,
   "id": "economic-blast",
   "metadata": {},
   "outputs": [],
   "source": [
    "def import_txt_file() -> list:\n",
    "    \"\"\"\n",
    "    >>> txt_file = import_txt_file()\n",
    "    >>> type(txt_file)\n",
    "    list\n",
    "    >>> len(txt_file)\n",
    "    5\n",
    "    \"\"\"\n",
    "    ### BEGIN SOLUTION\n",
    "    \n",
    "    ### END SOLUTION"
   ]
  },
  {
   "cell_type": "markdown",
   "id": "latin-township",
   "metadata": {},
   "source": [
    "## 112. 載入 `teams_rowbased.json`\n",
    "\n",
    "定義函數 `import_json_file_as_list()` 將位於 `/home/jovyan/data/nba` 路徑的 `teams_rowbased.json` 載入為一個 `list`。\n",
    "\n",
    "- 指定絕對路徑。\n",
    "- 運用 `with` 敘述。\n",
    "- 使用 `open()` 函數。\n",
    "- 使用 `json.load()` 函數。\n",
    "- 將預期輸出寫在 `return` 之後。"
   ]
  },
  {
   "cell_type": "code",
   "execution_count": null,
   "id": "satisfied-success",
   "metadata": {},
   "outputs": [],
   "source": [
    "def import_json_file_as_list() -> list:\n",
    "    \"\"\"\n",
    "    >>> json_file_as_list = import_json_file_as_list()\n",
    "    >>> type(json_file_as_list)\n",
    "    list\n",
    "    >>> len(json_file_as_list)\n",
    "    34\n",
    "    \"\"\"\n",
    "    ### BEGIN SOLUTION\n",
    "    \n",
    "    ### END SOLUTION"
   ]
  },
  {
   "cell_type": "markdown",
   "id": "8c0b8bd9",
   "metadata": {},
   "source": [
    "## 113. 載入 `teams_columnbased.json`\n",
    "\n",
    "定義函數 `import_json_file_as_dataframe()` 將位於 `/home/jovyan/data/nba` 路徑的 `teams_columnbased.json` 載入為一個 `DataFrame`。\n",
    "\n",
    "- 指定絕對路徑。\n",
    "- 使用 `pd.read_json()` 函數。\n",
    "- 將預期輸出寫在 `return` 之後。"
   ]
  },
  {
   "cell_type": "code",
   "execution_count": null,
   "id": "97d22f0d",
   "metadata": {},
   "outputs": [],
   "source": [
    "def import_json_file_as_dataframe() -> pd.core.frame.DataFrame:\n",
    "    \"\"\"\n",
    "    >>> json_file_as_dataframe = import_json_file_as_dataframe()\n",
    "    >>> type(json_file_as_dataframe)\n",
    "    pandas.core.frame.DataFrame\n",
    "    >>> json_file_as_dataframe.shape\n",
    "    (34, 12)\n",
    "    \"\"\"\n",
    "    ### BEGIN SOLUTION\n",
    "    \n",
    "    ### END SOLUTION"
   ]
  },
  {
   "cell_type": "markdown",
   "id": "touched-discharge",
   "metadata": {},
   "source": [
    "## 114. 載入 `movies.csv`\n",
    "\n",
    "定義函數 `import_csv_file()` 將位於 `/home/jovyan/data/internet-movie-database` 路徑的 `movies.csv` 載入為一個 `DataFrame`\n",
    "\n",
    "- 指定絕對路徑。\n",
    "- 使用 `pd.read_csv()` 函數。\n",
    "- 將預期輸出寫在 `return` 之後。"
   ]
  },
  {
   "cell_type": "code",
   "execution_count": null,
   "id": "extra-uncertainty",
   "metadata": {},
   "outputs": [],
   "source": [
    "def import_csv_file() -> pd.core.frame.DataFrame:\n",
    "    \"\"\"\n",
    "    >>> csv_file = import_csv_file()\n",
    "    >>> type(csv_file)\n",
    "    pandas.core.frame.DataFrame\n",
    "    >>> csv_file.shape\n",
    "    (250, 6)\n",
    "    \"\"\"\n",
    "    ### BEGIN SOLUTION\n",
    "    \n",
    "    ### END SOLUTION"
   ]
  },
  {
   "cell_type": "markdown",
   "id": "backed-transport",
   "metadata": {},
   "source": [
    "## 115. 載入 `imdb.xlsx` 中的 `movies` 試算表\n",
    "\n",
    "自行定義函數 `import_xlsx_file_movies()` 將位於 `/home/jovyan/data/internet-movie-database` 路徑的 `imdb.xlsx` 中的 `movies` 試算表載入。\n",
    "\n",
    "- 指定絕對路徑。\n",
    "- 使用 `pd.read_excel()` 函數。\n",
    "- 將預期輸出寫在 `return` 之後。"
   ]
  },
  {
   "cell_type": "code",
   "execution_count": null,
   "id": "sealed-beatles",
   "metadata": {},
   "outputs": [],
   "source": [
    "def import_xlsx_file_movies() -> pd.core.frame.DataFrame:\n",
    "    \"\"\"\n",
    "    >>> xlsx_file_movies = import_xlsx_file_movies()\n",
    "    >>> type(xlsx_file_movies)\n",
    "    pandas.core.frame.DataFrame\n",
    "    >>> xlsx_file_movies.shape\n",
    "    (250, 6)\n",
    "    \"\"\"\n",
    "    ### BEGIN SOLUTION\n",
    "    \n",
    "    ### END SOLUTION"
   ]
  },
  {
   "cell_type": "markdown",
   "id": "94135dfc",
   "metadata": {},
   "source": [
    "## 116. 載入 `imdb.xlsx` 中的 `casting` 試算表\n",
    "\n",
    "自行定義函數 `import_xlsx_file_casting()` 將位於 `/home/jovyan/data/internet-movie-database` 路徑的 `imdb.xlsx` 中的 `casting` 試算表載入。\n",
    "\n",
    "- 指定絕對路徑。\n",
    "- 使用 `pd.read_excel()` 函數。\n",
    "- 指定 `sheet_name` 參數。\n",
    "- 將預期輸出寫在 `return` 之後。"
   ]
  },
  {
   "cell_type": "code",
   "execution_count": null,
   "id": "286dc9b3",
   "metadata": {},
   "outputs": [],
   "source": [
    "def import_xlsx_file_casting() -> pd.core.frame.DataFrame:\n",
    "    \"\"\"\n",
    "    >>> xlsx_file_casting = import_xlsx_file_casting()\n",
    "    >>> type(xlsx_file_casting)\n",
    "    pandas.core.frame.DataFrame\n",
    "    >>> xlsx_file_casting.shape\n",
    "    (3584, 3)\n",
    "    \"\"\"\n",
    "    ### BEGIN SOLUTION\n",
    "    \n",
    "    ### END SOLUTION"
   ]
  },
  {
   "cell_type": "markdown",
   "id": "2510c283",
   "metadata": {},
   "source": [
    "## 117. 載入 `imdb.xlsx` 中的 `actors` 試算表\n",
    "\n",
    "自行定義函數 `import_xlsx_file_actors()` 將位於 `/home/jovyan/data/internet-movie-database` 路徑的 `imdb.xlsx` 中的 `actors` 試算表載入。\n",
    "\n",
    "- 指定絕對路徑。\n",
    "- 使用 `pd.read_excel()` 函數。\n",
    "- 指定 `sheet_name` 參數。\n",
    "- 將預期輸出寫在 `return` 之後。"
   ]
  },
  {
   "cell_type": "code",
   "execution_count": null,
   "id": "08456209",
   "metadata": {},
   "outputs": [],
   "source": [
    "def import_xlsx_file_actors() -> pd.core.frame.DataFrame:\n",
    "    \"\"\"\n",
    "    >>> xlsx_file_actors = import_xlsx_file_actors()\n",
    "    >>> type(xlsx_file_actors)\n",
    "    pandas.core.frame.DataFrame\n",
    "    >>> xlsx_file_actors.shape\n",
    "    (3108, 2)\n",
    "    \"\"\"\n",
    "    ### BEGIN SOLUTION\n",
    "    \n",
    "    ### END SOLUTION"
   ]
  },
  {
   "cell_type": "markdown",
   "id": "b1600ef0",
   "metadata": {},
   "source": [
    "## 118. 載入 `imdb.db` 中的 `movies` 資料表\n",
    "\n",
    "自行定義函數 `import_database_table_movies()` 將位於 `/home/jovyan/data/internet-movie-database` 路徑的 `imdb.db` 中的 `movies` 資料表載入。\n",
    "\n",
    "```sql\n",
    "SELECT *\n",
    "  FROM movies;\n",
    "```\n",
    "\n",
    "- 指定絕對路徑。\n",
    "- 使用 `sqlite3.connect()` 函數。\n",
    "- 運用給定的 SQL 查詢。\n",
    "- 使用 `pd.read_sql()` 函數。\n",
    "- 將預期輸出寫在 `return` 之後。"
   ]
  },
  {
   "cell_type": "code",
   "execution_count": null,
   "id": "6d80f8cb",
   "metadata": {},
   "outputs": [],
   "source": [
    "def import_database_table_movies() -> pd.core.frame.DataFrame:\n",
    "    \"\"\"\n",
    "    >>> database_table_movies = import_database_table_movies()\n",
    "    >>> type(database_table_movies)\n",
    "    pandas.core.frame.DataFrame\n",
    "    >>> database_table_movies.shape\n",
    "    (250, 6)\n",
    "    \"\"\"\n",
    "    ### BEGIN SOLUTION\n",
    "    \n",
    "    ### END SOLUTION"
   ]
  },
  {
   "cell_type": "markdown",
   "id": "ffed7874",
   "metadata": {},
   "source": [
    "## 119. 載入 `imdb.db` 中的 `casting` 資料表\n",
    "\n",
    "自行定義函數 `import_database_table_casting()` 將位於 `/home/jovyan/data/internet-movie-database` 路徑的 `imdb.db` 中的 `casting` 資料表載入。\n",
    "\n",
    "```sql\n",
    "SELECT *\n",
    "  FROM casting;\n",
    "```\n",
    "\n",
    "- 使用絕對路徑。\n",
    "- 使用 `sqlite3.connect()` 函數。\n",
    "- 運用給定的 SQL 查詢。\n",
    "- 使用 `pd.read_sql()` 函數。\n",
    "- 將預期輸出寫在 `return` 之後。"
   ]
  },
  {
   "cell_type": "code",
   "execution_count": null,
   "id": "e91c0e0d",
   "metadata": {},
   "outputs": [],
   "source": [
    "def import_database_table_casting() -> pd.core.frame.DataFrame:\n",
    "    \"\"\"\n",
    "    >>> database_table_casting = import_database_table_casting()\n",
    "    >>> type(database_table_casting)\n",
    "    pandas.core.frame.DataFrame\n",
    "    >>> database_table_casting.shape\n",
    "    (3584, 3)\n",
    "    \"\"\"\n",
    "    ### BEGIN SOLUTION\n",
    "    \n",
    "    ### END SOLUTION"
   ]
  },
  {
   "cell_type": "markdown",
   "id": "4e911ca8",
   "metadata": {},
   "source": [
    "## 120. 載入 `imdb.db` 中的 `actors` 資料表\n",
    "\n",
    "自行定義函數 `import_database_table_actors()` 將位於 `/home/jovyan/data/internet-movie-database` 路徑的 `imdb.db` 中的 `actors` 資料表載入。\n",
    "\n",
    "```sql\n",
    "SELECT *\n",
    "  FROM actors;\n",
    "```\n",
    "\n",
    "- 指定絕對路徑。\n",
    "- 使用 `sqlite3.connect()` 函數。\n",
    "- 運用給定的 SQL 查詢。\n",
    "- 使用 `pd.read_sql()` 函數。\n",
    "- 將預期輸出寫在 `return` 之後。"
   ]
  },
  {
   "cell_type": "code",
   "execution_count": null,
   "id": "a7047584",
   "metadata": {},
   "outputs": [],
   "source": [
    "def import_database_table_actors() -> pd.core.frame.DataFrame:\n",
    "    \"\"\"\n",
    "    >>> database_table_actors = import_database_table_actors()\n",
    "    >>> type(database_table_actors)\n",
    "    pandas.core.frame.DataFrame\n",
    "    >>> database_table_actors.shape\n",
    "    (3108, 2)\n",
    "    \"\"\"\n",
    "    ### BEGIN SOLUTION\n",
    "    \n",
    "    ### END SOLUTION"
   ]
  }
 ],
 "metadata": {
  "kernelspec": {
   "display_name": "Python Fifty Plus",
   "language": "python",
   "name": "pythonfiftyplus"
  },
  "language_info": {
   "codemirror_mode": {
    "name": "ipython",
    "version": 3
   },
   "file_extension": ".py",
   "mimetype": "text/x-python",
   "name": "python",
   "nbconvert_exporter": "python",
   "pygments_lexer": "ipython3",
   "version": "3.9.7"
  }
 },
 "nbformat": 4,
 "nbformat_minor": 5
}
