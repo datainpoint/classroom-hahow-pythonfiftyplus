{
 "cells": [
  {
   "cell_type": "markdown",
   "id": "heated-welding",
   "metadata": {
    "deletable": false
   },
   "source": [
    "# Python 的 50+ 練習：資料科學學習手冊\n",
    "\n",
    "> 資料的載入\n",
    "\n",
    "[數據交點](https://www.datainpoint.com) | 郭耀仁 <yaojenkuo@datainpoint.com>"
   ]
  },
  {
   "cell_type": "markdown",
   "id": "fleet-tokyo",
   "metadata": {
    "deletable": false
   },
   "source": [
    "## 練習題指引\n",
    "\n",
    "- 練習題閒置超過 10 分鐘會自動斷線，只要重新點選練習題連結即可重新啟動。\n",
    "- 第一個程式碼儲存格會將可能用得到的模組載入。\n",
    "- 如果練習題需要載入檔案，檔案會存放在 `/home/jovyan/data` 資料夾中。\n",
    "- 練習題已經給定函數、類別、預期輸入或參數名稱，我們只需要寫作程式區塊。\n",
    "- 說明（Docstring）會描述測試如何進行，閱讀說明能夠暸解預期輸入以及預期輸出之間的關係，幫助我們更快解題。\n",
    "- 請在 `### BEGIN SOLUTION` 與 `### END SOLUTION` 這兩個註解之間寫作函數或者類別的程式區塊。\n",
    "- 將預期輸出放置在 `return` 保留字之後，若只是用 `print()` 函數將預期輸出印出無法通過測試。\n",
    "- 語法錯誤（`SyntaxError`）或縮排錯誤（`IndentationError`）等將會導致測試失效，測試之前應該先在筆記本使用函數觀察是否與說明（Docstring）描述的功能相符。\n",
    "- 執行測試的步驟：\n",
    "    1. 點選上方選單的 File -> Save Notebook 儲存 exercises.ipynb。\n",
    "    2. 點選上方選單的 File -> New -> Terminal 開啟終端機。\n",
    "    3. 在終端機輸入 `python 14-import/test_runner.py` 後按下 Enter 執行測試。"
   ]
  },
  {
   "cell_type": "code",
   "execution_count": 5,
   "id": "collected-norwegian",
   "metadata": {},
   "outputs": [],
   "source": [
    "import json\n",
    "import sqlite3\n",
    "import pandas as pd"
   ]
  },
  {
   "cell_type": "markdown",
   "id": "typical-impact",
   "metadata": {},
   "source": [
    "## 098. 自行定義函數 `import_txt_file` 將 `/home/jovyan/data` 中的 `the_shawshank_redemption_summaries.txt` 檔案載入為一個長度 5 的 `list`。\n",
    "\n",
    "- 預期輸入：None\n",
    "- 預期輸出：`list`"
   ]
  },
  {
   "cell_type": "code",
   "execution_count": 1,
   "id": "economic-blast",
   "metadata": {},
   "outputs": [],
   "source": [
    "def import_txt_file() -> list:\n",
    "    \"\"\"\n",
    "    >>> txt_file = import_txt_file()\n",
    "    >>> type(txt_file)\n",
    "    list\n",
    "    >>> len(txt_file)\n",
    "    5\n",
    "    \"\"\"\n",
    "    ### BEGIN SOLUTION\n",
    "    with open(\"/home/jovyan/data/the_shawshank_redemption_summaries.txt\") as f:\n",
    "        out_list = f.readlines()\n",
    "    return out_list\n",
    "    ### END SOLUTION"
   ]
  },
  {
   "cell_type": "markdown",
   "id": "latin-township",
   "metadata": {},
   "source": [
    "## 099. 自行定義函數 `import_json_file` 將 `/home/jovyan/data` 中的 `imdb_top_rated_movies.json` 檔案載入為一個長度 250 的 `list`。\n",
    "\n",
    "- 預期輸入：None\n",
    "- 預期輸出：`list`"
   ]
  },
  {
   "cell_type": "code",
   "execution_count": 6,
   "id": "satisfied-success",
   "metadata": {},
   "outputs": [],
   "source": [
    "def import_json_file() -> list:\n",
    "    \"\"\"\n",
    "    >>> json_file = import_json_file()\n",
    "    >>> type(json_file)\n",
    "    list\n",
    "    >>> len(json_file)\n",
    "    250\n",
    "    \"\"\"\n",
    "    ### BEGIN SOLUTION\n",
    "    with open(\"/home/jovyan/data/imdb_top_rated_movies.json\") as f:\n",
    "        out_list = json.load(f)\n",
    "    return out_list\n",
    "    ### END SOLUTION"
   ]
  },
  {
   "cell_type": "markdown",
   "id": "touched-discharge",
   "metadata": {},
   "source": [
    "## 100. 自行定義函數 `import_csv_file` 將 `/home/jovyan/data` 中的 `imdb_top_rated_movies.csv` 檔案載入為一個外型 `(250, 4)` 的資料框。\n",
    "\n",
    "- 預期輸入：None\n",
    "- 預期輸出：`pandas.core.frame.DataFrame`"
   ]
  },
  {
   "cell_type": "code",
   "execution_count": 8,
   "id": "extra-uncertainty",
   "metadata": {},
   "outputs": [],
   "source": [
    "def import_csv_file() -> pd.core.frame.DataFrame:\n",
    "    \"\"\"\n",
    "    >>> csv_file = import_csv_file()\n",
    "    >>> type(csv_file)\n",
    "    pandas.core.frame.DataFrame\n",
    "    >>> csv_file.shape\n",
    "    (250, 4)\n",
    "    \"\"\"\n",
    "    ### BEGIN SOLUTION\n",
    "    out_df = pd.read_csv(\"/home/jovyan/data/imdb_top_rated_movies.csv\")\n",
    "    return out_df\n",
    "    ### END SOLUTION"
   ]
  },
  {
   "cell_type": "markdown",
   "id": "backed-transport",
   "metadata": {},
   "source": [
    "## 101. 自行定義函數 `import_excel_file` 將 `/home/jovyan/data` 中的 `imdb_top_rated_movies.xlsx` 檔案載入為一個外型 `(250, 4)` 的資料框。\n",
    "\n",
    "- 預期輸入：None\n",
    "- 預期輸出：`pandas.core.frame.DataFrame`"
   ]
  },
  {
   "cell_type": "code",
   "execution_count": 11,
   "id": "sealed-beatles",
   "metadata": {},
   "outputs": [],
   "source": [
    "def import_excel_file() -> pd.core.frame.DataFrame:\n",
    "    \"\"\"\n",
    "    >>> excel_file = import_excel_file()\n",
    "    >>> type(excel_file)\n",
    "    pandas.core.frame.DataFrame\n",
    "    >>> excel_file.shape\n",
    "    (250, 4)\n",
    "    \"\"\"\n",
    "    ### BEGIN SOLUTION\n",
    "    out_df = pd.read_xlsx(\"/home/jovyan/data/imdb_top_rated_movies.xlsx\")\n",
    "    return out_df\n",
    "    ### END SOLUTION"
   ]
  },
  {
   "cell_type": "markdown",
   "id": "comprehensive-shannon",
   "metadata": {},
   "source": [
    "## 102. 自行定義函數 `import_database_table` 將 `/home/jovyan/data` 資料庫 `imdb.db` 中的 `movies` 表格載入為一個外型 `(250, 6)` 的資料框。\n",
    "\n",
    "- 預期輸入：None\n",
    "- 預期輸出：`pandas.core.frame.DataFrame`"
   ]
  },
  {
   "cell_type": "code",
   "execution_count": 12,
   "id": "recorded-hormone",
   "metadata": {},
   "outputs": [],
   "source": [
    "def import_database_table() -> pd.core.frame.DataFrame:\n",
    "    \"\"\"\n",
    "    >>> database_table = import_database_table()\n",
    "    >>> type(database_table)\n",
    "    pandas.core.frame.DataFrame\n",
    "    >>> database_table.shape\n",
    "    (250, 6)\n",
    "    \"\"\"\n",
    "    ### BEGIN SOLUTION\n",
    "    conn = sqlite3.connect(\"/home/jovyan/data/imdb.db\")\n",
    "    sql_query = \"\"\"SELECT * FROM movies;\"\"\"\n",
    "    out_df = pd.read_sql(sql_query, conn)\n",
    "    return out_df\n",
    "    ### END SOLUTION"
   ]
  }
 ],
 "metadata": {
  "kernelspec": {
   "display_name": "Python Data Science",
   "language": "python",
   "name": "pyds"
  },
  "language_info": {
   "codemirror_mode": {
    "name": "ipython",
    "version": 3
   },
   "file_extension": ".py",
   "mimetype": "text/x-python",
   "name": "python",
   "nbconvert_exporter": "python",
   "pygments_lexer": "ipython3",
   "version": "3.8.10"
  }
 },
 "nbformat": 4,
 "nbformat_minor": 5
}
