{
 "cells": [
  {
   "cell_type": "markdown",
   "metadata": {
    "deletable": false
   },
   "source": [
    "# Python 的 50+ 練習：資料科學學習手冊\n",
    "\n",
    "> 資料科學模組 Scikit-Learn 入門\n",
    "\n",
    "[數據交點](https://www.datainpoint.com) | 郭耀仁 <yaojenkuo@datainpoint.com>"
   ]
  },
  {
   "cell_type": "markdown",
   "metadata": {
    "deletable": false
   },
   "source": [
    "## 練習題指引\n",
    "\n",
    "- 練習題閒置超過 10 分鐘會自動斷線，只要重新點選練習題連結即可重新啟動。\n",
    "- 第一個程式碼儲存格會將可能用得到的模組載入。\n",
    "- 如果練習題需要載入檔案，檔案存放絕對路徑為 `/home/jovyan/data`，相對路徑為 `../data`\n",
    "- 練習題已經給定函數、類別、預期輸入或參數名稱，我們只需要寫作程式區塊。同時也給定函數的類別提示，說明預期輸入以及預期輸出的類別。\n",
    "- 說明（Docstring）會描述測試如何進行，閱讀說明能夠暸解預期輸入以及預期輸出之間的關係，幫助我們更快解題。\n",
    "- 請在 `### BEGIN SOLUTION` 與 `### END SOLUTION` 這兩個註解之間寫作函數或者類別的程式區塊。\n",
    "- 將預期輸出放置在 `return` 保留字之後，若只是用 `print()` 函數將預期輸出印出無法通過測試。\n",
    "- 語法錯誤（`SyntaxError`）或縮排錯誤（`IndentationError`）等將會導致測試失效，測試之前應該先在筆記本使用函數觀察是否與說明（Docstring）描述的功能相符。\n",
    "- 如果卡關，可以先看練習題詳解或者複習課程單元影片之後再繼續寫作。\n",
    "- 執行測試的步驟：\n",
    "    1. 點選上方選單的 File -> Save Notebook 儲存 exercises.ipynb。\n",
    "    2. 點選上方選單的 File -> New -> Terminal 開啟終端機。\n",
    "    3. 在終端機輸入 `python 13-scikit-learn/test_runner.py` 後按下 Enter 執行測試。"
   ]
  },
  {
   "cell_type": "code",
   "execution_count": null,
   "metadata": {},
   "outputs": [],
   "source": [
    "import numpy as np\n",
    "import pandas as pd\n",
    "import sklearn\n",
    "from sklearn.preprocessing import PolynomialFeatures\n",
    "from sklearn.preprocessing import StandardScaler\n",
    "from sklearn.preprocessing import MinMaxScaler\n",
    "from sklearn.linear_model import LinearRegression\n",
    "from sklearn.linear_model import LogisticRegression"
   ]
  },
  {
   "cell_type": "markdown",
   "metadata": {},
   "source": [
    "## 101. 建立一個多項式特徵轉換器\n",
    "\n",
    "定義函數 `create_a_polynomial_feature()` 能夠回傳一個 `PolynomialFeatures`\n",
    "\n",
    "- 使用 `PolynomialFeatures` 類別。\n",
    "- 將預期輸出寫在 `return` 之後。"
   ]
  },
  {
   "cell_type": "code",
   "execution_count": null,
   "metadata": {},
   "outputs": [],
   "source": [
    "def create_a_polynomial_feature() -> sklearn.preprocessing._polynomial.PolynomialFeatures:\n",
    "    \"\"\"\n",
    "    >>> a_polynomial_feature = create_a_polynomial_feature()\n",
    "    >>> type(a_polynomial_feature)\n",
    "    sklearn.preprocessing._polynomial.PolynomialFeatures\n",
    "    \"\"\"\n",
    "    ### BEGIN SOLUTION\n",
    "    \n",
    "    ### END SOLUTION"
   ]
  },
  {
   "cell_type": "markdown",
   "metadata": {},
   "source": [
    "## 102. 添加截距與二次項\n",
    "\n",
    "定義函數 `create_polynomial_features_for_ndarray()` 能夠將輸入的 `ndarray` 添加截距與二次項後回傳。\n",
    "\n",
    "- 使用 `create_a_polynomial_feature()` 函數。\n",
    "- 使用 `PolynomialFeatures.fit_transform()`\n",
    "- 將預期輸出寫在 `return` 之後。"
   ]
  },
  {
   "cell_type": "code",
   "execution_count": null,
   "metadata": {},
   "outputs": [],
   "source": [
    "def create_polynomial_features_for_ndarray(X: np.ndarray) -> np.ndarray:\n",
    "    \"\"\"\n",
    "    >>> input_ndarray = np.arange(10).reshape(-1, 1)\n",
    "    >>> input_ndarray\n",
    "    array([[0],\n",
    "           [1],\n",
    "           [2],\n",
    "           [3],\n",
    "           [4],\n",
    "           [5],\n",
    "           [6],\n",
    "           [7],\n",
    "           [8],\n",
    "           [9]])\n",
    "    >>> create_polynomial_features_for_ndarray(input_ndarray)\n",
    "    array([[ 1.,  0.,  0.],\n",
    "           [ 1.,  1.,  1.],\n",
    "           [ 1.,  2.,  4.],\n",
    "           [ 1.,  3.,  9.],\n",
    "           [ 1.,  4., 16.],\n",
    "           [ 1.,  5., 25.],\n",
    "           [ 1.,  6., 36.],\n",
    "           [ 1.,  7., 49.],\n",
    "           [ 1.,  8., 64.],\n",
    "           [ 1.,  9., 81.]])\n",
    "    \"\"\"\n",
    "    ### BEGIN SOLUTION\n",
    "    \n",
    "    ### END SOLUTION"
   ]
  },
  {
   "cell_type": "markdown",
   "metadata": {},
   "source": [
    "## 103. 添加截距\n",
    "\n",
    "定義函數 `add_intercepts_for_ndarray()` 能夠將輸入的 `ndarray` 添加截距後回傳。\n",
    "\n",
    "- 使用 `PolynomialFeatures` 類別。\n",
    "- 設定參數 `degree=1`\n",
    "- 使用 `PolynomialFeatures.fit_transform()`\n",
    "- 將預期輸出寫在 `return` 之後。"
   ]
  },
  {
   "cell_type": "code",
   "execution_count": null,
   "metadata": {},
   "outputs": [],
   "source": [
    "def add_intercepts_for_ndarray(X: np.ndarray) -> np.ndarray:\n",
    "    \"\"\"\n",
    "    >>> input_ndarray = np.arange(10).reshape(-1, 1)\n",
    "    >>> input_ndarray\n",
    "    array([[0],\n",
    "           [1],\n",
    "           [2],\n",
    "           [3],\n",
    "           [4],\n",
    "           [5],\n",
    "           [6],\n",
    "           [7],\n",
    "           [8],\n",
    "           [9]])\n",
    "    >>> add_intercepts_for_ndarray(input_ndarray)\n",
    "    array([[1., 0.],\n",
    "           [1., 1.],\n",
    "           [1., 2.],\n",
    "           [1., 3.],\n",
    "           [1., 4.],\n",
    "           [1., 5.],\n",
    "           [1., 6.],\n",
    "           [1., 7.],\n",
    "           [1., 8.],\n",
    "           [1., 9.]])\n",
    "    \"\"\"\n",
    "    ### BEGIN SOLUTION\n",
    "    \n",
    "    ### END SOLUTION"
   ]
  },
  {
   "cell_type": "markdown",
   "metadata": {},
   "source": [
    "## 104. 建立一個 z-score 標準化轉換器\n",
    "\n",
    "定義函數 `create_a_standard_scaler()` 能夠回傳一個 `StandardScaler`\n",
    "\n",
    "- 使用 `StandardScaler` 類別。\n",
    "- 將預期輸出寫在 `return` 之後。"
   ]
  },
  {
   "cell_type": "code",
   "execution_count": null,
   "metadata": {},
   "outputs": [],
   "source": [
    "def create_a_standard_scaler() -> sklearn.preprocessing._data.StandardScaler:\n",
    "    \"\"\"\n",
    "    >>> a_standard_scaler = create_a_standard_scaler()\n",
    "    >>> type(a_standard_scaler)\n",
    "    sklearn.preprocessing._data.StandardScaler\n",
    "    \"\"\"\n",
    "    ### BEGIN SOLUTION\n",
    "    \n",
    "    ### END SOLUTION"
   ]
  },
  {
   "cell_type": "markdown",
   "metadata": {},
   "source": [
    "## 105. z-score 標準化\n",
    "\n",
    "定義函數 `standardize_a_ndarray()` 能夠將輸入的 `ndarray` 進行 z-score 標準化後回傳。\n",
    "\n",
    "\\begin{equation}\n",
    "z = \\frac{X - \\mu}{\\sigma}\n",
    "\\end{equation}\n",
    "\n",
    "- 使用 `create_a_standard_scaler()` 函數。\n",
    "- 使用 `StandardScaler.fit_transform()`\n",
    "- 將預期輸出寫在 `return` 之後。"
   ]
  },
  {
   "cell_type": "code",
   "execution_count": null,
   "metadata": {},
   "outputs": [],
   "source": [
    "def standardize_a_ndarray(X: np.ndarray) -> np.ndarray:\n",
    "    \"\"\"\n",
    "    >>> input_ndarray = np.arange(10).reshape(-1, 1)\n",
    "    >>> input_ndarray\n",
    "    array([[0],\n",
    "           [1],\n",
    "           [2],\n",
    "           [3],\n",
    "           [4],\n",
    "           [5],\n",
    "           [6],\n",
    "           [7],\n",
    "           [8],\n",
    "           [9]])\n",
    "    >>> standardize_a_ndarray(input_ndarray)\n",
    "    array([[-1.5666989 ],\n",
    "           [-1.21854359],\n",
    "           [-0.87038828],\n",
    "           [-0.52223297],\n",
    "           [-0.17407766],\n",
    "           [ 0.17407766],\n",
    "           [ 0.52223297],\n",
    "           [ 0.87038828],\n",
    "           [ 1.21854359],\n",
    "           [ 1.5666989 ]])\n",
    "    \"\"\"\n",
    "    ### BEGIN SOLUTION\n",
    "    \n",
    "    ### END SOLUTION"
   ]
  },
  {
   "cell_type": "markdown",
   "metadata": {},
   "source": [
    "## 106. 標準化轉換器的屬性\n",
    "\n",
    "定義函數 `get_standard_scalers_attributes()` 能夠將輸入的 `ndarray` 的平均數 $\\mu$ 與標準差 $\\sigma$ 回傳。\n",
    "\n",
    "\\begin{equation}\n",
    "z = \\frac{X - \\mu}{\\sigma}\n",
    "\\end{equation}\n",
    "\n",
    "- 使用 `create_a_standard_scaler()` 函數。\n",
    "- 使用 `StandardScaler.fit_transform()`\n",
    "- 運用 `StandardScaler.mean_`\n",
    "- 運用 `StandardScaler.scale_`\n",
    "- 將預期輸出寫在 `return` 之後。"
   ]
  },
  {
   "cell_type": "code",
   "execution_count": null,
   "metadata": {},
   "outputs": [],
   "source": [
    "def get_standard_scalers_attributes(X: np.ndarray) -> tuple:\n",
    "    \"\"\"\n",
    "    >>> input_ndarray = np.arange(10).reshape(-1, 1)\n",
    "    >>> input_ndarray\n",
    "    array([[0],\n",
    "           [1],\n",
    "           [2],\n",
    "           [3],\n",
    "           [4],\n",
    "           [5],\n",
    "           [6],\n",
    "           [7],\n",
    "           [8],\n",
    "           [9]])\n",
    "    >>> mu, sigma = get_standard_scalers_attributes(input_ndarray)\n",
    "    >>> mu\n",
    "    4.5\n",
    "    >>> sigma\n",
    "    2.8722813232690143\n",
    "    \"\"\"\n",
    "    ### BEGIN SOLUTION\n",
    "    \n",
    "    ### END SOLUTION"
   ]
  },
  {
   "cell_type": "markdown",
   "metadata": {},
   "source": [
    "## 107. 建立一個 Min Max 標準化轉換器\n",
    "\n",
    "定義函數 `create_a_minmax_scaler()` 能夠回傳一個 `MinMaxScaler`\n",
    "\n",
    "- 使用 `MinMaxScaler` 類別。\n",
    "- 將預期輸出寫在 `return` 之後。"
   ]
  },
  {
   "cell_type": "code",
   "execution_count": null,
   "metadata": {},
   "outputs": [],
   "source": [
    "def create_a_minmax_scaler() -> sklearn.preprocessing._data.MinMaxScaler:\n",
    "    \"\"\"\n",
    "    >>> a_minmax_scaler = create_a_minmax_scaler()\n",
    "    >>> type(a_minmax_scaler)\n",
    "    sklearn.preprocessing._data.MinMaxScaler\n",
    "    \"\"\"\n",
    "    ### BEGIN SOLUTION\n",
    "    \n",
    "    ### END SOLUTION"
   ]
  },
  {
   "cell_type": "markdown",
   "metadata": {},
   "source": [
    "## 108. 最小最大標準化\n",
    "\n",
    "定義函數 `min_max_a_ndarray()` 能夠將輸入的 `ndarray` 進行最小最大標準化後回傳。\n",
    "\n",
    "```\n",
    "X_std = (X - X.min(axis=0)) / (X.max(axis=0) - X.min(axis=0))\n",
    "X_scaled = X_std * (max - min) + min\n",
    "```\n",
    "\n",
    "- 使用 `create_a_minmax_scaler()` 函數。\n",
    "- 使用 `MinMaxScaler.fit_transform()`\n",
    "- 將預期輸出寫在 `return` 之後。"
   ]
  },
  {
   "cell_type": "code",
   "execution_count": null,
   "metadata": {},
   "outputs": [],
   "source": [
    "def min_max_a_ndarray(X: np.ndarray) -> np.ndarray:\n",
    "    \"\"\"\n",
    "    >>> input_ndarray = np.arange(10).reshape(-1, 1)\n",
    "    >>> input_ndarray\n",
    "    array([[0],\n",
    "           [1],\n",
    "           [2],\n",
    "           [3],\n",
    "           [4],\n",
    "           [5],\n",
    "           [6],\n",
    "           [7],\n",
    "           [8],\n",
    "           [9]])\n",
    "    >>> min_max_a_ndarray(input_ndarray)\n",
    "    array([[0.        ],\n",
    "           [0.11111111],\n",
    "           [0.22222222],\n",
    "           [0.33333333],\n",
    "           [0.44444444],\n",
    "           [0.55555556],\n",
    "           [0.66666667],\n",
    "           [0.77777778],\n",
    "           [0.88888889],\n",
    "           [1.        ]])\n",
    "    \"\"\"\n",
    "    ### BEGIN SOLUTION\n",
    "    \n",
    "    ### END SOLUTION"
   ]
  },
  {
   "cell_type": "markdown",
   "metadata": {},
   "source": [
    "## 109. 最小最大標準化轉換器的屬性\n",
    "\n",
    "定義函數 `get_minmax_scalers_attributes()` 能夠將輸入的 `ndarray` 的最小值與最大值回傳。\n",
    "\n",
    "- 使用 `create_a_minmax_scaler()` 函數。\n",
    "- 使用 `MinMaxScaler.fit_transform()`\n",
    "- 運用 `MinMaxScaler.data_min_`\n",
    "- 運用 `MinMaxScaler.data_max_`\n",
    "- 將預期輸出寫在 `return` 之後。"
   ]
  },
  {
   "cell_type": "code",
   "execution_count": null,
   "metadata": {},
   "outputs": [],
   "source": [
    "def get_minmax_scalers_attributes(X: np.ndarray) -> tuple:\n",
    "    \"\"\"\n",
    "    >>> input_ndarray = np.arange(10).reshape(-1, 1)\n",
    "    >>> input_ndarray\n",
    "    array([[0],\n",
    "           [1],\n",
    "           [2],\n",
    "           [3],\n",
    "           [4],\n",
    "           [5],\n",
    "           [6],\n",
    "           [7],\n",
    "           [8],\n",
    "           [9]])\n",
    "    >>> Xmin, Xmax = get_minmax_scalers_attributes(input_ndarray)\n",
    "    >>> Xmin\n",
    "    0.0\n",
    "    >>> Xmax\n",
    "    9.0\n",
    "    \"\"\"\n",
    "    ### BEGIN SOLUTION\n",
    "    \n",
    "    ### END SOLUTION"
   ]
  },
  {
   "cell_type": "markdown",
   "metadata": {},
   "source": [
    "## 110. 建立兩個預測器\n",
    "\n",
    "定義函數 `create_linear_logistic_regression()` 能夠回傳 `LinearRegression` 與 `LogisticRegression`\n",
    "\n",
    "- 使用 `LinearRegression` 類別。\n",
    "- 使用 `LogisticRegression` 類別。\n",
    "- 將預期輸出寫在 `return` 之後。"
   ]
  },
  {
   "cell_type": "code",
   "execution_count": null,
   "metadata": {},
   "outputs": [],
   "source": [
    "def create_linear_logistic_regression() -> tuple:\n",
    "    \"\"\"\n",
    "    >>> linear_regression, logistic_regression = create_linear_logistic_regression()\n",
    "    >>> type(linear_regression)\n",
    "    sklearn.linear_model._base.LinearRegression\n",
    "    >>> type(logistic_regression)\n",
    "    sklearn.linear_model._logistic.LogisticRegression\n",
    "    \"\"\"\n",
    "    ### BEGIN SOLUTION\n",
    "    \n",
    "    ### END SOLUTION"
   ]
  }
 ],
 "metadata": {
  "kernelspec": {
   "display_name": "Python Fifty Plus",
   "language": "python",
   "name": "pythonfiftyplus"
  },
  "language_info": {
   "codemirror_mode": {
    "name": "ipython",
    "version": 3
   },
   "file_extension": ".py",
   "mimetype": "text/x-python",
   "name": "python",
   "nbconvert_exporter": "python",
   "pygments_lexer": "ipython3",
   "version": "3.9.7"
  }
 },
 "nbformat": 4,
 "nbformat_minor": 4
}
