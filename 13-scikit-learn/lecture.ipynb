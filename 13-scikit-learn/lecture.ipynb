{
 "cells": [
  {
   "cell_type": "markdown",
   "metadata": {
    "slideshow": {
     "slide_type": "slide"
    }
   },
   "source": [
    "# Python 的 50+ 練習\n",
    "\n",
    "> 資料科學模組 Scikit-Learn 入門\n",
    "\n",
    "[數據交點](https://www.datainpoint.com/) | 郭耀仁 <yaojenkuo@datainpoint.com>"
   ]
  },
  {
   "cell_type": "markdown",
   "metadata": {
    "slideshow": {
     "slide_type": "subslide"
    }
   },
   "source": [
    "## 這個章節會登場的模組\n",
    "\n",
    "`scikit-learn` 模組。"
   ]
  },
  {
   "cell_type": "markdown",
   "metadata": {
    "slideshow": {
     "slide_type": "slide"
    }
   },
   "source": [
    "## 關於 Scikit-Learn"
   ]
  },
  {
   "cell_type": "markdown",
   "metadata": {
    "slideshow": {
     "slide_type": "subslide"
    }
   },
   "source": [
    "## 什麼是 Scikit-Learn\n",
    "\n",
    "> Scikit-learn 是 Python 機器學習的第三方模組，透過它可以進行監督式以及非監督式學習，提供了模型訓練、資料預處理、模型選擇以及模型評估等功能。\n",
    "\n",
    "來源：<https://scikit-learn.org>"
   ]
  },
  {
   "cell_type": "markdown",
   "metadata": {
    "slideshow": {
     "slide_type": "subslide"
    }
   },
   "source": [
    "## （沒什麼用的冷知識）Scikit-Learn 是最受歡迎的 SciKit(SciPy Toolkit)\n",
    "\n",
    "- Scikit-Learn 與 Scikit-Image 是兩個最受歡迎、維護最良善的 Scikits\n",
    "- 還有眾多其他的 Scikits\n",
    "\n",
    "來源：<https://projects.scipy.org/scikits.html>"
   ]
  },
  {
   "cell_type": "markdown",
   "metadata": {
    "slideshow": {
     "slide_type": "subslide"
    }
   },
   "source": [
    "## 根據說明文件的範例載入\n",
    "\n",
    "多數時候我們使用 Scikit-Learn 中的特定類別或函數，因此以 `from sklearn import FUNCTION/CLASS` 載入特定類別或函數，而非 `import sklearn`\n",
    "\n",
    "來源：<https://scikit-learn.org/stable/getting_started.html>"
   ]
  },
  {
   "cell_type": "code",
   "execution_count": 1,
   "metadata": {},
   "outputs": [],
   "source": [
    "import sklearn # use `from sklearn import FUNCTION/CLASS` instead"
   ]
  },
  {
   "cell_type": "markdown",
   "metadata": {
    "slideshow": {
     "slide_type": "subslide"
    }
   },
   "source": [
    "## 如果環境中沒有安裝 Scikit-Learn，載入時會遭遇 `ModuleNotFoundError`\n",
    "\n",
    "```\n",
    "Traceback (most recent call last):\n",
    "  File \"<stdin>\", line 1, in <module>\n",
    "ModuleNotFoundError: No module named 'sklearn'\n",
    "```"
   ]
  },
  {
   "cell_type": "markdown",
   "metadata": {
    "slideshow": {
     "slide_type": "subslide"
    }
   },
   "source": [
    "## 如果遭遇 `ModuleNotFoundError` 可以在終端機使用 `pip install scikit-learn` 或者 `conda install scikit-learn` 指令安裝\n",
    "\n",
    "若要指定模組版本可以加上 `==MAJOR.MINOR.PATCH` 課程使用的模組版本為 1.0\n",
    "\n",
    "```bash\n",
    "pip install scikit-learn==1.0\n",
    "```\n",
    "或者\n",
    "\n",
    "```bash\n",
    "conda install scikit-learn==1.0\n",
    "```"
   ]
  },
  {
   "cell_type": "markdown",
   "metadata": {
    "slideshow": {
     "slide_type": "subslide"
    }
   },
   "source": [
    "## 可以透過兩個屬性檢查版本號與安裝路徑\n",
    "\n",
    "- `__version__` 屬性檢查版本號。\n",
    "- `__file__` 屬性檢查安裝路徑。"
   ]
  },
  {
   "cell_type": "code",
   "execution_count": 2,
   "metadata": {},
   "outputs": [
    {
     "name": "stdout",
     "output_type": "stream",
     "text": [
      "1.0\n",
      "/Users/kuoyaojen/opt/miniconda3/envs/pythonfiftyplus/lib/python3.9/site-packages/sklearn/__init__.py\n"
     ]
    }
   ],
   "source": [
    "print(sklearn.__version__)\n",
    "print(sklearn.__file__)"
   ]
  },
  {
   "cell_type": "markdown",
   "metadata": {
    "slideshow": {
     "slide_type": "subslide"
    }
   },
   "source": [
    "## 為什麼選擇 Scikit-Learn\n",
    "\n",
    "- 簡潔、一致且設計良善的應用程式介面設計，只要理解基礎用法和語法，就能延伸切換到其他的演算法或模型。\n",
    "- 文件撰寫完整而豐富。\n",
    "- 維護良善。"
   ]
  },
  {
   "cell_type": "markdown",
   "metadata": {
    "slideshow": {
     "slide_type": "subslide"
    }
   },
   "source": [
    "## Scikit-Learn 應用程式介面設計原則\n",
    "\n",
    "- **一致性**。\n",
    "- **可檢查性**。\n",
    "- 不擴增新類別。\n",
    "- 可組合性。\n",
    "- **合理預設參數**。"
   ]
  },
  {
   "cell_type": "markdown",
   "metadata": {
    "slideshow": {
     "slide_type": "slide"
    }
   },
   "source": [
    "## 什麼是機器學習"
   ]
  },
  {
   "cell_type": "markdown",
   "metadata": {
    "slideshow": {
     "slide_type": "subslide"
    }
   },
   "source": [
    "## 機器學習的三個要素、一個但書\n",
    "\n",
    "> A computer program is said to learn from experience E with respect to some class of tasks T and performance measure P if its performance at tasks in T, as measured by P, improves with experience E.\n",
    "\n",
    "來源：[Machine Learning, Tom Mitchell, McGraw Hill, 1997](http://www.cs.cmu.edu/~tom/mlbook.html)"
   ]
  },
  {
   "cell_type": "markdown",
   "metadata": {
    "slideshow": {
     "slide_type": "subslide"
    }
   },
   "source": [
    "## 傳統透過電腦程式解決問題的方式示意圖\n",
    "\n",
    "![Imgur](https://i.imgur.com/3pojPXW.png?1)\n",
    "\n",
    "來源：<https://www.coursera.org/learn/introduction-tensorflow>"
   ]
  },
  {
   "cell_type": "markdown",
   "metadata": {
    "slideshow": {
     "slide_type": "subslide"
    }
   },
   "source": [
    "## 給定規則 $w$ 以及資料 $X$，我們就可以定義出函數 $f$ 生成答案 $y$\n",
    "\n",
    "\\begin{equation}\n",
    "y = f(X;w) = Xw\n",
    "\\end{equation}"
   ]
  },
  {
   "cell_type": "markdown",
   "metadata": {
    "slideshow": {
     "slide_type": "subslide"
    }
   },
   "source": [
    "## 以機器學習的電腦程式解決問題的方式示意圖\n",
    "\n",
    "![Imgur](https://i.imgur.com/YunyLd7.png)\n",
    "\n",
    "來源：<https://www.coursera.org/learn/introduction-tensorflow>"
   ]
  },
  {
   "cell_type": "markdown",
   "metadata": {
    "slideshow": {
     "slide_type": "subslide"
    }
   },
   "source": [
    "## 給定答案 $y$ 以及資料 $X$，機器學習的電腦程式在最小化損失函數 $J$ 的前提下生成規則 $w$，進而獲得預測 $\\hat{y}$\n",
    "\n",
    "\\begin{equation}\n",
    "\\text{choose} \\; w \\in \\{w^1, w^2, ..., w^n\\} \\\\\n",
    "\\text{where} \\; w \\; \\text{minimizes} \\; J(w) \\\\\n",
    "\\text{subject to} \\; \\hat{y} = h(X; w) = Xw \\\\\n",
    "\\text{where} \\; J(w) \\; \\text{measures the loss between} \\; y \\; \\text{and} \\; \\hat{y} \\\\\n",
    "\\end{equation}"
   ]
  },
  {
   "cell_type": "markdown",
   "metadata": {
    "slideshow": {
     "slide_type": "subslide"
    }
   },
   "source": [
    "## 預測數值時最常見的損失函數 $J$\n",
    "\n",
    "最小化均方誤差（Mean squared error）。\n",
    "\n",
    "\\begin{align}\n",
    "\\text{Minimize} \\; J(w) =  \\frac{1}{m} \\sum_i^m (y_i - \\hat{y_i})^2\n",
    "\\end{align}"
   ]
  },
  {
   "cell_type": "markdown",
   "metadata": {
    "slideshow": {
     "slide_type": "subslide"
    }
   },
   "source": [
    "## 預測類別時最常見的損失函數 $J$\n",
    "\n",
    "最小化預測錯誤個數。\n",
    "\n",
    "\\begin{align}\n",
    "\\text{Minimize} \\; J(w) = \\sum_j n(E_j) \\text{ where } E_j \\; \\text{represents the occurrence of } y_j \\neq \\hat{y_j}\n",
    "\\end{align}"
   ]
  },
  {
   "cell_type": "markdown",
   "metadata": {
    "slideshow": {
     "slide_type": "slide"
    }
   },
   "source": [
    "## Scikit-Learn 的資料表達"
   ]
  },
  {
   "cell_type": "markdown",
   "metadata": {
    "slideshow": {
     "slide_type": "subslide"
    }
   },
   "source": [
    "## 特徵矩陣與目標陣列\n",
    "\n",
    "- 外型 `(m, n)` 的特徵矩陣 $X$。\n",
    "- 外型 `(m,)` 的目標陣列 $y$。"
   ]
  },
  {
   "cell_type": "code",
   "execution_count": 3,
   "metadata": {
    "slideshow": {
     "slide_type": "skip"
    }
   },
   "outputs": [],
   "source": [
    "import matplotlib.pyplot as plt\n",
    "\n",
    "def plot_X_y():\n",
    "    fig = plt.figure(figsize=(6, 4))\n",
    "    ax = fig.add_axes([0, 0, 1, 1])\n",
    "    ax.axis('off')\n",
    "    ax.axis('equal')\n",
    "    # Draw features matrix\n",
    "    ax.vlines(range(6), ymin=0, ymax=9, lw=1)\n",
    "    ax.hlines(range(10), xmin=0, xmax=5, lw=1)\n",
    "    font_prop = dict(size=12, family='monospace')\n",
    "    ax.text(-1, -1, \"Feature Matrix ($X$)\", size=14)\n",
    "    ax.text(0.1, -0.3, r'n_features $\\longrightarrow$', **font_prop)\n",
    "    ax.text(-0.1, 0.1, r'$\\longleftarrow$ m_samples', rotation=90,\n",
    "            va='top', ha='right', **font_prop)\n",
    "    # Draw labels vector\n",
    "    ax.vlines(range(8, 10), ymin=0, ymax=9, lw=1)\n",
    "    ax.hlines(range(10), xmin=8, xmax=9, lw=1)\n",
    "    ax.text(7, -1, \"Target Array ($y$)\", size=14)\n",
    "    ax.text(7.9, 0.1, r'$\\longleftarrow$ m_samples', rotation=90,\n",
    "            va='top', ha='right', **font_prop)\n",
    "    ax.set_ylim(10, -2)\n",
    "    plt.show()"
   ]
  },
  {
   "cell_type": "code",
   "execution_count": 4,
   "metadata": {
    "slideshow": {
     "slide_type": "subslide"
    }
   },
   "outputs": [
    {
     "ename": "NameError",
     "evalue": "name 'plt' is not defined",
     "output_type": "error",
     "traceback": [
      "\u001b[0;31m---------------------------------------------------------------------------\u001b[0m",
      "\u001b[0;31mNameError\u001b[0m                                 Traceback (most recent call last)",
      "\u001b[0;32m/var/folders/0b/r__z5mpn6ldgb_w2j7_y_ntr0000gn/T/ipykernel_1183/1263740402.py\u001b[0m in \u001b[0;36m<module>\u001b[0;34m\u001b[0m\n\u001b[1;32m      1\u001b[0m \u001b[0;31m# 來源：<https://jakevdp.github.io/PythonDataScienceHandbook>\u001b[0m\u001b[0;34m\u001b[0m\u001b[0;34m\u001b[0m\u001b[0m\n\u001b[0;32m----> 2\u001b[0;31m \u001b[0mplot_X_y\u001b[0m\u001b[0;34m(\u001b[0m\u001b[0;34m)\u001b[0m\u001b[0;34m\u001b[0m\u001b[0;34m\u001b[0m\u001b[0m\n\u001b[0m",
      "\u001b[0;32m/var/folders/0b/r__z5mpn6ldgb_w2j7_y_ntr0000gn/T/ipykernel_1183/641610489.py\u001b[0m in \u001b[0;36mplot_X_y\u001b[0;34m()\u001b[0m\n\u001b[1;32m      1\u001b[0m \u001b[0;32mdef\u001b[0m \u001b[0mplot_X_y\u001b[0m\u001b[0;34m(\u001b[0m\u001b[0;34m)\u001b[0m\u001b[0;34m:\u001b[0m\u001b[0;34m\u001b[0m\u001b[0;34m\u001b[0m\u001b[0m\n\u001b[0;32m----> 2\u001b[0;31m     \u001b[0mfig\u001b[0m \u001b[0;34m=\u001b[0m \u001b[0mplt\u001b[0m\u001b[0;34m.\u001b[0m\u001b[0mfigure\u001b[0m\u001b[0;34m(\u001b[0m\u001b[0mfigsize\u001b[0m\u001b[0;34m=\u001b[0m\u001b[0;34m(\u001b[0m\u001b[0;36m6\u001b[0m\u001b[0;34m,\u001b[0m \u001b[0;36m4\u001b[0m\u001b[0;34m)\u001b[0m\u001b[0;34m)\u001b[0m\u001b[0;34m\u001b[0m\u001b[0;34m\u001b[0m\u001b[0m\n\u001b[0m\u001b[1;32m      3\u001b[0m     \u001b[0max\u001b[0m \u001b[0;34m=\u001b[0m \u001b[0mfig\u001b[0m\u001b[0;34m.\u001b[0m\u001b[0madd_axes\u001b[0m\u001b[0;34m(\u001b[0m\u001b[0;34m[\u001b[0m\u001b[0;36m0\u001b[0m\u001b[0;34m,\u001b[0m \u001b[0;36m0\u001b[0m\u001b[0;34m,\u001b[0m \u001b[0;36m1\u001b[0m\u001b[0;34m,\u001b[0m \u001b[0;36m1\u001b[0m\u001b[0;34m]\u001b[0m\u001b[0;34m)\u001b[0m\u001b[0;34m\u001b[0m\u001b[0;34m\u001b[0m\u001b[0m\n\u001b[1;32m      4\u001b[0m     \u001b[0max\u001b[0m\u001b[0;34m.\u001b[0m\u001b[0maxis\u001b[0m\u001b[0;34m(\u001b[0m\u001b[0;34m'off'\u001b[0m\u001b[0;34m)\u001b[0m\u001b[0;34m\u001b[0m\u001b[0;34m\u001b[0m\u001b[0m\n\u001b[1;32m      5\u001b[0m     \u001b[0max\u001b[0m\u001b[0;34m.\u001b[0m\u001b[0maxis\u001b[0m\u001b[0;34m(\u001b[0m\u001b[0;34m'equal'\u001b[0m\u001b[0;34m)\u001b[0m\u001b[0;34m\u001b[0m\u001b[0;34m\u001b[0m\u001b[0m\n",
      "\u001b[0;31mNameError\u001b[0m: name 'plt' is not defined"
     ]
    }
   ],
   "source": [
    "# 來源：<https://jakevdp.github.io/PythonDataScienceHandbook>\n",
    "plot_X_y()"
   ]
  },
  {
   "cell_type": "markdown",
   "metadata": {
    "slideshow": {
     "slide_type": "subslide"
    }
   },
   "source": [
    "## 如何從 `DataFrame` 中擷取特徵矩陣與目標陣列\n",
    "\n",
    "- 還沒有正式介紹如何載入資料，之後在「資料的載入」章節會說明。\n",
    "- 還沒有正式介紹如何從 `DataFrame` 選擇欄位，之後在「基礎資料框操作」章節會說明。"
   ]
  },
  {
   "cell_type": "code",
   "execution_count": null,
   "metadata": {},
   "outputs": [],
   "source": [
    "import pandas as pd\n",
    "\n",
    "csv_url = \"/home/jovyan/data/nba/player_stats.csv\"\n",
    "player_stats = pd.read_csv(csv_url) # import data\n",
    "print(type(player_stats))\n",
    "print(player_stats.shape)"
   ]
  },
  {
   "cell_type": "markdown",
   "metadata": {
    "slideshow": {
     "slide_type": "subslide"
    }
   },
   "source": [
    "## `player_stats` NBA 球員的基本資訊與生涯攻守數據"
   ]
  },
  {
   "cell_type": "code",
   "execution_count": null,
   "metadata": {
    "slideshow": {
     "slide_type": "-"
    }
   },
   "outputs": [],
   "source": [
    "player_stats.head()"
   ]
  },
  {
   "cell_type": "code",
   "execution_count": null,
   "metadata": {
    "slideshow": {
     "slide_type": "subslide"
    }
   },
   "outputs": [],
   "source": [
    "X = player_stats[['apg', 'rpg']].values # select 2 columns\n",
    "y = player_stats['pos'].values          # select 1 column\n",
    "print(X.shape)\n",
    "print(y.shape)"
   ]
  },
  {
   "cell_type": "code",
   "execution_count": null,
   "metadata": {
    "slideshow": {
     "slide_type": "subslide"
    }
   },
   "outputs": [],
   "source": [
    "X = player_stats['heightMeters'].values.reshape(-1, 1) # select 1 column\n",
    "y = player_stats['weightKilograms'].values             # select 1 column\n",
    "print(X.shape)\n",
    "print(y.shape)"
   ]
  },
  {
   "cell_type": "markdown",
   "metadata": {
    "slideshow": {
     "slide_type": "slide"
    }
   },
   "source": [
    "## 使用轉換器預處理資料"
   ]
  },
  {
   "cell_type": "markdown",
   "metadata": {
    "slideshow": {
     "slide_type": "subslide"
    }
   },
   "source": [
    "## 轉換器與預測器是 Scikit-Learn 所創造最重要的兩種類別\n",
    "\n",
    "1. **轉換器（Transformers）：用來預處理資料**。\n",
    "2. 預測器（Predictors）：用來訓練模型、生成規則 $w$"
   ]
  },
  {
   "cell_type": "markdown",
   "metadata": {
    "slideshow": {
     "slide_type": "subslide"
    }
   },
   "source": [
    "## 使用 Scikit-Learn 轉換器的標準步驟\n",
    "\n",
    "1. 準備欲轉換的特徵矩陣 $X$ 或目標陣列 $y$\n",
    "2. 建立轉換器類別的物件。\n",
    "3. 將欲轉換的特徵矩陣 $X$ 或目標陣列 $y$ 輸入 `transformer.fit_transform()`\n",
    "4. 檢查轉換結果。"
   ]
  },
  {
   "cell_type": "markdown",
   "metadata": {
    "slideshow": {
     "slide_type": "subslide"
    }
   },
   "source": [
    "## 使用 Scikit-Learn 轉換器 `PolynomialFeatures`\n",
    "\n",
    "生成一個指定次方數的特徵多項式矩陣。"
   ]
  },
  {
   "cell_type": "code",
   "execution_count": null,
   "metadata": {},
   "outputs": [],
   "source": [
    "X = player_stats['heightMeters'].values.reshape(-1, 1) # step 1\n",
    "polynomial_features = PolynomialFeatures()             # step 2\n",
    "X_transformed = polynomial_features.fit_tranform(X)    # step 3\n",
    "print(X_transformed[:5])                               # step 4"
   ]
  },
  {
   "cell_type": "markdown",
   "metadata": {
    "slideshow": {
     "slide_type": "subslide"
    }
   },
   "source": [
    "## 使用 Scikit-Learn 轉換器 `StandardScaler`\n",
    "\n",
    "生成一個經過標準化的特徵矩陣。\n",
    "\n",
    "\\begin{equation}\n",
    "z = \\frac{x - \\mu}{\\sigma}\n",
    "\\end{equation}"
   ]
  },
  {
   "cell_type": "code",
   "execution_count": null,
   "metadata": {},
   "outputs": [],
   "source": [
    "X = player_stats['heightMeters'].values.reshape(-1, 1) # step 1\n",
    "standard_scaler = StandardScaler()                     # step 2\n",
    "X_transformed = standard_scaler.fit_tranform(X)        # step 3\n",
    "print(X_transformed[:5])                               # step 4"
   ]
  },
  {
   "cell_type": "markdown",
   "metadata": {
    "slideshow": {
     "slide_type": "slide"
    }
   },
   "source": [
    "## 使用預測器訓練及預測資料使用轉換器預處理資料"
   ]
  },
  {
   "cell_type": "markdown",
   "metadata": {
    "slideshow": {
     "slide_type": "subslide"
    }
   },
   "source": [
    "## 轉換器與預測器是 Scikit-Learn 所創造最重要的兩種類別\n",
    "\n",
    "1. 轉換器（Transformers）：用來預處理資料。\n",
    "2. **預測器（Predictors）：用來訓練模型、生成規則 $w$**"
   ]
  },
  {
   "cell_type": "markdown",
   "metadata": {
    "slideshow": {
     "slide_type": "subslide"
    }
   },
   "source": [
    "## 使用 Scikit-Learn 預測器的標準步驟\n",
    "\n",
    "1. 準備欲轉換的特徵矩陣 $X$  與目標陣列 $y$\n",
    "2. 切割訓練與驗證資料。\n",
    "3. 建立預測器類別的物件。\n",
    "4. 將訓練特徵矩陣 $X^{train}$ 與目標陣列 $y^{train}$ 輸入 `predictor.fit()`\n",
    "5. 將驗證特徵矩陣 $X^{valid}$ 輸入 `predictor.predict()` 獲得 $\\hat{y}^{valid}$\n",
    "6. 比對 $\\hat{y}^{valid}$ 與 $y^{valid}$ 之間的差異"
   ]
  },
  {
   "cell_type": "markdown",
   "metadata": {
    "slideshow": {
     "slide_type": "subslide"
    }
   },
   "source": [
    "## 關於切割訓練與驗證資料\n",
    "\n",
    "- 訓練資料：具有實際值或標籤的已實現歷史資料。\n",
    "- 驗證資料：具有實際值或標籤的已實現歷史資料，但是在使用上偽裝成不具有實際值或標籤的待預測資料。"
   ]
  },
  {
   "cell_type": "markdown",
   "metadata": {
    "slideshow": {
     "slide_type": "subslide"
    }
   },
   "source": [
    "## 使用 Scikit-Learn 預測器 `LinearRegression`\n",
    "\n",
    "- 線性迴歸模型。\n",
    "- 數值預測器：NBA 球員的體重。"
   ]
  },
  {
   "cell_type": "code",
   "execution_count": null,
   "metadata": {},
   "outputs": [],
   "source": [
    "X = player_stats['heightMeters'].values.reshape(-1, 1)      # step 1\n",
    "y = player_stats['weightKilograms'].values                  # step 1\n",
    "X_train, X_valid, y_train, y_valid = train_test_split(X, y) # step 2\n",
    "linear_regression = LinearRegression()                      # step 3\n",
    "linear_regression.fit(X_train, y_train)                     # step 4\n",
    "y_hat = linear_regression.predict(X_valid)                  # step 5\n",
    "print(mean_squared_error(y_valid, y_hat))                   # step 6"
   ]
  },
  {
   "cell_type": "markdown",
   "metadata": {
    "slideshow": {
     "slide_type": "subslide"
    }
   },
   "source": [
    "## 使用 Scikit-Learn 預測器 `LogisticRegression`\n",
    "\n",
    "- 羅吉斯迴歸模型。\n",
    "- 類別預測器（分類器）：NBA 球員的鋒衛位置。"
   ]
  },
  {
   "cell_type": "code",
   "execution_count": null,
   "metadata": {},
   "outputs": [],
   "source": [
    "pos_dict = {value: index for index, value in enumerate(player_stats['pos'].unique().sort())}\n",
    "X = player_stats[['apg', 'rpg']].values                     # step 1\n",
    "y = player_stats['pos'].map(pos_dict).values                # step 1\n",
    "X_train, X_valid, y_train, y_valid = train_test_split(X, y) # step 2\n",
    "logistic_regression = LogisticRegression()                  # step 3\n",
    "logistic_regression.fit(X_train, y_train)                   # step 4\n",
    "y_hat = logistic_regression.predict(X_valid)                # step 5\n",
    "number_of_misclassification = (y_valid != y_hat).sum()      # step 6\n",
    "print(number_of_misclassification)                          # step 6"
   ]
  }
 ],
 "metadata": {
  "celltoolbar": "Slideshow",
  "kernelspec": {
   "display_name": "Python Fifty Plus",
   "language": "python",
   "name": "pythonfiftyplus"
  },
  "language_info": {
   "codemirror_mode": {
    "name": "ipython",
    "version": 3
   },
   "file_extension": ".py",
   "mimetype": "text/x-python",
   "name": "python",
   "nbconvert_exporter": "python",
   "pygments_lexer": "ipython3",
   "version": "3.9.7"
  }
 },
 "nbformat": 4,
 "nbformat_minor": 4
}
