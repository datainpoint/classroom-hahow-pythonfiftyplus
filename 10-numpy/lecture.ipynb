{
 "cells": [
  {
   "cell_type": "markdown",
   "metadata": {
    "slideshow": {
     "slide_type": "slide"
    }
   },
   "source": [
    "# Python 的 50+ 練習：資料科學學習手冊\n",
    "\n",
    "> 資料科學模組 NumPy 入門\n",
    "\n",
    "[數據交點](https://www.datainpoint.com/) | 郭耀仁 <yaojenkuo@datainpoint.com>"
   ]
  },
  {
   "cell_type": "markdown",
   "metadata": {
    "slideshow": {
     "slide_type": "subslide"
    }
   },
   "source": [
    "## 這個章節會登場的模組\n",
    "\n",
    "`numpy` 模組。"
   ]
  },
  {
   "cell_type": "markdown",
   "metadata": {
    "slideshow": {
     "slide_type": "slide"
    }
   },
   "source": [
    "## 關於 NumPy"
   ]
  },
  {
   "cell_type": "markdown",
   "metadata": {
    "slideshow": {
     "slide_type": "subslide"
    }
   },
   "source": [
    "## 什麼是 NumPy\n",
    "\n",
    "> NumPy 是 Numeric Python 的簡稱，是 Python 最重要的資料科學模組之一。NumPy 創造了 `ndarray` 的資料結構類別以及大量的通用函數與聚合函數，讓 Python 使用者能夠對進行快速的數值計算、使用統計函數、進行線性代數運算以及操作隨機的模擬任務等。\n",
    "\n",
    "來源：<https://numpy.org/>"
   ]
  },
  {
   "cell_type": "markdown",
   "metadata": {
    "slideshow": {
     "slide_type": "subslide"
    }
   },
   "source": [
    "## （沒什麼用的冷知識）NumPy 的前身為兩個模組\n",
    "\n",
    "- 1990 年代中期誕生的` Numeric` 與 `Numarray` 模組。\n",
    "- NumPy 於 2005 集兩者之大成問世。\n",
    "\n",
    "來源：<https://www.nature.com/articles/s41586-020-2649-2>"
   ]
  },
  {
   "cell_type": "markdown",
   "metadata": {
    "slideshow": {
     "slide_type": "subslide"
    }
   },
   "source": [
    "## 根據說明文件的範例載入\n",
    "\n",
    "來源：<https://numpy.org/doc/stable/user/absolute_beginners.html#how-to-import-numpy>"
   ]
  },
  {
   "cell_type": "code",
   "execution_count": 1,
   "metadata": {},
   "outputs": [],
   "source": [
    "import numpy as np"
   ]
  },
  {
   "cell_type": "markdown",
   "metadata": {
    "slideshow": {
     "slide_type": "subslide"
    }
   },
   "source": [
    "## 如果環境中沒有安裝 `numpy`，載入時會遭遇 `ModuleNotFoundError`\n",
    "\n",
    "```\n",
    "Traceback (most recent call last):\n",
    "  File \"<stdin>\", line 1, in <module>\n",
    "ModuleNotFoundError: No module named 'numpy'\n",
    "```"
   ]
  },
  {
   "cell_type": "markdown",
   "metadata": {
    "slideshow": {
     "slide_type": "subslide"
    }
   },
   "source": [
    "## 如果遭遇 `ModuleNotFoundError` 可以在終端機使用 `pip install numpy` 或者 `conda install numpy` 指令安裝\n",
    "\n",
    "若要指定模組版本可以加上 `==MAJOR.MINOR.PATCH` 課程使用的模組版本為 1.21\n",
    "\n",
    "```bash\n",
    "pip install numpy==1.21\n",
    "```\n",
    "或者\n",
    "\n",
    "```bash\n",
    "conda install numpy==1.21\n",
    "```"
   ]
  },
  {
   "cell_type": "markdown",
   "metadata": {
    "slideshow": {
     "slide_type": "subslide"
    }
   },
   "source": [
    "## 可以透過兩個屬性檢查版本與安裝路徑\n",
    "\n",
    "- `__version__` 屬性檢查版本號。\n",
    "- `__file__` 屬性檢查安裝路徑。"
   ]
  },
  {
   "cell_type": "code",
   "execution_count": 2,
   "metadata": {},
   "outputs": [
    {
     "name": "stdout",
     "output_type": "stream",
     "text": [
      "1.21.0\n",
      "/srv/conda/envs/notebook/lib/python3.9/site-packages/numpy/__init__.py\n"
     ]
    }
   ],
   "source": [
    "print(np.__version__)\n",
    "print(np.__file__)"
   ]
  },
  {
   "cell_type": "markdown",
   "metadata": {
    "slideshow": {
     "slide_type": "subslide"
    }
   },
   "source": [
    "## NumPy 的核心功能\n",
    "\n",
    "1. 使用 `ndarray` 來進行數值操作。\n",
    "2. 使用模組定義的函數對 `ndarray` 進行數值運算。\n",
    "3. `ndarray` 是其他資料科學模組 Pandas、Matplotlib 與 Scikit-Learn 的基石。"
   ]
  },
  {
   "cell_type": "markdown",
   "metadata": {
    "slideshow": {
     "slide_type": "slide"
    }
   },
   "source": [
    "## 如何創造 `ndarray`"
   ]
  },
  {
   "cell_type": "markdown",
   "metadata": {
    "slideshow": {
     "slide_type": "subslide"
    }
   },
   "source": [
    "## 從 `list` 創造 `ndarray`"
   ]
  },
  {
   "cell_type": "code",
   "execution_count": 3,
   "metadata": {},
   "outputs": [
    {
     "name": "stdout",
     "output_type": "stream",
     "text": [
      "[ 2  3  5  7 11]\n",
      "<class 'numpy.ndarray'>\n"
     ]
    }
   ],
   "source": [
    "prime_list = [2, 3, 5, 7, 11]\n",
    "prime_array = np.array(prime_list)\n",
    "print(prime_array)\n",
    "print(type(prime_array))"
   ]
  },
  {
   "cell_type": "markdown",
   "metadata": {
    "slideshow": {
     "slide_type": "subslide"
    }
   },
   "source": [
    "##  利用 NumPy 函數創造內容元素相同的 `ndarray`\n",
    "\n",
    "- `np.zeros()`\n",
    "- `np.ones()`\n",
    "- `np.full()`"
   ]
  },
  {
   "cell_type": "code",
   "execution_count": 4,
   "metadata": {},
   "outputs": [
    {
     "name": "stdout",
     "output_type": "stream",
     "text": [
      "[0 0 0 0 0]\n",
      "[1. 1. 1. 1. 1.]\n",
      "[6 6 6 6 6]\n"
     ]
    }
   ],
   "source": [
    "print(np.zeros(5, dtype=int))\n",
    "print(np.ones(5, dtype=float))\n",
    "print(np.full(5, 6))"
   ]
  },
  {
   "cell_type": "markdown",
   "metadata": {
    "slideshow": {
     "slide_type": "subslide"
    }
   },
   "source": [
    "## 利用 NumPy 函數創造數列型態的 `ndarray`\n",
    "\n",
    "- `np.arange(start, stop, step)`\n",
    "- `np.linspace(start, stop, num)` 值得注意的是 `stop` 參數預設為包含。"
   ]
  },
  {
   "cell_type": "code",
   "execution_count": 5,
   "metadata": {},
   "outputs": [
    {
     "name": "stdout",
     "output_type": "stream",
     "text": [
      "[1 3 5 7 9]\n",
      "[1 3 5 7 9]\n"
     ]
    }
   ],
   "source": [
    "print(np.arange(1, 11, 2))\n",
    "print(np.linspace(1, 9, 5, dtype=int))"
   ]
  },
  {
   "cell_type": "markdown",
   "metadata": {
    "slideshow": {
     "slide_type": "subslide"
    }
   },
   "source": [
    "## 利用 `np.random` 中的函數創造隨機性的 `ndarray`"
   ]
  },
  {
   "cell_type": "code",
   "execution_count": 6,
   "metadata": {},
   "outputs": [
    {
     "name": "stdout",
     "output_type": "stream",
     "text": [
      "[0.56090609 0.84319229 0.10549993 ... 0.5769678  0.45783439 0.61463416]\n",
      "[-0.40019236  0.79275922 -1.04887322 ...  0.28967493  0.26388343\n",
      " -0.05786187]\n",
      "[2 3 3 ... 1 2 4]\n"
     ]
    }
   ],
   "source": [
    "m = 10000\n",
    "uniform_array = np.random.random(m) # module.function()\n",
    "normal_array = np.random.normal(0, 1, m)\n",
    "randint_array = np.random.randint(1, 7, size=m)\n",
    "print(uniform_array)\n",
    "print(normal_array)\n",
    "print(randint_array)"
   ]
  },
  {
   "cell_type": "markdown",
   "metadata": {
    "slideshow": {
     "slide_type": "subslide"
    }
   },
   "source": [
    "## 常用的 `ndarray` 屬性\n",
    "\n",
    "- `ndarray.ndim` 維度數。\n",
    "- `ndarray.shape` 外型。\n",
    "- `ndarray.size` 元素個數。\n",
    "- `ndarray.dtype` 資料類別。"
   ]
  },
  {
   "cell_type": "code",
   "execution_count": 7,
   "metadata": {
    "slideshow": {
     "slide_type": "-"
    }
   },
   "outputs": [
    {
     "name": "stdout",
     "output_type": "stream",
     "text": [
      "1\n",
      "(5,)\n",
      "5\n",
      "int64\n"
     ]
    }
   ],
   "source": [
    "prime_list = [2, 3, 5, 7, 11]\n",
    "prime_array = np.array(prime_list)\n",
    "print(prime_array.ndim)\n",
    "print(prime_array.shape)\n",
    "print(prime_array.size)\n",
    "print(prime_array.dtype)"
   ]
  },
  {
   "cell_type": "markdown",
   "metadata": {
    "slideshow": {
     "slide_type": "subslide"
    }
   },
   "source": [
    "## 不同維度數的 `ndarray` 有不同的暱稱\n",
    "\n",
    "- 零維 `ndarray`：純量（Scalar）。\n",
    "- 一維 `ndarray`：向量（Vector）。\n",
    "- 二維 `ndarray`：矩陣（Matrix）。\n",
    "- 三維或者 n 維 `ndarray`：張量（Tensor）。"
   ]
  },
  {
   "cell_type": "markdown",
   "metadata": {
    "slideshow": {
     "slide_type": "subslide"
    }
   },
   "source": [
    "## 純量、向量、矩陣與張量外型示意圖\n",
    "\n",
    "![Imgur](https://i.imgur.com/81fM6Hf.png)\n",
    "\n",
    "來源：<https://dev.to/juancarlospaco/tensors-for-busy-people-315k>"
   ]
  },
  {
   "cell_type": "code",
   "execution_count": 8,
   "metadata": {
    "slideshow": {
     "slide_type": "subslide"
    }
   },
   "outputs": [
    {
     "name": "stdout",
     "output_type": "stream",
     "text": [
      "5566\n",
      "0\n",
      "()\n"
     ]
    }
   ],
   "source": [
    "scalar = np.array(5566)\n",
    "print(scalar)\n",
    "print(scalar.ndim)\n",
    "print(scalar.shape)"
   ]
  },
  {
   "cell_type": "code",
   "execution_count": 9,
   "metadata": {
    "slideshow": {
     "slide_type": "subslide"
    }
   },
   "outputs": [
    {
     "name": "stdout",
     "output_type": "stream",
     "text": [
      "[5 5 6 6]\n",
      "1\n",
      "(4,)\n"
     ]
    }
   ],
   "source": [
    "vector = np.array([5, 5, 6, 6])\n",
    "print(vector)\n",
    "print(vector.ndim)\n",
    "print(vector.shape)"
   ]
  },
  {
   "cell_type": "code",
   "execution_count": 10,
   "metadata": {
    "slideshow": {
     "slide_type": "subslide"
    }
   },
   "outputs": [
    {
     "name": "stdout",
     "output_type": "stream",
     "text": [
      "[[ 5  5]\n",
      " [ 6  6]\n",
      " [55 66]]\n",
      "2\n",
      "(3, 2)\n"
     ]
    }
   ],
   "source": [
    "matrix = np.array([[5, 5],\n",
    "                   [6, 6],\n",
    "                   [55, 66]])\n",
    "print(matrix)\n",
    "print(matrix.ndim)\n",
    "print(matrix.shape) # (m, n)"
   ]
  },
  {
   "cell_type": "code",
   "execution_count": 11,
   "metadata": {
    "slideshow": {
     "slide_type": "subslide"
    }
   },
   "outputs": [
    {
     "name": "stdout",
     "output_type": "stream",
     "text": [
      "[[[ 5  5]\n",
      "  [ 6  6]\n",
      "  [55 66]]\n",
      "\n",
      " [[ 5  5]\n",
      "  [ 6  6]\n",
      "  [55 66]]\n",
      "\n",
      " [[ 5  5]\n",
      "  [ 6  6]\n",
      "  [55 66]]\n",
      "\n",
      " [[ 5  5]\n",
      "  [ 6  6]\n",
      "  [55 66]]]\n",
      "3\n",
      "(4, 3, 2)\n"
     ]
    }
   ],
   "source": [
    "tensor = np.array([[[5, 5],\n",
    "                    [6, 6],\n",
    "                    [55, 66]],\n",
    "                   [[5, 5],\n",
    "                    [6, 6],\n",
    "                    [55, 66]],\n",
    "                   [[5, 5],\n",
    "                    [6, 6],\n",
    "                    [55, 66]],\n",
    "                   [[5, 5],\n",
    "                    [6, 6],\n",
    "                    [55, 66]]])\n",
    "print(tensor)\n",
    "print(tensor.ndim)\n",
    "print(tensor.shape) # (l, m, n)"
   ]
  },
  {
   "cell_type": "markdown",
   "metadata": {
    "slideshow": {
     "slide_type": "slide"
    }
   },
   "source": [
    "## `ndarray` 與 `list` 的異同"
   ]
  },
  {
   "cell_type": "markdown",
   "metadata": {
    "slideshow": {
     "slide_type": "subslide"
    }
   },
   "source": [
    "## `ndarray` 與 `list` 相同的地方\n",
    "\n",
    "- indexing/slicing 的語法。\n",
    "- 能夠以 indexing 更新。"
   ]
  },
  {
   "cell_type": "markdown",
   "metadata": {
    "slideshow": {
     "slide_type": "subslide"
    }
   },
   "source": [
    "## indexing 的語法\n",
    "\n",
    "`ndarray` 採用兩個方向的索引機制：\n",
    "\n",
    "1. 由左至右：「從 0 開始」的索引機制。\n",
    "2. 由右至左：「從 -1 開始」的索引機制。"
   ]
  },
  {
   "cell_type": "code",
   "execution_count": 12,
   "metadata": {
    "slideshow": {
     "slide_type": "subslide"
    }
   },
   "outputs": [
    {
     "name": "stdout",
     "output_type": "stream",
     "text": [
      "From start to stop:\n",
      "2\n",
      "3\n",
      "5\n",
      "7\n",
      "11\n",
      "From stop to start:\n",
      "11\n",
      "7\n",
      "5\n",
      "3\n",
      "2\n"
     ]
    }
   ],
   "source": [
    "primes_array = np.array([2, 3, 5, 7, 11])\n",
    "print(\"From start to stop:\")\n",
    "print(primes_array[0])\n",
    "print(primes_array[1])\n",
    "print(primes_array[2])\n",
    "print(primes_array[3])\n",
    "print(primes_array[primes_array.size - 1])\n",
    "print(\"From stop to start:\")\n",
    "print(primes_array[-1])\n",
    "print(primes_array[-2])\n",
    "print(primes_array[-3])\n",
    "print(primes_array[-4])\n",
    "print(primes_array[-primes_array.size])"
   ]
  },
  {
   "cell_type": "markdown",
   "metadata": {
    "slideshow": {
     "slide_type": "subslide"
    }
   },
   "source": [
    "## slicing `[start:stop:step]`\n",
    "\n",
    "除了可以取出特定位置的單個資料值，`ndarray` 也支援擷取特定片段，藉此獲得一個較短長度 `ndarray` 的語法。\n",
    "\n",
    "- `start` 起始位置（包含）。\n",
    "- `stop` 終止位置（排除）。\n",
    "- `step` 間隔。"
   ]
  },
  {
   "cell_type": "code",
   "execution_count": 13,
   "metadata": {
    "slideshow": {
     "slide_type": "subslide"
    }
   },
   "outputs": [
    {
     "name": "stdout",
     "output_type": "stream",
     "text": [
      "[ 2  3  5  7 11]\n",
      "[ 2  5 11]\n",
      "[2 3 5]\n",
      "[ 7 11]\n",
      "[11  7  5  3  2]\n"
     ]
    }
   ],
   "source": [
    "print(primes_array[::])   # default\n",
    "print(primes_array[::2])  # step=2\n",
    "print(primes_array[:3])   # stop=5, exclusive\n",
    "print(primes_array[3:])   # start=5, inclusive\n",
    "print(primes_array[::-1]) # step=-1, reverse"
   ]
  },
  {
   "cell_type": "markdown",
   "metadata": {
    "slideshow": {
     "slide_type": "subslide"
    }
   },
   "source": [
    "## 能夠以 indexing 更新"
   ]
  },
  {
   "cell_type": "code",
   "execution_count": 14,
   "metadata": {},
   "outputs": [
    {
     "name": "stdout",
     "output_type": "stream",
     "text": [
      "[ 2  3  5  7 11]\n",
      "[ 2  3  5  7 13]\n"
     ]
    }
   ],
   "source": [
    "primes_array = np.array([2, 3, 5, 7, 11])\n",
    "print(primes_array)   # before update\n",
    "primes_array[-1] = 13 # update\n",
    "print(primes_array)   # after update"
   ]
  },
  {
   "cell_type": "markdown",
   "metadata": {
    "slideshow": {
     "slide_type": "subslide"
    }
   },
   "source": [
    "## `ndarray` 與 `list` 相異的地方\n",
    "\n",
    "- indexing 二維以上的 `ndarray` 可以用更便捷的語法 `[i, j, k, ...]`\n",
    "- 同質性資料結構類別。\n",
    "- 支援元素操作（Elementwise）運算。\n",
    "- 支援特殊的 indexing 語法。"
   ]
  },
  {
   "cell_type": "markdown",
   "metadata": {
    "slideshow": {
     "slide_type": "subslide"
    }
   },
   "source": [
    "## indexing 二維以上的 `ndarray` 可以用 `ndarray` 便捷的語法 `[i, j, k, ...]`"
   ]
  },
  {
   "cell_type": "code",
   "execution_count": 15,
   "metadata": {},
   "outputs": [
    {
     "name": "stdout",
     "output_type": "stream",
     "text": [
      "[[ 5  5]\n",
      " [ 6  6]\n",
      " [55 66]]\n",
      "66\n"
     ]
    }
   ],
   "source": [
    "matrix = np.array([[5, 5],\n",
    "                   [6, 6],\n",
    "                   [55, 66]])\n",
    "print(matrix)\n",
    "print(matrix[2, 1]) # 66 locates at [2, 1]"
   ]
  },
  {
   "cell_type": "code",
   "execution_count": 16,
   "metadata": {
    "slideshow": {
     "slide_type": "-"
    }
   },
   "outputs": [
    {
     "name": "stdout",
     "output_type": "stream",
     "text": [
      "[ 5  6 66]\n",
      "[[ 5]\n",
      " [ 6]\n",
      " [66]]\n"
     ]
    }
   ],
   "source": [
    "print(matrix[:, 1])\n",
    "print(matrix[:, [1]]) # keep dimension"
   ]
  },
  {
   "cell_type": "markdown",
   "metadata": {
    "slideshow": {
     "slide_type": "subslide"
    }
   },
   "source": [
    "## 同質性資料結構類別"
   ]
  },
  {
   "cell_type": "code",
   "execution_count": 17,
   "metadata": {},
   "outputs": [
    {
     "name": "stdout",
     "output_type": "stream",
     "text": [
      "<class 'bool'>\n",
      "<class 'bool'>\n",
      "<class 'int'>\n",
      "<class 'float'>\n",
      "<class 'str'>\n"
     ]
    }
   ],
   "source": [
    "heterogeneous_list = [False, True, 5566, 55.66, 'Luke Skywalker']\n",
    "for element in heterogeneous_list:\n",
    "    print(type(element))"
   ]
  },
  {
   "cell_type": "code",
   "execution_count": 18,
   "metadata": {},
   "outputs": [
    {
     "name": "stdout",
     "output_type": "stream",
     "text": [
      "<class 'numpy.str_'>\n",
      "<class 'numpy.str_'>\n",
      "<class 'numpy.str_'>\n",
      "<class 'numpy.str_'>\n",
      "<class 'numpy.str_'>\n"
     ]
    }
   ],
   "source": [
    "homogeneous_array = np.array(heterogeneous_list)\n",
    "for element in homogeneous_array:\n",
    "    print(type(element))"
   ]
  },
  {
   "cell_type": "markdown",
   "metadata": {
    "slideshow": {
     "slide_type": "subslide"
    }
   },
   "source": [
    "## 支援元素操作（Elementwise）運算"
   ]
  },
  {
   "cell_type": "code",
   "execution_count": 19,
   "metadata": {},
   "outputs": [
    {
     "name": "stdout",
     "output_type": "stream",
     "text": [
      "unsupported operand type(s) for ** or pow(): 'list' and 'int'\n"
     ]
    }
   ],
   "source": [
    "# list does not support elementwise\n",
    "primes_list = [2, 3, 5, 7, 11]\n",
    "try:\n",
    "    primes_list**2\n",
    "except TypeError as error_message:\n",
    "    print(error_message)"
   ]
  },
  {
   "cell_type": "code",
   "execution_count": 20,
   "metadata": {},
   "outputs": [
    {
     "data": {
      "text/plain": [
       "array([  4,   9,  25,  49, 121])"
      ]
     },
     "execution_count": 20,
     "metadata": {},
     "output_type": "execute_result"
    }
   ],
   "source": [
    "# ndarray supports elementwise\n",
    "primes_array = np.array(primes_list)\n",
    "primes_array**2"
   ]
  },
  {
   "cell_type": "markdown",
   "metadata": {
    "slideshow": {
     "slide_type": "subslide"
    }
   },
   "source": [
    "## 支援特殊的 indexing 語法\n",
    "\n",
    "- Fancy indexing\n",
    "- Boolean indexing"
   ]
  },
  {
   "cell_type": "markdown",
   "metadata": {
    "slideshow": {
     "slide_type": "subslide"
    }
   },
   "source": [
    "## 什麼是 Fancy indexing\n",
    "\n",
    "對應 `ndarray` 時中括號允許傳入 `list`，藉此可以更有彈性地取出 `ndarray` 中的元素。"
   ]
  },
  {
   "cell_type": "code",
   "execution_count": 21,
   "metadata": {},
   "outputs": [
    {
     "name": "stdout",
     "output_type": "stream",
     "text": [
      "list indices must be integers or slices, not list\n"
     ]
    }
   ],
   "source": [
    "primes_list = [2, 3, 5, 7, 11]\n",
    "try:\n",
    "    primes_list[[0, 1, 4]]\n",
    "except TypeError as error_message:\n",
    "    print(error_message)"
   ]
  },
  {
   "cell_type": "code",
   "execution_count": 22,
   "metadata": {
    "slideshow": {
     "slide_type": "-"
    }
   },
   "outputs": [
    {
     "name": "stdout",
     "output_type": "stream",
     "text": [
      "[ 2  3  5  7 11]\n",
      "[ 2  3 11]\n"
     ]
    }
   ],
   "source": [
    "primes_array = np.array([2, 3, 5, 7, 11])\n",
    "print(primes_array)\n",
    "print(primes_array[[0, 1, 4]])"
   ]
  },
  {
   "cell_type": "markdown",
   "metadata": {
    "slideshow": {
     "slide_type": "subslide"
    }
   },
   "source": [
    "## 什麼是 Boolean indexing\n",
    "\n",
    "對應 `ndarray` 時中括號允許傳入由 `bool` 組成的相同長度 `list` 或 `ndarray`，藉此可以更有彈性地取出 `ndarray` 中的元素。"
   ]
  },
  {
   "cell_type": "code",
   "execution_count": 23,
   "metadata": {
    "slideshow": {
     "slide_type": "-"
    }
   },
   "outputs": [
    {
     "name": "stdout",
     "output_type": "stream",
     "text": [
      "list indices must be integers or slices, not list\n"
     ]
    }
   ],
   "source": [
    "primes_list = [2, 3, 5, 7, 11]\n",
    "try:\n",
    "    primes_list[[False, True, True, True, True]]\n",
    "except TypeError as error_message:\n",
    "    print(error_message)"
   ]
  },
  {
   "cell_type": "code",
   "execution_count": 24,
   "metadata": {
    "slideshow": {
     "slide_type": "-"
    }
   },
   "outputs": [
    {
     "name": "stdout",
     "output_type": "stream",
     "text": [
      "[ 2  3  5  7 11]\n",
      "[ 3  5  7 11]\n",
      "[False  True  True  True  True]\n",
      "[ 3  5  7 11]\n"
     ]
    }
   ],
   "source": [
    "primes_array = np.array([2, 3, 5, 7, 11])\n",
    "print(primes_array)\n",
    "print(primes_array[[False, True, True, True, True]])\n",
    "print(primes_array % 2 == 1)\n",
    "print(primes_array[primes_array % 2 == 1])"
   ]
  },
  {
   "cell_type": "markdown",
   "metadata": {
    "slideshow": {
     "slide_type": "slide"
    }
   },
   "source": [
    "## 如何操作 `ndarray`"
   ]
  },
  {
   "cell_type": "markdown",
   "metadata": {
    "slideshow": {
     "slide_type": "subslide"
    }
   },
   "source": [
    "## 常用的 `ndarray` 操作\n",
    "\n",
    "- 調整外型。\n",
    "- 複製。\n",
    "- 合併。\n",
    "- 分割。"
   ]
  },
  {
   "cell_type": "markdown",
   "metadata": {
    "slideshow": {
     "slide_type": "subslide"
    }
   },
   "source": [
    "## 調整外型\n",
    "\n",
    "- `ndarray.reshape()`：調整為指定外型 `(..., m, n)`\n",
    "- `ndarray.ravel()`：調整為一維 `(m,)`"
   ]
  },
  {
   "cell_type": "code",
   "execution_count": 25,
   "metadata": {
    "slideshow": {
     "slide_type": "subslide"
    }
   },
   "outputs": [
    {
     "name": "stdout",
     "output_type": "stream",
     "text": [
      "[ 1  2  3  4  5  6  7  8  9 10 11 12]\n",
      "(12,)\n",
      "[[ 1  2  3  4]\n",
      " [ 5  6  7  8]\n",
      " [ 9 10 11 12]]\n",
      "(3, 4)\n"
     ]
    }
   ],
   "source": [
    "array_range = np.arange(1, 13)\n",
    "print(array_range)\n",
    "print(array_range.shape)\n",
    "print(array_range.reshape(3, 4))\n",
    "print(array_range.reshape(3, 4).shape)"
   ]
  },
  {
   "cell_type": "markdown",
   "metadata": {
    "slideshow": {
     "slide_type": "subslide"
    }
   },
   "source": [
    "## 在其他維度已經決定時可以方便地指定 `-1` 給最後一個維度"
   ]
  },
  {
   "cell_type": "code",
   "execution_count": 26,
   "metadata": {
    "slideshow": {
     "slide_type": "-"
    }
   },
   "outputs": [
    {
     "name": "stdout",
     "output_type": "stream",
     "text": [
      "[[ 1  2  3  4]\n",
      " [ 5  6  7  8]\n",
      " [ 9 10 11 12]]\n",
      "[[ 1  2  3]\n",
      " [ 4  5  6]\n",
      " [ 7  8  9]\n",
      " [10 11 12]]\n"
     ]
    }
   ],
   "source": [
    "print(array_range.reshape(3, -1))\n",
    "print(array_range.reshape(-1, 3))"
   ]
  },
  {
   "cell_type": "markdown",
   "metadata": {
    "slideshow": {
     "slide_type": "subslide"
    }
   },
   "source": [
    "## 使用 `ndarray.ravel()` 調整成一維"
   ]
  },
  {
   "cell_type": "code",
   "execution_count": 27,
   "metadata": {},
   "outputs": [
    {
     "name": "stdout",
     "output_type": "stream",
     "text": [
      "(3, 4)\n",
      "2\n",
      "(12,)\n",
      "1\n"
     ]
    }
   ],
   "source": [
    "array_range = np.arange(1, 13).reshape(3, -1)\n",
    "print(array_range.shape)\n",
    "print(array_range.ndim)\n",
    "print(array_range.ravel().shape)\n",
    "print(array_range.ravel().ndim)"
   ]
  },
  {
   "cell_type": "markdown",
   "metadata": {
    "slideshow": {
     "slide_type": "subslide"
    }
   },
   "source": [
    "## 複製\n",
    "\n",
    "- 透過物件命名參照並不會真的複製，會讓兩個物件名稱共享一個 `ndarray` 的資料值，但是卻能有不同的外型。\n",
    "- 使用 `ndarray.copy()` 明確地複製。"
   ]
  },
  {
   "cell_type": "code",
   "execution_count": 28,
   "metadata": {
    "slideshow": {
     "slide_type": "-"
    }
   },
   "outputs": [
    {
     "name": "stdout",
     "output_type": "stream",
     "text": [
      "[   1    2    3    4 5566    6    7    8    9]\n",
      "[[   1    2    3]\n",
      " [   4 5566    6]\n",
      " [   7    8    9]]\n"
     ]
    }
   ],
   "source": [
    "vector = np.arange(1, 10)\n",
    "matrix = vector.reshape(3, 3)\n",
    "matrix[1, 1] = 5566\n",
    "print(vector)\n",
    "print(matrix)"
   ]
  },
  {
   "cell_type": "markdown",
   "metadata": {
    "slideshow": {
     "slide_type": "subslide"
    }
   },
   "source": [
    "## 使用 `ndarray.copy()` 明確地複製"
   ]
  },
  {
   "cell_type": "code",
   "execution_count": 29,
   "metadata": {},
   "outputs": [
    {
     "name": "stdout",
     "output_type": "stream",
     "text": [
      "[1 2 3 4 5 6 7 8 9]\n",
      "[[   1    2    3]\n",
      " [   4 5566    6]\n",
      " [   7    8    9]]\n"
     ]
    }
   ],
   "source": [
    "vector = np.arange(1, 10)\n",
    "matrix = vector.copy().reshape(3, 3)\n",
    "matrix[1, 1] = 5566\n",
    "print(vector)\n",
    "print(matrix)"
   ]
  },
  {
   "cell_type": "markdown",
   "metadata": {
    "slideshow": {
     "slide_type": "subslide"
    }
   },
   "source": [
    "## 合併\n",
    "\n",
    "使用 `np.concatenate()` 函數合併。\n",
    "\n",
    "- 指定參數 `axis=0` 垂直合併（預設值）。\n",
    "- 指定參數 `axis=1` 水平合併。"
   ]
  },
  {
   "cell_type": "code",
   "execution_count": 30,
   "metadata": {
    "slideshow": {
     "slide_type": "-"
    }
   },
   "outputs": [
    {
     "name": "stdout",
     "output_type": "stream",
     "text": [
      "[[1 2]\n",
      " [3 4]\n",
      " [5 6]\n",
      " [7 8]]\n",
      "[[1 2 5 6]\n",
      " [3 4 7 8]]\n"
     ]
    }
   ],
   "source": [
    "array_a = np.arange(1, 5).reshape(2, 2)\n",
    "array_b = np.arange(5, 9).reshape(2, 2)\n",
    "print(np.concatenate((array_a, array_b)))         # default, axis=0\n",
    "print(np.concatenate((array_a, array_b), axis=1)) # axis=1"
   ]
  },
  {
   "cell_type": "markdown",
   "metadata": {
    "slideshow": {
     "slide_type": "subslide"
    }
   },
   "source": [
    "## 分割\n",
    "\n",
    "使用 `np.split()` 函數分割。\n",
    "\n",
    "- 指定參數 `axis=0` 垂直分割（預設值）。\n",
    "- 指定參數 `axis=1` 水平分割。"
   ]
  },
  {
   "cell_type": "code",
   "execution_count": 31,
   "metadata": {
    "slideshow": {
     "slide_type": "-"
    }
   },
   "outputs": [
    {
     "name": "stdout",
     "output_type": "stream",
     "text": [
      "[[0 1]\n",
      " [2 3]\n",
      " [4 5]\n",
      " [6 7]\n",
      " [8 9]]\n",
      "[[10 11]\n",
      " [12 13]\n",
      " [14 15]\n",
      " [16 17]\n",
      " [18 19]]\n"
     ]
    }
   ],
   "source": [
    "array_range = np.arange(20).reshape(-1, 2)\n",
    "upper_array, lower_array = np.split(array_range, 2) # split to 2 ndarrays\n",
    "print(upper_array)\n",
    "print(lower_array)"
   ]
  },
  {
   "cell_type": "markdown",
   "metadata": {
    "slideshow": {
     "slide_type": "subslide"
    }
   },
   "source": [
    "## 如果以 `list` 傳入參數則表示分割的索引值"
   ]
  },
  {
   "cell_type": "code",
   "execution_count": 7,
   "metadata": {
    "slideshow": {
     "slide_type": "-"
    }
   },
   "outputs": [
    {
     "name": "stdout",
     "output_type": "stream",
     "text": [
      "[[0 1]\n",
      " [2 3]]\n",
      "[[ 4  5]\n",
      " [ 6  7]\n",
      " [ 8  9]\n",
      " [10 11]\n",
      " [12 13]\n",
      " [14 15]\n",
      " [16 17]\n",
      " [18 19]]\n"
     ]
    }
   ],
   "source": [
    "array_range = np.arange(20).reshape(-1, 2)\n",
    "upper_array, lower_array = np.split(array_range, [2]) # split on index 2\n",
    "print(upper_array)\n",
    "print(lower_array)"
   ]
  },
  {
   "cell_type": "code",
   "execution_count": 32,
   "metadata": {
    "slideshow": {
     "slide_type": "subslide"
    }
   },
   "outputs": [
    {
     "name": "stdout",
     "output_type": "stream",
     "text": [
      "[[ 0]\n",
      " [ 2]\n",
      " [ 4]\n",
      " [ 6]\n",
      " [ 8]\n",
      " [10]\n",
      " [12]\n",
      " [14]\n",
      " [16]\n",
      " [18]]\n",
      "[[ 1]\n",
      " [ 3]\n",
      " [ 5]\n",
      " [ 7]\n",
      " [ 9]\n",
      " [11]\n",
      " [13]\n",
      " [15]\n",
      " [17]\n",
      " [19]]\n"
     ]
    }
   ],
   "source": [
    "array_range = np.arange(20).reshape(-1, 2)\n",
    "left_array, right_array = np.split(array_range, 2, axis=1)\n",
    "print(left_array)\n",
    "print(right_array)"
   ]
  },
  {
   "cell_type": "markdown",
   "metadata": {
    "slideshow": {
     "slide_type": "slide"
    }
   },
   "source": [
    "## NumPy 函數"
   ]
  },
  {
   "cell_type": "markdown",
   "metadata": {
    "slideshow": {
     "slide_type": "subslide"
    }
   },
   "source": [
    "## NumPy 提供非常豐富的數值運算函數\n",
    "\n",
    "- 通用函數（Universal functions）。\n",
    "- 聚合函數（Aggregate functions）。"
   ]
  },
  {
   "cell_type": "markdown",
   "metadata": {
    "slideshow": {
     "slide_type": "subslide"
    }
   },
   "source": [
    "## 什麼是通用函數\n",
    "\n",
    "通用函數是具備向量化（Vectorized）特性的函數，接受固定數量、外型的輸入並對應相同數量、外型的輸出。"
   ]
  },
  {
   "cell_type": "code",
   "execution_count": 33,
   "metadata": {
    "slideshow": {
     "slide_type": "-"
    }
   },
   "outputs": [
    {
     "name": "stdout",
     "output_type": "stream",
     "text": [
      "[0 1 2 3 4 5 6 7 8 9]\n",
      "[ 0  1  4  9 16 25 36 49 64 81]\n",
      "[1.00000000e+00 2.71828183e+00 7.38905610e+00 2.00855369e+01\n",
      " 5.45981500e+01 1.48413159e+02 4.03428793e+02 1.09663316e+03\n",
      " 2.98095799e+03 8.10308393e+03]\n"
     ]
    }
   ],
   "source": [
    "array_range = np.arange(10)\n",
    "print(array_range)\n",
    "print(np.power(array_range, 2)) # np.power() is a universal function\n",
    "print(np.exp(array_range))      # np.exp() is a universal function"
   ]
  },
  {
   "cell_type": "markdown",
   "metadata": {
    "slideshow": {
     "slide_type": "subslide"
    }
   },
   "source": [
    "## 轉換純量函數為通用函數\n",
    "\n",
    "使用 `np.vectorize()` 函數將只能作用在單一資料值上的函數轉換為通用函數。"
   ]
  },
  {
   "cell_type": "code",
   "execution_count": 34,
   "metadata": {
    "slideshow": {
     "slide_type": "-"
    }
   },
   "outputs": [
    {
     "name": "stdout",
     "output_type": "stream",
     "text": [
      "only integer scalar arrays can be converted to a scalar index\n"
     ]
    }
   ],
   "source": [
    "def is_prime(x):\n",
    "    number_of_divisors = 0\n",
    "    for integer in range(1, x + 1):\n",
    "        if x % integer == 0:\n",
    "            number_of_divisors += 1\n",
    "    return number_of_divisors == 2\n",
    "\n",
    "try:\n",
    "    is_prime(np.arange(10))\n",
    "except TypeError as error_message:\n",
    "    print(error_message)"
   ]
  },
  {
   "cell_type": "code",
   "execution_count": 35,
   "metadata": {
    "slideshow": {
     "slide_type": "-"
    }
   },
   "outputs": [
    {
     "data": {
      "text/plain": [
       "array([False, False,  True,  True, False,  True, False,  True, False,\n",
       "       False])"
      ]
     },
     "execution_count": 35,
     "metadata": {},
     "output_type": "execute_result"
    }
   ],
   "source": [
    "vectorized_is_prime = np.vectorize(is_prime)\n",
    "vectorized_is_prime(np.arange(10))"
   ]
  },
  {
   "cell_type": "markdown",
   "metadata": {
    "slideshow": {
     "slide_type": "subslide"
    }
   },
   "source": [
    "## 什麼是聚合函數\n",
    "\n",
    "聚合函數是能夠將多個資料值輸入摘要為單一值輸出的函數。"
   ]
  },
  {
   "cell_type": "code",
   "execution_count": 36,
   "metadata": {},
   "outputs": [
    {
     "data": {
      "text/plain": [
       "120"
      ]
     },
     "execution_count": 36,
     "metadata": {},
     "output_type": "execute_result"
    }
   ],
   "source": [
    "array_range = np.arange(1, 16).reshape(3, 5)\n",
    "np.sum(array_range)"
   ]
  },
  {
   "cell_type": "markdown",
   "metadata": {
    "slideshow": {
     "slide_type": "subslide"
    }
   },
   "source": [
    "## NumPy 的聚合函數有兩個值得注意的特性\n",
    "\n",
    "1. 可以沿指定的軸（axis）進行聚合。\n",
    "2. 針對含有 `np.NaN`（Not a Number）的 `ndarray` 有相對應名稱的聚合函數可以運算。"
   ]
  },
  {
   "cell_type": "code",
   "execution_count": 37,
   "metadata": {
    "slideshow": {
     "slide_type": "subslide"
    }
   },
   "outputs": [
    {
     "name": "stdout",
     "output_type": "stream",
     "text": [
      "120.0\n",
      "[18. 21. 24. 27. 30.]\n",
      "[15. 40. 65.]\n"
     ]
    }
   ],
   "source": [
    "# Aggregate along specific axis\n",
    "array_range = np.arange(1, 16, dtype=float).reshape(3, 5)\n",
    "print(np.sum(array_range))\n",
    "print(np.sum(array_range, axis=0))\n",
    "print(np.sum(array_range, axis=1))"
   ]
  },
  {
   "cell_type": "markdown",
   "metadata": {
    "slideshow": {
     "slide_type": "subslide"
    }
   },
   "source": [
    "## NumPy 除了定義類別、函數，亦有定義常數 \n",
    "\n",
    "Not a Number 可以表示「未定義」或「遺漏」的浮點數。\n",
    "\n",
    "來源：<https://numpy.org/doc/stable/reference/constants.html>"
   ]
  },
  {
   "cell_type": "code",
   "execution_count": 38,
   "metadata": {
    "slideshow": {
     "slide_type": "-"
    }
   },
   "outputs": [
    {
     "name": "stdout",
     "output_type": "stream",
     "text": [
      "nan\n",
      "<class 'float'>\n"
     ]
    }
   ],
   "source": [
    "print(np.nan)\n",
    "print(type(np.nan))"
   ]
  },
  {
   "cell_type": "markdown",
   "metadata": {
    "slideshow": {
     "slide_type": "subslide"
    }
   },
   "source": [
    "## 針對含有 `np.nan` 的 `ndarray` 有相對應名稱的聚合函數可以運算\n",
    "\n",
    "- `np.sum()` vs. `np.nansum()`\n",
    "- `np.mean()` vs. `np.nanmean()`\n",
    "- ...等。"
   ]
  },
  {
   "cell_type": "code",
   "execution_count": 39,
   "metadata": {
    "slideshow": {
     "slide_type": "-"
    }
   },
   "outputs": [
    {
     "name": "stdout",
     "output_type": "stream",
     "text": [
      "[[ 1.  2.  3.  4.  5.]\n",
      " [ 6.  7.  8.  9. 10.]\n",
      " [11. 12. 13. 14. nan]]\n",
      "nan\n",
      "105.0\n"
     ]
    }
   ],
   "source": [
    "# Similar function names for array with np.nan\n",
    "array_range = np.arange(1, 16, dtype=float).reshape(3, 5)\n",
    "array_range[2, 4] = np.nan\n",
    "print(array_range)\n",
    "print(np.sum(array_range))\n",
    "print(np.nansum(array_range))"
   ]
  },
  {
   "cell_type": "markdown",
   "metadata": {
    "slideshow": {
     "slide_type": "slide"
    }
   },
   "source": [
    "## 重點統整\n",
    "\n",
    "- NumPy 是 Numeric Python 的簡稱，是 Python 最重要的資料科學模組之一。\n",
    "- NumPy 的核心功能\n",
    "    - 使用 `ndarray` 來進行數值操作。\n",
    "    - 使用模組定義的函數對 `ndarray` 進行數值運算。\n",
    "    - `ndarray` 是其他資料科學模組 Pandas、Matplotlib 與 Scikit-Learn 的基石。"
   ]
  },
  {
   "cell_type": "markdown",
   "metadata": {
    "slideshow": {
     "slide_type": "subslide"
    }
   },
   "source": [
    "## 重點統整（續）\n",
    "\n",
    "- `ndarray` 與 `list` 相異的地方：\n",
    "    - indexing 二維以上的 `ndarray` 可以用更便捷的語法 `[i, j, k, ...]`\n",
    "    - 同質性資料結構類別。\n",
    "    - 支援元素操作（Elementwise）運算。\n",
    "    - 支援特殊的 indexing 語法：Fancy indexing/Boolean indexing\n",
    "- 常用的 ndarray 操作\n",
    "    - 調整外型。\n",
    "    - 複製。\n",
    "    - 合併。\n",
    "    - 分割。"
   ]
  }
 ],
 "metadata": {
  "celltoolbar": "Slideshow",
  "kernelspec": {
   "display_name": "Python Fifty Plus",
   "language": "python",
   "name": "pythonfiftyplus"
  },
  "language_info": {
   "codemirror_mode": {
    "name": "ipython",
    "version": 3
   },
   "file_extension": ".py",
   "mimetype": "text/x-python",
   "name": "python",
   "nbconvert_exporter": "python",
   "pygments_lexer": "ipython3",
   "version": "3.9.7"
  }
 },
 "nbformat": 4,
 "nbformat_minor": 4
}
