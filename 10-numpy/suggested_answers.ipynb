{
 "cells": [
  {
   "cell_type": "markdown",
   "id": "heated-welding",
   "metadata": {
    "deletable": false
   },
   "source": [
    "# Python 的 50+ 練習：資料科學學習手冊\n",
    "\n",
    "> 資料科學模組 NumPy 入門\n",
    "\n",
    "[數據交點](https://www.datainpoint.com) | 郭耀仁 <yaojenkuo@datainpoint.com>"
   ]
  },
  {
   "cell_type": "markdown",
   "id": "fleet-tokyo",
   "metadata": {
    "deletable": false
   },
   "source": [
    "## 練習題指引\n",
    "\n",
    "- 練習題閒置超過 10 分鐘會自動斷線，只要重新點選練習題連結即可重新啟動。\n",
    "- 第一個程式碼儲存格會將可能用得到的模組載入。\n",
    "- 如果練習題需要載入檔案，檔案會存放在 `/home/jovyan/data` 資料夾中。\n",
    "- 練習題已經給定函數、類別、預期輸入或參數名稱，我們只需要寫作程式區塊。\n",
    "- 說明（Docstring）會描述測試如何進行，閱讀說明能夠暸解預期輸入以及預期輸出之間的關係，幫助我們更快解題。\n",
    "- 請在 `### BEGIN SOLUTION` 與 `### END SOLUTION` 這兩個註解之間寫作函數或者類別的程式區塊。\n",
    "- 將預期輸出放置在 `return` 保留字之後，若只是用 `print()` 函數將預期輸出印出無法通過測試。\n",
    "- 語法錯誤（`SyntaxError`）或縮排錯誤（`IndentationError`）等將會導致測試失效，測試之前應該先在筆記本使用函數觀察是否與說明（Docstring）描述的功能相符。\n",
    "- 執行測試的步驟：\n",
    "    1. 點選上方選單的 File -> Save Notebook 儲存 exercises.ipynb。\n",
    "    2. 點選上方選單的 File -> New -> Terminal 開啟終端機。\n",
    "    3. 在終端機輸入 `python 10-numpy/test_runner.py` 後按下 Enter 執行測試。"
   ]
  },
  {
   "cell_type": "code",
   "execution_count": null,
   "id": "collected-norwegian",
   "metadata": {},
   "outputs": [],
   "source": [
    "import numpy as np"
   ]
  },
  {
   "cell_type": "markdown",
   "id": "typical-impact",
   "metadata": {},
   "source": [
    "## 072. 自行定義函數 `create_first_ten_odds_array` 回傳一個外型為 `(10,)` 儲存前十個奇數的陣列。\n",
    "\n",
    "- 預期輸入：None\n",
    "- 預期輸出：`numpy.ndarray`\n",
    "\n",
    "```\n",
    "[ 1  3  5  7  9 11 13 15 17 19]\n",
    "```"
   ]
  },
  {
   "cell_type": "code",
   "execution_count": null,
   "id": "economic-blast",
   "metadata": {},
   "outputs": [],
   "source": [
    "def create_first_ten_odds_array() -> np.array:\n",
    "    \"\"\"\n",
    "    >>> first_ten_odds_array = create_first_ten_odds_array()\n",
    "    >>> first_ten_odds_array\n",
    "    [ 1  3  5  7  9 11 13 15 17 19]\n",
    "    >>> type(first_ten_odds_array)\n",
    "    'numpy.ndarray'\n",
    "    >>> first_ten_odds_array.shape\n",
    "    (10,)\n",
    "    \"\"\"\n",
    "    ### BEGIN SOLUTION\n",
    "    out_arr = np.arange(1, 20, 2)\n",
    "    return out_arr\n",
    "    ### END SOLUTION"
   ]
  },
  {
   "cell_type": "markdown",
   "id": "latin-township",
   "metadata": {},
   "source": [
    "## 073. 自行定義函數 `create_a_square_matrix` 回傳一個外型為 `(n, n)`、全以 `fill_int` 填滿的陣列。\n",
    "\n",
    "- 預期輸入：`int`\n",
    "- 預期輸出：`numpy.array`"
   ]
  },
  {
   "cell_type": "code",
   "execution_count": null,
   "id": "satisfied-success",
   "metadata": {},
   "outputs": [],
   "source": [
    "def create_a_square_matrix(n: int, fill_int: int) -> np.array:\n",
    "    \"\"\"\n",
    "    >>> create_a_square_matrix(2, 5566)\n",
    "    [[5566 5566]\n",
    "     [5566 5566]]\n",
    "    >>> create_a_square_matrix(3, 55)\n",
    "    [[55 55 55]\n",
    "     [55 55 55]\n",
    "     [55 55 55]]\n",
    "    >>> create_a_square_matrix(4, 66)\n",
    "    [[66 66 66 66]\n",
    "     [66 66 66 66]\n",
    "     [66 66 66 66]\n",
    "     [66 66 66 66]]\n",
    "    \"\"\"\n",
    "    ### BEGIN SOLUTION\n",
    "    arr_shape = (n, n)\n",
    "    out_arr = np.full(shape=arr_shape, fill_value=fill_int)\n",
    "    return out_arr\n",
    "    ### END SOLUTION"
   ]
  },
  {
   "cell_type": "markdown",
   "id": "backed-transport",
   "metadata": {},
   "source": [
    "## 074. 自行定義函數 `create_a_diagonal_matrix` 回傳一個外型 `(n, n)`、對角線數字為 `fill_int` 的陣列。\n",
    "\n",
    "參考 NumPy 函數 `eye`：<https://numpy.org/doc/stable/reference/generated/numpy.eye.html>\n",
    "\n",
    "- 預期輸入：`int`\n",
    "- 預期輸出：`numpy.array`"
   ]
  },
  {
   "cell_type": "code",
   "execution_count": null,
   "id": "sealed-beatles",
   "metadata": {},
   "outputs": [],
   "source": [
    "def create_a_diagonal_matrix(n: int, fill_int: int) -> np.array:\n",
    "    \"\"\"\n",
    "    >>> create_a_diagonal_matrix(2, 5566)\n",
    "    [[5566    0]\n",
    "     [   0 5566]]\n",
    "    >>> create_a_diagonal_matrix(3, 55)\n",
    "    [[55  0  0]\n",
    "     [ 0 55  0]\n",
    "     [ 0  0 55]]\n",
    "    >>> create_a_diagonal_matrix(4, 66)\n",
    "    [[66  0  0  0]\n",
    "     [ 0 66  0  0]\n",
    "     [ 0  0 66  0]\n",
    "     [ 0  0  0 66]]\n",
    "    \"\"\"\n",
    "    ### BEGIN SOLUTION\n",
    "    identity_matrix = np.eye(n, dtype=int)\n",
    "    out_arr = identity_matrix * fill_int\n",
    "    return out_arr\n",
    "    ### END SOLUTION"
   ]
  },
  {
   "cell_type": "markdown",
   "id": "comprehensive-shannon",
   "metadata": {},
   "source": [
    "## 075. 自行定義函數 `create_nine_nine_array` 回傳一個外型為 `(9, 9)` 九九乘法陣列。\n",
    "\n",
    "- 預期輸入：None\n",
    "- 預期輸出：`numpy.array`\n",
    "\n",
    "```\n",
    "[[ 1  2  3  4  5  6  7  8  9]\n",
    " [ 2  4  6  8 10 12 14 16 18]\n",
    " [ 3  6  9 12 15 18 21 24 27]\n",
    " [ 4  8 12 16 20 24 28 32 36]\n",
    " [ 5 10 15 20 25 30 35 40 45]\n",
    " [ 6 12 18 24 30 36 42 48 54]\n",
    " [ 7 14 21 28 35 42 49 56 63]\n",
    " [ 8 16 24 32 40 48 56 64 72]\n",
    " [ 9 18 27 36 45 54 63 72 81]]\n",
    "```"
   ]
  },
  {
   "cell_type": "code",
   "execution_count": null,
   "id": "recorded-hormone",
   "metadata": {},
   "outputs": [],
   "source": [
    "def create_nine_nine_array() -> np.array:\n",
    "    \"\"\"\n",
    "    >>> nine_nine_array = create_nine_nine_array()\n",
    "    >>> nine_nine_array.shape\n",
    "    (9, 9)\n",
    "    >>> nine_nine_array[0, 0]\n",
    "    1\n",
    "    >>> nine_nine_array[1, 1]\n",
    "    4\n",
    "    >>> nine_nine_array[7, 7]\n",
    "    64\n",
    "    >>> nine_nine_array[8, 8]\n",
    "    81\n",
    "    \"\"\"\n",
    "    ### BEGIN SOLUTION\n",
    "    nine_one_array = np.arange(1, 10).reshape(9, 1)\n",
    "    one_nine_array = np.arange(1, 10).reshape(1, 9)\n",
    "    nine_nine_array = nine_one_array.dot(one_nine_array)\n",
    "    return nine_nine_array\n",
    "    ### END SOLUTION"
   ]
  },
  {
   "cell_type": "markdown",
   "id": "atomic-scheduling",
   "metadata": {},
   "source": [
    "## 076. 自行定義函數 `filter_evens` 回傳輸入陣列中的偶數部分。\n",
    "\n",
    "- 預期輸入：`numpy.array`\n",
    "- 預期輸出：`numpy.array`"
   ]
  },
  {
   "cell_type": "code",
   "execution_count": null,
   "id": "prospective-brown",
   "metadata": {},
   "outputs": [],
   "source": [
    "def filter_evens(x: np.array) -> np.array:\n",
    "    \"\"\"\n",
    "    >>> filter_evens(np.array([5, 5, 6, 6]))\n",
    "    array([6, 6])\n",
    "    >>> filter_evens(np.array([1, 2, 3, 4]))\n",
    "    array([2, 4])\n",
    "    >>> filter_evens(np.array([0, 1, 2, 3]))\n",
    "    array([0, 2])\n",
    "    \"\"\"\n",
    "    ### BEGIN SOLUTION\n",
    "    evens = x[x % 2 == 0]\n",
    "    return evens\n",
    "    ### END SOLUTION"
   ]
  }
 ],
 "metadata": {
  "kernelspec": {
   "display_name": "Python Data Science",
   "language": "python",
   "name": "pyds"
  },
  "language_info": {
   "codemirror_mode": {
    "name": "ipython",
    "version": 3
   },
   "file_extension": ".py",
   "mimetype": "text/x-python",
   "name": "python",
   "nbconvert_exporter": "python",
   "pygments_lexer": "ipython3",
   "version": "3.8.10"
  }
 },
 "nbformat": 4,
 "nbformat_minor": 5
}
