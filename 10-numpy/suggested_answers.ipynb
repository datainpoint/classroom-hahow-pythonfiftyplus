{
 "cells": [
  {
   "cell_type": "markdown",
   "id": "heated-welding",
   "metadata": {
    "deletable": false
   },
   "source": [
    "# Python 的 50+ 練習：資料科學學習手冊\n",
    "\n",
    "> 資料科學模組 NumPy 入門\n",
    "\n",
    "[數據交點](https://www.datainpoint.com) | 郭耀仁 <yaojenkuo@datainpoint.com>"
   ]
  },
  {
   "cell_type": "markdown",
   "id": "fleet-tokyo",
   "metadata": {
    "deletable": false
   },
   "source": [
    "## 練習題指引\n",
    "\n",
    "- 練習題閒置超過 10 分鐘會自動斷線，只要重新點選練習題連結即可重新啟動。\n",
    "- 第一個程式碼儲存格會將可能用得到的模組載入。\n",
    "- 如果練習題需要載入檔案，檔案會存放在 `data` 資料夾中。\n",
    "- 練習題已經給定函數、類別、預期輸入或參數名稱，我們只需要寫作程式區塊。同時也給定函數的類別提示，說明預期輸入以及預期輸出的類別。\n",
    "- 說明（Docstring）會描述測試如何進行，閱讀說明能夠暸解預期輸入以及預期輸出之間的關係，幫助我們更快解題。\n",
    "- 請在 `### BEGIN SOLUTION` 與 `### END SOLUTION` 這兩個註解之間寫作函數或者類別的程式區塊。\n",
    "- 將預期輸出放置在 `return` 保留字之後，若只是用 `print()` 函數將預期輸出印出無法通過測試。\n",
    "- 語法錯誤（`SyntaxError`）或縮排錯誤（`IndentationError`）等將會導致測試失效，測試之前應該先在筆記本使用函數觀察是否與說明（Docstring）描述的功能相符。\n",
    "- 如果卡關，可以先看練習題詳解或者複習課程單元影片之後再繼續寫作。\n",
    "- 執行測試的步驟：\n",
    "    1. 點選上方選單的 File -> Save Notebook 儲存 exercises.ipynb。\n",
    "    2. 點選上方選單的 File -> New -> Terminal 開啟終端機。\n",
    "    3. 在終端機輸入 `python 10-numpy/test_runner.py` 後按下 Enter 執行測試。"
   ]
  },
  {
   "cell_type": "code",
   "execution_count": null,
   "id": "collected-norwegian",
   "metadata": {},
   "outputs": [],
   "source": [
    "import numpy as np"
   ]
  },
  {
   "cell_type": "markdown",
   "id": "typical-impact",
   "metadata": {},
   "source": [
    "## 071. 前十個質數\n",
    "\n",
    "定義函數 `create_first_ten_primes_array()` 回傳一個外型為 `(10,)`、儲存了前十個質數的 `ndarray`\n",
    "\n",
    "- 使用 `np.array()` 函數。\n",
    "- 將預期輸出寫在 `return` 之後。"
   ]
  },
  {
   "cell_type": "code",
   "execution_count": null,
   "id": "0413a89f",
   "metadata": {},
   "outputs": [],
   "source": [
    "def create_first_ten_primes_array() -> np.ndarray:\n",
    "    \"\"\"\n",
    "    >>> first_ten_primes_array = create_first_ten_primes_array()\n",
    "    >>> first_ten_primes_array\n",
    "    array([ 2,  3,  5,  7, 11, 13, 17, 19, 23, 29])\n",
    "    >>> type(first_ten_primes_array)\n",
    "    numpy.ndarray\n",
    "    >>> first_ten_primes_array.shape\n",
    "    (10,)\n",
    "    \"\"\"\n",
    "    ### BEGIN SOLUTION\n",
    "    out_arr = np.array([2, 3, 5, 7, 11, 13, 17, 19, 23, 29])\n",
    "    return out_arr\n",
    "    ### END SOLUTION"
   ]
  },
  {
   "cell_type": "markdown",
   "id": "2883786c",
   "metadata": {},
   "source": [
    "## 072. 前十個偶數\n",
    "\n",
    "定義函數 `create_first_ten_evens_array()` 回傳一個外型為 `(10,)`、儲存了前十個偶數的 `ndarray`\n",
    "\n",
    "- 使用 `np.arange()` 函數。\n",
    "- 將預期輸出寫在 `return` 之後。"
   ]
  },
  {
   "cell_type": "code",
   "execution_count": null,
   "id": "economic-blast",
   "metadata": {},
   "outputs": [],
   "source": [
    "def create_first_ten_evens_array() -> np.ndarray:\n",
    "    \"\"\"\n",
    "    >>> first_ten_evens_array = create_first_ten_evens_array()\n",
    "    >>> first_ten_evens_array\n",
    "    array([ 0,  2,  4,  6,  8, 10, 12, 14, 16, 18])\n",
    "    >>> type(first_ten_evens_array)\n",
    "    numpy.ndarray\n",
    "    >>> first_ten_evens_array.shape\n",
    "    (10,)\n",
    "    \"\"\"\n",
    "    ### BEGIN SOLUTION\n",
    "    out_arr = np.arange(0, 20, 2)\n",
    "    return out_arr\n",
    "    ### END SOLUTION"
   ]
  },
  {
   "cell_type": "markdown",
   "id": "f67368c0",
   "metadata": {},
   "source": [
    "## 073. 用 `class` 摘要 `ndarray`\n",
    "\n",
    "定義類別 `SummarizeNdarray` 能夠用來建立具有四個方法 `get_ndim()`、`get_shape()`、`get_size()`、`get_dtype()` 的物件。\n",
    "\n",
    "- 運用 `self`\n",
    "- 使用 `__init__()`\n",
    "- 以 `self.attribute` 在類別程式區塊中使用屬性。\n",
    "- 以 `self.method()` 在類別程式區塊中使用方法。"
   ]
  },
  {
   "cell_type": "code",
   "execution_count": null,
   "id": "61b03290",
   "metadata": {},
   "outputs": [],
   "source": [
    "class SummarizeNdarray:\n",
    "    \"\"\"\n",
    "    >>> ndarray_summary = SummarizeNdarray(np.arange(10))\n",
    "    >>> ndarray_summary.get_ndim()\n",
    "    1\n",
    "    >>> ndarray_summary.get_shape()\n",
    "    (10,)\n",
    "    >>> ndarray_summary.get_size()\n",
    "    10\n",
    "    >>> ndarray_summary.get_dtype()\n",
    "    dtype('int64')\n",
    "    >>> ndarray_summary = SummarizeNdarray(np.array([[5, 5], [6, 6], [55, 66]]))\n",
    "    >>> ndarray_summary.get_ndim()\n",
    "    2\n",
    "    >>> ndarray_summary.get_shape()\n",
    "    (3, 2)\n",
    "    >>> ndarray_summary.get_size()\n",
    "    6\n",
    "    >>> ndarray_summary.get_dtype()\n",
    "    dtype('int64')\n",
    "    \"\"\"\n",
    "    ### BEGIN SOLUTION\n",
    "    def __init__(self, x):\n",
    "        self.summary = {\n",
    "            \"ndim\": x.ndim,\n",
    "            \"shape\": x.shape,\n",
    "            \"size\": x.size,\n",
    "            \"dtype\": x.dtype\n",
    "        }\n",
    "    def get_ndim(self):\n",
    "        return self.summary[\"ndim\"]\n",
    "    def get_shape(self):\n",
    "        return self.summary[\"shape\"]\n",
    "    def get_size(self):\n",
    "        return self.summary[\"size\"]\n",
    "    def get_dtype(self):\n",
    "        return self.summary[\"dtype\"]\n",
    "    ### END SOLUTION"
   ]
  },
  {
   "cell_type": "markdown",
   "id": "latin-township",
   "metadata": {},
   "source": [
    "## 074. 方塊矩陣（Square matrix）\n",
    "\n",
    "定義函數 `create_a_square_matrix()` 回傳外型為 `(n, n)`、元素皆為 `fill_int` 的 `ndarray`\n",
    "\n",
    "- 使用 `np.full()` 函數。\n",
    "- 將預期輸出寫在 `return` 之後。"
   ]
  },
  {
   "cell_type": "code",
   "execution_count": null,
   "id": "satisfied-success",
   "metadata": {},
   "outputs": [],
   "source": [
    "def create_a_square_matrix(n: int, fill_int: int) -> np.ndarray:\n",
    "    \"\"\"\n",
    "    >>> create_a_square_matrix(2, 5566)\n",
    "    array([[5566, 5566],\n",
    "           [5566, 5566]])\n",
    "    >>> create_a_square_matrix(3, 55)\n",
    "    array([[55, 55, 55],\n",
    "           [55, 55, 55],\n",
    "           [55, 55, 55]])\n",
    "    >>> create_a_square_matrix(4, 66)\n",
    "    array([[66, 66, 66, 66],\n",
    "           [66, 66, 66, 66],\n",
    "           [66, 66, 66, 66],\n",
    "           [66, 66, 66, 66]])\n",
    "    \"\"\"\n",
    "    ### BEGIN SOLUTION\n",
    "    arr_shape = (n, n)\n",
    "    out_arr = np.full(shape=arr_shape, fill_value=fill_int)\n",
    "    return out_arr\n",
    "    ### END SOLUTION"
   ]
  },
  {
   "cell_type": "markdown",
   "id": "backed-transport",
   "metadata": {},
   "source": [
    "## 075. 將數個距離由公里轉換英里\n",
    "\n",
    "定義函數 `convert_kilometers_to_miles()` 能夠將數個單位為公里的距離轉換為英里。\n",
    "\n",
    "\\begin{equation}\n",
    "1 \\; \\text{km} = 0.62137 \\; \\text{mile}\n",
    "\\end{equation}\n",
    "\n",
    "- 運用 `ndarray` 的 Elementwise 特性。\n",
    "- 將預期輸出寫在 `return` 之後。"
   ]
  },
  {
   "cell_type": "code",
   "execution_count": null,
   "id": "fc2c993e",
   "metadata": {},
   "outputs": [],
   "source": [
    "def convert_kilometers_to_miles(x: np.ndarray) -> np.ndarray:\n",
    "    \"\"\"\n",
    "    >>> convert_kilometers_to_miles(np.array([1.6, 3, 5, 10, 21.095, 42.195]))\n",
    "    array([ 0.994192  ,  1.86411   ,  3.10685   ,  6.2137    , 13.10780015,\n",
    "           26.21870715])\n",
    "    \"\"\"\n",
    "    ### BEGIN SOLUTION\n",
    "    return x * 0.62137\n",
    "    ### END SOLUTION"
   ]
  },
  {
   "cell_type": "markdown",
   "id": "62092dc5",
   "metadata": {},
   "source": [
    "## 076. 對角矩陣\n",
    "\n",
    "定義函數 `create_a_diagonal_matrix()` 回傳一個外型為 `(n, n)`、對角線上的數字為 `fill_int`、其餘數字為 0 的 `ndarray`\n",
    "\n",
    "- 使用 `np.eye()` 函數。\n",
    "- 運用 `ndarray` 的 Elementwise 特性。\n",
    "- 將預期輸出寫在 `return` 之後。"
   ]
  },
  {
   "cell_type": "code",
   "execution_count": null,
   "id": "sealed-beatles",
   "metadata": {},
   "outputs": [],
   "source": [
    "def create_a_diagonal_matrix(n: int, fill_int: int) -> np.ndarray:\n",
    "    \"\"\"\n",
    "    >>> create_a_diagonal_matrix(2, 5566)\n",
    "    array([[5566,    0],\n",
    "           [   0, 5566]])\n",
    "    >>> create_a_diagonal_matrix(3, 55)\n",
    "    array([[55,  0,  0],\n",
    "           [ 0, 55,  0],\n",
    "           [ 0,  0, 55]])\n",
    "    >>> create_a_diagonal_matrix(4, 66)\n",
    "    array([[66,  0,  0,  0],\n",
    "           [ 0, 66,  0,  0],\n",
    "           [ 0,  0, 66,  0],\n",
    "           [ 0,  0,  0, 66]])\n",
    "    \"\"\"\n",
    "    ### BEGIN SOLUTION\n",
    "    identity_matrix = np.eye(n, dtype=int)\n",
    "    out_arr = identity_matrix * fill_int\n",
    "    return out_arr\n",
    "    ### END SOLUTION"
   ]
  },
  {
   "cell_type": "markdown",
   "id": "atomic-scheduling",
   "metadata": {},
   "source": [
    "## 077. 向量化函數\n",
    "\n",
    "定義函數 `vectorized_is_prime()` 判斷 `ndarray` 中的元素是否為質數。\n",
    "\n",
    "- 使用 `is_prime()` 函數。\n",
    "- 使用 `np.vectorize()` 函數。\n",
    "- 將預期輸出寫在 `return` 之後。"
   ]
  },
  {
   "cell_type": "code",
   "execution_count": null,
   "id": "90c19fb1",
   "metadata": {},
   "outputs": [],
   "source": [
    "def is_prime(x: int) -> bool:\n",
    "    number_of_divisors = 0\n",
    "    for integer in range(1, x + 1):\n",
    "        if x % integer == 0:\n",
    "            number_of_divisors += 1\n",
    "    return number_of_divisors == 2\n",
    "\n",
    "def vectorized_is_prime(x: np.ndarray) -> np.ndarray:\n",
    "    \"\"\"\n",
    "    >>> vectorized_is_prime(np.arange(10))\n",
    "    array([False, False,  True,  True, False,  True, False,  True, False,\n",
    "           False])\n",
    "    >>> vectorized_is_prime(np.arange(11, 20))\n",
    "    array([ True, False,  True, False, False, False,  True, False,  True])\n",
    "    >>> vectorized_is_prime(np.arange(21, 30))\n",
    "    array([False, False,  True, False, False, False, False, False,  True])\n",
    "    \"\"\"\n",
    "    ### BEGIN SOLUTION\n",
    "    vectorize_is_prime = np.vectorize(is_prime)\n",
    "    return vectorize_is_prime(x)\n",
    "    ### END SOLUTION"
   ]
  },
  {
   "cell_type": "markdown",
   "id": "fbecdc60",
   "metadata": {},
   "source": [
    "## 078. 篩選質數\n",
    "\n",
    "定義函數 `filter_primes()` 回傳輸入 `ndarray` 中的質數。\n",
    "\n",
    "- 使用 `vectorized_is_prime()` 函數。\n",
    "- 運用 `ndarray` 的 Boolean indexing\n",
    "- 將預期輸出寫在 `return` 之後。"
   ]
  },
  {
   "cell_type": "code",
   "execution_count": null,
   "id": "61edf3eb",
   "metadata": {},
   "outputs": [],
   "source": [
    "def filter_primes(x: np.ndarray) -> np.ndarray:\n",
    "    \"\"\"\n",
    "    >>> filter_primes(np.arange(10))\n",
    "    array([2, 3, 5, 7])\n",
    "    >>> filter_primes(np.arange(11, 20))\n",
    "    array([11, 13, 17, 19])\n",
    "    >>> filter_primes(np.arange(21, 30))\n",
    "    array([23, 29])\n",
    "    \"\"\"\n",
    "    ### BEGIN SOLUTION\n",
    "    is_primes = vectorized_is_prime(x)\n",
    "    return x[is_primes]\n",
    "    ### END SOLUTION"
   ]
  },
  {
   "cell_type": "markdown",
   "id": "9115b48e",
   "metadata": {},
   "source": [
    "## 079. 新增截距\n",
    "\n",
    "定義函數 `add_intercepts()` 能夠水平合併一個外型 `(m, 1)`、數值皆為 1 的 `ndarray` 到輸入外型為 `(m, n)` 的 `ndarray` 成為外型 `(m, n+1)` 的輸出。\n",
    "\n",
    "- 使用 `np.ones()` 函數。\n",
    "- 運用 `ndarray.reshape()`\n",
    "- 使用 `np.concatenate()` 函數。\n",
    "- 將預期輸出寫在 `return` 之後。"
   ]
  },
  {
   "cell_type": "code",
   "execution_count": null,
   "id": "1d4ecf8a",
   "metadata": {},
   "outputs": [],
   "source": [
    "def add_intercepts(x: np.ndarray) -> np.ndarray:\n",
    "    \"\"\"\n",
    "    >>> A = np.array([5, 5, 6, 6]).reshape(-1, 1)\n",
    "    >>> add_intercepts(A)\n",
    "    array([[1, 5],\n",
    "           [1, 5],\n",
    "           [1, 6],\n",
    "           [1, 6]])\n",
    "    >>> B = np.zeros((5, 2), dtype=int)\n",
    "    >>> add_intercepts(B)\n",
    "    array([[1, 0, 0],\n",
    "           [1, 0, 0],\n",
    "           [1, 0, 0],\n",
    "           [1, 0, 0],\n",
    "           [1, 0, 0]])\n",
    "    \"\"\"\n",
    "    ### BEGIN SOLUTION\n",
    "    m = x.shape[0]\n",
    "    intercepts = np.ones(m, dtype=int).reshape(-1, 1)\n",
    "    out = np.concatenate([intercepts, x], axis=1)\n",
    "    return out\n",
    "    ### END SOLUTION"
   ]
  },
  {
   "cell_type": "markdown",
   "id": "8852febf",
   "metadata": {},
   "source": [
    "## 080. 分割訓練與驗證\n",
    "\n",
    "定義函數 `split_train_test()` 能夠垂直分割一個外型 `(m, n)` 的 `ndarray` 成為兩個外型分別為 `(m*(1 - test_size), n)`、`(m*test_size, n)` 的 `ndarray`\n",
    "\n",
    "- 使用 `np.split()` 函數。\n",
    "- 將預期輸出寫在 `return` 之後。"
   ]
  },
  {
   "cell_type": "code",
   "execution_count": null,
   "id": "1de2f3ad",
   "metadata": {},
   "outputs": [],
   "source": [
    "def split_train_test(x: np.ndarray, test_size: float) -> tuple:\n",
    "    \"\"\"\n",
    "    >>> A = np.ones((10, 2))\n",
    "    >>> A_train, A_test = split_train_test(A, test_size=0.3)\n",
    "    >>> A_train.shape\n",
    "    (7, 2)\n",
    "    >>> A_test.shape\n",
    "    (3, 2)\n",
    "    >>> B = np.ones((10, 3))\n",
    "    >>> B_train, B_test = split_train_test(B, test_size=0.4)\n",
    "    >>> B_train.shape\n",
    "    (6, 3)\n",
    "    >>> B_test.shape\n",
    "    (4, 3)\n",
    "    \"\"\"\n",
    "    ### BEGIN SOLUTION\n",
    "    m = x.shape[0]\n",
    "    test_index = int(m * test_size)\n",
    "    arr_test, arr_train = np.split(x, [test_index])\n",
    "    return arr_train, arr_test\n",
    "    ### END SOLUTION"
   ]
  }
 ],
 "metadata": {
  "kernelspec": {
   "display_name": "Python Fifty Plus",
   "language": "python",
   "name": "pythonfiftyplus"
  },
  "language_info": {
   "codemirror_mode": {
    "name": "ipython",
    "version": 3
   },
   "file_extension": ".py",
   "mimetype": "text/x-python",
   "name": "python",
   "nbconvert_exporter": "python",
   "pygments_lexer": "ipython3",
   "version": "3.9.7"
  }
 },
 "nbformat": 4,
 "nbformat_minor": 5
}
