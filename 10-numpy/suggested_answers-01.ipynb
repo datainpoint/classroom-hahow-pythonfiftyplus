{
 "cells": [
  {
   "cell_type": "markdown",
   "metadata": {
    "deletable": false,
    "editable": false
   },
   "source": [
    "# Python 資料分析\n",
    "\n",
    "> 以 NumPy 運算陣列\n",
    "\n",
    "[數據交點](https://www.datainpoint.com/) | 郭耀仁 <yaojenkuo@datainpoint.com>"
   ]
  },
  {
   "cell_type": "markdown",
   "metadata": {
    "deletable": false,
    "editable": false
   },
   "source": [
    "## 練習題指引\n",
    "\n",
    "- 第一個程式碼儲存格會將可能用得到的模組（套件）以及單元測試 `unittest` 載入。\n",
    "- 如果練習題需要載入檔案，檔案與練習題存放在同個資料夾中，意即我們可以指定工作目錄來載入。\n",
    "- 練習題已經定義好函數或者類別的名稱以及參數名稱，我們只需要寫作主體。\n",
    "- 函數或者類別的 `\"\"\"docstring\"\"\"` 部分會描述測試如何進行。\n",
    "- 觀察 `\"\"\"docstring\"\"\"` 的部分能夠暸解輸入以及預期輸出之間的關係，能幫助我們更暸解題目。\n",
    "- 請在 `### BEGIN SOLUTION` 與 `### END SOLUTION` 這兩個單行註解之間寫作函數或者類別的主體。\n",
    "- 執行測試的方式為點選上方選單的 Kernel -> Restart Kernel And Run All Cells -> Restart。\n",
    "- 可以每寫一題就執行測試，也可以全部寫完再執行測試。\n",
    "- 練習題閒置超過 10 分鐘會自動斷線，這時只要重新點選練習題連結即可重新啟動。"
   ]
  },
  {
   "cell_type": "code",
   "execution_count": 1,
   "metadata": {
    "deletable": false,
    "editable": false
   },
   "outputs": [],
   "source": [
    "import os\n",
    "import json\n",
    "import unittest\n",
    "import numpy as np"
   ]
  },
  {
   "cell_type": "markdown",
   "metadata": {},
   "source": [
    "## 01. Define a function named `create_first_five_primes_array` that is able to generate a `(5,)` array as specified.\n",
    "\n",
    "- Expected inputs: None.\n",
    "- Expected outputs: a (5,) array.\n",
    "\n",
    "```\n",
    "[ 2  3  5  7 11]\n",
    "```"
   ]
  },
  {
   "cell_type": "code",
   "execution_count": 2,
   "metadata": {},
   "outputs": [],
   "source": [
    "def create_first_five_primes_array():\n",
    "    \"\"\"\n",
    "    >>> first_five_primes_array = create_first_five_primes_array()\n",
    "    >>> print(first_five_primes_array)\n",
    "    [ 2  3  5  7 11]\n",
    "    >>> print(type(first_five_primes_array))\n",
    "    <class 'numpy.ndarray'>\n",
    "    >>> print(first_five_primes_array.shape)\n",
    "    (5,)\n",
    "    \"\"\"\n",
    "    ### BEGIN SOLUTION\n",
    "    out_arr = np.array([2, 3, 5, 7, 11])\n",
    "    return out_arr\n",
    "    ### END SOLUTION"
   ]
  },
  {
   "cell_type": "markdown",
   "metadata": {},
   "source": [
    "## 02. Define a function named `create_first_ten_odds_array` that is able to generate a `(10,)` array as specified.\n",
    "\n",
    "- Expected inputs: None.\n",
    "- Expected outputs: a (10,) array.\n",
    "\n",
    "```\n",
    "[ 1  3  5  7  9 11 13 15 17 19]\n",
    "```"
   ]
  },
  {
   "cell_type": "code",
   "execution_count": 3,
   "metadata": {},
   "outputs": [],
   "source": [
    "def create_first_ten_odds_array():\n",
    "    \"\"\"\n",
    "    >>> first_ten_odds_array = create_first_ten_odds_array()\n",
    "    >>> print(first_ten_odds_array)\n",
    "    [ 1  3  5  7  9 11 13 15 17 19]\n",
    "    >>> print(type(first_ten_odds_array))\n",
    "    <class 'numpy.ndarray'>\n",
    "    >>> print(first_ten_odds_array.shape)\n",
    "    (10,)\n",
    "    \"\"\"\n",
    "    ### BEGIN SOLUTION\n",
    "    out_arr = np.arange(1, 20, 2)\n",
    "    return out_arr\n",
    "    ### END SOLUTION"
   ]
  },
  {
   "cell_type": "markdown",
   "metadata": {},
   "source": [
    "## 03. Define a function named `create_a_square_matrix` that is able to generate a square matrix given `n` as the order, `fill_int` as the elements.\n",
    "\n",
    "- Expected inputs: 2 integers.\n",
    "- Expected outputs: a (n, n) array."
   ]
  },
  {
   "cell_type": "code",
   "execution_count": 4,
   "metadata": {},
   "outputs": [],
   "source": [
    "def create_a_square_matrix(n, fill_int):\n",
    "    \"\"\"\n",
    "    >>> a_square_matrix = create_a_square_matrix(2, 5566)\n",
    "    >>> print(a_square_matrix)\n",
    "    [[5566 5566]\n",
    "     [5566 5566]]\n",
    "    >>> a_square_matrix = create_a_square_matrix(3, 55)\n",
    "    >>> print(a_square_matrix)\n",
    "    [[55 55 55]\n",
    "     [55 55 55]\n",
    "     [55 55 55]]\n",
    "    >>> a_square_matrix = create_a_square_matrix(4, 66)\n",
    "    >>> print(a_square_matrix)\n",
    "    [[66 66 66 66]\n",
    "     [66 66 66 66]\n",
    "     [66 66 66 66]\n",
    "     [66 66 66 66]]\n",
    "    \"\"\"\n",
    "    ### BEGIN SOLUTION\n",
    "    arr_shape = (n, n)\n",
    "    out_arr = np.full(shape=arr_shape, fill_value=fill_int)\n",
    "    return out_arr\n",
    "    ### END SOLUTION"
   ]
  },
  {
   "cell_type": "markdown",
   "metadata": {},
   "source": [
    "## 04. Define a function named `create_a_diagonal_matrix` that is able to generate a diagonal matrix given `n` as the order, `fill_int` as the elements of main diagonal.\n",
    "\n",
    "PS You may refer to the NumPy function `eye`: <https://numpy.org/doc/stable/reference/generated/numpy.eye.html>\n",
    "\n",
    "- Expected inputs: 2 integers.\n",
    "- Expected outputs: a (n, n) array."
   ]
  },
  {
   "cell_type": "code",
   "execution_count": 5,
   "metadata": {},
   "outputs": [],
   "source": [
    "def create_a_diagonal_matrix(n, fill_int):\n",
    "    \"\"\"\n",
    "    >>> a_diagonal_matrix = create_a_diagonal_matrix(2, 5566)\n",
    "    >>> print(a_diagonal_matrix)\n",
    "    [[5566    0]\n",
    "     [   0 5566]]\n",
    "    >>> a_diagonal_matrix = create_a_diagonal_matrix(3, 55)\n",
    "    >>> print(a_diagonal_matrix)\n",
    "    [[55  0  0]\n",
    "     [ 0 55  0]\n",
    "     [ 0  0 55]]\n",
    "    >>> a_diagonal_matrix = create_a_diagonal_matrix(4, 66)\n",
    "    >>> print(a_diagonal_matrix)\n",
    "    [[66  0  0  0]\n",
    "     [ 0 66  0  0]\n",
    "     [ 0  0 66  0]\n",
    "     [ 0  0  0 66]]\n",
    "    \"\"\"\n",
    "    ### BEGIN SOLUTION\n",
    "    identity_matrix = np.eye(n, dtype=int)\n",
    "    out_arr = identity_matrix * fill_int\n",
    "    return out_arr\n",
    "    ### END SOLUTION"
   ]
  },
  {
   "cell_type": "markdown",
   "metadata": {},
   "source": [
    "## 05. Define a function named `create_a_diagonal_split_matrix` that is able to generate a diagonal matrix given `n` as the order, `fill_int` as the elements outside the main diagonal.\n",
    "\n",
    "PS You may refer to the NumPy function `diag`: <https://numpy.org/doc/stable/reference/generated/numpy.diag.html>\n",
    "\n",
    "- Expected inputs: 2 integers.\n",
    "- Expected outputs: a (n, n) array."
   ]
  },
  {
   "cell_type": "code",
   "execution_count": 6,
   "metadata": {},
   "outputs": [],
   "source": [
    "def create_a_diagonal_split_matrix(n, fill_int):\n",
    "    \"\"\"\n",
    "    >>> a_diagonal_split_matrix = create_a_diagonal_split_matrix(2, 5566)\n",
    "    >>> print(a_diagonal_split_matrix)\n",
    "    [[   0 5566]\n",
    "     [5566    0]]\n",
    "    >>> a_diagonal_split_matrix = create_a_diagonal_split_matrix(3, 55)\n",
    "    >>> print(a_diagonal_split_matrix)\n",
    "    [[ 0 55 55]\n",
    "     [55  0 55]\n",
    "     [55 55  0]]\n",
    "    >>> a_diagonal_split_matrix = create_a_diagonal_split_matrix(4, 66)\n",
    "    >>> print(a_diagonal_split_matrix)\n",
    "    [[ 0 66 66 66]\n",
    "     [66  0 66 66]\n",
    "     [66 66  0 66]\n",
    "     [66 66 66  0]]\n",
    "    \"\"\"\n",
    "    ### BEGIN SOLUTION\n",
    "    arr_shape = (n, n)\n",
    "    out_arr = np.full(shape=arr_shape, fill_value=fill_int)\n",
    "    diags = np.diagonal(out_arr)\n",
    "    minus_arr = -np.diag(diags)\n",
    "    out_arr += minus_arr\n",
    "    return out_arr\n",
    "    ### END SOLUTION"
   ]
  },
  {
   "cell_type": "markdown",
   "metadata": {},
   "source": [
    "## 06. Define a function named `create_nine_one_array` that is able to generate a `(9, 1)` array as specified.\n",
    "\n",
    "- Expected inputs: None.\n",
    "- Expected outputs: a (9, 1) array.\n",
    "\n",
    "```\n",
    "[[1]\n",
    " [2]\n",
    " [3]\n",
    " [4]\n",
    " [5]\n",
    " [6]\n",
    " [7]\n",
    " [8]\n",
    " [9]]\n",
    "```"
   ]
  },
  {
   "cell_type": "code",
   "execution_count": 7,
   "metadata": {},
   "outputs": [],
   "source": [
    "def create_nine_one_array():\n",
    "    \"\"\"\n",
    "    >>> nine_one_array = create_nine_one_array()\n",
    "    >>> nine_one_array.shape\n",
    "    (9, 1)\n",
    "    >>> nine_one_array[0, 0]\n",
    "    1\n",
    "    >>> nine_one_array[-1, 0]\n",
    "    9\n",
    "    \"\"\"\n",
    "    ### BEGIN SOLUTION\n",
    "    no_arr = np.arange(1, 10).reshape(9, 1)\n",
    "    return no_arr\n",
    "    ### END SOLUTION"
   ]
  },
  {
   "cell_type": "markdown",
   "metadata": {},
   "source": [
    "## 07. Define a function named `create_one_nine_array` that is able to generate a `(1, 9)` array as specified.\n",
    "\n",
    "- Expected inputs: None.\n",
    "- Expected outputs: a (1, 9) array.\n",
    "\n",
    "```\n",
    "[[1 2 3 4 5 6 7 8 9]]\n",
    "```"
   ]
  },
  {
   "cell_type": "code",
   "execution_count": 8,
   "metadata": {},
   "outputs": [],
   "source": [
    "def create_one_nine_array():\n",
    "    \"\"\"\n",
    "    >>> one_nine_array = create_one_nine_array()\n",
    "    >>> one_nine_array.shape\n",
    "    (1, 9)\n",
    "    >>> one_nine_array[0, 0]\n",
    "    1\n",
    "    >>> one_nine_array[0, -1]\n",
    "    9\n",
    "    \"\"\"\n",
    "    ### BEGIN SOLUTION\n",
    "    on_arr = np.arange(1, 10).reshape(1, 9)\n",
    "    return on_arr\n",
    "    ### END SOLUTION"
   ]
  },
  {
   "cell_type": "markdown",
   "metadata": {},
   "source": [
    "## 08. Define a function named `create_nine_nine_array` that is able to generate a `(9, 9)` array as specified.\n",
    "\n",
    "- Expected inputs: None.\n",
    "- Expected outputs: a (9, 9) array.\n",
    "\n",
    "```\n",
    "[[ 1  2  3  4  5  6  7  8  9]\n",
    " [ 2  4  6  8 10 12 14 16 18]\n",
    " [ 3  6  9 12 15 18 21 24 27]\n",
    " [ 4  8 12 16 20 24 28 32 36]\n",
    " [ 5 10 15 20 25 30 35 40 45]\n",
    " [ 6 12 18 24 30 36 42 48 54]\n",
    " [ 7 14 21 28 35 42 49 56 63]\n",
    " [ 8 16 24 32 40 48 56 64 72]\n",
    " [ 9 18 27 36 45 54 63 72 81]]\n",
    "```"
   ]
  },
  {
   "cell_type": "code",
   "execution_count": 9,
   "metadata": {},
   "outputs": [],
   "source": [
    "def create_nine_nine_array():\n",
    "    \"\"\"\n",
    "    >>> nine_nine_array = create_nine_nine_array()\n",
    "    >>> nine_nine_array.shape\n",
    "    (9, 9)\n",
    "    >>> nine_nine_array[0, 0]\n",
    "    1\n",
    "    >>> nine_nine_array[1, 1]\n",
    "    4\n",
    "    >>> nine_nine_array[7, 7]\n",
    "    64\n",
    "    >>> nine_nine_array[8, 8]\n",
    "    81\n",
    "    \"\"\"\n",
    "    ### BEGIN SOLUTION\n",
    "    nine_one_array = create_nine_one_array()\n",
    "    one_nine_array = create_one_nine_array()\n",
    "    nine_nine_array = nine_one_array.dot(one_nine_array)\n",
    "    return nine_nine_array\n",
    "    ### END SOLUTION"
   ]
  },
  {
   "cell_type": "markdown",
   "metadata": {},
   "source": [
    "## 09. Define a function named `filter_evens` that is able to extract the even numbers from a given array.\n",
    "\n",
    "- Expected inputs: an array.\n",
    "- Expected outputs: an array."
   ]
  },
  {
   "cell_type": "code",
   "execution_count": 10,
   "metadata": {},
   "outputs": [],
   "source": [
    "def filter_evens(x):\n",
    "    \"\"\"\n",
    "    >>> filter_evens(np.array([5, 5, 6, 6]))\n",
    "    array([6, 6])\n",
    "    >>> filter_evens(np.array([1, 2, 3, 4]))\n",
    "    array([2, 4])\n",
    "    >>> filter_evens(np.array([0, 1, 2, 3]))\n",
    "    array([0, 2])\n",
    "    \"\"\"\n",
    "    ### BEGIN SOLUTION\n",
    "    evens = x[x % 2 == 0]\n",
    "    return evens\n",
    "    ### END SOLUTION"
   ]
  },
  {
   "cell_type": "markdown",
   "metadata": {},
   "source": [
    "## 10. Define a function named `filter_evens_then_product` that is able to product the even numbers from a given array.\n",
    "\n",
    "- Expected inputs: an array.\n",
    "- Expected outputs: a numeric."
   ]
  },
  {
   "cell_type": "code",
   "execution_count": 11,
   "metadata": {},
   "outputs": [],
   "source": [
    "def filter_evens_then_product(x):\n",
    "    \"\"\"\n",
    "    >>> filter_evens_then_product(np.array([5, 5, 6, 6]))\n",
    "    36\n",
    "    >>> filter_evens_then_product(np.array([1, 2, 3, 4]))\n",
    "    8\n",
    "    >>> filter_evens_then_product(np.array([0, 1, 2, 3]))\n",
    "    0\n",
    "    \"\"\"\n",
    "    ### BEGIN SOLUTION\n",
    "    evens = x[x % 2 == 0]\n",
    "    return evens.prod()\n",
    "    ### END SOLUTION"
   ]
  },
  {
   "cell_type": "markdown",
   "metadata": {},
   "source": [
    "## 11. Define a function named `find_divisors` that is able to find the divisors of a given integer.\n",
    "\n",
    "- Expected inputs: an integer.\n",
    "- Expected outputs: an array."
   ]
  },
  {
   "cell_type": "code",
   "execution_count": 12,
   "metadata": {},
   "outputs": [],
   "source": [
    "def find_divisors(x):\n",
    "    \"\"\"\n",
    "    >>> find_divisors(1)\n",
    "    array([1])\n",
    "    >>> find_divisors(2)\n",
    "    array([1, 2])\n",
    "    >>> find_divisors(3)\n",
    "    array([1, 3])\n",
    "    >>> find_divisors(4)\n",
    "    array([1, 2, 4])\n",
    "    >>> find_divisors(5)\n",
    "    array([1, 5])\n",
    "    \"\"\"\n",
    "    ### BEGIN SOLUTION\n",
    "    possible_divisors = np.arange(1, x+1)\n",
    "    modulos = x % possible_divisors\n",
    "    divisors = possible_divisors[modulos == 0]\n",
    "    return divisors\n",
    "    ### END SOLUTION"
   ]
  },
  {
   "cell_type": "markdown",
   "metadata": {},
   "source": [
    "## 12. Define a function named `var` that is able to calculate the variance of a given array.\n",
    "\n",
    "PS You may refer to the definition of variance: <https://en.wikipedia.org/wiki/Variance>\n",
    "\n",
    "\\begin{equation}\n",
    "Var(X) = \\frac{1}{n}\\sum_{i=1}^{n}(x_i - \\mu)^2\n",
    "\\end{equation}\n",
    "\n",
    "- Expected inputs: an array.\n",
    "- Expected outputs: a numeric."
   ]
  },
  {
   "cell_type": "code",
   "execution_count": 13,
   "metadata": {},
   "outputs": [],
   "source": [
    "def var(X):\n",
    "    \"\"\"\n",
    "    >>> var(np.array([1, 1, 1, 1]))\n",
    "    0.0\n",
    "    >>> var(np.array([5, 5, 6, 6]))\n",
    "    0.25\n",
    "    >>> var(np.array([5, -5, 6, -6]))\n",
    "    30.5\n",
    "    >>> var(np.array([2, 4, 8, 16]))\n",
    "    28.75\n",
    "    \"\"\"\n",
    "    ### BEGIN SOLUTION\n",
    "    n = X.size\n",
    "    mu = X.mean()\n",
    "    se = (X - mu)**2\n",
    "    sse = se.sum()\n",
    "    return sse / n\n",
    "    ### END SOLUTION"
   ]
  },
  {
   "cell_type": "markdown",
   "metadata": {},
   "source": [
    "## 13. Define a function named `cov` that is able to calculate the covariance given 2 same-length arrays.\n",
    "\n",
    "PS You may refer to the definition of covariance: <https://en.wikipedia.org/wiki/Covariance>\n",
    "\n",
    "\\begin{equation}\n",
    "cov(X, Y) = \\frac{1}{n}\\sum_{i=1}^{n}(x_i-\\mu_{X})(y_i-\\mu_{Y})\n",
    "\\end{equation}\n",
    "\n",
    "- Expected inputs: 2 arrays.\n",
    "- Expected outputs: a numeric."
   ]
  },
  {
   "cell_type": "code",
   "execution_count": 14,
   "metadata": {},
   "outputs": [],
   "source": [
    "def cov(X, Y):\n",
    "    \"\"\"\n",
    "    >>> X = np.array([1, 1, 1, 1])\n",
    "    >>> Y = np.array([1, 1, 1, 1])\n",
    "    >>> cov(X, Y)\n",
    "    0.0\n",
    "    >>> X = np.array([5, 5, 6, 6])\n",
    "    >>> Y = np.array([5, 5, 6, 6])\n",
    "    >>> cov(X, Y)\n",
    "    0.25\n",
    "    >>> X = np.array([5, 5, 6, 6])\n",
    "    >>> Y = np.array([5, -5, 6, -6])\n",
    "    >>> cov(X, Y)\n",
    "    0.0\n",
    "    \"\"\"\n",
    "    ### BEGIN SOLUTION\n",
    "    n = X.size\n",
    "    mu_X = X.mean()\n",
    "    mu_Y = Y.mean()\n",
    "    sum_err_prod = ((X - mu_X)*(Y - mu_Y)).sum()\n",
    "    return sum_err_prod / n\n",
    "    ### END SOLUTION"
   ]
  },
  {
   "cell_type": "markdown",
   "metadata": {},
   "source": [
    "## 14. Define a function named `corr` that is able to calculate the correlation coefficient of 2 same-length arrays.\n",
    "\n",
    "PS You may refer to the definition of correlation coefficient: <https://en.wikipedia.org/wiki/Pearson_correlation_coefficient>\n",
    "\n",
    "\\begin{equation}\n",
    "r_{XY} = \\frac{cov(X, Y)}{\\sqrt{cov(X, X)cov(Y, Y)}}\n",
    "\\end{equation}\n",
    "\n",
    "- Expected inputs: 2 arrays.\n",
    "- Expected outputs: a numeric."
   ]
  },
  {
   "cell_type": "code",
   "execution_count": 15,
   "metadata": {},
   "outputs": [],
   "source": [
    "def corr(X, Y):\n",
    "    \"\"\"\n",
    "    >>> X = np.array([1, 2])\n",
    "    >>> Y = np.array([2, 4])\n",
    "    >>> corr(X, Y)\n",
    "    1.0\n",
    "    >>> X = np.array([1, 2])\n",
    "    >>> Y = np.array([-2, -4])\n",
    "    >>> corr(X, Y)\n",
    "    -1.0\n",
    "    >>> X = np.array([1, 2, 3])\n",
    "    >>> Y = np.array([2, 4, 6])\n",
    "    >>> corr(X, Y)\n",
    "    1.0\n",
    "    >>> X = np.array([1, 2, 3])\n",
    "    >>> Y = np.array([-2, -4, -6])\n",
    "    >>> corr(X, Y)\n",
    "    -1.0\n",
    "    \"\"\"\n",
    "    ### BEGIN SOLUTION\n",
    "    cov_X_Y = cov(X, Y)\n",
    "    cov_X_X = cov(X, X)\n",
    "    cov_Y_Y = cov(Y, Y)\n",
    "    return cov_X_Y / np.sqrt(cov_X_X * cov_Y_Y)\n",
    "    ### END SOLUTION"
   ]
  },
  {
   "cell_type": "markdown",
   "metadata": {},
   "source": [
    "## 15. Define a function named `mse` that is able to calculate the mean squared error given 2 same-length arrays.\n",
    "\n",
    "PS You may refer to the definition of mean squared error: <https://en.wikipedia.org/wiki/Mean_squared_error>\n",
    "\n",
    "\\begin{equation}\n",
    "MSE = \\frac{1}{n}\\sum_{i=1}^{n}(Y_i - \\hat{Y_{i}})^2\n",
    "\\end{equation}\n",
    "\n",
    "- Expected inputs: 2 arrays.\n",
    "- Expected outputs: a numeric."
   ]
  },
  {
   "cell_type": "code",
   "execution_count": 16,
   "metadata": {},
   "outputs": [],
   "source": [
    "def mse(Y, Y_hat):\n",
    "    \"\"\"\n",
    "    >>> Y = np.array([5, 5, 6, 6])\n",
    "    >>> Y_hat = np.array([5, 5, 6, 6])\n",
    "    >>> mse(Y, Y_hat)\n",
    "    0.0\n",
    "    >>> Y = np.array([5, 5, 6, 6])\n",
    "    >>> Y_hat = np.array([5, -5, 6, -6])\n",
    "    >>> mse(Y, Y_hat)\n",
    "    61.0\n",
    "    >>> Y = np.array([5, 5, 6, 6])\n",
    "    >>> Y_hat = np.array([-5, -5, -6, -6])\n",
    "    >>> mse(Y, Y_hat)\n",
    "    122.0\n",
    "    \"\"\"\n",
    "    ### BEGIN SOLUTION\n",
    "    n = Y.size\n",
    "    errors = Y - Y_hat\n",
    "    se = errors**2\n",
    "    sse = se.sum()\n",
    "    return sse / n\n",
    "    ### END SOLUTION"
   ]
  },
  {
   "cell_type": "markdown",
   "metadata": {
    "deletable": false,
    "editable": false
   },
   "source": [
    "## 執行測試！\n",
    "\n",
    "Kernel -> Restart Kernel And Run All Cells -> Restart"
   ]
  },
  {
   "cell_type": "code",
   "execution_count": 17,
   "metadata": {
    "deletable": false,
    "editable": false
   },
   "outputs": [
    {
     "name": "stderr",
     "output_type": "stream",
     "text": [
      "test_01_create_first_five_primes_array (__main__.TestArrayComputingWithNumpy) ... ok\n",
      "test_02_create_first_ten_odds_array (__main__.TestArrayComputingWithNumpy) ... ok\n",
      "test_03_create_a_square_matrix (__main__.TestArrayComputingWithNumpy) ... ok\n",
      "test_04_create_a_diagonal_matrix (__main__.TestArrayComputingWithNumpy) ... ok\n",
      "test_05_create_a_diagonal_split_matrix (__main__.TestArrayComputingWithNumpy) ... ok\n",
      "test_06_create_nine_one_array (__main__.TestArrayComputingWithNumpy) ... ok\n",
      "test_07_create_one_nine_array (__main__.TestArrayComputingWithNumpy) ... ok\n",
      "test_08_create_nine_nine_array (__main__.TestArrayComputingWithNumpy) ... ok\n",
      "test_09_filter_evens (__main__.TestArrayComputingWithNumpy) ... ok\n",
      "test_10_filter_evens_then_product (__main__.TestArrayComputingWithNumpy) ... ok\n",
      "test_11_find_divisors (__main__.TestArrayComputingWithNumpy) ... ok\n",
      "test_12_var (__main__.TestArrayComputingWithNumpy) ... ok\n",
      "test_13_cov (__main__.TestArrayComputingWithNumpy) ... ok\n",
      "test_14_corr (__main__.TestArrayComputingWithNumpy) ... ok\n",
      "test_15_mse (__main__.TestArrayComputingWithNumpy) ... ok\n",
      "\n",
      "----------------------------------------------------------------------\n",
      "Ran 15 tests in 0.032s\n",
      "\n",
      "OK\n"
     ]
    }
   ],
   "source": [
    "class TestArrayComputingWithNumpy(unittest.TestCase):\n",
    "    def test_01_create_first_five_primes_array(self):\n",
    "        first_five_primes_array = create_first_five_primes_array()\n",
    "        np.testing.assert_array_equal(first_five_primes_array,\n",
    "                                     np.array([2, 3, 5, 7, 11]))\n",
    "        self.assertIsInstance(first_five_primes_array, np.ndarray)\n",
    "        self.assertEqual(first_five_primes_array.shape, (5,))\n",
    "    def test_02_create_first_ten_odds_array(self):\n",
    "        first_ten_odds_array = create_first_ten_odds_array()\n",
    "        np.testing.assert_array_equal(first_ten_odds_array,\n",
    "                                     np.array([1, 3, 5, 7, 9, 11, 13, 15, 17, 19]))\n",
    "        self.assertIsInstance(first_ten_odds_array, np.ndarray)\n",
    "        self.assertEqual(first_ten_odds_array.shape, (10,))\n",
    "    def test_03_create_a_square_matrix(self):\n",
    "        a_square_matrix = create_a_square_matrix(2, 5566)\n",
    "        self.assertEqual(a_square_matrix.shape, (2, 2))\n",
    "        self.assertEqual(a_square_matrix.sum(), 5566 * 2**2)\n",
    "        a_square_matrix = create_a_square_matrix(3, 55)\n",
    "        self.assertEqual(a_square_matrix.shape, (3, 3))\n",
    "        self.assertEqual(a_square_matrix.sum(), 55 * 3**2)\n",
    "        a_square_matrix = create_a_square_matrix(4, 66)\n",
    "        self.assertEqual(a_square_matrix.shape, (4, 4))\n",
    "        self.assertEqual(a_square_matrix.sum(), 66 * 4**2)\n",
    "    def test_04_create_a_diagonal_matrix(self):\n",
    "        a_diagonal_matrix = create_a_diagonal_matrix(2, 5566)\n",
    "        self.assertEqual(a_diagonal_matrix.shape, (2, 2))\n",
    "        self.assertEqual(a_diagonal_matrix.sum(), 5566 * 2)\n",
    "        a_diagonal_matrix = create_a_diagonal_matrix(3, 55)\n",
    "        self.assertEqual(a_diagonal_matrix.shape, (3, 3))\n",
    "        self.assertEqual(a_diagonal_matrix.sum(), 55 * 3)\n",
    "        a_diagonal_matrix = create_a_diagonal_matrix(4, 66)\n",
    "        self.assertEqual(a_diagonal_matrix.shape, (4, 4))\n",
    "        self.assertEqual(a_diagonal_matrix.sum(), 66 * 4)\n",
    "    def test_05_create_a_diagonal_split_matrix(self):\n",
    "        a_diagonal_split_matrix = create_a_diagonal_split_matrix(2, 5566)\n",
    "        self.assertEqual(a_diagonal_split_matrix.shape, (2, 2))\n",
    "        self.assertEqual(a_diagonal_split_matrix.sum(), 5566 * (2**2 - 2))\n",
    "        a_diagonal_split_matrix = a_diagonal_split_matrix = create_a_diagonal_split_matrix(3, 55)\n",
    "        self.assertEqual(a_diagonal_split_matrix.shape, (3, 3))\n",
    "        self.assertEqual(a_diagonal_split_matrix.sum(), 55 * (3**2 - 3))\n",
    "        a_diagonal_split_matrix = a_diagonal_split_matrix = create_a_diagonal_split_matrix(4, 66)\n",
    "        self.assertEqual(a_diagonal_split_matrix.shape, (4, 4))\n",
    "        self.assertEqual(a_diagonal_split_matrix.sum(), 66 * (4**2 - 4))\n",
    "    def test_06_create_nine_one_array(self):\n",
    "        nine_one_array = create_nine_one_array()\n",
    "        self.assertEqual(nine_one_array.shape, (9, 1))\n",
    "        self.assertEqual(nine_one_array[0, 0], 1)\n",
    "        self.assertEqual(nine_one_array[-1, 0], 9)\n",
    "    def test_07_create_one_nine_array(self):\n",
    "        one_nine_array = create_one_nine_array()\n",
    "        self.assertEqual(one_nine_array.shape, (1, 9))\n",
    "        self.assertEqual(one_nine_array[0, 0], 1)\n",
    "        self.assertEqual(one_nine_array[0, -1], 9)\n",
    "    def test_08_create_nine_nine_array(self):\n",
    "        nine_nine_array = create_nine_nine_array()\n",
    "        self.assertEqual(nine_nine_array.shape, (9, 9))\n",
    "        self.assertEqual(nine_nine_array[7, 7], 64)\n",
    "        self.assertEqual(nine_nine_array[7, 8], 72)\n",
    "        self.assertEqual(nine_nine_array[8, 7], 72)\n",
    "        self.assertEqual(nine_nine_array[8, 8], 81)\n",
    "    def test_09_filter_evens(self):\n",
    "        np.testing.assert_equal(filter_evens(np.array([5, 5, 6, 6])), np.array([6, 6]))\n",
    "        np.testing.assert_equal(filter_evens(np.array([1, 2, 3, 4])), np.array([2, 4]))\n",
    "        np.testing.assert_equal(filter_evens(np.array([0, 1, 2, 3])), np.array([0, 2]))\n",
    "    def test_10_filter_evens_then_product(self):\n",
    "        self.assertEqual(filter_evens_then_product(np.array([5, 5, 6, 6])), 36)\n",
    "        self.assertEqual(filter_evens_then_product(np.array([1, 2, 3, 4])), 8)\n",
    "        self.assertEqual(filter_evens_then_product(np.array([0, 1, 2, 3])), 0)\n",
    "    def test_11_find_divisors(self):\n",
    "        np.testing.assert_equal(find_divisors(1), np.array([1]))\n",
    "        np.testing.assert_equal(find_divisors(2), np.array([1, 2]))\n",
    "        np.testing.assert_equal(find_divisors(3), np.array([1, 3]))\n",
    "        np.testing.assert_equal(find_divisors(4), np.array([1, 2, 4]))\n",
    "        np.testing.assert_equal(find_divisors(5), np.array([1, 5]))\n",
    "    def test_12_var(self):\n",
    "        self.assertAlmostEqual(var(np.array([1, 1, 1, 1])), 0.0)\n",
    "        self.assertAlmostEqual(var(np.array([5, 5, 6, 6])), 0.25)\n",
    "        self.assertAlmostEqual(var(np.array([5, -5, 6, -6])), 30.5)\n",
    "        self.assertAlmostEqual(var(np.array([2, 4, 8, 16])), 28.75)\n",
    "    def test_13_cov(self):\n",
    "        X = np.array([1, 1, 1, 1])\n",
    "        Y = np.array([1, 1, 1, 1])\n",
    "        self.assertAlmostEqual(cov(X, Y), 0.0)\n",
    "        X = np.array([5, 5, 6, 6])\n",
    "        Y = np.array([5, 5, 6, 6])\n",
    "        self.assertAlmostEqual(cov(X, Y), 0.25)\n",
    "        X = np.array([5, 5, 6, 6])\n",
    "        Y = np.array([5, -5, 6, -6])\n",
    "        self.assertAlmostEqual(cov(X, Y), 0.0)\n",
    "    def test_14_corr(self):\n",
    "        X = np.array([1, 2])\n",
    "        Y = np.array([2, 4])\n",
    "        self.assertAlmostEqual(corr(X, Y), 1.0)\n",
    "        X = np.array([1, 2])\n",
    "        Y = np.array([-2, -4])\n",
    "        self.assertAlmostEqual(corr(X, Y), -1.0)\n",
    "        X = np.array([1, 2, 3])\n",
    "        Y = np.array([2, 4, 6])\n",
    "        self.assertAlmostEqual(corr(X, Y), 1.0)\n",
    "        X = np.array([1, 2, 3])\n",
    "        Y = np.array([-2, -4, -6])\n",
    "        self.assertAlmostEqual(corr(X, Y), -1.0)\n",
    "    def test_15_mse(self):\n",
    "        Y = np.array([5, 5, 6, 6])\n",
    "        Y_hat = np.array([5, 5, 6, 6])\n",
    "        self.assertAlmostEqual(mse(Y, Y_hat), 0.0)\n",
    "        Y = np.array([5, 5, 6, 6])\n",
    "        Y_hat = np.array([5, -5, 6, -6])\n",
    "        self.assertAlmostEqual(mse(Y, Y_hat), 61.0)\n",
    "        Y = np.array([5, 5, 6, 6])\n",
    "        Y_hat = np.array([-5, -5, -6, -6])\n",
    "        self.assertAlmostEqual(mse(Y, Y_hat), 122.0)\n",
    "\n",
    "suite = unittest.TestLoader().loadTestsFromTestCase(TestArrayComputingWithNumpy)\n",
    "runner = unittest.TextTestRunner(verbosity=2)\n",
    "test_results = runner.run(suite)\n",
    "number_of_failures = len(test_results.failures)\n",
    "number_of_errors = len(test_results.errors)\n",
    "number_of_test_runs = test_results.testsRun\n",
    "number_of_successes = number_of_test_runs - (number_of_failures + number_of_errors)\n",
    "cwd = os.getcwd()\n",
    "folder_name = cwd.split(\"/\")[-1]\n",
    "with open(\"../exercise_index.json\", \"r\") as content:\n",
    "    exercise_index = json.load(content)\n",
    "chapter_name = exercise_index[folder_name]"
   ]
  },
  {
   "cell_type": "code",
   "execution_count": 18,
   "metadata": {
    "deletable": false,
    "editable": false
   },
   "outputs": [
    {
     "name": "stdout",
     "output_type": "stream",
     "text": [
      "你在「以 NumPy 運算陣列」章節中的 15 道 Python 練習答對了 15 題。\n"
     ]
    }
   ],
   "source": [
    "print(\"你在「{}」章節中的 {} 道 Python 練習答對了 {} 題。\".format(chapter_name, number_of_test_runs, number_of_successes))"
   ]
  }
 ],
 "metadata": {
  "kernelspec": {
   "display_name": "Python Data Science",
   "language": "python",
   "name": "pyds"
  },
  "language_info": {
   "codemirror_mode": {
    "name": "ipython",
    "version": 3
   },
   "file_extension": ".py",
   "mimetype": "text/x-python",
   "name": "python",
   "nbconvert_exporter": "python",
   "pygments_lexer": "ipython3",
   "version": "3.8.10"
  }
 },
 "nbformat": 4,
 "nbformat_minor": 4
}
