{
 "cells": [
  {
   "cell_type": "markdown",
   "id": "heated-welding",
   "metadata": {
    "deletable": false
   },
   "source": [
    "# Python 的 50+ 練習：資料科學學習手冊\n",
    "\n",
    "> 日期時間資料操作\n",
    "\n",
    "[數據交點](https://www.datainpoint.com) | 郭耀仁 <yaojenkuo@datainpoint.com>"
   ]
  },
  {
   "cell_type": "markdown",
   "id": "fleet-tokyo",
   "metadata": {
    "deletable": false
   },
   "source": [
    "## 練習題指引\n",
    "\n",
    "- 由於近期 mybinder.org 的服務不穩定，新增 Google Colab 作為另一個寫作練習題的平台。\n",
    "- 開始寫作之前，可以先按上方「Copy to Drive」按鈕將筆記本複製到自己的 Google 雲端硬碟。\n",
    "- 練習題閒置超過 10 分鐘會自動斷線，只要重新點選練習題連結即可重新啟動。\n",
    "- 第一個程式碼儲存格會將可能用得到的模組載入。\n",
    "- 如果練習題需要載入檔案，檔案存放絕對路徑為 `/content`\n",
    "- 練習題已經給定函數、類別、預期輸入或參數名稱，我們只需要寫作程式區塊。同時也給定函數的類別提示，說明預期輸入以及預期輸出的類別。\n",
    "- 說明（Docstring）會描述測試如何進行，閱讀說明能夠暸解預期輸入以及預期輸出之間的關係，幫助我們更快解題。\n",
    "- 請在 `### BEGIN SOLUTION` 與 `### END SOLUTION` 這兩個註解之間寫作函數或者類別的程式區塊。\n",
    "- 將預期輸出放置在 `return` 保留字之後，若只是用 `print()` 函數將預期輸出印出無法通過測試。\n",
    "- 語法錯誤（`SyntaxError`）或縮排錯誤（`IndentationError`）等將會導致測試失效，測試之前應該先在筆記本使用函數觀察是否與說明（Docstring）描述的功能相符。\n",
    "- 如果卡關，可以先看練習題詳解或者複習課程單元影片之後再繼續寫作。\n",
    "- 執行測試的步驟：\n",
    "    1. 點選右上角 Connect\n",
    "    2. 點選上方選單的 Runtime -> Restart and run all -> Yes -> Run anyway\n",
    "    3. 移動到 Google Colab 的最後一個儲存格看批改測試結果。\n",
    "- 先執行下列兩個程式碼儲存格載入需要的模組與下載檔案至 `/content`"
   ]
  },
  {
   "cell_type": "code",
   "execution_count": null,
   "id": "collected-norwegian",
   "metadata": {},
   "outputs": [],
   "source": [
    "from datetime import date\n",
    "from datetime import time\n",
    "from datetime import datetime\n",
    "from datetime import timedelta\n",
    "import pandas as pd"
   ]
  },
  {
   "cell_type": "code",
   "execution_count": null,
   "id": "974769e6",
   "metadata": {},
   "outputs": [],
   "source": [
    "!wget -N https://raw.githubusercontent.com/datainpoint/classroom-hahow-pythonfiftyplus/main/exercise_index.json\n",
    "!wget -N https://raw.githubusercontent.com/datainpoint/classroom-hahow-pythonfiftyplus/main/data/covid19/time_series_covid19_confirmed_global.csv"
   ]
  },
  {
   "cell_type": "markdown",
   "id": "touched-discharge",
   "metadata": {},
   "source": [
    "## 141. 建立日期物件\n",
    "\n",
    "定義函數 `create_date_object()` 將輸入的整數轉換為 `date` 類別的實例。\n",
    "\n",
    "- 運用 `date` 類別。\n",
    "- 將預期輸出寫在 `return` 之後。"
   ]
  },
  {
   "cell_type": "code",
   "execution_count": null,
   "id": "28fa5ed2",
   "metadata": {},
   "outputs": [],
   "source": [
    "def create_date_object(year: int, month: int, day: int) -> date:\n",
    "    \"\"\"\n",
    "    >>> create_date_object(2021, 12, 31)\n",
    "    datetime.date(2021, 12, 31)\n",
    "    >>> type(create_date_object(2021, 12, 31))\n",
    "    datetime.date\n",
    "    >>> print(create_date_object(2021, 12, 31))\n",
    "    2021-12-31\n",
    "    >>> create_date_object(2022, 1, 1)\n",
    "    datetime.date(2022, 1, 1)\n",
    "    >>> type(create_date_object(2022, 1, 1))\n",
    "    datetime.date\n",
    "    >>> print(create_date_object(2022, 1, 1))\n",
    "    2022-01-01\n",
    "    \"\"\"\n",
    "    ### BEGIN SOLUTION\n",
    "    \n",
    "    ### END SOLUTION"
   ]
  },
  {
   "cell_type": "markdown",
   "id": "52e8eef7",
   "metadata": {},
   "source": [
    "## 142. 建立時間物件\n",
    "\n",
    "定義函數 `create_time_object()` 將輸入的整數轉換為 `time` 類別的實例。\n",
    "\n",
    "- 運用 `time` 類別。\n",
    "- 將預期輸出寫在 `return` 之後。"
   ]
  },
  {
   "cell_type": "code",
   "execution_count": null,
   "id": "59aa04a2",
   "metadata": {},
   "outputs": [],
   "source": [
    "def create_time_object(hour: int, minute: int, second: int) -> time:\n",
    "    \"\"\"\n",
    "    >>> create_time_object(23, 59, 59)\n",
    "    datetime.time(23, 59, 59)\n",
    "    >>> type(create_time_object(23, 59, 59))\n",
    "    datetime.time\n",
    "    >>> print(create_time_object(23, 59, 59))\n",
    "    23:59:59\n",
    "    >>> create_time_object(0, 0, 1)\n",
    "    datetime.time(0, 0, 1)\n",
    "    >>> type(create_time_object(0, 0, 1))\n",
    "    datetime.time\n",
    "    >>> print(create_time_object(0, 0, 1))\n",
    "    00:00:01\n",
    "    \"\"\"\n",
    "    ### BEGIN SOLUTION\n",
    "    \n",
    "    ### END SOLUTION"
   ]
  },
  {
   "cell_type": "markdown",
   "id": "127079e7",
   "metadata": {},
   "source": [
    "## 143. 建立日期時間物件\n",
    "\n",
    "定義函數 `create_datetime_object()` 將輸入的 `date` 與 `time` 轉換為 `datetime` 類別的實例。\n",
    "\n",
    "- 使用 `create_date_object()` 函數。\n",
    "- 使用 `create_time_object()` 函數。\n",
    "- 使用 `datetime.combine()`\n",
    "- 將預期輸出寫在 `return` 之後。"
   ]
  },
  {
   "cell_type": "code",
   "execution_count": null,
   "id": "2e9a370c",
   "metadata": {},
   "outputs": [],
   "source": [
    "def create_datetime_object(d: date, t: time) -> datetime:\n",
    "    \"\"\"\n",
    "    >>> d = create_date_object(2021, 12, 31)\n",
    "    >>> t = create_time_object(23, 59, 59)\n",
    "    >>> create_datetime_object(d, t)\n",
    "    datetime.datetime(2021, 12, 31, 23, 59, 59)\n",
    "    >>> type(create_datetime_object(d, t))\n",
    "    datetime.datetime\n",
    "    >>> print(create_datetime_object(d, t))\n",
    "    2021-12-31 23:59:59\n",
    "    >>> d = create_date_object(2022, 1, 1)\n",
    "    >>> t = create_time_object(0, 0, 1)\n",
    "    >>> create_datetime_object(d, t)\n",
    "    datetime.datetime(2022, 1, 1, 0, 0, 1)\n",
    "    >>> type(create_datetime_object(d, t))\n",
    "    datetime.datetime\n",
    "    >>> print(create_datetime_object(d, t))\n",
    "    2022-01-01 00:00:01\n",
    "    \"\"\"\n",
    "    ### BEGIN SOLUTION\n",
    "    \n",
    "    ### END SOLUTION"
   ]
  },
  {
   "cell_type": "markdown",
   "id": "92878e8c",
   "metadata": {},
   "source": [
    "## 144. 昨天的日期 \n",
    "\n",
    "定義函數 `get_yesterdays_date()` 將輸入日期文字（ISO 8601 格式）的前一天回傳。\n",
    "\n",
    "- 使用 `date.fromisoformat()`\n",
    "- 運用 `timedelta` 類別。\n",
    "- 將預期輸出寫在 `return` 之後。"
   ]
  },
  {
   "cell_type": "code",
   "execution_count": null,
   "id": "12952106",
   "metadata": {},
   "outputs": [],
   "source": [
    "def get_yesterdays_date(x: str) -> date:\n",
    "    \"\"\"\n",
    "    >>> print(get_yesterdays_date(\"2022-01-02\"))\n",
    "    2022-01-01\n",
    "    >>> print(get_yesterdays_date(\"2022-01-01\"))\n",
    "    2021-12-31\n",
    "    \"\"\"\n",
    "    ### BEGIN SOLUTION\n",
    "    \n",
    "    ### END SOLUTION"
   ]
  },
  {
   "cell_type": "markdown",
   "id": "a7055498",
   "metadata": {},
   "source": [
    "## 145. 前一秒的日期時間  \n",
    "\n",
    "定義函數 `get_a_second_before_datetime()` 將輸入日期時間文字（ISO 8601 格式）的前一秒回傳。\n",
    "\n",
    "- 使用 `datetime.fromisoformat()`\n",
    "- 運用 `timedelta` 類別。\n",
    "- 將預期輸出寫在 `return` 之後。"
   ]
  },
  {
   "cell_type": "code",
   "execution_count": null,
   "id": "2ec685ef",
   "metadata": {},
   "outputs": [],
   "source": [
    "def get_a_second_before_datetime(x: str) -> datetime:\n",
    "    \"\"\"\n",
    "    >>> print(get_a_second_before_datetime(\"2022-01-01 00:00:01\"))\n",
    "    2022-01-01 00:00:00\n",
    "    >>> print(get_a_second_before_datetime(\"2022-01-01 00:00:00\"))\n",
    "    2021-12-31 23:59:59\n",
    "    \"\"\"\n",
    "    ### BEGIN SOLUTION\n",
    "    \n",
    "    ### END SOLUTION"
   ]
  },
  {
   "cell_type": "markdown",
   "id": "210f048f",
   "metadata": {},
   "source": [
    "## 146. 顯示非 ISO 8601 的日期格式 \n",
    "\n",
    "定義函數 `show_a_non_iso8601_date()` 將輸入的整數顯示為 `%a %b %d` 的日期格式。\n",
    "\n",
    "來源：<https://docs.python.org/3/library/datetime.html#strftime-and-strptime-format-codes>\n",
    "\n",
    "- 運用 `date` 類別。\n",
    "- 使用 `date.strftime()`\n",
    "- 將預期輸出寫在 `return` 之後。"
   ]
  },
  {
   "cell_type": "code",
   "execution_count": null,
   "id": "2bf5bfc3",
   "metadata": {},
   "outputs": [],
   "source": [
    "def show_a_non_iso8601_date(year: int, month: int, day: int) -> str:\n",
    "    \"\"\"\n",
    "    >>> show_a_non_iso8601_date(2021, 12, 31)\n",
    "    'Fri Dec 31'\n",
    "    >>> show_a_non_iso8601_date(2022, 1, 1)\n",
    "    'Sat Jan 01'\n",
    "    \"\"\"\n",
    "    ### BEGIN SOLUTION\n",
    "    \n",
    "    ### END SOLUTION"
   ]
  },
  {
   "cell_type": "markdown",
   "id": "5014952a",
   "metadata": {},
   "source": [
    "## 147. 解析非 ISO 8601 的日期時間格式 \n",
    "\n",
    "定義函數 `parse_a_non_iso8601_datetime()` 將輸入的日期時間文字（`%a %b %d %y %H:%M:%S` 格式）轉換為 ISO 8601 日期時間文字（`%Y-%m-%d %H:%M:%S` 格式）。\n",
    "\n",
    "來源：<https://docs.python.org/3/library/datetime.html#strftime-and-strptime-format-codes>\n",
    "\n",
    "- 使用 `datetime.strptime()`\n",
    "- 使用 `datetime.strftime()`\n",
    "- 將預期輸出寫在 `return` 之後。"
   ]
  },
  {
   "cell_type": "code",
   "execution_count": null,
   "id": "a9f8e139",
   "metadata": {},
   "outputs": [],
   "source": [
    "def parse_a_non_iso8601_datetime(x: str) -> str:\n",
    "    \"\"\"\n",
    "    >>> parse_a_non_iso8601_datetime(\"Fri Dec 31 21 23:59:59\")\n",
    "    '2021-12-31 23:59:59'\n",
    "    >>> parse_a_non_iso8601_datetime(\"Sat Jan 01 22 00:00:01\")\n",
    "    '2022-01-01 00:00:01'\n",
    "    \"\"\"\n",
    "    ### BEGIN SOLUTION\n",
    "    \n",
    "    ### END SOLUTION"
   ]
  },
  {
   "cell_type": "markdown",
   "id": "ee9c3617",
   "metadata": {},
   "source": [
    "## 148. 載入 `time_series_covid19_confirmed_global.csv`\n",
    "\n",
    "定義函數 `import_covid19_time_series_confirmed()` 將位於 `/content` 路徑的 `time_series_covid19_confirmed_global.csv` 載入。\n",
    "\n",
    "- 運用絕對路徑。\n",
    "- 使用 `pd.read_csv()` 函數。\n",
    "- 將預期輸出寫在 `return` 之後。"
   ]
  },
  {
   "cell_type": "code",
   "execution_count": null,
   "id": "02dcb059",
   "metadata": {},
   "outputs": [],
   "source": [
    "def import_covid19_time_series_confirmed() -> pd.core.frame.DataFrame:\n",
    "    \"\"\"\n",
    "    >>> covid19_time_series_confirmed = import_covid19_time_series_confirmed()\n",
    "    >>> type(covid19_time_series_confirmed)\n",
    "    pandas.core.frame.DataFrame\n",
    "    >>> covid19_time_series_confirmed.shape\n",
    "    (280, 735)\n",
    "    \"\"\"\n",
    "    ### BEGIN SOLUTION\n",
    "    \n",
    "    ### END SOLUTION"
   ]
  },
  {
   "cell_type": "markdown",
   "id": "649f8408",
   "metadata": {},
   "source": [
    "## 149. 擷取日期的欄位名稱\n",
    "\n",
    "定義函數 `extract_date_columns()` 將 `time_series_covid19_confirmed_global.csv` 中 `Province/State`、`Country/Region`、`Lat`、`Long` 以外日期的欄位名稱擷取出來。\n",
    "\n",
    "- 使用 `import_covid19_time_series_confirmed()` 函數。\n",
    "- 運用 `DataFrame.columns`\n",
    "- 運用 slicing 技巧。\n",
    "- 將預期輸出寫在 `return` 之後。"
   ]
  },
  {
   "cell_type": "code",
   "execution_count": null,
   "id": "e243bba8",
   "metadata": {},
   "outputs": [],
   "source": [
    "def extract_date_columns() -> pd.core.indexes.base.Index:\n",
    "    \"\"\"\n",
    "    >>> date_columns = extract_date_columns()\n",
    "    >>> type(date_columns)\n",
    "    pandas.core.indexes.base.Index\n",
    "    >>> date_columns.size\n",
    "    731\n",
    "    >>> date_columns\n",
    "    Index(['1/22/20', '1/23/20', '1/24/20', '1/25/20', '1/26/20', '1/27/20',\n",
    "           '1/28/20', '1/29/20', '1/30/20', '1/31/20',\n",
    "           ...\n",
    "           '1/12/22', '1/13/22', '1/14/22', '1/15/22', '1/16/22', '1/17/22',\n",
    "           '1/18/22', '1/19/22', '1/20/22', '1/21/22'],\n",
    "          dtype='object', length=731)\n",
    "    \"\"\"\n",
    "    ### BEGIN SOLUTION\n",
    "    \n",
    "    ### END SOLUTION"
   ]
  },
  {
   "cell_type": "markdown",
   "id": "64f0718d",
   "metadata": {},
   "source": [
    "## 150. 解析日期的欄位名稱\n",
    "\n",
    "定義函數 `parse_date_columns()` 將 `time_series_covid19_confirmed_global.csv` 中日期的欄位名稱擷取出來轉換為 `DatetimeIndex`\n",
    "\n",
    "- 使用 `extract_date_columns()` 函數。\n",
    "- 使用 `pd.to_datetime()` 函數。\n",
    "- 將預期輸出寫在 `return` 之後。"
   ]
  },
  {
   "cell_type": "code",
   "execution_count": null,
   "id": "8187b72f",
   "metadata": {},
   "outputs": [],
   "source": [
    "def parse_date_columns() -> pd.core.indexes.datetimes.DatetimeIndex:\n",
    "    \"\"\"\n",
    "    >>> date_columns = parse_date_columns()\n",
    "    >>> type(date_columns)\n",
    "    pandas.core.indexes.datetimes.DatetimeIndex\n",
    "    >>> date_columns.size\n",
    "    731\n",
    "    >>> date_columns\n",
    "    DatetimeIndex(['2020-01-22', '2020-01-23', '2020-01-24', '2020-01-25',\n",
    "                   '2020-01-26', '2020-01-27', '2020-01-28', '2020-01-29',\n",
    "                   '2020-01-30', '2020-01-31',\n",
    "                   ...\n",
    "                   '2022-01-12', '2022-01-13', '2022-01-14', '2022-01-15',\n",
    "                   '2022-01-16', '2022-01-17', '2022-01-18', '2022-01-19',\n",
    "                   '2022-01-20', '2022-01-21'],\n",
    "                  dtype='datetime64[ns]', length=731, freq=None)\n",
    "    \"\"\"\n",
    "    ### BEGIN SOLUTION\n",
    "    \n",
    "    ### END SOLUTION"
   ]
  },
  {
   "cell_type": "markdown",
   "id": "260014c0",
   "metadata": {},
   "source": [
    "## 練習題到此結束，以下的儲存格可以忽略"
   ]
  },
  {
   "cell_type": "code",
   "execution_count": null,
   "id": "a52f6482",
   "metadata": {},
   "outputs": [],
   "source": [
    "import unittest\n",
    "import json\n",
    "\n",
    "def run_suite(test_class, chapter_index):\n",
    "    suite = unittest.TestLoader().loadTestsFromTestCase(test_class)\n",
    "    runner = unittest.TextTestRunner(verbosity=2)\n",
    "    test_results = runner.run(suite)\n",
    "    number_of_failures = len(test_results.failures)\n",
    "    number_of_errors = len(test_results.errors)\n",
    "    number_of_test_runs = test_results.testsRun\n",
    "    number_of_successes = number_of_test_runs - (number_of_failures + number_of_errors)\n",
    "    with open(\"exercise_index.json\", \"r\") as f:\n",
    "        exercise_index = json.load(f)\n",
    "    chapter_name = exercise_index[chapter_index][\"chapter_name\"]\n",
    "    number_of_total_questions = 0\n",
    "    number_of_completed_questions = 0\n",
    "    for i in range(len(exercise_index)):\n",
    "        number_of_total_questions += exercise_index[i][\"number_of_exercises\"]\n",
    "        if i < chapter_index:\n",
    "            number_of_completed_questions += exercise_index[i][\"number_of_exercises\"]\n",
    "    number_of_completed_questions += number_of_successes\n",
    "    chapter_percentage = number_of_successes * 100 / number_of_test_runs\n",
    "    overall_percentage = number_of_completed_questions * 100 / number_of_total_questions\n",
    "    print(\"你在「{}」章節的練習題完成率為 ... {:.2f}% ({}/{})\".format(chapter_name, chapter_percentage, number_of_successes, number_of_test_runs))\n",
    "    print(\"整體課程練習題的累計完成率為 ... {:.2f}% ({}/{})\".format(overall_percentage, number_of_completed_questions, number_of_total_questions))\n",
    "    if chapter_percentage == 100 and chapter_index < 19:\n",
    "        print(\"表現得很好，你已經完成「{}」所有習題，我們繼續往下個章節：「{}」前進！\".format(exercise_index[chapter_index][\"chapter_name\"], exercise_index[chapter_index + 1][\"chapter_name\"]))\n",
    "        if chapter_index == 4:\n",
    "            print(\"太棒了，你已經完成「Python 的 50+ 練習」的第一部分：Python 程式設計的基礎觀念，接下來還有三個部分等你來挑戰！\")\n",
    "        elif chapter_index == 8:\n",
    "            print(\"表現得非常好，你已經完成「Python 的 50+ 練習」的第二部分：Python 程式設計的進階觀念，接著讓我們邁向資料科學！\")\n",
    "        elif chapter_index == 12:\n",
    "            print(\"太令人佩服，你已經完成「Python 的 50+ 練習」的第三部分：Python 資料科學的基礎，距離完課只剩下最後一哩路！\")\n",
    "    elif chapter_percentage == 100 and chapter_index == 19:\n",
    "        print(\"恭喜完課，你已經完成「Python 的 50+ 練習」所有習題，能夠堅持到底完成所有的教學影片與練習題真是非常了不起！後面已經沒有練習題了，你現在是一位擅長寫程式處理資料的分析師！\")\n",
    "    elif chapter_percentage >= 50:\n",
    "        print(\"你已經完成「{}」章節一半以上的練習，繼續加油！\".format(chapter_name))\n",
    "\n",
    "class TestWorkingWithDateTime(unittest.TestCase):\n",
    "    def test_141_create_date_object(self):\n",
    "        self.assertEqual(create_date_object(2021, 12, 31), date(2021, 12, 31))\n",
    "        self.assertEqual(create_date_object(2022, 1, 1), date(2022, 1, 1))\n",
    "    def test_142_create_time_object(self):\n",
    "        self.assertEqual(create_time_object(23, 59, 59), time(23, 59, 59))\n",
    "        self.assertEqual(create_time_object(0, 0, 1), time(0, 0, 1))\n",
    "    def test_143_create_datetime_object(self):\n",
    "        d = create_date_object(2021, 12, 31)\n",
    "        t = create_time_object(23, 59, 59)\n",
    "        self.assertEqual(create_datetime_object(d, t), datetime(2021, 12, 31, 23, 59, 59))\n",
    "        d = create_date_object(2022, 1, 1)\n",
    "        t = create_time_object(0, 0, 1)\n",
    "        self.assertEqual(create_datetime_object(d, t), datetime(2022, 1, 1, 0, 0, 1))\n",
    "    def test_144_get_yesterdays_date(self):\n",
    "        self.assertEqual(get_yesterdays_date(\"2022-01-02\"), date(2022, 1, 1))\n",
    "        self.assertEqual(get_yesterdays_date(\"2022-01-01\"), date(2021, 12, 31))\n",
    "    def test_145_get_a_second_before_datetime(self):\n",
    "        self.assertEqual(get_a_second_before_datetime(\"2022-01-01 00:00:01\"), datetime(2022, 1, 1, 0, 0, 0))\n",
    "        self.assertEqual(get_a_second_before_datetime(\"2022-01-01 00:00:00\"), datetime(2021, 12, 31, 23, 59, 59))\n",
    "    def test_146_show_a_non_iso8601_date(self):\n",
    "        self.assertEqual(show_a_non_iso8601_date(2021, 12, 31), 'Fri Dec 31')\n",
    "        self.assertEqual(show_a_non_iso8601_date(2022, 1, 1), 'Sat Jan 01')\n",
    "    def test_147_parse_a_non_iso8601_datetime(self):\n",
    "        self.assertEqual(parse_a_non_iso8601_datetime(\"Fri Dec 31 21 23:59:59\"), '2021-12-31 23:59:59')\n",
    "        self.assertEqual(parse_a_non_iso8601_datetime(\"Sat Jan 01 22 00:00:01\"), '2022-01-01 00:00:01')\n",
    "    def test_148_import_covid19_time_series_confirmed(self):\n",
    "        covid19_time_series_confirmed = import_covid19_time_series_confirmed()\n",
    "        self.assertIsInstance(covid19_time_series_confirmed, pd.core.frame.DataFrame)\n",
    "        self.assertEqual(covid19_time_series_confirmed.shape, (280, 735))\n",
    "    def test_149_extract_date_columns(self):\n",
    "        date_columns = extract_date_columns()\n",
    "        self.assertIsInstance(date_columns, pd.core.indexes.base.Index)\n",
    "        self.assertEqual(date_columns.size, 731)\n",
    "    def test_150_parse_date_columns(self):\n",
    "        date_columns = parse_date_columns()\n",
    "        self.assertIsInstance(date_columns, pd.core.indexes.datetimes.DatetimeIndex)\n",
    "        self.assertEqual(date_columns.size, 731)\n",
    "\n",
    "run_suite(TestWorkingWithDateTime, 16)"
   ]
  }
 ],
 "metadata": {
  "kernelspec": {
   "display_name": "Python Fifty Plus",
   "language": "python",
   "name": "pythonfiftyplus"
  },
  "language_info": {
   "codemirror_mode": {
    "name": "ipython",
    "version": 3
   },
   "file_extension": ".py",
   "mimetype": "text/x-python",
   "name": "python",
   "nbconvert_exporter": "python",
   "pygments_lexer": "ipython3",
   "version": "3.9.7"
  }
 },
 "nbformat": 4,
 "nbformat_minor": 5
}
