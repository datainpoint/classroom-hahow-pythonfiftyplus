{
 "cells": [
  {
   "cell_type": "markdown",
   "metadata": {
    "slideshow": {
     "slide_type": "slide"
    }
   },
   "source": [
    "# Python 的 50+ 練習\n",
    "\n",
    "> 日期時間資料操作\n",
    "\n",
    "[數據交點](https://www.datainpoint.com/) | 郭耀仁 <yaojenkuo@datainpoint.com>"
   ]
  },
  {
   "cell_type": "markdown",
   "metadata": {
    "slideshow": {
     "slide_type": "subslide"
    }
   },
   "source": [
    "## 這個章節會登場的模組\n",
    "\n",
    "- `datetime` 模組。\n",
    "- `pandas` 模組。"
   ]
  },
  {
   "cell_type": "markdown",
   "metadata": {
    "slideshow": {
     "slide_type": "subslide"
    }
   },
   "source": [
    "## （複習）現代資料科學：以程式設計做資料科學的應用\n",
    "\n",
    "![](r-for-data-science.png)\n",
    "\n",
    "來源：[R for Data Science](https://r4ds.had.co.nz)"
   ]
  },
  {
   "cell_type": "markdown",
   "metadata": {
    "slideshow": {
     "slide_type": "subslide"
    }
   },
   "source": [
    "## （複習）什麼是資料科學的應用場景\n",
    "\n",
    "- Import 資料的載入。\n",
    "- **Tidy 資料清理**。\n",
    "- **Transform 資料外型與類別的轉換**。\n",
    "- Visualise 探索性分析。\n",
    "- Model 分析與預測模型。\n",
    "- Communicate 溝通分享。"
   ]
  },
  {
   "cell_type": "markdown",
   "metadata": {
    "slideshow": {
     "slide_type": "slide"
    }
   },
   "source": [
    "## 關於 Unix 時間"
   ]
  },
  {
   "cell_type": "markdown",
   "metadata": {
    "slideshow": {
     "slide_type": "subslide"
    }
   },
   "source": [
    "## 什麼是 Unix 時間\n",
    "\n",
    "> Unix 時間，也稱為 Posix 時間是類 UNIX 作業系統（泛指 Linux 或 macOS）使用的時間表示方式：從 1970-01-01 00:00:00 UTC 起一直到此時此刻的總秒數。\n",
    "\n",
    "來源：<https://en.wikipedia.org/wiki/Unix_time>"
   ]
  },
  {
   "cell_type": "markdown",
   "metadata": {
    "slideshow": {
     "slide_type": "subslide"
    }
   },
   "source": [
    "## 不同國家、地區有各自習慣的日期、時間以及日期時間格式\n",
    "\n",
    "- 常見的日期格式有 1970-01-01、1970/1/1、Jan, 1, 1970 等格式。\n",
    "- 常見的時間格式有 00:00:00、12:00:00 a.m. 等格式。\n",
    "- 常見的日期時間格式有 1970-01-01 00:00:00 等格式。"
   ]
  },
  {
   "cell_type": "markdown",
   "metadata": {
    "slideshow": {
     "slide_type": "subslide"
    }
   },
   "source": [
    "## ISO 8601\n",
    "\n",
    "> ISO 8601 是國際標準化組織的日期、時間和日期時間的表示法。\n",
    "\n",
    "來源：<https://en.wikipedia.org/wiki/ISO_8601>"
   ]
  },
  {
   "cell_type": "markdown",
   "metadata": {
    "slideshow": {
     "slide_type": "subslide"
    }
   },
   "source": [
    "## ISO 8601 的表示法\n",
    "\n",
    "- 日期：YYYY-MM-DD，例如 1970-01-01、2022-01-01\n",
    "- 時間：hh:mm:ss，例如 00:00:00、23:59:59\n",
    "- 日期時間：YYYY-MM-DD hh:mm:ss，例如 1970-01-01 00:00:00、2022-01-01 00:00:01"
   ]
  },
  {
   "cell_type": "markdown",
   "metadata": {
    "slideshow": {
     "slide_type": "slide"
    }
   },
   "source": [
    "## 標準模組 `datetime`"
   ]
  },
  {
   "cell_type": "markdown",
   "metadata": {
    "slideshow": {
     "slide_type": "subslide"
    }
   },
   "source": [
    "## 什麼是標準模組 `datetime`\n",
    "\n",
    "> `datatime` 模組為 Python 提供能夠操作日期、時間以及日期時間的類別與函數。\n",
    "\n",
    "來源：<https://docs.python.org/3/library/datetime.html>"
   ]
  },
  {
   "cell_type": "markdown",
   "metadata": {
    "slideshow": {
     "slide_type": "subslide"
    }
   },
   "source": [
    "## `datetime` 模組提供的常用類別\n",
    "\n",
    "- `date` 日期類別。\n",
    "- `time` 時間類別。\n",
    "- `datetime` 日期時間類別，模組與類別名稱相同，避免混淆。\n",
    "- `timezone` 時區類別。\n",
    "- `timedelta` 日期、時間與日期時間之間的差距類別。"
   ]
  },
  {
   "cell_type": "markdown",
   "metadata": {
    "slideshow": {
     "slide_type": "subslide"
    }
   },
   "source": [
    "## `date` 日期類別"
   ]
  },
  {
   "cell_type": "code",
   "execution_count": 1,
   "metadata": {},
   "outputs": [
    {
     "name": "stdout",
     "output_type": "stream",
     "text": [
      "1970-01-01\n",
      "<class 'datetime.date'>\n"
     ]
    }
   ],
   "source": [
    "from datetime import date\n",
    "\n",
    "the_origin_date_of_unix_time = date(1970, 1, 1) \n",
    "print(the_origin_date_of_unix_time)\n",
    "print(type(the_origin_date_of_unix_time))"
   ]
  },
  {
   "cell_type": "markdown",
   "metadata": {
    "slideshow": {
     "slide_type": "subslide"
    }
   },
   "source": [
    "## `time` 時間類別"
   ]
  },
  {
   "cell_type": "code",
   "execution_count": 2,
   "metadata": {},
   "outputs": [
    {
     "name": "stdout",
     "output_type": "stream",
     "text": [
      "00:00:00\n",
      "<class 'datetime.time'>\n"
     ]
    }
   ],
   "source": [
    "from datetime import time\n",
    "\n",
    "midnight = time(0, 0, 0) \n",
    "print(midnight)\n",
    "print(type(midnight))"
   ]
  },
  {
   "cell_type": "markdown",
   "metadata": {
    "slideshow": {
     "slide_type": "subslide"
    }
   },
   "source": [
    "## `datetime` 日期時間類別"
   ]
  },
  {
   "cell_type": "code",
   "execution_count": 3,
   "metadata": {},
   "outputs": [
    {
     "name": "stdout",
     "output_type": "stream",
     "text": [
      "1970-01-01 00:00:00\n",
      "<class 'datetime.datetime'>\n"
     ]
    }
   ],
   "source": [
    "from datetime import datetime # from module import class\n",
    "\n",
    "the_origin_of_unix_time = datetime(1970, 1, 1, 0, 0, 0)\n",
    "print(the_origin_of_unix_time)\n",
    "print(type(the_origin_of_unix_time))"
   ]
  },
  {
   "cell_type": "markdown",
   "metadata": {
    "slideshow": {
     "slide_type": "subslide"
    }
   },
   "source": [
    "## `timezone` 時區類別"
   ]
  },
  {
   "cell_type": "code",
   "execution_count": 4,
   "metadata": {},
   "outputs": [
    {
     "name": "stdout",
     "output_type": "stream",
     "text": [
      "1970-01-01 00:00:00+00:00\n",
      "<class 'datetime.datetime'>\n"
     ]
    }
   ],
   "source": [
    "from datetime import datetime # from module import class\n",
    "from datetime import timezone\n",
    "\n",
    "the_origin_of_unix_time = datetime(1970, 1, 1, 0, 0, 0, tzinfo=timezone.utc)\n",
    "print(the_origin_of_unix_time)\n",
    "print(type(the_origin_of_unix_time))"
   ]
  },
  {
   "cell_type": "markdown",
   "metadata": {
    "slideshow": {
     "slide_type": "subslide"
    }
   },
   "source": [
    "## `timedelta` 日期、時間與日期時間之間的差距類別"
   ]
  },
  {
   "cell_type": "code",
   "execution_count": 5,
   "metadata": {},
   "outputs": [
    {
     "name": "stdout",
     "output_type": "stream",
     "text": [
      "1969-12-31 23:59:59+00:00\n"
     ]
    }
   ],
   "source": [
    "from datetime import timedelta\n",
    "\n",
    "print(the_origin_of_unix_time - timedelta(seconds=1))"
   ]
  },
  {
   "cell_type": "code",
   "execution_count": 6,
   "metadata": {},
   "outputs": [
    {
     "name": "stdout",
     "output_type": "stream",
     "text": [
      "1970-01-01 00:00:00+08:00\n",
      "<class 'datetime.datetime'>\n"
     ]
    }
   ],
   "source": [
    "taiwan_timezone = timedelta(hours=8)\n",
    "the_origin_of_unix_time_taiwan = datetime(1970, 1, 1, 0, 0, 0, tzinfo=timezone(taiwan_timezone))\n",
    "print(the_origin_of_unix_time_taiwan)\n",
    "print(type(the_origin_of_unix_time_taiwan))"
   ]
  },
  {
   "cell_type": "markdown",
   "metadata": {
    "slideshow": {
     "slide_type": "subslide"
    }
   },
   "source": [
    "## 由 `str` 轉換成為日期類別\n",
    "\n",
    "使用 `date.fromisoformat()`"
   ]
  },
  {
   "cell_type": "code",
   "execution_count": 7,
   "metadata": {},
   "outputs": [
    {
     "name": "stdout",
     "output_type": "stream",
     "text": [
      "<class 'str'>\n",
      "<class 'datetime.date'>\n"
     ]
    }
   ],
   "source": [
    "the_origin_of_unix_time = \"1970-01-01\"\n",
    "print(type(the_origin_of_unix_time))\n",
    "print(type(date.fromisoformat(the_origin_of_unix_time)))"
   ]
  },
  {
   "cell_type": "markdown",
   "metadata": {
    "slideshow": {
     "slide_type": "subslide"
    }
   },
   "source": [
    "## 由 `str` 轉換成為時間類別\n",
    "\n",
    "使用 `time.fromisoformat()`"
   ]
  },
  {
   "cell_type": "code",
   "execution_count": 8,
   "metadata": {},
   "outputs": [
    {
     "name": "stdout",
     "output_type": "stream",
     "text": [
      "<class 'str'>\n",
      "<class 'datetime.time'>\n"
     ]
    }
   ],
   "source": [
    "midnight = \"00:00:00\"\n",
    "print(type(midnight))\n",
    "print(type(time.fromisoformat(midnight)))"
   ]
  },
  {
   "cell_type": "markdown",
   "metadata": {
    "slideshow": {
     "slide_type": "subslide"
    }
   },
   "source": [
    "## 由 `str` 轉換成為日期時間類別\n",
    "\n",
    "使用 `datetime.fromisoformat()`"
   ]
  },
  {
   "cell_type": "code",
   "execution_count": 9,
   "metadata": {},
   "outputs": [
    {
     "name": "stdout",
     "output_type": "stream",
     "text": [
      "<class 'str'>\n",
      "<class 'datetime.datetime'>\n"
     ]
    }
   ],
   "source": [
    "the_origin_of_unix_time = \"1970-01-01 00:00:00+00:00\"\n",
    "print(type(the_origin_of_unix_time))\n",
    "print(type(datetime.fromisoformat(the_origin_of_unix_time)))"
   ]
  },
  {
   "cell_type": "markdown",
   "metadata": {
    "slideshow": {
     "slide_type": "subslide"
    }
   },
   "source": [
    "## 顯示與解析非 ISO 8601 的格式\n",
    "\n",
    "- 使用 `date.strftime()`、`time.strftime()` 或 `datetime.strftime()` 搭配格式文字顯示。\n",
    "- 使用 `datetime.strptime()` 搭配格式文字解析。"
   ]
  },
  {
   "cell_type": "markdown",
   "metadata": {
    "slideshow": {
     "slide_type": "subslide"
    }
   },
   "source": [
    "## 常用的格式文字\n",
    "\n",
    "- `\"%a\"`：縮寫的星期幾，從 Sun 至 Sat\n",
    "- `\"%A\"`：全稱的星期幾，從 Sunday 至 Saturday\n",
    "- `\"%b\"`：縮寫的月份，從 Jan 至 Dec\n",
    "- `\"%B\"`：全稱的月份，從 January 至 December\n",
    "- `\"%d\"`：月份中的第幾天，從 01 至 31\n",
    "- `\"%m\"`：以兩位數字表示的月份，從 01 至 12\n",
    "- `\"%Y\"`：以四位數字表示的西元年份，從 0 至 9999\n",
    "- `\"%H\"`：以兩位數字表示的小時，從 00 至 23\n",
    "- `\"%M\"`：以兩位數字表示的分鐘，從 00 至 59\n",
    "- `\"%S\"`：以兩位數字表示的秒數，從 00 至 61\n",
    "\n",
    "來源：<https://docs.python.org/3/library/datetime.html#strftime-and-strptime-format-codes>"
   ]
  },
  {
   "cell_type": "markdown",
   "metadata": {
    "slideshow": {
     "slide_type": "subslide"
    }
   },
   "source": [
    "## 使用 `date.strftime()`、`time.strftime()` 或 `datetime.strftime()` 搭配格式文字顯示"
   ]
  },
  {
   "cell_type": "code",
   "execution_count": 10,
   "metadata": {},
   "outputs": [
    {
     "name": "stdout",
     "output_type": "stream",
     "text": [
      "1970-01-01 00:00:00+00:00\n",
      "Thu 1970 Jan 01 00:00\n"
     ]
    }
   ],
   "source": [
    "the_origin_of_unix_time = datetime(1970, 1, 1, 0, 0, 0, tzinfo=timezone.utc)\n",
    "print(the_origin_of_unix_time)\n",
    "print(the_origin_of_unix_time.strftime(\"%a %Y %b %d %H:%M\"))"
   ]
  },
  {
   "cell_type": "code",
   "execution_count": 11,
   "metadata": {},
   "outputs": [
    {
     "name": "stdout",
     "output_type": "stream",
     "text": [
      "2022-01-01\n",
      "Saturday January 01, 2022\n"
     ]
    }
   ],
   "source": [
    "the_first_day_of_2022 = date(2022, 1, 1)\n",
    "print(the_first_day_of_2022)\n",
    "print(the_first_day_of_2022.strftime(\"%A %B %d, %Y\"))"
   ]
  },
  {
   "cell_type": "markdown",
   "metadata": {
    "slideshow": {
     "slide_type": "subslide"
    }
   },
   "source": [
    "## 使用 `datetime.strptime()` 搭配格式文字解析"
   ]
  },
  {
   "cell_type": "code",
   "execution_count": 12,
   "metadata": {},
   "outputs": [
    {
     "name": "stdout",
     "output_type": "stream",
     "text": [
      "<class 'str'>\n",
      "1970-01-01 00:00:00\n",
      "<class 'datetime.datetime'>\n"
     ]
    }
   ],
   "source": [
    "the_origin_of_unix_time = \"Thu 1970 Jan 01 00:00\"\n",
    "print(type(the_origin_of_unix_time))\n",
    "the_origin_of_unix_time = datetime.strptime(the_origin_of_unix_time, \"%a %Y %b %d %H:%M\")\n",
    "print(the_origin_of_unix_time)\n",
    "print(type(the_origin_of_unix_time))"
   ]
  },
  {
   "cell_type": "code",
   "execution_count": 13,
   "metadata": {},
   "outputs": [
    {
     "name": "stdout",
     "output_type": "stream",
     "text": [
      "<class 'str'>\n",
      "2022-01-01 00:00:00\n",
      "<class 'datetime.datetime'>\n"
     ]
    }
   ],
   "source": [
    "the_first_day_of_2022 = \"Saturday January 01, 2022\"\n",
    "print(type(the_first_day_of_2022))\n",
    "the_first_day_of_2022 = datetime.strptime(the_first_day_of_2022, \"%A %B %d, %Y\")\n",
    "print(the_first_day_of_2022)\n",
    "print(type(the_first_day_of_2022))"
   ]
  },
  {
   "cell_type": "markdown",
   "metadata": {
    "slideshow": {
     "slide_type": "slide"
    }
   },
   "source": [
    "## Pandas 的日期時間功能"
   ]
  },
  {
   "cell_type": "markdown",
   "metadata": {
    "slideshow": {
     "slide_type": "subslide"
    }
   },
   "source": [
    "## Pandas 的日期時間功能與 `datetime` 模組的不同\n",
    "\n",
    "- Pandas 採用的日期時間類別、差距類別是 NumPy 的 `datetime64` 與 `timedelta64`\n",
    "- Pandas 操作一欄日期時間的序列資料；`datetime` 模組操作一個日期時間的資料。"
   ]
  },
  {
   "cell_type": "markdown",
   "metadata": {
    "slideshow": {
     "slide_type": "subslide"
    }
   },
   "source": [
    "## Pandas 支援日期時間的轉換與生成\n",
    "\n",
    "- `pd.to_datetime()` 函數可以轉換文字 `Series` 為日期時間類別。\n",
    "- `pd.date_range()` 函數生成日期時間 `Index`"
   ]
  },
  {
   "cell_type": "markdown",
   "metadata": {
    "slideshow": {
     "slide_type": "subslide"
    }
   },
   "source": [
    "## `pd.to_datetime()` 函數可以轉換文字 `Series` 為日期時間類別"
   ]
  },
  {
   "cell_type": "code",
   "execution_count": 14,
   "metadata": {},
   "outputs": [
    {
     "name": "stdout",
     "output_type": "stream",
     "text": [
      "object\n",
      "datetime64[ns]\n"
     ]
    }
   ],
   "source": [
    "import pandas as pd\n",
    "\n",
    "first_day_of_years = pd.Series([\"1970-01-01\", \"2022-01-01\"])\n",
    "print(first_day_of_years.dtype)\n",
    "print(pd.to_datetime(first_day_of_years).dtype)"
   ]
  },
  {
   "cell_type": "markdown",
   "metadata": {
    "slideshow": {
     "slide_type": "subslide"
    }
   },
   "source": [
    "## `pd.date_range()` 函數生成日期時間 `Index`"
   ]
  },
  {
   "cell_type": "code",
   "execution_count": 15,
   "metadata": {},
   "outputs": [
    {
     "data": {
      "text/plain": [
       "DatetimeIndex(['1970-01-01', '1971-01-01', '1972-01-01', '1973-01-01',\n",
       "               '1974-01-01', '1975-01-01', '1976-01-01', '1977-01-01',\n",
       "               '1978-01-01', '1979-01-01', '1980-01-01', '1981-01-01',\n",
       "               '1982-01-01', '1983-01-01', '1984-01-01', '1985-01-01',\n",
       "               '1986-01-01', '1987-01-01', '1988-01-01', '1989-01-01',\n",
       "               '1990-01-01', '1991-01-01', '1992-01-01', '1993-01-01',\n",
       "               '1994-01-01', '1995-01-01', '1996-01-01', '1997-01-01',\n",
       "               '1998-01-01', '1999-01-01', '2000-01-01', '2001-01-01',\n",
       "               '2002-01-01', '2003-01-01', '2004-01-01', '2005-01-01',\n",
       "               '2006-01-01', '2007-01-01', '2008-01-01', '2009-01-01',\n",
       "               '2010-01-01', '2011-01-01', '2012-01-01', '2013-01-01',\n",
       "               '2014-01-01', '2015-01-01', '2016-01-01', '2017-01-01',\n",
       "               '2018-01-01', '2019-01-01', '2020-01-01', '2021-01-01',\n",
       "               '2022-01-01'],\n",
       "              dtype='datetime64[ns]', freq='AS-JAN')"
      ]
     },
     "execution_count": 15,
     "metadata": {},
     "output_type": "execute_result"
    }
   ],
   "source": [
    "first_day_of_years = pd.date_range(\"1970-01-01\", \"2022-01-01\", freq=\"AS\") # AS as in Annual Start\n",
    "first_day_of_years"
   ]
  },
  {
   "cell_type": "markdown",
   "metadata": {
    "slideshow": {
     "slide_type": "subslide"
    }
   },
   "source": [
    "## Pandas 支援差距的轉換與生成\n",
    "\n",
    "- `pd.to_timedelta()` 函數可以轉換文字 `Series` 為差距類別。\n",
    "- `pd.timedelta_range()` 函數生成差距 `Index`"
   ]
  },
  {
   "cell_type": "markdown",
   "metadata": {
    "slideshow": {
     "slide_type": "subslide"
    }
   },
   "source": [
    "## `pd.to_timedelta()` 函數可以轉換文字 `Series` 為差距類別"
   ]
  },
  {
   "cell_type": "code",
   "execution_count": 16,
   "metadata": {},
   "outputs": [
    {
     "name": "stdout",
     "output_type": "stream",
     "text": [
      "<class 'pandas._libs.tslibs.timedeltas.Timedelta'>\n",
      "DatetimeIndex(['1970-01-01 08:00:00', '2022-01-01 08:00:00'], dtype='datetime64[ns]', freq=None)\n"
     ]
    }
   ],
   "source": [
    "first_day_of_years = pd.to_datetime([\"1970-01-01 00:00:00\", \"2022-01-01 00:00:00\"])\n",
    "eight_hour_delta = pd.to_timedelta(\"08:00:00\")\n",
    "print(type(eight_hour_delta))\n",
    "print(first_day_of_years + eight_hour_delta)"
   ]
  },
  {
   "cell_type": "markdown",
   "metadata": {
    "slideshow": {
     "slide_type": "subslide"
    }
   },
   "source": [
    "## `pd.timedelta_range()` 函數生成差距 `Index`"
   ]
  },
  {
   "cell_type": "code",
   "execution_count": 17,
   "metadata": {},
   "outputs": [
    {
     "name": "stdout",
     "output_type": "stream",
     "text": [
      "<class 'pandas.core.indexes.timedeltas.TimedeltaIndex'>\n",
      "DatetimeIndex(['2022-01-02', '2022-01-03', '2022-01-04', '2022-01-05',\n",
      "               '2022-01-06', '2022-01-07', '2022-01-08'],\n",
      "              dtype='datetime64[ns]', freq='D')\n"
     ]
    }
   ],
   "source": [
    "the_first_day_of_2022 = pd.to_datetime(\"2022-01-01\")\n",
    "seven_days_delta_range = pd.timedelta_range(\"1 days\", \"7 days\")\n",
    "print(type(seven_days_delta_range))\n",
    "print(the_first_day_of_2022 + seven_days_delta_range)"
   ]
  },
  {
   "cell_type": "markdown",
   "metadata": {
    "slideshow": {
     "slide_type": "slide"
    }
   },
   "source": [
    "## 重點統整\n",
    "\n",
    "- Unix 時間是類 UNIX 作業系統（泛指 Linux 或 macOS）使用的時間表示方式：從 `1970-01-01 00:00:00 UTC` 起一直到此時此刻的總秒數。\n",
    "- ISO 8601 是國際標準化組織的日期、時間和日期時間的表示方法。\n",
    "    - 日期：YYYY-MM-DD\n",
    "    - 時間：hh:mm:ss\n",
    "    - 日期時間：YYYY-MM-DD hh:mm:ss"
   ]
  },
  {
   "cell_type": "markdown",
   "metadata": {
    "slideshow": {
     "slide_type": "subslide"
    }
   },
   "source": [
    "## 重點統整（續）\n",
    "\n",
    "- `datetime` 模組提供的常用類別\n",
    "    - `date` 日期類別。\n",
    "    - `time` 時間類別。\n",
    "    - `datetime` 日期時間類別，模組與類別名稱相同，避免混淆。\n",
    "    - `timezone` 時區類別。\n",
    "    - `timedelta` 日期、時間與日期時間之間的差距類別。"
   ]
  },
  {
   "cell_type": "markdown",
   "metadata": {
    "slideshow": {
     "slide_type": "subslide"
    }
   },
   "source": [
    "## 重點統整（續）\n",
    "\n",
    "- 使用 `date.strftime()`、`time.strftime()` 或 `datetime.strftime()` 搭配格式文字顯示。\n",
    "- 使用 `datetime.strptime()` 搭配格式文字解析。\n",
    "- Pandas 的日期時間功能與 `datetime` 模組的不同\n",
    "    - Pandas 採用的日期時間類別、差距類別是 NumPy 的 `datetime64` 與 `timedelta64`\n",
    "    - Pandas 操作一欄日期時間的序列資料；`datetime` 模組操作一個日期時間的資料。"
   ]
  }
 ],
 "metadata": {
  "celltoolbar": "Slideshow",
  "kernelspec": {
   "display_name": "Python Fifty Plus",
   "language": "python",
   "name": "pythonfiftyplus"
  },
  "language_info": {
   "codemirror_mode": {
    "name": "ipython",
    "version": 3
   },
   "file_extension": ".py",
   "mimetype": "text/x-python",
   "name": "python",
   "nbconvert_exporter": "python",
   "pygments_lexer": "ipython3",
   "version": "3.9.7"
  }
 },
 "nbformat": 4,
 "nbformat_minor": 4
}
