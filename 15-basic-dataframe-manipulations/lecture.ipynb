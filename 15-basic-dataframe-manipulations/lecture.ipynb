{
 "cells": [
  {
   "cell_type": "markdown",
   "metadata": {
    "slideshow": {
     "slide_type": "slide"
    }
   },
   "source": [
    "# Python 的 50+ 練習\n",
    "\n",
    "> 基礎資料框操作\n",
    "\n",
    "[數據交點](https://www.datainpoint.com/) | 郭耀仁 <yaojenkuo@datainpoint.com>"
   ]
  },
  {
   "cell_type": "markdown",
   "metadata": {
    "slideshow": {
     "slide_type": "subslide"
    }
   },
   "source": [
    "## 這個章節會登場的模組\n",
    "\n",
    "`pandas` 模組。"
   ]
  },
  {
   "cell_type": "markdown",
   "metadata": {
    "slideshow": {
     "slide_type": "slide"
    }
   },
   "source": [
    "## 關於基礎的資料框操作"
   ]
  },
  {
   "cell_type": "markdown",
   "metadata": {
    "slideshow": {
     "slide_type": "subslide"
    }
   },
   "source": [
    "## （複習）現代資料科學：以程式設計做資料科學的應用\n",
    "\n",
    "![](r-for-data-science.png)\n",
    "\n",
    "來源：[R for Data Science](https://r4ds.had.co.nz)"
   ]
  },
  {
   "cell_type": "markdown",
   "metadata": {
    "slideshow": {
     "slide_type": "subslide"
    }
   },
   "source": [
    "## （複習）什麼是資料科學的應用場景\n",
    "\n",
    "- Import 資料的載入。\n",
    "- **Tidy 資料清理**。\n",
    "- **Transform 資料外型與類別的轉換**。\n",
    "- Visualise 探索性分析。\n",
    "- Model 分析與預測模型。\n",
    "- Communicate 溝通分享。"
   ]
  },
  {
   "cell_type": "markdown",
   "metadata": {
    "slideshow": {
     "slide_type": "subslide"
    }
   },
   "source": [
    "## （沒什麼用的冷知識）Wrangle\n",
    "\n",
    "![](https://media.giphy.com/media/MnlZWRFHR4xruE4N2Z/giphy.gif)\n",
    "\n",
    "來源：<https://media.giphy.com/media/MnlZWRFHR4xruE4N2Z/giphy.gif>"
   ]
  },
  {
   "cell_type": "markdown",
   "metadata": {
    "slideshow": {
     "slide_type": "subslide"
    }
   },
   "source": [
    "## 機器學習專案花費 50% 的時間處理 Data Wrangle 的相關任務\n",
    "\n",
    "![](average-time-allocated.png)\n",
    "\n",
    "來源：<https://www.economist.com/technology-quarterly/2020/06/11/for-ai-data-are-harder-to-come-by-than-you-think>"
   ]
  },
  {
   "cell_type": "markdown",
   "metadata": {
    "slideshow": {
     "slide_type": "subslide"
    }
   },
   "source": [
    "## 多數的資料清理、資料外型與類別的轉換是面對 `DataFrame`\n",
    "\n",
    "（複習）入門 Pandas 的第一步就是掌握 `Index`、`ndarray`、`Series` 與 `DataFrame` 四個資料結構類別彼此之間的關係。\n",
    "- `Series` 由 `Index` 與 `ndarray` 組合而成。\n",
    "- `DataFrame` 由數個共享同一個 `Index` 的 `Series` 組合而成。"
   ]
  },
  {
   "cell_type": "markdown",
   "metadata": {
    "slideshow": {
     "slide_type": "subslide"
    }
   },
   "source": [
    "## `DataFrame` 是有兩個維度的資料結構\n",
    "\n",
    "- 第一個維度稱為觀測值（Observations），有時亦稱為列（Rows）\n",
    "- 第二個維度稱為變數（Variables），有時亦稱為欄（Columns）\n",
    "- 我們習慣以 `(m, n)` 或者 `m x n` 來描述一個具有 `m` 列觀測值、`n` 欄變數的 `DataFrame`"
   ]
  },
  {
   "cell_type": "code",
   "execution_count": 1,
   "metadata": {
    "slideshow": {
     "slide_type": "subslide"
    }
   },
   "outputs": [
    {
     "name": "stdout",
     "output_type": "stream",
     "text": [
      "(250, 6)\n",
      "(5, 6)\n"
     ]
    },
    {
     "data": {
      "text/html": [
       "<div>\n",
       "<style scoped>\n",
       "    .dataframe tbody tr th:only-of-type {\n",
       "        vertical-align: middle;\n",
       "    }\n",
       "\n",
       "    .dataframe tbody tr th {\n",
       "        vertical-align: top;\n",
       "    }\n",
       "\n",
       "    .dataframe thead th {\n",
       "        text-align: right;\n",
       "    }\n",
       "</style>\n",
       "<table border=\"1\" class=\"dataframe\">\n",
       "  <thead>\n",
       "    <tr style=\"text-align: right;\">\n",
       "      <th></th>\n",
       "      <th>id</th>\n",
       "      <th>title</th>\n",
       "      <th>release_year</th>\n",
       "      <th>rating</th>\n",
       "      <th>director</th>\n",
       "      <th>runtime</th>\n",
       "    </tr>\n",
       "  </thead>\n",
       "  <tbody>\n",
       "    <tr>\n",
       "      <th>0</th>\n",
       "      <td>1</td>\n",
       "      <td>The Shawshank Redemption</td>\n",
       "      <td>1994</td>\n",
       "      <td>9.3</td>\n",
       "      <td>Frank Darabont</td>\n",
       "      <td>142</td>\n",
       "    </tr>\n",
       "    <tr>\n",
       "      <th>1</th>\n",
       "      <td>2</td>\n",
       "      <td>The Godfather</td>\n",
       "      <td>1972</td>\n",
       "      <td>9.2</td>\n",
       "      <td>Francis Ford Coppola</td>\n",
       "      <td>175</td>\n",
       "    </tr>\n",
       "    <tr>\n",
       "      <th>2</th>\n",
       "      <td>3</td>\n",
       "      <td>The Godfather: Part II</td>\n",
       "      <td>1974</td>\n",
       "      <td>9.0</td>\n",
       "      <td>Francis Ford Coppola</td>\n",
       "      <td>202</td>\n",
       "    </tr>\n",
       "    <tr>\n",
       "      <th>3</th>\n",
       "      <td>4</td>\n",
       "      <td>The Dark Knight</td>\n",
       "      <td>2008</td>\n",
       "      <td>9.0</td>\n",
       "      <td>Christopher Nolan</td>\n",
       "      <td>152</td>\n",
       "    </tr>\n",
       "    <tr>\n",
       "      <th>4</th>\n",
       "      <td>5</td>\n",
       "      <td>12 Angry Men</td>\n",
       "      <td>1957</td>\n",
       "      <td>9.0</td>\n",
       "      <td>Sidney Lumet</td>\n",
       "      <td>96</td>\n",
       "    </tr>\n",
       "  </tbody>\n",
       "</table>\n",
       "</div>"
      ],
      "text/plain": [
       "   id                     title  release_year  rating              director  \\\n",
       "0   1  The Shawshank Redemption          1994     9.3        Frank Darabont   \n",
       "1   2             The Godfather          1972     9.2  Francis Ford Coppola   \n",
       "2   3    The Godfather: Part II          1974     9.0  Francis Ford Coppola   \n",
       "3   4           The Dark Knight          2008     9.0     Christopher Nolan   \n",
       "4   5              12 Angry Men          1957     9.0          Sidney Lumet   \n",
       "\n",
       "   runtime  \n",
       "0      142  \n",
       "1      175  \n",
       "2      202  \n",
       "3      152  \n",
       "4       96  "
      ]
     },
     "execution_count": 1,
     "metadata": {},
     "output_type": "execute_result"
    }
   ],
   "source": [
    "import pandas as pd\n",
    "\n",
    "movies = pd.read_csv(\"/home/jovyan/data/internet-movie-database/movies.csv\")\n",
    "print(movies.shape)\n",
    "print(movies.head().shape)\n",
    "movies.head() # just show the first 5 rows"
   ]
  },
  {
   "cell_type": "markdown",
   "metadata": {
    "slideshow": {
     "slide_type": "subslide"
    }
   },
   "source": [
    "## `DataFrame` 與二維 `ndarray` 不同的地方\n",
    "\n",
    "- `DataFrame` 的每個變數可以是異質的。\n",
    "- `DataFrame` 的觀測值具有列標籤（row-label）、變數具有欄標籤（column-label）"
   ]
  },
  {
   "cell_type": "code",
   "execution_count": 2,
   "metadata": {
    "slideshow": {
     "slide_type": "-"
    }
   },
   "outputs": [
    {
     "name": "stdout",
     "output_type": "stream",
     "text": [
      "id                int64\n",
      "title            object\n",
      "release_year      int64\n",
      "rating          float64\n",
      "director         object\n",
      "runtime           int64\n",
      "dtype: object\n",
      "RangeIndex(start=0, stop=250, step=1)\n",
      "Index(['id', 'title', 'release_year', 'rating', 'director', 'runtime'], dtype='object')\n"
     ]
    }
   ],
   "source": [
    "print(movies.dtypes)  # heterogeneous \n",
    "print(movies.index)   # row-label\n",
    "print(movies.columns) # column-label"
   ]
  },
  {
   "cell_type": "markdown",
   "metadata": {
    "slideshow": {
     "slide_type": "subslide"
    }
   },
   "source": [
    "## 什麼是乾淨資料\n",
    "\n",
    "1. 每個變數有自己的欄位。\n",
    "2. 每個觀測值有自己的資料列。\n",
    "3. 每個列、欄標籤與值的對應有自己的儲存格。\n",
    "\n",
    "![](tidy-data.png)\n",
    "\n",
    "來源：<https://r4ds.had.co.nz/tidy-data.html>"
   ]
  },
  {
   "cell_type": "markdown",
   "metadata": {
    "slideshow": {
     "slide_type": "subslide"
    }
   },
   "source": [
    "## 不乾淨資料有著各自的樣態\n",
    "\n",
    "> Tidy datasets are all alike, but every messy dataset is messy in its own way.\n",
    ">\n",
    "> Hadley Wickham\n",
    "\n",
    "來源：<https://r4ds.had.co.nz/tidy-data.html>"
   ]
  },
  {
   "cell_type": "markdown",
   "metadata": {
    "slideshow": {
     "slide_type": "subslide"
    }
   },
   "source": [
    "## 不乾淨資料"
   ]
  },
  {
   "cell_type": "code",
   "execution_count": 3,
   "metadata": {
    "slideshow": {
     "slide_type": "skip"
    }
   },
   "outputs": [],
   "source": [
    "messy_data = pd.DataFrame()\n",
    "messy_data[\"column_0\"] = [\"Luke Skywalker\\nAnakinSkywalker\", None]\n",
    "messy_data[\"column_1\"] = [\"Luke Skywalker, Mark Hamill\", \"Anakin Skywalker, Hayden Christensen\"]"
   ]
  },
  {
   "cell_type": "code",
   "execution_count": 4,
   "metadata": {
    "slideshow": {
     "slide_type": "-"
    }
   },
   "outputs": [
    {
     "data": {
      "text/html": [
       "<div>\n",
       "<style scoped>\n",
       "    .dataframe tbody tr th:only-of-type {\n",
       "        vertical-align: middle;\n",
       "    }\n",
       "\n",
       "    .dataframe tbody tr th {\n",
       "        vertical-align: top;\n",
       "    }\n",
       "\n",
       "    .dataframe thead th {\n",
       "        text-align: right;\n",
       "    }\n",
       "</style>\n",
       "<table border=\"1\" class=\"dataframe\">\n",
       "  <thead>\n",
       "    <tr style=\"text-align: right;\">\n",
       "      <th></th>\n",
       "      <th>column_0</th>\n",
       "      <th>column_1</th>\n",
       "    </tr>\n",
       "  </thead>\n",
       "  <tbody>\n",
       "    <tr>\n",
       "      <th>0</th>\n",
       "      <td>Luke Skywalker\\nAnakinSkywalker</td>\n",
       "      <td>Luke Skywalker, Mark Hamill</td>\n",
       "    </tr>\n",
       "    <tr>\n",
       "      <th>1</th>\n",
       "      <td>None</td>\n",
       "      <td>Anakin Skywalker, Hayden Christensen</td>\n",
       "    </tr>\n",
       "  </tbody>\n",
       "</table>\n",
       "</div>"
      ],
      "text/plain": [
       "                          column_0                              column_1\n",
       "0  Luke Skywalker\\nAnakinSkywalker           Luke Skywalker, Mark Hamill\n",
       "1                             None  Anakin Skywalker, Hayden Christensen"
      ]
     },
     "execution_count": 4,
     "metadata": {},
     "output_type": "execute_result"
    }
   ],
   "source": [
    "messy_data"
   ]
  },
  {
   "cell_type": "markdown",
   "metadata": {
    "slideshow": {
     "slide_type": "subslide"
    }
   },
   "source": [
    "## 乾淨資料"
   ]
  },
  {
   "cell_type": "code",
   "execution_count": 5,
   "metadata": {
    "slideshow": {
     "slide_type": "skip"
    }
   },
   "outputs": [],
   "source": [
    "tidy_data = pd.DataFrame()\n",
    "tidy_data[\"type\"] = [\"character\", \"character\", \"actor\", \"actor\"]\n",
    "tidy_data[\"first_name\"] = [\"Luke\", \"Anakin\", \"Mark\", \"Hayden\"]\n",
    "tidy_data[\"last_name\"] = [\"Skywalker\", \"Skywalker\", \"Hamill\", \"Christensen\"]"
   ]
  },
  {
   "cell_type": "code",
   "execution_count": 6,
   "metadata": {},
   "outputs": [
    {
     "data": {
      "text/html": [
       "<div>\n",
       "<style scoped>\n",
       "    .dataframe tbody tr th:only-of-type {\n",
       "        vertical-align: middle;\n",
       "    }\n",
       "\n",
       "    .dataframe tbody tr th {\n",
       "        vertical-align: top;\n",
       "    }\n",
       "\n",
       "    .dataframe thead th {\n",
       "        text-align: right;\n",
       "    }\n",
       "</style>\n",
       "<table border=\"1\" class=\"dataframe\">\n",
       "  <thead>\n",
       "    <tr style=\"text-align: right;\">\n",
       "      <th></th>\n",
       "      <th>type</th>\n",
       "      <th>first_name</th>\n",
       "      <th>last_name</th>\n",
       "    </tr>\n",
       "  </thead>\n",
       "  <tbody>\n",
       "    <tr>\n",
       "      <th>0</th>\n",
       "      <td>character</td>\n",
       "      <td>Luke</td>\n",
       "      <td>Skywalker</td>\n",
       "    </tr>\n",
       "    <tr>\n",
       "      <th>1</th>\n",
       "      <td>character</td>\n",
       "      <td>Anakin</td>\n",
       "      <td>Skywalker</td>\n",
       "    </tr>\n",
       "    <tr>\n",
       "      <th>2</th>\n",
       "      <td>actor</td>\n",
       "      <td>Mark</td>\n",
       "      <td>Hamill</td>\n",
       "    </tr>\n",
       "    <tr>\n",
       "      <th>3</th>\n",
       "      <td>actor</td>\n",
       "      <td>Hayden</td>\n",
       "      <td>Christensen</td>\n",
       "    </tr>\n",
       "  </tbody>\n",
       "</table>\n",
       "</div>"
      ],
      "text/plain": [
       "        type first_name    last_name\n",
       "0  character       Luke    Skywalker\n",
       "1  character     Anakin    Skywalker\n",
       "2      actor       Mark       Hamill\n",
       "3      actor     Hayden  Christensen"
      ]
     },
     "execution_count": 6,
     "metadata": {},
     "output_type": "execute_result"
    }
   ],
   "source": [
    "tidy_data"
   ]
  },
  {
   "cell_type": "markdown",
   "metadata": {
    "slideshow": {
     "slide_type": "subslide"
    }
   },
   "source": [
    "## Pandas 使用更直觀的概念操作資料\n",
    "\n",
    "- 如何定義「更直觀」？\n",
    "    - 像操作試算表一般（Spreadsheet-like）\n",
    "    - 像使用結構化查詢語言一般（SQL-like）"
   ]
  },
  {
   "cell_type": "markdown",
   "metadata": {
    "slideshow": {
     "slide_type": "slide"
    }
   },
   "source": [
    "## 選擇欄位"
   ]
  },
  {
   "cell_type": "markdown",
   "metadata": {
    "slideshow": {
     "slide_type": "subslide"
    }
   },
   "source": [
    "## 以 `DataFrame[\"column\"]` 選擇欄位成為外型 `(m,)` 的 `Series`"
   ]
  },
  {
   "cell_type": "code",
   "execution_count": 7,
   "metadata": {
    "slideshow": {
     "slide_type": "-"
    }
   },
   "outputs": [
    {
     "name": "stdout",
     "output_type": "stream",
     "text": [
      "<class 'pandas.core.series.Series'>\n",
      "(250,)\n"
     ]
    },
    {
     "data": {
      "text/plain": [
       "0                            The Shawshank Redemption\n",
       "1                                       The Godfather\n",
       "2                              The Godfather: Part II\n",
       "3                                     The Dark Knight\n",
       "4                                        12 Angry Men\n",
       "                            ...                      \n",
       "245    Neon Genesis Evangelion: The End of Evangelion\n",
       "246                                7 Kogustaki Mucize\n",
       "247                                        Tangerines\n",
       "248                                          Drishyam\n",
       "249                                            Swades\n",
       "Name: title, Length: 250, dtype: object"
      ]
     },
     "execution_count": 7,
     "metadata": {},
     "output_type": "execute_result"
    }
   ],
   "source": [
    "print(type(movies[\"title\"]))\n",
    "print(movies[\"title\"].shape)\n",
    "movies[\"title\"]"
   ]
  },
  {
   "cell_type": "markdown",
   "metadata": {
    "slideshow": {
     "slide_type": "subslide"
    }
   },
   "source": [
    "## 以 `DataFrame[[\"column\"]]` 選擇欄位成為外型 `(m, 1)` 的 `DataFrame`"
   ]
  },
  {
   "cell_type": "code",
   "execution_count": 8,
   "metadata": {
    "slideshow": {
     "slide_type": "-"
    }
   },
   "outputs": [
    {
     "name": "stdout",
     "output_type": "stream",
     "text": [
      "<class 'pandas.core.frame.DataFrame'>\n",
      "(250, 1)\n"
     ]
    },
    {
     "data": {
      "text/html": [
       "<div>\n",
       "<style scoped>\n",
       "    .dataframe tbody tr th:only-of-type {\n",
       "        vertical-align: middle;\n",
       "    }\n",
       "\n",
       "    .dataframe tbody tr th {\n",
       "        vertical-align: top;\n",
       "    }\n",
       "\n",
       "    .dataframe thead th {\n",
       "        text-align: right;\n",
       "    }\n",
       "</style>\n",
       "<table border=\"1\" class=\"dataframe\">\n",
       "  <thead>\n",
       "    <tr style=\"text-align: right;\">\n",
       "      <th></th>\n",
       "      <th>title</th>\n",
       "    </tr>\n",
       "  </thead>\n",
       "  <tbody>\n",
       "    <tr>\n",
       "      <th>0</th>\n",
       "      <td>The Shawshank Redemption</td>\n",
       "    </tr>\n",
       "    <tr>\n",
       "      <th>1</th>\n",
       "      <td>The Godfather</td>\n",
       "    </tr>\n",
       "    <tr>\n",
       "      <th>2</th>\n",
       "      <td>The Godfather: Part II</td>\n",
       "    </tr>\n",
       "    <tr>\n",
       "      <th>3</th>\n",
       "      <td>The Dark Knight</td>\n",
       "    </tr>\n",
       "    <tr>\n",
       "      <th>4</th>\n",
       "      <td>12 Angry Men</td>\n",
       "    </tr>\n",
       "    <tr>\n",
       "      <th>...</th>\n",
       "      <td>...</td>\n",
       "    </tr>\n",
       "    <tr>\n",
       "      <th>245</th>\n",
       "      <td>Neon Genesis Evangelion: The End of Evangelion</td>\n",
       "    </tr>\n",
       "    <tr>\n",
       "      <th>246</th>\n",
       "      <td>7 Kogustaki Mucize</td>\n",
       "    </tr>\n",
       "    <tr>\n",
       "      <th>247</th>\n",
       "      <td>Tangerines</td>\n",
       "    </tr>\n",
       "    <tr>\n",
       "      <th>248</th>\n",
       "      <td>Drishyam</td>\n",
       "    </tr>\n",
       "    <tr>\n",
       "      <th>249</th>\n",
       "      <td>Swades</td>\n",
       "    </tr>\n",
       "  </tbody>\n",
       "</table>\n",
       "<p>250 rows × 1 columns</p>\n",
       "</div>"
      ],
      "text/plain": [
       "                                              title\n",
       "0                          The Shawshank Redemption\n",
       "1                                     The Godfather\n",
       "2                            The Godfather: Part II\n",
       "3                                   The Dark Knight\n",
       "4                                      12 Angry Men\n",
       "..                                              ...\n",
       "245  Neon Genesis Evangelion: The End of Evangelion\n",
       "246                              7 Kogustaki Mucize\n",
       "247                                      Tangerines\n",
       "248                                        Drishyam\n",
       "249                                          Swades\n",
       "\n",
       "[250 rows x 1 columns]"
      ]
     },
     "execution_count": 8,
     "metadata": {},
     "output_type": "execute_result"
    }
   ],
   "source": [
    "print(type(movies[[\"title\"]]))\n",
    "print(movies[[\"title\"]].shape)\n",
    "movies[[\"title\"]]"
   ]
  },
  {
   "cell_type": "markdown",
   "metadata": {
    "slideshow": {
     "slide_type": "subslide"
    }
   },
   "source": [
    "## 以 `DataFrame[[\"column_0\", \"column_1\", ...]]` 選擇多個欄位成為外型 `(m, n)` 的 `DataFrame`\n",
    "\n",
    "運用 Fancy indexing 於欄位的選擇。"
   ]
  },
  {
   "cell_type": "code",
   "execution_count": 9,
   "metadata": {
    "slideshow": {
     "slide_type": "-"
    }
   },
   "outputs": [
    {
     "data": {
      "text/html": [
       "<div>\n",
       "<style scoped>\n",
       "    .dataframe tbody tr th:only-of-type {\n",
       "        vertical-align: middle;\n",
       "    }\n",
       "\n",
       "    .dataframe tbody tr th {\n",
       "        vertical-align: top;\n",
       "    }\n",
       "\n",
       "    .dataframe thead th {\n",
       "        text-align: right;\n",
       "    }\n",
       "</style>\n",
       "<table border=\"1\" class=\"dataframe\">\n",
       "  <thead>\n",
       "    <tr style=\"text-align: right;\">\n",
       "      <th></th>\n",
       "      <th>title</th>\n",
       "      <th>director</th>\n",
       "      <th>release_year</th>\n",
       "      <th>rating</th>\n",
       "    </tr>\n",
       "  </thead>\n",
       "  <tbody>\n",
       "    <tr>\n",
       "      <th>0</th>\n",
       "      <td>The Shawshank Redemption</td>\n",
       "      <td>Frank Darabont</td>\n",
       "      <td>1994</td>\n",
       "      <td>9.3</td>\n",
       "    </tr>\n",
       "    <tr>\n",
       "      <th>1</th>\n",
       "      <td>The Godfather</td>\n",
       "      <td>Francis Ford Coppola</td>\n",
       "      <td>1972</td>\n",
       "      <td>9.2</td>\n",
       "    </tr>\n",
       "    <tr>\n",
       "      <th>2</th>\n",
       "      <td>The Godfather: Part II</td>\n",
       "      <td>Francis Ford Coppola</td>\n",
       "      <td>1974</td>\n",
       "      <td>9.0</td>\n",
       "    </tr>\n",
       "    <tr>\n",
       "      <th>3</th>\n",
       "      <td>The Dark Knight</td>\n",
       "      <td>Christopher Nolan</td>\n",
       "      <td>2008</td>\n",
       "      <td>9.0</td>\n",
       "    </tr>\n",
       "    <tr>\n",
       "      <th>4</th>\n",
       "      <td>12 Angry Men</td>\n",
       "      <td>Sidney Lumet</td>\n",
       "      <td>1957</td>\n",
       "      <td>9.0</td>\n",
       "    </tr>\n",
       "    <tr>\n",
       "      <th>...</th>\n",
       "      <td>...</td>\n",
       "      <td>...</td>\n",
       "      <td>...</td>\n",
       "      <td>...</td>\n",
       "    </tr>\n",
       "    <tr>\n",
       "      <th>245</th>\n",
       "      <td>Neon Genesis Evangelion: The End of Evangelion</td>\n",
       "      <td>Hideaki Anno</td>\n",
       "      <td>1997</td>\n",
       "      <td>8.1</td>\n",
       "    </tr>\n",
       "    <tr>\n",
       "      <th>246</th>\n",
       "      <td>7 Kogustaki Mucize</td>\n",
       "      <td>Mehmet Ada Öztekin</td>\n",
       "      <td>2019</td>\n",
       "      <td>8.2</td>\n",
       "    </tr>\n",
       "    <tr>\n",
       "      <th>247</th>\n",
       "      <td>Tangerines</td>\n",
       "      <td>Zaza Urushadze</td>\n",
       "      <td>2013</td>\n",
       "      <td>8.2</td>\n",
       "    </tr>\n",
       "    <tr>\n",
       "      <th>248</th>\n",
       "      <td>Drishyam</td>\n",
       "      <td>Nishikant Kamat</td>\n",
       "      <td>2015</td>\n",
       "      <td>8.2</td>\n",
       "    </tr>\n",
       "    <tr>\n",
       "      <th>249</th>\n",
       "      <td>Swades</td>\n",
       "      <td>Ashutosh Gowariker</td>\n",
       "      <td>2004</td>\n",
       "      <td>8.2</td>\n",
       "    </tr>\n",
       "  </tbody>\n",
       "</table>\n",
       "<p>250 rows × 4 columns</p>\n",
       "</div>"
      ],
      "text/plain": [
       "                                              title              director  \\\n",
       "0                          The Shawshank Redemption        Frank Darabont   \n",
       "1                                     The Godfather  Francis Ford Coppola   \n",
       "2                            The Godfather: Part II  Francis Ford Coppola   \n",
       "3                                   The Dark Knight     Christopher Nolan   \n",
       "4                                      12 Angry Men          Sidney Lumet   \n",
       "..                                              ...                   ...   \n",
       "245  Neon Genesis Evangelion: The End of Evangelion          Hideaki Anno   \n",
       "246                              7 Kogustaki Mucize    Mehmet Ada Öztekin   \n",
       "247                                      Tangerines        Zaza Urushadze   \n",
       "248                                        Drishyam       Nishikant Kamat   \n",
       "249                                          Swades    Ashutosh Gowariker   \n",
       "\n",
       "     release_year  rating  \n",
       "0            1994     9.3  \n",
       "1            1972     9.2  \n",
       "2            1974     9.0  \n",
       "3            2008     9.0  \n",
       "4            1957     9.0  \n",
       "..            ...     ...  \n",
       "245          1997     8.1  \n",
       "246          2019     8.2  \n",
       "247          2013     8.2  \n",
       "248          2015     8.2  \n",
       "249          2004     8.2  \n",
       "\n",
       "[250 rows x 4 columns]"
      ]
     },
     "execution_count": 9,
     "metadata": {},
     "output_type": "execute_result"
    }
   ],
   "source": [
    "movies[[\"title\", \"director\", \"release_year\", \"rating\"]]"
   ]
  },
  {
   "cell_type": "markdown",
   "metadata": {
    "slideshow": {
     "slide_type": "subslide"
    }
   },
   "source": [
    "## 以 `DataFrame.loc[:, [column_0, column_1, ...]]` 選擇多個欄位成為外型 `(m, n)` 的 `DataFrame`\n",
    "\n",
    "- `loc` 是透過資料位置（Location）指定，也就是根據欄標籤選擇。\n",
    "- `:` 表示不針對資料列篩選。"
   ]
  },
  {
   "cell_type": "code",
   "execution_count": 10,
   "metadata": {},
   "outputs": [
    {
     "data": {
      "text/html": [
       "<div>\n",
       "<style scoped>\n",
       "    .dataframe tbody tr th:only-of-type {\n",
       "        vertical-align: middle;\n",
       "    }\n",
       "\n",
       "    .dataframe tbody tr th {\n",
       "        vertical-align: top;\n",
       "    }\n",
       "\n",
       "    .dataframe thead th {\n",
       "        text-align: right;\n",
       "    }\n",
       "</style>\n",
       "<table border=\"1\" class=\"dataframe\">\n",
       "  <thead>\n",
       "    <tr style=\"text-align: right;\">\n",
       "      <th></th>\n",
       "      <th>title</th>\n",
       "      <th>director</th>\n",
       "      <th>release_year</th>\n",
       "      <th>rating</th>\n",
       "    </tr>\n",
       "  </thead>\n",
       "  <tbody>\n",
       "    <tr>\n",
       "      <th>0</th>\n",
       "      <td>The Shawshank Redemption</td>\n",
       "      <td>Frank Darabont</td>\n",
       "      <td>1994</td>\n",
       "      <td>9.3</td>\n",
       "    </tr>\n",
       "    <tr>\n",
       "      <th>1</th>\n",
       "      <td>The Godfather</td>\n",
       "      <td>Francis Ford Coppola</td>\n",
       "      <td>1972</td>\n",
       "      <td>9.2</td>\n",
       "    </tr>\n",
       "    <tr>\n",
       "      <th>2</th>\n",
       "      <td>The Godfather: Part II</td>\n",
       "      <td>Francis Ford Coppola</td>\n",
       "      <td>1974</td>\n",
       "      <td>9.0</td>\n",
       "    </tr>\n",
       "    <tr>\n",
       "      <th>3</th>\n",
       "      <td>The Dark Knight</td>\n",
       "      <td>Christopher Nolan</td>\n",
       "      <td>2008</td>\n",
       "      <td>9.0</td>\n",
       "    </tr>\n",
       "    <tr>\n",
       "      <th>4</th>\n",
       "      <td>12 Angry Men</td>\n",
       "      <td>Sidney Lumet</td>\n",
       "      <td>1957</td>\n",
       "      <td>9.0</td>\n",
       "    </tr>\n",
       "    <tr>\n",
       "      <th>...</th>\n",
       "      <td>...</td>\n",
       "      <td>...</td>\n",
       "      <td>...</td>\n",
       "      <td>...</td>\n",
       "    </tr>\n",
       "    <tr>\n",
       "      <th>245</th>\n",
       "      <td>Neon Genesis Evangelion: The End of Evangelion</td>\n",
       "      <td>Hideaki Anno</td>\n",
       "      <td>1997</td>\n",
       "      <td>8.1</td>\n",
       "    </tr>\n",
       "    <tr>\n",
       "      <th>246</th>\n",
       "      <td>7 Kogustaki Mucize</td>\n",
       "      <td>Mehmet Ada Öztekin</td>\n",
       "      <td>2019</td>\n",
       "      <td>8.2</td>\n",
       "    </tr>\n",
       "    <tr>\n",
       "      <th>247</th>\n",
       "      <td>Tangerines</td>\n",
       "      <td>Zaza Urushadze</td>\n",
       "      <td>2013</td>\n",
       "      <td>8.2</td>\n",
       "    </tr>\n",
       "    <tr>\n",
       "      <th>248</th>\n",
       "      <td>Drishyam</td>\n",
       "      <td>Nishikant Kamat</td>\n",
       "      <td>2015</td>\n",
       "      <td>8.2</td>\n",
       "    </tr>\n",
       "    <tr>\n",
       "      <th>249</th>\n",
       "      <td>Swades</td>\n",
       "      <td>Ashutosh Gowariker</td>\n",
       "      <td>2004</td>\n",
       "      <td>8.2</td>\n",
       "    </tr>\n",
       "  </tbody>\n",
       "</table>\n",
       "<p>250 rows × 4 columns</p>\n",
       "</div>"
      ],
      "text/plain": [
       "                                              title              director  \\\n",
       "0                          The Shawshank Redemption        Frank Darabont   \n",
       "1                                     The Godfather  Francis Ford Coppola   \n",
       "2                            The Godfather: Part II  Francis Ford Coppola   \n",
       "3                                   The Dark Knight     Christopher Nolan   \n",
       "4                                      12 Angry Men          Sidney Lumet   \n",
       "..                                              ...                   ...   \n",
       "245  Neon Genesis Evangelion: The End of Evangelion          Hideaki Anno   \n",
       "246                              7 Kogustaki Mucize    Mehmet Ada Öztekin   \n",
       "247                                      Tangerines        Zaza Urushadze   \n",
       "248                                        Drishyam       Nishikant Kamat   \n",
       "249                                          Swades    Ashutosh Gowariker   \n",
       "\n",
       "     release_year  rating  \n",
       "0            1994     9.3  \n",
       "1            1972     9.2  \n",
       "2            1974     9.0  \n",
       "3            2008     9.0  \n",
       "4            1957     9.0  \n",
       "..            ...     ...  \n",
       "245          1997     8.1  \n",
       "246          2019     8.2  \n",
       "247          2013     8.2  \n",
       "248          2015     8.2  \n",
       "249          2004     8.2  \n",
       "\n",
       "[250 rows x 4 columns]"
      ]
     },
     "execution_count": 10,
     "metadata": {},
     "output_type": "execute_result"
    }
   ],
   "source": [
    "movies.loc[:, [\"title\", \"director\", \"release_year\", \"rating\"]]"
   ]
  },
  {
   "cell_type": "markdown",
   "metadata": {
    "slideshow": {
     "slide_type": "subslide"
    }
   },
   "source": [
    "## 以 `DataFrame.iloc[:, [0, 1, ...]]` 選擇多個欄位成為外型 `(m, n)` 的 `DataFrame`\n",
    "\n",
    "- `iloc` 是透過資料整數位置（Integer location）指定，也就是根據欄的整數位置選擇。\n",
    "- `:` 表示不針對資料列篩選。"
   ]
  },
  {
   "cell_type": "code",
   "execution_count": 11,
   "metadata": {},
   "outputs": [
    {
     "data": {
      "text/html": [
       "<div>\n",
       "<style scoped>\n",
       "    .dataframe tbody tr th:only-of-type {\n",
       "        vertical-align: middle;\n",
       "    }\n",
       "\n",
       "    .dataframe tbody tr th {\n",
       "        vertical-align: top;\n",
       "    }\n",
       "\n",
       "    .dataframe thead th {\n",
       "        text-align: right;\n",
       "    }\n",
       "</style>\n",
       "<table border=\"1\" class=\"dataframe\">\n",
       "  <thead>\n",
       "    <tr style=\"text-align: right;\">\n",
       "      <th></th>\n",
       "      <th>title</th>\n",
       "      <th>director</th>\n",
       "      <th>release_year</th>\n",
       "      <th>rating</th>\n",
       "    </tr>\n",
       "  </thead>\n",
       "  <tbody>\n",
       "    <tr>\n",
       "      <th>0</th>\n",
       "      <td>The Shawshank Redemption</td>\n",
       "      <td>Frank Darabont</td>\n",
       "      <td>1994</td>\n",
       "      <td>9.3</td>\n",
       "    </tr>\n",
       "    <tr>\n",
       "      <th>1</th>\n",
       "      <td>The Godfather</td>\n",
       "      <td>Francis Ford Coppola</td>\n",
       "      <td>1972</td>\n",
       "      <td>9.2</td>\n",
       "    </tr>\n",
       "    <tr>\n",
       "      <th>2</th>\n",
       "      <td>The Godfather: Part II</td>\n",
       "      <td>Francis Ford Coppola</td>\n",
       "      <td>1974</td>\n",
       "      <td>9.0</td>\n",
       "    </tr>\n",
       "    <tr>\n",
       "      <th>3</th>\n",
       "      <td>The Dark Knight</td>\n",
       "      <td>Christopher Nolan</td>\n",
       "      <td>2008</td>\n",
       "      <td>9.0</td>\n",
       "    </tr>\n",
       "    <tr>\n",
       "      <th>4</th>\n",
       "      <td>12 Angry Men</td>\n",
       "      <td>Sidney Lumet</td>\n",
       "      <td>1957</td>\n",
       "      <td>9.0</td>\n",
       "    </tr>\n",
       "    <tr>\n",
       "      <th>...</th>\n",
       "      <td>...</td>\n",
       "      <td>...</td>\n",
       "      <td>...</td>\n",
       "      <td>...</td>\n",
       "    </tr>\n",
       "    <tr>\n",
       "      <th>245</th>\n",
       "      <td>Neon Genesis Evangelion: The End of Evangelion</td>\n",
       "      <td>Hideaki Anno</td>\n",
       "      <td>1997</td>\n",
       "      <td>8.1</td>\n",
       "    </tr>\n",
       "    <tr>\n",
       "      <th>246</th>\n",
       "      <td>7 Kogustaki Mucize</td>\n",
       "      <td>Mehmet Ada Öztekin</td>\n",
       "      <td>2019</td>\n",
       "      <td>8.2</td>\n",
       "    </tr>\n",
       "    <tr>\n",
       "      <th>247</th>\n",
       "      <td>Tangerines</td>\n",
       "      <td>Zaza Urushadze</td>\n",
       "      <td>2013</td>\n",
       "      <td>8.2</td>\n",
       "    </tr>\n",
       "    <tr>\n",
       "      <th>248</th>\n",
       "      <td>Drishyam</td>\n",
       "      <td>Nishikant Kamat</td>\n",
       "      <td>2015</td>\n",
       "      <td>8.2</td>\n",
       "    </tr>\n",
       "    <tr>\n",
       "      <th>249</th>\n",
       "      <td>Swades</td>\n",
       "      <td>Ashutosh Gowariker</td>\n",
       "      <td>2004</td>\n",
       "      <td>8.2</td>\n",
       "    </tr>\n",
       "  </tbody>\n",
       "</table>\n",
       "<p>250 rows × 4 columns</p>\n",
       "</div>"
      ],
      "text/plain": [
       "                                              title              director  \\\n",
       "0                          The Shawshank Redemption        Frank Darabont   \n",
       "1                                     The Godfather  Francis Ford Coppola   \n",
       "2                            The Godfather: Part II  Francis Ford Coppola   \n",
       "3                                   The Dark Knight     Christopher Nolan   \n",
       "4                                      12 Angry Men          Sidney Lumet   \n",
       "..                                              ...                   ...   \n",
       "245  Neon Genesis Evangelion: The End of Evangelion          Hideaki Anno   \n",
       "246                              7 Kogustaki Mucize    Mehmet Ada Öztekin   \n",
       "247                                      Tangerines        Zaza Urushadze   \n",
       "248                                        Drishyam       Nishikant Kamat   \n",
       "249                                          Swades    Ashutosh Gowariker   \n",
       "\n",
       "     release_year  rating  \n",
       "0            1994     9.3  \n",
       "1            1972     9.2  \n",
       "2            1974     9.0  \n",
       "3            2008     9.0  \n",
       "4            1957     9.0  \n",
       "..            ...     ...  \n",
       "245          1997     8.1  \n",
       "246          2019     8.2  \n",
       "247          2013     8.2  \n",
       "248          2015     8.2  \n",
       "249          2004     8.2  \n",
       "\n",
       "[250 rows x 4 columns]"
      ]
     },
     "execution_count": 11,
     "metadata": {},
     "output_type": "execute_result"
    }
   ],
   "source": [
    "movies.iloc[:, [1, 4, 2, 3]]"
   ]
  },
  {
   "cell_type": "markdown",
   "metadata": {
    "slideshow": {
     "slide_type": "slide"
    }
   },
   "source": [
    "## 篩選資料列"
   ]
  },
  {
   "cell_type": "markdown",
   "metadata": {
    "slideshow": {
     "slide_type": "subslide"
    }
   },
   "source": [
    "## 善用 `Series` 的特性\n",
    "\n",
    "- `Series` 是由 `Index` 與 `ndarray` 組合而成，具備了 `ndarray` 的特性。\n",
    "- 善用元素操作（Elementwise）運算。\n",
    "- 善用特殊的 indexing 語法：Fancy indexing/Boolean indexing"
   ]
  },
  {
   "cell_type": "markdown",
   "metadata": {
    "slideshow": {
     "slide_type": "subslide"
    }
   },
   "source": [
    "## 透過列標籤（row-label）篩選資料列\n",
    "\n",
    "- 在 `movies` 中魔戒三部曲分別位於列標籤 6, 9, 13\n",
    "    - `loc` 是透過資料位置（Location）指定，也就是根據列標籤篩選。\n",
    "    - `:` 表示不針對欄位選擇。\n",
    "- 運用 Fancy indexing 於資料列的篩選。"
   ]
  },
  {
   "cell_type": "code",
   "execution_count": 12,
   "metadata": {},
   "outputs": [
    {
     "data": {
      "text/html": [
       "<div>\n",
       "<style scoped>\n",
       "    .dataframe tbody tr th:only-of-type {\n",
       "        vertical-align: middle;\n",
       "    }\n",
       "\n",
       "    .dataframe tbody tr th {\n",
       "        vertical-align: top;\n",
       "    }\n",
       "\n",
       "    .dataframe thead th {\n",
       "        text-align: right;\n",
       "    }\n",
       "</style>\n",
       "<table border=\"1\" class=\"dataframe\">\n",
       "  <thead>\n",
       "    <tr style=\"text-align: right;\">\n",
       "      <th></th>\n",
       "      <th>id</th>\n",
       "      <th>title</th>\n",
       "      <th>release_year</th>\n",
       "      <th>rating</th>\n",
       "      <th>director</th>\n",
       "      <th>runtime</th>\n",
       "    </tr>\n",
       "  </thead>\n",
       "  <tbody>\n",
       "    <tr>\n",
       "      <th>6</th>\n",
       "      <td>7</td>\n",
       "      <td>The Lord of the Rings: The Return of the King</td>\n",
       "      <td>2003</td>\n",
       "      <td>8.9</td>\n",
       "      <td>Peter Jackson</td>\n",
       "      <td>201</td>\n",
       "    </tr>\n",
       "    <tr>\n",
       "      <th>9</th>\n",
       "      <td>10</td>\n",
       "      <td>The Lord of the Rings: The Fellowship of the Ring</td>\n",
       "      <td>2001</td>\n",
       "      <td>8.8</td>\n",
       "      <td>Peter Jackson</td>\n",
       "      <td>178</td>\n",
       "    </tr>\n",
       "    <tr>\n",
       "      <th>13</th>\n",
       "      <td>14</td>\n",
       "      <td>The Lord of the Rings: The Two Towers</td>\n",
       "      <td>2002</td>\n",
       "      <td>8.7</td>\n",
       "      <td>Peter Jackson</td>\n",
       "      <td>179</td>\n",
       "    </tr>\n",
       "  </tbody>\n",
       "</table>\n",
       "</div>"
      ],
      "text/plain": [
       "    id                                              title  release_year  \\\n",
       "6    7      The Lord of the Rings: The Return of the King          2003   \n",
       "9   10  The Lord of the Rings: The Fellowship of the Ring          2001   \n",
       "13  14              The Lord of the Rings: The Two Towers          2002   \n",
       "\n",
       "    rating       director  runtime  \n",
       "6      8.9  Peter Jackson      201  \n",
       "9      8.8  Peter Jackson      178  \n",
       "13     8.7  Peter Jackson      179  "
      ]
     },
     "execution_count": 12,
     "metadata": {},
     "output_type": "execute_result"
    }
   ],
   "source": [
    "movies.loc[[6, 9, 13], :]"
   ]
  },
  {
   "cell_type": "markdown",
   "metadata": {
    "slideshow": {
     "slide_type": "subslide"
    }
   },
   "source": [
    "## 以 `DataFrame.iloc[[0, 1, ...], :]` 選擇多個資料列\n",
    "\n",
    "- 在 `lord_of_the_rings` 中第一集與第三集分別位於第 0, 1 列。\n",
    "    - `iloc` 是透過資料整數位置（Integer location）指定，也就是根據列的整數位置篩選。\n",
    "    - `:` 表示不針對欄位選擇。\n",
    "- 運用 Fancy indexing 於資料列的篩選。"
   ]
  },
  {
   "cell_type": "code",
   "execution_count": 13,
   "metadata": {},
   "outputs": [
    {
     "data": {
      "text/html": [
       "<div>\n",
       "<style scoped>\n",
       "    .dataframe tbody tr th:only-of-type {\n",
       "        vertical-align: middle;\n",
       "    }\n",
       "\n",
       "    .dataframe tbody tr th {\n",
       "        vertical-align: top;\n",
       "    }\n",
       "\n",
       "    .dataframe thead th {\n",
       "        text-align: right;\n",
       "    }\n",
       "</style>\n",
       "<table border=\"1\" class=\"dataframe\">\n",
       "  <thead>\n",
       "    <tr style=\"text-align: right;\">\n",
       "      <th></th>\n",
       "      <th>id</th>\n",
       "      <th>title</th>\n",
       "      <th>release_year</th>\n",
       "      <th>rating</th>\n",
       "      <th>director</th>\n",
       "      <th>runtime</th>\n",
       "    </tr>\n",
       "  </thead>\n",
       "  <tbody>\n",
       "    <tr>\n",
       "      <th>6</th>\n",
       "      <td>7</td>\n",
       "      <td>The Lord of the Rings: The Return of the King</td>\n",
       "      <td>2003</td>\n",
       "      <td>8.9</td>\n",
       "      <td>Peter Jackson</td>\n",
       "      <td>201</td>\n",
       "    </tr>\n",
       "    <tr>\n",
       "      <th>9</th>\n",
       "      <td>10</td>\n",
       "      <td>The Lord of the Rings: The Fellowship of the Ring</td>\n",
       "      <td>2001</td>\n",
       "      <td>8.8</td>\n",
       "      <td>Peter Jackson</td>\n",
       "      <td>178</td>\n",
       "    </tr>\n",
       "  </tbody>\n",
       "</table>\n",
       "</div>"
      ],
      "text/plain": [
       "   id                                              title  release_year  \\\n",
       "6   7      The Lord of the Rings: The Return of the King          2003   \n",
       "9  10  The Lord of the Rings: The Fellowship of the Ring          2001   \n",
       "\n",
       "   rating       director  runtime  \n",
       "6     8.9  Peter Jackson      201  \n",
       "9     8.8  Peter Jackson      178  "
      ]
     },
     "execution_count": 13,
     "metadata": {},
     "output_type": "execute_result"
    }
   ],
   "source": [
    "lord_of_the_rings = movies.loc[[6, 9, 13], :]\n",
    "lord_of_the_rings.iloc[[0, 1], :]"
   ]
  },
  {
   "cell_type": "markdown",
   "metadata": {
    "slideshow": {
     "slide_type": "subslide"
    }
   },
   "source": [
    "## 區分 `DataFrame` 的兩種索引語法\n",
    "\n",
    "- `DataFrame.loc[row-label, column-label]` 以列、欄標籤為準。\n",
    "- `DataFrame.iloc[row-integer-location, column-integer-location]` 以列、欄整數位置為準。"
   ]
  },
  {
   "cell_type": "markdown",
   "metadata": {
    "slideshow": {
     "slide_type": "subslide"
    }
   },
   "source": [
    "## 透過條件敘述以 `DataFrame[booleans]` 篩選資料列\n",
    "\n",
    "- 運用 Boolean indexing 於資料列的篩選。\n",
    "- 熟悉之後會直接將條件敘述寫在中括號裡。"
   ]
  },
  {
   "cell_type": "code",
   "execution_count": 14,
   "metadata": {},
   "outputs": [
    {
     "data": {
      "text/html": [
       "<div>\n",
       "<style scoped>\n",
       "    .dataframe tbody tr th:only-of-type {\n",
       "        vertical-align: middle;\n",
       "    }\n",
       "\n",
       "    .dataframe tbody tr th {\n",
       "        vertical-align: top;\n",
       "    }\n",
       "\n",
       "    .dataframe thead th {\n",
       "        text-align: right;\n",
       "    }\n",
       "</style>\n",
       "<table border=\"1\" class=\"dataframe\">\n",
       "  <thead>\n",
       "    <tr style=\"text-align: right;\">\n",
       "      <th></th>\n",
       "      <th>id</th>\n",
       "      <th>title</th>\n",
       "      <th>release_year</th>\n",
       "      <th>rating</th>\n",
       "      <th>director</th>\n",
       "      <th>runtime</th>\n",
       "    </tr>\n",
       "  </thead>\n",
       "  <tbody>\n",
       "    <tr>\n",
       "      <th>6</th>\n",
       "      <td>7</td>\n",
       "      <td>The Lord of the Rings: The Return of the King</td>\n",
       "      <td>2003</td>\n",
       "      <td>8.9</td>\n",
       "      <td>Peter Jackson</td>\n",
       "      <td>201</td>\n",
       "    </tr>\n",
       "    <tr>\n",
       "      <th>9</th>\n",
       "      <td>10</td>\n",
       "      <td>The Lord of the Rings: The Fellowship of the Ring</td>\n",
       "      <td>2001</td>\n",
       "      <td>8.8</td>\n",
       "      <td>Peter Jackson</td>\n",
       "      <td>178</td>\n",
       "    </tr>\n",
       "    <tr>\n",
       "      <th>13</th>\n",
       "      <td>14</td>\n",
       "      <td>The Lord of the Rings: The Two Towers</td>\n",
       "      <td>2002</td>\n",
       "      <td>8.7</td>\n",
       "      <td>Peter Jackson</td>\n",
       "      <td>179</td>\n",
       "    </tr>\n",
       "  </tbody>\n",
       "</table>\n",
       "</div>"
      ],
      "text/plain": [
       "    id                                              title  release_year  \\\n",
       "6    7      The Lord of the Rings: The Return of the King          2003   \n",
       "9   10  The Lord of the Rings: The Fellowship of the Ring          2001   \n",
       "13  14              The Lord of the Rings: The Two Towers          2002   \n",
       "\n",
       "    rating       director  runtime  \n",
       "6      8.9  Peter Jackson      201  \n",
       "9      8.8  Peter Jackson      178  \n",
       "13     8.7  Peter Jackson      179  "
      ]
     },
     "execution_count": 14,
     "metadata": {},
     "output_type": "execute_result"
    }
   ],
   "source": [
    "boolean_series = movies[\"director\"] == \"Peter Jackson\"\n",
    "movies[boolean_series] # movies[movies[\"director\"] == \"Peter Jackson\"]"
   ]
  },
  {
   "cell_type": "markdown",
   "metadata": {
    "slideshow": {
     "slide_type": "subslide"
    }
   },
   "source": [
    "## 如何負面表列（negate）由 `bool` 組成的 Series\n",
    "\n",
    "- 使用相反的關係運算符 `==` vs. `!=`\n",
    "- 使用 `~` 運算符。"
   ]
  },
  {
   "cell_type": "code",
   "execution_count": 15,
   "metadata": {},
   "outputs": [
    {
     "name": "stdout",
     "output_type": "stream",
     "text": [
      "247\n",
      "247\n"
     ]
    }
   ],
   "source": [
    "boolean_series = movies[\"director\"] != \"Peter Jackson\"\n",
    "print(boolean_series.sum())\n",
    "boolean_series = movies[\"director\"] == \"Peter Jackson\"\n",
    "print((~boolean_series).sum())"
   ]
  },
  {
   "cell_type": "markdown",
   "metadata": {
    "slideshow": {
     "slide_type": "subslide"
    }
   },
   "source": [
    "## 加入多個條件敘述篩選資料列\n",
    "\n",
    "- 運用 `&` 運算符**交集**多個條件敘述。\n",
    "- 運用 `|` 運算符**聯集**多個條件敘述。"
   ]
  },
  {
   "cell_type": "markdown",
   "metadata": {
    "slideshow": {
     "slide_type": "subslide"
    }
   },
   "source": [
    "## 運用 `&` 運算符交集多個條件敘述"
   ]
  },
  {
   "cell_type": "code",
   "execution_count": 16,
   "metadata": {},
   "outputs": [
    {
     "data": {
      "text/plain": [
       "0       True\n",
       "1      False\n",
       "2      False\n",
       "3      False\n",
       "4      False\n",
       "       ...  \n",
       "245    False\n",
       "246    False\n",
       "247    False\n",
       "248    False\n",
       "249    False\n",
       "Length: 250, dtype: bool"
      ]
     },
     "execution_count": 16,
     "metadata": {},
     "output_type": "execute_result"
    }
   ],
   "source": [
    "(movies[\"release_year\"] == 1994) & (movies[\"rating\"] >= 8.8)"
   ]
  },
  {
   "cell_type": "code",
   "execution_count": 17,
   "metadata": {
    "slideshow": {
     "slide_type": "-"
    }
   },
   "outputs": [
    {
     "data": {
      "text/html": [
       "<div>\n",
       "<style scoped>\n",
       "    .dataframe tbody tr th:only-of-type {\n",
       "        vertical-align: middle;\n",
       "    }\n",
       "\n",
       "    .dataframe tbody tr th {\n",
       "        vertical-align: top;\n",
       "    }\n",
       "\n",
       "    .dataframe thead th {\n",
       "        text-align: right;\n",
       "    }\n",
       "</style>\n",
       "<table border=\"1\" class=\"dataframe\">\n",
       "  <thead>\n",
       "    <tr style=\"text-align: right;\">\n",
       "      <th></th>\n",
       "      <th>id</th>\n",
       "      <th>title</th>\n",
       "      <th>release_year</th>\n",
       "      <th>rating</th>\n",
       "      <th>director</th>\n",
       "      <th>runtime</th>\n",
       "    </tr>\n",
       "  </thead>\n",
       "  <tbody>\n",
       "    <tr>\n",
       "      <th>0</th>\n",
       "      <td>1</td>\n",
       "      <td>The Shawshank Redemption</td>\n",
       "      <td>1994</td>\n",
       "      <td>9.3</td>\n",
       "      <td>Frank Darabont</td>\n",
       "      <td>142</td>\n",
       "    </tr>\n",
       "    <tr>\n",
       "      <th>7</th>\n",
       "      <td>8</td>\n",
       "      <td>Pulp Fiction</td>\n",
       "      <td>1994</td>\n",
       "      <td>8.9</td>\n",
       "      <td>Quentin Tarantino</td>\n",
       "      <td>154</td>\n",
       "    </tr>\n",
       "    <tr>\n",
       "      <th>11</th>\n",
       "      <td>12</td>\n",
       "      <td>Forrest Gump</td>\n",
       "      <td>1994</td>\n",
       "      <td>8.8</td>\n",
       "      <td>Robert Zemeckis</td>\n",
       "      <td>142</td>\n",
       "    </tr>\n",
       "  </tbody>\n",
       "</table>\n",
       "</div>"
      ],
      "text/plain": [
       "    id                     title  release_year  rating           director  \\\n",
       "0    1  The Shawshank Redemption          1994     9.3     Frank Darabont   \n",
       "7    8              Pulp Fiction          1994     8.9  Quentin Tarantino   \n",
       "11  12              Forrest Gump          1994     8.8    Robert Zemeckis   \n",
       "\n",
       "    runtime  \n",
       "0       142  \n",
       "7       154  \n",
       "11      142  "
      ]
     },
     "execution_count": 17,
     "metadata": {},
     "output_type": "execute_result"
    }
   ],
   "source": [
    "movies[(movies[\"release_year\"] == 1994) & (movies[\"rating\"] >= 8.8)] # movies released in 1994 with amazing rating score"
   ]
  },
  {
   "cell_type": "markdown",
   "metadata": {
    "slideshow": {
     "slide_type": "subslide"
    }
   },
   "source": [
    "## 運用 `|` 運算符聯集多個條件敘述"
   ]
  },
  {
   "cell_type": "code",
   "execution_count": 18,
   "metadata": {},
   "outputs": [
    {
     "data": {
      "text/plain": [
       "0       True\n",
       "1       True\n",
       "2       True\n",
       "3       True\n",
       "4       True\n",
       "       ...  \n",
       "245    False\n",
       "246    False\n",
       "247    False\n",
       "248    False\n",
       "249    False\n",
       "Length: 250, dtype: bool"
      ]
     },
     "execution_count": 18,
     "metadata": {},
     "output_type": "execute_result"
    }
   ],
   "source": [
    "(movies[\"release_year\"] == 1994) | (movies[\"rating\"] >= 8.8)"
   ]
  },
  {
   "cell_type": "code",
   "execution_count": 19,
   "metadata": {},
   "outputs": [
    {
     "data": {
      "text/html": [
       "<div>\n",
       "<style scoped>\n",
       "    .dataframe tbody tr th:only-of-type {\n",
       "        vertical-align: middle;\n",
       "    }\n",
       "\n",
       "    .dataframe tbody tr th {\n",
       "        vertical-align: top;\n",
       "    }\n",
       "\n",
       "    .dataframe thead th {\n",
       "        text-align: right;\n",
       "    }\n",
       "</style>\n",
       "<table border=\"1\" class=\"dataframe\">\n",
       "  <thead>\n",
       "    <tr style=\"text-align: right;\">\n",
       "      <th></th>\n",
       "      <th>id</th>\n",
       "      <th>title</th>\n",
       "      <th>release_year</th>\n",
       "      <th>rating</th>\n",
       "      <th>director</th>\n",
       "      <th>runtime</th>\n",
       "    </tr>\n",
       "  </thead>\n",
       "  <tbody>\n",
       "    <tr>\n",
       "      <th>0</th>\n",
       "      <td>1</td>\n",
       "      <td>The Shawshank Redemption</td>\n",
       "      <td>1994</td>\n",
       "      <td>9.3</td>\n",
       "      <td>Frank Darabont</td>\n",
       "      <td>142</td>\n",
       "    </tr>\n",
       "    <tr>\n",
       "      <th>1</th>\n",
       "      <td>2</td>\n",
       "      <td>The Godfather</td>\n",
       "      <td>1972</td>\n",
       "      <td>9.2</td>\n",
       "      <td>Francis Ford Coppola</td>\n",
       "      <td>175</td>\n",
       "    </tr>\n",
       "    <tr>\n",
       "      <th>2</th>\n",
       "      <td>3</td>\n",
       "      <td>The Godfather: Part II</td>\n",
       "      <td>1974</td>\n",
       "      <td>9.0</td>\n",
       "      <td>Francis Ford Coppola</td>\n",
       "      <td>202</td>\n",
       "    </tr>\n",
       "    <tr>\n",
       "      <th>3</th>\n",
       "      <td>4</td>\n",
       "      <td>The Dark Knight</td>\n",
       "      <td>2008</td>\n",
       "      <td>9.0</td>\n",
       "      <td>Christopher Nolan</td>\n",
       "      <td>152</td>\n",
       "    </tr>\n",
       "    <tr>\n",
       "      <th>4</th>\n",
       "      <td>5</td>\n",
       "      <td>12 Angry Men</td>\n",
       "      <td>1957</td>\n",
       "      <td>9.0</td>\n",
       "      <td>Sidney Lumet</td>\n",
       "      <td>96</td>\n",
       "    </tr>\n",
       "    <tr>\n",
       "      <th>5</th>\n",
       "      <td>6</td>\n",
       "      <td>Schindler's List</td>\n",
       "      <td>1993</td>\n",
       "      <td>8.9</td>\n",
       "      <td>Steven Spielberg</td>\n",
       "      <td>195</td>\n",
       "    </tr>\n",
       "    <tr>\n",
       "      <th>6</th>\n",
       "      <td>7</td>\n",
       "      <td>The Lord of the Rings: The Return of the King</td>\n",
       "      <td>2003</td>\n",
       "      <td>8.9</td>\n",
       "      <td>Peter Jackson</td>\n",
       "      <td>201</td>\n",
       "    </tr>\n",
       "    <tr>\n",
       "      <th>7</th>\n",
       "      <td>8</td>\n",
       "      <td>Pulp Fiction</td>\n",
       "      <td>1994</td>\n",
       "      <td>8.9</td>\n",
       "      <td>Quentin Tarantino</td>\n",
       "      <td>154</td>\n",
       "    </tr>\n",
       "    <tr>\n",
       "      <th>8</th>\n",
       "      <td>9</td>\n",
       "      <td>The Good, the Bad and the Ugly</td>\n",
       "      <td>1966</td>\n",
       "      <td>8.8</td>\n",
       "      <td>Sergio Leone</td>\n",
       "      <td>178</td>\n",
       "    </tr>\n",
       "    <tr>\n",
       "      <th>9</th>\n",
       "      <td>10</td>\n",
       "      <td>The Lord of the Rings: The Fellowship of the Ring</td>\n",
       "      <td>2001</td>\n",
       "      <td>8.8</td>\n",
       "      <td>Peter Jackson</td>\n",
       "      <td>178</td>\n",
       "    </tr>\n",
       "    <tr>\n",
       "      <th>10</th>\n",
       "      <td>11</td>\n",
       "      <td>Fight Club</td>\n",
       "      <td>1999</td>\n",
       "      <td>8.8</td>\n",
       "      <td>David Fincher</td>\n",
       "      <td>139</td>\n",
       "    </tr>\n",
       "    <tr>\n",
       "      <th>11</th>\n",
       "      <td>12</td>\n",
       "      <td>Forrest Gump</td>\n",
       "      <td>1994</td>\n",
       "      <td>8.8</td>\n",
       "      <td>Robert Zemeckis</td>\n",
       "      <td>142</td>\n",
       "    </tr>\n",
       "    <tr>\n",
       "      <th>12</th>\n",
       "      <td>13</td>\n",
       "      <td>Inception</td>\n",
       "      <td>2010</td>\n",
       "      <td>8.8</td>\n",
       "      <td>Christopher Nolan</td>\n",
       "      <td>148</td>\n",
       "    </tr>\n",
       "    <tr>\n",
       "      <th>30</th>\n",
       "      <td>31</td>\n",
       "      <td>Léon: The Professional</td>\n",
       "      <td>1994</td>\n",
       "      <td>8.5</td>\n",
       "      <td>Luc Besson</td>\n",
       "      <td>110</td>\n",
       "    </tr>\n",
       "    <tr>\n",
       "      <th>33</th>\n",
       "      <td>34</td>\n",
       "      <td>The Lion King</td>\n",
       "      <td>1994</td>\n",
       "      <td>8.5</td>\n",
       "      <td>Roger Allers</td>\n",
       "      <td>88</td>\n",
       "    </tr>\n",
       "  </tbody>\n",
       "</table>\n",
       "</div>"
      ],
      "text/plain": [
       "    id                                              title  release_year  \\\n",
       "0    1                           The Shawshank Redemption          1994   \n",
       "1    2                                      The Godfather          1972   \n",
       "2    3                             The Godfather: Part II          1974   \n",
       "3    4                                    The Dark Knight          2008   \n",
       "4    5                                       12 Angry Men          1957   \n",
       "5    6                                   Schindler's List          1993   \n",
       "6    7      The Lord of the Rings: The Return of the King          2003   \n",
       "7    8                                       Pulp Fiction          1994   \n",
       "8    9                     The Good, the Bad and the Ugly          1966   \n",
       "9   10  The Lord of the Rings: The Fellowship of the Ring          2001   \n",
       "10  11                                         Fight Club          1999   \n",
       "11  12                                       Forrest Gump          1994   \n",
       "12  13                                          Inception          2010   \n",
       "30  31                             Léon: The Professional          1994   \n",
       "33  34                                      The Lion King          1994   \n",
       "\n",
       "    rating              director  runtime  \n",
       "0      9.3        Frank Darabont      142  \n",
       "1      9.2  Francis Ford Coppola      175  \n",
       "2      9.0  Francis Ford Coppola      202  \n",
       "3      9.0     Christopher Nolan      152  \n",
       "4      9.0          Sidney Lumet       96  \n",
       "5      8.9      Steven Spielberg      195  \n",
       "6      8.9         Peter Jackson      201  \n",
       "7      8.9     Quentin Tarantino      154  \n",
       "8      8.8          Sergio Leone      178  \n",
       "9      8.8         Peter Jackson      178  \n",
       "10     8.8         David Fincher      139  \n",
       "11     8.8       Robert Zemeckis      142  \n",
       "12     8.8     Christopher Nolan      148  \n",
       "30     8.5            Luc Besson      110  \n",
       "33     8.5          Roger Allers       88  "
      ]
     },
     "execution_count": 19,
     "metadata": {},
     "output_type": "execute_result"
    }
   ],
   "source": [
    "movies[(movies[\"release_year\"] == 1994) | (movies[\"rating\"] >= 8.8)]"
   ]
  },
  {
   "cell_type": "markdown",
   "metadata": {
    "slideshow": {
     "slide_type": "subslide"
    }
   },
   "source": [
    "## 運用 `Series.isin()` 聯集單一變數的多個條件"
   ]
  },
  {
   "cell_type": "code",
   "execution_count": 20,
   "metadata": {},
   "outputs": [
    {
     "data": {
      "text/html": [
       "<div>\n",
       "<style scoped>\n",
       "    .dataframe tbody tr th:only-of-type {\n",
       "        vertical-align: middle;\n",
       "    }\n",
       "\n",
       "    .dataframe tbody tr th {\n",
       "        vertical-align: top;\n",
       "    }\n",
       "\n",
       "    .dataframe thead th {\n",
       "        text-align: right;\n",
       "    }\n",
       "</style>\n",
       "<table border=\"1\" class=\"dataframe\">\n",
       "  <thead>\n",
       "    <tr style=\"text-align: right;\">\n",
       "      <th></th>\n",
       "      <th>id</th>\n",
       "      <th>title</th>\n",
       "      <th>release_year</th>\n",
       "      <th>rating</th>\n",
       "      <th>director</th>\n",
       "      <th>runtime</th>\n",
       "    </tr>\n",
       "  </thead>\n",
       "  <tbody>\n",
       "    <tr>\n",
       "      <th>6</th>\n",
       "      <td>7</td>\n",
       "      <td>The Lord of the Rings: The Return of the King</td>\n",
       "      <td>2003</td>\n",
       "      <td>8.9</td>\n",
       "      <td>Peter Jackson</td>\n",
       "      <td>201</td>\n",
       "    </tr>\n",
       "    <tr>\n",
       "      <th>7</th>\n",
       "      <td>8</td>\n",
       "      <td>Pulp Fiction</td>\n",
       "      <td>1994</td>\n",
       "      <td>8.9</td>\n",
       "      <td>Quentin Tarantino</td>\n",
       "      <td>154</td>\n",
       "    </tr>\n",
       "    <tr>\n",
       "      <th>9</th>\n",
       "      <td>10</td>\n",
       "      <td>The Lord of the Rings: The Fellowship of the Ring</td>\n",
       "      <td>2001</td>\n",
       "      <td>8.8</td>\n",
       "      <td>Peter Jackson</td>\n",
       "      <td>178</td>\n",
       "    </tr>\n",
       "    <tr>\n",
       "      <th>13</th>\n",
       "      <td>14</td>\n",
       "      <td>The Lord of the Rings: The Two Towers</td>\n",
       "      <td>2002</td>\n",
       "      <td>8.7</td>\n",
       "      <td>Peter Jackson</td>\n",
       "      <td>179</td>\n",
       "    </tr>\n",
       "    <tr>\n",
       "      <th>56</th>\n",
       "      <td>57</td>\n",
       "      <td>Django Unchained</td>\n",
       "      <td>2012</td>\n",
       "      <td>8.4</td>\n",
       "      <td>Quentin Tarantino</td>\n",
       "      <td>165</td>\n",
       "    </tr>\n",
       "    <tr>\n",
       "      <th>84</th>\n",
       "      <td>85</td>\n",
       "      <td>Inglourious Basterds</td>\n",
       "      <td>2009</td>\n",
       "      <td>8.3</td>\n",
       "      <td>Quentin Tarantino</td>\n",
       "      <td>153</td>\n",
       "    </tr>\n",
       "    <tr>\n",
       "      <th>88</th>\n",
       "      <td>89</td>\n",
       "      <td>Reservoir Dogs</td>\n",
       "      <td>1992</td>\n",
       "      <td>8.3</td>\n",
       "      <td>Quentin Tarantino</td>\n",
       "      <td>99</td>\n",
       "    </tr>\n",
       "    <tr>\n",
       "      <th>173</th>\n",
       "      <td>174</td>\n",
       "      <td>Kill Bill: Vol. 1</td>\n",
       "      <td>2003</td>\n",
       "      <td>8.1</td>\n",
       "      <td>Quentin Tarantino</td>\n",
       "      <td>111</td>\n",
       "    </tr>\n",
       "  </tbody>\n",
       "</table>\n",
       "</div>"
      ],
      "text/plain": [
       "      id                                              title  release_year  \\\n",
       "6      7      The Lord of the Rings: The Return of the King          2003   \n",
       "7      8                                       Pulp Fiction          1994   \n",
       "9     10  The Lord of the Rings: The Fellowship of the Ring          2001   \n",
       "13    14              The Lord of the Rings: The Two Towers          2002   \n",
       "56    57                                   Django Unchained          2012   \n",
       "84    85                               Inglourious Basterds          2009   \n",
       "88    89                                     Reservoir Dogs          1992   \n",
       "173  174                                  Kill Bill: Vol. 1          2003   \n",
       "\n",
       "     rating           director  runtime  \n",
       "6       8.9      Peter Jackson      201  \n",
       "7       8.9  Quentin Tarantino      154  \n",
       "9       8.8      Peter Jackson      178  \n",
       "13      8.7      Peter Jackson      179  \n",
       "56      8.4  Quentin Tarantino      165  \n",
       "84      8.3  Quentin Tarantino      153  \n",
       "88      8.3  Quentin Tarantino       99  \n",
       "173     8.1  Quentin Tarantino      111  "
      ]
     },
     "execution_count": 20,
     "metadata": {},
     "output_type": "execute_result"
    }
   ],
   "source": [
    "movies[movies[\"director\"].isin([\"Peter Jackson\", \"Quentin Tarantino\"])]"
   ]
  },
  {
   "cell_type": "code",
   "execution_count": 21,
   "metadata": {},
   "outputs": [
    {
     "data": {
      "text/html": [
       "<div>\n",
       "<style scoped>\n",
       "    .dataframe tbody tr th:only-of-type {\n",
       "        vertical-align: middle;\n",
       "    }\n",
       "\n",
       "    .dataframe tbody tr th {\n",
       "        vertical-align: top;\n",
       "    }\n",
       "\n",
       "    .dataframe thead th {\n",
       "        text-align: right;\n",
       "    }\n",
       "</style>\n",
       "<table border=\"1\" class=\"dataframe\">\n",
       "  <thead>\n",
       "    <tr style=\"text-align: right;\">\n",
       "      <th></th>\n",
       "      <th>id</th>\n",
       "      <th>title</th>\n",
       "      <th>release_year</th>\n",
       "      <th>rating</th>\n",
       "      <th>director</th>\n",
       "      <th>runtime</th>\n",
       "    </tr>\n",
       "  </thead>\n",
       "  <tbody>\n",
       "    <tr>\n",
       "      <th>0</th>\n",
       "      <td>1</td>\n",
       "      <td>The Shawshank Redemption</td>\n",
       "      <td>1994</td>\n",
       "      <td>9.3</td>\n",
       "      <td>Frank Darabont</td>\n",
       "      <td>142</td>\n",
       "    </tr>\n",
       "    <tr>\n",
       "      <th>3</th>\n",
       "      <td>4</td>\n",
       "      <td>The Dark Knight</td>\n",
       "      <td>2008</td>\n",
       "      <td>9.0</td>\n",
       "      <td>Christopher Nolan</td>\n",
       "      <td>152</td>\n",
       "    </tr>\n",
       "    <tr>\n",
       "      <th>7</th>\n",
       "      <td>8</td>\n",
       "      <td>Pulp Fiction</td>\n",
       "      <td>1994</td>\n",
       "      <td>8.9</td>\n",
       "      <td>Quentin Tarantino</td>\n",
       "      <td>154</td>\n",
       "    </tr>\n",
       "    <tr>\n",
       "      <th>11</th>\n",
       "      <td>12</td>\n",
       "      <td>Forrest Gump</td>\n",
       "      <td>1994</td>\n",
       "      <td>8.8</td>\n",
       "      <td>Robert Zemeckis</td>\n",
       "      <td>142</td>\n",
       "    </tr>\n",
       "    <tr>\n",
       "      <th>30</th>\n",
       "      <td>31</td>\n",
       "      <td>Léon: The Professional</td>\n",
       "      <td>1994</td>\n",
       "      <td>8.5</td>\n",
       "      <td>Luc Besson</td>\n",
       "      <td>110</td>\n",
       "    </tr>\n",
       "    <tr>\n",
       "      <th>33</th>\n",
       "      <td>34</td>\n",
       "      <td>The Lion King</td>\n",
       "      <td>1994</td>\n",
       "      <td>8.5</td>\n",
       "      <td>Roger Allers</td>\n",
       "      <td>88</td>\n",
       "    </tr>\n",
       "    <tr>\n",
       "      <th>60</th>\n",
       "      <td>61</td>\n",
       "      <td>WALL·E</td>\n",
       "      <td>2008</td>\n",
       "      <td>8.4</td>\n",
       "      <td>Andrew Stanton</td>\n",
       "      <td>98</td>\n",
       "    </tr>\n",
       "    <tr>\n",
       "      <th>181</th>\n",
       "      <td>182</td>\n",
       "      <td>Gran Torino</td>\n",
       "      <td>2008</td>\n",
       "      <td>8.1</td>\n",
       "      <td>Clint Eastwood</td>\n",
       "      <td>116</td>\n",
       "    </tr>\n",
       "  </tbody>\n",
       "</table>\n",
       "</div>"
      ],
      "text/plain": [
       "      id                     title  release_year  rating           director  \\\n",
       "0      1  The Shawshank Redemption          1994     9.3     Frank Darabont   \n",
       "3      4           The Dark Knight          2008     9.0  Christopher Nolan   \n",
       "7      8              Pulp Fiction          1994     8.9  Quentin Tarantino   \n",
       "11    12              Forrest Gump          1994     8.8    Robert Zemeckis   \n",
       "30    31    Léon: The Professional          1994     8.5         Luc Besson   \n",
       "33    34             The Lion King          1994     8.5       Roger Allers   \n",
       "60    61                    WALL·E          2008     8.4     Andrew Stanton   \n",
       "181  182               Gran Torino          2008     8.1     Clint Eastwood   \n",
       "\n",
       "     runtime  \n",
       "0        142  \n",
       "3        152  \n",
       "7        154  \n",
       "11       142  \n",
       "30       110  \n",
       "33        88  \n",
       "60        98  \n",
       "181      116  "
      ]
     },
     "execution_count": 21,
     "metadata": {},
     "output_type": "execute_result"
    }
   ],
   "source": [
    "movies[movies[\"release_year\"].isin([1994, 2008])]"
   ]
  },
  {
   "cell_type": "markdown",
   "metadata": {
    "slideshow": {
     "slide_type": "subslide"
    }
   },
   "source": [
    "## 如何判斷條件敘述的交集或聯集\n",
    "\n",
    "- 運用語言邏輯思考條件的結合為「和」還是「或」，「和」為交集、「或」為聯集。\n",
    "- 運用資料列數思考條件的結合要「縮減」還是「擴增」，「縮減」為交集、「擴增」為聯集。"
   ]
  },
  {
   "cell_type": "markdown",
   "metadata": {
    "slideshow": {
     "slide_type": "slide"
    }
   },
   "source": [
    "## 排序資料框"
   ]
  },
  {
   "cell_type": "markdown",
   "metadata": {
    "slideshow": {
     "slide_type": "subslide"
    }
   },
   "source": [
    "## 兩個排序方式\n",
    "\n",
    "1. 遞增（又稱升冪）排序，預設的排序方式。\n",
    "2. 遞減（又稱降冪）排序。"
   ]
  },
  {
   "cell_type": "markdown",
   "metadata": {
    "slideshow": {
     "slide_type": "subslide"
    }
   },
   "source": [
    "## 使用 `DataFrame` 的兩個方法排序\n",
    "\n",
    "- `DataFrame.sort_index()` 依列標籤排序。\n",
    "- `DataFrame.sort_values()` 依欄位排序。"
   ]
  },
  {
   "cell_type": "markdown",
   "metadata": {
    "slideshow": {
     "slide_type": "subslide"
    }
   },
   "source": [
    "## `DataFrame.sort_index()` 依列標籤排序 \n",
    "\n",
    "預設 `ascending=True`"
   ]
  },
  {
   "cell_type": "code",
   "execution_count": 22,
   "metadata": {},
   "outputs": [
    {
     "data": {
      "text/html": [
       "<div>\n",
       "<style scoped>\n",
       "    .dataframe tbody tr th:only-of-type {\n",
       "        vertical-align: middle;\n",
       "    }\n",
       "\n",
       "    .dataframe tbody tr th {\n",
       "        vertical-align: top;\n",
       "    }\n",
       "\n",
       "    .dataframe thead th {\n",
       "        text-align: right;\n",
       "    }\n",
       "</style>\n",
       "<table border=\"1\" class=\"dataframe\">\n",
       "  <thead>\n",
       "    <tr style=\"text-align: right;\">\n",
       "      <th></th>\n",
       "      <th>id</th>\n",
       "      <th>title</th>\n",
       "      <th>release_year</th>\n",
       "      <th>rating</th>\n",
       "      <th>director</th>\n",
       "      <th>runtime</th>\n",
       "    </tr>\n",
       "  </thead>\n",
       "  <tbody>\n",
       "    <tr>\n",
       "      <th>0</th>\n",
       "      <td>1</td>\n",
       "      <td>The Shawshank Redemption</td>\n",
       "      <td>1994</td>\n",
       "      <td>9.3</td>\n",
       "      <td>Frank Darabont</td>\n",
       "      <td>142</td>\n",
       "    </tr>\n",
       "    <tr>\n",
       "      <th>1</th>\n",
       "      <td>2</td>\n",
       "      <td>The Godfather</td>\n",
       "      <td>1972</td>\n",
       "      <td>9.2</td>\n",
       "      <td>Francis Ford Coppola</td>\n",
       "      <td>175</td>\n",
       "    </tr>\n",
       "    <tr>\n",
       "      <th>2</th>\n",
       "      <td>3</td>\n",
       "      <td>The Godfather: Part II</td>\n",
       "      <td>1974</td>\n",
       "      <td>9.0</td>\n",
       "      <td>Francis Ford Coppola</td>\n",
       "      <td>202</td>\n",
       "    </tr>\n",
       "    <tr>\n",
       "      <th>3</th>\n",
       "      <td>4</td>\n",
       "      <td>The Dark Knight</td>\n",
       "      <td>2008</td>\n",
       "      <td>9.0</td>\n",
       "      <td>Christopher Nolan</td>\n",
       "      <td>152</td>\n",
       "    </tr>\n",
       "    <tr>\n",
       "      <th>4</th>\n",
       "      <td>5</td>\n",
       "      <td>12 Angry Men</td>\n",
       "      <td>1957</td>\n",
       "      <td>9.0</td>\n",
       "      <td>Sidney Lumet</td>\n",
       "      <td>96</td>\n",
       "    </tr>\n",
       "    <tr>\n",
       "      <th>...</th>\n",
       "      <td>...</td>\n",
       "      <td>...</td>\n",
       "      <td>...</td>\n",
       "      <td>...</td>\n",
       "      <td>...</td>\n",
       "      <td>...</td>\n",
       "    </tr>\n",
       "    <tr>\n",
       "      <th>245</th>\n",
       "      <td>246</td>\n",
       "      <td>Neon Genesis Evangelion: The End of Evangelion</td>\n",
       "      <td>1997</td>\n",
       "      <td>8.1</td>\n",
       "      <td>Hideaki Anno</td>\n",
       "      <td>87</td>\n",
       "    </tr>\n",
       "    <tr>\n",
       "      <th>246</th>\n",
       "      <td>247</td>\n",
       "      <td>7 Kogustaki Mucize</td>\n",
       "      <td>2019</td>\n",
       "      <td>8.2</td>\n",
       "      <td>Mehmet Ada Öztekin</td>\n",
       "      <td>132</td>\n",
       "    </tr>\n",
       "    <tr>\n",
       "      <th>247</th>\n",
       "      <td>248</td>\n",
       "      <td>Tangerines</td>\n",
       "      <td>2013</td>\n",
       "      <td>8.2</td>\n",
       "      <td>Zaza Urushadze</td>\n",
       "      <td>87</td>\n",
       "    </tr>\n",
       "    <tr>\n",
       "      <th>248</th>\n",
       "      <td>249</td>\n",
       "      <td>Drishyam</td>\n",
       "      <td>2015</td>\n",
       "      <td>8.2</td>\n",
       "      <td>Nishikant Kamat</td>\n",
       "      <td>163</td>\n",
       "    </tr>\n",
       "    <tr>\n",
       "      <th>249</th>\n",
       "      <td>250</td>\n",
       "      <td>Swades</td>\n",
       "      <td>2004</td>\n",
       "      <td>8.2</td>\n",
       "      <td>Ashutosh Gowariker</td>\n",
       "      <td>189</td>\n",
       "    </tr>\n",
       "  </tbody>\n",
       "</table>\n",
       "<p>250 rows × 6 columns</p>\n",
       "</div>"
      ],
      "text/plain": [
       "      id                                           title  release_year  \\\n",
       "0      1                        The Shawshank Redemption          1994   \n",
       "1      2                                   The Godfather          1972   \n",
       "2      3                          The Godfather: Part II          1974   \n",
       "3      4                                 The Dark Knight          2008   \n",
       "4      5                                    12 Angry Men          1957   \n",
       "..   ...                                             ...           ...   \n",
       "245  246  Neon Genesis Evangelion: The End of Evangelion          1997   \n",
       "246  247                              7 Kogustaki Mucize          2019   \n",
       "247  248                                      Tangerines          2013   \n",
       "248  249                                        Drishyam          2015   \n",
       "249  250                                          Swades          2004   \n",
       "\n",
       "     rating              director  runtime  \n",
       "0       9.3        Frank Darabont      142  \n",
       "1       9.2  Francis Ford Coppola      175  \n",
       "2       9.0  Francis Ford Coppola      202  \n",
       "3       9.0     Christopher Nolan      152  \n",
       "4       9.0          Sidney Lumet       96  \n",
       "..      ...                   ...      ...  \n",
       "245     8.1          Hideaki Anno       87  \n",
       "246     8.2    Mehmet Ada Öztekin      132  \n",
       "247     8.2        Zaza Urushadze       87  \n",
       "248     8.2       Nishikant Kamat      163  \n",
       "249     8.2    Ashutosh Gowariker      189  \n",
       "\n",
       "[250 rows x 6 columns]"
      ]
     },
     "execution_count": 22,
     "metadata": {},
     "output_type": "execute_result"
    }
   ],
   "source": [
    "movies.sort_index()"
   ]
  },
  {
   "cell_type": "code",
   "execution_count": 23,
   "metadata": {
    "slideshow": {
     "slide_type": "subslide"
    }
   },
   "outputs": [
    {
     "data": {
      "text/html": [
       "<div>\n",
       "<style scoped>\n",
       "    .dataframe tbody tr th:only-of-type {\n",
       "        vertical-align: middle;\n",
       "    }\n",
       "\n",
       "    .dataframe tbody tr th {\n",
       "        vertical-align: top;\n",
       "    }\n",
       "\n",
       "    .dataframe thead th {\n",
       "        text-align: right;\n",
       "    }\n",
       "</style>\n",
       "<table border=\"1\" class=\"dataframe\">\n",
       "  <thead>\n",
       "    <tr style=\"text-align: right;\">\n",
       "      <th></th>\n",
       "      <th>id</th>\n",
       "      <th>title</th>\n",
       "      <th>release_year</th>\n",
       "      <th>rating</th>\n",
       "      <th>director</th>\n",
       "      <th>runtime</th>\n",
       "    </tr>\n",
       "  </thead>\n",
       "  <tbody>\n",
       "    <tr>\n",
       "      <th>249</th>\n",
       "      <td>250</td>\n",
       "      <td>Swades</td>\n",
       "      <td>2004</td>\n",
       "      <td>8.2</td>\n",
       "      <td>Ashutosh Gowariker</td>\n",
       "      <td>189</td>\n",
       "    </tr>\n",
       "    <tr>\n",
       "      <th>248</th>\n",
       "      <td>249</td>\n",
       "      <td>Drishyam</td>\n",
       "      <td>2015</td>\n",
       "      <td>8.2</td>\n",
       "      <td>Nishikant Kamat</td>\n",
       "      <td>163</td>\n",
       "    </tr>\n",
       "    <tr>\n",
       "      <th>247</th>\n",
       "      <td>248</td>\n",
       "      <td>Tangerines</td>\n",
       "      <td>2013</td>\n",
       "      <td>8.2</td>\n",
       "      <td>Zaza Urushadze</td>\n",
       "      <td>87</td>\n",
       "    </tr>\n",
       "    <tr>\n",
       "      <th>246</th>\n",
       "      <td>247</td>\n",
       "      <td>7 Kogustaki Mucize</td>\n",
       "      <td>2019</td>\n",
       "      <td>8.2</td>\n",
       "      <td>Mehmet Ada Öztekin</td>\n",
       "      <td>132</td>\n",
       "    </tr>\n",
       "    <tr>\n",
       "      <th>245</th>\n",
       "      <td>246</td>\n",
       "      <td>Neon Genesis Evangelion: The End of Evangelion</td>\n",
       "      <td>1997</td>\n",
       "      <td>8.1</td>\n",
       "      <td>Hideaki Anno</td>\n",
       "      <td>87</td>\n",
       "    </tr>\n",
       "    <tr>\n",
       "      <th>...</th>\n",
       "      <td>...</td>\n",
       "      <td>...</td>\n",
       "      <td>...</td>\n",
       "      <td>...</td>\n",
       "      <td>...</td>\n",
       "      <td>...</td>\n",
       "    </tr>\n",
       "    <tr>\n",
       "      <th>4</th>\n",
       "      <td>5</td>\n",
       "      <td>12 Angry Men</td>\n",
       "      <td>1957</td>\n",
       "      <td>9.0</td>\n",
       "      <td>Sidney Lumet</td>\n",
       "      <td>96</td>\n",
       "    </tr>\n",
       "    <tr>\n",
       "      <th>3</th>\n",
       "      <td>4</td>\n",
       "      <td>The Dark Knight</td>\n",
       "      <td>2008</td>\n",
       "      <td>9.0</td>\n",
       "      <td>Christopher Nolan</td>\n",
       "      <td>152</td>\n",
       "    </tr>\n",
       "    <tr>\n",
       "      <th>2</th>\n",
       "      <td>3</td>\n",
       "      <td>The Godfather: Part II</td>\n",
       "      <td>1974</td>\n",
       "      <td>9.0</td>\n",
       "      <td>Francis Ford Coppola</td>\n",
       "      <td>202</td>\n",
       "    </tr>\n",
       "    <tr>\n",
       "      <th>1</th>\n",
       "      <td>2</td>\n",
       "      <td>The Godfather</td>\n",
       "      <td>1972</td>\n",
       "      <td>9.2</td>\n",
       "      <td>Francis Ford Coppola</td>\n",
       "      <td>175</td>\n",
       "    </tr>\n",
       "    <tr>\n",
       "      <th>0</th>\n",
       "      <td>1</td>\n",
       "      <td>The Shawshank Redemption</td>\n",
       "      <td>1994</td>\n",
       "      <td>9.3</td>\n",
       "      <td>Frank Darabont</td>\n",
       "      <td>142</td>\n",
       "    </tr>\n",
       "  </tbody>\n",
       "</table>\n",
       "<p>250 rows × 6 columns</p>\n",
       "</div>"
      ],
      "text/plain": [
       "      id                                           title  release_year  \\\n",
       "249  250                                          Swades          2004   \n",
       "248  249                                        Drishyam          2015   \n",
       "247  248                                      Tangerines          2013   \n",
       "246  247                              7 Kogustaki Mucize          2019   \n",
       "245  246  Neon Genesis Evangelion: The End of Evangelion          1997   \n",
       "..   ...                                             ...           ...   \n",
       "4      5                                    12 Angry Men          1957   \n",
       "3      4                                 The Dark Knight          2008   \n",
       "2      3                          The Godfather: Part II          1974   \n",
       "1      2                                   The Godfather          1972   \n",
       "0      1                        The Shawshank Redemption          1994   \n",
       "\n",
       "     rating              director  runtime  \n",
       "249     8.2    Ashutosh Gowariker      189  \n",
       "248     8.2       Nishikant Kamat      163  \n",
       "247     8.2        Zaza Urushadze       87  \n",
       "246     8.2    Mehmet Ada Öztekin      132  \n",
       "245     8.1          Hideaki Anno       87  \n",
       "..      ...                   ...      ...  \n",
       "4       9.0          Sidney Lumet       96  \n",
       "3       9.0     Christopher Nolan      152  \n",
       "2       9.0  Francis Ford Coppola      202  \n",
       "1       9.2  Francis Ford Coppola      175  \n",
       "0       9.3        Frank Darabont      142  \n",
       "\n",
       "[250 rows x 6 columns]"
      ]
     },
     "execution_count": 23,
     "metadata": {},
     "output_type": "execute_result"
    }
   ],
   "source": [
    "movies.sort_index(ascending=False)"
   ]
  },
  {
   "cell_type": "markdown",
   "metadata": {
    "slideshow": {
     "slide_type": "subslide"
    }
   },
   "source": [
    "## `DataFrame.sort_values()` 依欄位排序\n",
    "\n",
    "- 預設 `ascending=True`\n",
    "- 數值由小到大、英文由 A 到 Z"
   ]
  },
  {
   "cell_type": "code",
   "execution_count": 24,
   "metadata": {},
   "outputs": [
    {
     "data": {
      "text/html": [
       "<div>\n",
       "<style scoped>\n",
       "    .dataframe tbody tr th:only-of-type {\n",
       "        vertical-align: middle;\n",
       "    }\n",
       "\n",
       "    .dataframe tbody tr th {\n",
       "        vertical-align: top;\n",
       "    }\n",
       "\n",
       "    .dataframe thead th {\n",
       "        text-align: right;\n",
       "    }\n",
       "</style>\n",
       "<table border=\"1\" class=\"dataframe\">\n",
       "  <thead>\n",
       "    <tr style=\"text-align: right;\">\n",
       "      <th></th>\n",
       "      <th>id</th>\n",
       "      <th>title</th>\n",
       "      <th>release_year</th>\n",
       "      <th>rating</th>\n",
       "      <th>director</th>\n",
       "      <th>runtime</th>\n",
       "    </tr>\n",
       "  </thead>\n",
       "  <tbody>\n",
       "    <tr>\n",
       "      <th>98</th>\n",
       "      <td>99</td>\n",
       "      <td>The Kid</td>\n",
       "      <td>1921</td>\n",
       "      <td>8.3</td>\n",
       "      <td>Charles Chaplin</td>\n",
       "      <td>68</td>\n",
       "    </tr>\n",
       "    <tr>\n",
       "      <th>194</th>\n",
       "      <td>195</td>\n",
       "      <td>Sherlock Jr.</td>\n",
       "      <td>1924</td>\n",
       "      <td>8.2</td>\n",
       "      <td>Buster Keaton</td>\n",
       "      <td>45</td>\n",
       "    </tr>\n",
       "    <tr>\n",
       "      <th>152</th>\n",
       "      <td>153</td>\n",
       "      <td>The Gold Rush</td>\n",
       "      <td>1925</td>\n",
       "      <td>8.2</td>\n",
       "      <td>Charles Chaplin</td>\n",
       "      <td>95</td>\n",
       "    </tr>\n",
       "    <tr>\n",
       "      <th>198</th>\n",
       "      <td>199</td>\n",
       "      <td>The General</td>\n",
       "      <td>1926</td>\n",
       "      <td>8.1</td>\n",
       "      <td>Clyde Bruckman</td>\n",
       "      <td>67</td>\n",
       "    </tr>\n",
       "    <tr>\n",
       "      <th>115</th>\n",
       "      <td>116</td>\n",
       "      <td>Metropolis</td>\n",
       "      <td>1927</td>\n",
       "      <td>8.3</td>\n",
       "      <td>Fritz Lang</td>\n",
       "      <td>153</td>\n",
       "    </tr>\n",
       "    <tr>\n",
       "      <th>...</th>\n",
       "      <td>...</td>\n",
       "      <td>...</td>\n",
       "      <td>...</td>\n",
       "      <td>...</td>\n",
       "      <td>...</td>\n",
       "      <td>...</td>\n",
       "    </tr>\n",
       "    <tr>\n",
       "      <th>246</th>\n",
       "      <td>247</td>\n",
       "      <td>7 Kogustaki Mucize</td>\n",
       "      <td>2019</td>\n",
       "      <td>8.2</td>\n",
       "      <td>Mehmet Ada Öztekin</td>\n",
       "      <td>132</td>\n",
       "    </tr>\n",
       "    <tr>\n",
       "      <th>164</th>\n",
       "      <td>165</td>\n",
       "      <td>Klaus</td>\n",
       "      <td>2019</td>\n",
       "      <td>8.2</td>\n",
       "      <td>Sergio Pablos</td>\n",
       "      <td>96</td>\n",
       "    </tr>\n",
       "    <tr>\n",
       "      <th>230</th>\n",
       "      <td>231</td>\n",
       "      <td>Soul</td>\n",
       "      <td>2020</td>\n",
       "      <td>8.1</td>\n",
       "      <td>Pete Docter</td>\n",
       "      <td>100</td>\n",
       "    </tr>\n",
       "    <tr>\n",
       "      <th>58</th>\n",
       "      <td>59</td>\n",
       "      <td>Hamilton</td>\n",
       "      <td>2020</td>\n",
       "      <td>8.5</td>\n",
       "      <td>Thomas Kail</td>\n",
       "      <td>160</td>\n",
       "    </tr>\n",
       "    <tr>\n",
       "      <th>166</th>\n",
       "      <td>167</td>\n",
       "      <td>Zack Snyder's Justice League</td>\n",
       "      <td>2021</td>\n",
       "      <td>8.3</td>\n",
       "      <td>Zack Snyder</td>\n",
       "      <td>242</td>\n",
       "    </tr>\n",
       "  </tbody>\n",
       "</table>\n",
       "<p>250 rows × 6 columns</p>\n",
       "</div>"
      ],
      "text/plain": [
       "      id                         title  release_year  rating  \\\n",
       "98    99                       The Kid          1921     8.3   \n",
       "194  195                  Sherlock Jr.          1924     8.2   \n",
       "152  153                 The Gold Rush          1925     8.2   \n",
       "198  199                   The General          1926     8.1   \n",
       "115  116                    Metropolis          1927     8.3   \n",
       "..   ...                           ...           ...     ...   \n",
       "246  247            7 Kogustaki Mucize          2019     8.2   \n",
       "164  165                         Klaus          2019     8.2   \n",
       "230  231                          Soul          2020     8.1   \n",
       "58    59                      Hamilton          2020     8.5   \n",
       "166  167  Zack Snyder's Justice League          2021     8.3   \n",
       "\n",
       "               director  runtime  \n",
       "98      Charles Chaplin       68  \n",
       "194       Buster Keaton       45  \n",
       "152     Charles Chaplin       95  \n",
       "198      Clyde Bruckman       67  \n",
       "115          Fritz Lang      153  \n",
       "..                  ...      ...  \n",
       "246  Mehmet Ada Öztekin      132  \n",
       "164       Sergio Pablos       96  \n",
       "230         Pete Docter      100  \n",
       "58          Thomas Kail      160  \n",
       "166         Zack Snyder      242  \n",
       "\n",
       "[250 rows x 6 columns]"
      ]
     },
     "execution_count": 24,
     "metadata": {},
     "output_type": "execute_result"
    }
   ],
   "source": [
    "movies.sort_values(\"release_year\")"
   ]
  },
  {
   "cell_type": "code",
   "execution_count": 25,
   "metadata": {
    "slideshow": {
     "slide_type": "subslide"
    }
   },
   "outputs": [
    {
     "data": {
      "text/html": [
       "<div>\n",
       "<style scoped>\n",
       "    .dataframe tbody tr th:only-of-type {\n",
       "        vertical-align: middle;\n",
       "    }\n",
       "\n",
       "    .dataframe tbody tr th {\n",
       "        vertical-align: top;\n",
       "    }\n",
       "\n",
       "    .dataframe thead th {\n",
       "        text-align: right;\n",
       "    }\n",
       "</style>\n",
       "<table border=\"1\" class=\"dataframe\">\n",
       "  <thead>\n",
       "    <tr style=\"text-align: right;\">\n",
       "      <th></th>\n",
       "      <th>id</th>\n",
       "      <th>title</th>\n",
       "      <th>release_year</th>\n",
       "      <th>rating</th>\n",
       "      <th>director</th>\n",
       "      <th>runtime</th>\n",
       "    </tr>\n",
       "  </thead>\n",
       "  <tbody>\n",
       "    <tr>\n",
       "      <th>166</th>\n",
       "      <td>167</td>\n",
       "      <td>Zack Snyder's Justice League</td>\n",
       "      <td>2021</td>\n",
       "      <td>8.3</td>\n",
       "      <td>Zack Snyder</td>\n",
       "      <td>242</td>\n",
       "    </tr>\n",
       "    <tr>\n",
       "      <th>58</th>\n",
       "      <td>59</td>\n",
       "      <td>Hamilton</td>\n",
       "      <td>2020</td>\n",
       "      <td>8.5</td>\n",
       "      <td>Thomas Kail</td>\n",
       "      <td>160</td>\n",
       "    </tr>\n",
       "    <tr>\n",
       "      <th>230</th>\n",
       "      <td>231</td>\n",
       "      <td>Soul</td>\n",
       "      <td>2020</td>\n",
       "      <td>8.1</td>\n",
       "      <td>Pete Docter</td>\n",
       "      <td>100</td>\n",
       "    </tr>\n",
       "    <tr>\n",
       "      <th>75</th>\n",
       "      <td>76</td>\n",
       "      <td>Avengers: Endgame</td>\n",
       "      <td>2019</td>\n",
       "      <td>8.4</td>\n",
       "      <td>Anthony Russo</td>\n",
       "      <td>181</td>\n",
       "    </tr>\n",
       "    <tr>\n",
       "      <th>246</th>\n",
       "      <td>247</td>\n",
       "      <td>7 Kogustaki Mucize</td>\n",
       "      <td>2019</td>\n",
       "      <td>8.2</td>\n",
       "      <td>Mehmet Ada Öztekin</td>\n",
       "      <td>132</td>\n",
       "    </tr>\n",
       "    <tr>\n",
       "      <th>...</th>\n",
       "      <td>...</td>\n",
       "      <td>...</td>\n",
       "      <td>...</td>\n",
       "      <td>...</td>\n",
       "      <td>...</td>\n",
       "      <td>...</td>\n",
       "    </tr>\n",
       "    <tr>\n",
       "      <th>115</th>\n",
       "      <td>116</td>\n",
       "      <td>Metropolis</td>\n",
       "      <td>1927</td>\n",
       "      <td>8.3</td>\n",
       "      <td>Fritz Lang</td>\n",
       "      <td>153</td>\n",
       "    </tr>\n",
       "    <tr>\n",
       "      <th>198</th>\n",
       "      <td>199</td>\n",
       "      <td>The General</td>\n",
       "      <td>1926</td>\n",
       "      <td>8.1</td>\n",
       "      <td>Clyde Bruckman</td>\n",
       "      <td>67</td>\n",
       "    </tr>\n",
       "    <tr>\n",
       "      <th>152</th>\n",
       "      <td>153</td>\n",
       "      <td>The Gold Rush</td>\n",
       "      <td>1925</td>\n",
       "      <td>8.2</td>\n",
       "      <td>Charles Chaplin</td>\n",
       "      <td>95</td>\n",
       "    </tr>\n",
       "    <tr>\n",
       "      <th>194</th>\n",
       "      <td>195</td>\n",
       "      <td>Sherlock Jr.</td>\n",
       "      <td>1924</td>\n",
       "      <td>8.2</td>\n",
       "      <td>Buster Keaton</td>\n",
       "      <td>45</td>\n",
       "    </tr>\n",
       "    <tr>\n",
       "      <th>98</th>\n",
       "      <td>99</td>\n",
       "      <td>The Kid</td>\n",
       "      <td>1921</td>\n",
       "      <td>8.3</td>\n",
       "      <td>Charles Chaplin</td>\n",
       "      <td>68</td>\n",
       "    </tr>\n",
       "  </tbody>\n",
       "</table>\n",
       "<p>250 rows × 6 columns</p>\n",
       "</div>"
      ],
      "text/plain": [
       "      id                         title  release_year  rating  \\\n",
       "166  167  Zack Snyder's Justice League          2021     8.3   \n",
       "58    59                      Hamilton          2020     8.5   \n",
       "230  231                          Soul          2020     8.1   \n",
       "75    76             Avengers: Endgame          2019     8.4   \n",
       "246  247            7 Kogustaki Mucize          2019     8.2   \n",
       "..   ...                           ...           ...     ...   \n",
       "115  116                    Metropolis          1927     8.3   \n",
       "198  199                   The General          1926     8.1   \n",
       "152  153                 The Gold Rush          1925     8.2   \n",
       "194  195                  Sherlock Jr.          1924     8.2   \n",
       "98    99                       The Kid          1921     8.3   \n",
       "\n",
       "               director  runtime  \n",
       "166         Zack Snyder      242  \n",
       "58          Thomas Kail      160  \n",
       "230         Pete Docter      100  \n",
       "75        Anthony Russo      181  \n",
       "246  Mehmet Ada Öztekin      132  \n",
       "..                  ...      ...  \n",
       "115          Fritz Lang      153  \n",
       "198      Clyde Bruckman       67  \n",
       "152     Charles Chaplin       95  \n",
       "194       Buster Keaton       45  \n",
       "98      Charles Chaplin       68  \n",
       "\n",
       "[250 rows x 6 columns]"
      ]
     },
     "execution_count": 25,
     "metadata": {},
     "output_type": "execute_result"
    }
   ],
   "source": [
    "movies.sort_values(\"release_year\", ascending=False)"
   ]
  },
  {
   "cell_type": "markdown",
   "metadata": {
    "slideshow": {
     "slide_type": "subslide"
    }
   },
   "source": [
    "## 傳入 `list` 指定多個欄位與排序方式"
   ]
  },
  {
   "cell_type": "code",
   "execution_count": 26,
   "metadata": {},
   "outputs": [
    {
     "data": {
      "text/html": [
       "<div>\n",
       "<style scoped>\n",
       "    .dataframe tbody tr th:only-of-type {\n",
       "        vertical-align: middle;\n",
       "    }\n",
       "\n",
       "    .dataframe tbody tr th {\n",
       "        vertical-align: top;\n",
       "    }\n",
       "\n",
       "    .dataframe thead th {\n",
       "        text-align: right;\n",
       "    }\n",
       "</style>\n",
       "<table border=\"1\" class=\"dataframe\">\n",
       "  <thead>\n",
       "    <tr style=\"text-align: right;\">\n",
       "      <th></th>\n",
       "      <th>id</th>\n",
       "      <th>title</th>\n",
       "      <th>release_year</th>\n",
       "      <th>rating</th>\n",
       "      <th>director</th>\n",
       "      <th>runtime</th>\n",
       "    </tr>\n",
       "  </thead>\n",
       "  <tbody>\n",
       "    <tr>\n",
       "      <th>166</th>\n",
       "      <td>167</td>\n",
       "      <td>Zack Snyder's Justice League</td>\n",
       "      <td>2021</td>\n",
       "      <td>8.3</td>\n",
       "      <td>Zack Snyder</td>\n",
       "      <td>242</td>\n",
       "    </tr>\n",
       "    <tr>\n",
       "      <th>58</th>\n",
       "      <td>59</td>\n",
       "      <td>Hamilton</td>\n",
       "      <td>2020</td>\n",
       "      <td>8.5</td>\n",
       "      <td>Thomas Kail</td>\n",
       "      <td>160</td>\n",
       "    </tr>\n",
       "    <tr>\n",
       "      <th>230</th>\n",
       "      <td>231</td>\n",
       "      <td>Soul</td>\n",
       "      <td>2020</td>\n",
       "      <td>8.1</td>\n",
       "      <td>Pete Docter</td>\n",
       "      <td>100</td>\n",
       "    </tr>\n",
       "    <tr>\n",
       "      <th>107</th>\n",
       "      <td>108</td>\n",
       "      <td>1917</td>\n",
       "      <td>2019</td>\n",
       "      <td>8.3</td>\n",
       "      <td>Sam Mendes</td>\n",
       "      <td>119</td>\n",
       "    </tr>\n",
       "    <tr>\n",
       "      <th>246</th>\n",
       "      <td>247</td>\n",
       "      <td>7 Kogustaki Mucize</td>\n",
       "      <td>2019</td>\n",
       "      <td>8.2</td>\n",
       "      <td>Mehmet Ada Öztekin</td>\n",
       "      <td>132</td>\n",
       "    </tr>\n",
       "    <tr>\n",
       "      <th>...</th>\n",
       "      <td>...</td>\n",
       "      <td>...</td>\n",
       "      <td>...</td>\n",
       "      <td>...</td>\n",
       "      <td>...</td>\n",
       "      <td>...</td>\n",
       "    </tr>\n",
       "    <tr>\n",
       "      <th>115</th>\n",
       "      <td>116</td>\n",
       "      <td>Metropolis</td>\n",
       "      <td>1927</td>\n",
       "      <td>8.3</td>\n",
       "      <td>Fritz Lang</td>\n",
       "      <td>153</td>\n",
       "    </tr>\n",
       "    <tr>\n",
       "      <th>198</th>\n",
       "      <td>199</td>\n",
       "      <td>The General</td>\n",
       "      <td>1926</td>\n",
       "      <td>8.1</td>\n",
       "      <td>Clyde Bruckman</td>\n",
       "      <td>67</td>\n",
       "    </tr>\n",
       "    <tr>\n",
       "      <th>152</th>\n",
       "      <td>153</td>\n",
       "      <td>The Gold Rush</td>\n",
       "      <td>1925</td>\n",
       "      <td>8.2</td>\n",
       "      <td>Charles Chaplin</td>\n",
       "      <td>95</td>\n",
       "    </tr>\n",
       "    <tr>\n",
       "      <th>194</th>\n",
       "      <td>195</td>\n",
       "      <td>Sherlock Jr.</td>\n",
       "      <td>1924</td>\n",
       "      <td>8.2</td>\n",
       "      <td>Buster Keaton</td>\n",
       "      <td>45</td>\n",
       "    </tr>\n",
       "    <tr>\n",
       "      <th>98</th>\n",
       "      <td>99</td>\n",
       "      <td>The Kid</td>\n",
       "      <td>1921</td>\n",
       "      <td>8.3</td>\n",
       "      <td>Charles Chaplin</td>\n",
       "      <td>68</td>\n",
       "    </tr>\n",
       "  </tbody>\n",
       "</table>\n",
       "<p>250 rows × 6 columns</p>\n",
       "</div>"
      ],
      "text/plain": [
       "      id                         title  release_year  rating  \\\n",
       "166  167  Zack Snyder's Justice League          2021     8.3   \n",
       "58    59                      Hamilton          2020     8.5   \n",
       "230  231                          Soul          2020     8.1   \n",
       "107  108                          1917          2019     8.3   \n",
       "246  247            7 Kogustaki Mucize          2019     8.2   \n",
       "..   ...                           ...           ...     ...   \n",
       "115  116                    Metropolis          1927     8.3   \n",
       "198  199                   The General          1926     8.1   \n",
       "152  153                 The Gold Rush          1925     8.2   \n",
       "194  195                  Sherlock Jr.          1924     8.2   \n",
       "98    99                       The Kid          1921     8.3   \n",
       "\n",
       "               director  runtime  \n",
       "166         Zack Snyder      242  \n",
       "58          Thomas Kail      160  \n",
       "230         Pete Docter      100  \n",
       "107          Sam Mendes      119  \n",
       "246  Mehmet Ada Öztekin      132  \n",
       "..                  ...      ...  \n",
       "115          Fritz Lang      153  \n",
       "198      Clyde Bruckman       67  \n",
       "152     Charles Chaplin       95  \n",
       "194       Buster Keaton       45  \n",
       "98      Charles Chaplin       68  \n",
       "\n",
       "[250 rows x 6 columns]"
      ]
     },
     "execution_count": 26,
     "metadata": {},
     "output_type": "execute_result"
    }
   ],
   "source": [
    "movies.sort_values([\"release_year\", \"title\"], ascending=[False, True])"
   ]
  },
  {
   "cell_type": "markdown",
   "metadata": {
    "slideshow": {
     "slide_type": "slide"
    }
   },
   "source": [
    "## 分組聚合欄位"
   ]
  },
  {
   "cell_type": "markdown",
   "metadata": {
    "slideshow": {
     "slide_type": "subslide"
    }
   },
   "source": [
    "## 使用 `Series` 的聚合方法取得欄位摘要\n",
    "\n",
    "- `Series.count()` 不含未定義值的列數\n",
    "- `Series.sum()` 加總\n",
    "- `Series.max()` 最大值\n",
    "- `Series.min()` 最小值\n",
    "- `Series.mean()` 平均\n",
    "- ...等。"
   ]
  },
  {
   "cell_type": "markdown",
   "metadata": {
    "slideshow": {
     "slide_type": "subslide"
    }
   },
   "source": [
    "## 片長 `runtime` 的摘要"
   ]
  },
  {
   "cell_type": "code",
   "execution_count": 27,
   "metadata": {},
   "outputs": [
    {
     "name": "stdout",
     "output_type": "stream",
     "text": [
      "321\n",
      "45\n"
     ]
    }
   ],
   "source": [
    "print(movies[\"runtime\"].max())\n",
    "print(movies[\"runtime\"].min())"
   ]
  },
  {
   "cell_type": "markdown",
   "metadata": {
    "slideshow": {
     "slide_type": "subslide"
    }
   },
   "source": [
    "## IMDb 評等 `rating` 的摘要"
   ]
  },
  {
   "cell_type": "code",
   "execution_count": 28,
   "metadata": {},
   "outputs": [
    {
     "name": "stdout",
     "output_type": "stream",
     "text": [
      "9.3\n",
      "8.1\n",
      "8.305200000000001\n"
     ]
    }
   ],
   "source": [
    "print(movies[\"rating\"].max())\n",
    "print(movies[\"rating\"].min())\n",
    "print(movies[\"rating\"].mean())"
   ]
  },
  {
   "cell_type": "markdown",
   "metadata": {
    "slideshow": {
     "slide_type": "subslide"
    }
   },
   "source": [
    "## 使用 `DataFrame.groupby()` 獲得排序後的獨一值 `DataFrameGroupBy` 類別"
   ]
  },
  {
   "cell_type": "code",
   "execution_count": 29,
   "metadata": {},
   "outputs": [
    {
     "name": "stdout",
     "output_type": "stream",
     "text": [
      "<pandas.core.groupby.generic.DataFrameGroupBy object at 0x7f949df20df0>\n"
     ]
    }
   ],
   "source": [
    "print(movies.groupby(\"director\"))"
   ]
  },
  {
   "cell_type": "markdown",
   "metadata": {
    "slideshow": {
     "slide_type": "subslide"
    }
   },
   "source": [
    "## 分組後接續選擇欄位以及聚合方法"
   ]
  },
  {
   "cell_type": "code",
   "execution_count": 30,
   "metadata": {},
   "outputs": [
    {
     "data": {
      "text/plain": [
       "director\n",
       "Aamir Khan               1\n",
       "Adam Elliot              1\n",
       "Akira Kurosawa           6\n",
       "Alejandro G. Iñárritu    1\n",
       "Alfred Hitchcock         6\n",
       "                        ..\n",
       "Yasujirô Ozu             1\n",
       "Yavuz Turgul             1\n",
       "Zack Snyder              1\n",
       "Zaza Urushadze           1\n",
       "Çagan Irmak              1\n",
       "Name: title, Length: 157, dtype: int64"
      ]
     },
     "execution_count": 30,
     "metadata": {},
     "output_type": "execute_result"
    }
   ],
   "source": [
    "movies.groupby(\"director\")[\"title\"].count() # number of movies by director"
   ]
  },
  {
   "cell_type": "code",
   "execution_count": 31,
   "metadata": {
    "slideshow": {
     "slide_type": "-"
    }
   },
   "outputs": [
    {
     "data": {
      "text/plain": [
       "director\n",
       "Aamir Khan               8.400000\n",
       "Adam Elliot              8.100000\n",
       "Akira Kurosawa           8.316667\n",
       "Alejandro G. Iñárritu    8.100000\n",
       "Alfred Hitchcock         8.300000\n",
       "                           ...   \n",
       "Yasujirô Ozu             8.200000\n",
       "Yavuz Turgul             8.200000\n",
       "Zack Snyder              8.300000\n",
       "Zaza Urushadze           8.200000\n",
       "Çagan Irmak              8.300000\n",
       "Name: rating, Length: 157, dtype: float64"
      ]
     },
     "execution_count": 31,
     "metadata": {},
     "output_type": "execute_result"
    }
   ],
   "source": [
    "movies.groupby(\"director\")[\"rating\"].mean() # average rating by director"
   ]
  },
  {
   "cell_type": "markdown",
   "metadata": {
    "slideshow": {
     "slide_type": "slide"
    }
   },
   "source": [
    "## 衍生計算欄位"
   ]
  },
  {
   "cell_type": "markdown",
   "metadata": {
    "slideshow": {
     "slide_type": "subslide"
    }
   },
   "source": [
    "## 善用三個技巧衍生計算欄位\n",
    "\n",
    "1. 元素操作（Elementwise）運算。\n",
    "2. 使用函數或 `Series` 的方法。\n",
    "3. 使用 `Series.map()`"
   ]
  },
  {
   "cell_type": "markdown",
   "metadata": {
    "slideshow": {
     "slide_type": "subslide"
    }
   },
   "source": [
    "## 元素操作（Elementwise）運算"
   ]
  },
  {
   "cell_type": "code",
   "execution_count": 32,
   "metadata": {},
   "outputs": [
    {
     "name": "stdout",
     "output_type": "stream",
     "text": [
      "0      2\n",
      "1      2\n",
      "2      3\n",
      "3      2\n",
      "4      1\n",
      "      ..\n",
      "245    1\n",
      "246    2\n",
      "247    1\n",
      "248    2\n",
      "249    3\n",
      "Name: runtime, Length: 250, dtype: int64\n",
      "0      22\n",
      "1      55\n",
      "2      22\n",
      "3      32\n",
      "4      36\n",
      "       ..\n",
      "245    27\n",
      "246    12\n",
      "247    27\n",
      "248    43\n",
      "249     9\n",
      "Name: runtime, Length: 250, dtype: int64\n"
     ]
    }
   ],
   "source": [
    "print(movies[\"runtime\"] // 60) # hours\n",
    "print(movies[\"runtime\"] % 60)  # minutes"
   ]
  },
  {
   "cell_type": "markdown",
   "metadata": {
    "slideshow": {
     "slide_type": "subslide"
    }
   },
   "source": [
    "## 使用函數或 `Series` 的方法"
   ]
  },
  {
   "cell_type": "code",
   "execution_count": 33,
   "metadata": {},
   "outputs": [
    {
     "data": {
      "text/plain": [
       "0      2:22\n",
       "1      2:55\n",
       "2      3:22\n",
       "3      2:32\n",
       "4      1:36\n",
       "       ... \n",
       "245    1:27\n",
       "246    2:12\n",
       "247    1:27\n",
       "248    2:43\n",
       "249     3:9\n",
       "Name: runtime, Length: 250, dtype: object"
      ]
     },
     "execution_count": 33,
     "metadata": {},
     "output_type": "execute_result"
    }
   ],
   "source": [
    "hours = (movies[\"runtime\"] // 60).astype(str)\n",
    "minutes = (movies[\"runtime\"] % 60).astype(str)\n",
    "hours.str.cat(minutes, sep=\":\") # hours:minutes"
   ]
  },
  {
   "cell_type": "markdown",
   "metadata": {
    "slideshow": {
     "slide_type": "subslide"
    }
   },
   "source": [
    "## 使用 `Series.map()`"
   ]
  },
  {
   "cell_type": "code",
   "execution_count": 34,
   "metadata": {},
   "outputs": [
    {
     "data": {
      "text/plain": [
       "0      02:22\n",
       "1      02:55\n",
       "2      03:22\n",
       "3      02:32\n",
       "4      01:36\n",
       "       ...  \n",
       "245    01:27\n",
       "246    02:12\n",
       "247    01:27\n",
       "248    02:43\n",
       "249    03:09\n",
       "Name: runtime, Length: 250, dtype: object"
      ]
     },
     "execution_count": 34,
     "metadata": {},
     "output_type": "execute_result"
    }
   ],
   "source": [
    "def mins_to_hourmins(x: int) -> str:\n",
    "    hours = str(x // 60)\n",
    "    minutes = str(x % 60)\n",
    "    return f\"{hours.zfill(2)}:{minutes.zfill(2)}\" # 2 digits zero-filled\n",
    "\n",
    "runtime_hours_mins = movies[\"runtime\"].map(mins_to_hourmins)\n",
    "runtime_hours_mins"
   ]
  },
  {
   "cell_type": "markdown",
   "metadata": {
    "slideshow": {
     "slide_type": "subslide"
    }
   },
   "source": [
    "## 使用 `DataFrame.insert()` 新增變數\n",
    "\n",
    "留意 `DataFrame.insert()` 更新的機制是更新物件本身並回傳 `None`"
   ]
  },
  {
   "cell_type": "code",
   "execution_count": 35,
   "metadata": {},
   "outputs": [
    {
     "name": "stdout",
     "output_type": "stream",
     "text": [
      "Index(['id', 'title', 'release_year', 'rating', 'director', 'runtime'], dtype='object')\n",
      "Index(['id', 'title', 'release_year', 'rating', 'director', 'runtime',\n",
      "       'runtime_hours_mins'],\n",
      "      dtype='object')\n"
     ]
    },
    {
     "data": {
      "text/html": [
       "<div>\n",
       "<style scoped>\n",
       "    .dataframe tbody tr th:only-of-type {\n",
       "        vertical-align: middle;\n",
       "    }\n",
       "\n",
       "    .dataframe tbody tr th {\n",
       "        vertical-align: top;\n",
       "    }\n",
       "\n",
       "    .dataframe thead th {\n",
       "        text-align: right;\n",
       "    }\n",
       "</style>\n",
       "<table border=\"1\" class=\"dataframe\">\n",
       "  <thead>\n",
       "    <tr style=\"text-align: right;\">\n",
       "      <th></th>\n",
       "      <th>id</th>\n",
       "      <th>title</th>\n",
       "      <th>release_year</th>\n",
       "      <th>rating</th>\n",
       "      <th>director</th>\n",
       "      <th>runtime</th>\n",
       "      <th>runtime_hours_mins</th>\n",
       "    </tr>\n",
       "  </thead>\n",
       "  <tbody>\n",
       "    <tr>\n",
       "      <th>0</th>\n",
       "      <td>1</td>\n",
       "      <td>The Shawshank Redemption</td>\n",
       "      <td>1994</td>\n",
       "      <td>9.3</td>\n",
       "      <td>Frank Darabont</td>\n",
       "      <td>142</td>\n",
       "      <td>02:22</td>\n",
       "    </tr>\n",
       "    <tr>\n",
       "      <th>1</th>\n",
       "      <td>2</td>\n",
       "      <td>The Godfather</td>\n",
       "      <td>1972</td>\n",
       "      <td>9.2</td>\n",
       "      <td>Francis Ford Coppola</td>\n",
       "      <td>175</td>\n",
       "      <td>02:55</td>\n",
       "    </tr>\n",
       "    <tr>\n",
       "      <th>2</th>\n",
       "      <td>3</td>\n",
       "      <td>The Godfather: Part II</td>\n",
       "      <td>1974</td>\n",
       "      <td>9.0</td>\n",
       "      <td>Francis Ford Coppola</td>\n",
       "      <td>202</td>\n",
       "      <td>03:22</td>\n",
       "    </tr>\n",
       "    <tr>\n",
       "      <th>3</th>\n",
       "      <td>4</td>\n",
       "      <td>The Dark Knight</td>\n",
       "      <td>2008</td>\n",
       "      <td>9.0</td>\n",
       "      <td>Christopher Nolan</td>\n",
       "      <td>152</td>\n",
       "      <td>02:32</td>\n",
       "    </tr>\n",
       "    <tr>\n",
       "      <th>4</th>\n",
       "      <td>5</td>\n",
       "      <td>12 Angry Men</td>\n",
       "      <td>1957</td>\n",
       "      <td>9.0</td>\n",
       "      <td>Sidney Lumet</td>\n",
       "      <td>96</td>\n",
       "      <td>01:36</td>\n",
       "    </tr>\n",
       "  </tbody>\n",
       "</table>\n",
       "</div>"
      ],
      "text/plain": [
       "   id                     title  release_year  rating              director  \\\n",
       "0   1  The Shawshank Redemption          1994     9.3        Frank Darabont   \n",
       "1   2             The Godfather          1972     9.2  Francis Ford Coppola   \n",
       "2   3    The Godfather: Part II          1974     9.0  Francis Ford Coppola   \n",
       "3   4           The Dark Knight          2008     9.0     Christopher Nolan   \n",
       "4   5              12 Angry Men          1957     9.0          Sidney Lumet   \n",
       "\n",
       "   runtime runtime_hours_mins  \n",
       "0      142              02:22  \n",
       "1      175              02:55  \n",
       "2      202              03:22  \n",
       "3      152              02:32  \n",
       "4       96              01:36  "
      ]
     },
     "execution_count": 35,
     "metadata": {},
     "output_type": "execute_result"
    }
   ],
   "source": [
    "print(movies.columns)\n",
    "n = movies.shape[1]\n",
    "movies.insert(n, \"runtime_hours_mins\", runtime_hours_mins)\n",
    "print(movies.columns)\n",
    "movies.head()"
   ]
  },
  {
   "cell_type": "markdown",
   "metadata": {
    "slideshow": {
     "slide_type": "slide"
    }
   },
   "source": [
    "## 調整列標籤與欄標籤"
   ]
  },
  {
   "cell_type": "markdown",
   "metadata": {
    "slideshow": {
     "slide_type": "subslide"
    }
   },
   "source": [
    "## 如何調整列標籤與欄標籤\n",
    "\n",
    "- 使用 `DataFrame.set_index()` 指定欄位取代目前的列標籤。\n",
    "- 使用 `DataFrame.reset_index()` 重設列標籤。\n",
    "- 指定 `DataFrame.columns` 調整欄標籤。"
   ]
  },
  {
   "cell_type": "markdown",
   "metadata": {
    "slideshow": {
     "slide_type": "subslide"
    }
   },
   "source": [
    "## 使用 `DataFrame.set_index()` 指定欄位取代目前的列標籤"
   ]
  },
  {
   "cell_type": "code",
   "execution_count": 36,
   "metadata": {},
   "outputs": [
    {
     "data": {
      "text/html": [
       "<div>\n",
       "<style scoped>\n",
       "    .dataframe tbody tr th:only-of-type {\n",
       "        vertical-align: middle;\n",
       "    }\n",
       "\n",
       "    .dataframe tbody tr th {\n",
       "        vertical-align: top;\n",
       "    }\n",
       "\n",
       "    .dataframe thead th {\n",
       "        text-align: right;\n",
       "    }\n",
       "</style>\n",
       "<table border=\"1\" class=\"dataframe\">\n",
       "  <thead>\n",
       "    <tr style=\"text-align: right;\">\n",
       "      <th></th>\n",
       "      <th>id</th>\n",
       "      <th>release_year</th>\n",
       "      <th>rating</th>\n",
       "      <th>director</th>\n",
       "      <th>runtime</th>\n",
       "      <th>runtime_hours_mins</th>\n",
       "    </tr>\n",
       "    <tr>\n",
       "      <th>title</th>\n",
       "      <th></th>\n",
       "      <th></th>\n",
       "      <th></th>\n",
       "      <th></th>\n",
       "      <th></th>\n",
       "      <th></th>\n",
       "    </tr>\n",
       "  </thead>\n",
       "  <tbody>\n",
       "    <tr>\n",
       "      <th>The Shawshank Redemption</th>\n",
       "      <td>1</td>\n",
       "      <td>1994</td>\n",
       "      <td>9.3</td>\n",
       "      <td>Frank Darabont</td>\n",
       "      <td>142</td>\n",
       "      <td>02:22</td>\n",
       "    </tr>\n",
       "    <tr>\n",
       "      <th>The Godfather</th>\n",
       "      <td>2</td>\n",
       "      <td>1972</td>\n",
       "      <td>9.2</td>\n",
       "      <td>Francis Ford Coppola</td>\n",
       "      <td>175</td>\n",
       "      <td>02:55</td>\n",
       "    </tr>\n",
       "    <tr>\n",
       "      <th>The Godfather: Part II</th>\n",
       "      <td>3</td>\n",
       "      <td>1974</td>\n",
       "      <td>9.0</td>\n",
       "      <td>Francis Ford Coppola</td>\n",
       "      <td>202</td>\n",
       "      <td>03:22</td>\n",
       "    </tr>\n",
       "    <tr>\n",
       "      <th>The Dark Knight</th>\n",
       "      <td>4</td>\n",
       "      <td>2008</td>\n",
       "      <td>9.0</td>\n",
       "      <td>Christopher Nolan</td>\n",
       "      <td>152</td>\n",
       "      <td>02:32</td>\n",
       "    </tr>\n",
       "    <tr>\n",
       "      <th>12 Angry Men</th>\n",
       "      <td>5</td>\n",
       "      <td>1957</td>\n",
       "      <td>9.0</td>\n",
       "      <td>Sidney Lumet</td>\n",
       "      <td>96</td>\n",
       "      <td>01:36</td>\n",
       "    </tr>\n",
       "    <tr>\n",
       "      <th>...</th>\n",
       "      <td>...</td>\n",
       "      <td>...</td>\n",
       "      <td>...</td>\n",
       "      <td>...</td>\n",
       "      <td>...</td>\n",
       "      <td>...</td>\n",
       "    </tr>\n",
       "    <tr>\n",
       "      <th>Neon Genesis Evangelion: The End of Evangelion</th>\n",
       "      <td>246</td>\n",
       "      <td>1997</td>\n",
       "      <td>8.1</td>\n",
       "      <td>Hideaki Anno</td>\n",
       "      <td>87</td>\n",
       "      <td>01:27</td>\n",
       "    </tr>\n",
       "    <tr>\n",
       "      <th>7 Kogustaki Mucize</th>\n",
       "      <td>247</td>\n",
       "      <td>2019</td>\n",
       "      <td>8.2</td>\n",
       "      <td>Mehmet Ada Öztekin</td>\n",
       "      <td>132</td>\n",
       "      <td>02:12</td>\n",
       "    </tr>\n",
       "    <tr>\n",
       "      <th>Tangerines</th>\n",
       "      <td>248</td>\n",
       "      <td>2013</td>\n",
       "      <td>8.2</td>\n",
       "      <td>Zaza Urushadze</td>\n",
       "      <td>87</td>\n",
       "      <td>01:27</td>\n",
       "    </tr>\n",
       "    <tr>\n",
       "      <th>Drishyam</th>\n",
       "      <td>249</td>\n",
       "      <td>2015</td>\n",
       "      <td>8.2</td>\n",
       "      <td>Nishikant Kamat</td>\n",
       "      <td>163</td>\n",
       "      <td>02:43</td>\n",
       "    </tr>\n",
       "    <tr>\n",
       "      <th>Swades</th>\n",
       "      <td>250</td>\n",
       "      <td>2004</td>\n",
       "      <td>8.2</td>\n",
       "      <td>Ashutosh Gowariker</td>\n",
       "      <td>189</td>\n",
       "      <td>03:09</td>\n",
       "    </tr>\n",
       "  </tbody>\n",
       "</table>\n",
       "<p>250 rows × 6 columns</p>\n",
       "</div>"
      ],
      "text/plain": [
       "                                                 id  release_year  rating  \\\n",
       "title                                                                       \n",
       "The Shawshank Redemption                          1          1994     9.3   \n",
       "The Godfather                                     2          1972     9.2   \n",
       "The Godfather: Part II                            3          1974     9.0   \n",
       "The Dark Knight                                   4          2008     9.0   \n",
       "12 Angry Men                                      5          1957     9.0   \n",
       "...                                             ...           ...     ...   \n",
       "Neon Genesis Evangelion: The End of Evangelion  246          1997     8.1   \n",
       "7 Kogustaki Mucize                              247          2019     8.2   \n",
       "Tangerines                                      248          2013     8.2   \n",
       "Drishyam                                        249          2015     8.2   \n",
       "Swades                                          250          2004     8.2   \n",
       "\n",
       "                                                            director  runtime  \\\n",
       "title                                                                           \n",
       "The Shawshank Redemption                              Frank Darabont      142   \n",
       "The Godfather                                   Francis Ford Coppola      175   \n",
       "The Godfather: Part II                          Francis Ford Coppola      202   \n",
       "The Dark Knight                                    Christopher Nolan      152   \n",
       "12 Angry Men                                            Sidney Lumet       96   \n",
       "...                                                              ...      ...   \n",
       "Neon Genesis Evangelion: The End of Evangelion          Hideaki Anno       87   \n",
       "7 Kogustaki Mucize                                Mehmet Ada Öztekin      132   \n",
       "Tangerines                                            Zaza Urushadze       87   \n",
       "Drishyam                                             Nishikant Kamat      163   \n",
       "Swades                                            Ashutosh Gowariker      189   \n",
       "\n",
       "                                               runtime_hours_mins  \n",
       "title                                                              \n",
       "The Shawshank Redemption                                    02:22  \n",
       "The Godfather                                               02:55  \n",
       "The Godfather: Part II                                      03:22  \n",
       "The Dark Knight                                             02:32  \n",
       "12 Angry Men                                                01:36  \n",
       "...                                                           ...  \n",
       "Neon Genesis Evangelion: The End of Evangelion              01:27  \n",
       "7 Kogustaki Mucize                                          02:12  \n",
       "Tangerines                                                  01:27  \n",
       "Drishyam                                                    02:43  \n",
       "Swades                                                      03:09  \n",
       "\n",
       "[250 rows x 6 columns]"
      ]
     },
     "execution_count": 36,
     "metadata": {},
     "output_type": "execute_result"
    }
   ],
   "source": [
    "movies.set_index(\"title\")"
   ]
  },
  {
   "cell_type": "markdown",
   "metadata": {
    "slideshow": {
     "slide_type": "subslide"
    }
   },
   "source": [
    "## 使用 `DataFrame.reset_index()` 重設列標籤\n",
    "\n",
    "預設以 `RangeIndex` 重設後將原本的列標籤變為第零個欄位。"
   ]
  },
  {
   "cell_type": "code",
   "execution_count": 37,
   "metadata": {},
   "outputs": [
    {
     "data": {
      "text/html": [
       "<div>\n",
       "<style scoped>\n",
       "    .dataframe tbody tr th:only-of-type {\n",
       "        vertical-align: middle;\n",
       "    }\n",
       "\n",
       "    .dataframe tbody tr th {\n",
       "        vertical-align: top;\n",
       "    }\n",
       "\n",
       "    .dataframe thead th {\n",
       "        text-align: right;\n",
       "    }\n",
       "</style>\n",
       "<table border=\"1\" class=\"dataframe\">\n",
       "  <thead>\n",
       "    <tr style=\"text-align: right;\">\n",
       "      <th></th>\n",
       "      <th>title</th>\n",
       "      <th>id</th>\n",
       "      <th>release_year</th>\n",
       "      <th>rating</th>\n",
       "      <th>director</th>\n",
       "      <th>runtime</th>\n",
       "      <th>runtime_hours_mins</th>\n",
       "    </tr>\n",
       "  </thead>\n",
       "  <tbody>\n",
       "    <tr>\n",
       "      <th>0</th>\n",
       "      <td>The Shawshank Redemption</td>\n",
       "      <td>1</td>\n",
       "      <td>1994</td>\n",
       "      <td>9.3</td>\n",
       "      <td>Frank Darabont</td>\n",
       "      <td>142</td>\n",
       "      <td>02:22</td>\n",
       "    </tr>\n",
       "    <tr>\n",
       "      <th>1</th>\n",
       "      <td>The Godfather</td>\n",
       "      <td>2</td>\n",
       "      <td>1972</td>\n",
       "      <td>9.2</td>\n",
       "      <td>Francis Ford Coppola</td>\n",
       "      <td>175</td>\n",
       "      <td>02:55</td>\n",
       "    </tr>\n",
       "    <tr>\n",
       "      <th>2</th>\n",
       "      <td>The Godfather: Part II</td>\n",
       "      <td>3</td>\n",
       "      <td>1974</td>\n",
       "      <td>9.0</td>\n",
       "      <td>Francis Ford Coppola</td>\n",
       "      <td>202</td>\n",
       "      <td>03:22</td>\n",
       "    </tr>\n",
       "    <tr>\n",
       "      <th>3</th>\n",
       "      <td>The Dark Knight</td>\n",
       "      <td>4</td>\n",
       "      <td>2008</td>\n",
       "      <td>9.0</td>\n",
       "      <td>Christopher Nolan</td>\n",
       "      <td>152</td>\n",
       "      <td>02:32</td>\n",
       "    </tr>\n",
       "    <tr>\n",
       "      <th>4</th>\n",
       "      <td>12 Angry Men</td>\n",
       "      <td>5</td>\n",
       "      <td>1957</td>\n",
       "      <td>9.0</td>\n",
       "      <td>Sidney Lumet</td>\n",
       "      <td>96</td>\n",
       "      <td>01:36</td>\n",
       "    </tr>\n",
       "    <tr>\n",
       "      <th>...</th>\n",
       "      <td>...</td>\n",
       "      <td>...</td>\n",
       "      <td>...</td>\n",
       "      <td>...</td>\n",
       "      <td>...</td>\n",
       "      <td>...</td>\n",
       "      <td>...</td>\n",
       "    </tr>\n",
       "    <tr>\n",
       "      <th>245</th>\n",
       "      <td>Neon Genesis Evangelion: The End of Evangelion</td>\n",
       "      <td>246</td>\n",
       "      <td>1997</td>\n",
       "      <td>8.1</td>\n",
       "      <td>Hideaki Anno</td>\n",
       "      <td>87</td>\n",
       "      <td>01:27</td>\n",
       "    </tr>\n",
       "    <tr>\n",
       "      <th>246</th>\n",
       "      <td>7 Kogustaki Mucize</td>\n",
       "      <td>247</td>\n",
       "      <td>2019</td>\n",
       "      <td>8.2</td>\n",
       "      <td>Mehmet Ada Öztekin</td>\n",
       "      <td>132</td>\n",
       "      <td>02:12</td>\n",
       "    </tr>\n",
       "    <tr>\n",
       "      <th>247</th>\n",
       "      <td>Tangerines</td>\n",
       "      <td>248</td>\n",
       "      <td>2013</td>\n",
       "      <td>8.2</td>\n",
       "      <td>Zaza Urushadze</td>\n",
       "      <td>87</td>\n",
       "      <td>01:27</td>\n",
       "    </tr>\n",
       "    <tr>\n",
       "      <th>248</th>\n",
       "      <td>Drishyam</td>\n",
       "      <td>249</td>\n",
       "      <td>2015</td>\n",
       "      <td>8.2</td>\n",
       "      <td>Nishikant Kamat</td>\n",
       "      <td>163</td>\n",
       "      <td>02:43</td>\n",
       "    </tr>\n",
       "    <tr>\n",
       "      <th>249</th>\n",
       "      <td>Swades</td>\n",
       "      <td>250</td>\n",
       "      <td>2004</td>\n",
       "      <td>8.2</td>\n",
       "      <td>Ashutosh Gowariker</td>\n",
       "      <td>189</td>\n",
       "      <td>03:09</td>\n",
       "    </tr>\n",
       "  </tbody>\n",
       "</table>\n",
       "<p>250 rows × 7 columns</p>\n",
       "</div>"
      ],
      "text/plain": [
       "                                              title   id  release_year  \\\n",
       "0                          The Shawshank Redemption    1          1994   \n",
       "1                                     The Godfather    2          1972   \n",
       "2                            The Godfather: Part II    3          1974   \n",
       "3                                   The Dark Knight    4          2008   \n",
       "4                                      12 Angry Men    5          1957   \n",
       "..                                              ...  ...           ...   \n",
       "245  Neon Genesis Evangelion: The End of Evangelion  246          1997   \n",
       "246                              7 Kogustaki Mucize  247          2019   \n",
       "247                                      Tangerines  248          2013   \n",
       "248                                        Drishyam  249          2015   \n",
       "249                                          Swades  250          2004   \n",
       "\n",
       "     rating              director  runtime runtime_hours_mins  \n",
       "0       9.3        Frank Darabont      142              02:22  \n",
       "1       9.2  Francis Ford Coppola      175              02:55  \n",
       "2       9.0  Francis Ford Coppola      202              03:22  \n",
       "3       9.0     Christopher Nolan      152              02:32  \n",
       "4       9.0          Sidney Lumet       96              01:36  \n",
       "..      ...                   ...      ...                ...  \n",
       "245     8.1          Hideaki Anno       87              01:27  \n",
       "246     8.2    Mehmet Ada Öztekin      132              02:12  \n",
       "247     8.2        Zaza Urushadze       87              01:27  \n",
       "248     8.2       Nishikant Kamat      163              02:43  \n",
       "249     8.2    Ashutosh Gowariker      189              03:09  \n",
       "\n",
       "[250 rows x 7 columns]"
      ]
     },
     "execution_count": 37,
     "metadata": {},
     "output_type": "execute_result"
    }
   ],
   "source": [
    "movies.set_index(\"title\").reset_index()"
   ]
  },
  {
   "cell_type": "markdown",
   "metadata": {
    "slideshow": {
     "slide_type": "subslide"
    }
   },
   "source": [
    "## 使用 `DataFrame.reset_index()` 重設列標籤（續）\n",
    "\n",
    "設定參數 `drop=True` 以 `RangeIndex` 重設後捨棄原本的列標籤。"
   ]
  },
  {
   "cell_type": "code",
   "execution_count": 38,
   "metadata": {},
   "outputs": [
    {
     "data": {
      "text/html": [
       "<div>\n",
       "<style scoped>\n",
       "    .dataframe tbody tr th:only-of-type {\n",
       "        vertical-align: middle;\n",
       "    }\n",
       "\n",
       "    .dataframe tbody tr th {\n",
       "        vertical-align: top;\n",
       "    }\n",
       "\n",
       "    .dataframe thead th {\n",
       "        text-align: right;\n",
       "    }\n",
       "</style>\n",
       "<table border=\"1\" class=\"dataframe\">\n",
       "  <thead>\n",
       "    <tr style=\"text-align: right;\">\n",
       "      <th></th>\n",
       "      <th>id</th>\n",
       "      <th>release_year</th>\n",
       "      <th>rating</th>\n",
       "      <th>director</th>\n",
       "      <th>runtime</th>\n",
       "      <th>runtime_hours_mins</th>\n",
       "    </tr>\n",
       "  </thead>\n",
       "  <tbody>\n",
       "    <tr>\n",
       "      <th>0</th>\n",
       "      <td>1</td>\n",
       "      <td>1994</td>\n",
       "      <td>9.3</td>\n",
       "      <td>Frank Darabont</td>\n",
       "      <td>142</td>\n",
       "      <td>02:22</td>\n",
       "    </tr>\n",
       "    <tr>\n",
       "      <th>1</th>\n",
       "      <td>2</td>\n",
       "      <td>1972</td>\n",
       "      <td>9.2</td>\n",
       "      <td>Francis Ford Coppola</td>\n",
       "      <td>175</td>\n",
       "      <td>02:55</td>\n",
       "    </tr>\n",
       "    <tr>\n",
       "      <th>2</th>\n",
       "      <td>3</td>\n",
       "      <td>1974</td>\n",
       "      <td>9.0</td>\n",
       "      <td>Francis Ford Coppola</td>\n",
       "      <td>202</td>\n",
       "      <td>03:22</td>\n",
       "    </tr>\n",
       "    <tr>\n",
       "      <th>3</th>\n",
       "      <td>4</td>\n",
       "      <td>2008</td>\n",
       "      <td>9.0</td>\n",
       "      <td>Christopher Nolan</td>\n",
       "      <td>152</td>\n",
       "      <td>02:32</td>\n",
       "    </tr>\n",
       "    <tr>\n",
       "      <th>4</th>\n",
       "      <td>5</td>\n",
       "      <td>1957</td>\n",
       "      <td>9.0</td>\n",
       "      <td>Sidney Lumet</td>\n",
       "      <td>96</td>\n",
       "      <td>01:36</td>\n",
       "    </tr>\n",
       "    <tr>\n",
       "      <th>...</th>\n",
       "      <td>...</td>\n",
       "      <td>...</td>\n",
       "      <td>...</td>\n",
       "      <td>...</td>\n",
       "      <td>...</td>\n",
       "      <td>...</td>\n",
       "    </tr>\n",
       "    <tr>\n",
       "      <th>245</th>\n",
       "      <td>246</td>\n",
       "      <td>1997</td>\n",
       "      <td>8.1</td>\n",
       "      <td>Hideaki Anno</td>\n",
       "      <td>87</td>\n",
       "      <td>01:27</td>\n",
       "    </tr>\n",
       "    <tr>\n",
       "      <th>246</th>\n",
       "      <td>247</td>\n",
       "      <td>2019</td>\n",
       "      <td>8.2</td>\n",
       "      <td>Mehmet Ada Öztekin</td>\n",
       "      <td>132</td>\n",
       "      <td>02:12</td>\n",
       "    </tr>\n",
       "    <tr>\n",
       "      <th>247</th>\n",
       "      <td>248</td>\n",
       "      <td>2013</td>\n",
       "      <td>8.2</td>\n",
       "      <td>Zaza Urushadze</td>\n",
       "      <td>87</td>\n",
       "      <td>01:27</td>\n",
       "    </tr>\n",
       "    <tr>\n",
       "      <th>248</th>\n",
       "      <td>249</td>\n",
       "      <td>2015</td>\n",
       "      <td>8.2</td>\n",
       "      <td>Nishikant Kamat</td>\n",
       "      <td>163</td>\n",
       "      <td>02:43</td>\n",
       "    </tr>\n",
       "    <tr>\n",
       "      <th>249</th>\n",
       "      <td>250</td>\n",
       "      <td>2004</td>\n",
       "      <td>8.2</td>\n",
       "      <td>Ashutosh Gowariker</td>\n",
       "      <td>189</td>\n",
       "      <td>03:09</td>\n",
       "    </tr>\n",
       "  </tbody>\n",
       "</table>\n",
       "<p>250 rows × 6 columns</p>\n",
       "</div>"
      ],
      "text/plain": [
       "      id  release_year  rating              director  runtime  \\\n",
       "0      1          1994     9.3        Frank Darabont      142   \n",
       "1      2          1972     9.2  Francis Ford Coppola      175   \n",
       "2      3          1974     9.0  Francis Ford Coppola      202   \n",
       "3      4          2008     9.0     Christopher Nolan      152   \n",
       "4      5          1957     9.0          Sidney Lumet       96   \n",
       "..   ...           ...     ...                   ...      ...   \n",
       "245  246          1997     8.1          Hideaki Anno       87   \n",
       "246  247          2019     8.2    Mehmet Ada Öztekin      132   \n",
       "247  248          2013     8.2        Zaza Urushadze       87   \n",
       "248  249          2015     8.2       Nishikant Kamat      163   \n",
       "249  250          2004     8.2    Ashutosh Gowariker      189   \n",
       "\n",
       "    runtime_hours_mins  \n",
       "0                02:22  \n",
       "1                02:55  \n",
       "2                03:22  \n",
       "3                02:32  \n",
       "4                01:36  \n",
       "..                 ...  \n",
       "245              01:27  \n",
       "246              02:12  \n",
       "247              01:27  \n",
       "248              02:43  \n",
       "249              03:09  \n",
       "\n",
       "[250 rows x 6 columns]"
      ]
     },
     "execution_count": 38,
     "metadata": {},
     "output_type": "execute_result"
    }
   ],
   "source": [
    "movies.set_index(\"title\").reset_index(drop=True)"
   ]
  },
  {
   "cell_type": "markdown",
   "metadata": {
    "slideshow": {
     "slide_type": "subslide"
    }
   },
   "source": [
    "## 指定 `DataFrame.columns` 調整欄標籤"
   ]
  },
  {
   "cell_type": "code",
   "execution_count": 39,
   "metadata": {},
   "outputs": [
    {
     "name": "stdout",
     "output_type": "stream",
     "text": [
      "Index(['id', 'title', 'release_year', 'rating', 'director', 'runtime',\n",
      "       'runtime_hours_mins'],\n",
      "      dtype='object')\n",
      "Index(['ID', 'TITLE', 'RELEASE_YEAR', 'RATING', 'DIRECTOR', 'RUNTIME',\n",
      "       'RUNTIME_HOURS_MINS'],\n",
      "      dtype='object')\n"
     ]
    }
   ],
   "source": [
    "print(movies.columns)\n",
    "movies.columns = [column.upper() for column in movies.columns]\n",
    "print(movies.columns)"
   ]
  },
  {
   "cell_type": "markdown",
   "metadata": {
    "slideshow": {
     "slide_type": "subslide"
    }
   },
   "source": [
    "## 處理多個變數的分組聚合結果\n",
    "\n",
    "如果在 `DataFrame.groupby()` 輸入了多個變數作為分組依據 `[column_0, column_1, ...]` 輸出的 `Series` 會有特殊的 `MultiIndex` 類別。"
   ]
  },
  {
   "cell_type": "code",
   "execution_count": 40,
   "metadata": {},
   "outputs": [
    {
     "data": {
      "text/plain": [
       "MultiIndex([(1921,     'Charles Chaplin'),\n",
       "            (1924,       'Buster Keaton'),\n",
       "            (1925,     'Charles Chaplin'),\n",
       "            (1926,      'Clyde Bruckman'),\n",
       "            (1927,          'Fritz Lang'),\n",
       "            (1928, 'Carl Theodor Dreyer'),\n",
       "            (1931,     'Charles Chaplin'),\n",
       "            (1931,          'Fritz Lang'),\n",
       "            (1934,         'Frank Capra'),\n",
       "            (1936,     'Charles Chaplin'),\n",
       "            ...\n",
       "            (2019,        'Bong Joon Ho'),\n",
       "            (2019,      'Céline Sciamma'),\n",
       "            (2019,       'James Mangold'),\n",
       "            (2019,  'Mehmet Ada Öztekin'),\n",
       "            (2019,          'Sam Mendes'),\n",
       "            (2019,       'Sergio Pablos'),\n",
       "            (2019,       'Todd Phillips'),\n",
       "            (2020,         'Pete Docter'),\n",
       "            (2020,         'Thomas Kail'),\n",
       "            (2021,         'Zack Snyder')],\n",
       "           names=['release_year', 'director'], length=247)"
      ]
     },
     "execution_count": 40,
     "metadata": {},
     "output_type": "execute_result"
    }
   ],
   "source": [
    "movies = pd.read_csv(\"/home/jovyan/data/internet-movie-database/movies.csv\")\n",
    "movies_by_year_director = movies.groupby([\"release_year\", \"director\"])[\"title\"].count()\n",
    "movies_by_year_director.index"
   ]
  },
  {
   "cell_type": "markdown",
   "metadata": {
    "slideshow": {
     "slide_type": "subslide"
    }
   },
   "source": [
    "## 如何操作 `MultiIndex` 類別\n",
    "\n",
    "- 以操作 `tuple` 的方式面對 `MultiIndex` 類別。\n",
    "- 使用 `DataFrame.reset_index()` 重設列標籤。"
   ]
  },
  {
   "cell_type": "markdown",
   "metadata": {
    "slideshow": {
     "slide_type": "subslide"
    }
   },
   "source": [
    "## 以操作 `tuple` 的方式面對 `MultiIndex` 類別"
   ]
  },
  {
   "cell_type": "code",
   "execution_count": 41,
   "metadata": {},
   "outputs": [
    {
     "data": {
      "text/plain": [
       "director\n",
       "Andrew Stanton       1\n",
       "Christopher Nolan    1\n",
       "Clint Eastwood       1\n",
       "Name: title, dtype: int64"
      ]
     },
     "execution_count": 41,
     "metadata": {},
     "output_type": "execute_result"
    }
   ],
   "source": [
    "movies_by_year_director[(2008, )]"
   ]
  },
  {
   "cell_type": "code",
   "execution_count": 42,
   "metadata": {},
   "outputs": [
    {
     "data": {
      "text/plain": [
       "1"
      ]
     },
     "execution_count": 42,
     "metadata": {},
     "output_type": "execute_result"
    }
   ],
   "source": [
    "movies_by_year_director[(2008, \"Christopher Nolan\")]"
   ]
  },
  {
   "cell_type": "markdown",
   "metadata": {
    "slideshow": {
     "slide_type": "subslide"
    }
   },
   "source": [
    "## 使用 `DataFrame.reset_index()` 重設列標籤"
   ]
  },
  {
   "cell_type": "code",
   "execution_count": 43,
   "metadata": {},
   "outputs": [
    {
     "data": {
      "text/html": [
       "<div>\n",
       "<style scoped>\n",
       "    .dataframe tbody tr th:only-of-type {\n",
       "        vertical-align: middle;\n",
       "    }\n",
       "\n",
       "    .dataframe tbody tr th {\n",
       "        vertical-align: top;\n",
       "    }\n",
       "\n",
       "    .dataframe thead th {\n",
       "        text-align: right;\n",
       "    }\n",
       "</style>\n",
       "<table border=\"1\" class=\"dataframe\">\n",
       "  <thead>\n",
       "    <tr style=\"text-align: right;\">\n",
       "      <th></th>\n",
       "      <th>release_year</th>\n",
       "      <th>director</th>\n",
       "      <th>title</th>\n",
       "    </tr>\n",
       "  </thead>\n",
       "  <tbody>\n",
       "    <tr>\n",
       "      <th>0</th>\n",
       "      <td>1921</td>\n",
       "      <td>Charles Chaplin</td>\n",
       "      <td>1</td>\n",
       "    </tr>\n",
       "    <tr>\n",
       "      <th>1</th>\n",
       "      <td>1924</td>\n",
       "      <td>Buster Keaton</td>\n",
       "      <td>1</td>\n",
       "    </tr>\n",
       "    <tr>\n",
       "      <th>2</th>\n",
       "      <td>1925</td>\n",
       "      <td>Charles Chaplin</td>\n",
       "      <td>1</td>\n",
       "    </tr>\n",
       "    <tr>\n",
       "      <th>3</th>\n",
       "      <td>1926</td>\n",
       "      <td>Clyde Bruckman</td>\n",
       "      <td>1</td>\n",
       "    </tr>\n",
       "    <tr>\n",
       "      <th>4</th>\n",
       "      <td>1927</td>\n",
       "      <td>Fritz Lang</td>\n",
       "      <td>1</td>\n",
       "    </tr>\n",
       "    <tr>\n",
       "      <th>...</th>\n",
       "      <td>...</td>\n",
       "      <td>...</td>\n",
       "      <td>...</td>\n",
       "    </tr>\n",
       "    <tr>\n",
       "      <th>242</th>\n",
       "      <td>2019</td>\n",
       "      <td>Sergio Pablos</td>\n",
       "      <td>1</td>\n",
       "    </tr>\n",
       "    <tr>\n",
       "      <th>243</th>\n",
       "      <td>2019</td>\n",
       "      <td>Todd Phillips</td>\n",
       "      <td>1</td>\n",
       "    </tr>\n",
       "    <tr>\n",
       "      <th>244</th>\n",
       "      <td>2020</td>\n",
       "      <td>Pete Docter</td>\n",
       "      <td>1</td>\n",
       "    </tr>\n",
       "    <tr>\n",
       "      <th>245</th>\n",
       "      <td>2020</td>\n",
       "      <td>Thomas Kail</td>\n",
       "      <td>1</td>\n",
       "    </tr>\n",
       "    <tr>\n",
       "      <th>246</th>\n",
       "      <td>2021</td>\n",
       "      <td>Zack Snyder</td>\n",
       "      <td>1</td>\n",
       "    </tr>\n",
       "  </tbody>\n",
       "</table>\n",
       "<p>247 rows × 3 columns</p>\n",
       "</div>"
      ],
      "text/plain": [
       "     release_year         director  title\n",
       "0            1921  Charles Chaplin      1\n",
       "1            1924    Buster Keaton      1\n",
       "2            1925  Charles Chaplin      1\n",
       "3            1926   Clyde Bruckman      1\n",
       "4            1927       Fritz Lang      1\n",
       "..            ...              ...    ...\n",
       "242          2019    Sergio Pablos      1\n",
       "243          2019    Todd Phillips      1\n",
       "244          2020      Pete Docter      1\n",
       "245          2020      Thomas Kail      1\n",
       "246          2021      Zack Snyder      1\n",
       "\n",
       "[247 rows x 3 columns]"
      ]
     },
     "execution_count": 43,
     "metadata": {},
     "output_type": "execute_result"
    }
   ],
   "source": [
    "movies_by_year_director.reset_index()"
   ]
  },
  {
   "cell_type": "markdown",
   "metadata": {
    "slideshow": {
     "slide_type": "slide"
    }
   },
   "source": [
    "## 重點統整\n",
    "\n",
    "- `DataFrame` 是有兩個維度的資料結構。\n",
    "    - 第一個維度稱為觀測值（Observations），有時亦稱為列（Rows）\n",
    "    - 第二個維度稱為變數（Variables），有時亦稱為欄（Columns）\n",
    "    - 我們習慣以 `(m, n)` 或者 `m x n` 來描述一個具有 `m` 列觀測值、`n` 欄變數的 `DataFrame`\n",
    "- 區分 `DataFrame` 的兩種索引語法。\n",
    "    - `DataFrame.loc[row-label, column-label]` 以列、欄標籤為準。\n",
    "    - `DataFrame.iloc[row-integer-location, column-integer-location]` 以列、欄整數位置為準。"
   ]
  },
  {
   "cell_type": "markdown",
   "metadata": {
    "slideshow": {
     "slide_type": "subslide"
    }
   },
   "source": [
    "## 重點統整（續）\n",
    "\n",
    "- 善用三個技巧衍生計算欄位\n",
    "    - 元素操作（Elementwise）運算。\n",
    "    - 使用函數或 `Series` 的方法。\n",
    "    - 使用 `Series.map()`"
   ]
  }
 ],
 "metadata": {
  "celltoolbar": "Slideshow",
  "kernelspec": {
   "display_name": "Python Fifty Plus",
   "language": "python",
   "name": "pythonfiftyplus"
  },
  "language_info": {
   "codemirror_mode": {
    "name": "ipython",
    "version": 3
   },
   "file_extension": ".py",
   "mimetype": "text/x-python",
   "name": "python",
   "nbconvert_exporter": "python",
   "pygments_lexer": "ipython3",
   "version": "3.9.7"
  }
 },
 "nbformat": 4,
 "nbformat_minor": 4
}
