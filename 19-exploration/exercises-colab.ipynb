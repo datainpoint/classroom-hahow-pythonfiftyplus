{
 "cells": [
  {
   "cell_type": "markdown",
   "id": "heated-welding",
   "metadata": {
    "deletable": false
   },
   "source": [
    "# Python 的 50+ 練習：資料科學學習手冊\n",
    "\n",
    "> 探索性分析\n",
    "\n",
    "[數據交點](https://www.datainpoint.com) | 郭耀仁 <yaojenkuo@datainpoint.com>"
   ]
  },
  {
   "cell_type": "markdown",
   "id": "fleet-tokyo",
   "metadata": {
    "deletable": false
   },
   "source": [
    "## 練習題指引\n",
    "\n",
    "- 由於近期 mybinder.org 的服務不穩定，新增 Google Colab 作為另一個寫作練習題的平台。\n",
    "- 開始寫作之前，可以先按上方「Copy to Drive」按鈕將筆記本複製到自己的 Google 雲端硬碟。\n",
    "- 練習題閒置超過 10 分鐘會自動斷線，只要重新點選練習題連結即可重新啟動。\n",
    "- 第一個程式碼儲存格會將可能用得到的模組載入。\n",
    "- 如果練習題需要載入檔案，檔案存放絕對路徑為 `/content`\n",
    "- 練習題已經給定函數、類別、預期輸入或參數名稱，我們只需要寫作程式區塊。同時也給定函數的類別提示，說明預期輸入以及預期輸出的類別。\n",
    "- 說明（Docstring）會描述測試如何進行，閱讀說明能夠暸解預期輸入以及預期輸出之間的關係，幫助我們更快解題。\n",
    "- 請在 `### BEGIN SOLUTION` 與 `### END SOLUTION` 這兩個註解之間寫作函數或者類別的程式區塊。\n",
    "- 將預期輸出放置在 `return` 保留字之後，若只是用 `print()` 函數將預期輸出印出無法通過測試。\n",
    "- 語法錯誤（`SyntaxError`）或縮排錯誤（`IndentationError`）等將會導致測試失效，測試之前應該先在筆記本使用函數觀察是否與說明（Docstring）描述的功能相符。\n",
    "- 如果卡關，可以先看練習題詳解或者複習課程單元影片之後再繼續寫作。\n",
    "- 執行測試的步驟：\n",
    "    1. 點選右上角 Connect\n",
    "    2. 點選上方選單的 Runtime -> Restart and run all -> Yes -> Run anyway\n",
    "    3. 移動到 Google Colab 的最後一個儲存格看批改測試結果。\n",
    "- 先執行下列兩個程式碼儲存格載入需要的模組與下載檔案至 `/content`"
   ]
  },
  {
   "cell_type": "code",
   "execution_count": null,
   "id": "collected-norwegian",
   "metadata": {},
   "outputs": [],
   "source": [
    "import pandas as pd\n",
    "import matplotlib.pyplot as plt\n",
    "from PIL import Image"
   ]
  },
  {
   "cell_type": "code",
   "execution_count": null,
   "id": "8ef6b655",
   "metadata": {},
   "outputs": [],
   "source": [
    "!wget -N https://raw.githubusercontent.com/datainpoint/classroom-hahow-pythonfiftyplus/main/exercise_index.json\n",
    "!wget -N https://raw.githubusercontent.com/datainpoint/classroom-hahow-pythonfiftyplus/main/data/covid19/time_series_covid19_confirmed_global.csv\n",
    "!wget -N https://raw.githubusercontent.com/datainpoint/classroom-hahow-pythonfiftyplus/main/data/covid19/time_series_covid19_deaths_global.csv"
   ]
  },
  {
   "cell_type": "markdown",
   "id": "4ebdd825",
   "metadata": {},
   "source": [
    "## 171. 載入 `time_series_covid19_confirmed_global.csv`\n",
    "\n",
    "定義函數 `import_covid19_time_series_confirmed()` 將位於 `/content` 路徑的 `time_series_covid19_confirmed_global.csv` 載入。\n",
    "\n",
    "- 運用絕對路徑。\n",
    "- 使用 `pd.read_csv()` 函數。\n",
    "- 將預期輸出寫在 `return` 之後。"
   ]
  },
  {
   "cell_type": "code",
   "execution_count": null,
   "id": "d6ddcd00",
   "metadata": {},
   "outputs": [],
   "source": [
    "def import_covid19_time_series_confirmed() -> pd.core.frame.DataFrame:\n",
    "    \"\"\"\n",
    "    >>> covid19_time_series_confirmed = import_covid19_time_series_confirmed()\n",
    "    >>> covid19_time_series_confirmed.shape\n",
    "    (280, 735)\n",
    "    \"\"\"\n",
    "    ### BEGIN SOLUTION\n",
    "    \n",
    "    ### END SOLUTION"
   ]
  },
  {
   "cell_type": "markdown",
   "id": "b64956cc",
   "metadata": {},
   "source": [
    "## 172. 確診人數前十多的國家\n",
    "\n",
    "定義函數 `find_top_ten_confirmed_by_country_region()` 選擇 `1/21/22`，並依照 `Country/Region` 變數加總後排序得到確診人數前十多的國家。\n",
    "\n",
    "- 使用 `import_covid19_time_series_confirmed()` 函數。\n",
    "- 運用選擇欄位技巧。\n",
    "- 運用分組聚合技巧。\n",
    "- 運用排序技巧。\n",
    "- 運用 Fancy indexing\n",
    "- 將預期輸出寫在 `return` 之後。"
   ]
  },
  {
   "cell_type": "code",
   "execution_count": null,
   "id": "d52fb9af",
   "metadata": {},
   "outputs": [],
   "source": [
    "def find_top_ten_confirmed_by_country_region() -> pd.core.series.Series:\n",
    "    \"\"\"\n",
    "    >>> top_ten_confirmed_by_country_region = find_top_ten_confirmed_by_country_region()\n",
    "    >>> top_ten_confirmed_by_country_region\n",
    "    Country/Region\n",
    "    Germany            8635461\n",
    "    Spain              8975458\n",
    "    Italy              9603856\n",
    "    Russia            10804032\n",
    "    Turkey            10808770\n",
    "    United Kingdom    15814617\n",
    "    France            16116748\n",
    "    Brazil            23766499\n",
    "    India             38903731\n",
    "    US                70209840\n",
    "    Name: 1/21/22, dtype: int64\n",
    "    \"\"\"\n",
    "    ### BEGIN SOLUTION\n",
    "    \n",
    "    ### END SOLUTION"
   ]
  },
  {
   "cell_type": "markdown",
   "id": "4afe87c4",
   "metadata": {},
   "source": [
    "## 173. 用水平長條圖視覺化確診人數前十多的國家\n",
    "\n",
    "定義函數 `export_top_ten_confirmed_by_country_region()` 將確診人數前十多的國家輸出為水平長條圖，圖檔名為 `confirmed_barh.png`。\n",
    "\n",
    "![](https://raw.githubusercontent.com/datainpoint/classroom-hahow-pythonfiftyplus/main/19-exploration/confirmed_barh.jpg)\n",
    "\n",
    "- 使用 `find_top_ten_confirmed_by_country_region()` 函數。\n",
    "- 使用 `plt.subplots()` 函數。\n",
    "- 使用 `AxesSubplot.barh()`\n",
    "- 使用 `fig.savefig()`"
   ]
  },
  {
   "cell_type": "code",
   "execution_count": null,
   "id": "d3cba527",
   "metadata": {},
   "outputs": [],
   "source": [
    "def export_top_ten_confirmed_by_country_region() -> None:\n",
    "    \"\"\"\n",
    "    >>> export_top_ten_confirmed_by_country_region()\n",
    "    >>> im = Image.open(\"confirmed_barh.png\")\n",
    "    >>> im.format\n",
    "    'PNG'\n",
    "    \"\"\"\n",
    "    ### BEGIN SOLUTION\n",
    "    \n",
    "    ### END SOLUTION"
   ]
  },
  {
   "cell_type": "markdown",
   "id": "8025406c",
   "metadata": {},
   "source": [
    "## 174. 載入 `time_series_covid19_deaths_global.csv`\n",
    "\n",
    "定義函數 `import_covid19_time_series_deaths()` 將位於 `/content` 路徑的 `time_series_covid19_deaths_global.csv` 載入。\n",
    "\n",
    "- 運用絕對路徑。\n",
    "- 使用 `pd.read_csv()` 函數。\n",
    "- 將預期輸出寫在 `return` 之後。"
   ]
  },
  {
   "cell_type": "code",
   "execution_count": null,
   "id": "8c340d7c",
   "metadata": {},
   "outputs": [],
   "source": [
    "def import_covid19_time_series_deaths() -> pd.core.frame.DataFrame:\n",
    "    \"\"\"\n",
    "    >>> covid19_time_series_deaths = import_covid19_time_series_deaths()\n",
    "    >>> covid19_time_series_deaths.shape\n",
    "    (280, 735)\n",
    "    \"\"\"\n",
    "    ### BEGIN SOLUTION\n",
    "    \n",
    "    ### END SOLUTION"
   ]
  },
  {
   "cell_type": "markdown",
   "id": "e4b28491",
   "metadata": {},
   "source": [
    "## 175. 死亡人數前十多的國家\n",
    "\n",
    "定義函數 `find_top_ten_deaths_by_country_region()` 選擇 `1/21/22`，並依照 `Country/Region` 變數加總後排序得到死亡人數前十多的國家。\n",
    "\n",
    "- 使用 `import_covid19_time_series_deaths()` 函數。\n",
    "- 運用選擇欄位技巧。\n",
    "- 運用分組聚合技巧。\n",
    "- 運用排序技巧。\n",
    "- 運用 Fancy indexing\n",
    "- 將預期輸出寫在 `return` 之後。"
   ]
  },
  {
   "cell_type": "code",
   "execution_count": null,
   "id": "a76faa0a",
   "metadata": {},
   "outputs": [],
   "source": [
    "def find_top_ten_deaths_by_country_region() -> pd.core.series.Series:\n",
    "    \"\"\"\n",
    "    >>> top_ten_deaths_by_country_region = find_top_ten_deaths_by_country_region()\n",
    "    >>> top_ten_deaths_by_country_region\n",
    "    Country/Region\n",
    "    Iran              132172\n",
    "    Italy             142963\n",
    "    Indonesia         144201\n",
    "    United Kingdom    154001\n",
    "    Peru              203994\n",
    "    Mexico            302721\n",
    "    Russia            318200\n",
    "    India             488884\n",
    "    Brazil            622875\n",
    "    US                864556\n",
    "    Name: 1/21/22, dtype: int64\n",
    "    \"\"\"\n",
    "    ### BEGIN SOLUTION\n",
    "    \n",
    "    ### END SOLUTION"
   ]
  },
  {
   "cell_type": "markdown",
   "id": "4f367957",
   "metadata": {},
   "source": [
    "## 176. 用水平長條圖視覺化死亡人數前十多的國家\n",
    "\n",
    "定義函數 `export_top_ten_deaths_by_country_region()` 將死亡人數前十多的國家輸出為水平長條圖，圖檔名為 `deaths_barh.png`\n",
    "\n",
    "![](https://raw.githubusercontent.com/datainpoint/classroom-hahow-pythonfiftyplus/main/19-exploration/deaths_barh.jpg)\n",
    "\n",
    "- 使用 `find_top_ten_deaths_by_country_region()` 函數。\n",
    "- 使用 `plt.subplots()` 函數。\n",
    "- 使用 `AxesSubplot.barh()`\n",
    "- 使用 `fig.savefig()`"
   ]
  },
  {
   "cell_type": "code",
   "execution_count": null,
   "id": "d7b3bd64",
   "metadata": {},
   "outputs": [],
   "source": [
    "def export_top_ten_deaths_by_country_region() -> None:\n",
    "    \"\"\"\n",
    "    >>> export_top_ten_deaths_by_country_region()\n",
    "    >>> im = Image.open(\"deaths_barh.png\")\n",
    "    >>> im.format\n",
    "    'PNG'\n",
    "    \"\"\"\n",
    "    ### BEGIN SOLUTION\n",
    "    \n",
    "    ### END SOLUTION"
   ]
  },
  {
   "cell_type": "markdown",
   "id": "d73b75e5",
   "metadata": {},
   "source": [
    "## 177. 轉置日期欄位與確診數並以日期分組\n",
    "\n",
    "定義函數 `sum_confirmed_by_date()` 將 `time_series_covid19_confirmed_global.csv` 中 `Province/State`、`Country/Region`、`Lat`、`Long` 以外日期的欄位與其對應的確診數轉置為長格式的外觀，變數名稱分別取為 `Date`、`Confirmed`。依照 `Date` 變數分組加總 `Confirmed`，並且將 `Date` 轉換為 `DatetimeIndex`\n",
    "\n",
    "- 使用 `import_covid19_time_series_confirmed()` 函數。\n",
    "- 使用 `pd.melt()` 函數。\n",
    "- 運用分組聚合技巧。\n",
    "- 使用 `pd.to_datetime()` 函數。\n",
    "- 將預期輸出寫在 `return` 之後。"
   ]
  },
  {
   "cell_type": "code",
   "execution_count": null,
   "id": "32a35810",
   "metadata": {},
   "outputs": [],
   "source": [
    "def sum_confirmed_by_date() -> pd.core.series.Series:\n",
    "    \"\"\"\n",
    "    >>> confirmed_by_date = sum_confirmed_by_date()\n",
    "    >>> confirmed_by_date\n",
    "    Date\n",
    "    2020-01-22          557\n",
    "    2020-01-23          655\n",
    "    2020-01-24          941\n",
    "    2020-01-25         1434\n",
    "    2020-01-26         2118\n",
    "                    ...    \n",
    "    2022-01-17    331071195\n",
    "    2022-01-18    334769899\n",
    "    2022-01-19    339002398\n",
    "    2022-01-20    342581803\n",
    "    2022-01-21    346464304\n",
    "    Name: Confirmed, Length: 731, dtype: int64\n",
    "    \"\"\"\n",
    "    ### BEGIN SOLUTION\n",
    "    \n",
    "    ### END SOLUTION"
   ]
  },
  {
   "cell_type": "markdown",
   "id": "9391767f",
   "metadata": {},
   "source": [
    "## 178. 轉置日期欄位與死亡數並以日期分組\n",
    "\n",
    "定義函數 `sum_deaths_by_date()` 將 `time_series_covid19_deaths_global.csv` 中 `Province/State`、`Country/Region`、`Lat`、`Long` 以外日期的欄位與其對應的死亡數轉置為長格式的外觀，變數名稱分別取為 `Date`、`Deaths`。依照 `Date` 變數分組加總 `Deaths`，並且將 `Date` 轉換為 `DatetimeIndex`\n",
    "\n",
    "- 使用 `import_covid19_time_series_deaths()` 函數。\n",
    "- 使用 `pd.melt()` 函數。\n",
    "- 運用分組聚合技巧。\n",
    "- 使用 `pd.to_datetime()` 函數。\n",
    "- 將預期輸出寫在 `return` 之後。"
   ]
  },
  {
   "cell_type": "code",
   "execution_count": null,
   "id": "864da612",
   "metadata": {},
   "outputs": [],
   "source": [
    "def sum_deaths_by_date() -> pd.core.series.Series:\n",
    "    \"\"\"\n",
    "    >>> deaths_by_date = sum_deaths_by_date()\n",
    "    >>> deaths_by_date\n",
    "    Date\n",
    "    2020-01-22         17\n",
    "    2020-01-23         18\n",
    "    2020-01-24         26\n",
    "    2020-01-25         42\n",
    "    2020-01-26         56\n",
    "                   ...   \n",
    "    2022-01-17    5547087\n",
    "    2022-01-18    5555528\n",
    "    2022-01-19    5565940\n",
    "    2022-01-20    5575061\n",
    "    2022-01-21    5585224\n",
    "    Name: Deaths, Length: 731, dtype: int64\n",
    "    \"\"\"\n",
    "    ### BEGIN SOLUTION\n",
    "    \n",
    "    ### END SOLUTION"
   ]
  },
  {
   "cell_type": "markdown",
   "id": "c239239e",
   "metadata": {},
   "source": [
    "## 179. 關聯確診數與死亡數\n",
    "\n",
    "定義函數 `merge_confirmed_deaths_series()` 利用日期將全球累計確診數與死亡數的時間序列關聯為一個 `DataFrame`\n",
    "\n",
    "- 使用 `sum_confirmed_by_date()` 函數。\n",
    "- 使用 `sum_deaths_by_date()` 函數。\n",
    "- 將預期輸出寫在 `return` 之後。"
   ]
  },
  {
   "cell_type": "code",
   "execution_count": null,
   "id": "c409b016",
   "metadata": {},
   "outputs": [],
   "source": [
    "def merge_confirmed_deaths_series() -> pd.core.frame.DataFrame:\n",
    "    \"\"\"\n",
    "    >>> merged_confirmed_deaths = merge_confirmed_deaths_series()\n",
    "    >>> merged_confirmed_deaths\n",
    "                Confirmed   Deaths\n",
    "    Date                          \n",
    "    2020-01-22        557       17\n",
    "    2020-01-23        655       18\n",
    "    2020-01-24        941       26\n",
    "    2020-01-25       1434       42\n",
    "    2020-01-26       2118       56\n",
    "    ...               ...      ...\n",
    "    2022-01-17  331071195  5547087\n",
    "    2022-01-18  334769899  5555528\n",
    "    2022-01-19  339002398  5565940\n",
    "    2022-01-20  342581803  5575061\n",
    "    2022-01-21  346464304  5585224\n",
    "\n",
    "    [731 rows x 2 columns]\n",
    "    \"\"\"\n",
    "    ### BEGIN SOLUTION\n",
    "    \n",
    "    ### END SOLUTION"
   ]
  },
  {
   "cell_type": "markdown",
   "id": "d90224ac",
   "metadata": {},
   "source": [
    "## 180. 用線圖視覺化全球累計確診數與死亡數的時間序列\n",
    "\n",
    "定義函數 `export_time_series_subplots()` 將全球累計確診數與死亡數的時間序列輸出為 `(1, 2)` 的子圖，圖檔名為 `time_series_subplots.png`\n",
    "\n",
    "![](https://raw.githubusercontent.com/datainpoint/classroom-hahow-pythonfiftyplus/main/19-exploration/time_series_subplots.jpg)\n",
    "\n",
    "- 使用 `merge_confirmed_deaths_series()` 函數。\n",
    "- 使用 `plt.subplots(1, 2, figsize=(15, 4))` 函數。\n",
    "- 運用繪製子圖技巧。\n",
    "- 使用 `AxesSubplot.plot()`\n",
    "- 使用 `AxesSubplot.set_title()`\n",
    "- 使用 `fig.savefig()`"
   ]
  },
  {
   "cell_type": "code",
   "execution_count": null,
   "id": "8a0962b8",
   "metadata": {},
   "outputs": [],
   "source": [
    "def export_time_series_subplots() -> None:\n",
    "    \"\"\"\n",
    "    >>> export_time_series_subplots()\n",
    "    >>> im = Image.open(\"time_series_subplots.png\")\n",
    "    >>> im.format\n",
    "    'PNG'\n",
    "    \"\"\"\n",
    "    ### BEGIN SOLUTION\n",
    "    \n",
    "    ### END SOLUTION"
   ]
  },
  {
   "cell_type": "markdown",
   "id": "e46f13eb",
   "metadata": {},
   "source": [
    "## 練習題到此結束，以下的儲存格可以忽略"
   ]
  },
  {
   "cell_type": "code",
   "execution_count": null,
   "id": "4b650be3",
   "metadata": {},
   "outputs": [],
   "source": [
    "import unittest\n",
    "import json\n",
    "\n",
    "def run_suite(test_class, chapter_index):\n",
    "    suite = unittest.TestLoader().loadTestsFromTestCase(test_class)\n",
    "    runner = unittest.TextTestRunner(verbosity=2)\n",
    "    test_results = runner.run(suite)\n",
    "    number_of_failures = len(test_results.failures)\n",
    "    number_of_errors = len(test_results.errors)\n",
    "    number_of_test_runs = test_results.testsRun\n",
    "    number_of_successes = number_of_test_runs - (number_of_failures + number_of_errors)\n",
    "    with open(\"exercise_index.json\", \"r\") as f:\n",
    "        exercise_index = json.load(f)\n",
    "    chapter_name = exercise_index[chapter_index][\"chapter_name\"]\n",
    "    number_of_total_questions = 0\n",
    "    number_of_completed_questions = 0\n",
    "    for i in range(len(exercise_index)):\n",
    "        number_of_total_questions += exercise_index[i][\"number_of_exercises\"]\n",
    "        if i < chapter_index:\n",
    "            number_of_completed_questions += exercise_index[i][\"number_of_exercises\"]\n",
    "    number_of_completed_questions += number_of_successes\n",
    "    chapter_percentage = number_of_successes * 100 / number_of_test_runs\n",
    "    overall_percentage = number_of_completed_questions * 100 / number_of_total_questions\n",
    "    print(\"你在「{}」章節的練習題完成率為 ... {:.2f}% ({}/{})\".format(chapter_name, chapter_percentage, number_of_successes, number_of_test_runs))\n",
    "    print(\"整體課程練習題的累計完成率為 ... {:.2f}% ({}/{})\".format(overall_percentage, number_of_completed_questions, number_of_total_questions))\n",
    "    if chapter_percentage == 100 and chapter_index < 19:\n",
    "        print(\"表現得很好，你已經完成「{}」所有習題，我們繼續往下個章節：「{}」前進！\".format(exercise_index[chapter_index][\"chapter_name\"], exercise_index[chapter_index + 1][\"chapter_name\"]))\n",
    "        if chapter_index == 4:\n",
    "            print(\"太棒了，你已經完成「Python 的 50+ 練習」的第一部分：Python 程式設計的基礎觀念，接下來還有三個部分等你來挑戰！\")\n",
    "        elif chapter_index == 8:\n",
    "            print(\"表現得非常好，你已經完成「Python 的 50+ 練習」的第二部分：Python 程式設計的進階觀念，接著讓我們邁向資料科學！\")\n",
    "        elif chapter_index == 12:\n",
    "            print(\"太令人佩服，你已經完成「Python 的 50+ 練習」的第三部分：Python 資料科學的基礎，距離完課只剩下最後一哩路！\")\n",
    "    elif chapter_percentage == 100 and chapter_index == 19:\n",
    "        print(\"恭喜完課，你已經完成「Python 的 50+ 練習」所有習題，能夠堅持到底完成所有的教學影片與練習題真是非常了不起！後面已經沒有練習題了，你現在是一位擅長寫程式處理資料的分析師！\")\n",
    "    elif chapter_percentage >= 50:\n",
    "        print(\"你已經完成「{}」章節一半以上的練習，繼續加油！\".format(chapter_name))\n",
    "\n",
    "class TestExploration(unittest.TestCase):\n",
    "    def test_171_import_covid19_time_series_confirmed(self):\n",
    "        covid19_time_series_confirmed = import_covid19_time_series_confirmed()\n",
    "        self.assertIsInstance(covid19_time_series_confirmed, pd.core.frame.DataFrame)\n",
    "        self.assertEqual(covid19_time_series_confirmed.shape, (280, 735))\n",
    "    def test_172_find_top_ten_confirmed_by_country_region(self):\n",
    "        top_ten_confirmed_by_country_region = find_top_ten_confirmed_by_country_region()\n",
    "        self.assertIsInstance(top_ten_confirmed_by_country_region, pd.core.series.Series)\n",
    "        self.assertEqual(top_ten_confirmed_by_country_region.size, 10)\n",
    "    def test_173_export_top_ten_confirmed_by_country_region(self):\n",
    "        export_top_ten_confirmed_by_country_region()\n",
    "        im = Image.open(\"confirmed_barh.png\")\n",
    "        self.assertEqual(im.format, 'PNG')\n",
    "        #im_test = Image.open(\"/home/jovyan/test-images/confirmed_barh.png\")\n",
    "        #diff_sum = (np.array(im) - np.array(im_test)).sum()\n",
    "        #self.assertEqual(diff_sum, 0)\n",
    "    def test_174_import_covid19_time_series_deaths(self):\n",
    "        covid19_time_series_deaths = import_covid19_time_series_deaths()\n",
    "        self.assertIsInstance(covid19_time_series_deaths, pd.core.frame.DataFrame)\n",
    "        self.assertEqual(covid19_time_series_deaths.shape, (280, 735))\n",
    "    def test_175_find_top_ten_deaths_by_country_region(self):\n",
    "        top_ten_deaths_by_country_region = find_top_ten_deaths_by_country_region()\n",
    "        self.assertIsInstance(top_ten_deaths_by_country_region, pd.core.series.Series)\n",
    "        self.assertEqual(top_ten_deaths_by_country_region.size, 10)\n",
    "    def test_176_export_top_ten_deaths_by_country_region(self):\n",
    "        export_top_ten_deaths_by_country_region()\n",
    "        im = Image.open(\"deaths_barh.png\")\n",
    "        self.assertEqual(im.format, 'PNG')\n",
    "        #im_test = Image.open(\"/home/jovyan/test-images/deaths_barh.png\")\n",
    "        #diff_sum = (np.array(im) - np.array(im_test)).sum()\n",
    "        #self.assertEqual(diff_sum, 0)\n",
    "    def test_177_sum_confirmed_by_date(self):\n",
    "        confirmed_by_date = sum_confirmed_by_date()\n",
    "        self.assertIsInstance(confirmed_by_date, pd.core.series.Series)\n",
    "        self.assertEqual(confirmed_by_date.size, 731)\n",
    "    def test_178_sum_deaths_by_date(self):\n",
    "        deaths_by_date = sum_deaths_by_date()\n",
    "        self.assertIsInstance(deaths_by_date, pd.core.series.Series)\n",
    "        self.assertEqual(deaths_by_date.size, 731)\n",
    "    def test_179_merge_confirmed_deaths_series(self):\n",
    "        merged_confirmed_deaths = merge_confirmed_deaths_series()\n",
    "        self.assertIsInstance(merged_confirmed_deaths, pd.core.frame.DataFrame)\n",
    "        self.assertEqual(merged_confirmed_deaths.shape, (731, 2))\n",
    "    def test_180_export_time_series_subplots(self):\n",
    "        export_time_series_subplots()\n",
    "        im = Image.open(\"time_series_subplots.png\")\n",
    "        self.assertEqual(im.format, 'PNG')\n",
    "        #im_test = Image.open(\"/home/jovyan/test-images/time_series_subplots.png\")\n",
    "        #diff_sum = (np.array(im) - np.array(im_test)).sum()\n",
    "        #self.assertEqual(diff_sum, 0)\n",
    "\n",
    "run_suite(TestExploration, 18)"
   ]
  }
 ],
 "metadata": {
  "kernelspec": {
   "display_name": "Python Fifty Plus",
   "language": "python",
   "name": "pythonfiftyplus"
  },
  "language_info": {
   "codemirror_mode": {
    "name": "ipython",
    "version": 3
   },
   "file_extension": ".py",
   "mimetype": "text/x-python",
   "name": "python",
   "nbconvert_exporter": "python",
   "pygments_lexer": "ipython3",
   "version": "3.9.7"
  }
 },
 "nbformat": 4,
 "nbformat_minor": 5
}
