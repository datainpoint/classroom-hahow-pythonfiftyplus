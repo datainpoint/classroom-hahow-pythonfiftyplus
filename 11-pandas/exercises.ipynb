{
 "cells": [
  {
   "cell_type": "markdown",
   "metadata": {
    "deletable": false
   },
   "source": [
    "# Python 的 50+ 練習：資料科學學習手冊\n",
    "\n",
    "> 資料科學模組 Pandas 入門\n",
    "\n",
    "[數據交點](https://www.datainpoint.com) | 郭耀仁 <yaojenkuo@datainpoint.com>"
   ]
  },
  {
   "cell_type": "markdown",
   "metadata": {
    "deletable": false
   },
   "source": [
    "## 練習題指引\n",
    "\n",
    "- 練習題閒置超過 10 分鐘會自動斷線，只要重新點選練習題連結即可重新啟動。\n",
    "- 第一個程式碼儲存格會將可能用得到的模組載入。\n",
    "- 如果練習題需要載入檔案，檔案存放絕對路徑為 `/home/jovyan/data`，相對路徑為 `../data`\n",
    "- 練習題已經給定函數、類別、預期輸入或參數名稱，我們只需要寫作程式區塊。同時也給定函數的類別提示，說明預期輸入以及預期輸出的類別。\n",
    "- 說明（Docstring）會描述測試如何進行，閱讀說明能夠暸解預期輸入以及預期輸出之間的關係，幫助我們更快解題。\n",
    "- 請在 `### BEGIN SOLUTION` 與 `### END SOLUTION` 這兩個註解之間寫作函數或者類別的程式區塊。\n",
    "- 將預期輸出放置在 `return` 保留字之後，若只是用 `print()` 函數將預期輸出印出無法通過測試。\n",
    "- 語法錯誤（`SyntaxError`）或縮排錯誤（`IndentationError`）等將會導致測試失效，測試之前應該先在筆記本使用函數觀察是否與說明（Docstring）描述的功能相符。\n",
    "- 如果卡關，可以先看練習題詳解或者複習課程單元影片之後再繼續寫作。\n",
    "- 執行測試的步驟：\n",
    "    1. 點選上方選單的 File -> Save Notebook 儲存 exercises.ipynb。\n",
    "    2. 點選上方選單的 File -> New -> Terminal 開啟終端機。\n",
    "    3. 在終端機輸入 `python 11-pandas/test_runner.py` 後按下 Enter 執行測試。"
   ]
  },
  {
   "cell_type": "code",
   "execution_count": null,
   "metadata": {},
   "outputs": [],
   "source": [
    "import numpy as np\n",
    "import pandas as pd"
   ]
  },
  {
   "cell_type": "markdown",
   "metadata": {},
   "source": [
    "## 081. 建立前 5 個偶數的 `Index`\n",
    "\n",
    "定義函數 `create_first_five_evens_index()` 能夠回傳指定的 `Index`\n",
    "\n",
    "- 使用 `np.arange()` 函數。\n",
    "- 使用 `pd.Index()` 函數。\n",
    "- 將預期輸出寫在 `return` 之後。"
   ]
  },
  {
   "cell_type": "code",
   "execution_count": null,
   "metadata": {},
   "outputs": [],
   "source": [
    "def create_first_five_evens_index() -> pd.core.indexes.numeric.Int64Index:\n",
    "    \"\"\"\n",
    "    >>> first_five_evens_index = create_first_five_evens_index()\n",
    "    >>> first_five_evens_index\n",
    "    Int64Index([0, 2, 4, 6, 8], dtype='int64')\n",
    "    >>> type(first_five_evens_index)\n",
    "    pandas.core.indexes.numeric.Int64Index\n",
    "    \"\"\"\n",
    "    ### BEGIN SOLUTION\n",
    "    \n",
    "    ### END SOLUTION"
   ]
  },
  {
   "cell_type": "markdown",
   "metadata": {},
   "source": [
    "## 082. 建立包含指定文字的 `Index`\n",
    "\n",
    "定義函數 `create_a_str_index()` 能夠回傳指定的 `Index`\n",
    "\n",
    "- 使用 `pd.Index()` 函數。\n",
    "- 將預期輸出寫在 `return` 之後。"
   ]
  },
  {
   "cell_type": "code",
   "execution_count": null,
   "metadata": {},
   "outputs": [],
   "source": [
    "def create_a_str_index() -> pd.core.indexes.base.Index:\n",
    "    \"\"\"\n",
    "    >>> a_str_index = create_a_str_index()\n",
    "    >>> a_str_index\n",
    "    Index(['1st', '2nd', '3rd', '4th', '5th'], dtype='object')\n",
    "    >>> type(a_str_index)\n",
    "    pandas.core.indexes.base.Index\n",
    "    \"\"\"\n",
    "    ### BEGIN SOLUTION\n",
    "    \n",
    "    ### END SOLUTION"
   ]
  },
  {
   "cell_type": "markdown",
   "metadata": {},
   "source": [
    "## 083. 建立前 5 個偶數的 `Series`\n",
    "\n",
    "定義函數 `create_first_five_evens_series()` 能夠回傳指定的 `Series`\n",
    "\n",
    "- 使用 `np.arange()` 函數。\n",
    "- 使用 `pd.Series()` 函數。\n",
    "- 將預期輸出寫在 `return` 之後。"
   ]
  },
  {
   "cell_type": "code",
   "execution_count": null,
   "metadata": {},
   "outputs": [],
   "source": [
    "def create_first_five_evens_series() -> pd.core.series.Series:\n",
    "    \"\"\"\n",
    "    >>> first_five_evens_series = create_first_five_evens_series()\n",
    "    >>> first_five_evens_series\n",
    "    0    0\n",
    "    1    2\n",
    "    2    4\n",
    "    3    6\n",
    "    4    8\n",
    "    dtype: int64\n",
    "    >>> type(first_five_evens_series)\n",
    "    pandas.core.series.Series\n",
    "    \"\"\"\n",
    "    ### BEGIN SOLUTION\n",
    "    \n",
    "    ### END SOLUTION"
   ]
  },
  {
   "cell_type": "markdown",
   "metadata": {},
   "source": [
    "## 084. 調整前 5 個偶數 `Series` 的 `Index`\n",
    "\n",
    "定義函數 `update_first_five_evens_series_index()` 能夠調整前 5 個偶數 `Series` 的 `Index`\n",
    "\n",
    "- 使用 `create_first_five_evens_series()` 函數。\n",
    "- 運用 `Series.index`\n",
    "- 將預期輸出寫在 `return` 之後。"
   ]
  },
  {
   "cell_type": "code",
   "execution_count": null,
   "metadata": {},
   "outputs": [],
   "source": [
    "def update_first_five_evens_series_index() -> pd.core.series.Series:\n",
    "    \"\"\"\n",
    "    >>> updated_first_five_evens_series_index = update_first_five_evens_series_index()\n",
    "    >>> updated_first_five_evens_series_index\n",
    "    1st    0\n",
    "    2nd    2\n",
    "    3rd    4\n",
    "    4th    6\n",
    "    5th    8\n",
    "    dtype: int64\n",
    "    \"\"\"\n",
    "    ### BEGIN SOLUTION\n",
    "    \n",
    "    ### END SOLUTION"
   ]
  },
  {
   "cell_type": "markdown",
   "metadata": {},
   "source": [
    "## 085. 建立前 5 個奇數的 `Series`\n",
    "\n",
    "定義函數 `create_first_five_odds_series()` 能夠回傳指定的 `Series`\n",
    "\n",
    "- 使用 `np.arange()` 函數。\n",
    "- 使用 `pd.Series()` 函數。\n",
    "- 將預期輸出寫在 `return` 之後。"
   ]
  },
  {
   "cell_type": "code",
   "execution_count": null,
   "metadata": {},
   "outputs": [],
   "source": [
    "def create_first_five_odds_series() -> pd.core.series.Series:\n",
    "    \"\"\"\n",
    "    >>> first_five_odds_series = create_first_five_odds_series()\n",
    "    >>> first_five_odds_series\n",
    "    1st    1\n",
    "    2nd    3\n",
    "    3rd    5\n",
    "    4th    7\n",
    "    5th    9\n",
    "    dtype: int64\n",
    "    >>> type(first_five_odds_series)\n",
    "    pandas.core.series.Series\n",
    "    \"\"\"\n",
    "    ### BEGIN SOLUTION\n",
    "    \n",
    "    ### END SOLUTION"
   ]
  },
  {
   "cell_type": "markdown",
   "metadata": {},
   "source": [
    "## 086. 建立前 5 個質數的 `Series`\n",
    "\n",
    "定義函數 `create_first_five_primes_series()` 能夠回傳指定的 `Series`\n",
    "\n",
    "- 使用 `np.array()` 函數。\n",
    "- 使用 `pd.Series()` 函數。\n",
    "- 將預期輸出寫在 `return` 之後。"
   ]
  },
  {
   "cell_type": "code",
   "execution_count": null,
   "metadata": {},
   "outputs": [],
   "source": [
    "def create_first_five_primes_series() -> pd.core.series.Series:\n",
    "    \"\"\"\n",
    "    >>> first_five_primes_series = create_first_five_primes_series()\n",
    "    >>> first_five_primes_series\n",
    "    1st     2\n",
    "    2nd     3\n",
    "    3rd     5\n",
    "    4th     7\n",
    "    5th    11\n",
    "    dtype: int64\n",
    "    >>> type(first_five_primes_series)\n",
    "    pandas.core.series.Series\n",
    "    \"\"\"\n",
    "    ### BEGIN SOLUTION\n",
    "    \n",
    "    ### END SOLUTION"
   ]
  },
  {
   "cell_type": "markdown",
   "metadata": {},
   "source": [
    "## 087. 建立前 5 個整數的 `DataFrame`\n",
    "\n",
    "定義函數 `create_first_five_integer_dataframe()` 能夠回傳指定的 `DataFrame`\n",
    "\n",
    "- 使用 `update_first_five_evens_series_index()` 函數。\n",
    "- 使用 `create_first_five_odds_series()` 函數。\n",
    "- 使用 `create_first_five_primes_series()` 函數。\n",
    "- 使用 `pd.DataFrame()` 函數。\n",
    "- 將預期輸出寫在 `return` 之後。"
   ]
  },
  {
   "cell_type": "code",
   "execution_count": null,
   "metadata": {},
   "outputs": [],
   "source": [
    "def create_first_five_integer_dataframe() -> pd.core.frame.DataFrame:\n",
    "    \"\"\"\n",
    "    >>> first_five_integer_dataframe = create_first_five_integer_dataframe()\n",
    "    >>> first_five_integer_dataframe\n",
    "         even  odd  prime\n",
    "    1st     0    1      2\n",
    "    2nd     2    3      3\n",
    "    3rd     4    5      5\n",
    "    4th     6    7      7\n",
    "    5th     8    9     11\n",
    "    >>> type(first_five_integer_dataframe)\n",
    "    pandas.core.frame.DataFrame\n",
    "    \"\"\"\n",
    "    ### BEGIN SOLUTION\n",
    "    \n",
    "    ### END SOLUTION"
   ]
  },
  {
   "cell_type": "markdown",
   "metadata": {},
   "source": [
    "## 088. 建立魔戒三部曲電影資訊的 `DataFrame`\n",
    "\n",
    "定義函數 `create_lord_of_the_rings_dataframe()` 能夠回傳指定的 `DataFrame`\n",
    "\n",
    "- 使用 `pd.DataFrame()` 函數。\n",
    "- 將預期輸出寫在 `return` 之後。"
   ]
  },
  {
   "cell_type": "code",
   "execution_count": null,
   "metadata": {},
   "outputs": [],
   "source": [
    "def create_lord_of_the_rings_dataframe() -> pd.core.frame.DataFrame:\n",
    "    \"\"\"\n",
    "    >>> lord_of_the_rings_dataframe = create_lord_of_the_rings_dataframe()\n",
    "    >>> lord_of_the_rings_dataframe\n",
    "                            title       director  imdb_rating  release_year\n",
    "    0  The Fellowship of the Ring  Peter Jackson          8.8          2001\n",
    "    1              The Two Towers  Peter Jackson          8.7          2002\n",
    "    2      The Return of the King  Peter Jackson          8.9          2003\n",
    "    >>> type(lord_of_the_rings_dataframe)\n",
    "    pandas.core.frame.DataFrame\n",
    "    \"\"\"\n",
    "    ### BEGIN SOLUTION\n",
    "    \n",
    "    ### END SOLUTION"
   ]
  },
  {
   "cell_type": "markdown",
   "metadata": {},
   "source": [
    "## 089. 建立黑暗騎士三部曲電影資訊的 `DataFrame`\n",
    "\n",
    "定義函數 `create_dark_knight_dataframe()` 能夠回傳指定的 `DataFrame`\n",
    "\n",
    "- 使用 `pd.DataFrame()` 函數。\n",
    "- 將預期輸出寫在 `return` 之後。"
   ]
  },
  {
   "cell_type": "code",
   "execution_count": null,
   "metadata": {},
   "outputs": [],
   "source": [
    "def create_dark_knight_dataframe() -> pd.core.frame.DataFrame:\n",
    "    \"\"\"\n",
    "    >>> dark_knight_dataframe = create_dark_knight_dataframe()\n",
    "    >>> dark_knight_dataframe\n",
    "                       title           director  imdb_rating  release_year\n",
    "    0          Batman Begins  Christopher Nolan          8.2          2005\n",
    "    1        The Dark Knight  Christopher Nolan          9.0          2008\n",
    "    2  The Dark Knight Rises  Christopher Nolan          8.3          2012\n",
    "    >>> type(dark_knight_dataframe)\n",
    "    pandas.core.frame.DataFrame\n",
    "    \"\"\"\n",
    "    ### BEGIN SOLUTION\n",
    "    \n",
    "    ### END SOLUTION"
   ]
  },
  {
   "cell_type": "markdown",
   "metadata": {},
   "source": [
    "## 090. 用 `dict` 摘要 `DataFrame`\n",
    "\n",
    "定義函數 `summarize_dataframe_with_dict` 回傳有四組鍵值對應的 `dict` 摘要輸入的 `DataFrame`\n",
    "\n",
    "- 運用 `DataFrame.shape`\n",
    "- 運用 `DataFrame.index`\n",
    "- 運用 `DataFrame.columns`\n",
    "- 將預期輸出寫在 `return` 之後。"
   ]
  },
  {
   "cell_type": "code",
   "execution_count": null,
   "metadata": {},
   "outputs": [],
   "source": [
    "def summarize_dataframe_with_dict(x: pd.core.frame.DataFrame) -> dict:\n",
    "    \"\"\"\n",
    "    >>> lord_of_the_rings_dataframe = create_lord_of_the_rings_dataframe()\n",
    "    >>> dark_knight_dataframe = create_dark_knight_dataframe()\n",
    "    >>> summarize_dataframe_with_dict(lord_of_the_rings_dataframe)\n",
    "    {'shape': (3, 4),\n",
    "     'index': RangeIndex(start=0, stop=3, step=1),\n",
    "     'columns': Index(['title', 'director', 'imdb_rating', 'release_year'], dtype='object')}\n",
    "    >>> summarize_dataframe_with_dict(dark_knight_dataframe)\n",
    "    {'shape': (3, 4),\n",
    "     'index': RangeIndex(start=0, stop=3, step=1),\n",
    "     'columns': Index(['title', 'director', 'imdb_rating', 'release_year'], dtype='object')}\n",
    "    \"\"\"\n",
    "    ### BEGIN SOLUTION\n",
    "    \n",
    "    ### END SOLUTION"
   ]
  }
 ],
 "metadata": {
  "kernelspec": {
   "display_name": "Python Fifty Plus",
   "language": "python",
   "name": "pythonfiftyplus"
  },
  "language_info": {
   "codemirror_mode": {
    "name": "ipython",
    "version": 3
   },
   "file_extension": ".py",
   "mimetype": "text/x-python",
   "name": "python",
   "nbconvert_exporter": "python",
   "pygments_lexer": "ipython3",
   "version": "3.9.7"
  }
 },
 "nbformat": 4,
 "nbformat_minor": 4
}
