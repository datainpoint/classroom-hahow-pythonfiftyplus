{
 "cells": [
  {
   "cell_type": "markdown",
   "metadata": {
    "deletable": false
   },
   "source": [
    "# Python 的 50+ 練習：資料科學學習手冊\n",
    "\n",
    "> 資料科學模組 Pandas 入門\n",
    "\n",
    "[數據交點](https://www.datainpoint.com) | 郭耀仁 <yaojenkuo@datainpoint.com>"
   ]
  },
  {
   "cell_type": "markdown",
   "metadata": {
    "deletable": false
   },
   "source": [
    "## 練習題指引\n",
    "\n",
    "- 練習題閒置超過 10 分鐘會自動斷線，只要重新點選練習題連結即可重新啟動。\n",
    "- 第一個程式碼儲存格會將可能用得到的模組載入。\n",
    "- 如果練習題需要載入檔案，檔案會存放在 `data` 資料夾中。\n",
    "- 練習題已經給定函數、類別、預期輸入或參數名稱，我們只需要寫作程式區塊。同時也給定函數的類別提示，說明預期輸入以及預期輸出的類別。\n",
    "- 說明（Docstring）會描述測試如何進行，閱讀說明能夠暸解預期輸入以及預期輸出之間的關係，幫助我們更快解題。\n",
    "- 請在 `### BEGIN SOLUTION` 與 `### END SOLUTION` 這兩個註解之間寫作函數或者類別的程式區塊。\n",
    "- 將預期輸出放置在 `return` 保留字之後，若只是用 `print()` 函數將預期輸出印出無法通過測試。\n",
    "- 語法錯誤（`SyntaxError`）或縮排錯誤（`IndentationError`）等將會導致測試失效，測試之前應該先在筆記本使用函數觀察是否與說明（Docstring）描述的功能相符。\n",
    "- 如果卡關，可以先看練習題詳解或者複習課程單元影片之後再繼續寫作。\n",
    "- 執行測試的步驟：\n",
    "    1. 點選上方選單的 File -> Save Notebook 儲存 exercises.ipynb。\n",
    "    2. 點選上方選單的 File -> New -> Terminal 開啟終端機。\n",
    "    3. 在終端機輸入 `python 11-pandas/test_runner.py` 後按下 Enter 執行測試。"
   ]
  },
  {
   "cell_type": "code",
   "execution_count": 1,
   "metadata": {},
   "outputs": [],
   "source": [
    "import numpy as np\n",
    "import pandas as pd"
   ]
  },
  {
   "cell_type": "markdown",
   "metadata": {},
   "source": [
    "## 81. 建立 `Index`\n",
    "\n",
    "定義函數 `create_an_index()` 能夠回傳指定的 `Index`\n",
    "\n",
    "- "
   ]
  },
  {
   "cell_type": "code",
   "execution_count": 2,
   "metadata": {},
   "outputs": [],
   "source": [
    "def create_an_index():\n",
    "    \"\"\"\n",
    "    >>> an_index = create_an_index()\n",
    "    >>> print(type(an_index))\n",
    "    <class 'pandas.core.indexes.base.Index'>\n",
    "    >>> print(an_index.shape)\n",
    "    (5,)\n",
    "    \"\"\"\n",
    "    ### BEGIN SOLUTION\n",
    "    out_index = pd.Index(['first', 'second', 'third', 'fourth', 'fifth'])\n",
    "    return out_index\n",
    "    ### END SOLUTION"
   ]
  },
  {
   "cell_type": "markdown",
   "metadata": {},
   "source": [
    "## 02. Define a function named `create_first_five_odds_series` that is able to create a `Series` instance from scratch.\n",
    "\n",
    "- Expected inputs: None.\n",
    "- Expected outputs: a (5,) Series.\n",
    "\n",
    "```\n",
    "first     1\n",
    "second    3\n",
    "third     5\n",
    "fourth    7\n",
    "fifth     9\n",
    "dtype: int64\n",
    "```"
   ]
  },
  {
   "cell_type": "code",
   "execution_count": 3,
   "metadata": {},
   "outputs": [],
   "source": [
    "def create_first_five_odds_series():\n",
    "    \"\"\"\n",
    "    >>> first_five_odds_series = create_first_five_odds_series()\n",
    "    >>> print(type(first_five_odds_series))\n",
    "    <class 'pandas.core.series.Series'>\n",
    "    >>> print(first_five_odds_series.shape)\n",
    "    (5,)\n",
    "    \"\"\"\n",
    "    ### BEGIN SOLUTION\n",
    "    out_index = pd.Index(['first', 'second', 'third', 'fourth', 'fifth'])\n",
    "    out_arr = np.arange(1, 10, 2)\n",
    "    out_ser = pd.Series(out_arr, index=out_index)\n",
    "    return out_ser\n",
    "    ### END SOLUTION"
   ]
  },
  {
   "cell_type": "markdown",
   "metadata": {},
   "source": [
    "## 03. Define a function named `create_first_five_evens_series` that is able to create a `Series` instance from scratch.\n",
    "\n",
    "- Expected inputs: None,\n",
    "- Expected outputs: a (5,) Series.\n",
    "\n",
    "```\n",
    "first     0\n",
    "second    2\n",
    "third     4\n",
    "fourth    6\n",
    "fifth     8\n",
    "dtype: int64\n",
    "```"
   ]
  },
  {
   "cell_type": "code",
   "execution_count": 4,
   "metadata": {},
   "outputs": [],
   "source": [
    "def create_first_five_evens_series():\n",
    "    \"\"\"\n",
    "    >>> first_five_evens_series = create_first_five_evens_series()\n",
    "    >>> print(type(first_five_evens_series))\n",
    "    <class 'pandas.core.series.Series'>\n",
    "    >>> print(first_five_evens_series.shape)\n",
    "    (5,)\n",
    "    \"\"\"\n",
    "    ### BEGIN SOLUTION\n",
    "    out_index = pd.Index(['first', 'second', 'third', 'fourth', 'fifth'])\n",
    "    out_arr = np.arange(0, 10, 2)\n",
    "    out_ser = pd.Series(out_arr, index=out_index)\n",
    "    return out_ser\n",
    "    ### END SOLUTION"
   ]
  },
  {
   "cell_type": "markdown",
   "metadata": {},
   "source": [
    "## 04. Define a function named `create_first_five_integers_df` that is able to create a `DataFrame` instance from scratch.\n",
    "\n",
    "- Expected inputs: None,\n",
    "- Expected outputs: a (5, 2) DataFrame.\n",
    "\n",
    "```\n",
    "        even  odd\n",
    "first      0    1\n",
    "second     2    3\n",
    "third      4    5\n",
    "fourth     6    7\n",
    "fifth      8    9\n",
    "```"
   ]
  },
  {
   "cell_type": "code",
   "execution_count": 5,
   "metadata": {},
   "outputs": [],
   "source": [
    "def create_first_five_integers_df():\n",
    "    \"\"\"\n",
    "    >>> first_five_integers_df = create_first_five_integers_df()\n",
    "    >>> print(type(first_five_integers_df))\n",
    "    <class 'pandas.core.frame.DataFrame'>\n",
    "    >>> print(first_five_integers_df.shape)\n",
    "    (5, 2)\n",
    "    \"\"\"\n",
    "    ### BEGIN SOLUTION\n",
    "    first_five_odds_series = create_first_five_odds_series()\n",
    "    first_five_evens_series = create_first_five_evens_series()\n",
    "    out_df = pd.DataFrame()\n",
    "    out_df[\"even\"] = first_five_evens_series\n",
    "    out_df[\"odd\"] = first_five_odds_series\n",
    "    return out_df\n",
    "    ### END SOLUTION"
   ]
  },
  {
   "cell_type": "markdown",
   "metadata": {},
   "source": [
    "## 05. Define a function named `create_trilogy_df` that is able to create a `DataFrame` instance from scratch.\n",
    "\n",
    "- Expected inputs: None,\n",
    "- Expected outputs: a (6, 4) DataFrame.\n",
    "\n",
    "```\n",
    "                 trilogy                       title  release_year  \\\n",
    "0  The Lord of the Rings  The Fellowship of the Ring          2001   \n",
    "1  The Lord of the Rings              The Two Towers          2002   \n",
    "2  The Lord of the Rings      The Return of the King          2003   \n",
    "3        The Dark Knight               Batman Begins          2005   \n",
    "4        The Dark Knight             The Dark Knight          2008   \n",
    "5        The Dark Knight       The Dark Knight Rises          2012   \n",
    "\n",
    "            director  \n",
    "0      Peter Jackson  \n",
    "1      Peter Jackson  \n",
    "2      Peter Jackson  \n",
    "3  Christopher Nolan  \n",
    "4  Christopher Nolan  \n",
    "5  Christopher Nolan\n",
    "```"
   ]
  },
  {
   "cell_type": "code",
   "execution_count": 6,
   "metadata": {},
   "outputs": [],
   "source": [
    "def create_trilogy_df():\n",
    "    \"\"\"\n",
    "    >>> trilogy_df = create_trilogy_df()\n",
    "    >>> print(type(trilogy_df))\n",
    "    <class 'pandas.core.frame.DataFrame'>\n",
    "    >>> print(trilogy_df.shape)\n",
    "    (6, 4)\n",
    "    \"\"\"\n",
    "    ### BEGIN SOLUTION\n",
    "    titles = [\"The Fellowship of the Ring\", \"The Two Towers\", \"The Return of the King\", \"Batman Begins\", \"The Dark Knight\", \"The Dark Knight Rises\"]\n",
    "    release_years = [2001, 2002, 2003, 2005, 2008, 2012]\n",
    "    imdb_ratings = [8.8, 8.7, 8,9, 8.2, 9.0, 8.3]\n",
    "    directors = [\"Peter Jackson\"] * 3 + [\"Christopher Nolan\"] * 3\n",
    "    triology_titles = [\"The Lord of the Rings\"] * 3 + [\"The Dark Knight\"] * 3\n",
    "    out_df = pd.DataFrame()\n",
    "    out_df[\"trilogy\"] = triology_titles\n",
    "    out_df[\"title\"] = titles\n",
    "    out_df[\"release_year\"] = release_years\n",
    "    out_df[\"director\"] = directors\n",
    "    return out_df\n",
    "    ### END SOLUTION"
   ]
  },
  {
   "cell_type": "markdown",
   "metadata": {},
   "source": [
    "## 06. Define a function named `get_olympic_df` that is able to import a csv file as a pandas DataFrame.\n",
    "\n",
    "- Expected inputs: a CSV file `all_time_olympic_medals.csv`.\n",
    "- Expected outputs: a (153, 17) DataFrame.\n",
    "\n",
    "```\n",
    "                            team_name team_ioc  no_summer_games  \\\n",
    "0                         Afghanistan      AFG               14   \n",
    "1                             Algeria      ALG               13   \n",
    "2                           Argentina      ARG               24   \n",
    "3                             Armenia      ARM                6   \n",
    "4                         Australasia      ANZ                2   \n",
    "..                                ...      ...              ...   \n",
    "148                          Zimbabwe      ZIM               13   \n",
    "149      Independent Olympic Athletes      IOA                3   \n",
    "150  Independent Olympic Participants      IOP                1   \n",
    "151                        Mixed team      ZZX                3   \n",
    "152                            Totals      NaN               28   \n",
    "\n",
    "     no_summer_golds  no_summer_silvers  no_summer_bronzes  no_summer_totals  \\\n",
    "0                  0                  0                  2                 2   \n",
    "1                  5                  4                  8                17   \n",
    "2                 21                 25                 28                74   \n",
    "3                  2                  6                  6                14   \n",
    "4                  3                  4                  5                12   \n",
    "..               ...                ...                ...               ...   \n",
    "148                3                  4                  1                 8   \n",
    "149                1                  0                  1                 2   \n",
    "150                0                  1                  2                 3   \n",
    "151                8                  5                  4                17   \n",
    "152             5116               5081               5488             15685   \n",
    "\n",
    "     no_winter_games  no_winter_golds  no_winter_silvers  no_winter_bronzes  \\\n",
    "0                  0                0                  0                  0   \n",
    "1                  3                0                  0                  0   \n",
    "2                 19                0                  0                  0   \n",
    "3                  7                0                  0                  0   \n",
    "4                  0                0                  0                  0   \n",
    "..               ...              ...                ...                ...   \n",
    "148                1                0                  0                  0   \n",
    "149                0                0                  0                  0   \n",
    "150                0                0                  0                  0   \n",
    "151                0                0                  0                  0   \n",
    "152               23             1062               1059               1050   \n",
    "\n",
    "     no_winter_totals  no_combined_games  no_combined_golds  \\\n",
    "0                   0                 14                  0   \n",
    "1                   0                 16                  5   \n",
    "2                   0                 43                 21   \n",
    "3                   0                 13                  2   \n",
    "4                   0                  2                  3   \n",
    "..                ...                ...                ...   \n",
    "148                 0                 14                  3   \n",
    "149                 0                  3                  1   \n",
    "150                 0                  1                  0   \n",
    "151                 0                  3                  8   \n",
    "152              3171                 51               6178   \n",
    "\n",
    "     no_combined_silvers  no_combined_bronzes  no_combined_totals  \n",
    "0                      0                    2                   2  \n",
    "1                      4                    8                  17  \n",
    "2                     25                   28                  74  \n",
    "3                      6                    6                  14  \n",
    "4                      4                    5                  12  \n",
    "..                   ...                  ...                 ...  \n",
    "148                    4                    1                   8  \n",
    "149                    0                    1                   2  \n",
    "150                    1                    2                   3  \n",
    "151                    5                    4                  17  \n",
    "152                 6140                 6538               18856  \n",
    "\n",
    "[153 rows x 17 columns]\n",
    "```"
   ]
  },
  {
   "cell_type": "code",
   "execution_count": 7,
   "metadata": {},
   "outputs": [],
   "source": [
    "def get_olympic_df(csv_file_path):\n",
    "    \"\"\"\n",
    "    >>> olympic_df = get_olympic_df('all_time_olympic_medals.csv')\n",
    "    >>> print(type(olympic_df))\n",
    "    <class 'pandas.core.frame.DataFrame'>\n",
    "    >>> print(olympic_df.shape)\n",
    "    (153, 17)\n",
    "    \"\"\"\n",
    "    ### BEGIN SOLUTION\n",
    "    df = pd.read_csv(csv_file_path)\n",
    "    return df\n",
    "    ### END SOLUTION"
   ]
  },
  {
   "cell_type": "markdown",
   "metadata": {},
   "source": [
    "## 07. Define a function named `find_taiwan` that is able to retrieve the data of Taiwan as a pandas DataFrame.\n",
    "\n",
    "PS Taiwan might not be \"Taiwan\" in Olympic data.\n",
    "\n",
    "- Expected inputs: a CSV file `all_time_olympic_medals.csv`.\n",
    "- Expected outputs: a (1, 17) DataFrame."
   ]
  },
  {
   "cell_type": "code",
   "execution_count": 15,
   "metadata": {},
   "outputs": [],
   "source": [
    "def find_taiwan(csv_file_path):\n",
    "    \"\"\"\n",
    "    >>> taiwan = find_taiwan('all_time_olympic_medals.csv')\n",
    "    >>> print(type(taiwan))\n",
    "    <class 'pandas.core.frame.DataFrame'>\n",
    "    >>> print(taiwan.shape)\n",
    "    (1, 17)\n",
    "    >>> print(taiwan['team_name'].values[0])\n",
    "    'Chinese Taipei'\n",
    "    \"\"\"\n",
    "    ### BEGIN SOLUTION\n",
    "    df = pd.read_csv(csv_file_path)\n",
    "    df_tw = df[df['team_name'] == 'Chinese Taipei']\n",
    "    return df_tw\n",
    "    ### END SOLUTION"
   ]
  },
  {
   "cell_type": "markdown",
   "metadata": {},
   "source": [
    "## 08. Define a function named `find_the_king_of_summer_olympics` that is able to retrieve the data of the country that won the most gold medals in summer Olympics.\n",
    "\n",
    "- Expected inputs: a CSV file `all_time_olympic_medals.csv`.\n",
    "- Expected outputs: a (1, 17) DataFrame."
   ]
  },
  {
   "cell_type": "code",
   "execution_count": 9,
   "metadata": {},
   "outputs": [],
   "source": [
    "def find_the_king_of_summer_olympics(csv_file_path):\n",
    "    \"\"\"\n",
    "    >>> the_king_of_summer_olympics = find_the_king_of_summer_olympics('all_time_olympic_medals.csv')\n",
    "    >>> print(type(the_king_of_summer_olympics))\n",
    "    <class 'pandas.core.frame.DataFrame'>\n",
    "    >>> print(the_king_of_summer_olympics.shape)\n",
    "    (1, 17)\n",
    "    >>> print(the_king_of_summer_olympics['no_summer_golds'].values[0])\n",
    "    1022\n",
    "    >>> print(the_king_of_summer_olympics['team_name'].values[0])\n",
    "    'United States'\n",
    "    \"\"\"\n",
    "    ### BEGIN SOLUTION\n",
    "    df = pd.read_csv(csv_file_path)\n",
    "    df_without_totals = df[df['team_name'] != 'Totals']\n",
    "    max_gold = df_without_totals['no_summer_golds'].max()\n",
    "    out = df_without_totals[df_without_totals['no_summer_golds'] == max_gold]\n",
    "    return out\n",
    "    ### END SOLUTION"
   ]
  },
  {
   "cell_type": "markdown",
   "metadata": {},
   "source": [
    "## 09. Define a function named `find_the_king_of_winter_olympics` that is able to retrieve the data of the country that won the most gold medals in winter Olympics.\n",
    "\n",
    "- Expected inputs: a CSV file `all_time_olympic_medals.csv`.\n",
    "- Expected outputs: a (1, 17) DataFrame."
   ]
  },
  {
   "cell_type": "code",
   "execution_count": 10,
   "metadata": {},
   "outputs": [],
   "source": [
    "def find_the_king_of_winter_olympics(csv_file_path):\n",
    "    \"\"\"\n",
    "    >>> the_king_of_winter_olympics = find_the_king_of_winter_olympics('all_time_olympic_medals.csv')\n",
    "    >>> print(type(the_king_of_winter_olympics))\n",
    "    <class 'pandas.core.frame.DataFrame'>\n",
    "    >>> print(the_king_of_winter_olympics.shape)\n",
    "    (1, 17)\n",
    "    >>> print(the_king_of_winter_olympics['no_winter_golds'].values[0])\n",
    "    132\n",
    "    >>> print(the_king_of_winter_olympics['team_name'].values[0])\n",
    "    'Norway'\n",
    "    \"\"\"\n",
    "    ### BEGIN SOLUTION\n",
    "    df = pd.read_csv(csv_file_path)\n",
    "    df_without_totals = df[df['team_name'] != 'Totals']\n",
    "    max_gold = df_without_totals['no_winter_golds'].max()\n",
    "    out = df_without_totals[df_without_totals['no_winter_golds'] == max_gold]\n",
    "    return out\n",
    "    ### END SOLUTION"
   ]
  },
  {
   "cell_type": "markdown",
   "metadata": {},
   "source": [
    "## 10. Define a function named `find_largest_ratio` that is able to retrieve the data of the country that has the largest ratio which is calculated as:\n",
    "\n",
    "\\begin{equation}\n",
    "\\text{Ratio} = \\frac{\\text{Summer Gold} - \\text{Winter Gold}}{\\text{Total Gold}}\n",
    "\\end{equation}\n",
    "\n",
    "PS You have to exclude the countries with ratio calculated as 1.\n",
    "\n",
    "- Expected inputs: a CSV file `all_time_olympic_medals.csv`.\n",
    "- Expected outputs: a Series of size 17."
   ]
  },
  {
   "cell_type": "code",
   "execution_count": 11,
   "metadata": {},
   "outputs": [],
   "source": [
    "def find_largest_ratio(csv_file_path):\n",
    "    \"\"\"\n",
    "    >>> largest_ratio = find_largest_ratio('all_time_olympic_medals.csv')\n",
    "    >>> print(type(largest_ratio))\n",
    "    <class 'pandas.core.series.Series'>\n",
    "    >>> print(largest_ratio.size)\n",
    "    17\n",
    "    >>> print(largest_ratio['team_name']\n",
    "    'Hungary'\n",
    "    \"\"\"\n",
    "    ### BEGIN SOLUTION\n",
    "    df = pd.read_csv(csv_file_path)\n",
    "    df_without_totals = df[df['team_name'] != 'Totals']\n",
    "    ratio = (df_without_totals['no_summer_golds'] - df_without_totals['no_winter_golds']) / (df_without_totals['no_summer_golds'] + df_without_totals['no_winter_golds'])\n",
    "    ratio_not_one = ratio[ratio != 1]\n",
    "    out_index = ratio_not_one.idxmax()\n",
    "    out = df_without_totals.loc[out_index, :]\n",
    "    return out\n",
    "    ### END SOLUTION"
   ]
  }
 ],
 "metadata": {
  "celltoolbar": "Edit Metadata",
  "kernelspec": {
   "display_name": "Python Fifty Plus",
   "language": "python",
   "name": "pythonfiftyplus"
  },
  "language_info": {
   "codemirror_mode": {
    "name": "ipython",
    "version": 3
   },
   "file_extension": ".py",
   "mimetype": "text/x-python",
   "name": "python",
   "nbconvert_exporter": "python",
   "pygments_lexer": "ipython3",
   "version": "3.9.7"
  }
 },
 "nbformat": 4,
 "nbformat_minor": 4
}
