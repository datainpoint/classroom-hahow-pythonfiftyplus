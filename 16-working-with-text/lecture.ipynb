{
 "cells": [
  {
   "cell_type": "markdown",
   "metadata": {
    "slideshow": {
     "slide_type": "slide"
    }
   },
   "source": [
    "# Python 的 50+ 練習\n",
    "\n",
    "> 文字資料操作\n",
    "\n",
    "[數據交點](https://www.datainpoint.com/) | 郭耀仁 <yaojenkuo@datainpoint.com>"
   ]
  },
  {
   "cell_type": "markdown",
   "metadata": {
    "slideshow": {
     "slide_type": "subslide"
    }
   },
   "source": [
    "## 這個章節會登場的模組\n",
    "\n",
    "- `re` 模組。\n",
    "- `pandas` 模組。"
   ]
  },
  {
   "cell_type": "markdown",
   "metadata": {
    "slideshow": {
     "slide_type": "subslide"
    }
   },
   "source": [
    "## （複習）現代資料科學：以程式設計做資料科學的應用\n",
    "\n",
    "![](r-for-data-science.png)\n",
    "\n",
    "來源：[R for Data Science](https://r4ds.had.co.nz)"
   ]
  },
  {
   "cell_type": "markdown",
   "metadata": {
    "slideshow": {
     "slide_type": "subslide"
    }
   },
   "source": [
    "## （複習）什麼是資料科學的應用場景\n",
    "\n",
    "- Import 資料的載入。\n",
    "- **Tidy 資料清理**。\n",
    "- **Transform 資料外型與類別的轉換**。\n",
    "- Visualise 探索性分析。\n",
    "- Model 分析與預測模型。\n",
    "- Communicate 溝通分享。"
   ]
  },
  {
   "cell_type": "markdown",
   "metadata": {
    "slideshow": {
     "slide_type": "slide"
    }
   },
   "source": [
    "## 常用的文字方法"
   ]
  },
  {
   "cell_type": "markdown",
   "metadata": {
    "slideshow": {
     "slide_type": "subslide"
    }
   },
   "source": [
    "## （複習）使用成對的單引號 `'`、雙引號 `\"` 或三個雙引號 `\"\"\"` 形成 `str`"
   ]
  },
  {
   "cell_type": "code",
   "execution_count": 1,
   "metadata": {},
   "outputs": [
    {
     "name": "stdout",
     "output_type": "stream",
     "text": [
      "<class 'str'>\n",
      "<class 'str'>\n",
      "<class 'str'>\n"
     ]
    }
   ],
   "source": [
    "str_with_single_quotes = 'Hello, world!'\n",
    "str_with_double_quotes = \"Hello, world!\"\n",
    "str_with_triple_double_quotes = \"\"\"Hello, world!\"\"\"\n",
    "print(type(str_with_single_quotes))\n",
    "print(type(str_with_double_quotes))\n",
    "print(type(str_with_triple_double_quotes))"
   ]
  },
  {
   "cell_type": "markdown",
   "metadata": {
    "slideshow": {
     "slide_type": "subslide"
    }
   },
   "source": [
    "## （複習）`str` 中可能會包含單引號或雙引號，有兩種解決方式\n",
    "\n",
    "1. 以反斜線 `\\`（又稱跳脫符號）作為標註。\n",
    "2. 以不同樣式的引號來形成 `str` 藉此區隔。"
   ]
  },
  {
   "cell_type": "code",
   "execution_count": 2,
   "metadata": {},
   "outputs": [],
   "source": [
    "mcd = 'I\\'m lovin\\' it!'   # escape with \\\n",
    "mcd = \"I'm lovin' it!\"     # use different quotation marks\n",
    "mcd = \"\"\"I'm lovin' it!\"\"\" # use different quotation marks"
   ]
  },
  {
   "cell_type": "markdown",
   "metadata": {
    "slideshow": {
     "slide_type": "subslide"
    }
   },
   "source": [
    "## `str` 與其他資料類別不同的地方\n",
    "\n",
    "- `str` 是可迭代類別（Iterable）\n",
    "- `str` 適用 indexing/slicing"
   ]
  },
  {
   "cell_type": "code",
   "execution_count": 3,
   "metadata": {},
   "outputs": [
    {
     "name": "stdout",
     "output_type": "stream",
     "text": [
      "<str_iterator object at 0x7fbdc4f0f520>\n",
      "l\n",
      "lovin' it!\n"
     ]
    }
   ],
   "source": [
    "print(iter(mcd))\n",
    "print(mcd[4])\n",
    "print(mcd[4:])"
   ]
  },
  {
   "cell_type": "markdown",
   "metadata": {
    "slideshow": {
     "slide_type": "subslide"
    }
   },
   "source": [
    "## 使用內建函數 `dir()` 檢視 `str` 的方法"
   ]
  },
  {
   "cell_type": "code",
   "execution_count": 4,
   "metadata": {},
   "outputs": [
    {
     "name": "stdout",
     "output_type": "stream",
     "text": [
      "['__add__', '__class__', '__contains__', '__delattr__', '__dir__', '__doc__', '__eq__', '__format__', '__ge__', '__getattribute__', '__getitem__', '__getnewargs__', '__gt__', '__hash__', '__init__', '__init_subclass__', '__iter__', '__le__', '__len__', '__lt__', '__mod__', '__mul__', '__ne__', '__new__', '__reduce__', '__reduce_ex__', '__repr__', '__rmod__', '__rmul__', '__setattr__', '__sizeof__', '__str__', '__subclasshook__', 'capitalize', 'casefold', 'center', 'count', 'encode', 'endswith', 'expandtabs', 'find', 'format', 'format_map', 'index', 'isalnum', 'isalpha', 'isascii', 'isdecimal', 'isdigit', 'isidentifier', 'islower', 'isnumeric', 'isprintable', 'isspace', 'istitle', 'isupper', 'join', 'ljust', 'lower', 'lstrip', 'maketrans', 'partition', 'removeprefix', 'removesuffix', 'replace', 'rfind', 'rindex', 'rjust', 'rpartition', 'rsplit', 'rstrip', 'split', 'splitlines', 'startswith', 'strip', 'swapcase', 'title', 'translate', 'upper', 'zfill']\n"
     ]
    }
   ],
   "source": [
    "print(dir(mcd))"
   ]
  },
  {
   "cell_type": "markdown",
   "metadata": {
    "slideshow": {
     "slide_type": "subslide"
    }
   },
   "source": [
    "## 使用內建函數 `len()` 檢視 `str` 的長度（字元數）"
   ]
  },
  {
   "cell_type": "code",
   "execution_count": 5,
   "metadata": {},
   "outputs": [
    {
     "data": {
      "text/plain": [
       "14"
      ]
     },
     "execution_count": 5,
     "metadata": {},
     "output_type": "execute_result"
    }
   ],
   "source": [
    "len(mcd)"
   ]
  },
  {
   "cell_type": "markdown",
   "metadata": {
    "slideshow": {
     "slide_type": "subslide"
    }
   },
   "source": [
    "## 文字操作目的\n",
    "\n",
    "- 大小寫調整。\n",
    "- 特徵判斷。\n",
    "- 擷取片段。\n",
    "- 移除多餘的空白字元。\n",
    "- 取代特徵。\n",
    "- 連接與分割。"
   ]
  },
  {
   "cell_type": "markdown",
   "metadata": {
    "slideshow": {
     "slide_type": "subslide"
    }
   },
   "source": [
    "## 大小寫調整\n",
    "\n",
    "- `str.upper()` 變成大寫。\n",
    "- `str.lower()` 變成小寫。\n",
    "- `str.title()` 單字字首大寫。\n",
    "- `str.capitalize()` 句首大寫。\n",
    "- `str.swapcase()` 大小寫互換。"
   ]
  },
  {
   "cell_type": "code",
   "execution_count": 6,
   "metadata": {
    "slideshow": {
     "slide_type": "-"
    }
   },
   "outputs": [
    {
     "name": "stdout",
     "output_type": "stream",
     "text": [
      "THE LORD OF THE RINGS\n",
      "the lord of the rings\n",
      "The Lord Of The Rings\n",
      "The lord of the rings\n",
      "tHE lORD OF THE rINGS\n"
     ]
    }
   ],
   "source": [
    "movie_title = \"The Lord of the Rings\"\n",
    "print(movie_title.upper())\n",
    "print(movie_title.lower())\n",
    "print(movie_title.title())\n",
    "print(movie_title.capitalize())\n",
    "print(movie_title.swapcase())"
   ]
  },
  {
   "cell_type": "markdown",
   "metadata": {
    "slideshow": {
     "slide_type": "subslide"
    }
   },
   "source": [
    "## 特徵判斷\n",
    "\n",
    "- 運用 `in` 關係運算符。\n",
    "- `str.find()` 找出特徵出現的第一個索引值。\n",
    "- `str.count()` 找出特徵出現的次數。\n",
    "- `str.startswith()` 判斷第 0 個字元是否為特徵。\n",
    "- `str.endswith()` 判斷第 -1 個字元是否為特徵。"
   ]
  },
  {
   "cell_type": "code",
   "execution_count": 7,
   "metadata": {
    "slideshow": {
     "slide_type": "-"
    }
   },
   "outputs": [
    {
     "name": "stdout",
     "output_type": "stream",
     "text": [
      "True\n",
      "5\n",
      "2\n",
      "True\n",
      "True\n"
     ]
    }
   ],
   "source": [
    "movie_title = \"The Lord of the Rings\"\n",
    "print(\"Ring\" in movie_title)\n",
    "print(movie_title.find(\"o\"))  # The L\"o\"rd of the Rings\n",
    "print(movie_title.count(\"o\")) # The L\"o\"rd \"o\"f the Rings\n",
    "print(movie_title.startswith(\"T\"))\n",
    "print(movie_title.endswith(\"s\"))"
   ]
  },
  {
   "cell_type": "markdown",
   "metadata": {
    "slideshow": {
     "slide_type": "subslide"
    }
   },
   "source": [
    "## 擷取片段\n",
    "\n",
    "運用 indexing/slicing"
   ]
  },
  {
   "cell_type": "code",
   "execution_count": 8,
   "metadata": {},
   "outputs": [
    {
     "name": "stdout",
     "output_type": "stream",
     "text": [
      "Lord\n",
      "Rings\n"
     ]
    }
   ],
   "source": [
    "movie_title = \"The Lord of the Rings\"\n",
    "R_index = movie_title.find(\"R\")\n",
    "print(movie_title[4:8])\n",
    "print(movie_title[R_index:])"
   ]
  },
  {
   "cell_type": "markdown",
   "metadata": {
    "slideshow": {
     "slide_type": "subslide"
    }
   },
   "source": [
    "## 移除多餘的空白字元\n",
    "\n",
    "- 空白字元包含像是空白（Space 鍵）、Tab 鍵（`\"\\t\"`）以及換行（`\"\\n\"`）等。\n",
    "- `str.lstrip()` 移除字首左邊多餘的空白字元。\n",
    "- `str.rstrip()` 移除字尾右邊多餘的空白字元。\n",
    "- `str.strip()` 移除字首字尾多餘的空白字元。"
   ]
  },
  {
   "cell_type": "code",
   "execution_count": 9,
   "metadata": {
    "slideshow": {
     "slide_type": "-"
    }
   },
   "outputs": [
    {
     "data": {
      "text/plain": [
       "'The Lord of the Rings \\t\\n'"
      ]
     },
     "execution_count": 9,
     "metadata": {},
     "output_type": "execute_result"
    }
   ],
   "source": [
    "movie_title = \" \\t\\nThe Lord of the Rings \\t\\n\"\n",
    "movie_title.lstrip()"
   ]
  },
  {
   "cell_type": "code",
   "execution_count": 10,
   "metadata": {},
   "outputs": [
    {
     "data": {
      "text/plain": [
       "' \\t\\nThe Lord of the Rings'"
      ]
     },
     "execution_count": 10,
     "metadata": {},
     "output_type": "execute_result"
    }
   ],
   "source": [
    "movie_title.rstrip()"
   ]
  },
  {
   "cell_type": "code",
   "execution_count": 11,
   "metadata": {},
   "outputs": [
    {
     "data": {
      "text/plain": [
       "'The Lord of the Rings'"
      ]
     },
     "execution_count": 11,
     "metadata": {},
     "output_type": "execute_result"
    }
   ],
   "source": [
    "movie_title.strip()"
   ]
  },
  {
   "cell_type": "markdown",
   "metadata": {
    "slideshow": {
     "slide_type": "subslide"
    }
   },
   "source": [
    "## 取代特徵\n",
    "\n",
    "`str.replace(old, new)` 取代特徵 `old` 為 `new`"
   ]
  },
  {
   "cell_type": "code",
   "execution_count": 12,
   "metadata": {},
   "outputs": [
    {
     "data": {
      "text/plain": [
       "'The Lord of the Rings'"
      ]
     },
     "execution_count": 12,
     "metadata": {},
     "output_type": "execute_result"
    }
   ],
   "source": [
    "movie_title = \"The-Lord-of-the-Rings\"\n",
    "movie_title.replace(\"-\", \" \") # replace \"-\" with space"
   ]
  },
  {
   "cell_type": "markdown",
   "metadata": {
    "slideshow": {
     "slide_type": "subslide"
    }
   },
   "source": [
    "## 連接與分割\n",
    "\n",
    "- 運用 `+` 運算符連接文字。\n",
    "- 運用 f-string 或 `str.format()` 連接文字。\n",
    "- 使用 `\"sep\".join(list)` 連接 `list` 元素、以 `\"sep\"` 作分隔符號為文字。 \n",
    "- 使用 `str.split()` 分割文字。"
   ]
  },
  {
   "cell_type": "markdown",
   "metadata": {
    "slideshow": {
     "slide_type": "subslide"
    }
   },
   "source": [
    "## 連接文字"
   ]
  },
  {
   "cell_type": "code",
   "execution_count": 13,
   "metadata": {},
   "outputs": [
    {
     "name": "stdout",
     "output_type": "stream",
     "text": [
      "The Lord of the Rings: The Return of the Kings\n",
      "The Lord of the Rings: The Return of the Kings\n",
      "The Lord of the Rings: The Return of the Kings\n"
     ]
    }
   ],
   "source": [
    "trilogy = \"The Lord of the Rings\"\n",
    "title = \"The Return of the Kings\"\n",
    "print(trilogy + \": \" + title)\n",
    "print(f\"{trilogy}: {title}\")\n",
    "print(\"{}: {}\".format(trilogy, title))"
   ]
  },
  {
   "cell_type": "markdown",
   "metadata": {
    "slideshow": {
     "slide_type": "subslide"
    }
   },
   "source": [
    "## 使用 `\"sep\".join(list)` 連接 `list` 元素、以 `\"sep\"` 作分隔符號為文字"
   ]
  },
  {
   "cell_type": "code",
   "execution_count": 14,
   "metadata": {},
   "outputs": [
    {
     "name": "stdout",
     "output_type": "stream",
     "text": [
      "The Lord of the Rings\n",
      "The Return of the Kings\n",
      "The,Lord,of,the,Rings\n",
      "The,Return,of,the,Kings\n"
     ]
    }
   ],
   "source": [
    "trilogy = [\"The\", \"Lord\", \"of\", \"the\", \"Rings\"]\n",
    "title = [\"The\", \"Return\", \"of\", \"the\", \"Kings\"]\n",
    "print(\" \".join(trilogy))\n",
    "print(\" \".join(title))\n",
    "print(\",\".join(trilogy))\n",
    "print(\",\".join(title))"
   ]
  },
  {
   "cell_type": "markdown",
   "metadata": {
    "slideshow": {
     "slide_type": "subslide"
    }
   },
   "source": [
    "## `str.split()` 預設分割特徵為空白字元\n",
    "\n",
    "- 空白字元包含像是空白（Space 鍵）、Tab 鍵（`\"\\t\"`）以及換行（`\"\\n\"`）等。\n",
    "- 可以指定分割特徵。"
   ]
  },
  {
   "cell_type": "code",
   "execution_count": 15,
   "metadata": {
    "slideshow": {
     "slide_type": "-"
    }
   },
   "outputs": [
    {
     "name": "stdout",
     "output_type": "stream",
     "text": [
      "['The', 'Lord', 'of', 'the', 'Rings']\n",
      "['The', 'Lord', 'of', 'the', 'Rings']\n"
     ]
    }
   ],
   "source": [
    "movie_title = \"The Lord of\\tthe\\nRings\"\n",
    "print(movie_title.split())\n",
    "movie_title = \"The-Lord-of-the-Rings\"\n",
    "print(movie_title.split(\"-\"))"
   ]
  },
  {
   "cell_type": "markdown",
   "metadata": {
    "slideshow": {
     "slide_type": "slide"
    }
   },
   "source": [
    "## 標準模組 `re`"
   ]
  },
  {
   "cell_type": "markdown",
   "metadata": {
    "slideshow": {
     "slide_type": "subslide"
    }
   },
   "source": [
    "## 什麼是標準模組 `re`\n",
    "\n",
    "> `re` 模組為 Python 提供與 Perl 語言相似的正規表達式（Regular expression）操作。\n",
    "\n",
    "來源：<https://docs.python.org/3/library/re.html>"
   ]
  },
  {
   "cell_type": "markdown",
   "metadata": {
    "slideshow": {
     "slide_type": "subslide"
    }
   },
   "source": [
    "## 什麼是正規表達式\n",
    "\n",
    "常見文字操作目的包含特徵判斷、取代特徵與分割等，都要仰賴特徵（Pattern）的描述。正規表達式（Regular expression）是一種用來描述文字特徵的語法，是更為強大、能夠表現文字泛用特徵的技巧，許多程式設計語言都支援整合正規表達式進行文字操作，在 Python 中可以透過 `re` 模組來應用。"
   ]
  },
  {
   "cell_type": "markdown",
   "metadata": {
    "slideshow": {
     "slide_type": "subslide"
    }
   },
   "source": [
    "## 透過正規表達式能夠更廣泛地表達指定特徵\n",
    "\n",
    "- 文字的組成是數字，像是手機號碼、郵遞區號等。\n",
    "- 文字的組成有特殊格式，像是電子郵件信箱、姓名等。\n",
    "- 文字的組成是特定語言，像是英文、中文等。"
   ]
  },
  {
   "cell_type": "markdown",
   "metadata": {
    "slideshow": {
     "slide_type": "subslide"
    }
   },
   "source": [
    "## 運用正規表達式判斷整數特徵 `re.search()`\n",
    "\n",
    "`\"[0-9]\"` 正規表達式可以用來廣泛表示 0 到 9 的整數特徵。"
   ]
  },
  {
   "cell_type": "code",
   "execution_count": 16,
   "metadata": {},
   "outputs": [
    {
     "name": "stdout",
     "output_type": "stream",
     "text": [
      "True\n",
      "True\n",
      "False\n",
      "False\n"
     ]
    }
   ],
   "source": [
    "import re\n",
    "\n",
    "integer_pattern = \"[0-9]\"\n",
    "print(bool(re.search(integer_pattern, \"5566 is my favorite boy band.\")))\n",
    "print(bool(re.search(integer_pattern, \"F4 is my favorite boy band.\")))\n",
    "print(bool(re.search(integer_pattern, \"NSYNC is my favorite boy group.\")))\n",
    "print(bool(re.search(integer_pattern, \"Backstreet Boys is my favorite boy group.\")))"
   ]
  },
  {
   "cell_type": "markdown",
   "metadata": {
    "slideshow": {
     "slide_type": "subslide"
    }
   },
   "source": [
    "## 運用正規表達式判斷英文特徵 `re.search()`\n",
    "\n",
    "`\"[A-z]\"` 正規表達式可以用來廣泛表示英文特徵。"
   ]
  },
  {
   "cell_type": "code",
   "execution_count": 17,
   "metadata": {},
   "outputs": [
    {
     "name": "stdout",
     "output_type": "stream",
     "text": [
      "False\n",
      "True\n",
      "True\n",
      "True\n"
     ]
    }
   ],
   "source": [
    "english_pattern = \"[A-z]\"\n",
    "print(bool(re.search(english_pattern, \"5566 是我最喜歡的男孩團體。\")))\n",
    "print(bool(re.search(english_pattern, \"F4 是我最喜歡的男孩團體。\")))\n",
    "print(bool(re.search(english_pattern, \"NSYNC 是我最喜歡的男孩團體。\"))) \n",
    "print(bool(re.search(english_pattern, \"Backstreet Boys 是我最喜歡的男孩團體。\")))"
   ]
  },
  {
   "cell_type": "markdown",
   "metadata": {
    "slideshow": {
     "slide_type": "subslide"
    }
   },
   "source": [
    "## 運用正規表達式取代特徵 `re.sub()`\n",
    "\n",
    "將文字中的整數取代為空字串。"
   ]
  },
  {
   "cell_type": "code",
   "execution_count": 18,
   "metadata": {},
   "outputs": [
    {
     "name": "stdout",
     "output_type": "stream",
     "text": [
      " is my favorite boy band.\n",
      "F is my favorite boy band.\n",
      "NSYNC is my favorite boy group.\n",
      "Backstreet Boys is my favorite boy group.\n"
     ]
    }
   ],
   "source": [
    "numeric_pattern = \"[0-9]\"\n",
    "print(re.sub(numeric_pattern, \"\", \"5566 is my favorite boy band.\"))\n",
    "print(re.sub(numeric_pattern, \"\", \"F4 is my favorite boy band.\"))\n",
    "print(re.sub(numeric_pattern, \"\", \"NSYNC is my favorite boy group.\"))\n",
    "print(re.sub(numeric_pattern, \"\", \"Backstreet Boys is my favorite boy group.\"))"
   ]
  },
  {
   "cell_type": "markdown",
   "metadata": {
    "slideshow": {
     "slide_type": "subslide"
    }
   },
   "source": [
    "## 運用正規表達式取代特徵 `re.sub()`\n",
    "\n",
    "將文字中的英文取代為空字串。"
   ]
  },
  {
   "cell_type": "code",
   "execution_count": 19,
   "metadata": {},
   "outputs": [
    {
     "name": "stdout",
     "output_type": "stream",
     "text": [
      "5566 是我最喜歡的男孩團體。\n",
      "4 是我最喜歡的男孩團體。\n",
      " 是我最喜歡的男孩團體。\n",
      " 是我最喜歡的男孩團體。\n"
     ]
    }
   ],
   "source": [
    "english_pattern = \"[A-z]\"\n",
    "print(re.sub(english_pattern, \"\", \"5566 是我最喜歡的男孩團體。\"))\n",
    "print(re.sub(english_pattern, \"\", \"F4 是我最喜歡的男孩團體。\"))\n",
    "print(re.sub(english_pattern, \"\", \"NSYNC 是我最喜歡的男孩團體。\"))\n",
    "print(re.sub(english_pattern, \"\", \"Backstreet Boys 是我最喜歡的男孩團體。\"))"
   ]
  },
  {
   "cell_type": "markdown",
   "metadata": {
    "slideshow": {
     "slide_type": "subslide"
    }
   },
   "source": [
    "## 運用正規表達式分割文字 `re.split()`\n",
    "\n",
    "`\"[-_ ;]\"` 正規表達式可以用來表示有減號、底線、空白或分號的特徵。"
   ]
  },
  {
   "cell_type": "code",
   "execution_count": 20,
   "metadata": {},
   "outputs": [
    {
     "name": "stdout",
     "output_type": "stream",
     "text": [
      "['Lord', 'of', 'the', 'Rings']\n",
      "['The', 'Dark', 'Knight']\n",
      "['The', 'God', 'Father']\n",
      "['Forrest', 'Gump']\n"
     ]
    }
   ],
   "source": [
    "split_pattern = \"[-_ ;]\"\n",
    "print(re.split(split_pattern, \"Lord-of-the-Rings\"))\n",
    "print(re.split(split_pattern, \"The_Dark_Knight\"))\n",
    "print(re.split(split_pattern, \"The God Father\"))\n",
    "print(re.split(split_pattern, \"Forrest;Gump\"))"
   ]
  },
  {
   "cell_type": "markdown",
   "metadata": {
    "slideshow": {
     "slide_type": "subslide"
    }
   },
   "source": [
    "## 特徵若是正規表達式中的特殊文字，使用 `\\` 跳脫\n",
    "\n",
    "- 例如 `|` 是正規表達式的特殊文字，表達特徵時就改用 `pattern=\"\\|\"`\n",
    "- 例如 `*` 是正規表達式的特殊文字，表達特徵時就改用 `pattern=\"\\*\"`\n",
    "- 例如 `()` 是正規表達式的特殊文字，表達特徵時就改用 `pattern=\"[\\(\\)]\"`"
   ]
  },
  {
   "cell_type": "code",
   "execution_count": 21,
   "metadata": {},
   "outputs": [
    {
     "name": "stdout",
     "output_type": "stream",
     "text": [
      "['The', 'Lord', 'of', 'the', 'Rings']\n",
      "['The', 'Lord', 'of', 'the', 'Rings']\n",
      "The Lord of the Rings\n"
     ]
    }
   ],
   "source": [
    "print(re.split(\"\\|\", \"The|Lord|of|the|Rings\"))\n",
    "print(re.split(\"\\*\", \"The*Lord*of*the*Rings\"))\n",
    "print(re.sub(\"[\\(\\)]\", \"\", \"(The Lord of the Rings)\"))"
   ]
  },
  {
   "cell_type": "markdown",
   "metadata": {
    "slideshow": {
     "slide_type": "subslide"
    }
   },
   "source": [
    "## 對程式設計與資料科學初學者而言，正規表達式不是在短時間就能活用的技巧\n",
    "\n",
    "- [re — Regular expression operations](https://docs.python.org/3/library/re.html)\n",
    "- [Regular Expression HOWTO](https://docs.python.org/3/howto/regex.html)"
   ]
  },
  {
   "cell_type": "markdown",
   "metadata": {
    "slideshow": {
     "slide_type": "slide"
    }
   },
   "source": [
    "## 常用的 `Series` 文字方法"
   ]
  },
  {
   "cell_type": "markdown",
   "metadata": {
    "slideshow": {
     "slide_type": "subslide"
    }
   },
   "source": [
    "## 文字類別的 `Series`\n",
    "\n",
    "以 `Series.dtype` 屬性檢視，文字類別顯示為 `object`"
   ]
  },
  {
   "cell_type": "code",
   "execution_count": 22,
   "metadata": {},
   "outputs": [
    {
     "name": "stdout",
     "output_type": "stream",
     "text": [
      "object\n"
     ]
    },
    {
     "data": {
      "text/plain": [
       "0               5566\n",
       "1                 F4\n",
       "2              NSYNC\n",
       "3    Backstreet Boys\n",
       "dtype: object"
      ]
     },
     "execution_count": 22,
     "metadata": {},
     "output_type": "execute_result"
    }
   ],
   "source": [
    "import pandas as pd\n",
    "\n",
    "boy_bands = pd.Series([\"5566\", \"F4\", \"NSYNC\", \"Backstreet Boys\"])\n",
    "print(boy_bands.dtype)\n",
    "boy_bands"
   ]
  },
  {
   "cell_type": "markdown",
   "metadata": {
    "slideshow": {
     "slide_type": "subslide"
    }
   },
   "source": [
    "## 文字類別的 `Series` 常用聚合方法\n",
    "\n",
    "- `Series.unique()` 剔除重複值。\n",
    "- `Series.nunique()` 獨一值個數。\n",
    "- `Series.value_counts()` 依獨一值分組後計數並且依計數遞減排序。"
   ]
  },
  {
   "cell_type": "code",
   "execution_count": 23,
   "metadata": {},
   "outputs": [
    {
     "data": {
      "text/plain": [
       "array(['Frank Darabont', 'Francis Ford Coppola', 'Christopher Nolan',\n",
       "       'Sidney Lumet', 'Steven Spielberg', 'Peter Jackson',\n",
       "       'Quentin Tarantino', 'Sergio Leone', 'David Fincher',\n",
       "       'Robert Zemeckis', 'Irvin Kershner', 'Lana Wachowski',\n",
       "       'Martin Scorsese', 'Milos Forman', 'Akira Kurosawa',\n",
       "       'Roberto Benigni', 'Fernando Meirelles', 'Jonathan Demme',\n",
       "       'Frank Capra', 'George Lucas', 'Hayao Miyazaki', 'Bong Joon Ho',\n",
       "       'Luc Besson', 'Masaki Kobayashi', 'Bryan Singer', 'Roger Allers',\n",
       "       'Roman Polanski', 'James Cameron', 'Tony Kaye', 'Charles Chaplin',\n",
       "       'Ridley Scott', 'Alfred Hitchcock', 'Olivier Nakache',\n",
       "       'Damien Chazelle', 'Isao Takahata', 'Michael Curtiz',\n",
       "       'Giuseppe Tornatore', 'Florian Henckel von Donnersmarck',\n",
       "       'Thomas Kail', 'Stanley Kubrick', 'Andrew Stanton',\n",
       "       'Todd Phillips', 'Anthony Russo', 'Billy Wilder', 'Chan-wook Park',\n",
       "       'Bob Persichetti', 'Makoto Shinkai', 'Lee Unkrich',\n",
       "       'Nadine Labaki', 'Sam Mendes', 'Mel Gibson', 'Wolfgang Petersen',\n",
       "       'John Lasseter', 'Rajkumar Hirani', 'Gus Van Sant',\n",
       "       'Richard Marquand', 'Aamir Khan', 'Darren Aronofsky',\n",
       "       'Thomas Vinterberg', 'Fritz Lang', 'Michel Gondry', 'Orson Welles',\n",
       "       'Nitesh Tiwari', 'Stanley Donen', 'Vittorio De Sica',\n",
       "       'Elem Klimov', 'Guy Ritchie', 'Brian De Palma', 'Denis Villeneuve',\n",
       "       'Asghar Farhadi', 'George Roy Hill', 'David Lean',\n",
       "       'Jean-Pierre Jeunet', 'Robert Mulligan', 'Pete Docter',\n",
       "       'Michael Mann', 'Curtis Hanson', 'Peter Farrelly',\n",
       "       'John McTiernan', 'Terry Gilliam', 'Oliver Hirschbiegel',\n",
       "       'Majid Majidi', 'Clint Eastwood', 'Joseph L. Mankiewicz',\n",
       "       'Ron Howard', 'John Sturges', 'Guillermo del Toro',\n",
       "       'Paul Thomas Anderson', 'Juan José Campanella', 'Stanley Kramer',\n",
       "       'John Huston', 'Martin McDonagh', 'Çagan Irmak', 'Ethan Coen',\n",
       "       'James McTeigue', 'John Carpenter', 'David Lynch',\n",
       "       'Ingmar Bergman', 'M. Night Shyamalan', \"Gavin O'Connor\",\n",
       "       'Sergio Pablos', 'Danny Boyle', 'Zack Snyder', 'Peter Weir',\n",
       "       'Victor Fleming', 'Andrei Tarkovsky', 'Joel Coen',\n",
       "       'Damián Szifron', 'Lenny Abrahamson', 'Yasujirô Ozu', 'Carol Reed',\n",
       "       'Elia Kazan', 'Michael Cimino', 'Jim Sheridan', 'Adam Elliot',\n",
       "       'Richard Linklater', 'Wes Anderson', 'Sriram Raghavan',\n",
       "       'Buster Keaton', 'Ernst Lubitsch', 'Clyde Bruckman',\n",
       "       'Dean DeBlois', 'James Mangold', 'Steve McQueen', 'Yavuz Turgul',\n",
       "       'George Miller', 'Hrishikesh Mukherjee', 'David Yates',\n",
       "       'Rob Reiner', 'William Wyler', 'Lasse Hallström',\n",
       "       'Stuart Rosenberg', 'Oliver Stone', 'Henri-Georges Clouzot',\n",
       "       'Sean Penn', 'Mathieu Kassovitz', 'Terry Jones',\n",
       "       'François Truffaut', 'Carl Theodor Dreyer', 'Tom McCarthy',\n",
       "       'Ram Kumar', 'Terry George', 'Anurag Kashyap',\n",
       "       'Alejandro G. Iñárritu', 'John G. Avildsen', 'Emir Kusturica',\n",
       "       'Kar-Wai Wong', 'Jules Dassin', 'Rakeysh Omprakash Mehra',\n",
       "       'Wim Wenders', 'Jeethu Joseph', 'Céline Sciamma', 'Hideaki Anno',\n",
       "       'Mehmet Ada Öztekin', 'Zaza Urushadze', 'Nishikant Kamat',\n",
       "       'Ashutosh Gowariker'], dtype=object)"
      ]
     },
     "execution_count": 23,
     "metadata": {},
     "output_type": "execute_result"
    }
   ],
   "source": [
    "movies_csv = pd.read_csv(\"/home/jovyan/data/internet-movie-database/movies.csv\")\n",
    "movies_csv[\"director\"].unique()"
   ]
  },
  {
   "cell_type": "code",
   "execution_count": 24,
   "metadata": {
    "slideshow": {
     "slide_type": "subslide"
    }
   },
   "outputs": [
    {
     "name": "stdout",
     "output_type": "stream",
     "text": [
      "157\n",
      "Martin Scorsese       7\n",
      "Christopher Nolan     7\n",
      "Stanley Kubrick       7\n",
      "Akira Kurosawa        6\n",
      "Steven Spielberg      6\n",
      "                     ..\n",
      "Vittorio De Sica      1\n",
      "Stanley Donen         1\n",
      "Nitesh Tiwari         1\n",
      "Orson Welles          1\n",
      "Ashutosh Gowariker    1\n",
      "Name: director, Length: 157, dtype: int64\n"
     ]
    }
   ],
   "source": [
    "print(movies_csv[\"director\"].nunique())\n",
    "print(movies_csv[\"director\"].value_counts())"
   ]
  },
  {
   "cell_type": "markdown",
   "metadata": {
    "slideshow": {
     "slide_type": "subslide"
    }
   },
   "source": [
    "## `str.method()` 與 `Series.str.method()` 不同的地方\n",
    "\n",
    "- `str.method()` 操作一個文字；`Series.str.method()` 操作一欄文字。\n",
    "- `str.method()` 不支援正規表達式，必須透過 `re` 模組；`Series.str.method()` 可以透過 `regex=True` 支援正規表達式。"
   ]
  },
  {
   "cell_type": "markdown",
   "metadata": {
    "slideshow": {
     "slide_type": "subslide"
    }
   },
   "source": [
    "## 常用的 `Series.str.method()`\n",
    "\n",
    "- `Series.str.contains()` 判斷文字是否包含指定特徵。\n",
    "- `Series.str.replace()` 取代文字中的指定特徵。\n",
    "- `Series.str.split()` 依據文字中的指定特徵切割。\n",
    "- `Series.str.cat()` 以元素操作（Elementwise）連接兩個文字 `Series`"
   ]
  },
  {
   "cell_type": "markdown",
   "metadata": {
    "slideshow": {
     "slide_type": "subslide"
    }
   },
   "source": [
    "## 以判斷整數特徵為例"
   ]
  },
  {
   "cell_type": "code",
   "execution_count": 25,
   "metadata": {
    "slideshow": {
     "slide_type": "-"
    }
   },
   "outputs": [
    {
     "data": {
      "text/plain": [
       "[True, True, False, False]"
      ]
     },
     "execution_count": 25,
     "metadata": {},
     "output_type": "execute_result"
    }
   ],
   "source": [
    "integer_pattern = \"[0-9]\"\n",
    "boy_bands = [\"5566\", \"F4\", \"NSYNC\", \"Backstreet Boys\"]\n",
    "contains_numeric_pattern = [bool(re.search(integer_pattern, boy_band)) for boy_band in boy_bands]\n",
    "contains_numeric_pattern"
   ]
  },
  {
   "cell_type": "markdown",
   "metadata": {
    "slideshow": {
     "slide_type": "subslide"
    }
   },
   "source": [
    "## 使用 `Series.str.contains()` 判斷文字是否包含指定特徵"
   ]
  },
  {
   "cell_type": "code",
   "execution_count": 26,
   "metadata": {},
   "outputs": [
    {
     "data": {
      "text/plain": [
       "0     True\n",
       "1     True\n",
       "2    False\n",
       "3    False\n",
       "dtype: bool"
      ]
     },
     "execution_count": 26,
     "metadata": {},
     "output_type": "execute_result"
    }
   ],
   "source": [
    "boy_bands = pd.Series([\"5566\", \"F4\", \"NSYNC\", \"Backstreet Boys\"])\n",
    "boy_bands.str.contains(integer_pattern, regex=True)"
   ]
  },
  {
   "cell_type": "markdown",
   "metadata": {
    "slideshow": {
     "slide_type": "subslide"
    }
   },
   "source": [
    "## 使用 `Series.str.replace()` 取代文字中的指定特徵"
   ]
  },
  {
   "cell_type": "code",
   "execution_count": 27,
   "metadata": {},
   "outputs": [
    {
     "data": {
      "text/plain": [
       "0                   \n",
       "1                  F\n",
       "2              NSYNC\n",
       "3    Backstreet Boys\n",
       "dtype: object"
      ]
     },
     "execution_count": 27,
     "metadata": {},
     "output_type": "execute_result"
    }
   ],
   "source": [
    "boy_bands = pd.Series([\"5566\", \"F4\", \"NSYNC\", \"Backstreet Boys\"])\n",
    "boy_bands.str.replace(integer_pattern, \"\", regex=True)"
   ]
  },
  {
   "cell_type": "markdown",
   "metadata": {
    "slideshow": {
     "slide_type": "subslide"
    }
   },
   "source": [
    "## 使用 `Series.str.split()` 依據文字中的指定特徵分割\n",
    "\n",
    "分割後的結果為包含多個 `list` 的 `Series`"
   ]
  },
  {
   "cell_type": "code",
   "execution_count": 28,
   "metadata": {},
   "outputs": [
    {
     "data": {
      "text/plain": [
       "0    [The, Lord, of, the, Rings]\n",
       "1            [The, Dark, Knight]\n",
       "2             [The, God, Father]\n",
       "3                [Forrest, Gump]\n",
       "dtype: object"
      ]
     },
     "execution_count": 28,
     "metadata": {},
     "output_type": "execute_result"
    }
   ],
   "source": [
    "split_pattern = \"[-_ ;]\"\n",
    "movie_titles = pd.Series([\"The-Lord-of-the-Rings\", \"The_Dark_Knight\", \"The God Father\", \"Forrest;Gump\"])\n",
    "movie_titles.str.split(split_pattern)"
   ]
  },
  {
   "cell_type": "code",
   "execution_count": 29,
   "metadata": {
    "slideshow": {
     "slide_type": "-"
    }
   },
   "outputs": [
    {
     "data": {
      "text/plain": [
       "['The Lord of the Rings', 'The Dark Knight', 'The God Father', 'Forrest Gump']"
      ]
     },
     "execution_count": 29,
     "metadata": {},
     "output_type": "execute_result"
    }
   ],
   "source": [
    "movie_titles_sep_with_space = [\" \".join(title) for title in movie_titles.str.split(split_pattern)]\n",
    "movie_titles_sep_with_space"
   ]
  },
  {
   "cell_type": "markdown",
   "metadata": {
    "slideshow": {
     "slide_type": "subslide"
    }
   },
   "source": [
    "## 使用 `Series.str.cat()` 以元素操作（Elementwise）連接兩個文字 `Series`"
   ]
  },
  {
   "cell_type": "code",
   "execution_count": 30,
   "metadata": {},
   "outputs": [
    {
     "data": {
      "text/plain": [
       "0    The Lord of the Rings: The Fellowship of the Ring\n",
       "1                The Lord of the Rings: The Two Towers\n",
       "2        The Lord of the Rings: The Return of the King\n",
       "dtype: object"
      ]
     },
     "execution_count": 30,
     "metadata": {},
     "output_type": "execute_result"
    }
   ],
   "source": [
    "trilogy = pd.Series([\"The Lord of the Rings\", \"The Lord of the Rings\", \"The Lord of the Rings\"])\n",
    "titles = pd.Series([\"The Fellowship of the Ring\", \"The Two Towers\", \"The Return of the King\"])\n",
    "trilogy.str.cat(titles, sep=\": \")"
   ]
  },
  {
   "cell_type": "markdown",
   "metadata": {
    "slideshow": {
     "slide_type": "slide"
    }
   },
   "source": [
    "## 重點統整\n",
    "\n",
    "- `str` 與其他資料類別不同的地方\n",
    "    - `str` 是可迭代類別（Iterable）\n",
    "    - `str` 適用 indexing/slicing\n",
    "- 文字操作目的\n",
    "    - 大小寫調整。\n",
    "    - 特徵判斷。\n",
    "    - 擷取片段。\n",
    "    - 移除多餘的空白字元。\n",
    "    - 取代特徵。\n",
    "    - 連接與分割。"
   ]
  },
  {
   "cell_type": "markdown",
   "metadata": {
    "slideshow": {
     "slide_type": "subslide"
    }
   },
   "source": [
    "## 重點統整（續）\n",
    "\n",
    "- 正規表達式（Regular expression）是一種用來描述文字特徵的語法，是更為強大、能夠表現文字泛用特徵的技巧，許多程式設計語言都支援整合正規表達式進行文字操作，在 Python 中可以透過 `re` 模組來應用。\n",
    "- `str.method()` 與 `Series.str.method()` 不同的地方\n",
    "    - `str.method()` 操作一個文字；`Series.str.method()` 操作一欄文字。\n",
    "    - `str.method()` 不支援正規表達式，必須透過 `re` 模組；`Series.str.method()` 可以透過指定參數 `regex=True` 支援正規表達式。"
   ]
  }
 ],
 "metadata": {
  "celltoolbar": "Slideshow",
  "kernelspec": {
   "display_name": "Python Fifty Plus",
   "language": "python",
   "name": "pythonfiftyplus"
  },
  "language_info": {
   "codemirror_mode": {
    "name": "ipython",
    "version": 3
   },
   "file_extension": ".py",
   "mimetype": "text/x-python",
   "name": "python",
   "nbconvert_exporter": "python",
   "pygments_lexer": "ipython3",
   "version": "3.9.7"
  }
 },
 "nbformat": 4,
 "nbformat_minor": 4
}
