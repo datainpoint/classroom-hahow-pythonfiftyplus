{
 "cells": [
  {
   "cell_type": "markdown",
   "id": "pending-bottle",
   "metadata": {
    "slideshow": {
     "slide_type": "slide"
    }
   },
   "source": [
    "# Python 的 50+ 練習：資料科學學習手冊\n",
    "\n",
    "> 使用 conda 管理環境\n",
    "\n",
    "[數據交點](https://www.datainpoint.com/) | 郭耀仁 <yaojenkuo@datainpoint.com>"
   ]
  },
  {
   "cell_type": "markdown",
   "id": "boxed-rental",
   "metadata": {
    "slideshow": {
     "slide_type": "slide"
    }
   },
   "source": [
    "## 關於環境管理"
   ]
  },
  {
   "cell_type": "markdown",
   "id": "designed-wallpaper",
   "metadata": {
    "slideshow": {
     "slide_type": "subslide"
    }
   },
   "source": [
    "## 關於 Python 程式語言的描述\n",
    "\n",
    "- 直譯式。\n",
    "- 動態類別。\n",
    "- 物件導向。\n",
    "- **泛用**。\n",
    "- ...等。"
   ]
  },
  {
   "cell_type": "markdown",
   "id": "sustained-smooth",
   "metadata": {
    "slideshow": {
     "slide_type": "subslide"
    }
   },
   "source": [
    "## Python 是廣泛用途的程式語言\n",
    "\n",
    "廣泛用途（General-purposed）是指作者 Guido van Rossum 在開發 Python 的過程中並沒有針對特定的應用場景去設計語言特性，而是交由程式語言的「使用者」利用第三方模組自行發展。而因為 Python 有大量來自不同領域的使用者，也使得其應用場景非常多元而且發展蓬勃。\n",
    "\n",
    "- 資料科學。\n",
    "- 網頁應用程式開發。\n",
    "- 桌面軟體使用者介面開發。\n",
    "- 遊戲開發。\n",
    "- ...等。\n",
    "\n",
    "來源：<https://www.python.org/about/apps/>"
   ]
  },
  {
   "cell_type": "markdown",
   "id": "checked-christian",
   "metadata": {
    "slideshow": {
     "slide_type": "subslide"
    }
   },
   "source": [
    "## 什麼是環境管理\n",
    "\n",
    "當程式語言的應用場景多元，伴隨而來的就是要依據專案需求安裝設定不同的 Python 版本以及不同的模組版本。在一台電腦管理軟體版本，確保各個專案的開發環境不會受到彼此影響的機制，就稱為環境管理。\n",
    "\n",
    "- 專案一需要 Python 3.9 與 NumPy/Pandas 模組進行資料科學。\n",
    "- 專案二需要 Python 3.8 與 Flask/Django 模組進行網頁應用程式開發。\n",
    "- 專案三需要 Python 3.7 與 PyQt/Kivy 模組進行桌面軟體使用者介面開發。\n",
    "- ...等。"
   ]
  },
  {
   "cell_type": "markdown",
   "id": "permanent-vegetation",
   "metadata": {
    "slideshow": {
     "slide_type": "subslide"
    }
   },
   "source": [
    "## 環境管理可以理解為管理軟體版本\n",
    "\n",
    "- Python 版本。\n",
    "- 模組版本。\n",
    "\n",
    "掌握環境管理是從 Python 初學者成長為進階者的重要里程碑。"
   ]
  },
  {
   "cell_type": "markdown",
   "id": "ranking-institution",
   "metadata": {
    "slideshow": {
     "slide_type": "subslide"
    }
   },
   "source": [
    "## 標準的 Python 版本與模組管理工具\n",
    "\n",
    "- Python 版本管理：標準模組 `venv`：<https://docs.python.org/3/tutorial/venv.html>\n",
    "- 模組版本管理：第三方模組 `pip`：<https://pip.pypa.io/en/stable>，雖然 `pip` 是第三方模組，但因為太受歡迎，自從 Python 3.4 以後已經變得像標準模組一樣會伴隨 Python 直譯器而安裝。"
   ]
  },
  {
   "cell_type": "markdown",
   "id": "emerging-translation",
   "metadata": {
    "slideshow": {
     "slide_type": "subslide"
    }
   },
   "source": [
    "## conda 可以同時管理 Python 版本與模組版本\n",
    "\n",
    "> conda 是一個開源的跨平台、跨程式語言軟體，能夠在 Windows、macOS 與 Linux 上安裝運行，它被設計作為 Python、R、Scala 與 Java 等任何程式語言的模組、依賴性以及工作環境管理軟體。\n",
    "\n",
    "來源：<https://conda.io/projects/conda/en/latest/index.html>"
   ]
  },
  {
   "cell_type": "markdown",
   "id": "quantitative-mainstream",
   "metadata": {
    "slideshow": {
     "slide_type": "slide"
    }
   },
   "source": [
    "## conda 入門"
   ]
  },
  {
   "cell_type": "markdown",
   "id": "median-allergy",
   "metadata": {
    "slideshow": {
     "slide_type": "subslide"
    }
   },
   "source": [
    "## conda 以終端機作為執行介面\n",
    "\n",
    "- 課程的 [JupyterLab](https://mybinder.org/v2/gh/datainpoint/classroom-hahow-pythonfiftyplus/HEAD) 已經安裝好 conda。\n",
    "- 點選上方選單的 File -> New -> Terminal 開啟終端機。\n",
    "- 檢視 conda 的版本來確定已經安裝妥當。\n",
    "\n",
    "```bash\n",
    "conda --version\n",
    "#conda 4.9.2\n",
    "```"
   ]
  },
  {
   "cell_type": "markdown",
   "id": "extensive-moisture",
   "metadata": {
    "slideshow": {
     "slide_type": "subslide"
    }
   },
   "source": [
    "## 檢視環境清單\n",
    "\n",
    "- 顯示所有可以使用的環境名稱與安裝路徑。\n",
    "- 以 `*` 標註目前所在的環境。\n",
    "\n",
    "```bash\n",
    "conda env list\n",
    "# conda environments:\n",
    "#\n",
    "#base                     /srv/conda\n",
    "#notebook              *  /srv/conda/envs/notebook\n",
    "```"
   ]
  },
  {
   "cell_type": "markdown",
   "id": "adverse-camera",
   "metadata": {
    "slideshow": {
     "slide_type": "subslide"
    }
   },
   "source": [
    "## 檢視目前所在環境的 Python 版本與模組版本\n",
    "\n",
    "- 環境名稱：`notebook`\n",
    "- Python 版本：3.9.7\n",
    "\n",
    "```bash\n",
    "python --version\n",
    "conda list\n",
    "#Python 3.9.7\n",
    "# packages in environment at /srv/conda/envs/notebook:\n",
    "#\n",
    "# Name                    Version                   Build  Channel\n",
    "#...\n",
    "```"
   ]
  },
  {
   "cell_type": "markdown",
   "id": "declared-action",
   "metadata": {
    "slideshow": {
     "slide_type": "subslide"
    }
   },
   "source": [
    "## 建立環境\n",
    "\n",
    "- 環境名稱：`python3812`\n",
    "- Python 版本：3.8.12\n",
    "\n",
    "```bash\n",
    "conda create --name python3812 python=3.8.12\n",
    "# ...\n",
    "#Proceed ([y]/n)? y\n",
    "# ...\n",
    "```"
   ]
  },
  {
   "cell_type": "markdown",
   "id": "supreme-level",
   "metadata": {
    "slideshow": {
     "slide_type": "subslide"
    }
   },
   "source": [
    "## 啟動環境\n",
    "\n",
    "- 環境名稱：`python3812`\n",
    "- 啟動之後會終端機會出現環境名稱提示 `(python3812)`\n",
    "\n",
    "```bash\n",
    "conda activate python3812\n",
    "```"
   ]
  },
  {
   "cell_type": "markdown",
   "id": "sitting-hardwood",
   "metadata": {
    "slideshow": {
     "slide_type": "subslide"
    }
   },
   "source": [
    "## 檢視目前所在環境的 Python 版本\n",
    "\n",
    "- 環境名稱：`python3812`\n",
    "- Python 版本：3.8.12\n",
    "\n",
    "```bash\n",
    "(python3812) python --version\n",
    "#Python 3.8.12\n",
    "```"
   ]
  },
  {
   "cell_type": "markdown",
   "id": "thermal-filling",
   "metadata": {
    "slideshow": {
     "slide_type": "subslide"
    }
   },
   "source": [
    "## 在目前環境安裝模組\n",
    "\n",
    "- 環境名稱：`python3812`\n",
    "- 模組名稱：`ipykernel` 用來管理 Jupyter Notebook 的運算核心（Kernels）。\n",
    "\n",
    "```bash\n",
    "(python3812) conda install ipykernel\n",
    "# ...\n",
    "#Proceed ([y]/n)? y\n",
    "# ...\n",
    "```"
   ]
  },
  {
   "cell_type": "markdown",
   "id": "alpine-irish",
   "metadata": {
    "slideshow": {
     "slide_type": "subslide"
    }
   },
   "source": [
    "## 新增 Jupyter Notebook 的運算核心\n",
    "\n",
    "- 環境名稱：`python3812`\n",
    "- 運算核心顯示名稱：`Python 3.8.12`\n",
    "\n",
    "```bash\n",
    "(python3812) python -m ipykernel install --user --name python3812 --display-name \"Python 3.8.12\"\n",
    "#Installed kernelspec python3812 in /home/jovyan/.local/share/jupyter/kernels/python3812\n",
    "```"
   ]
  },
  {
   "cell_type": "markdown",
   "id": "heated-kruger",
   "metadata": {
    "slideshow": {
     "slide_type": "subslide"
    }
   },
   "source": [
    "## 檢視 Jupyter Notebook 的運算核心清單\n",
    "\n",
    "```bash\n",
    "(python3812) jupyter kernelspec list\n",
    "#Available kernels:\n",
    "#  python3812    /home/jovyan/.local/share/jupyter/kernels/python3812\n",
    "#  python3       /srv/conda/envs/python3812/share/jupyter/kernels/python3\n",
    "```"
   ]
  },
  {
   "cell_type": "markdown",
   "id": "south-phone",
   "metadata": {
    "slideshow": {
     "slide_type": "subslide"
    }
   },
   "source": [
    "## 新增一個運算核心為 `Python 3.8.12` 的筆記本\n",
    "\n",
    "- 稍等一下再重新開啟 Launcher\n",
    "- 點選 Notebook Python 3.8.12\n",
    "- 透過標準模組 `sys` 在 Jupyter Notebook 中檢視 Python 版本。\n",
    "\n",
    "```python\n",
    "# Run in Jupyter Notebook instead of Terminal\n",
    "import sys\n",
    "\n",
    "print(sys.version)\n",
    "#3.8.12 | packaged by conda-forge | (default, Oct 12 2021, 21:57:06) \n",
    "#[GCC 9.4.0]\n",
    "```"
   ]
  },
  {
   "cell_type": "markdown",
   "id": "scheduled-first",
   "metadata": {
    "slideshow": {
     "slide_type": "subslide"
    }
   },
   "source": [
    "## 卸載環境\n",
    "\n",
    "回到 `notebook` 環境。\n",
    "\n",
    "```bash\n",
    "(python3812) conda deactivate\n",
    "(notebook) conda env list\n",
    "# conda environments:\n",
    "#\n",
    "#base                     /srv/conda\n",
    "#notebook              *  /srv/conda/envs/notebook\n",
    "#python3812               /srv/conda/envs/python3812\n",
    "```"
   ]
  },
  {
   "cell_type": "markdown",
   "id": "south-strengthening",
   "metadata": {
    "slideshow": {
     "slide_type": "subslide"
    }
   },
   "source": [
    "## 卸載環境（續）\n",
    "\n",
    "回到 `base` 環境。\n",
    "\n",
    "```bash\n",
    "(notebook) conda deactivate\n",
    "conda env list\n",
    "# conda environments:\n",
    "#\n",
    "#base                  *  /srv/conda\n",
    "#notebook                 /srv/conda/envs/notebook\n",
    "#python3812               /srv/conda/envs/python3812\n",
    "```"
   ]
  },
  {
   "cell_type": "markdown",
   "id": "municipal-stomach",
   "metadata": {
    "slideshow": {
     "slide_type": "subslide"
    }
   },
   "source": [
    "## 移除 Jupyter Notebook 運算核心\n",
    "\n",
    "- 移除 Jupyter Notebook 運算核心：`python3812`\n",
    "- 檢視 Jupyter Notebook 的運算核心清單。\n",
    "\n",
    "```bash\n",
    "jupyter kernelspec remove python3812\n",
    "jupyter kernelspec list\n",
    "#Kernel specs to remove:\n",
    "#  python3812            /home/jovyan/.local/share/jupyter/kernels/python3812\n",
    "#Remove 1 kernel specs [y/N]: y\n",
    "#[RemoveKernelSpec] Removed /home/jovyan/.local/share/jupyter/kernels/python3812\n",
    "#Available kernels:\n",
    "#  python3    /srv/conda/envs/notebook/share/jupyter/kernels/python3\n",
    "```"
   ]
  },
  {
   "cell_type": "markdown",
   "id": "respected-motivation",
   "metadata": {
    "slideshow": {
     "slide_type": "subslide"
    }
   },
   "source": [
    "## 移除環境\n",
    "\n",
    "- 移除環境 `python3812`\n",
    "- 檢視環境清單。\n",
    "\n",
    "```bash\n",
    "conda remove --name python3812 --all\n",
    "conda env list\n",
    "#Remove all packages in environment /srv/conda/envs/python3812:\n",
    "#\n",
    "#...\n",
    "#\n",
    "#Proceed ([y]/n)? y\n",
    "#\n",
    "#...\n",
    "# conda environments:\n",
    "#\n",
    "#base                  *  /srv/conda\n",
    "#notebook                 /srv/conda/envs/notebook\n",
    "```"
   ]
  },
  {
   "cell_type": "markdown",
   "id": "southern-caribbean",
   "metadata": {
    "slideshow": {
     "slide_type": "subslide"
    }
   },
   "source": [
    "## 安裝 Miniconda\n",
    "\n",
    "- 安裝 [Miniconda](https://docs.conda.io/en/latest/miniconda.html)\n",
    "- Miniconda 是 [Anaconda](https://www.anaconda.com/) 輕量的版本，基本只會在電腦中安裝特定 Python 直譯器版本與 conda\n",
    "- Python 初學者會建議安裝 Anaconda，但現在我們已經是 Python 進階者，所以建議安裝 Miniconda"
   ]
  },
  {
   "cell_type": "markdown",
   "id": "bacterial-blast",
   "metadata": {
    "slideshow": {
     "slide_type": "slide"
    }
   },
   "source": [
    "## 在 Windows 作業系統使用 conda 建立 Python 資料科學環境"
   ]
  },
  {
   "cell_type": "markdown",
   "id": "polyphonic-reform",
   "metadata": {
    "slideshow": {
     "slide_type": "subslide"
    }
   },
   "source": [
    "## Windows 作業系統下載與安裝 Miniconda\n",
    "\n",
    "[點此下載安裝 .exe 安裝檔](https://classroom-hahow-pythonfiftyplus.s3.ap-northeast-3.amazonaws.com/Miniconda3-py39_4.10.3-Windows-x86_64.exe)"
   ]
  },
  {
   "cell_type": "markdown",
   "id": "accepted-zimbabwe",
   "metadata": {
    "slideshow": {
     "slide_type": "subslide"
    }
   },
   "source": [
    "## conda 以終端機作為執行介面\n",
    "\n",
    "- **Windows 作業系統：Anaconda Prompt**\n",
    "- macOS：Terminal（終端機）。"
   ]
  },
  {
   "cell_type": "markdown",
   "id": "false-imagination",
   "metadata": {
    "slideshow": {
     "slide_type": "subslide"
    }
   },
   "source": [
    "## 檢視目前所在環境的 Python 版本\n",
    "\n",
    "環境名稱：`base`\n",
    "\n",
    "```bash\n",
    "(base) python --version\n",
    "```"
   ]
  },
  {
   "cell_type": "markdown",
   "id": "metric-accommodation",
   "metadata": {
    "slideshow": {
     "slide_type": "subslide"
    }
   },
   "source": [
    "## 在 base 環境安裝 jupyterlab\n",
    "\n",
    "環境名稱：`base`\n",
    "\n",
    "```bash\n",
    "(base) conda install jupyterlab\n",
    "# ...\n",
    "#Proceed ([y]/n)? y\n",
    "# ...\n",
    "```"
   ]
  },
  {
   "cell_type": "markdown",
   "id": "western-hampshire",
   "metadata": {
    "slideshow": {
     "slide_type": "subslide"
    }
   },
   "source": [
    "## 建立環境\n",
    "\n",
    "- 環境名稱：`pythonfiftyplus`\n",
    "- Python 版本：3.9.7\n",
    "\n",
    "```bash\n",
    "(base) conda create --name pythonfiftyplus python=3.9.7\n",
    "# ...\n",
    "#Proceed ([y]/n)? y\n",
    "# ...\n",
    "```"
   ]
  },
  {
   "cell_type": "markdown",
   "id": "composite-civilization",
   "metadata": {
    "slideshow": {
     "slide_type": "subslide"
    }
   },
   "source": [
    "## 啟動環境\n",
    "\n",
    "- 環境名稱：`pythonfiftyplus`\n",
    "- 啟動之後會終端機會出現環境名稱提示 `(pythonfiftyplus)`\n",
    "\n",
    "```bash\n",
    "(base) conda activate pythonfiftyplus\n",
    "```"
   ]
  },
  {
   "cell_type": "markdown",
   "id": "spiritual-stationery",
   "metadata": {
    "slideshow": {
     "slide_type": "subslide"
    }
   },
   "source": [
    "## 在目前環境安裝資料科學模組\n",
    "\n",
    "環境名稱：`pythonfiftyplus`\n",
    "\n",
    "```bash\n",
    "(pythonfiftyplus) pip install ipykernel numpy==1.21 pandas==1.3 xlrd==2.0 openpyxl==3.0 matplotlib==3.5 scikit-learn==1.0\n",
    "# ...\n",
    "#Proceed ([y]/n)? y\n",
    "# ...\n",
    "```"
   ]
  },
  {
   "cell_type": "markdown",
   "id": "incredible-australian",
   "metadata": {
    "slideshow": {
     "slide_type": "subslide"
    }
   },
   "source": [
    "## 新增 Jupyter Notebook 的運算核心\n",
    "\n",
    "- 環境名稱：`pythonfiftyplus`\n",
    "- 運算核心顯示名稱：`Python Fifty Plus`\n",
    "\n",
    "```bash\n",
    "(pythonfiftyplus) python -m ipykernel install --user --name pythonfiftyplus --display-name \"Python Fifty Plus\"\n",
    "```"
   ]
  },
  {
   "cell_type": "markdown",
   "id": "steady-spectacular",
   "metadata": {
    "slideshow": {
     "slide_type": "subslide"
    }
   },
   "source": [
    "## 新增一個運算核心為 `Python Fifty Plus` 的筆記本\n",
    "\n",
    "- 在 Anaconda Prompt 輸入 `conda deactivate` 回到 base 環境。\n",
    "- 在 Anaconda Prompt 輸入 `jupyter lab` 後按下 Enter\n",
    "- 點選 Notebook Python Fifty Plus\n",
    "- 透過標準模組 `sys` 在 Jupyter Notebook 中檢視 Python 版本。\n",
    "\n",
    "```python\n",
    "# Run in Jupyter Notebook instead of Terminal\n",
    "import sys\n",
    "\n",
    "print(sys.version)\n",
    "#3.9.7 | packaged by conda-forge | (default, Sep 29 2021, 19:20:46) \n",
    "#[GCC 9.4.0]\n",
    "```"
   ]
  },
  {
   "cell_type": "markdown",
   "id": "technical-duration",
   "metadata": {
    "slideshow": {
     "slide_type": "slide"
    }
   },
   "source": [
    "## 在 macOS 使用 conda 建立 Python 資料科學環境"
   ]
  },
  {
   "cell_type": "markdown",
   "id": "accomplished-title",
   "metadata": {
    "slideshow": {
     "slide_type": "subslide"
    }
   },
   "source": [
    "## macOS 下載與安裝 Miniconda\n",
    "\n",
    "[點此下載安裝 .pkg 安裝檔](https://classroom-hahow-pythonfiftyplus.s3.ap-northeast-3.amazonaws.com/Miniconda3-py39_4.10.3-MacOSX-x86_64.pkg)"
   ]
  },
  {
   "cell_type": "markdown",
   "id": "agricultural-brazilian",
   "metadata": {
    "slideshow": {
     "slide_type": "subslide"
    }
   },
   "source": [
    "## conda 以終端機作為執行介面\n",
    "\n",
    "- Windows 作業系統：Anaconda Prompt\n",
    "- **macOS：Terminal（終端機）**。"
   ]
  },
  {
   "cell_type": "markdown",
   "id": "dynamic-cycling",
   "metadata": {
    "slideshow": {
     "slide_type": "subslide"
    }
   },
   "source": [
    "## 檢視目前所在環境的 Python 版本\n",
    "\n",
    "環境名稱：`base`\n",
    "\n",
    "```bash\n",
    "(base) python --version\n",
    "```"
   ]
  },
  {
   "cell_type": "markdown",
   "id": "necessary-insertion",
   "metadata": {
    "slideshow": {
     "slide_type": "subslide"
    }
   },
   "source": [
    "## 在 base 環境安裝 jupyterlab\n",
    "\n",
    "環境名稱：`base`\n",
    "\n",
    "```bash\n",
    "(base) conda install jupyterlab\n",
    "# ...\n",
    "#Proceed ([y]/n)? y\n",
    "# ...\n",
    "```"
   ]
  },
  {
   "cell_type": "markdown",
   "id": "cardiovascular-empire",
   "metadata": {
    "slideshow": {
     "slide_type": "subslide"
    }
   },
   "source": [
    "## 建立環境\n",
    "\n",
    "- 環境名稱：`pythonfiftyplus`\n",
    "- Python 版本：3.9.7\n",
    "\n",
    "```bash\n",
    "(base) conda create --name pythonfiftyplus python=3.9.7\n",
    "# ...\n",
    "#Proceed ([y]/n)? y\n",
    "# ...\n",
    "```"
   ]
  },
  {
   "cell_type": "markdown",
   "id": "unusual-driving",
   "metadata": {
    "slideshow": {
     "slide_type": "subslide"
    }
   },
   "source": [
    "## 啟動環境\n",
    "\n",
    "- 環境名稱：`pythonfiftyplus`\n",
    "- 啟動之後會終端機會出現環境名稱提示 `(pythonfiftyplus)`\n",
    "\n",
    "```bash\n",
    "(base) conda activate pythonfiftyplus\n",
    "```"
   ]
  },
  {
   "cell_type": "markdown",
   "id": "voluntary-authorization",
   "metadata": {
    "slideshow": {
     "slide_type": "subslide"
    }
   },
   "source": [
    "## 在目前環境安裝資料科學模組\n",
    "\n",
    "環境名稱：`pythonfiftyplus`\n",
    "\n",
    "```bash\n",
    "(pythonfiftyplus) pip install ipykernel numpy==1.21 pandas==1.3 xlrd==2.0 openpyxl==3.0 matplotlib==3.5 scikit-learn==1.0\n",
    "# ...\n",
    "#Proceed ([y]/n)? y\n",
    "# ...\n",
    "```"
   ]
  },
  {
   "cell_type": "markdown",
   "id": "victorian-graphics",
   "metadata": {
    "slideshow": {
     "slide_type": "subslide"
    }
   },
   "source": [
    "## 新增 Jupyter Notebook 的運算核心\n",
    "\n",
    "- 環境名稱：`pythonfiftyplus`\n",
    "- 運算核心顯示名稱：`Python Fifty Plus`\n",
    "\n",
    "```bash\n",
    "(pythonfiftyplus) python -m ipykernel install --user --name pythonfiftyplus --display-name \"Python Fifty Plus\"\n",
    "```"
   ]
  },
  {
   "cell_type": "markdown",
   "id": "academic-louisiana",
   "metadata": {
    "slideshow": {
     "slide_type": "subslide"
    }
   },
   "source": [
    "## 新增一個運算核心為 `Python Fifty Plus` 的筆記本\n",
    "\n",
    "- 在終端機輸入 `conda deactivate` 回到 base 環境。\n",
    "- 在終端機輸入 `jupyter lab` 後按下 Enter\n",
    "- 點選 Notebook Python Fifty Plus\n",
    "- 透過標準模組 `sys` 在 Jupyter Notebook 中檢視 Python 版本。\n",
    "\n",
    "```python\n",
    "# Run in Jupyter Notebook instead of Terminal\n",
    "import sys\n",
    "\n",
    "print(sys.version)\n",
    "#3.9.7 | packaged by conda-forge | (default, Sep 29 2021, 19:20:46) \n",
    "#[GCC 9.4.0]\n",
    "```"
   ]
  },
  {
   "cell_type": "markdown",
   "id": "favorite-smile",
   "metadata": {
    "slideshow": {
     "slide_type": "slide"
    }
   },
   "source": [
    "## 重點統整\n",
    "\n",
    "- 掌握環境管理是從 Python 初學者成長為進階者的重要里程碑。\n",
    "- conda 可以同時管理 Python 版本與模組版本。\n",
    "- conda 以終端機作為執行介面。"
   ]
  },
  {
   "cell_type": "markdown",
   "id": "subtle-elephant",
   "metadata": {
    "slideshow": {
     "slide_type": "subslide"
    }
   },
   "source": [
    "## 重點統整（續）\n",
    "\n",
    "- 以 `conda env list` 檢視環境清單。\n",
    "- 以 `conda create --name ENVNAME python=MAJOR.MINOR.PATCH` 建立環境。\n",
    "- 以 `conda install MODULENAME` 安裝模組。"
   ]
  },
  {
   "cell_type": "markdown",
   "id": "olympic-apartment",
   "metadata": {
    "slideshow": {
     "slide_type": "subslide"
    }
   },
   "source": [
    "## 重點統整（續）\n",
    "\n",
    "- 以 `conda activate ENVNAME` 啟動環境。\n",
    "- 以 `conda deactivate` 卸載環境。\n",
    "- 卸載環境後以 `conda remove --name ENVNAME --all` 移除環境。"
   ]
  }
 ],
 "metadata": {
  "celltoolbar": "Slideshow",
  "kernelspec": {
   "display_name": "Python 3 (ipykernel)",
   "language": "python",
   "name": "python3"
  },
  "language_info": {
   "codemirror_mode": {
    "name": "ipython",
    "version": 3
   },
   "file_extension": ".py",
   "mimetype": "text/x-python",
   "name": "python",
   "nbconvert_exporter": "python",
   "pygments_lexer": "ipython3",
   "version": "3.9.5"
  }
 },
 "nbformat": 4,
 "nbformat_minor": 5
}
