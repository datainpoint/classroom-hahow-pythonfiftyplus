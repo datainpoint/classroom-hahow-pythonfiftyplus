{
 "cells": [
  {
   "cell_type": "markdown",
   "id": "heated-welding",
   "metadata": {
    "deletable": false
   },
   "source": [
    "# Python 的 50+ 練習：資料科學學習手冊\n",
    "\n",
    "> 使用模組包裝函數與類別\n",
    "\n",
    "[數據交點](https://www.datainpoint.com) | 郭耀仁 <yaojenkuo@datainpoint.com>"
   ]
  },
  {
   "cell_type": "markdown",
   "id": "fleet-tokyo",
   "metadata": {
    "deletable": false
   },
   "source": [
    "## 練習題指引\n",
    "\n",
    "- 練習題閒置超過 10 分鐘會自動斷線，只要重新點選練習題連結即可重新啟動。\n",
    "- 第一個程式碼儲存格會將可能用得到的模組載入。\n",
    "- 如果練習題需要載入檔案，檔案存放絕對路徑為 `/home/jovyan/data`，相對路徑為 `../data`\n",
    "- 練習題已經給定函數、類別、預期輸入或參數名稱，我們只需要寫作程式區塊。同時也給定函數的類別提示，說明預期輸入以及預期輸出的類別。\n",
    "- 說明（Docstring）會描述測試如何進行，閱讀說明能夠暸解預期輸入以及預期輸出之間的關係，幫助我們更快解題。\n",
    "- 請在 `### BEGIN SOLUTION` 與 `### END SOLUTION` 這兩個註解之間寫作函數或者類別的程式區塊。\n",
    "- 將預期輸出放置在 `return` 保留字之後，若只是用 `print()` 函數將預期輸出印出無法通過測試。\n",
    "- 語法錯誤（`SyntaxError`）或縮排錯誤（`IndentationError`）等將會導致測試失效，測試之前應該先在筆記本使用函數觀察是否與說明（Docstring）描述的功能相符。\n",
    "- 如果卡關，可以先看練習題詳解或者複習課程單元影片之後再繼續寫作。\n",
    "- 執行測試的步驟：\n",
    "    1. 點選上方選單的 File -> Save Notebook 儲存 exercises.ipynb。\n",
    "    2. 點選上方選單的 File -> New -> Terminal 開啟終端機。\n",
    "    3. 在終端機輸入 `python 07-modules/test_runner.py` 後按下 Enter 執行測試。\n",
    "    4. 本章節比較特殊，請完成 3 題之後再執行測試。"
   ]
  },
  {
   "cell_type": "markdown",
   "id": "typical-impact",
   "metadata": {},
   "source": [
    "## 056. 用模組包裝函數\n",
    "\n",
    "在工作目錄（`/home/jovyan/07-modules`）新增 `palindromefunctions.py` 包裝 `reverse_str()` 函數與 `is_palindrome()` 函數。 \n",
    "\n",
    "- 新增 Python File\n",
    "- 將兩個函數的程式碼貼上後重新命名並存檔。\n",
    "\n",
    "```python\n",
    "def reverse_str(x: str) -> str:\n",
    "    \"\"\"\n",
    "    >>> reverse_str(\"eye\")\n",
    "    'eye'\n",
    "    >>> reverse_str(\"dad\")\n",
    "    'dad'\n",
    "    >>> reverse_str(\"dye\")\n",
    "    'eyd'\n",
    "    >>> reverse_str(\"mad\")\n",
    "    'dam'\n",
    "    \"\"\"\n",
    "    ### BEGIN SOLUTION\n",
    "    return x[::-1]\n",
    "    ### END SOLUTION\n",
    "def is_palindrome(x: str) -> bool:\n",
    "    \"\"\"\n",
    "    >>> is_palindrome(\"eye\")\n",
    "    True\n",
    "    >>> is_palindrome(\"dad\")\n",
    "    True\n",
    "    >>> is_palindrome(\"dye\")\n",
    "    False\n",
    "    >>> is_palindrome(\"mad\")\n",
    "    False\n",
    "    \"\"\"\n",
    "    ### BEGIN SOLUTION\n",
    "    reversed_x = reverse_str(x)\n",
    "    return x == reversed_x\n",
    "    ### END SOLUTION\n",
    "```"
   ]
  },
  {
   "cell_type": "markdown",
   "id": "activated-boating",
   "metadata": {},
   "source": [
    "## 057. 用模組包裝類別\n",
    "\n",
    "在工作目錄（`/home/jovyan/07-modules`）新增 `palindromeclass.py` 包裝 `Palindrome` 類別。 \n",
    "\n",
    "- 新增 Python File\n",
    "- 將類別的程式碼貼上後重新命名並存檔。\n",
    "\n",
    "```python\n",
    "class Palindrome:\n",
    "    \"\"\"\n",
    "    >>> palindrome = Palindrome(\"eye\")\n",
    "    >>> palindrome.original_str\n",
    "    'eye'\n",
    "    >>> palindrome.reversed_str\n",
    "    'eye'\n",
    "    >>> palindrome.is_palindrome()\n",
    "    True\n",
    "    >>> palindrome = Palindrome(\"dye\")\n",
    "    >>> palindrome.original_text\n",
    "    'dye'\n",
    "    >>> palindrome.reversed_text\n",
    "    'eyd'\n",
    "    >>> palindrome.is_palindrome()\n",
    "    False\n",
    "    \"\"\"\n",
    "    ### BEGIN SOLUTION\n",
    "    def __init__(self, x: str):\n",
    "        self.original_str = x\n",
    "        self.reversed_str = self.reverse_str(x)\n",
    "    def reverse_str(self, x: str) -> str:\n",
    "        return x[::-1]\n",
    "    def is_palindrome(self) -> bool:\n",
    "        return self.original_str == self.reversed_str\n",
    "    ### END SOLUTION\n",
    "```"
   ]
  },
  {
   "cell_type": "markdown",
   "id": "corresponding-brush",
   "metadata": {},
   "source": [
    "## 058. 用模組包裝模組\n",
    "\n",
    "在工作目錄（`/home/jovyan/07-modules`）新增 `mymodules` 包裝 `palindromefunctions.py` 以及 `palindromeclass.py` \n",
    "\n",
    "- 新增資料夾 `mymodules`。\n",
    "- 將 `palindromefunctions.py` 以及 `palindromeclass.py` **複製**到 `mymodules`"
   ]
  }
 ],
 "metadata": {
  "kernelspec": {
   "display_name": "Python 3 (ipykernel)",
   "language": "python",
   "name": "python3"
  },
  "language_info": {
   "codemirror_mode": {
    "name": "ipython",
    "version": 3
   },
   "file_extension": ".py",
   "mimetype": "text/x-python",
   "name": "python",
   "nbconvert_exporter": "python",
   "pygments_lexer": "ipython3",
   "version": "3.9.5"
  }
 },
 "nbformat": 4,
 "nbformat_minor": 5
}
