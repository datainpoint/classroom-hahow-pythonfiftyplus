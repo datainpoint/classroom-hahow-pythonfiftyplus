{
 "cells": [
  {
   "cell_type": "markdown",
   "id": "small-bacon",
   "metadata": {
    "slideshow": {
     "slide_type": "slide"
    }
   },
   "source": [
    "# Python 的 50+ 練習：資料科學學習手冊\n",
    "\n",
    "> 使用模組包裝函數與類別\n",
    "\n",
    "[數據交點](https://www.datainpoint.com/) | 郭耀仁 <yaojenkuo@datainpoint.com>"
   ]
  },
  {
   "cell_type": "markdown",
   "id": "developed-bangladesh",
   "metadata": {
    "slideshow": {
     "slide_type": "subslide"
    }
   },
   "source": [
    "## 這個章節會登場的保留字與模組\n",
    "\n",
    "- `import` 保留字。\n",
    "- `from` 保留字。\n",
    "- `as` 保留字。\n",
    "- `datetime` 模組。\n",
    "- `os` 模組。\n",
    "- `this` 模組。"
   ]
  },
  {
   "cell_type": "markdown",
   "id": "gorgeous-namibia",
   "metadata": {
    "slideshow": {
     "slide_type": "subslide"
    }
   },
   "source": [
    "## 複習：Python 提供三種機制供使用者組織程式碼\n",
    "\n",
    "視應用範疇由小到大依序為：\n",
    "\n",
    "1. 函數（Function）。\n",
    "2. 類別（Class）。\n",
    "3. **模組（Module）**。"
   ]
  },
  {
   "cell_type": "markdown",
   "id": "seasonal-jonathan",
   "metadata": {
    "slideshow": {
     "slide_type": "subslide"
    }
   },
   "source": [
    "## 複習：如何理解程式碼組織機制的層次\n",
    "\n",
    "- 數行程式碼可以組織為一個函數。\n",
    "- 數個函數可以組織為一個類別。\n",
    "- **數個函數或類別可以組織為一個模組**。\n",
    "- **數個模組可以組織為一個功能更多的模組**。"
   ]
  },
  {
   "cell_type": "markdown",
   "id": "returning-provision",
   "metadata": {
    "slideshow": {
     "slide_type": "slide"
    }
   },
   "source": [
    "## 關於模組"
   ]
  },
  {
   "cell_type": "markdown",
   "id": "desirable-wells",
   "metadata": {
    "slideshow": {
     "slide_type": "subslide"
    }
   },
   "source": [
    "## 複習：Python 禪學（The Zen of Python）\n",
    "\n",
    "- `import` 是 Python 的保留字（Keywords），可以載入模組。\n",
    "- `this` 是 Python 的一個標準模組，可以印出 Python 禪學。"
   ]
  },
  {
   "cell_type": "code",
   "execution_count": 1,
   "id": "unavailable-roommate",
   "metadata": {},
   "outputs": [
    {
     "name": "stdout",
     "output_type": "stream",
     "text": [
      "The Zen of Python, by Tim Peters\n",
      "\n",
      "Beautiful is better than ugly.\n",
      "Explicit is better than implicit.\n",
      "Simple is better than complex.\n",
      "Complex is better than complicated.\n",
      "Flat is better than nested.\n",
      "Sparse is better than dense.\n",
      "Readability counts.\n",
      "Special cases aren't special enough to break the rules.\n",
      "Although practicality beats purity.\n",
      "Errors should never pass silently.\n",
      "Unless explicitly silenced.\n",
      "In the face of ambiguity, refuse the temptation to guess.\n",
      "There should be one-- and preferably only one --obvious way to do it.\n",
      "Although that way may not be obvious at first unless you're Dutch.\n",
      "Now is better than never.\n",
      "Although never is often better than *right* now.\n",
      "If the implementation is hard to explain, it's a bad idea.\n",
      "If the implementation is easy to explain, it may be a good idea.\n",
      "Namespaces are one honking great idea -- let's do more of those!\n"
     ]
    }
   ],
   "source": [
    "import this"
   ]
  },
  {
   "cell_type": "markdown",
   "id": "subjective-special",
   "metadata": {
    "slideshow": {
     "slide_type": "subslide"
    }
   },
   "source": [
    "## 什麼是模組\n",
    "\n",
    "模組（Module）指的是以檔案或資料夾形式，來組織 Python 的函數以及類別。檔案形式可以對應「數個函數或類別可以組織為一個模組」層次、資料夾形式可以對應「數個模組可以組織為一個功能更多的模組」層次。"
   ]
  },
  {
   "cell_type": "markdown",
   "id": "complex-turner",
   "metadata": {
    "slideshow": {
     "slide_type": "subslide"
    }
   },
   "source": [
    "## 模組有三個來源\n",
    "\n",
    "1. **標準模組**。\n",
    "2. **來自使用者的定義**。\n",
    "3. 第三方模組。"
   ]
  },
  {
   "cell_type": "markdown",
   "id": "indian-preservation",
   "metadata": {
    "slideshow": {
     "slide_type": "subslide"
    }
   },
   "source": [
    "## 目前還沒有載入第三方模組的需求\n",
    "\n",
    "之後在課程的第三與第四部分「Python 資料科學的基礎」以及「資料科學的應用場景」會說明。"
   ]
  },
  {
   "cell_type": "markdown",
   "id": "nonprofit-salvation",
   "metadata": {
    "slideshow": {
     "slide_type": "subslide"
    }
   },
   "source": [
    "## 標準模組（Standard libraries）\n",
    "\n",
    "- 伴隨 Python 直譯器（來自 [python.org](https://www.python.org) 的版本）安裝的模組。\n",
    "- 可以直接載入並使用。\n",
    "- 有哪些標準模組可以直接載入並使用：<https://docs.python.org/3/library>"
   ]
  },
  {
   "cell_type": "markdown",
   "id": "professional-foster",
   "metadata": {
    "slideshow": {
     "slide_type": "slide"
    }
   },
   "source": [
    "## 如何載入模組"
   ]
  },
  {
   "cell_type": "markdown",
   "id": "inclusive-packaging",
   "metadata": {
    "slideshow": {
     "slide_type": "subslide"
    }
   },
   "source": [
    "## 使用 `import`、`from` 與 `as` 保留字\n",
    "\n",
    "- 使用 `import` 載入模組。\n",
    "- 使用 `from module import function/class` 載入模組中特定的函數或類別。\n",
    "- 使用 `as` 調整模組、函數或者類別的命名。"
   ]
  },
  {
   "cell_type": "markdown",
   "id": "signed-hollow",
   "metadata": {
    "slideshow": {
     "slide_type": "subslide"
    }
   },
   "source": [
    "## 使用 `import` 載入模組\n",
    "\n",
    "- 以 `module` 命名使用。\n",
    "- 使用模組中的函數、類別時都以 `module.function()` 或 `module.class()` 來參照命名。\n",
    "\n",
    "```python\n",
    "import module\n",
    "\n",
    "module.function()\n",
    "object = module.class()\n",
    "```"
   ]
  },
  {
   "cell_type": "code",
   "execution_count": 2,
   "id": "brave-upgrade",
   "metadata": {
    "slideshow": {
     "slide_type": "subslide"
    }
   },
   "outputs": [
    {
     "data": {
      "text/plain": [
       "'/home/jovyan/07-modules'"
      ]
     },
     "execution_count": 2,
     "metadata": {},
     "output_type": "execute_result"
    }
   ],
   "source": [
    "import os\n",
    "\n",
    "os.getcwd()"
   ]
  },
  {
   "cell_type": "code",
   "execution_count": 3,
   "id": "collectible-lindsay",
   "metadata": {},
   "outputs": [
    {
     "name": "stdout",
     "output_type": "stream",
     "text": [
      "2022-01-01\n"
     ]
    }
   ],
   "source": [
    "import datetime\n",
    "\n",
    "first_day_of_2022 = datetime.date(2022, 1, 1)\n",
    "print(first_day_of_2022)"
   ]
  },
  {
   "cell_type": "markdown",
   "id": "round-nicaragua",
   "metadata": {
    "slideshow": {
     "slide_type": "subslide"
    }
   },
   "source": [
    "## 使用 `from module import function/class` 載入模組中特定的函數或類別\n",
    "\n",
    "載入特定函數或類別，就直接以 `function()` 或 `class()` 來參照命名。\n",
    "\n",
    "```python\n",
    "from module import function\n",
    "from module import class\n",
    "\n",
    "function()\n",
    "object = class()\n",
    "```"
   ]
  },
  {
   "cell_type": "code",
   "execution_count": 4,
   "id": "inappropriate-external",
   "metadata": {
    "slideshow": {
     "slide_type": "subslide"
    }
   },
   "outputs": [
    {
     "data": {
      "text/plain": [
       "'/home/jovyan/07-modules'"
      ]
     },
     "execution_count": 4,
     "metadata": {},
     "output_type": "execute_result"
    }
   ],
   "source": [
    "from os import getcwd\n",
    "\n",
    "getcwd()"
   ]
  },
  {
   "cell_type": "code",
   "execution_count": 5,
   "id": "scenic-strategy",
   "metadata": {},
   "outputs": [
    {
     "name": "stdout",
     "output_type": "stream",
     "text": [
      "2022-01-01\n"
     ]
    }
   ],
   "source": [
    "from datetime import date\n",
    "\n",
    "first_day_of_2022 = date(2022, 1, 1)\n",
    "print(first_day_of_2022)"
   ]
  },
  {
   "cell_type": "markdown",
   "id": "infrared-spelling",
   "metadata": {
    "slideshow": {
     "slide_type": "subslide"
    }
   },
   "source": [
    "## 使用 `as` 調整模組、函數或者類別的命名\n",
    "\n",
    "```python\n",
    "import module as module_alias\n",
    "from module import function as function_alias\n",
    "from module import class as class_alias\n",
    "\n",
    "module_alias.function()\n",
    "function_alias()\n",
    "object = class_alias()\n",
    "```"
   ]
  },
  {
   "cell_type": "code",
   "execution_count": 6,
   "id": "joint-radar",
   "metadata": {
    "slideshow": {
     "slide_type": "subslide"
    }
   },
   "outputs": [
    {
     "name": "stdout",
     "output_type": "stream",
     "text": [
      "/home/jovyan/07-modules\n",
      "/home/jovyan/07-modules\n"
     ]
    }
   ],
   "source": [
    "import os as operating_system\n",
    "from os import getcwd as get_current_working_directory\n",
    "\n",
    "print(operating_system.getcwd())\n",
    "print(get_current_working_directory())"
   ]
  },
  {
   "cell_type": "code",
   "execution_count": 7,
   "id": "first-granny",
   "metadata": {},
   "outputs": [
    {
     "name": "stdout",
     "output_type": "stream",
     "text": [
      "2022-01-01\n",
      "2022-01-01\n"
     ]
    }
   ],
   "source": [
    "import datetime as dttm\n",
    "from datetime import date as dt\n",
    "\n",
    "first_day_of_2022 = dttm.date(2022, 1, 1)\n",
    "print(first_day_of_2022)\n",
    "first_day_of_2022 = dt(2022, 1, 1)\n",
    "print(first_day_of_2022)"
   ]
  },
  {
   "cell_type": "markdown",
   "id": "advised-owner",
   "metadata": {
    "slideshow": {
     "slide_type": "subslide"
    }
   },
   "source": [
    "## 如何決定模組載入的形式\n",
    "\n",
    "- `import module`\n",
    "- `import module as alias`\n",
    "- `from module import function/class`\n",
    "- `from module import function/class as alias`"
   ]
  },
  {
   "cell_type": "markdown",
   "id": "distinct-louisville",
   "metadata": {
    "slideshow": {
     "slide_type": "subslide"
    }
   },
   "source": [
    "## 如何決定模組載入的形式（續）\n",
    "\n",
    "- 依照模組說明文件（Documentation）中的範例決定。\n",
    "- 例如：使用 `os` 模組時採用 `import os`\n",
    "- 例如：使用 `datetime` 模組時採用 `from datetime import function/class`\n",
    "\n",
    "來源：<https://docs.python.org/3/library/os.html#file-object-creation>, <https://docs.python.org/3/library/datetime.html#examples-of-usage-date>"
   ]
  },
  {
   "cell_type": "code",
   "execution_count": 8,
   "id": "classical-ownership",
   "metadata": {
    "slideshow": {
     "slide_type": "subslide"
    }
   },
   "outputs": [
    {
     "data": {
      "text/plain": [
       "'/home/jovyan/07-modules'"
      ]
     },
     "execution_count": 8,
     "metadata": {},
     "output_type": "execute_result"
    }
   ],
   "source": [
    "import os\n",
    "\n",
    "os.getcwd()"
   ]
  },
  {
   "cell_type": "code",
   "execution_count": 9,
   "id": "powered-appraisal",
   "metadata": {},
   "outputs": [
    {
     "name": "stdout",
     "output_type": "stream",
     "text": [
      "2022-01-01\n"
     ]
    }
   ],
   "source": [
    "from datetime import date\n",
    "\n",
    "first_day_of_2022 = date(2022, 1, 1)\n",
    "print(first_day_of_2022)"
   ]
  },
  {
   "cell_type": "markdown",
   "id": "positive-thumb",
   "metadata": {
    "slideshow": {
     "slide_type": "slide"
    }
   },
   "source": [
    "## 關於路徑"
   ]
  },
  {
   "cell_type": "markdown",
   "id": "floral-debut",
   "metadata": {
    "slideshow": {
     "slide_type": "subslide"
    }
   },
   "source": [
    "## 模組存在的兩種形式：檔案或資料夾\n",
    "\n",
    "1. 檔案的名稱為模組名，副檔名為 `.py`，例如檔案 `module.py` 就是命名為 `module` 的模組。\n",
    "2. 資料夾的名稱為模組名，可以收納檔案形式的模組，例如資料夾 `library` 就是命名為 `library` 的模組。"
   ]
  },
  {
   "cell_type": "markdown",
   "id": "complicated-toolbox",
   "metadata": {
    "slideshow": {
     "slide_type": "subslide"
    }
   },
   "source": [
    "## 為什麼模組名稱可以被認得\n",
    "\n",
    "- Python 會搜尋標準模組的安裝路徑中是否有檔名為 `datetime.py`、`os.py`、`this.py` 或資料夾名稱 `this`、`os`、`datetime`（事實上這裡舉例的模組形式均為檔案名稱）。\n",
    "- 如果沒有，就會產生找不到模組錯誤（`ModuleNotFoundError`）。\n",
    "- 如果有，就會依據指令載入裡面全部或特定的函數與類別。"
   ]
  },
  {
   "cell_type": "code",
   "execution_count": 10,
   "id": "demanding-beads",
   "metadata": {},
   "outputs": [
    {
     "name": "stdout",
     "output_type": "stream",
     "text": [
      "No module named 'that'\n"
     ]
    }
   ],
   "source": [
    "# There is a this.py, but no that.py\n",
    "try:\n",
    "    import that\n",
    "except ModuleNotFoundError as error_message:\n",
    "    print(error_message)"
   ]
  },
  {
   "cell_type": "markdown",
   "id": "divided-isaac",
   "metadata": {
    "slideshow": {
     "slide_type": "subslide"
    }
   },
   "source": [
    "## 什麼是路徑\n",
    "\n",
    "> 路徑是一段用來標註檔案或資料夾在電腦中位置的文字。\n",
    "\n",
    "來源：<https://en.wikipedia.org/wiki/Path_(computing)>"
   ]
  },
  {
   "cell_type": "code",
   "execution_count": 11,
   "id": "according-trademark",
   "metadata": {
    "slideshow": {
     "slide_type": "-"
    }
   },
   "outputs": [
    {
     "data": {
      "text/plain": [
       "'/home/jovyan/07-modules'"
      ]
     },
     "execution_count": 11,
     "metadata": {},
     "output_type": "execute_result"
    }
   ],
   "source": [
    "import os\n",
    "\n",
    "os.getcwd() # path: current working directory"
   ]
  },
  {
   "cell_type": "markdown",
   "id": "acoustic-boring",
   "metadata": {
    "slideshow": {
     "slide_type": "subslide"
    }
   },
   "source": [
    "## 路徑的起點（根目錄）\n",
    "\n",
    "- Unix(macOS/Linux): `/`\n",
    "- Windows: `C:\\`\n",
    "- 課程所使用的 [JupyterLab](https://mybinder.org/v2/gh/datainpoint/classroom-hahow-pythonfiftyplus/HEAD) 根目錄為 `/`"
   ]
  },
  {
   "cell_type": "markdown",
   "id": "tight-scott",
   "metadata": {
    "slideshow": {
     "slide_type": "subslide"
    }
   },
   "source": [
    "## 預設的路徑（家目錄）\n",
    "\n",
    "- Unix(macOS/Linux): `/Users/username`\n",
    "- Windows: `C:\\Users\\username`\n",
    "- 課程所使用的 [JupyterLab](https://mybinder.org/v2/gh/datainpoint/classroom-hahow-pythonfiftyplus/HEAD) 家目錄為 `/home/jovyan`"
   ]
  },
  {
   "cell_type": "markdown",
   "id": "viral-compiler",
   "metadata": {
    "slideshow": {
     "slide_type": "subslide"
    }
   },
   "source": [
    "## 兩種路徑的標註方式\n",
    "\n",
    "1. 絕對路徑：從根目錄開始標註，例如 `/home/jovyan/mymodules/simplecalculator.py`\n",
    "2. 相對路徑：從工作目錄（Current working directory）開始標註，例如 `mymodules/simplecalculator.py`"
   ]
  },
  {
   "cell_type": "markdown",
   "id": "front-holiday",
   "metadata": {
    "slideshow": {
     "slide_type": "subslide"
    }
   },
   "source": [
    "## 標準模組的安裝路徑\n",
    "\n",
    "- 我們課程所使用的 [JupyterLab](https://mybinder.org/v2/gh/datainpoint/classroom-hahow-pythonfiftyplus/HEAD) 標準模組安裝在 `/srv/conda/envs/notebook/lib/python3.9`\n",
    "- 點選上方選單的 File -> New -> Terminal 開啟終端機。\n",
    "- 輸入 `cd /srv/conda/envs/notebook/lib/python3.9` 後按下 Enter\n",
    "- 輸入 `ls` 後按下 Enter"
   ]
  },
  {
   "cell_type": "markdown",
   "id": "helpful-difficulty",
   "metadata": {
    "slideshow": {
     "slide_type": "subslide"
    }
   },
   "source": [
    "## 可以看到 `datetime.py`、`os.py`、`this.py`\n",
    "\n",
    "![](modules.png)"
   ]
  },
  {
   "cell_type": "markdown",
   "id": "introductory-president",
   "metadata": {
    "slideshow": {
     "slide_type": "slide"
    }
   },
   "source": [
    "## 自行定義模組"
   ]
  },
  {
   "cell_type": "markdown",
   "id": "flying-country",
   "metadata": {
    "slideshow": {
     "slide_type": "subslide"
    }
   },
   "source": [
    "## 如何定義檔案形式的模組\n",
    "\n",
    "- 將函數、類別撰寫在副檔名為 `.py` 的檔案中。\n",
    "- 檔案名稱就是模組命名，其中的函數、類別都以 `module.function()` 或 `module.class` 來參照命名。"
   ]
  },
  {
   "cell_type": "markdown",
   "id": "behind-vehicle",
   "metadata": {
    "slideshow": {
     "slide_type": "subslide"
    }
   },
   "source": [
    "## 在 `/home/jovyan` 新增 `simplecalculator.py`"
   ]
  },
  {
   "cell_type": "code",
   "execution_count": null,
   "id": "periodic-wallpaper",
   "metadata": {},
   "outputs": [],
   "source": [
    "# simplecalculator.py\n",
    "class SimpleCalculator:\n",
    "    \"\"\"\n",
    "    This class creates a simple calculator that has 2 attributes and 1 method.\n",
    "    \"\"\"\n",
    "    def __init__(self, a, b):\n",
    "        self.a = a\n",
    "        self.b = b\n",
    "    def __repr__(self):\n",
    "        out = \"a: {}, b: {}\".format(self.a, self.b)\n",
    "        return out\n",
    "    def add(self):\n",
    "        out = self.a + self.b\n",
    "        return out"
   ]
  },
  {
   "cell_type": "markdown",
   "id": "italian-madness",
   "metadata": {
    "slideshow": {
     "slide_type": "subslide"
    }
   },
   "source": [
    "## 在 `/home/jovyan` 新增一個空白筆記本看看是否能載入自行定義模組 `simplecalculator`\n",
    "\n",
    "```python\n",
    "import simplecalculator\n",
    "\n",
    "simple_calculator = simplecalculator.SimpleCalculator(55, 66)\n",
    "simple_calculator.add()\n",
    "```"
   ]
  },
  {
   "cell_type": "markdown",
   "id": "fitted-emergency",
   "metadata": {
    "slideshow": {
     "slide_type": "subslide"
    }
   },
   "source": [
    "## 如何定義資料夾形式的模組\n",
    "\n",
    "- 將函數、類別撰寫在副檔名為 `.py` 的檔案中。\n",
    "- 將副檔名為 `.py` 的檔案存在資料夾中。\n",
    "- 資料夾名稱就是模組命名，其中的函數、類別都以 `library.module.function()` 或 `library.module.class` 來參照命名。"
   ]
  },
  {
   "cell_type": "markdown",
   "id": "disabled-singing",
   "metadata": {
    "slideshow": {
     "slide_type": "subslide"
    }
   },
   "source": [
    "## 在 `/home/jovyan` 新增 `mymodules/simplecalculator.py`"
   ]
  },
  {
   "cell_type": "code",
   "execution_count": null,
   "id": "seven-mitchell",
   "metadata": {},
   "outputs": [],
   "source": [
    "# simplecalculator.py\n",
    "class SimpleCalculator:\n",
    "    \"\"\"\n",
    "    This class creates a simple calculator that has 2 attributes and 1 method.\n",
    "    \"\"\"\n",
    "    def __init__(self, a, b):\n",
    "        self.a = a\n",
    "        self.b = b\n",
    "    def __repr__(self):\n",
    "        out = \"a: {}, b: {}\".format(self.a, self.b)\n",
    "        return out\n",
    "    def add(self):\n",
    "        out = self.a + self.b\n",
    "        return out"
   ]
  },
  {
   "cell_type": "markdown",
   "id": "working-scheme",
   "metadata": {
    "slideshow": {
     "slide_type": "subslide"
    }
   },
   "source": [
    "## 在 `/home/jovyan` 新增一個空白的筆記本看看是否能載入自行定義模組 `mymodules` 中的 `simplecalculator`\n",
    "\n",
    "```python\n",
    "from mymodules import simplecalculator\n",
    "\n",
    "simple_calculator = simplecalculator.SimpleCalculator(55, 66)\n",
    "simple_calculator.add()\n",
    "```"
   ]
  },
  {
   "cell_type": "markdown",
   "id": "signal-hostel",
   "metadata": {
    "slideshow": {
     "slide_type": "slide"
    }
   },
   "source": [
    "## 重點統整\n",
    "\n",
    "- 模組（Module）指的是以檔案或資料夾形式，來組織 Python 的函數以及類別。\n",
    "- 模組有三個來源\n",
    "    - 標準模組。\n",
    "    - 來自使用者的定義。\n",
    "    - 第三方模組。"
   ]
  },
  {
   "cell_type": "markdown",
   "id": "adolescent-bunch",
   "metadata": {
    "slideshow": {
     "slide_type": "subslide"
    }
   },
   "source": [
    "## 重點統整（續）\n",
    "\n",
    "- 使用 `import`、`from` 與 `as` 保留字載入模組全部的函數、類別或者特定函數、類別。\n",
    "- 依照模組說明文件（Documentation）中的範例決定載入形式。\n",
    "- 定義檔案形式的模組：將函數、類別撰寫在副檔名為 `.py` 的檔案中。\n",
    "- 定義資料夾形式的模組：將函數、類別撰寫在副檔名為 `.py` 的檔案中並將該檔案存在資料夾中。"
   ]
  }
 ],
 "metadata": {
  "celltoolbar": "Slideshow",
  "kernelspec": {
   "display_name": "Python 3",
   "language": "python",
   "name": "python3"
  },
  "language_info": {
   "codemirror_mode": {
    "name": "ipython",
    "version": 3
   },
   "file_extension": ".py",
   "mimetype": "text/x-python",
   "name": "python",
   "nbconvert_exporter": "python",
   "pygments_lexer": "ipython3",
   "version": "3.8.5"
  }
 },
 "nbformat": 4,
 "nbformat_minor": 5
}
